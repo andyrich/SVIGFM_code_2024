{
 "cells": [
  {
   "cell_type": "code",
   "execution_count": null,
   "id": "896b9ef9-e0b9-4901-8cbc-cd8188dd75d3",
   "metadata": {},
   "outputs": [],
   "source": [
    "import pyemu\n",
    "import conda_scripts.load_datasets as lsd\n",
    "import conda_scripts.sv_budget as sv\n",
    "import os\n",
    "import pandas as pd\n",
    "import geopandas as gpd\n",
    "import numpy as np\n",
    "\n",
    "import matplotlib.pyplot as plt"
   ]
  },
  {
   "cell_type": "code",
   "execution_count": null,
   "id": "51e42ee0-7480-4233-82cd-e2aa5d1d1674",
   "metadata": {},
   "outputs": [],
   "source": [
    "workspace = lsd.model_info.get_mod('son', True)\n",
    "workspace"
   ]
  },
  {
   "cell_type": "code",
   "execution_count": null,
   "id": "3912bc2e-0038-440a-8053-f78fd2c91006",
   "metadata": {},
   "outputs": [],
   "source": [
    "template_ws = os.path.join(\"temp\")"
   ]
  },
  {
   "cell_type": "code",
   "execution_count": null,
   "id": "ee1bf495-a8d6-42eb-8381-dfc54c30d0a9",
   "metadata": {},
   "outputs": [],
   "source": [
    "ml = sv.load_sv_model.get_model(workspace)"
   ]
  },
  {
   "cell_type": "code",
   "execution_count": null,
   "id": "5011497d-33c6-49cd-bbbf-249da72f56c9",
   "metadata": {},
   "outputs": [],
   "source": [
    "we = pd.read_csv(\"C:\\GSP\\sv\\model\\SV_mod_V2_owhm2\\master\\FMP_update\\sv_owhm_wells_all_on_05142024.in\", sep = \"\\s+\")"
   ]
  },
  {
   "cell_type": "code",
   "execution_count": null,
   "id": "18d236a5-e520-498f-8469-fbaaf55c4468",
   "metadata": {},
   "outputs": [],
   "source": [
    "we.layer.value_counts()"
   ]
  },
  {
   "cell_type": "code",
   "execution_count": null,
   "id": "471b3eab-c658-4686-8d77-0c4c4794c316",
   "metadata": {},
   "outputs": [],
   "source": [
    "data = {'i': [1, 2, 3], 'j': [4, 5, 6]}\n",
    "data = {'i': [1, ], 'j': [4,]}\n",
    "df = pd.DataFrame(data)\n",
    "\n",
    "# List to store new rows\n",
    "new_rows = []\n",
    "\n",
    "# Loop through each row in the DataFrame\n",
    "for _, row in df.iterrows():\n",
    "    i, j = row['i'], row['j']\n",
    "    \n",
    "    # Create 5 new rows for each existing row\n",
    "    for k in [-1,0,1]:\n",
    "        for v in [-1,0,1]:\n",
    "            new_row = {'i': i + k, 'j': j + v}\n",
    "            new_rows.append(new_row)\n",
    "\n",
    "# Create a new DataFrame with the new rows\n",
    "new_df = pd.DataFrame(new_rows)\n",
    "\n",
    "# Combine the original DataFrame with the new rows\n",
    "combined_df = pd.concat([df, new_df], ignore_index=True)"
   ]
  },
  {
   "cell_type": "code",
   "execution_count": null,
   "id": "0ecc2c68-bfe4-44be-a28c-bbe639cfe069",
   "metadata": {},
   "outputs": [],
   "source": [
    "import conda_scripts"
   ]
  },
  {
   "cell_type": "code",
   "execution_count": null,
   "id": "223c0fe1-9130-41fa-93ef-eecccadb2002",
   "metadata": {},
   "outputs": [],
   "source": [
    "wshed = conda_scripts.load_datasets.load_watersheds.load('son')"
   ]
  },
  {
   "cell_type": "code",
   "execution_count": null,
   "id": "b4a24084-c154-4e96-bab1-d2c9e697d4e1",
   "metadata": {},
   "outputs": [],
   "source": [
    "dwr = gpd.read_file(r\"T:\\arich\\GIS\\shapefiles\\Wells\\i07_WellReportStatsBySection\\i07_WellCompletionReports\\i07_WellCompletionReports.shp\")"
   ]
  },
  {
   "cell_type": "code",
   "execution_count": null,
   "id": "8b2d7c1f-b4ce-4c67-bf46-87207d57e744",
   "metadata": {},
   "outputs": [],
   "source": [
    "dwrc = gpd.clip(dwr.to_crs(2226), wshed)"
   ]
  },
  {
   "cell_type": "code",
   "execution_count": null,
   "id": "3e4628a9-a37d-41fe-ae90-ccf5939b93aa",
   "metadata": {},
   "outputs": [],
   "source": [
    "dwrc.plot()"
   ]
  },
  {
   "cell_type": "code",
   "execution_count": null,
   "id": "5d0e76f9-14a6-434e-a6fb-280a7109cb7c",
   "metadata": {},
   "outputs": [],
   "source": [
    "dwrc"
   ]
  },
  {
   "cell_type": "code",
   "execution_count": null,
   "id": "93c7c237-4913-46f3-802d-5c6f074ca59f",
   "metadata": {},
   "outputs": [],
   "source": [
    "farms"
   ]
  },
  {
   "cell_type": "code",
   "execution_count": null,
   "id": "91db3be3-b8fd-4c9c-ad59-fe7cbb50c9a6",
   "metadata": {},
   "outputs": [],
   "source": [
    "farms = np.genfromtxt(r\"C:\\GSP\\sv\\model\\update_2024\\scripts\\temp\\fmp_input\\farms\\farm2016.dat\", delimiter=' ')\n",
    "farms[(farms==0) | (farms>=81)] = np.nan\n",
    "plt.imshow(farms)\n",
    "farms = conda_scripts.arich_functions.array2rc(farms)\n",
    "farms = farms.loc[farms.value>0]\n",
    "\n",
    "farms"
   ]
  },
  {
   "cell_type": "code",
   "execution_count": null,
   "id": "87a1efcf-b4f7-4436-b023-9ae2991acafb",
   "metadata": {},
   "outputs": [],
   "source": [
    "lrc = conda_scripts.arich_functions.array2rc(ml.bas6.ibound.array[0])\n",
    "lrc = lrc.loc[lrc.value>0]\n",
    "\n",
    "mg = ml.modelgrid\n",
    "mod = conda_scripts.arich_functions.get_active_mod_df(mg, ml)\n",
    "lrc = pd.merge(lrc, mod.drop(columns = ['row','col']), on = ['i', 'j'])\n",
    "lrc = gpd.GeoDataFrame(lrc, geometry = 'geometry', crs = 2226)\n",
    "lrc = gpd.sjoin(lrc, dwrc)"
   ]
  },
  {
   "cell_type": "code",
   "execution_count": null,
   "id": "adfdd06b-66ce-4f79-a3ca-0af656c56f79",
   "metadata": {},
   "outputs": [],
   "source": [
    "lrc.loc[:,['DomWellCou', 'DomWellDep',\n",
    "       'DomWellD_1', 'DomWellD_2', ]].drop_duplicates()"
   ]
  },
  {
   "cell_type": "code",
   "execution_count": null,
   "id": "d3705525-000d-4af2-b113-126694c98706",
   "metadata": {},
   "outputs": [],
   "source": [
    "lrc.filter(regex = 'PrdWellD')"
   ]
  },
  {
   "cell_type": "code",
   "execution_count": null,
   "id": "e012d451-dae2-4f29-aff6-6e5aae66e5fb",
   "metadata": {},
   "outputs": [],
   "source": []
  },
  {
   "cell_type": "code",
   "execution_count": null,
   "id": "0ece410a-4464-4519-9b95-1be8a22f19a6",
   "metadata": {},
   "outputs": [],
   "source": [
    "lrc = lrc.rename(columns = \n",
    "{\"PrdWellD_2\":'Max Domestic Well Depth',\n",
    "\"PrdWellDep\":'Average Domestic Well Depth',\n",
    "\"PrdWellD_1\": 'Min Domestic Well Depth'})"
   ]
  },
  {
   "cell_type": "code",
   "execution_count": null,
   "id": "8beba69c-66ba-423c-a371-a4be5e842278",
   "metadata": {},
   "outputs": [],
   "source": [
    "# lrc = lrc.rename(columns = \n",
    "# {\"DomWellD_2\":'Max Domestic Well Depth',\n",
    "# \"DomWellDep\":'Average Domestic Well Depth',\n",
    "# \"DomWellD_1\": 'Min Domestic Well Depth'})"
   ]
  },
  {
   "cell_type": "code",
   "execution_count": null,
   "id": "48d664b2-5b55-447f-9dd8-74f10c3eb02a",
   "metadata": {},
   "outputs": [],
   "source": [
    "lrc = lrc.loc[lrc.loc[:,'Average Domestic Well Depth'].notnull()]"
   ]
  },
  {
   "cell_type": "code",
   "execution_count": null,
   "id": "9b84e08a-137f-4042-a72f-87f011ef319d",
   "metadata": {},
   "outputs": [],
   "source": [
    "lrc = conda_scripts.utils.get_pump_layer.wrapper_get_lay(lrc, ml, False)\n",
    "f = ml.modelgrid.get_lrc([lrc.mfnode])\n",
    "lrc.loc[:,'layer'] = f[0][0] + 1"
   ]
  },
  {
   "cell_type": "code",
   "execution_count": null,
   "id": "0e08258d-5509-4952-bbe9-296d0cdff910",
   "metadata": {},
   "outputs": [],
   "source": []
  },
  {
   "cell_type": "code",
   "execution_count": null,
   "id": "4735b533-e055-4feb-b035-6d8a76e14e79",
   "metadata": {},
   "outputs": [],
   "source": []
  },
  {
   "cell_type": "code",
   "execution_count": null,
   "id": "abf77e20-baa5-4e79-b7d1-312ddc564a08",
   "metadata": {},
   "outputs": [],
   "source": [
    "lrc = pd.merge(lrc, farms.rename(columns ={'value':'farm'}).drop(\n",
    "    columns = ['row', 'column']), on = ['i','j'], how = 'left')"
   ]
  },
  {
   "cell_type": "code",
   "execution_count": null,
   "id": "eb2d2833-576e-4387-973d-66b7241cac49",
   "metadata": {},
   "outputs": [],
   "source": [
    "cols = '#name\tfarm\tlayer\trow\tcolumn\tQMAX\tdate_start\tdate_end'\n",
    "cols = cols.split()\n",
    "cols"
   ]
  },
  {
   "cell_type": "code",
   "execution_count": null,
   "id": "b3de44b5-8ec2-4765-b765-3d7a20f02133",
   "metadata": {},
   "outputs": [],
   "source": [
    "fi = lrc.reindex(columns = cols)\n",
    "fi.loc[:,'#name'] = 'fmp'+fi.index.astype(str)\n",
    "fi.loc[:,'QMAX'] = 1e6\n",
    "fi.loc[:,'date_start'] = 1\n",
    "fi.loc[:,'date_end'] = 586\n",
    "fi.head()"
   ]
  },
  {
   "cell_type": "code",
   "execution_count": null,
   "id": "cb8ca908-5a3d-44d5-8955-11cd91107657",
   "metadata": {},
   "outputs": [],
   "source": [
    "fi = fi.loc[fi.farm.notnull()]"
   ]
  },
  {
   "cell_type": "code",
   "execution_count": null,
   "id": "72a7accb-37c6-4e21-ab38-63ed40e32915",
   "metadata": {},
   "outputs": [],
   "source": [
    "fi = fi.astype({'farm':int,\n",
    "          'date_start':int,\n",
    "          'date_end':int})"
   ]
  },
  {
   "cell_type": "code",
   "execution_count": null,
   "id": "9ddad5cf-1e94-4daf-a6f5-a9144be2363b",
   "metadata": {},
   "outputs": [],
   "source": [
    "fi.to_csv(r\"C:\\GSP\\sv\\model\\SV_mod_V2_owhm2\\master\\FMP_update\\allcropsfarms_on_06262024.in\",index = False)"
   ]
  },
  {
   "cell_type": "code",
   "execution_count": null,
   "id": "8a44f123-70f0-4729-8ac6-92ed5a7aeb85",
   "metadata": {},
   "outputs": [],
   "source": [
    "fi.layer.value_counts()"
   ]
  },
  {
   "cell_type": "code",
   "execution_count": null,
   "id": "e1127cc1-e9c4-4b2e-abba-46bc15d87bd4",
   "metadata": {},
   "outputs": [],
   "source": []
  }
 ],
 "metadata": {
  "kernelspec": {
   "display_name": "Python 3 (ipykernel)",
   "language": "python",
   "name": "python3"
  },
  "language_info": {
   "codemirror_mode": {
    "name": "ipython",
    "version": 3
   },
   "file_extension": ".py",
   "mimetype": "text/x-python",
   "name": "python",
   "nbconvert_exporter": "python",
   "pygments_lexer": "ipython3",
   "version": "3.9.19"
  }
 },
 "nbformat": 4,
 "nbformat_minor": 5
}
