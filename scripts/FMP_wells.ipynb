{
 "cells": [
  {
   "cell_type": "code",
   "execution_count": null,
   "id": "0",
   "metadata": {},
   "outputs": [],
   "source": [
    "import pyemu\n",
    "import conda_scripts.load_datasets as lsd\n",
    "import conda_scripts.sv_budget as sv\n",
    "import os\n",
    "import pandas as pd\n",
    "import geopandas as gpd\n",
    "import numpy as np\n",
    "\n",
    "import matplotlib.pyplot as plt"
   ]
  },
  {
   "cell_type": "code",
   "execution_count": null,
   "id": "1",
   "metadata": {},
   "outputs": [],
   "source": [
    "workspace = lsd.model_info.get_mod('son', True)\n",
    "workspace"
   ]
  },
  {
   "cell_type": "code",
   "execution_count": null,
   "id": "2",
   "metadata": {},
   "outputs": [],
   "source": [
    "template_ws = os.path.join(\"temp\")"
   ]
  },
  {
   "cell_type": "code",
   "execution_count": null,
   "id": "3",
   "metadata": {},
   "outputs": [],
   "source": [
    "ml = sv.load_sv_model.get_model(workspace)"
   ]
  },
  {
   "cell_type": "code",
   "execution_count": null,
   "id": "4",
   "metadata": {},
   "outputs": [],
   "source": [
    "we = pd.read_csv(\"C:\\GSP\\sv\\model\\SV_mod_V2_owhm2\\master\\FMP_update\\sv_owhm_wells_all_on_05142024.in\", sep = \"\\s+\")"
   ]
  },
  {
   "cell_type": "code",
   "execution_count": null,
   "id": "5",
   "metadata": {},
   "outputs": [],
   "source": [
    "we.layer.value_counts()"
   ]
  },
  {
   "cell_type": "code",
   "execution_count": null,
   "id": "6",
   "metadata": {},
   "outputs": [],
   "source": [
    "data = {'i': [1, 2, 3], 'j': [4, 5, 6]}\n",
    "data = {'i': [1, ], 'j': [4,]}\n",
    "df = pd.DataFrame(data)\n",
    "\n",
    "# List to store new rows\n",
    "new_rows = []\n",
    "\n",
    "# Loop through each row in the DataFrame\n",
    "for _, row in df.iterrows():\n",
    "    i, j = row['i'], row['j']\n",
    "    \n",
    "    # Create 5 new rows for each existing row\n",
    "    for k in [-1,0,1]:\n",
    "        for v in [-1,0,1]:\n",
    "            new_row = {'i': i + k, 'j': j + v}\n",
    "            new_rows.append(new_row)\n",
    "\n",
    "# Create a new DataFrame with the new rows\n",
    "new_df = pd.DataFrame(new_rows)\n",
    "\n",
    "# Combine the original DataFrame with the new rows\n",
    "combined_df = pd.concat([df, new_df], ignore_index=True)"
   ]
  },
  {
   "cell_type": "code",
   "execution_count": null,
   "id": "7",
   "metadata": {},
   "outputs": [],
   "source": [
    "import conda_scripts"
   ]
  },
  {
   "cell_type": "code",
   "execution_count": null,
   "id": "8",
   "metadata": {},
   "outputs": [],
   "source": [
    "wshed = conda_scripts.load_datasets.load_watersheds.load('son')"
   ]
  },
  {
   "cell_type": "code",
   "execution_count": null,
   "id": "9",
   "metadata": {},
   "outputs": [],
   "source": [
    "dwr = gpd.read_file(r\"T:\\arich\\GIS\\shapefiles\\Wells\\i07_WellReportStatsBySection\\i07_WellCompletionReports\\i07_WellCompletionReports.shp\")"
   ]
  },
  {
   "cell_type": "code",
   "execution_count": null,
   "id": "10",
   "metadata": {},
   "outputs": [],
   "source": [
    "dwrc = gpd.clip(dwr.to_crs(2226), wshed)"
   ]
  },
  {
   "cell_type": "code",
   "execution_count": null,
   "id": "11",
   "metadata": {},
   "outputs": [],
   "source": [
    "dwrc.plot()"
   ]
  },
  {
   "cell_type": "code",
   "execution_count": null,
   "id": "12",
   "metadata": {},
   "outputs": [],
   "source": [
    "dwrc"
   ]
  },
  {
   "cell_type": "code",
   "execution_count": null,
   "id": "13",
   "metadata": {},
   "outputs": [],
   "source": [
    "workspace = lsd.model_info.get_mod('son', True)\n"
   ]
  },
  {
   "cell_type": "code",
   "execution_count": null,
   "id": "14",
   "metadata": {},
   "outputs": [],
   "source": [
    "farms.value.value_counts().sort_index().loc[50:90]"
   ]
  },
  {
   "cell_type": "code",
   "execution_count": null,
   "id": "15",
   "metadata": {},
   "outputs": [],
   "source": [
    "import flopy"
   ]
  },
  {
   "cell_type": "code",
   "execution_count": null,
   "id": "16",
   "metadata": {},
   "outputs": [],
   "source": [
    "farms = np.genfromtxt(os.path.join(workspace,\"fmp_input\\\\farms\\\\farm2016.dat\"), delimiter=' ')\n",
    "farms[(farms==0) | (farms>=69)] = np.nan\n",
    "\n",
    "fig = plt.figure(dpi = 250, figsize = (8.5,11))\n",
    "mm = conda_scripts.make_map.make_map('farms')\n",
    "ax = mm.plotloc(fig, locname = 'SON_MOD')\n",
    "\n",
    "Map = flopy.plot.PlotMapView(ml,ax = ax)\n",
    "\n",
    "Map.plot_array(farms)\n",
    "farms = conda_scripts.arich_functions.array2rc(farms)\n",
    "farms = farms.loc[farms.value>0]\n",
    "\n",
    "ml"
   ]
  },
  {
   "cell_type": "code",
   "execution_count": null,
   "id": "17",
   "metadata": {},
   "outputs": [],
   "source": [
    "lrc = conda_scripts.arich_functions.array2rc(ml.bas6.ibound.array[0])\n",
    "lrc = lrc.loc[lrc.value>0]\n",
    "\n",
    "mg = ml.modelgrid\n",
    "mod = conda_scripts.arich_functions.get_active_mod_df(mg, ml)\n",
    "lrc = pd.merge(lrc, mod.drop(columns = ['row','col']), on = ['i', 'j'])\n",
    "lrc = gpd.GeoDataFrame(lrc, geometry = 'geometry', crs = 2226)\n",
    "lrc = gpd.sjoin(lrc, dwrc)"
   ]
  },
  {
   "cell_type": "code",
   "execution_count": null,
   "id": "18",
   "metadata": {},
   "outputs": [],
   "source": [
    "lrc.loc[:,['DomWellCou', 'DomWellDep',\n",
    "       'DomWellD_1', 'DomWellD_2', ]].drop_duplicates()"
   ]
  },
  {
   "cell_type": "code",
   "execution_count": null,
   "id": "19",
   "metadata": {},
   "outputs": [],
   "source": [
    "lrc.filter(regex = 'PrdWellD')"
   ]
  },
  {
   "cell_type": "code",
   "execution_count": null,
   "id": "20",
   "metadata": {},
   "outputs": [],
   "source": []
  },
  {
   "cell_type": "code",
   "execution_count": null,
   "id": "21",
   "metadata": {},
   "outputs": [],
   "source": [
    "lrc = lrc.rename(columns = \n",
    "{\"PrdWellD_2\":'Max Domestic Well Depth',\n",
    "\"PrdWellDep\":'Average Domestic Well Depth',\n",
    "\"PrdWellD_1\": 'Min Domestic Well Depth'})"
   ]
  },
  {
   "cell_type": "code",
   "execution_count": null,
   "id": "22",
   "metadata": {},
   "outputs": [],
   "source": [
    "# lrc = lrc.rename(columns = \n",
    "# {\"DomWellD_2\":'Max Domestic Well Depth',\n",
    "# \"DomWellDep\":'Average Domestic Well Depth',\n",
    "# \"DomWellD_1\": 'Min Domestic Well Depth'})"
   ]
  },
  {
   "cell_type": "code",
   "execution_count": null,
   "id": "23",
   "metadata": {},
   "outputs": [],
   "source": [
    "lrc = lrc.loc[lrc.loc[:,'Average Domestic Well Depth'].notnull()]"
   ]
  },
  {
   "cell_type": "code",
   "execution_count": null,
   "id": "24",
   "metadata": {},
   "outputs": [],
   "source": [
    "lrc = conda_scripts.utils.get_pump_layer.wrapper_get_lay(lrc, ml, False)\n",
    "f = ml.modelgrid.get_lrc([lrc.mfnode])\n",
    "lrc.loc[:,'layer'] = f[0][0] + 1"
   ]
  },
  {
   "cell_type": "code",
   "execution_count": null,
   "id": "25",
   "metadata": {},
   "outputs": [],
   "source": []
  },
  {
   "cell_type": "code",
   "execution_count": null,
   "id": "26",
   "metadata": {},
   "outputs": [],
   "source": []
  },
  {
   "cell_type": "code",
   "execution_count": null,
   "id": "27",
   "metadata": {},
   "outputs": [],
   "source": [
    "lrc = pd.merge(lrc, farms.rename(columns ={'value':'farm'}).drop(\n",
    "    columns = ['row', 'column']), on = ['i','j'], how = 'left')"
   ]
  },
  {
   "cell_type": "code",
   "execution_count": null,
   "id": "28",
   "metadata": {},
   "outputs": [],
   "source": [
    "cols = '#name\tfarm\tlayer\trow\tcolumn\tQMAX\tdate_start\tdate_end'\n",
    "cols = cols.split()\n",
    "cols"
   ]
  },
  {
   "cell_type": "code",
   "execution_count": null,
   "id": "29",
   "metadata": {},
   "outputs": [],
   "source": [
    "fi = lrc.reindex(columns = cols)\n",
    "fi.loc[:,'#name'] = 'fmp'+fi.index.astype(str)\n",
    "fi.loc[:,'QMAX'] = 1e6\n",
    "fi.loc[:,'date_start'] = 1\n",
    "fi.loc[:,'date_end'] = 586\n",
    "fi.head()"
   ]
  },
  {
   "cell_type": "code",
   "execution_count": null,
   "id": "30",
   "metadata": {},
   "outputs": [],
   "source": [
    "fi = fi.loc[fi.farm.notnull()]"
   ]
  },
  {
   "cell_type": "code",
   "execution_count": null,
   "id": "31",
   "metadata": {},
   "outputs": [],
   "source": [
    "fi = fi.astype({'farm':int,\n",
    "          'date_start':int,\n",
    "          'date_end':int})\n",
    "\n",
    "fi = fi.sort_values('farm')"
   ]
  },
  {
   "cell_type": "code",
   "execution_count": null,
   "id": "32",
   "metadata": {},
   "outputs": [],
   "source": [
    "fi.to_csv(r\"C:\\GSP\\sv\\model\\SV_mod_V2_owhm2\\master\\FMP_update\\allcropsfarms_on_06262024.in\",index = False)"
   ]
  },
  {
   "cell_type": "code",
   "execution_count": null,
   "id": "33",
   "metadata": {},
   "outputs": [],
   "source": [
    "fi.layer.value_counts()"
   ]
  },
  {
   "cell_type": "code",
   "execution_count": null,
   "id": "34",
   "metadata": {},
   "outputs": [],
   "source": [
    "fi.farm.value_counts()"
   ]
  },
  {
   "cell_type": "code",
   "execution_count": null,
   "id": "35",
   "metadata": {},
   "outputs": [],
   "source": []
  }
 ],
 "metadata": {
  "kernelspec": {
   "display_name": "Python 3 (ipykernel)",
   "language": "python",
   "name": "python3"
  },
  "language_info": {
   "codemirror_mode": {
    "name": "ipython",
    "version": 3
   },
   "file_extension": ".py",
   "mimetype": "text/x-python",
   "name": "python",
   "nbconvert_exporter": "python",
   "pygments_lexer": "ipython3",
   "version": "3.9.19"
  }
 },
 "nbformat": 4,
 "nbformat_minor": 5
}
