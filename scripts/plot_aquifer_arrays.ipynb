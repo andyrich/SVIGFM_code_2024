{
 "cells": [
  {
   "cell_type": "code",
   "execution_count": null,
   "id": "0",
   "metadata": {},
   "outputs": [],
   "source": [
    "import forward_run\n",
    "import flopy\n",
    "import os\n",
    "import helpers\n",
    "import matplotlib.pyplot as plt\n",
    "import conda_scripts\n",
    "import conda_scripts.load_datasets as lsd"
   ]
  },
  {
   "cell_type": "code",
   "execution_count": null,
   "id": "1",
   "metadata": {},
   "outputs": [],
   "source": []
  },
  {
   "cell_type": "code",
   "execution_count": null,
   "id": "2",
   "metadata": {},
   "outputs": [],
   "source": [
    "model_ws = lsd.model_info.get_mod('son', True)\n",
    "model_ws = 'pestaws_lager'"
   ]
  },
  {
   "cell_type": "code",
   "execution_count": null,
   "id": "3",
   "metadata": {},
   "outputs": [],
   "source": [
    "main = 'postprocess'\n",
    "pstname =  'lager'\n",
    "fold =  'lager'\n",
    "\n",
    "out_folder = os.path.join(main, fold)\n",
    "if not os.path.exists(out_folder):\n",
    "    os.makedirs(out_folder, exist_ok =True)"
   ]
  },
  {
   "cell_type": "code",
   "execution_count": null,
   "id": "4",
   "metadata": {},
   "outputs": [],
   "source": [
    "sr = helpers.get_sr()"
   ]
  },
  {
   "cell_type": "code",
   "execution_count": null,
   "id": "5",
   "metadata": {},
   "outputs": [],
   "source": [
    "ml = conda_scripts.sv_budget.load_sv_model.get_model(model_ws)"
   ]
  },
  {
   "cell_type": "code",
   "execution_count": null,
   "id": "6",
   "metadata": {},
   "outputs": [],
   "source": [
    "import numpy as np"
   ]
  },
  {
   "cell_type": "code",
   "execution_count": null,
   "id": "7",
   "metadata": {},
   "outputs": [],
   "source": []
  },
  {
   "cell_type": "code",
   "execution_count": null,
   "id": "8",
   "metadata": {},
   "outputs": [],
   "source": []
  },
  {
   "cell_type": "code",
   "execution_count": null,
   "id": "9",
   "metadata": {},
   "outputs": [],
   "source": []
  },
  {
   "cell_type": "code",
   "execution_count": null,
   "id": "10",
   "metadata": {},
   "outputs": [],
   "source": [
    "def _add_inset(masked_data, ax):\n",
    "    # Ravel and remove NaNs\n",
    "    ravelled_data = masked_data.ravel()\n",
    "    ravelled_data = ravelled_data[~ravelled_data.mask]\n",
    "    \n",
    "    # Take the log of the values\n",
    "    log_values = np.log10(ravelled_data)\n",
    "    \n",
    "    # Create the inset axes for the histogram\n",
    "    inset_ax = ax.inset_axes([0.7, 0.7, 0.3, .3], transform=ax.transAxes)\n",
    "    inset_ax.hist(log_values, bins=30, color='orange')\n",
    "    # Set the y-axis labels to the right side of the inset axes\n",
    "    inset_ax.yaxis.tick_right()"
   ]
  },
  {
   "cell_type": "code",
   "execution_count": null,
   "id": "11",
   "metadata": {},
   "outputs": [],
   "source": [
    "prefix = forward_run.get_prefix_dict_for_pilot_points()\n",
    "prefix"
   ]
  },
  {
   "cell_type": "code",
   "execution_count": null,
   "id": "12",
   "metadata": {},
   "outputs": [],
   "source": [
    "import cartopy.crs as ccrs\n",
    "import matplotlib.colorbar as colorbar\n",
    "from matplotlib.colors import LogNorm\n",
    "\n",
    "os.makedirs(os.path.join(out_folder,'array_explainer'), exist_ok = True)\n",
    "\n",
    "\n",
    "\n",
    "\n",
    "for layer, props in prefix.items():\n",
    "    for prop in props:\n",
    "        \n",
    "        ibound = ml.bas6.ibound.array[layer]\n",
    "        \n",
    "        \n",
    "        print(f'{layer} {prop}')\n",
    "        out, lay, mult, hk_arr,zmult =  forward_run.write_pilot_point(layer, prop, model_ws, skip_writing_output = True)\n",
    "        \n",
    "        d = {'Final Array':out, \"Entire Zone\":zmult, \"Zone Multiplier\":mult, \"Pilot Point\":hk_arr}\n",
    "\n",
    "        if prop.lower()=='sy1':\n",
    "            continue\n",
    "            \n",
    "        num = 1\n",
    "        fig = plt.figure(figsize=(8.5,11))\n",
    "        fig.suptitle(f\"Layer {layer+1} {prop}\")\n",
    "        for key, array in d.items() :\n",
    "            \n",
    "            ax = plt.subplot(2, 2, num, projection=ccrs.epsg(2226))\n",
    "            ax.set_title(key)\n",
    "            # mm = conda_scripts.make_map.make_map(f\"Layer {layer+1}, Aquifer Property: {prop}\")\n",
    "            # ax = mm.plotloc(fig, locname = 'SON_MOD')\n",
    "            array = np.ma.masked_array(array, mask = ibound ==0)\n",
    "            # Set up the normalization using LogNorm\n",
    "            norm = LogNorm(vmin=10 ** np.floor(np.log10(array.min())),\n",
    "                           vmax=10 ** np.ceil(np.log10(array.max())))\n",
    "            c = ax.pcolormesh(sr.xcentergrid,sr.ycentergrid,array,alpha=0.5, norm = norm)\n",
    "            conda_scripts.arich_functions.add_basemaps(ax)\n",
    "            num+=1\n",
    "            # ax.scatter(hk_pp2.x, hk_pp2.y,marker='o', c = hk_pp2.zone,s=25, cmap = 'tab10', ec = 'k')\n",
    "        \n",
    "            _add_inset(array, ax)\n",
    "\n",
    "            # Create the inset axes for the histogram\n",
    "            cax = ax.inset_axes([0.1, 0.005, .8, .03])\n",
    "            # Add a colorbar at the bottom\n",
    "            \n",
    "            # Create a colorbar with the log normalization\n",
    "            cbar = colorbar.ColorbarBase(cax, norm=norm, orientation='horizontal', cmap='viridis')\n",
    "            # cbar = plt.colorbar(c, cax=cax, orientation='horizontal')\n",
    "            \n",
    "        print(f'{layer}_{prop}.png')\n",
    "        plt.savefig(os.path.join(out_folder,'array_explainer',f'layer_{layer+1}_{prop}.png'))\n",
    "        plt.close()\n",
    "        "
   ]
  },
  {
   "cell_type": "code",
   "execution_count": null,
   "id": "13",
   "metadata": {},
   "outputs": [],
   "source": [
    "out, lay, mult, hk_arr,zmult =  forward_run.write_pilot_point(4, 'hk6', model_ws, skip_writing_output = True)"
   ]
  },
  {
   "cell_type": "code",
   "execution_count": null,
   "id": "14",
   "metadata": {},
   "outputs": [],
   "source": [
    "array = np.ma.masked_array(out, mask = ibound ==0)"
   ]
  },
  {
   "cell_type": "code",
   "execution_count": null,
   "id": "15",
   "metadata": {},
   "outputs": [],
   "source": [
    "ml.update_modelgrid()"
   ]
  },
  {
   "cell_type": "code",
   "execution_count": null,
   "id": "16",
   "metadata": {},
   "outputs": [],
   "source": []
  },
  {
   "cell_type": "code",
   "execution_count": null,
   "id": "17",
   "metadata": {},
   "outputs": [],
   "source": [
    "import flopy\n"
   ]
  },
  {
   "cell_type": "code",
   "execution_count": null,
   "id": "18",
   "metadata": {},
   "outputs": [],
   "source": [
    "array.max()"
   ]
  },
  {
   "cell_type": "code",
   "execution_count": null,
   "id": "19",
   "metadata": {},
   "outputs": [],
   "source": [
    "array[123,50]"
   ]
  },
  {
   "cell_type": "code",
   "execution_count": null,
   "id": "20",
   "metadata": {},
   "outputs": [],
   "source": [
    "plt.imshow(out)"
   ]
  },
  {
   "cell_type": "code",
   "execution_count": null,
   "id": "21",
   "metadata": {},
   "outputs": [],
   "source": [
    "out_folder"
   ]
  },
  {
   "cell_type": "code",
   "execution_count": null,
   "id": "22",
   "metadata": {},
   "outputs": [],
   "source": [
    "import cartopy.crs as ccrs\n",
    "from matplotlib.colors import LogNorm\n",
    "import matplotlib.colorbar as colorbar\n",
    "import numpy as np\n",
    "\n",
    "vmin = dict(\n",
    "    hk = [1.1e-4, 1e2],\n",
    "           vk = [1, 1e4],\n",
    "           ss = [1e-7, 1e-2],\n",
    "           fmp_vk = [1e-6, 1e-1],\n",
    ")\n",
    "\n",
    "num = 0\n",
    "for props in [\n",
    "'hk',\n",
    "'vk', \n",
    "'ss',\n",
    "# 'fmp_vk'\n",
    "]:\n",
    "# for props in ['fmp_vk']:\n",
    "    \n",
    "    \n",
    "    fig = plt.figure(figsize=(8.5,11))\n",
    "    fig.suptitle(f\"Layer {props}\")\n",
    "    for lay in range(6):\n",
    "  \n",
    "        if props=='fmp_vk':\n",
    "            ax = plt.subplot(1, 1, lay+1, projection=ccrs.epsg(2226))\n",
    "            filename = f\"{props}.txt\"\n",
    "        else:\n",
    "            ax = plt.subplot(3, 2, lay+1, projection=ccrs.epsg(2226))\n",
    "            filename = f\"{props}{lay+1}.txt\"\n",
    "\n",
    "        Map = flopy.plot.PlotMapView(model = ml, ax = ax)\n",
    "        \n",
    "        ibound = ml.bas6.ibound.array[lay]\n",
    "        array = np.genfromtxt(os.path.join(model_ws,'pp2024_out', filename))\n",
    "        \n",
    "        ax.set_title(f\"{props} layer {lay+1}\")\n",
    "        # mm = conda_scripts.make_map.make_map(f\"Layer {layer+1}, Aquifer Property: {prop}\")\n",
    "        # ax = mm.plotloc(fig, locname = 'SON_MOD')\n",
    "        array = np.ma.masked_array(array, mask = ibound ==0)\n",
    "    \n",
    "        # Set up the normalization using LogNorm\n",
    "        norm = LogNorm(vmin = vmin[props][0],vmax = vmin[props][1],)\n",
    "        # c = ax.pcolormesh(sr.xcentergrid,sr.ycentergrid,array,alpha=0.5,  norm = norm )\n",
    "        c = Map.plot_array(array, norm = norm, alpha = 0.5, cmap = 'PiYG')\n",
    "        # c = Map.contour_array(array, norm = norm, alpha = 0.5)\n",
    "        conda_scripts.arich_functions.add_basemaps(ax)\n",
    "        num+=1\n",
    "        # ax.scatter(hk_pp2.x, hk_pp2.y,marker='o', c = hk_pp2.zone,s=25, cmap = 'tab10', ec = 'k')\n",
    "    \n",
    "        _add_inset(array, ax)\n",
    "\n",
    "        # Create the inset axes for the histogram\n",
    "        cax = ax.inset_axes([0.1, 0.005, .8, .03])\n",
    "        # Add a colorbar at the bottom\n",
    "        # cbar = plt.colorbar(c, cax=cax, orientation='horizontal')\n",
    "        # Create a colorbar with the log normalization\n",
    "        cbar = colorbar.ColorbarBase( cax,  norm=norm, orientation='horizontal', cmap = 'PiYG')\n",
    "        \n",
    "        if props=='fmp_vk':\n",
    "            print('ending')\n",
    "            break\n",
    "            \n",
    "    print(f'{props}.png')\n",
    "    plt.savefig(os.path.join(out_folder,f'layer_{props}.png'))\n",
    "    "
   ]
  },
  {
   "cell_type": "code",
   "execution_count": null,
   "id": "23",
   "metadata": {},
   "outputs": [],
   "source": [
    "import geopandas as gpd\n",
    "import contextily as ctx\n",
    "import matplotlib.pyplot as plt\n",
    "import cartopy.crs as ccrs\n",
    "import conda_scripts\n",
    "gpd.io.file.fiona.drvsupport.supported_drivers['LIBKML'] = 'rw'"
   ]
  },
  {
   "cell_type": "code",
   "execution_count": null,
   "id": "24",
   "metadata": {},
   "outputs": [],
   "source": [
    "homes = gpd.read_file(r\"C:\\Users\\arich\\Downloads\\Untitled project.kml\").to_crs(2226)\n",
    "\n",
    "ax = plt.subplot(projection = ccrs.epsg(2226))\n",
    "ax = homes.plot(ax = ax)\n",
    "homes.dissolve().centroid.plot(ax = ax)\n",
    "ctx.add_basemap(ax, crs = 2226)\n",
    "conda_scripts.plot_help.remove_ctx_annotations(ax)"
   ]
  },
  {
   "cell_type": "markdown",
   "id": "25",
   "metadata": {},
   "source": [
    "# compare calculated arrays versus modflow generated arrays"
   ]
  },
  {
   "cell_type": "code",
   "execution_count": null,
   "id": "26",
   "metadata": {},
   "outputs": [],
   "source": [
    "arrays_from_mod = dict(hk=\"PARAM_HKC_G1_L{:}.txt\",\n",
    "ss=\"PARAM_Ss_G1_L{:}.txt\",\n",
    "vk=\"PARAM_VKA_G1_L{:}.txt\")\n",
    "\n",
    "arrays_from_mod"
   ]
  },
  {
   "cell_type": "code",
   "execution_count": null,
   "id": "27",
   "metadata": {},
   "outputs": [],
   "source": [
    "model_ws"
   ]
  },
  {
   "cell_type": "code",
   "execution_count": null,
   "id": "28",
   "metadata": {},
   "outputs": [],
   "source": [
    "import cartopy.crs as ccrs\n",
    "from matplotlib.colors import LogNorm\n",
    "import matplotlib.colorbar as colorbar\n",
    "import numpy as np\n",
    "\n",
    "import cartopy.crs as ccrs\n",
    "import matplotlib.colorbar as colorbar\n",
    "from matplotlib.colors import LogNorm\n",
    "\n",
    "os.makedirs(os.path.join(out_folder,'array_explainer'), exist_ok = True)\n",
    "\n",
    "\n",
    "num = 0\n",
    "# for props in ['hk','vk', 'ss']: \n",
    "for props in ['vk']: \n",
    "\n",
    "    fig = plt.figure(figsize=(8.5,11))\n",
    "    fig.suptitle(f\"{props}\")\n",
    "    for lay in range(6):\n",
    "\n",
    "        # fig = plt.figure(figsize=(8.5,11))\n",
    "        fig.suptitle(f\"{props}\", size = 'large')\n",
    "\n",
    "        if len(props)>3:\n",
    "            continue\n",
    "\n",
    "        ax = plt.subplot(3, 2, lay+1, projection=ccrs.epsg(2226))           \n",
    "        Map = flopy.plot.PlotMapView(model = ml, ax = ax)\n",
    "            \n",
    "        ibound = ml.bas6.ibound.array[lay]       \n",
    "        print(f'{lay} {props}')\n",
    "\n",
    "        if props=='vk':\n",
    "            print('using alt\\n'*10)\n",
    "            vk, xxx, mult, hk_arr,zmult =  forward_run.write_pilot_point(lay, props+str(lay+1), model_ws, skip_writing_output = True)\n",
    "            hk, xxx, mult, hk_arr,zmult =  forward_run.write_pilot_point(lay, 'hk'+str(lay+1), model_ws, skip_writing_output = True)\n",
    "            out = hk/vk\n",
    "        else:\n",
    "            \n",
    "            out, xxx, mult, hk_arr,zmult =  forward_run.write_pilot_point(lay, props+str(lay+1), model_ws, skip_writing_output = True)\n",
    "        \n",
    "        d = {'Final Array':out, \"Entire Zone\":zmult, \"Zone Multiplier\":mult, \"Pilot Point\":hk_arr}\n",
    "\n",
    "\n",
    "            \n",
    "\n",
    "\n",
    "        # Set up the normalization using LogNorm\n",
    "        norm = LogNorm(vmin = 1e-1,vmax = 1e1,)\n",
    "        \n",
    "        # ax = plt.subplot(1, 1, 1, projection=ccrs.epsg(2226))\n",
    "        ax.set_title(lay)\n",
    "        # mm = conda_scripts.make_map.make_map(f\"Layer {layer+1}, Aquifer Property: {prop}\")\n",
    "        # ax = mm.plotloc(fig, locname = 'SON_MOD')\n",
    "        array = np.ma.masked_array(out, mask = ibound ==0)\n",
    "\n",
    "        mod_array = np.genfromtxt(os.path.join(model_ws,'output', arrays_from_mod[props].format(lay+1)),skip_header = 1)\n",
    "        mod_array = np.ma.masked_array(mod_array, mask = ibound ==0)\n",
    "\n",
    "        plot = array/mod_array\n",
    "\n",
    "        c = ax.pcolormesh(sr.xcentergrid,sr.ycentergrid,plot,alpha=0.9, norm = norm, cmap = 'PiYG')\n",
    "        cax = ax.inset_axes([0.1, 0.005, .8, .03])\n",
    "        # Add a colorbar at the bottom\n",
    "        # cbar = plt.colorbar(c, cax=cax, orientation='horizontal')\n",
    "        # Create a colorbar with the log normalization\n",
    "        # Map.plot_array(plot,)\n",
    "        cbar = colorbar.ColorbarBase( cax,  norm=norm, orientation='horizontal', cmap = 'PiYG')\n",
    "        print(f'{lay}_{props}.png')\n",
    "\n",
    "        ax.text(0,1,f\"all values are equal: {np.all(np.isclose(plot.compressed(),1))}\",        \n",
    "            horizontalalignment='left',\n",
    "            verticalalignment='top',\n",
    "            transform=ax.transAxes,\n",
    "                fontsize = 15,\n",
    "               bbox = {'color':'g' if np.all(np.isclose(plot.compressed(),1)) else 'r'})\n",
    "    \n",
    "        num+=1\n",
    "            \n",
    "    plt.savefig(os.path.join(out_folder,'array_explainer',f'comp_{props}.png'))\n",
    "        \n",
    "    "
   ]
  },
  {
   "cell_type": "code",
   "execution_count": null,
   "id": "29",
   "metadata": {},
   "outputs": [],
   "source": [
    "vk"
   ]
  },
  {
   "cell_type": "code",
   "execution_count": null,
   "id": "30",
   "metadata": {},
   "outputs": [],
   "source": []
  },
  {
   "cell_type": "code",
   "execution_count": null,
   "id": "31",
   "metadata": {},
   "outputs": [],
   "source": [
    "np.genfromtxt(os.path.join(model_ws,'output', arrays_from_mod[prop[0:2]].format(layer+1)),skip_header = 1)"
   ]
  },
  {
   "cell_type": "code",
   "execution_count": null,
   "id": "32",
   "metadata": {},
   "outputs": [],
   "source": [
    "np.genfromtxt(skip_header = 0)"
   ]
  }
 ],
 "metadata": {
  "kernelspec": {
   "display_name": "Python 3 (ipykernel)",
   "language": "python",
   "name": "python3"
  },
  "language_info": {
   "codemirror_mode": {
    "name": "ipython",
    "version": 3
   },
   "file_extension": ".py",
   "mimetype": "text/x-python",
   "name": "python",
   "nbconvert_exporter": "python",
   "pygments_lexer": "ipython3",
   "version": "3.9.19"
  }
 },
 "nbformat": 4,
 "nbformat_minor": 5
}
