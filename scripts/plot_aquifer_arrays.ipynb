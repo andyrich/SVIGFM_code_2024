{
 "cells": [
  {
   "cell_type": "code",
   "execution_count": null,
   "id": "0",
   "metadata": {},
   "outputs": [],
   "source": [
    "import forward_run\n",
    "import flopy\n",
    "import os\n",
    "import helpers\n",
    "import matplotlib.pyplot as plt\n",
    "import conda_scripts\n",
    "import conda_scripts.load_datasets as lsd"
   ]
  },
  {
   "cell_type": "code",
   "execution_count": null,
   "id": "1",
   "metadata": {},
   "outputs": [],
   "source": []
  },
  {
   "cell_type": "code",
   "execution_count": null,
   "id": "2",
   "metadata": {},
   "outputs": [],
   "source": [
    "model_ws = lsd.model_info.get_mod('son', True)\n",
    "model_ws = 'pestaws_mango'"
   ]
  },
  {
   "cell_type": "code",
   "execution_count": null,
   "id": "3",
   "metadata": {},
   "outputs": [],
   "source": [
    "main = 'postprocess'\n",
    "pstname =  'mango'\n",
    "fold =  'mango_v2'\n",
    "\n",
    "out_folder = os.path.join(main, fold)\n",
    "if not os.path.exists(out_folder):\n",
    "    os.makedirs(out_folder, exist_ok =True)"
   ]
  },
  {
   "cell_type": "code",
   "execution_count": null,
   "id": "4",
   "metadata": {},
   "outputs": [],
   "source": [
    "sr = helpers.get_sr()"
   ]
  },
  {
   "cell_type": "code",
   "execution_count": null,
   "id": "5",
   "metadata": {},
   "outputs": [],
   "source": [
    "ml = conda_scripts.sv_budget.load_sv_model.get_model(model_ws)"
   ]
  },
  {
   "cell_type": "code",
   "execution_count": null,
   "id": "6",
   "metadata": {},
   "outputs": [],
   "source": [
    "import numpy as np"
   ]
  },
  {
   "cell_type": "code",
   "execution_count": null,
   "id": "7",
   "metadata": {},
   "outputs": [],
   "source": []
  },
  {
   "cell_type": "code",
   "execution_count": null,
   "id": "8",
   "metadata": {},
   "outputs": [],
   "source": []
  },
  {
   "cell_type": "code",
   "execution_count": null,
   "id": "9",
   "metadata": {},
   "outputs": [],
   "source": []
  },
  {
   "cell_type": "code",
   "execution_count": null,
   "id": "10",
   "metadata": {},
   "outputs": [],
   "source": [
    "def _add_inset(masked_data, ax):\n",
    "    # Ravel and remove NaNs\n",
    "    ravelled_data = masked_data.ravel()\n",
    "    ravelled_data = ravelled_data[~ravelled_data.mask]\n",
    "    \n",
    "    # Take the log of the values\n",
    "    log_values = np.log10(ravelled_data)\n",
    "    \n",
    "    # Create the inset axes for the histogram\n",
    "    inset_ax = ax.inset_axes([0.7, 0.7, 0.3, .3], transform=ax.transAxes)\n",
    "    inset_ax.hist(log_values, bins=30, color='orange')\n",
    "    # Set the y-axis labels to the right side of the inset axes\n",
    "    inset_ax.yaxis.tick_right()"
   ]
  },
  {
   "cell_type": "code",
   "execution_count": null,
   "id": "11",
   "metadata": {},
   "outputs": [],
   "source": [
    "prefix = forward_run.get_prefix_dict_for_pilot_points()\n",
    "prefix"
   ]
  },
  {
   "cell_type": "code",
   "execution_count": null,
   "id": "12",
   "metadata": {},
   "outputs": [],
   "source": [
    "import cartopy.crs as ccrs\n",
    "import matplotlib.colorbar as colorbar\n",
    "from matplotlib.colors import LogNorm\n",
    "\n",
    "\n",
    "\n",
    "\n",
    "\n",
    "\n",
    "for layer, props in prefix.items():\n",
    "    for prop in props:\n",
    "        \n",
    "        ibound = ml.bas6.ibound.array[layer]\n",
    "        \n",
    "        \n",
    "        print(f'{layer} {prop}')\n",
    "        out, lay, mult, hk_arr,zmult =  forward_run.write_pilot_point(layer, prop, model_ws, skip_writing_output = True)\n",
    "        \n",
    "        d = {'Final Array':out, \"Entire Zone\":zmult, \"Zone Multiplier\":mult, \"Pilot Point\":hk_arr}\n",
    "\n",
    "        if prop.lower()=='sy1':\n",
    "            continue\n",
    "            \n",
    "        num = 1\n",
    "        fig = plt.figure(figsize=(8.5,11))\n",
    "        fig.suptitle(f\"Layer {layer+1} {prop}\")\n",
    "        for key, array in d.items() :\n",
    "            \n",
    "            ax = plt.subplot(2, 2, num, projection=ccrs.epsg(2226))\n",
    "            ax.set_title(key)\n",
    "            # mm = conda_scripts.make_map.make_map(f\"Layer {layer+1}, Aquifer Property: {prop}\")\n",
    "            # ax = mm.plotloc(fig, locname = 'SON_MOD')\n",
    "            array = np.ma.masked_array(array, mask = ibound ==0)\n",
    "            # Set up the normalization using LogNorm\n",
    "            norm = LogNorm(vmin=10 ** np.floor(np.log10(array.min())),\n",
    "                           vmax=10 ** np.ceil(np.log10(array.max())))\n",
    "            c = ax.pcolormesh(sr.xcentergrid,sr.ycentergrid,array,alpha=0.5, norm = norm)\n",
    "            conda_scripts.arich_functions.add_basemaps(ax)\n",
    "            num+=1\n",
    "            # ax.scatter(hk_pp2.x, hk_pp2.y,marker='o', c = hk_pp2.zone,s=25, cmap = 'tab10', ec = 'k')\n",
    "        \n",
    "            _add_inset(array, ax)\n",
    "\n",
    "            # Create the inset axes for the histogram\n",
    "            cax = ax.inset_axes([0.1, 0.005, .8, .03])\n",
    "            # Add a colorbar at the bottom\n",
    "            \n",
    "            # Create a colorbar with the log normalization\n",
    "            cbar = colorbar.ColorbarBase(cax, norm=norm, orientation='horizontal', cmap='viridis')\n",
    "            # cbar = plt.colorbar(c, cax=cax, orientation='horizontal')\n",
    "            \n",
    "        print(f'{layer}_{prop}.png')\n",
    "        plt.savefig(os.path.join('array_explainer',f'layer_{layer+1}_{prop}.png'))\n",
    "        plt.close()\n",
    "        "
   ]
  },
  {
   "cell_type": "code",
   "execution_count": null,
   "id": "13",
   "metadata": {},
   "outputs": [],
   "source": [
    "out, lay, mult, hk_arr,zmult =  forward_run.write_pilot_point(4, 'hk6', model_ws, skip_writing_output = True)"
   ]
  },
  {
   "cell_type": "code",
   "execution_count": null,
   "id": "14",
   "metadata": {},
   "outputs": [],
   "source": [
    "array = np.ma.masked_array(out, mask = ibound ==0)"
   ]
  },
  {
   "cell_type": "code",
   "execution_count": null,
   "id": "15",
   "metadata": {},
   "outputs": [],
   "source": [
    "ml.update_modelgrid()"
   ]
  },
  {
   "cell_type": "code",
   "execution_count": null,
   "id": "16",
   "metadata": {},
   "outputs": [],
   "source": []
  },
  {
   "cell_type": "code",
   "execution_count": null,
   "id": "17",
   "metadata": {},
   "outputs": [],
   "source": [
    "import flopy\n",
    "\n",
    "Map = flopy.plot.PlotMapView(modelgrid = ml.modelgrid)\n",
    "\n",
    "Map.plot_ibound(ml.bas6.ibound.array[2])\n",
    "\n",
    "plt.gca().scatter(ml.modelgrid.get_xcellcenters_for_layer(0)[123,50],ml.modelgrid.get_ycellcenters_for_layer(0)[123,50],\n",
    "               c = 'r')"
   ]
  },
  {
   "cell_type": "code",
   "execution_count": null,
   "id": "18",
   "metadata": {},
   "outputs": [],
   "source": [
    "array.max()"
   ]
  },
  {
   "cell_type": "code",
   "execution_count": null,
   "id": "19",
   "metadata": {},
   "outputs": [],
   "source": [
    "array[123,50]"
   ]
  },
  {
   "cell_type": "code",
   "execution_count": null,
   "id": "20",
   "metadata": {},
   "outputs": [],
   "source": [
    "plt.imshow(out)"
   ]
  },
  {
   "cell_type": "code",
   "execution_count": null,
   "id": "21",
   "metadata": {},
   "outputs": [],
   "source": []
  },
  {
   "cell_type": "code",
   "execution_count": null,
   "id": "22",
   "metadata": {},
   "outputs": [],
   "source": [
    "import cartopy.crs as ccrs\n",
    "from matplotlib.colors import LogNorm\n",
    "import matplotlib.colorbar as colorbar\n",
    "import numpy as np\n",
    "\n",
    "vmin = dict(hk = [1.1e-4, 1e2],\n",
    "           vk = [1e-4, 1],\n",
    "           ss = [1e-7, 1e-2],\n",
    "           fmp_vk = [1e-6, 1e-1],)\n",
    "\n",
    "num = 0\n",
    "for props in ['hk','vk', 'ss','fmp_vk']:\n",
    "# for props in ['fmp_vk']:\n",
    "    \n",
    "    \n",
    "    fig = plt.figure(figsize=(8.5,11))\n",
    "    fig.suptitle(f\"Layer {props}\")\n",
    "    for lay in range(6):\n",
    "  \n",
    "        if props=='fmp_vk':\n",
    "            ax = plt.subplot(1, 1, lay+1, projection=ccrs.epsg(2226))\n",
    "            filename = f\"{props}.txt\"\n",
    "        else:\n",
    "            ax = plt.subplot(3, 2, lay+1, projection=ccrs.epsg(2226))\n",
    "            filename = f\"{props}{lay+1}.txt\"\n",
    "\n",
    "        Map = flopy.plot.PlotMapView(model = ml, ax = ax)\n",
    "        \n",
    "        ibound = ml.bas6.ibound.array[lay]\n",
    "        array = np.genfromtxt(os.path.join(model_ws,'pp2024_out', filename))\n",
    "        \n",
    "        ax.set_title(f\"{props} layer {lay+1}\")\n",
    "        # mm = conda_scripts.make_map.make_map(f\"Layer {layer+1}, Aquifer Property: {prop}\")\n",
    "        # ax = mm.plotloc(fig, locname = 'SON_MOD')\n",
    "        array = np.ma.masked_array(array, mask = ibound ==0)\n",
    "    \n",
    "        # Set up the normalization using LogNorm\n",
    "        norm = LogNorm(vmin = vmin[props][0],vmax = vmin[props][1],)\n",
    "        # c = ax.pcolormesh(sr.xcentergrid,sr.ycentergrid,array,alpha=0.5,  norm = norm )\n",
    "        c = Map.plot_array(array, norm = norm, alpha = 0.5, cmap = 'PiYG')\n",
    "        # c = Map.contour_array(array, norm = norm, alpha = 0.5)\n",
    "        conda_scripts.arich_functions.add_basemaps(ax)\n",
    "        num+=1\n",
    "        # ax.scatter(hk_pp2.x, hk_pp2.y,marker='o', c = hk_pp2.zone,s=25, cmap = 'tab10', ec = 'k')\n",
    "    \n",
    "        _add_inset(array, ax)\n",
    "\n",
    "        # Create the inset axes for the histogram\n",
    "        cax = ax.inset_axes([0.1, 0.005, .8, .03])\n",
    "        # Add a colorbar at the bottom\n",
    "        # cbar = plt.colorbar(c, cax=cax, orientation='horizontal')\n",
    "        # Create a colorbar with the log normalization\n",
    "        cbar = colorbar.ColorbarBase( cax,  norm=norm, orientation='horizontal', cmap = 'PiYG')\n",
    "        \n",
    "        if props=='fmp_vk':\n",
    "            print('ending')\n",
    "            break\n",
    "            \n",
    "    print(f'{props}.png')\n",
    "    plt.savefig(os.path.join(out_folder,f'layer_{props}.png'))\n",
    "    "
   ]
  },
  {
   "cell_type": "code",
   "execution_count": null,
   "id": "23",
   "metadata": {},
   "outputs": [],
   "source": []
  },
  {
   "cell_type": "code",
   "execution_count": null,
   "id": "24",
   "metadata": {},
   "outputs": [],
   "source": []
  }
 ],
 "metadata": {
  "kernelspec": {
   "display_name": "Python 3 (ipykernel)",
   "language": "python",
   "name": "python3"
  },
  "language_info": {
   "codemirror_mode": {
    "name": "ipython",
    "version": 3
   },
   "file_extension": ".py",
   "mimetype": "text/x-python",
   "name": "python",
   "nbconvert_exporter": "python",
   "pygments_lexer": "ipython3",
   "version": "3.9.19"
  }
 },
 "nbformat": 4,
 "nbformat_minor": 5
}
