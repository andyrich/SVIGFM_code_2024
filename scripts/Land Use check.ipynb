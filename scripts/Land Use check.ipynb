{
 "cells": [
  {
   "cell_type": "code",
   "execution_count": null,
   "id": "87bf880e-c215-405e-9b31-83641098f7b3",
   "metadata": {
    "editable": true,
    "slideshow": {
     "slide_type": ""
    },
    "tags": []
   },
   "outputs": [],
   "source": [
    "import geopandas as gpd"
   ]
  },
  {
   "cell_type": "code",
   "execution_count": null,
   "id": "3a198a8c-dbf6-4ab3-8b68-45a40300c495",
   "metadata": {},
   "outputs": [],
   "source": [
    "import os"
   ]
  },
  {
   "cell_type": "markdown",
   "id": "42fa5c7f-c137-4e6d-9be7-d196ce9fd7fb",
   "metadata": {},
   "source": [
    "T:\\arich\\Sonoma_Valley\\hydro_stat\\FMP\\landuse_analysis\\landuse_tables"
   ]
  },
  {
   "cell_type": "code",
   "execution_count": null,
   "id": "3aa9977a-95ad-4583-a185-a50f6598b98a",
   "metadata": {},
   "outputs": [],
   "source": [
    "LU = gpd.read_file(r\"T:\\arich\\Sonoma_Valley\\hydro_stat\\FMP\\landuse_analysis\\landuse_tables\\landuse_reclassified\\lu_reclass_mod_area_1974.shp\")"
   ]
  },
  {
   "cell_type": "code",
   "execution_count": null,
   "id": "6a669388-5fd4-4b7e-a1f7-62b6644ea609",
   "metadata": {},
   "outputs": [],
   "source": [
    "LU.head()"
   ]
  },
  {
   "cell_type": "code",
   "execution_count": null,
   "id": "8ca71725-9a60-4863-87b3-bd10e3a21d3f",
   "metadata": {},
   "outputs": [],
   "source": [
    "LU.plot('landuse__2')"
   ]
  },
  {
   "cell_type": "code",
   "execution_count": null,
   "id": "287ac012-9f7d-4cd9-bdfa-0ff768f20cd0",
   "metadata": {},
   "outputs": [],
   "source": [
    "lu99 = gpd.read_file(r\"T:\\arich\\GIS\\shapefiles\\USGS_data_2014\\to_SCWA\\landuse\\dwr1999\\99sn_TM.shp\")"
   ]
  },
  {
   "cell_type": "code",
   "execution_count": null,
   "id": "d86d642e-440b-4b14-890a-415f2c22bf74",
   "metadata": {},
   "outputs": [],
   "source": [
    "import conda_scripts"
   ]
  },
  {
   "cell_type": "code",
   "execution_count": null,
   "id": "f721ad13-2100-4f05-a023-bdf8d566154b",
   "metadata": {},
   "outputs": [],
   "source": [
    "bas = conda_scripts.load_datasets.load_watersheds.load('son')"
   ]
  },
  {
   "cell_type": "code",
   "execution_count": null,
   "id": "a1f47fcd-524f-4b00-a480-5c561e54b93c",
   "metadata": {},
   "outputs": [],
   "source": [
    "lu = gpd.clip(lu99.to_crs(2226), bas)"
   ]
  },
  {
   "cell_type": "code",
   "execution_count": null,
   "id": "ee2f67cf-0c89-4e92-8fea-efecaf1f35bd",
   "metadata": {},
   "outputs": [],
   "source": [
    "lu"
   ]
  },
  {
   "cell_type": "code",
   "execution_count": null,
   "id": "019d8779-29c1-405a-8685-9952fe4fe1fc",
   "metadata": {
    "editable": true,
    "slideshow": {
     "slide_type": ""
    },
    "tags": []
   },
   "outputs": [],
   "source": [
    "lu.plot('CLASS1', legend =True, cmap = 'tab20c')"
   ]
  },
  {
   "cell_type": "code",
   "execution_count": null,
   "id": "bdfb5b78-0854-46a4-8be8-7916d044f2e6",
   "metadata": {},
   "outputs": [],
   "source": []
  }
 ],
 "metadata": {
  "kernelspec": {
   "display_name": "Python 3 (ipykernel)",
   "language": "python",
   "name": "python3"
  },
  "language_info": {
   "codemirror_mode": {
    "name": "ipython",
    "version": 3
   },
   "file_extension": ".py",
   "mimetype": "text/x-python",
   "name": "python",
   "nbconvert_exporter": "python",
   "pygments_lexer": "ipython3",
   "version": "3.9.19"
  }
 },
 "nbformat": 4,
 "nbformat_minor": 5
}
