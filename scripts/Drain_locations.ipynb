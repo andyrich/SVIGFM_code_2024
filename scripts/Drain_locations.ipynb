{
 "cells": [
  {
   "cell_type": "code",
   "execution_count": null,
   "id": "c42ddd38-d529-4c6f-bcda-adff7a6c8a30",
   "metadata": {},
   "outputs": [],
   "source": [
    "import os\n",
    "import sys\n",
    "\n",
    "import matplotlib as mpl\n",
    "import matplotlib.pyplot as plt\n",
    "import numpy as np\n",
    "import shapely\n",
    "from shapely.geometry import (\n",
    "    LineString,\n",
    "    MultiLineString,\n",
    "    MultiPoint,\n",
    "    MultiPolygon,\n",
    "    Point,\n",
    "    Polygon,\n",
    ")\n",
    "\n",
    "import flopy\n",
    "import flopy.discretization as fgrid\n",
    "import flopy.plot as fplot\n",
    "from flopy.utils import GridIntersect\n",
    "\n",
    "print(sys.version)\n",
    "print(\"numpy version: {}\".format(np.__version__))\n",
    "print(\"matplotlib version: {}\".format(mpl.__version__))\n",
    "print(\"flopy version: {}\".format(flopy.__version__))\n",
    "print(\"shapely version: {}\".format(shapely.__version__))"
   ]
  },
  {
   "cell_type": "code",
   "execution_count": null,
   "id": "e0e4cd0f-ede5-47bf-848e-1543ebb0b3e2",
   "metadata": {},
   "outputs": [],
   "source": [
    "import helpers\n",
    "import conda_scripts\n",
    "import conda_scripts.load_datasets as lsd\n",
    "workspace = lsd.model_info.get_mod('son', True)\n",
    "\n",
    "\n",
    "ml = conda_scripts.sv_budget.load_sv_model.get_model(workspace)"
   ]
  },
  {
   "cell_type": "code",
   "execution_count": null,
   "id": "150e4a50-7acc-4f1d-a952-8454060f1278",
   "metadata": {},
   "outputs": [],
   "source": [
    "z= helpers.get_zones(ml)"
   ]
  },
  {
   "cell_type": "code",
   "execution_count": null,
   "id": "8e403408-273c-4dcd-a1ad-cb0bc376bf98",
   "metadata": {},
   "outputs": [],
   "source": []
  },
  {
   "cell_type": "code",
   "execution_count": null,
   "id": "e8590517-2249-4671-a3b7-e0caed952159",
   "metadata": {},
   "outputs": [],
   "source": [
    "import matplotlib.pyplot as plt\n",
    "fig = plt.figure(figsize = (6,8), dpi = 250)\n",
    "mm= conda_scripts.make_map.make_map('Zones')\n",
    "ax = mm.plotloc(fig, locname = 'SON_MOD')\n",
    "z.dissolve('name').reset_index().plot('name',  ax = ax, alpha = .5)\n",
    "z.dissolve('name').reset_index().exterior.plot( ax = ax, alpha = .5)\n",
    "conda_scripts.plot_help.label_poly(z.dissolve('name').reset_index(),ax, column = 'name')\n",
    "\n",
    "plt.savefig('zones.png', dpi = 250, bbox_inches = 'tight')"
   ]
  },
  {
   "cell_type": "code",
   "execution_count": null,
   "id": "5ed61afc-9d6e-4e8c-bf05-0469ce3fe3ea",
   "metadata": {},
   "outputs": [],
   "source": []
  },
  {
   "cell_type": "code",
   "execution_count": null,
   "id": "6c2155cc-618c-4852-bcb4-29a32cc70cb5",
   "metadata": {},
   "outputs": [],
   "source": []
  },
  {
   "cell_type": "code",
   "execution_count": null,
   "id": "2d7d6c11-3ba0-4d64-ada1-7207c381cc1c",
   "metadata": {},
   "outputs": [],
   "source": [
    "import geopandas as gpd\n",
    "from shapely.geometry import LineString"
   ]
  },
  {
   "cell_type": "code",
   "execution_count": null,
   "id": "abd94824-ce60-4ad0-8935-f68777554dda",
   "metadata": {},
   "outputs": [],
   "source": []
  },
  {
   "cell_type": "code",
   "execution_count": null,
   "id": "82b62100-c8aa-4af5-810e-65355599e5c3",
   "metadata": {},
   "outputs": [],
   "source": []
  },
  {
   "cell_type": "code",
   "execution_count": null,
   "id": "512be3bd-9dfd-48d6-9e2e-22e6563e17ae",
   "metadata": {},
   "outputs": [],
   "source": [
    "import geopandas as gpd\n",
    "from shapely.geometry import Point\n",
    "import numpy as np\n",
    "\n",
    "import geopandas as gpd\n",
    "from shapely.geometry import Point, Polygon, MultiPolygon, MultiPoint\n",
    "gdf = z.dissolve('name').reset_index()\n",
    "# Assume gdf is your GeoDataFrame containing polygons and multipolygons\n",
    "\n",
    "# Tolerance value for considering two points as 'shared'\n",
    "tolerance = 1e-6\n",
    "\n",
    "# Function to extract vertices from Polygon or MultiPolygon\n",
    "def extract_vertices(geometry):\n",
    "    if isinstance(geometry, Polygon):\n",
    "        return list(geometry.exterior.coords)\n",
    "    elif isinstance(geometry, MultiPolygon):\n",
    "        # Loop through each polygon in the MultiPolygon and get the exterior coordinates\n",
    "        vertices = []\n",
    "        for poly in geometry.geoms:\n",
    "            vertices.extend(list(poly.exterior.coords))\n",
    "        return vertices\n",
    "    else:\n",
    "        return []  # Return an empty list if geometry is neither Polygon nor MultiPolygon\n",
    "\n",
    "# Step 1: Extract the coordinates (vertices) of each polygon/multipolygon\n",
    "gdf['vertices'] = gdf.geometry.apply(extract_vertices)\n",
    "\n",
    "# Step 2: Find shared coordinates (vertices) with a tolerance\n",
    "shared_coords = []\n",
    "for i, row1 in gdf.query(\"name=='Highlands'\").iterrows():\n",
    "    for j, row2 in gdf.iterrows():\n",
    "        if i != j:  # Avoid comparing the same polygon\n",
    "            # Check if any vertex of row1 is within tolerance of row2's geometry\n",
    "            for coord in row1['vertices']:\n",
    "                point = Point(coord)\n",
    "                # Check distance instead of contains, with a tolerance\n",
    "                if row2.geometry.distance(point) < tolerance:\n",
    "                    shared_coords.append(coord)\n",
    "\n",
    "# Step 3: Create Point geometries from the shared coordinates\n",
    "shared_points = [Point(coord) for coord in shared_coords]\n",
    "\n",
    "mp = MultiPoint(\n",
    "    points=shared_points\n",
    ")\n",
    "mp = mp.buffer(1000)\n",
    "\n",
    "\n",
    "# Step 4: Create a new GeoDataFrame for the shared points\n",
    "gdf_shared_points = gpd.GeoDataFrame(geometry=shared_points)\n",
    "\n",
    "# # The shared_coords list now contains the coordinates that are shared across row\n",
    "# shared_coords = np.array(shared_coords)"
   ]
  },
  {
   "cell_type": "code",
   "execution_count": null,
   "id": "9a26d43c-a5a0-481f-9aff-f1559f7d5854",
   "metadata": {},
   "outputs": [],
   "source": [
    "from flopy.utils import GridIntersect"
   ]
  },
  {
   "cell_type": "code",
   "execution_count": null,
   "id": "936d2d68-f895-4933-afd8-f6efe9034087",
   "metadata": {},
   "outputs": [],
   "source": []
  },
  {
   "cell_type": "code",
   "execution_count": null,
   "id": "343eb35b-6b96-46c9-801b-b519f7b60fac",
   "metadata": {},
   "outputs": [],
   "source": [
    "mg = GridIntersect(ml.modelgrid, method=\"vertex\")"
   ]
  },
  {
   "cell_type": "code",
   "execution_count": null,
   "id": "75f75453-c4d2-4631-be62-cb1a5f7afb84",
   "metadata": {},
   "outputs": [],
   "source": []
  },
  {
   "cell_type": "code",
   "execution_count": null,
   "id": "dd096408-5a90-4eb8-a60c-4798df0e7211",
   "metadata": {},
   "outputs": [],
   "source": [
    "import pandas as pd"
   ]
  },
  {
   "cell_type": "code",
   "execution_count": null,
   "id": "6aa224d6-1cf6-49f1-bd9e-73ca6fe27dde",
   "metadata": {},
   "outputs": [],
   "source": [
    "ix = mg.intersect(mp)\n"
   ]
  },
  {
   "cell_type": "code",
   "execution_count": null,
   "id": "d2270d83-291d-47c3-82a4-c9ad203807b7",
   "metadata": {},
   "outputs": [],
   "source": [
    "df = pd.DataFrame(list(ix['cellids']), columns=['col1', 'col2'])\n",
    "\n",
    "fig = plt.figure(figsize = (6,8), dpi = 250)\n",
    "mm= conda_scripts.make_map.make_map('Drain Cells')\n",
    "ax = mm.plotloc(fig, locname = 'SON_MOD')\n",
    "\n",
    "Map = flopy.plot.PlotMapView(ml,ax = ax)\n",
    "Map.plot_grid(lw = .1)\n",
    "Map.plot_ibound(ml.bas6.ibound.array[0])\n",
    "\n",
    "array = np.zeros((ml.nrow, ml.ncol))\n",
    "array[df.col1, df.col2] = 1\n",
    "np.savetxt(os.path.join(workspace,'model_arrays', 'drain_locs.csv' ), array, delimiter = ',', fmt ='%d' )\n",
    "np.savetxt(os.path.join('local_copy','model_arrays', 'drain_locs.csv' ), array, delimiter = ',', fmt ='%d' )\n",
    "np.savetxt(os.path.join('pestaws_whiz','model_arrays', 'drain_locs.csv' ), array, delimiter = ',', fmt ='%d' )\n",
    "\n",
    "array = np.ma.array(array, mask = array ==0)\n",
    "\n",
    "\n",
    "Map.plot_array(array)\n",
    "\n",
    "plt.savefig(\"Drain_cells.png\", dpi =250, bbox_inches = 'tight')"
   ]
  },
  {
   "cell_type": "code",
   "execution_count": null,
   "id": "ca21bc93-d353-442a-a2bc-326276510695",
   "metadata": {},
   "outputs": [],
   "source": []
  },
  {
   "cell_type": "code",
   "execution_count": null,
   "id": "43cd0b60-a376-4b6b-853a-6ad9816ed5a8",
   "metadata": {},
   "outputs": [],
   "source": []
  },
  {
   "cell_type": "code",
   "execution_count": null,
   "id": "15cb3d92-919b-42bc-a9bd-96d718f09383",
   "metadata": {},
   "outputs": [],
   "source": []
  },
  {
   "cell_type": "code",
   "execution_count": null,
   "id": "4c5fff6b-e14a-4efc-ba94-9d339aca4426",
   "metadata": {},
   "outputs": [],
   "source": [
    "\n"
   ]
  },
  {
   "cell_type": "code",
   "execution_count": null,
   "id": "b387bf9b-b417-4f8f-a0a5-fe015bd5f55f",
   "metadata": {},
   "outputs": [],
   "source": [
    "\n",
    "\n"
   ]
  },
  {
   "cell_type": "code",
   "execution_count": null,
   "id": "28b83a25-5032-4eec-beae-33b714a692a3",
   "metadata": {},
   "outputs": [],
   "source": [
    "\n",
    "\n",
    "\n"
   ]
  },
  {
   "cell_type": "code",
   "execution_count": null,
   "id": "c1f4c41c-fe9c-440b-b970-26e8cba5f48e",
   "metadata": {},
   "outputs": [],
   "source": []
  }
 ],
 "metadata": {
  "kernelspec": {
   "display_name": "Python 3 (ipykernel)",
   "language": "python",
   "name": "python3"
  },
  "language_info": {
   "codemirror_mode": {
    "name": "ipython",
    "version": 3
   },
   "file_extension": ".py",
   "mimetype": "text/x-python",
   "name": "python",
   "nbconvert_exporter": "python",
   "pygments_lexer": "ipython3",
   "version": "3.9.19"
  }
 },
 "nbformat": 4,
 "nbformat_minor": 5
}
