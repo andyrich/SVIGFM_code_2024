{
 "cells": [
  {
   "cell_type": "code",
   "execution_count": null,
   "id": "0",
   "metadata": {},
   "outputs": [],
   "source": [
    "import pyemu\n",
    "import conda_scripts.load_datasets as lsd\n",
    "import os\n",
    "import pandas as pd\n",
    "import numpy as np\n",
    "import conda_scripts\n",
    "import forward_run\n",
    "import matplotlib.pyplot as plt\n",
    "import conda_scripts.plot_help as ph\n",
    "from conda_scripts import sv_budget\n",
    "import matplotlib as mpl\n",
    "import numpy as np\n",
    "import flopy\n",
    "import geopandas as gpd"
   ]
  },
  {
   "cell_type": "code",
   "execution_count": null,
   "id": "1",
   "metadata": {},
   "outputs": [],
   "source": [
    "workspace = lsd.model_info.get_mod('son', True)\n",
    "workspace"
   ]
  },
  {
   "cell_type": "code",
   "execution_count": null,
   "id": "2",
   "metadata": {},
   "outputs": [],
   "source": []
  },
  {
   "cell_type": "code",
   "execution_count": null,
   "id": "3",
   "metadata": {},
   "outputs": [],
   "source": [
    "main = 'postprocess'\n",
    "fold =  'pestaws_v1'\n",
    "\n",
    "out_folder = os.path.join(main, fold)\n",
    "if not os.path.exists(out_folder):\n",
    "    os.makedirs(out_folder, exist_ok =True)"
   ]
  },
  {
   "cell_type": "code",
   "execution_count": null,
   "id": "4",
   "metadata": {},
   "outputs": [],
   "source": []
  },
  {
   "cell_type": "code",
   "execution_count": null,
   "id": "5",
   "metadata": {},
   "outputs": [],
   "source": [
    "ml = conda_scripts.sv_budget.load_sv_model.get_model(workspace)"
   ]
  },
  {
   "cell_type": "code",
   "execution_count": null,
   "id": "6",
   "metadata": {},
   "outputs": [],
   "source": [
    "workspace"
   ]
  },
  {
   "cell_type": "code",
   "execution_count": null,
   "id": "7",
   "metadata": {},
   "outputs": [],
   "source": [
    "import flopy.modflow.mfhob as hfb\n",
    "import flopy.modflow.mfhyd as hyd"
   ]
  },
  {
   "cell_type": "code",
   "execution_count": null,
   "id": "8",
   "metadata": {},
   "outputs": [],
   "source": [
    "df = pd.read_csv(r\"C:\\GSP\\waterlevel\\GIS\\hydro_experiment\\hydros__v3_SON_allmodmonths_to_20240808\\hydros_predicted_SON.csv\")"
   ]
  },
  {
   "cell_type": "code",
   "execution_count": null,
   "id": "9",
   "metadata": {},
   "outputs": [],
   "source": [
    "df = df.query('`Station Name`.str.contains(\"_mod\") == False', engine='python')"
   ]
  },
  {
   "cell_type": "code",
   "execution_count": null,
   "id": "10",
   "metadata": {},
   "outputs": [],
   "source": []
  },
  {
   "cell_type": "code",
   "execution_count": null,
   "id": "11",
   "metadata": {},
   "outputs": [],
   "source": [
    "df = df.drop_duplicates(['Station Name', 'datetime'])"
   ]
  },
  {
   "cell_type": "code",
   "execution_count": null,
   "id": "12",
   "metadata": {},
   "outputs": [],
   "source": [
    "df.loc[:,'Depth'] = \"Other\"\n",
    "df.loc[df.Shallow,'Depth'] = \"Shallow\"\n",
    "df.loc[df.Deep,'Depth'] = \"Deep\"\n",
    "\n",
    "df = df.loc[~(df.Depth=='Other')]\n",
    "df.drop_duplicates('Station Name').Depth.value_counts()\n",
    "\n"
   ]
  },
  {
   "cell_type": "code",
   "execution_count": null,
   "id": "13",
   "metadata": {},
   "outputs": [],
   "source": [
    "lrc = df.drop_duplicates('Station Name').set_index('Station Name').apply( lambda row: ml.modelgrid.intersect(row['Easting'], row['Northing']),axis = 1)\n",
    "\n",
    "lrc = pd.DataFrame(lrc.to_list(), index = lrc.index, columns=['i','j'])"
   ]
  },
  {
   "cell_type": "code",
   "execution_count": null,
   "id": "14",
   "metadata": {},
   "outputs": [],
   "source": [
    "df = pd.merge(df, lrc, left_on = 'Station Name', right_index = True)"
   ]
  },
  {
   "cell_type": "code",
   "execution_count": null,
   "id": "15",
   "metadata": {},
   "outputs": [],
   "source": [
    "df.query(\"Deep==True | Shallow==True\").columns"
   ]
  },
  {
   "cell_type": "code",
   "execution_count": null,
   "id": "16",
   "metadata": {},
   "outputs": [],
   "source": [
    "import cartopy.crs as ccrs\n",
    "import contextily as ctx"
   ]
  },
  {
   "cell_type": "code",
   "execution_count": null,
   "id": "17",
   "metadata": {},
   "outputs": [],
   "source": []
  },
  {
   "cell_type": "code",
   "execution_count": null,
   "id": "18",
   "metadata": {},
   "outputs": [],
   "source": [
    "z = np.genfromtxt(os.path.join(ml.model_ws, 'model_arrays', 'zonation_3.csv'), delimiter = ' ')\n",
    "\n",
    "zotther = z.copy()\n",
    "zotther[zotther>8] = 0\n",
    "\n",
    "zones = {i:zotther  for i in range(7) }\n",
    "zones[1] = z\n",
    "plt.imshow(zones[1])\n",
    "\n",
    "z = conda_scripts.arich_functions.array2rc(zones[1],'zone').astype({'zone':int})\n",
    "\n",
    "aliases = {1: 'Bay', 2: 'EastSide', 3: 'SouthCent', 4: 'Kenwood', 5: 'VOM', 6: 'AguaCal',7:'WestSide',8:'CitySon',9:'Highlands'}\n",
    "z.loc[:,'zone'] =z.loc[:,'zone'].replace(aliases)\n",
    "z = z.query(\"zone!=0\")\n",
    "\n",
    "geoms = conda_scripts.arich_functions.get_model_shp(ml.modelgrid, 2226).drop(columns = ['row','col'])\n",
    "\n",
    "z = gpd.GeoDataFrame(pd.merge(z, geoms, on = ['i','j']))\n",
    "zplot = z.dissolve('zone').reset_index()"
   ]
  },
  {
   "cell_type": "code",
   "execution_count": null,
   "id": "19",
   "metadata": {},
   "outputs": [],
   "source": []
  },
  {
   "cell_type": "code",
   "execution_count": null,
   "id": "20",
   "metadata": {},
   "outputs": [],
   "source": [
    "vcounts = pd.read_csv(r\"C:\\GSP\\waterlevel\\GIS\\hydro_experiment\\hydros__v3_SON_allmodmonths_to_20240808\\seasinfo_w_predicted_SON.csv\")\n",
    "vcounts = vcounts.loc[:,'Station Name'].value_counts().to_frame(\"num_meas\")\n",
    "vcounts = vcounts.loc[~vcounts.index.str.contains('mod')]"
   ]
  },
  {
   "cell_type": "code",
   "execution_count": null,
   "id": "21",
   "metadata": {},
   "outputs": [],
   "source": [
    "vcounts"
   ]
  },
  {
   "cell_type": "code",
   "execution_count": null,
   "id": "22",
   "metadata": {},
   "outputs": [],
   "source": [
    "dfinfo = pd.merge(df.loc[:,['Station Name', \n",
    "       'Site', 'Easting', 'Northing', 'Latitude',\n",
    "       'Longitude',  'rasterelevation', 'slope',\n",
    "       'Simple_Bou', 'Complete_B', 'isostatic',  'Geol_Krig',\n",
    " \n",
    "      'Depth', 'i', 'j', \n",
    "       ]].drop_duplicates('Station Name'),\n",
    "                  z, on = ['i','j'], how = 'left')\n",
    "dfinfo = dfinfo.drop(columns = ['geometry','row','column'])\n",
    "\n",
    "dfinfo = pd.merge(dfinfo, vcounts,on = 'Station Name' )\n",
    "\n"
   ]
  },
  {
   "cell_type": "markdown",
   "id": "23",
   "metadata": {},
   "source": [
    "# make list of important wells for PEST calibration"
   ]
  },
  {
   "cell_type": "code",
   "execution_count": null,
   "id": "24",
   "metadata": {},
   "outputs": [],
   "source": []
  },
  {
   "cell_type": "code",
   "execution_count": null,
   "id": "25",
   "metadata": {},
   "outputs": [],
   "source": [
    "#these \n",
    "\n",
    "important = ['son0328',#eastside\n",
    "            'son0065', #aguacal deep\n",
    "             'son0069', #aguacal shallow\n",
    "             'son0096', #westside deep\n",
    "            ]\n",
    "\n",
    "imp = dfinfo.loc[dfinfo.loc[dfinfo.loc[:,'Station Name'].str.lower().isin(important)].groupby(['zone', 'Depth'])['num_meas'].idxmax()]\n",
    "imp"
   ]
  },
  {
   "cell_type": "code",
   "execution_count": null,
   "id": "26",
   "metadata": {},
   "outputs": [],
   "source": []
  },
  {
   "cell_type": "code",
   "execution_count": null,
   "id": "27",
   "metadata": {},
   "outputs": [],
   "source": [
    "important_hydros = dfinfo.loc[dfinfo.groupby(['zone', 'Depth'])['num_meas'].idxmax()]\n",
    "\n",
    "\n",
    "\n",
    "#concat 2 dfs except for rows in the second that have the same values in Depth \tand  \tzone columns. both values in the second df need to match the first df to be removed\n",
    "\n",
    "# Identify rows in df2 to keep\n",
    "df2_filtered = important_hydros[~important_hydros[['Depth', 'zone']].apply(tuple, axis=1).isin(imp[['Depth', 'zone']].apply(tuple, axis=1))]\n",
    "\n",
    "# Concatenate df1 with the filtered df2\n",
    "important_hydros = pd.concat([imp, df2_filtered], ignore_index=True)\n",
    "\n",
    "important_hydros = gpd.GeoDataFrame(important_hydros, geometry = gpd.points_from_xy(important_hydros.Easting, important_hydros.Northing), crs = 2226)\n",
    "\n",
    "important_hydros = important_hydros.query(\"~ zone.str.contains('High')\")"
   ]
  },
  {
   "cell_type": "code",
   "execution_count": null,
   "id": "28",
   "metadata": {},
   "outputs": [],
   "source": [
    "important_hydros"
   ]
  },
  {
   "cell_type": "code",
   "execution_count": null,
   "id": "29",
   "metadata": {},
   "outputs": [],
   "source": [
    "important_hydros_folder = os.path.join(os.getcwd(), '..','waterlevel','important_hydros')\n",
    "\n",
    "os.makedirs(important_hydros_folder, exist_ok=True)"
   ]
  },
  {
   "cell_type": "code",
   "execution_count": null,
   "id": "30",
   "metadata": {},
   "outputs": [],
   "source": [
    "plt.figure(figsize = (6,8), dpi = 250)\n",
    "ax = plt.subplot(1,1,1, projection = ccrs.epsg(2226))\n",
    "zplot.exterior.plot(ax = ax,  )\n",
    "zplot.plot('zone', ax = ax, alpha =.5  )\n",
    "important_hydros.plot('Depth', ec = 'k', ax = ax, cmap = 'magma', legend = True)\n",
    "conda_scripts.plot_help.label_points(ax,important_hydros, 'Station Name', text_color='k') \n",
    "conda_scripts.arich_functions.add_basemaps(ax)\n",
    "ax.set_title('map_of_very_important_wells_for_pest'.replace('_',' ').title())\n",
    "plt.savefig(os.path.join(important_hydros_folder,'map_of_very_important_wells_for_pest.png'), dpi = 250)"
   ]
  },
  {
   "cell_type": "code",
   "execution_count": null,
   "id": "31",
   "metadata": {},
   "outputs": [],
   "source": [
    "important_hydros.to_file(os.path.join(important_hydros_folder, 'very_important_wells.shp'))"
   ]
  },
  {
   "cell_type": "code",
   "execution_count": null,
   "id": "32",
   "metadata": {},
   "outputs": [],
   "source": [
    "important_hydros_folder"
   ]
  },
  {
   "cell_type": "code",
   "execution_count": null,
   "id": "33",
   "metadata": {},
   "outputs": [],
   "source": [
    "important_hydros"
   ]
  },
  {
   "cell_type": "code",
   "execution_count": null,
   "id": "34",
   "metadata": {},
   "outputs": [],
   "source": [
    "important_hydros.loc[:,'stat'] = important_hydros.loc[:,'Station Name'].str.lower()\n",
    "df.loc[:,'stat'] = df.loc[:,'Station Name'].str.lower()"
   ]
  },
  {
   "cell_type": "markdown",
   "id": "35",
   "metadata": {},
   "source": [
    "# make individual plots"
   ]
  },
  {
   "cell_type": "code",
   "execution_count": null,
   "id": "36",
   "metadata": {},
   "outputs": [],
   "source": [
    "for stat, group in important_hydros.groupby('Station Name'):\n",
    "\n",
    "    row = df.query(f\"stat.str.lower().str.contains('{stat.lower()}')\").copy()\n",
    "    row.loc[:,'date'] = pd.to_datetime(row.datetime)\n",
    "    rowind = row['i'].unique()[0]\n",
    "    column = row['j'].unique()[0]\n",
    "    \n",
    "    x = row['Easting'].unique()[0]\n",
    "    y = row['Northing'].unique()[0]\n",
    "    fig, ax = helpers.make_plot('',x,y)\n",
    "\n",
    "\n",
    "    row.plot(x = 'date', y = 'predicted',ax = ax)\n",
    "    # res.loc[:,stat].rename(\"GWLE\").plot(ax = ax, label = \"GWLE\")\n",
    "    # out.loc[:,stat].plot(ax = ax ,label = \"OWHM\")\n",
    "    # out.loc[:,stat].head(1).plot(ax = ax ,c = 'r', marker = 'o', label = \"Starting\")\n",
    "    ax.legend()\n",
    "    \n",
    "    # lays = row.iloc[[0],:].reset_index().at[0,'mlays']\n",
    "    # lays = ', '.join([str(j+1) for j in lays])\n",
    "    ax.set_title( f\"{stat} {group['zone'].unique()[0]}, {group['Depth'].unique()[0]}\" )\n",
    "\n",
    "    ph.yrange_(ax)\n",
    "    ax.grid(True)\n",
    "    plt.savefig(os.path.join(important_hydros_folder, stat+'.png' ))\n",
    "    # print(stat, rowind, column, row.shape,os.path.abspath(os.path.join(out_folder,'hydros', stat+'.png' )))\n",
    "    plt.savefig(os.path.join(important_hydros_folder, stat+'.png' ))\n",
    "    # plt.close(fig)\n",
    "    \n",
    "    # .plot(x = 'datetime', y = 'predicted', title = stat)"
   ]
  },
  {
   "cell_type": "code",
   "execution_count": null,
   "id": "37",
   "metadata": {},
   "outputs": [],
   "source": []
  },
  {
   "cell_type": "code",
   "execution_count": null,
   "id": "38",
   "metadata": {},
   "outputs": [],
   "source": [
    "import importlib\n",
    "import helpers\n",
    "from shapely.geometry import Point\n",
    "importlib.reload(helpers)"
   ]
  },
  {
   "cell_type": "code",
   "execution_count": null,
   "id": "39",
   "metadata": {},
   "outputs": [],
   "source": [
    "for statgroup, zonegroup in important_hydros.groupby('zone'):\n",
    "    v = f\"{zonegroup.loc[:,'Station Name'].unique()[0].lower()}\"\n",
    "    row = df.query(f\"stat.str.lower().str.contains('{v}')\").copy()\n",
    "\n",
    "    rowind = row['i'].unique()[0]\n",
    "    column = row['j'].unique()[0]\n",
    "    \n",
    "    x = row['Easting'].unique()[0]\n",
    "    y = row['Northing'].unique()[0]\n",
    "    fig, ax,ax3 = helpers.make_plot('',x,y,return_plot_ax=True)\n",
    "\n",
    "    colors = {'deep':'b',\n",
    "             'shallow':'orange'}\n",
    "    for stat, group in zonegroup.groupby('Station Name'):\n",
    "        row = df.query(f\"stat.str.lower().str.contains('{stat.lower()}')\").copy()\n",
    "        rowind = row['i'].unique()[0]\n",
    "        column = row['j'].unique()[0]\n",
    "        \n",
    "        c = colors[group['Depth'].unique()[0].lower()]\n",
    "        \n",
    "        row.loc[:,'date'] = pd.to_datetime(row.datetime)   \n",
    "        row.plot(x = 'date', y = 'predicted',ax = ax, label = group['Depth'].unique()[0]+' '+stat, color = c)\n",
    "        \n",
    "        ax.set_title( f\"{', '.join(zonegroup.loc[:,'Station Name'].values)} {group['zone'].unique()[0]}\" )\n",
    "        ax.grid(True)\n",
    "\n",
    "        x = row['Easting'].unique()[0]\n",
    "        y = row['Northing'].unique()[0]\n",
    "        \n",
    "        pt = gpd.GeoSeries(Point(x, y), crs = 2226)   \n",
    "        pt.plot(ax = ax3,  markersize = 40,marker = '*', color = c, edgecolor = c)\n",
    "        \n",
    "\n",
    "        plt.savefig(os.path.join(important_hydros_folder, statgroup+'.png' ))\n",
    "        \n",
    "    ax.legend(loc = 'upper left', bbox_to_anchor = (1,1))"
   ]
  },
  {
   "cell_type": "code",
   "execution_count": null,
   "id": "40",
   "metadata": {},
   "outputs": [],
   "source": []
  }
 ],
 "metadata": {
  "kernelspec": {
   "display_name": "Python 3 (ipykernel)",
   "language": "python",
   "name": "python3"
  },
  "language_info": {
   "codemirror_mode": {
    "name": "ipython",
    "version": 3
   },
   "file_extension": ".py",
   "mimetype": "text/x-python",
   "name": "python",
   "nbconvert_exporter": "python",
   "pygments_lexer": "ipython3",
   "version": "3.9.19"
  }
 },
 "nbformat": 4,
 "nbformat_minor": 5
}
