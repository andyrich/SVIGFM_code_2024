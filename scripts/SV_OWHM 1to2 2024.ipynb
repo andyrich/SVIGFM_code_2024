{
 "cells": [
  {
   "cell_type": "code",
   "execution_count": null,
   "metadata": {
    "editable": true,
    "slideshow": {
     "slide_type": ""
    },
    "tags": []
   },
   "outputs": [],
   "source": [
    "import os, sys\n",
    "# sys.path.append('c:\\conda_scripts')\n",
    "import gsflow\n",
    "import flopy\n",
    "import numpy as np\n",
    "import matplotlib.pyplot as plt\n",
    "import matplotlib as mpl\n",
    "import matplotlib.patheffects as path_effects\n",
    "# import SRPHM\n",
    "import geopandas as gpd\n",
    "import pickle\n",
    "import pandas as pd\n",
    "# import arich_functions\n",
    "# from load_cwdm import load_cwdm_input\n",
    "# import setup_srphm\n",
    "# import make_map as mp\n",
    "# import plot_help as ph\n",
    "# import plot_wet as pw\n",
    "import cartopy.crs as ccrs \n",
    "import flopy.utils.binaryfile as bf\n",
    "import contextily as ctx\n",
    "import fiona\n",
    "import seaborn as sns\n",
    "# import gwplot_wiski\n",
    "# import arich_functions as af"
   ]
  },
  {
   "cell_type": "code",
   "execution_count": null,
   "metadata": {},
   "outputs": [],
   "source": [
    "import conda_scripts"
   ]
  },
  {
   "cell_type": "code",
   "execution_count": null,
   "metadata": {},
   "outputs": [],
   "source": [
    "from conda_scripts.sv_budget import sv_budget\n",
    "from conda_scripts.sv_budget import sv_farm_bud\n",
    "from conda_scripts.sv_budget import sv_modflow\n",
    "# from conda_scripts.sv_budget import hydrology"
   ]
  },
  {
   "cell_type": "code",
   "execution_count": null,
   "metadata": {},
   "outputs": [],
   "source": []
  },
  {
   "cell_type": "code",
   "execution_count": null,
   "metadata": {},
   "outputs": [],
   "source": [
    "owhm2 = r\"C:\\GSP\\sv\\model\\SV_mod_V2_owhm2\\master\""
   ]
  },
  {
   "cell_type": "code",
   "execution_count": null,
   "metadata": {},
   "outputs": [],
   "source": [
    "# workspace = r'C:\\GSP\\sv\\budget\\SV_WB_revA\\SV_WB_revA\\SVIGFM_output\\SVIGFM_revA_outputfiles'\n",
    "# workspace = r'C:\\GSP\\sv\\budget\\results'\n",
    "workspace = r\"C:\\GSP\\sv\\model\\SV_mod_V2\\master\"\n",
    "cbc = r'sv_model_grid_6layers.cbb'\n",
    "zones_ = r\"C:\\GSP\\sv\\budget\\SV_WB_revA\\SV_WB_revA\\Zones\\SonomaZoneUpdate.zon\"\n",
    "\n",
    "out_fold = r'SV_bud_output'\n",
    "\n",
    "sfr_out = r\"sv_model_grid_6layers_gage_str.dat\"\n",
    "\n",
    "GIS_out = os.path.join('C:\\GSP\\sv','GIS')\n",
    "gdb = os.path.join(GIS_out,'sv_model_geodatabase.gdb')\n",
    "print(f'these are the files in the main gdb\\n{(fiona.listlayers(gdb))}')\n",
    "\n",
    "svzones_gis_path = os.path.join(GIS_out, 'SV_zones.shp')\n",
    "zones_gis = gpd.read_file(svzones_gis_path)\n",
    "zones_gis = zones_gis[zones_gis.ZoneUpdate==1]\n",
    "sfr_inflow_path = os.path.join(GIS_out,'sfr_inflowoutflow.shp')\n",
    "\n",
    "SFR_basin  = gpd.read_file(r'c:\\GSP\\sv\\GIS\\SFR_basin.shp')\n",
    "\n",
    "sfr_loc = 'SFR_all_cells'\n",
    "sfr_cells = gpd.read_file(gdb,layer =sfr_loc)\n",
    "\n",
    "active_grid = gpd.read_file(gdb,layer = 'active_grid_cells')\n",
    "active_grid_dis = gpd.read_file(gdb,layer = 'active_grid_cells_dissolve')\n",
    "active_grid_dis.insert(0,'Sub','Sub')\n",
    "active_grid_dis = active_grid_dis.dissolve(\"Sub\")\n",
    "sv_wtrshed = gpd.read_file(gdb,layer = 'SonValleyWtrShd')\n",
    "subcat = gpd.read_file(gdb,layer = 'SCWA_sonoma_valley_BCM_subcatchments')\n",
    "farms = gpd.read_file(gdb,layer = 'FMP_Cells_2014_2016')\n",
    "farms_base = gpd.read_file(gdb,layer = 'FMP_farm_number_base')\n",
    "faults = gpd.read_file(gdb,layer = 'Faults_HFB')\n",
    "\n",
    "# load inflow points\n",
    "inflow = gpd.read_file(sfr_inflow_path).rename(columns = {'Segment':'segment', 'Reach':'reach'})\n",
    "\n",
    "# mtn front runoff connections\n",
    "# mtn_front_connex_path = r\"T:\\arich\\Sonoma_Valley\\hydro_stat\\mtn_front_recharge\\mtn_front_runoff\\RUNOFF_SCWA_sonoma_valley_BCM_subcatchments_with_sfr_segs.shp\"\n",
    "\n",
    "mtn_front_connex = gpd.read_file(gdb,layer = 'RUNOFF_SCWA_sonoma_valley_BCM_subcatchments_with_sfr_segs')\n",
    "\n",
    "# mtn_front_connex = gpd.read_file(mtn_front_connex_path)\n",
    "\n",
    "swdivs_path = os.path.join(GIS_out,r\"surface water divs\\surface water divs\\PODS_active_model.shp\")\n",
    "swdivs = gpd.read_file(swdivs_path)\n",
    "swdivs_basin = swdivs.within(active_grid_dis)\n",
    "\n",
    "bas = gpd.read_file(gdb, layer='Bulletin_118_Gwbasin_reproj')\n",
    "\n",
    "bas = bas.query(\"Basin_Name.str.startswith('NAPA')\").loc[:,['Basin_Name','geometry']]"
   ]
  },
  {
   "cell_type": "code",
   "execution_count": null,
   "metadata": {},
   "outputs": [],
   "source": [
    "conda_scripts.load_datasets.model_info.get_mod(basin = 'Son', historical = True)"
   ]
  },
  {
   "cell_type": "code",
   "execution_count": null,
   "metadata": {},
   "outputs": [],
   "source": [
    "dts = conda_scripts.utils.get_dates.get_dates()\n",
    "ml = conda_scripts.sv_budget.load_sv_model.get_model()"
   ]
  },
  {
   "cell_type": "code",
   "execution_count": null,
   "metadata": {},
   "outputs": [],
   "source": []
  },
  {
   "cell_type": "code",
   "execution_count": null,
   "metadata": {},
   "outputs": [],
   "source": [
    "sr, mg, modgeoms = conda_scripts.arich_functions.get_flopy_model_spatial_reference('sv', True)"
   ]
  },
  {
   "cell_type": "code",
   "execution_count": null,
   "metadata": {},
   "outputs": [],
   "source": [
    "grid_sub = gpd.sjoin(modgeoms, subcat, how = 'left')\n",
    "grid_sub = grid_sub.query(\"GRIDCODE>0\").drop_duplicates(['i','j'])"
   ]
  },
  {
   "cell_type": "code",
   "execution_count": null,
   "metadata": {},
   "outputs": [],
   "source": [
    "grid_sub.GRIDCODE.nunique()"
   ]
  },
  {
   "cell_type": "code",
   "execution_count": null,
   "metadata": {},
   "outputs": [],
   "source": [
    "mtn_front_connex.loc[:,'FARM'] = mtn_front_connex.index+81"
   ]
  },
  {
   "cell_type": "code",
   "execution_count": null,
   "metadata": {},
   "outputs": [],
   "source": [
    "mtn_front_connex.head()"
   ]
  },
  {
   "cell_type": "code",
   "execution_count": null,
   "metadata": {},
   "outputs": [],
   "source": [
    "mtn_front_connex.loc[:,['FARM','FARM', 'flow']].astype({\"flow\":int}).to_clipboard(index = False)"
   ]
  },
  {
   "cell_type": "markdown",
   "metadata": {},
   "source": [
    "# filter cells active in model already"
   ]
  },
  {
   "cell_type": "code",
   "execution_count": null,
   "metadata": {},
   "outputs": [],
   "source": []
  },
  {
   "cell_type": "code",
   "execution_count": null,
   "metadata": {},
   "outputs": [],
   "source": []
  },
  {
   "cell_type": "code",
   "execution_count": null,
   "metadata": {},
   "outputs": [],
   "source": [
    "ibnd = ml.bas6.ibound.array[0]\n",
    "\n",
    "i,j = np.indices(ibnd.shape)\n",
    "\n",
    "ind = np.hstack((ibnd.reshape((-1,1)), i.reshape((-1,1)), j.reshape((-1,1))))\n",
    "\n",
    "ind = ind[ind[:,0]==0,:]\n",
    "\n",
    "# Example lists of points\n",
    "points = grid_sub.loc[:,['i','j']].values\n",
    "filter_points =  [tuple(row) for row in ind[:,1:].tolist()]\n",
    "\n",
    "# [x if x % 2 == 0 else -x for x in y]\n",
    "# Filtering points\n",
    "filtered_points = [tuple(item) in filter_points for item in points]\n",
    "\n",
    "# grid_sub = grid_sub.loc[grid_sub.loc[:,'i'].isin(pd.Series(ind[:,1])) & grid_sub.loc[:,'j'].isin(pd.Series(ind[:,2]))]\n",
    "grid_sub =  grid_sub.loc[filtered_points]\n",
    "m = grid_sub.explore()\n",
    "active_grid.explore(m = m, color = 'r')"
   ]
  },
  {
   "cell_type": "code",
   "execution_count": null,
   "metadata": {},
   "outputs": [],
   "source": [
    "os.getcwd()"
   ]
  },
  {
   "cell_type": "code",
   "execution_count": null,
   "metadata": {},
   "outputs": [],
   "source": [
    "fig = plt.figure(figsize = (8.5,11), dpi = 250)\n",
    "mm = conda_scripts.make_map.make_map(\"Extending Model Area\")\n",
    "\n",
    "ax = mm.plotloc(fig, locname = 'Son_mod')\n",
    "\n",
    "\n",
    "subcat.plot(hatch = '/////', ax = ax, facecolor = \"None\", zorder = 5)\n",
    "ax = grid_sub.plot('GRIDCODE', ax= ax, zorder =6,)\n",
    "subcat.plot(ax = ax,facecolor = \"None\", zorder = 100)\n",
    "active_grid_dis.plot(ax = ax, facecolor = \"None\", edgecolor = 'r', zorder = 101)\n",
    "plt.savefig('subcat_extend.png')"
   ]
  },
  {
   "cell_type": "code",
   "execution_count": null,
   "metadata": {},
   "outputs": [],
   "source": []
  },
  {
   "cell_type": "code",
   "execution_count": null,
   "metadata": {},
   "outputs": [],
   "source": [
    "grid_sub"
   ]
  },
  {
   "cell_type": "code",
   "execution_count": null,
   "metadata": {},
   "outputs": [],
   "source": [
    "grid_sub.to_file(gdb, layer = 'subcat_farms')"
   ]
  },
  {
   "cell_type": "code",
   "execution_count": null,
   "metadata": {},
   "outputs": [],
   "source": []
  },
  {
   "cell_type": "code",
   "execution_count": null,
   "metadata": {},
   "outputs": [],
   "source": [
    "grid_sub.query(\"GRIDCODE>0\").dissolve(\"GRIDCODE\").reset_index().explore(\"GRIDCODE\", categorical = True)"
   ]
  },
  {
   "cell_type": "code",
   "execution_count": null,
   "metadata": {},
   "outputs": [],
   "source": [
    "active_sub = conda_scripts.arich_functions.rw2aray(ml.dis.nrow, ml.dis.ncol, grid_sub.row, grid_sub.col, grid_sub.GRIDCODE, 'active')['active']"
   ]
  },
  {
   "cell_type": "code",
   "execution_count": null,
   "metadata": {},
   "outputs": [],
   "source": [
    "mtn_front_connex.head()"
   ]
  },
  {
   "cell_type": "code",
   "execution_count": null,
   "metadata": {},
   "outputs": [],
   "source": []
  },
  {
   "cell_type": "code",
   "execution_count": null,
   "metadata": {},
   "outputs": [],
   "source": [
    "pd.Series(active_sub.ravel()).value_counts()"
   ]
  },
  {
   "cell_type": "code",
   "execution_count": null,
   "metadata": {},
   "outputs": [],
   "source": [
    "for _,row in mtn_front_connex.iterrows():\n",
    "    c = active_sub == row['GRIDCODE']\n",
    "    active_sub[c] = row['FARM']"
   ]
  },
  {
   "cell_type": "code",
   "execution_count": null,
   "metadata": {},
   "outputs": [],
   "source": [
    "t = np.copy(ml.bas6.ibound.array[0])\n",
    "\n",
    "t[active_sub>0] = t[active_sub>0]+1\n",
    "\n",
    "plt.imshow(t)"
   ]
  },
  {
   "cell_type": "code",
   "execution_count": null,
   "metadata": {},
   "outputs": [],
   "source": [
    "plt.imshow(active_sub[:,:])"
   ]
  },
  {
   "cell_type": "code",
   "execution_count": null,
   "metadata": {},
   "outputs": [],
   "source": [
    "modgeoms.plot()"
   ]
  },
  {
   "cell_type": "code",
   "execution_count": null,
   "metadata": {},
   "outputs": [],
   "source": [
    "sr, mg,geom = conda_scripts.arich_functions.get_flopy_model_spatial_reference('sv',True)\n",
    "# zb_df, ml, divs = conda_scripts.sv_budget.sv_modflow.get_zone_bud(workspace, zones_,cbc,sfr_cells, sfr_path =  \"sv_GSP.sfr\", read_pickle=True )"
   ]
  },
  {
   "cell_type": "code",
   "execution_count": null,
   "metadata": {},
   "outputs": [],
   "source": []
  },
  {
   "cell_type": "code",
   "execution_count": null,
   "metadata": {},
   "outputs": [],
   "source": []
  },
  {
   "cell_type": "code",
   "execution_count": null,
   "metadata": {},
   "outputs": [],
   "source": [
    "fmp = r\"C:\\GSP\\sv\\model\\SV_mod_V2\\master\\sv_model_FMP_GSP.fmp\"\n",
    "top = []\n",
    "mnw = []\n",
    "farms = []\n",
    "irr_eff =[]\n",
    "crops = []\n",
    "kc = []\n",
    "pet = []\n",
    "ftr = []\n",
    "precip = []\n",
    "nrd = []\n",
    "with open(fmp,'r') as fm:\n",
    "    for _ in range(63):\n",
    "        line = fm.readline()\n",
    "#     for row in fm.readlines():\n",
    "#         print(row)\n",
    "#     line = fm.readline()\n",
    "    while line:\n",
    "        \n",
    "        line = fm.readline()\n",
    "\n",
    "        top.append(line)\n",
    "        mnw.append(fm.readline())\n",
    "        farms.append(fm.readline())\n",
    "        irr_eff.append(fm.readline())\n",
    "        crops.append(fm.readline())\n",
    "        kc.append(fm.readline())\n",
    "        pet.append(fm.readline())\n",
    "        ftr.append(fm.readline())\n",
    "        precip.append(fm.readline())\n",
    "        nrd.append(fm.readline())\n",
    "        \n",
    "    out = dict(top=top,\n",
    "            mnw=mnw,\n",
    "            farms=farms,\n",
    "            irr_eff=irr_eff,\n",
    "            crops= crops,\n",
    "            kc=kc,\n",
    "            pet=pet,\n",
    "            ftr=ftr,\n",
    "            precip=precip,\n",
    "            nrd=nrd)"
   ]
  },
  {
   "cell_type": "code",
   "execution_count": null,
   "metadata": {},
   "outputs": [],
   "source": [
    "out"
   ]
  },
  {
   "cell_type": "code",
   "execution_count": null,
   "metadata": {},
   "outputs": [],
   "source": []
  },
  {
   "cell_type": "code",
   "execution_count": null,
   "metadata": {},
   "outputs": [],
   "source": []
  },
  {
   "cell_type": "code",
   "execution_count": null,
   "metadata": {},
   "outputs": [],
   "source": [
    "grid = conda_scripts.arich_functions.get_active_mod_df(mg, ml)"
   ]
  },
  {
   "cell_type": "code",
   "execution_count": null,
   "metadata": {},
   "outputs": [],
   "source": []
  },
  {
   "cell_type": "code",
   "execution_count": null,
   "metadata": {},
   "outputs": [],
   "source": []
  },
  {
   "cell_type": "code",
   "execution_count": null,
   "metadata": {},
   "outputs": [],
   "source": []
  },
  {
   "cell_type": "code",
   "execution_count": null,
   "metadata": {},
   "outputs": [],
   "source": [
    "\n",
    "def array2df(array,name):\n",
    "    df = conda_scripts.arich_functions.array2rc(array,name = name)\n",
    "    return df\n",
    "\n",
    "def load_arrays(listname,dtype= int):\n",
    "    print(f'loading list from {listname[0:5]}')\n",
    "    allfarms = None\n",
    "    for cnt, k in enumerate(listname):\n",
    "        if len(k)==0:\n",
    "            break\n",
    "        file = k.split()[1]\n",
    "        fl = os.path.join(workspace,file )\n",
    "\n",
    "        if ',' in open(fl, 'r').readline():\n",
    "            d = ','\n",
    "        else:\n",
    "            d = None\n",
    "        array = np.genfromtxt(fl, dtype = dtype,delimiter = d)\n",
    "        df = array2df(array, dts.loc[cnt,'date'].strftime('%Y-%b'))\n",
    "\n",
    "        if type(allfarms) == type(None):\n",
    "            allfarms = df\n",
    "        else:\n",
    "            allfarms = allfarms.join(df.loc[:,[dts.loc[cnt,'date'].strftime('%Y-%b')]])\n",
    "\n",
    "    allfarms = pd.merge(grid,allfarms.drop(columns = ['row','column']),left_on =['i','j'],right_on = ['i','j'] )\n",
    "    allfarms = gpd.GeoDataFrame(allfarms, geometry = 'geometry', crs =2226)\n",
    "    return allfarms\n",
    "    \n",
    "# allfarms = load_arrays(farms)\n",
    "allcrops = load_arrays(crops)\n",
    "\n",
    "allpet = load_arrays(pet, dtype =float)\n",
    "allprecip = load_arrays(precip, dtype =float)"
   ]
  },
  {
   "cell_type": "markdown",
   "metadata": {},
   "source": [
    "# add elevation to predictions"
   ]
  },
  {
   "cell_type": "code",
   "execution_count": null,
   "metadata": {},
   "outputs": [],
   "source": [
    "elev = modgeoms.copy()\n",
    "elev = elev.set_geometry(elev.geometry.centroid)\n",
    "elev.loc[:,'z'] = conda_scripts.utils.elevation.calc_elev(elev)\n",
    "\n",
    "elev = elev.loc[:,['i','j','z']]"
   ]
  },
  {
   "cell_type": "markdown",
   "metadata": {},
   "source": [
    "# predict the mountain front recharge areas for precip and pet"
   ]
  },
  {
   "cell_type": "code",
   "execution_count": null,
   "metadata": {},
   "outputs": [],
   "source": [
    "from sklearn.ensemble import RandomForestRegressor\n",
    "\n",
    "def pred(df, elev):\n",
    "\n",
    "    p = df.set_index(['i', 'j']).iloc[:,4:]\n",
    "    p = p.rename(columns = pd.to_datetime)\n",
    "    p = p.stack().to_frame('Q').reset_index()\n",
    "    p.loc[:,'date'] = p.loc[:,'level_2'].astype('int64')\n",
    "    p = pd.merge(p, elev, on = ['i','j'])\n",
    "    \n",
    "    pred_locs = grid_sub.query(\"GRIDCODE>0\").drop_duplicates(['i','j']).loc[:,['i','j']]\n",
    "    pred_locs.loc[:,'n'] = 1\n",
    "\n",
    "    dum = p.drop_duplicates('date').loc[:,['date']]\n",
    "    dum.loc[:,'n'] = 1\n",
    "\n",
    "    pred_locs = pd.merge(pred_locs, dum, on = 'n')\n",
    "    \n",
    "    pred_locs = pd.merge(pred_locs, elev, on = ['i','j'])\n",
    "    cols = ['i', 'j', 'z','date']\n",
    "\n",
    "    print('training model')\n",
    "    # Train the model\n",
    "    model = RandomForestRegressor(n_estimators=10, random_state=42)\n",
    "    model.fit(p.loc[:,cols], p.loc[:,'Q'])\n",
    "    print('predicting')\n",
    "    # Evaluate the model\n",
    "    y_pred = model.predict(pred_locs.loc[:,cols])\n",
    "\n",
    "    pred_locs.loc[:,'Q'] = y_pred\n",
    "\n",
    "    all_out = pd.concat([p, pred_locs])\n",
    "\n",
    "    return p, pred_locs, all_out\n",
    "\n",
    "# d, pred_locs, predicted= pred(allprecip, elev)\n",
    "d, pred_locs, predicted= pred(allpet, elev)"
   ]
  },
  {
   "cell_type": "code",
   "execution_count": null,
   "metadata": {},
   "outputs": [],
   "source": []
  },
  {
   "cell_type": "code",
   "execution_count": null,
   "metadata": {},
   "outputs": [],
   "source": []
  },
  {
   "cell_type": "code",
   "execution_count": null,
   "metadata": {},
   "outputs": [],
   "source": []
  },
  {
   "cell_type": "code",
   "execution_count": null,
   "metadata": {},
   "outputs": [],
   "source": []
  },
  {
   "cell_type": "code",
   "execution_count": null,
   "metadata": {},
   "outputs": [],
   "source": []
  },
  {
   "cell_type": "code",
   "execution_count": null,
   "metadata": {},
   "outputs": [],
   "source": []
  },
  {
   "cell_type": "code",
   "execution_count": null,
   "metadata": {},
   "outputs": [],
   "source": [
    "def export_pred(prdf, fmt = \"%.9g\", folder = 'finf', prepend_text = ''):\n",
    "    c = prdf.drop(columns = ['level_2','n','z']).drop_duplicates([ 'i', 'j','date',]).set_index([ 'i', 'j','date',]).unstack().droplevel(0,1).reset_index()\n",
    "    c = c.set_index([ 'i', 'j']).rename(columns = pd.to_datetime)\n",
    "\n",
    "\n",
    "    path = os.path.join(owhm2, 'fmp_input', folder)\n",
    "    \n",
    "    for column in c.columns:\n",
    "        date = column.strftime(\"%Y%b\").lower()\n",
    "        file = os.path.join(path, \"{}{}.txt\".format(prepend_text, date))\n",
    "        print(file, column)\n",
    "        cdf = c.loc[:,[column]]\n",
    "        # print(column)\n",
    "        # print(cdf.head())\n",
    "        # print(type(cdf))\n",
    "        row = cdf.index.get_level_values(0).values+1\n",
    "        col = cdf.index.get_level_values(1).values+1\n",
    "\n",
    "        # print(row[0:5])\n",
    "        # cdf.loc[:,column].values\n",
    "        value = cdf.loc[:,column].values\n",
    "\n",
    "        arr = conda_scripts.arich_functions.rw2aray(ml.dis.nrow, ml.dis.ncol, row = row, col = col, value = value, name =  'active')['active']\n",
    "                    # conda_scripts.arich_functions.rw2aray(ml.dis.nrow, ml.dis.ncol, grid_sub.row, grid_sub.col, grid_sub.GRIDCODE, 'active')\n",
    "        \n",
    "        np.savetxt(file, arr, fmt = fmt, delimiter = ',')\n",
    "\n",
    "    return arr\n",
    "\n",
    "pp = export_pred(predicted, folder = 'pet', prepend_text = 'pet')\n",
    "# pp = export_pred(predicted, folder = 'finf', prepend_text = 'finf')"
   ]
  },
  {
   "cell_type": "markdown",
   "metadata": {},
   "source": [
    "# add crops to crops/farms"
   ]
  },
  {
   "cell_type": "code",
   "execution_count": null,
   "metadata": {},
   "outputs": [],
   "source": []
  },
  {
   "cell_type": "code",
   "execution_count": null,
   "metadata": {},
   "outputs": [],
   "source": [
    "clist = os.path.join(workspace, 'fmp_input', 'crops')\n",
    "files = os.listdir(clist)\n",
    "\n",
    "for f in files:\n",
    "\n",
    "    file = os.path.join(clist,f)\n",
    "    # crops = np.genfromtxt(os.path.join(clist,f))\n",
    "    # file = k.split()[1]\n",
    "    # fl = os.path.join(workspace,file )\n",
    "\n",
    "    if ',' in open(file, 'r').readline():\n",
    "        d = ','\n",
    "    else:\n",
    "        d = None\n",
    "        \n",
    "    crops = np.genfromtxt(file, dtype= int, delimiter = d)\n",
    "    # print(crops.ravel().unique())\n",
    "    crops[active_sub>0] = 6\n",
    "    np.savetxt(os.path.join(owhm2, 'fmp_input','crops',f), crops,  fmt=\"%d\",)\n",
    "\n"
   ]
  },
  {
   "cell_type": "code",
   "execution_count": null,
   "metadata": {},
   "outputs": [],
   "source": [
    "plt.imshow(crops)"
   ]
  },
  {
   "cell_type": "code",
   "execution_count": null,
   "metadata": {},
   "outputs": [],
   "source": []
  },
  {
   "cell_type": "code",
   "execution_count": null,
   "metadata": {},
   "outputs": [],
   "source": [
    "clist = os.path.join(workspace, 'fmp_input', 'farms')\n",
    "files = os.listdir(clist)\n",
    "\n",
    "for f in files:\n",
    "\n",
    "    file = os.path.join(clist,f)\n",
    "    print(file)\n",
    "    # crops = np.genfromtxt(os.path.join(clist,f))\n",
    "    # file = k.split()[1]\n",
    "    # fl = os.path.join(workspace,file )\n",
    "\n",
    "    if ',' in open(file, 'r').readline():\n",
    "        d = ','\n",
    "    else:\n",
    "        d = None\n",
    "        \n",
    "    crops = np.genfromtxt(file, dtype= int, delimiter = d)\n",
    "    # print(crops.ravel().unique())\n",
    "    crops[active_sub>0] =active_sub[active_sub>0]\n",
    "    np.savetxt(os.path.join(owhm2, 'fmp_input','farms',f), crops,  fmt=\"%d\",)"
   ]
  },
  {
   "cell_type": "code",
   "execution_count": null,
   "metadata": {},
   "outputs": [],
   "source": []
  },
  {
   "cell_type": "code",
   "execution_count": null,
   "metadata": {},
   "outputs": [],
   "source": [
    "plt.imshow(crops,cmap = 'jet')"
   ]
  },
  {
   "cell_type": "code",
   "execution_count": null,
   "metadata": {},
   "outputs": [],
   "source": [
    "elev = conda_scripts.utils.elevation.calc_elev(geom.set_geometry(geom.geometry.centroid))"
   ]
  },
  {
   "cell_type": "markdown",
   "metadata": {},
   "source": [
    "# set layer 2 ibound to subcatc"
   ]
  },
  {
   "cell_type": "code",
   "execution_count": null,
   "metadata": {},
   "outputs": [],
   "source": [
    "plt.imshow(ml.bas6.ibound.array[0])"
   ]
  },
  {
   "cell_type": "code",
   "execution_count": null,
   "metadata": {},
   "outputs": [],
   "source": [
    "\n"
   ]
  },
  {
   "cell_type": "code",
   "execution_count": null,
   "metadata": {},
   "outputs": [],
   "source": [
    "fig, ax = plt.subplots(3,2)\n",
    "ax = ax.ravel()\n",
    "for lay in np.arange(ml.dis.nlay):\n",
    "    arr = np.copy(ml.bas6.ibound.array[lay])\n",
    "    if lay==1:\n",
    "        arr[active_sub>0] = 1\n",
    "        \n",
    "    np.savetxt(os.path.join(owhm2, 'model_arrays',f'ibound_{lay+1}.txt'), arr,  fmt=\"%d\",)\n",
    "\n",
    "    ax[lay].imshow(arr)\n",
    "    # ax = plt.imshow(arr)\n",
    "\n",
    "    ax[lay].set_title(f'layer {lay}')\n",
    "    # ax[lay].axes('off')"
   ]
  },
  {
   "cell_type": "markdown",
   "metadata": {},
   "source": [
    "# set initial heads"
   ]
  },
  {
   "cell_type": "code",
   "execution_count": null,
   "metadata": {},
   "outputs": [],
   "source": [
    "clist = os.path.join(workspace, 'init_heads')\n",
    "files = os.listdir(clist)\n",
    "\n",
    "fig, ax = plt.subplots(3,2)\n",
    "ax = ax.ravel()\n",
    "for lay,f in enumerate(files):\n",
    "    print(f)\n",
    "    file = os.path.join(clist,f)\n",
    "    # crops = np.genfromtxt(os.path.join(clist,f))\n",
    "    # file = k.split()[1]\n",
    "    # fl = os.path.join(workspace,file )\n",
    "\n",
    "    if ',' in open(file, 'r').readline():\n",
    "        d = ','\n",
    "    else:\n",
    "        d = None\n",
    "        \n",
    "    crops = np.genfromtxt(file,  delimiter = d)\n",
    "    # print(crops.ravel().unique())\n",
    "    if lay ==1:\n",
    "        crops[active_sub>0] = ml.dis.top[active_sub>0]\n",
    "\n",
    "    out = os.path.join(owhm2, 'init_heads',f)\n",
    "    print(out)\n",
    "    np.savetxt(out, crops,  fmt=\"%.3g\",)\n",
    "\n",
    "    ax[lay].imshow(crops.T)\n",
    "    # ax = plt.imshow(arr)\n",
    "\n",
    "    ax[lay].set_title(f'layer {lay}')"
   ]
  },
  {
   "cell_type": "markdown",
   "metadata": {},
   "source": [
    "# fix lay 2 (hk_3.csv) to not have null values\n",
    "\n",
    "\n",
    "nothing actually done here"
   ]
  },
  {
   "cell_type": "code",
   "execution_count": null,
   "metadata": {},
   "outputs": [],
   "source": [
    "clist = os.path.join(workspace, 'layer_percents_REDO')\n",
    "files = os.listdir(clist)\n",
    "print(files)\n",
    "files = [xx for xx in files if 'Hk_' in xx]\n",
    "print(files)\n",
    "fig, ax = plt.subplots(3,2)\n",
    "ax = ax.ravel()\n",
    "for lay,f in enumerate(files):\n",
    "    print(f)\n",
    "    file = os.path.join(clist,f)\n",
    "    # crops = np.genfromtxt(os.path.join(clist,f))\n",
    "    # file = k.split()[1]\n",
    "    # fl = os.path.join(workspace,file )\n",
    "\n",
    "    if ',' in open(file, 'r').readline():\n",
    "        d = ','\n",
    "    else:\n",
    "        d = None\n",
    "        \n",
    "    crops = np.genfromtxt(file,  delimiter = d)\n",
    "    # print(crops.ravel().unique())\n",
    "    # if lay ==1:\n",
    "    #     crops[active_sub>0] = .5\n",
    "\n",
    "    out = os.path.join(owhm2, 'layer_percents_REDO',f)\n",
    "    \n",
    "    print(out)\n",
    "        \n",
    "    np.savetxt(out, crops,  fmt=\"%.8g\",)\n",
    "\n",
    "    ax[lay].imshow(crops.T)\n",
    "    # ax = plt.imshow(arr)\n",
    "\n",
    "    ax[lay].set_title(f)"
   ]
  },
  {
   "cell_type": "code",
   "execution_count": null,
   "metadata": {},
   "outputs": [],
   "source": [
    "clist = os.path.join(workspace, 'layer_percents_REDO')\n",
    "files = os.listdir(clist)\n",
    "print(files)\n",
    "files = [xx for xx in files if 'Vk_' in xx]\n",
    "print(files)\n",
    "fig, ax = plt.subplots(3,2)\n",
    "ax = ax.ravel()\n",
    "for lay,f in enumerate(files):\n",
    "    print(f)\n",
    "    file = os.path.join(clist,f)\n",
    "    # crops = np.genfromtxt(os.path.join(clist,f))\n",
    "    # file = k.split()[1]\n",
    "    # fl = os.path.join(workspace,file )\n",
    "\n",
    "    if ',' in open(file, 'r').readline():\n",
    "        d = ','\n",
    "    else:\n",
    "        d = None\n",
    "        \n",
    "    crops = np.genfromtxt(file,  delimiter = d)\n",
    "    # print(crops.ravel().unique())\n",
    "    # if lay ==1:\n",
    "    #     crops[active_sub>0] = .5\n",
    "\n",
    "    out = os.path.join(owhm2, 'layer_percents_REDO',f)\n",
    "    \n",
    "    print(out)\n",
    "    np.savetxt(out, crops,  fmt=\"%.8g\",)\n",
    "\n",
    "    ax[lay].imshow(crops.T)\n",
    "    # ax = plt.imshow(arr)\n",
    "\n",
    "    ax[lay].set_title(f)"
   ]
  },
  {
   "cell_type": "markdown",
   "metadata": {},
   "source": [
    "# fixing soil"
   ]
  },
  {
   "cell_type": "code",
   "execution_count": null,
   "metadata": {},
   "outputs": [],
   "source": [
    "clist = os.path.join(owhm2, r'fmp_input', r'model_arrays')\n",
    "files = os.listdir(clist)\n",
    "print(owhm2)"
   ]
  },
  {
   "cell_type": "code",
   "execution_count": null,
   "metadata": {},
   "outputs": [],
   "source": [
    "soil = \"C:\\GSP\\sv\\model\\SV_mod_V2_owhm2\\master\\fmp_input\\model_arrays\\soils_redo_with_all_active_as_nonzero.dat\"\n",
    "\n",
    "clist = os.path.join(owhm2, r'fmp_input', r'model_arrays')\n",
    "files = os.listdir(clist)\n",
    "\n",
    "files = [xx for xx in files if 'soil' in xx]\n",
    "\n",
    "fig, ax = plt.subplots(2,1)\n",
    "ax = ax.ravel()\n",
    "\n",
    "for lay, f in enumerate(files):\n",
    "\n",
    "    file = os.path.join(clist,f)\n",
    "    # crops = np.genfromtxt(os.path.join(clist,f))\n",
    "    # file = k.split()[1]\n",
    "    # fl = os.path.join(workspace,file )\n",
    "\n",
    "    if ',' in open(file, 'r').readline():\n",
    "        d = ','\n",
    "    else:\n",
    "        d = None\n",
    "\n",
    "    crops = np.genfromtxt(file, dtype= int, delimiter = d)\n",
    "    ax[lay].imshow(crops.T)\n",
    "    crops[active_sub>0] = 3\n",
    "    ax[lay].set_title(f'layer {lay}')\n",
    "    ax[lay+1].imshow(crops.T)\n",
    "    \n",
    "    # print(crops.ravel().unique())\n",
    "    \n",
    "    np.savetxt(file, crops,  fmt=\"%d\", delimiter = ',')\n"
   ]
  },
  {
   "cell_type": "markdown",
   "metadata": {},
   "source": [
    "# fix zonation file\n",
    "\n"
   ]
  },
  {
   "cell_type": "code",
   "execution_count": null,
   "metadata": {},
   "outputs": [],
   "source": [
    "\n",
    "\n",
    "clist = os.path.join(workspace,  r'model_arrays')\n",
    "files = os.listdir(clist)\n",
    "\n",
    "files = [xx for xx in files if 'ZONATION_3' in xx]\n",
    "\n",
    "print(files)\n",
    "fig, ax = plt.subplots(2,1)\n",
    "ax = ax.ravel()\n",
    "\n",
    "for lay, f in enumerate(files):\n",
    "\n",
    "    file = os.path.join(clist,f)\n",
    "    # crops = np.genfromtxt(os.path.join(clist,f))\n",
    "    # file = k.split()[1]\n",
    "    # fl = os.path.join(workspace,file )\n",
    "\n",
    "    if ',' in open(file, 'r').readline():\n",
    "        d = ','\n",
    "    else:\n",
    "        d = None\n",
    "\n",
    "    crops = np.genfromtxt(file, dtype= int, delimiter = d)\n",
    "    ax[lay].imshow(crops.T)\n",
    "    crops[active_sub>0] = 9\n",
    "    ax[lay].set_title(f'layer {lay}')\n",
    "    ax[lay+1].imshow(crops.T)\n",
    "\n",
    "    out = os.path.join(owhm2, 'model_arrays',f)\n",
    "    print(f\"saving file {out}\")\n",
    "    # print(crops.ravel().unique())\n",
    "    np.savetxt(out, crops,  fmt=\"%d\",)\n",
    "    # np.savetxt(file, crops,  fmt=\"%d\", delimiter = ',')\n"
   ]
  },
  {
   "cell_type": "markdown",
   "metadata": {},
   "source": [
    "# add farms to inflows and others"
   ]
  },
  {
   "cell_type": "code",
   "execution_count": null,
   "metadata": {},
   "outputs": [],
   "source": [
    "81 + np.arange(new_farms)"
   ]
  },
  {
   "cell_type": "code",
   "execution_count": null,
   "metadata": {},
   "outputs": [],
   "source": []
  },
  {
   "cell_type": "code",
   "execution_count": null,
   "metadata": {},
   "outputs": [],
   "source": [
    "new_farms = 59"
   ]
  },
  {
   "cell_type": "code",
   "execution_count": null,
   "metadata": {},
   "outputs": [],
   "source": [
    "\n",
    "\n",
    "\n",
    "def copy_file_in_chunks(file_a_path, file_b_path, foot, chunk_size=80, ):\n",
    "    print(os.path.exists(file_a_path))\n",
    "    print(os.path.exists(file_b_path))\n",
    "    with open(file_a_path, 'r') as file_a, open(file_b_path, 'w') as file_b:\n",
    "        while True:\n",
    "            lines = []\n",
    "            for _ in range(chunk_size):\n",
    "                line = file_a.readline()\n",
    "                if not line:  # End of file\n",
    "                    break\n",
    "                lines.append(line)\n",
    "            \n",
    "            if not lines:\n",
    "                break  # No more lines to read\n",
    "            \n",
    "            file_b.writelines(lines)\n",
    "\n",
    "\n",
    "            \n",
    "            foot.to_csv(file_b, header=False, sep = '\\t', lineterminator='\\n')\n",
    "            \n",
    "            \n",
    "foot = pd.DataFrame(index = 81 + np.arange(new_farms), data = np.hstack( [np.zeros((new_farms,1)), np.ones((new_farms,1)), np.zeros((new_farms,1))]))\n",
    "file_a_path = os.path.join(workspace, 'fmp_input', 'model_arrays','update_svwwtp_only.txt')\n",
    "file_b_path = os.path.join(owhm2, 'FMP_update', 'update_svwwtp_only.txt')\n",
    "copy_file_in_chunks(file_a_path, file_b_path,  foot,)\n",
    "\n",
    "v = '0.7 0.7 0.7 0.7 1 0.7 0.7 0.7 0.7 0.7 0.7 0.9 0.7 1'\n",
    "v = [float(x) for x in v.split()]\n",
    "v = np.array(v).reshape((1,14))\n",
    "values = np.repeat(v, new_farms, axis=0)\n",
    "foot = pd.DataFrame(index = 81 + np.arange(new_farms), data = values)\n",
    "file_a_path = os.path.join(workspace, 'fmp_input', 'model_arrays','sv_OFE_GSP.txt')\n",
    "file_b_path = os.path.join(owhm2, 'FMP_update', 'sv_OFE_GSP.txt')\n",
    "copy_file_in_chunks(file_a_path,  file_b_path,foot,chunk_size = 81)\n",
    "\n",
    "\n",
    "# foot = pd.DataFrame(index = np.arange(81,101), data =np.hstack( [ np.arange(81,101).reshape((20,1)), np.ones((20,1))*19, np.zeros((20,1))]))\n",
    "# file_a_path = os.path.join(owhm2, 'FMP_update', 'sv_sfr_diversion_return_points.in')\n",
    "# file_b_path = os.path.join(owhm2, 'FMP_update', 'sv_sfr_diversion_return_points_new_farms.in')\n",
    "# copy_file_in_chunks(file_a_path,  file_b_path,foot,chunk_size = 80)"
   ]
  },
  {
   "cell_type": "code",
   "execution_count": null,
   "metadata": {},
   "outputs": [],
   "source": []
  },
  {
   "cell_type": "markdown",
   "metadata": {},
   "source": [
    "# add DRT file"
   ]
  },
  {
   "attachments": {
    "2d4e1990-f1a4-4345-8132-0cc47a8f9325.png": {
     "image/png": "[encoded data removed]"
    }
   },
   "cell_type": "markdown",
   "metadata": {},
   "source": [
    "![image.png](attachment:2d4e1990-f1a4-4345-8132-0cc47a8f9325.png)"
   ]
  },
  {
   "cell_type": "code",
   "execution_count": null,
   "metadata": {},
   "outputs": [],
   "source": []
  },
  {
   "cell_type": "code",
   "execution_count": null,
   "metadata": {},
   "outputs": [],
   "source": [
    "head = '''#Drain Returnflow\t\t\t\t\t\t\t\t\t\n",
    "BEGIN OPTIONS\t\t\t\t\t\t\t\t\t\n",
    "     RETURNFLOW\t\t\t\t\t\t\t\t\t\n",
    "#    PRINTFILE  89\t\t\t\t\t\t\t\t\t\n",
    "#    DBFILE    ./Output/DRT_Output.txt\t\t\t\t\t\t\t\t\t\n",
    "     NOPRINT\t\t\t\t\t\t\t\t\t\n",
    "END OPTIONS\t\t\t\t\t\t\t\t\t\n",
    "'''\n",
    "\n",
    "cells = np.genfromtxt(os.path.join(owhm2, 'model_arrays', 'uzf_cells.csv'), delimiter = ',', dtype = int)\n",
    "vk = np.genfromtxt(os.path.join(owhm2, 'model_arrays', 'uzf_vk.uzf'), delimiter = ',', dtype = float)\n",
    "run = np.genfromtxt(os.path.join(owhm2, 'model_arrays', 'uzf_route2segment.dat'), dtype = float)\n",
    "farm = np.genfromtxt(os.path.join(owhm2, 'fmp_input', 'farms', 'farm2016.dat' ))\n",
    "vk = np.round(vk,2)\n",
    "\n",
    "# to add mtn front areas to drain\n",
    "cells[active_sub>0] = 1\n",
    "\n",
    "\n",
    "i_, j_ = np.indices(cells.shape, )+1\n",
    "\n",
    "df = pd.DataFrame(np.hstack([cells.reshape((-1,1)), \n",
    "                             vk.reshape((-1,1)), \n",
    "                             i_.reshape((-1,1)), \n",
    "                             j_.reshape((-1,1)), \n",
    "                             ml.dis.top.array.reshape((-1,1)),\n",
    "                             farm.reshape((-1,1)),\n",
    "                             active_sub.reshape((-1,1))\n",
    "                            ]), columns = ['ibnd', 'k', 'i', 'j', 'top', 'farm', 'subcat'])\n",
    "\n",
    "df = df.astype({'ibnd':int, 'k':int, 'i':int, 'j':int, 'top':float, 'farm':int})\n",
    "\n",
    "df = df.query(\"ibnd==1\").drop(columns = 'ibnd')\n",
    "df.loc[:,'k'] = 0.0033*500*500\n",
    "\n",
    "\n",
    "df.loc[:,'lay'] = np.ones(df.shape[0], dtype = int)\n",
    "# subcat layer is 2\n",
    "c = df.loc[:,'subcat']>0\n",
    "df.loc[c,'lay'] = 2\n",
    "df.loc[c,'k'] = 0.0066*500*500\n",
    "\n",
    "df.loc[:,'farm'] = df.loc[:,'farm'].astype(int)\n",
    "df.loc[:,['d', ]] =-np.ones(df.shape[0], dtype = int)\n",
    "df.loc[:,[ 'd2', ]] =np.zeros(df.shape[0], dtype = int)\n",
    "df.loc[:,['d3']] =np.ones(df.shape[0], dtype = int)\n",
    "df.loc[:,['top']] =np.round(df.loc[:,'top'])\n",
    "\n",
    "#remove sfr locations\n",
    "print(df.shape)\n",
    "df = pd.merge(df, ml.sfr.df.loc[:,['i','j', 'iseg']], how = 'left')\n",
    "df = df.loc[df.iseg.isnull()] # keep only cells with no iseg\n",
    "print(df.shape)\n",
    "df= df.drop_duplicates(['i','j'])\n",
    "print(df.shape)\n",
    "\n",
    "head2 = \"{} {} 0 0\\n{} {}\\n\".format(df.shape[0], 50,df.shape[0], 0 )\n",
    "\n",
    "df = df.loc[:,['lay', 'i','j', 'top', 'k',  'd','farm', 'd2','d3']]\n",
    "with open(os.path.join(owhm2, 'drt.drt'), 'w') as w:\n",
    "    w.write(head)\n",
    "    w.write(head2)\n",
    "    df.to_csv(w, lineterminator = '\\n', index = False, header = False, sep = '\\t')\n",
    "    for i in range(800):\n",
    "        w.write('-1\\n')"
   ]
  },
  {
   "cell_type": "markdown",
   "metadata": {},
   "source": [
    "# add add K values to uzf file to be used to limit dperc"
   ]
  },
  {
   "cell_type": "code",
   "execution_count": null,
   "metadata": {},
   "outputs": [],
   "source": [
    "ch = allprecip.loc[:,'1969-Dec':].values\n",
    "\n",
    "ch = ch.ravel()\n",
    "ch = ch[ch>0]\n",
    "v = np.arange(10,99,10)\n",
    "plt.scatter(v,np.percentile(ch,v))\n",
    "plt.axhline(np.percentile(ch,50), ls = '--')"
   ]
  },
  {
   "cell_type": "code",
   "execution_count": null,
   "metadata": {},
   "outputs": [],
   "source": [
    "clist = os.path.join(workspace, 'model_arrays')\n",
    "files = os.listdir(clist)\n",
    "\n",
    "files  = [x for x in files if x=='uzf_vk.uzf']\n",
    "print(files)\n",
    "for f in files:\n",
    "\n",
    "    file = os.path.join(clist,f)\n",
    "    # crops = np.genfromtxt(os.path.join(clist,f))\n",
    "    # file = k.split()[1]\n",
    "    # fl = os.path.join(workspace,file )\n",
    "\n",
    "    if ',' in open(file, 'r').readline():\n",
    "        d = ','\n",
    "    else:\n",
    "        d = None\n",
    "        \n",
    "    crops = np.genfromtxt(file, dtype= float, delimiter = d)\n",
    "    crops[crops>0] = 0.0033\n",
    "    fff = crops.ravel()\n",
    "    \n",
    "    print(pd.Series(fff[fff>0] ).median())\n",
    "    # print(crops.ravel().unique())\n",
    "    crops[active_sub>0] = 0.0033\n",
    "    np.savetxt(os.path.join(owhm2, 'model_arrays','uzf_vk_fmp.csv'), crops,  fmt=\"%.4f\",)\n",
    "\n",
    "plt.imshow(crops)"
   ]
  },
  {
   "cell_type": "code",
   "execution_count": null,
   "metadata": {},
   "outputs": [],
   "source": []
  },
  {
   "cell_type": "markdown",
   "metadata": {},
   "source": [
    "# look at output"
   ]
  },
  {
   "cell_type": "code",
   "execution_count": null,
   "metadata": {},
   "outputs": [],
   "source": [
    "hds = flopy.utils.binaryfile.HeadFile(os.path.join(owhm2,'output', 'sv_model_grid_6layers.hds'))\n",
    "\n",
    "hd = hds.get_alldata()\n",
    "# plt.figure(figsize = (10,30),dpi = 250)\n",
    "fig, ax = plt.subplots(2,3, figsize = (5,10),dpi = 250)\n",
    "ax = ax.ravel()\n",
    "\n",
    "hd = np.ma.array(hd, mask = hd ==-999.)\n",
    "\n",
    "for n in np.arange(hd[-1].shape[0]):\n",
    "    ax[n].set_axis_off()\n",
    "    ax[n].contourf(hd[-1,n], vmax = 1000,vmin = -200, levels=np.arange(-200, 1000, 50), cmap = 'jet',origin=\"upper\")\n",
    "\n"
   ]
  },
  {
   "cell_type": "code",
   "execution_count": null,
   "metadata": {},
   "outputs": [],
   "source": []
  },
  {
   "cell_type": "code",
   "execution_count": null,
   "metadata": {},
   "outputs": [],
   "source": [
    "ml.dis.botm.array[1]"
   ]
  },
  {
   "cell_type": "markdown",
   "metadata": {},
   "source": [
    "# set layer to thickness of at least 100ft for layer 2"
   ]
  },
  {
   "cell_type": "code",
   "execution_count": null,
   "metadata": {},
   "outputs": [],
   "source": [
    "plt.imshow(active_sub)"
   ]
  },
  {
   "cell_type": "code",
   "execution_count": null,
   "metadata": {},
   "outputs": [],
   "source": [
    "dif = ml.dis.botm.array[0] - ml.dis.botm.array[1]\n",
    "\n",
    "c = (dif<100) & (active_sub>0)\n",
    "\n",
    "bot = ml.dis.botm.array[1]\n",
    "\n",
    "bot[c] = ml.dis.botm.array[0][c] - 100\n",
    "\n",
    "np.savetxt(os.path.join(owhm2, 'model_arrays', 'bot2.txt'), bot, fmt = \"%.2f\")\n",
    "plt.imshow(bot)"
   ]
  },
  {
   "cell_type": "markdown",
   "metadata": {},
   "source": [
    "# plot layer thicknesses"
   ]
  },
  {
   "cell_type": "code",
   "execution_count": null,
   "metadata": {},
   "outputs": [],
   "source": [
    "\n",
    "# plt.figure(figsize = (10,30),dpi = 250)\n",
    "fig, ax = plt.subplots(2,3, figsize = (8.5,11),dpi = 250)\n",
    "ax = ax.ravel()\n",
    "\n",
    "hd = np.vstack([np.expand_dims(ml.dis.top.array, 0), ml.dis.botm.array])\n",
    "\n",
    "\n",
    "for n in np.arange(6):\n",
    "    ax[n].set_axis_off()\n",
    "    arr = hd[n]-hd[n+1]\n",
    "    if n ==1:\n",
    "        arr[~((active_sub>0) | (ibnd==1))] =np.nan  \n",
    "    else:\n",
    "        arr[ibnd==0] =np.nan   \n",
    "    contourf = ax[n].contourf(arr, vmax = 100,vmin = 0, levels=np.arange(0, 101, 10), cmap = 'jet',origin=\"upper\", extend = 'max')\n",
    "    cbar = fig.colorbar(contourf)\n",
    "    ax[n].set_title(f'Layer {n+1}')\n",
    "\n",
    "fig.suptitle('Layer thicknesses (ft)')\n",
    "plt.savefig('layer_thick.png', bbox_inches = 'tight')"
   ]
  },
  {
   "cell_type": "markdown",
   "metadata": {},
   "source": [
    "# make basic hydrographs"
   ]
  },
  {
   "cell_type": "code",
   "execution_count": null,
   "metadata": {},
   "outputs": [],
   "source": [
    "modgeoms.query(f\"i=={loc[0][1]} and j=={loc[0][0]}\")"
   ]
  },
  {
   "cell_type": "code",
   "execution_count": null,
   "metadata": {},
   "outputs": [],
   "source": [
    "loc = [[98, 66]]"
   ]
  },
  {
   "cell_type": "code",
   "execution_count": null,
   "metadata": {},
   "outputs": [],
   "source": [
    "modgeoms.query(f\"i=={loc[0][0]} and j=={loc[0][1]}\").explore()"
   ]
  },
  {
   "cell_type": "code",
   "execution_count": null,
   "metadata": {},
   "outputs": [],
   "source": [
    "ax = bas.plot()\n",
    "subcat.exterior.plot(ax = ax)\n",
    "for _,i in enumerate(loc):\n",
    "    modgeoms.set_geometry(modgeoms.geometry.centroid).query(f\"i=={i[1]} and j=={i[0]}\").plot(ax =  ax, fc= 'k')"
   ]
  },
  {
   "cell_type": "code",
   "execution_count": null,
   "metadata": {},
   "outputs": [],
   "source": [
    "len(loc)"
   ]
  },
  {
   "cell_type": "markdown",
   "metadata": {},
   "source": [
    "# # make grid of plots"
   ]
  },
  {
   "cell_type": "code",
   "execution_count": null,
   "metadata": {},
   "outputs": [],
   "source": [
    "os.getcwd()"
   ]
  },
  {
   "cell_type": "code",
   "execution_count": null,
   "metadata": {},
   "outputs": [],
   "source": [
    "hds = flopy.utils.binaryfile.HeadFile(os.path.join(owhm2,'output', 'sv_model_grid_6layers.hds'))\n",
    "# ii, jj = np.meshgrid(np.arange(ml.dis.ncol),np.arange(ml.nrow))\n",
    "\n",
    "# ii = np.where(ii% 15==0, ii, np.nan)\n",
    "# jj = np.where(jj% 15==0, jj, np.nan)\n",
    "\n",
    "# ii[~((ibnd>0 ) | (active_sub>0))] = np.nan\n",
    "# jj[~((ibnd>0 ) | (active_sub>0))] = np.nan\n",
    "\n",
    "# loc = np.array(list(zip(ii.ravel(), jj.ravel())))\n",
    "\n",
    "# c = np.isnan(loc).any(axis = 1 )\n",
    "\n",
    "# # loc = loc[~c, :]\n",
    "loc = [[35, 33]]\n",
    "\n",
    "\n",
    "for v in loc:\n",
    "\n",
    "    fig, (ax, ax1) = plt.subplots(2,1)\n",
    "    active_grid_dis.exterior.plot(ax  =ax1)\n",
    "    subcat.plot(ax =ax1, fc = 'None',ec = 'g')\n",
    "    modgeoms.set_geometry(modgeoms.geometry.centroid).query(f\"i=={v[1]} and j=={v[0]}\").plot(ax =  ax1, fc= 'k')\n",
    "    \n",
    "    for lay in range(6):\n",
    "        # n =ml.dis.get_node([lay,int(v[0]), int(v[1])])\n",
    "\n",
    "        trans = hds.get_ts([[lay,int(v[1]), int(v[0])]])\n",
    "        trans[trans[:,1]==-999,:] = np.nan\n",
    "        if not np.isnan(trans[:,1]).all():\n",
    "            days = pd.to_datetime('12/1/1969') + pd.to_timedelta(trans[:,0], unit = \"D\")\n",
    "    \n",
    "            ax.plot(days, trans[:,1], label = lay+1, ls = '-')\n",
    "\n",
    "    ax.legend(title = 'Layer', bbox_to_anchor = (1,1), loc = 'upper left');\n",
    "    ax.grid(True)\n",
    "    ax1.set_axis_off();\n",
    "    ax.set_facecolor('lightgrey')\n",
    "    \n",
    "\n",
    "# h = hds.get_alldata()"
   ]
  },
  {
   "cell_type": "code",
   "execution_count": null,
   "metadata": {},
   "outputs": [],
   "source": []
  },
  {
   "cell_type": "code",
   "execution_count": null,
   "metadata": {},
   "outputs": [],
   "source": []
  },
  {
   "cell_type": "code",
   "execution_count": null,
   "metadata": {},
   "outputs": [],
   "source": []
  },
  {
   "cell_type": "code",
   "execution_count": null,
   "metadata": {},
   "outputs": [],
   "source": []
  },
  {
   "cell_type": "code",
   "execution_count": null,
   "metadata": {},
   "outputs": [],
   "source": []
  },
  {
   "cell_type": "code",
   "execution_count": null,
   "metadata": {},
   "outputs": [],
   "source": []
  },
  {
   "cell_type": "code",
   "execution_count": null,
   "metadata": {},
   "outputs": [],
   "source": []
  },
  {
   "cell_type": "code",
   "execution_count": null,
   "metadata": {},
   "outputs": [],
   "source": []
  },
  {
   "cell_type": "code",
   "execution_count": null,
   "metadata": {},
   "outputs": [],
   "source": []
  },
  {
   "cell_type": "code",
   "execution_count": null,
   "metadata": {},
   "outputs": [],
   "source": []
  },
  {
   "cell_type": "code",
   "execution_count": null,
   "metadata": {},
   "outputs": [],
   "source": []
  },
  {
   "cell_type": "code",
   "execution_count": null,
   "metadata": {},
   "outputs": [],
   "source": [
    "from conda_scripts import arich_functions\n",
    "\n",
    "def set_units(units = 'f'):\n",
    "    if units == 'm':\n",
    "        print('converting from M**3  to acre-feet')\n",
    "        # convert m**3 to acre-feet, and vice-versa\n",
    "        def m2ac(val):\n",
    "            return (val * (3.28084 ** 3)) / 43560.\n",
    "\n",
    "        def m2ac_area(val):\n",
    "            return (val * (3.28084 ** 2)) / 43560.\n",
    "\n",
    "        conversion = m2ac\n",
    "        conversion_area = m2ac_area\n",
    "    else:\n",
    "        print('converting from ft per day to acre-feet')\n",
    "        conversion = lambda x: x/43560.\n",
    "        conversion_area = lambda x: x/43560.\n",
    "\n",
    "    return conversion, conversion_area\n",
    "\n",
    "\n",
    "def load_fb_details(fb_details, units = 'f', active_farms = None, start_date ='9/30/1959' ):\n",
    "\n",
    "    conversion, _ = set_units(units)\n",
    "\n",
    "    tab = pd.read_csv(fb_details, sep='\\s+')\n",
    "\n",
    "    tabd = tab.drop_duplicates(['PER', 'STP', 'DAYS']).loc[:, ['PER', 'STP', 'DAYS']]\n",
    "\n",
    "    tabd.loc['s', :] = 0\n",
    "    tabd = tabd.sort_values('PER')\n",
    "    tabd.loc[:, 'dlength'] = tabd.DAYS.diff()\n",
    "\n",
    "    tabd.loc[:, 'datetime'] = pd.to_datetime(start_date) + pd.to_timedelta(tab.DAYS, unit=\"D\")\n",
    "    tabd = tabd.drop(['s', ]).drop(columns='DAYS')\n",
    "    tab = pd.merge(tab, tabd, left_on=['PER', 'STP'], right_on=['PER', 'STP'])\n",
    "\n",
    "    tab = tab.set_index(['datetime', 'FID'])\n",
    "    tab = tab.drop(\n",
    "        columns=[x for x in ['PER', 'STP', 'DAYS', 'Q-Discrepancy[%]', 'DATE_START', 'ACTIVE'] if x in tab.columns])\n",
    "\n",
    "    # convert to acre-feet\n",
    "    tab = tab.multiply(tab.loc[:, 'dlength'], axis='index').applymap(conversion)\n",
    "\n",
    "\n",
    "    if active_farms is None:\n",
    "        print('not selecting active farms')\n",
    "    else:\n",
    "        print('filtering to active farms')\n",
    "        # list of active farm areas\n",
    "        # active = pd.Series([2, 3, 4, 10, 11, 17, 18, 19, 21, 8])\n",
    "        # filter to active\n",
    "        tab = tab.query(\"FID.isin( @active_farms )\")\n",
    "\n",
    "    # get water year\n",
    "    tab_wy = tab.groupby(arich_functions.water_year(tab.index.get_level_values(0))).sum()\n",
    "    tab_wy.index = pd.to_datetime(tab_wy.index, format=\"%Y\")\n",
    "\n",
    "    return tab_wy, tab\n",
    "\n",
    "def load_sfr_return(return_file):\n",
    "\n",
    "    tab = pd.read_csv(return_file, sep = '\\s+')\n",
    "    return  tab\n",
    "fb,raw = load_fb_details(os.path.join(workspace,  \"FB_DETAILS.out\"))\n",
    "\n",
    "# fb,raw = load_fb_details(os.path.join(owhm2, 'output', \"FB_DETAILS.out\"))\n",
    "# sfr = load_sfr_return(os.path.join(owhm2, 'output', \"SFR_RETURN.out\"))"
   ]
  },
  {
   "cell_type": "code",
   "execution_count": null,
   "metadata": {},
   "outputs": [],
   "source": []
  },
  {
   "cell_type": "code",
   "execution_count": null,
   "metadata": {},
   "outputs": [],
   "source": [
    "import conda_scripts.arich_functions as af\n",
    "from conda_scripts import plot_help  \n",
    "#plot farms\n",
    "q = raw.copy()\n",
    "q = q.unstack().loc[:, q.unstack().columns[q.unstack().sum().abs() > .05]].stack()\n",
    "q = q.query('FID<72').groupby(level=[0]).sum().drop(columns=['Q-tot-in', 'Q-tot-out', 'dlength'])\n",
    "for c in q.columns:\n",
    "    if 'out' in c:\n",
    "        q.loc[:, c] = q.loc[:, c] * -1\n",
    "q = q.filter(regex = 'Q')\n",
    "q = q.groupby(af.water_year(q.index)).sum()\n",
    "q.index = pd.to_datetime(q.index, format=\"%Y\")\n",
    "fig, ax = plot_help.stackedbar_wdates(q, colormap='tab20')"
   ]
  },
  {
   "cell_type": "code",
   "execution_count": null,
   "metadata": {},
   "outputs": [],
   "source": [
    "sfr.query(\"WBS>81\").groupby(['DATE_START','SEG']).sum().loc[:,['RUNOFF']].unstack()"
   ]
  },
  {
   "cell_type": "code",
   "execution_count": null,
   "metadata": {},
   "outputs": [],
   "source": [
    "sfr.groupby(['WBS','SEG']).sum().loc[:,['RUNOFF']].unstack().droplevel(0,1).div(43265)"
   ]
  },
  {
   "cell_type": "code",
   "execution_count": null,
   "metadata": {},
   "outputs": [],
   "source": [
    "sfr.groupby(['DATE_START','WBS','SEG']).sum().loc[:,['RUNOFF']].unstack().droplevel(0,1).div(43265)"
   ]
  },
  {
   "cell_type": "code",
   "execution_count": null,
   "metadata": {},
   "outputs": [],
   "source": [
    "sfr.head().groupby(['WBS','SEG', 'DYEAR'])"
   ]
  },
  {
   "cell_type": "code",
   "execution_count": null,
   "metadata": {},
   "outputs": [],
   "source": [
    "# tips = sns.load_dataset(\"tips\")\n",
    "# g = sns.FacetGrid(tips, col=\"time\")\n",
    "\n",
    "g = sns.FacetGrid(sfr, row=\"WBS\", col=\"SEG\", margin_titles=True)\n",
    "g.map(sns.regplot, \"DYEAR\", \"RUNOFF\", color=\".3\", fit_reg=False, x_jitter=.1)"
   ]
  },
  {
   "cell_type": "code",
   "execution_count": null,
   "metadata": {},
   "outputs": [],
   "source": [
    "import seaborn as sns\n",
    "tips = sns.load_dataset(\"tips\")\n",
    "g = sns.FacetGrid(tips, col=\"time\")\n",
    "\n",
    "g = sns.FacetGrid(tips, row=\"smoker\", col=\"time\", margin_titles=True)\n",
    "g.map(sns.regplot, \"size\", \"total_bill\", color=\".3\", fit_reg=False, x_jitter=.1)"
   ]
  },
  {
   "cell_type": "code",
   "execution_count": null,
   "metadata": {},
   "outputs": [],
   "source": [
    "sfr.groupby(['DATE_START','WBS','SEG']).sum().loc[:,['RUNOFF']].unstack().droplevel(0,1).div(43265).plot(subplots = True,figsize = (15,15))"
   ]
  },
  {
   "cell_type": "code",
   "execution_count": null,
   "metadata": {},
   "outputs": [],
   "source": [
    "raw.query(\"FID>80\")"
   ]
  },
  {
   "cell_type": "code",
   "execution_count": null,
   "metadata": {},
   "outputs": [],
   "source": [
    "raw.query(\"FID>80\").groupby(level = [0,1]).sum().droplevel(1,0).iloc[:,cols:cols+5]"
   ]
  },
  {
   "cell_type": "code",
   "execution_count": null,
   "metadata": {},
   "outputs": [],
   "source": []
  },
  {
   "cell_type": "code",
   "execution_count": null,
   "metadata": {},
   "outputs": [],
   "source": [
    "q = raw.copy()\n",
    "\n",
    "q = q.unstack().loc[:,q.unstack().columns[q.unstack().sum().abs()>.05]].stack()\n",
    "\n",
    "q = q.query('FID<72').groupby(level = [0]).sum().drop(columns = ['Q-tot-in','Q-tot-out', 'dlength'])\n",
    "\n",
    "for c in q.columns:\n",
    "    if 'out' in c:\n",
    "        q.loc[:,c] = q.loc[:,c] *-1\n",
    "\n",
    "\n",
    "q = q.groupby(conda_scripts.arich_functions.water_year(q.index)).sum()\n",
    "q.index = pd.to_datetime(q.index, format = \"%Y\")\n",
    "\n",
    "conda_scripts.plot_help.stackedbar_wdates(q, colormap ='tab20')"
   ]
  },
  {
   "cell_type": "code",
   "execution_count": null,
   "metadata": {},
   "outputs": [],
   "source": [
    "q = raw.copy()\n",
    "\n",
    "q = q.unstack().loc[:,q.unstack().columns[q.unstack().sum().abs()>.05]].stack()\n",
    "\n",
    "q = q.query('FID>80').groupby(level = [0]).sum().drop(columns = ['Q-tot-in','Q-tot-out', 'dlength'])\n",
    "\n",
    "for c in q.columns:\n",
    "    if 'out' in c:\n",
    "        q.loc[:,c] = q.loc[:,c] *-1\n",
    "\n",
    "\n",
    "q = q.groupby(conda_scripts.arich_functions.water_year(q.index)).sum()\n",
    "q.index = pd.to_datetime(q.index, format = \"%Y\")\n",
    "\n",
    "conda_scripts.plot_help.stackedbar_wdates(q, )"
   ]
  },
  {
   "cell_type": "code",
   "execution_count": null,
   "metadata": {},
   "outputs": [],
   "source": [
    "for cols in np.arange(0, raw.shape[1],5):\n",
    "    raw.query(\"FID>80\").groupby(level = [0,1]).sum().droplevel(1,0).iloc[:,cols:cols+5].plot(subplots = True)"
   ]
  },
  {
   "cell_type": "code",
   "execution_count": null,
   "metadata": {},
   "outputs": [],
   "source": []
  },
  {
   "cell_type": "code",
   "execution_count": null,
   "metadata": {},
   "outputs": [],
   "source": []
  },
  {
   "cell_type": "code",
   "execution_count": null,
   "metadata": {},
   "outputs": [],
   "source": []
  },
  {
   "cell_type": "code",
   "execution_count": null,
   "metadata": {},
   "outputs": [],
   "source": [
    "import datetime"
   ]
  },
  {
   "cell_type": "code",
   "execution_count": null,
   "metadata": {},
   "outputs": [],
   "source": [
    "# Create DataFrame with a datetime column\n",
    "df = pd.DataFrame({'datetime_col': pd.to_datetime(['2023-01-01', '2023-01-02'])})\n",
    "# Convert datetime to integer (Unix timestamp in nanoseconds)\n",
    "df['timestamp_col'] = df['datetime_col'].astype('int64')\n",
    "print(df)"
   ]
  },
  {
   "cell_type": "code",
   "execution_count": null,
   "metadata": {},
   "outputs": [],
   "source": [
    "x = datetime.datetime(2000,1,1)\n",
    "\n",
    "x.strftime(\"%Y-%b\")"
   ]
  },
  {
   "cell_type": "code",
   "execution_count": null,
   "metadata": {},
   "outputs": [],
   "source": [
    "og = r\"C:\\GSP\\sv\\budget\\SV_mod_V2\\master\\fmp_input\\mnw_folder\\sv_fmp_deepend_1_only_GSP.mnw2\"\n",
    "\n",
    "outa = r\"C:\\GSP\\sv\\model\\virtual wells update\\sv_fmp_deepend_1_only_GSP_all_on_fix.mnw2\"\n",
    "itmp = False\n",
    "cnt = 0\n",
    "with open(og, 'r') as in_mnw:\n",
    "        with open(outa,'w') as new:\n",
    "            lin = in_mnw.readline()\n",
    "            new.write(lin)\n",
    "            while itmp ==False:\n",
    "                \n",
    "                for i in range(4):\n",
    "                        lin = in_mnw.readline()\n",
    "                        if 'itmp' in lin.lower():\n",
    "#                             print(lin[0]+'asdfasd')\n",
    "                            itmp = True\n",
    "                            break\n",
    "                        else:\n",
    "#                             print(lin[0])\n",
    "                            new.write(lin)\n",
    "                        \n",
    "#                 cnt = cnt+1\n",
    "#                 assert cnt<2,'asdf'\n",
    "\n",
    "print(work)\n",
    "allmn = {}\n",
    "for part in pd.Series(mnw).unique():\n",
    "    if len(part)>1:\n",
    "        print(part.split()[1])\n",
    "        cur = os.path.join(work, part.split()[1])\n",
    "        print(cur)\n",
    "        maxq = pd.read_csv(cur, names = ['l','r','c','a','farm','maxq','name','aa'])\n",
    "        maxq = funk(maxq)\n",
    "        allmn[part] = maxq\n",
    "        outa_link = r\"C:\\GSP\\sv\\model\\virtual wells update\\mnw_multi_wells_15_wells\\{:}\".format(os.path.basename(part.split()[1]))\n",
    "\n",
    "        maxq.to_csv(outa_link,header = None,index = False)\n",
    "    \n",
    "\n",
    "shp_cur = []\n",
    "for cnt, mna in enumerate(mnw):\n",
    "    stp_cru = allmn[mna] \n",
    "    shp_cur.append(stp_cru.shape[0])\n",
    "\n",
    "    with open(outa,'a+') as new:\n",
    "        new.write(f'{stp_cru.shape[0]}      ## stress period  {cnt} ( 15 wells max from each farm)\\n')\n",
    "    stp_cru.loc[:,['name','aa']].to_csv(outa, mode = 'a+', index = False, header=False,sep = '\\t')\n",
    "    \n",
    "            \n",
    "\n",
    "                    \n",
    "            \n"
   ]
  },
  {
   "cell_type": "code",
   "execution_count": null,
   "metadata": {},
   "outputs": [],
   "source": [
    "lith_zones = gpd.read_file(r\"T:\\arich\\Sonoma_Valley\\hydro_stat\\model_grid\\ZONE\\ZONATION_2\\zonation_3_dissolve_lith_names.shp\")\n",
    "\n",
    "lith_zones.plot('name')"
   ]
  },
  {
   "cell_type": "code",
   "execution_count": null,
   "metadata": {},
   "outputs": [],
   "source": []
  },
  {
   "cell_type": "code",
   "execution_count": null,
   "metadata": {},
   "outputs": [],
   "source": [
    "def get_lay(row, col):\n",
    "    ml.dis.top"
   ]
  },
  {
   "cell_type": "code",
   "execution_count": null,
   "metadata": {},
   "outputs": [],
   "source": [
    "og = r\"C:\\GSP\\sv\\budget\\SV_mod_V2\\master\\fmp_input\\mnw_folder\\sv_fmp_deepend_1_only_GSP.mnw2\"\n",
    "\n",
    "outa = r\"C:\\GSP\\sv\\model\\virtual wells update\\redo_layers.mnw2\"\n",
    "itmp = False\n",
    "cnt = 0\n",
    "with open(og, 'r') as in_mnw:\n",
    "        with open(outa,'w') as new:\n",
    "            lin = in_mnw.readline()\n",
    "            new.write(lin)\n",
    "            while itmp ==False:\n",
    "                for i in range(4):\n",
    "                        lin = in_mnw.readline()\n",
    "                        if 'itmp' in lin.lower():\n",
    "#                             print(lin[0]+'asdfasd')\n",
    "                            itmp = True\n",
    "                            break\n",
    "                        else:\n",
    "                            if 'LAY' in lin:\n",
    "                                split = lin.split('#')[0]\n",
    "#                                 print(split.strip().split(' '))\n",
    "                                lay, row, col, rw= split.strip().split(' ')\n",
    "                                newlays = f'{100}  {row} {col}  {rw}  ###\\n'\n",
    "                                new.write(newlays)\n",
    "                            else:\n",
    "                                new.write(lin)\n",
    "                        \n",
    "#                 cnt = cnt+1\n",
    "#                 assert cnt<2,'asdf'\n",
    "asdf\n",
    "print(work)\n",
    "allmn = {}\n",
    "for part in pd.Series(mnw).unique():\n",
    "    if len(part)>1:\n",
    "        print(part.split()[1])\n",
    "        cur = os.path.join(work, part.split()[1])\n",
    "        print(cur)\n",
    "        maxq = pd.read_csv(cur, names = ['l','r','c','a','farm','maxq','name','aa'])\n",
    "        maxq = funk(maxq)\n",
    "        allmn[part] = maxq\n",
    "        outa_link = r\"C:\\GSP\\sv\\model\\virtual wells update\\mnw_multi_wells_15_wells\\{:}\".format(os.path.basename(part.split()[1]))\n",
    "\n",
    "        maxq.to_csv(outa_link,header = None,index = False)\n",
    "    \n",
    "\n",
    "shp_cur = []\n",
    "for cnt, mna in enumerate(mnw):\n",
    "    stp_cru = allmn[mna] \n",
    "    shp_cur.append(stp_cru.shape[0])\n",
    "\n",
    "    with open(outa,'a+') as new:\n",
    "        new.write(f'{stp_cru.shape[0]}      ## stress period  {cnt} ( 15 wells max from each farm)\\n')\n",
    "    stp_cru.loc[:,['name','aa']].to_csv(outa, mode = 'a+', index = False, header=False,sep = '\\t')\n",
    "    \n",
    "            \n",
    "\n",
    "                    \n",
    "            \n"
   ]
  },
  {
   "cell_type": "code",
   "execution_count": null,
   "metadata": {},
   "outputs": [],
   "source": []
  },
  {
   "cell_type": "code",
   "execution_count": null,
   "metadata": {},
   "outputs": [],
   "source": [
    "nums =  [float(t.split(' ')[0]) for t in top[:-1] if len(top)>1]\n",
    "pd.DataFrame(shp_cur).join(pd.DataFrame(nums, columns =[ 'asdf'])   )"
   ]
  },
  {
   "cell_type": "code",
   "execution_count": null,
   "metadata": {},
   "outputs": [],
   "source": [
    "{(allmn[k].shape[0], k.split()[1]) for k in allmn.keys()}"
   ]
  },
  {
   "cell_type": "code",
   "execution_count": null,
   "metadata": {},
   "outputs": [],
   "source": [
    "allmn = {}\n",
    "for part in pd.Series(mnw).unique():\n",
    "    cur = os.path.join(work, mna.split()[1])\n",
    "    maxq = pd.read_csv(cur, names = ['l','r','c','a','farm','maxq','name','aa'])\n",
    "    maxq = funk(maxq)\n",
    "    allmn[part] = maxq\n",
    "allmn"
   ]
  },
  {
   "cell_type": "code",
   "execution_count": null,
   "metadata": {},
   "outputs": [],
   "source": [
    "fff = maxq.head()\n",
    "fn = lambda obj: obj.loc[np.random.choice(obj.index, size, replace),:]\n"
   ]
  },
  {
   "cell_type": "code",
   "execution_count": null,
   "metadata": {},
   "outputs": [],
   "source": [
    "def funk(maxq):\n",
    "    size = 15      # sample size\n",
    "    replace = True  # with replacement\n",
    "    fn = lambda obj: obj.loc[np.random.choice(obj.index, size, replace),:]\n",
    "    return maxq.groupby('farm', as_index=True).apply(fn).drop_duplicates(['farm', 'name'])"
   ]
  },
  {
   "cell_type": "code",
   "execution_count": null,
   "metadata": {},
   "outputs": [],
   "source": [
    "from pathlib import Path\n",
    "j = r\"C:\\GSP\\sv\\budget\\SV_mod_V2\\master\\fmp_input\\mnw_folder\"\n",
    "aa = list()\n",
    "for path in Path().rglob('*ned.link'):\n",
    "    aa.append(path.name)\n",
    "    \n",
    "aa = set(aa)\n",
    "aa = pd.Series(list(aa)).sort_values().tolist()\n",
    "\n",
    "fig, ax = plt.subplots(2,4,figsize = (10,10),sharey= True,sharex = True)\n",
    "ax = ax.ravel()\n",
    "for cnt,year in enumerate(aa):\n",
    "\n",
    "    ll = r\"C:\\GSP\\sv\\budget\\SV_mod_V2\\master\\fmp_input\\mnw_folder\\{:}\".format(year)\n",
    "    maxq = pd.read_csv(ll, names = ['l','r','farm','a','maxq','name'])\n",
    "\n",
    "    maxq.groupby('farm').count().loc[:,'maxq'].plot.bar(ax, ax=ax[cnt])\n",
    "    ax[cnt].set_title(year.replace('_mnw_deepened.link','').replace('SV_fmp_',''))\n",
    "    \n",
    "    plt.figure()\n",
    "    maxq = pd.read_csv(ll, names = ['l','r','c','a','farm','maxq','name','aa'])\n",
    "    maxq_geo = gpd.GeoDataFrame(pd.merge(maxq,active_grid,left_on = ['r','c'], right_on = ['row','column_']),geometry = 'geometry',crs = 2226)\n",
    "    axx = maxq_geo.plot('farm')\n",
    "    axx.set_title(year.replace('_mnw_deepened.link','').replace('SV_fmp_',''))\n",
    "    axx.text(0,0,f'num farms = {maxq_geo.shape[0]}', transform =axx.transAxes)"
   ]
  },
  {
   "cell_type": "code",
   "execution_count": null,
   "metadata": {},
   "outputs": [],
   "source": [
    "work = r'C:\\GSP\\sv\\budget\\SV_mod_V2\\master'\n",
    "for mna in mnw:\n",
    "    cur = os.path.join(work, mna.split()[1])\n",
    "    maxq = pd.read_csv(cur, names = ['l','r','c','a','farm','maxq','name','aa'])\n",
    "    asdf"
   ]
  },
  {
   "cell_type": "code",
   "execution_count": null,
   "metadata": {},
   "outputs": [],
   "source": [
    "folder = r\"C:\\GSP\\sv\\budget\\SV_mod_V2_owhm2\\master\\fmp_driver\"\n",
    "def write_out(folder, name, var):\n",
    "    outfile = os.path.join(folder, name+'_driver.txt')\n",
    "    print(outfile)\n",
    "    with open(outfile, 'w') as f:\n",
    "        for item in var:\n",
    "            f.write(item)\n",
    "\n",
    "write_out(folder, r'crops', crops)\n",
    "write_out(folder, r'mnw', mnw)\n",
    "write_out(folder, r'farms', farms)\n",
    "write_out(folder, r'pet', pet)\n",
    "write_out(folder, r'precip', precip)\n",
    "write_out(folder, r'nrd', nrd)\n"
   ]
  },
  {
   "cell_type": "code",
   "execution_count": null,
   "metadata": {},
   "outputs": [],
   "source": []
  },
  {
   "cell_type": "code",
   "execution_count": null,
   "metadata": {},
   "outputs": [],
   "source": [
    "fmp = r\"C:\\GSP\\sv\\budget\\SV_mod_V2_owhm2\\master\\fmp_input\\mnw_folder\\sv_fmp_deepend_1_only_GSP.mnw2\"\n",
    "\n",
    "name = []\n",
    "thiem = []\n",
    "diam =[]\n",
    "info = []\n",
    "\n",
    "with open(fmp,'r') as fm:\n",
    "    for _ in range(1):\n",
    "        line = fm.readline()\n",
    "\n",
    "    while line:\n",
    "        cur  =fm.readline()\n",
    "        if ('FMP' in cur)| ('virt' in cur):\n",
    "            pass\n",
    "        else:\n",
    "            break\n",
    "        name.append(cur.split(' ')[0])\n",
    "        thiem.append(fm.readline())\n",
    "        diam.append(fm.readline())\n",
    "        info.append(fm.readline())\n",
    "wells = pd.DataFrame(pd.Series(info).str.split().tolist(),index = name,columns = ['lay','row','col', 'ig2', 'ig2', 'ig3','ig4','ig5'])\n",
    "wells = wells.filter(regex = \"^(?!ig).*\")\n",
    "print(wells.shape)\n",
    "wells.head()"
   ]
  },
  {
   "cell_type": "code",
   "execution_count": null,
   "metadata": {},
   "outputs": [],
   "source": [
    "wells.shape"
   ]
  },
  {
   "cell_type": "code",
   "execution_count": null,
   "metadata": {},
   "outputs": [],
   "source": [
    "dfall = pd.DataFrame()\n",
    "cnt = 1\n",
    "for m in mnw:\n",
    "    p = m[m.rfind('\\\\'):m.find('.link')]+'.link'\n",
    "    try:\n",
    "        cyr = pd.read_csv(os.path.join(os.path.abspath(r'C:\\GSP\\sv\\budget\\SV_mod_V2_owhm2\\master\\fmp_input\\mnw_folder'),p.strip('\\\\')),\n",
    "                     names = ['l','r','c', 'na','farm','qmax','fmp', 'kstp'])\n",
    "        cyr.loc[:,'kstp'] = cnt\n",
    "    \n",
    "        dfall = dfall.append(cyr)\n",
    "        cnt = cnt+1\n",
    "    except:\n",
    "        print(f'failed {p}')\n",
    "print(dfall.shape)\n",
    "dfall.head()"
   ]
  },
  {
   "cell_type": "code",
   "execution_count": null,
   "metadata": {},
   "outputs": [],
   "source": [
    "farmlink = dfall.loc[:,['farm','fmp']].drop_duplicates()\n",
    "farmlink = farmlink.sort_values('farm')\n",
    "print(farmlink.shape)\n",
    "farmlink.head()"
   ]
  },
  {
   "cell_type": "code",
   "execution_count": null,
   "metadata": {},
   "outputs": [],
   "source": [
    "dfall.fmp.unique().shape"
   ]
  },
  {
   "cell_type": "code",
   "execution_count": null,
   "metadata": {},
   "outputs": [],
   "source": [
    "wellstarts = dfall.loc[:,['fmp','kstp']].groupby('fmp').agg(['min', 'max']).droplevel(axis=1, level = 0)\n",
    "wellstarts = wellstarts.rename(columns = {'min':'date_start', 'max':'date_end'})\n",
    "print(wellstarts.shape)\n",
    "wellstarts.head()"
   ]
  },
  {
   "cell_type": "code",
   "execution_count": null,
   "metadata": {},
   "outputs": [],
   "source": [
    "#Name\tFARM\tLAYER\tROW\tCOL\tQMAX\tDate_Start\tDate_End\n",
    "\n",
    "output = pd.merge(wellstarts, farmlink, left_index = True, right_on = 'fmp')\n",
    "print(output.shape)\n",
    "output = pd.merge(output, wells,left_on = 'fmp',right_index= True)\n",
    "print(output.shape)\n",
    "output.loc[:,'QMAX']  = 1000000\n",
    "\n",
    "output = output.loc[:,['fmp', 'farm','lay', 'row', 'col','QMAX', 'date_start', 'date_end']]\n",
    "print(output.shape)\n",
    "output.head()"
   ]
  },
  {
   "cell_type": "code",
   "execution_count": null,
   "metadata": {},
   "outputs": [],
   "source": [
    "wellstarts.index[~wellstarts.index.isin(wells.index)]"
   ]
  },
  {
   "cell_type": "code",
   "execution_count": null,
   "metadata": {},
   "outputs": [],
   "source": [
    "output.to_csv('owhm_conversion\\sv_owhm_wells.in', index = False, sep='\\t')"
   ]
  },
  {
   "cell_type": "code",
   "execution_count": null,
   "metadata": {},
   "outputs": [],
   "source": [
    "divs = pd.read_csv(r\"C:\\GSP\\sv\\model\\SV_mod_V2_owhm2\\master\\FMP_update\\sv_sfr_diversion_points.in\", skiprows=[0,1,2,3], sep = '\\t')\n",
    "print(divs.head())\n",
    "sfr_link = gpd.read_file(r'C:\\GSP\\sv\\budget\\sfr_link.shp')\n",
    "print(sfr_link.head())"
   ]
  },
  {
   "cell_type": "code",
   "execution_count": null,
   "metadata": {},
   "outputs": [],
   "source": [
    "divs_link = pd.merge(divs, sfr_link.loc[:,['outreach', 'iseg', 'ireach']], left_on = ['SEG', 'RCH'], right_on = ['iseg', 'ireach'])\n",
    "divs_link = divs_link.drop(columns = ['iseg', 'ireach'])\n",
    "divs_link.head()"
   ]
  },
  {
   "cell_type": "code",
   "execution_count": null,
   "metadata": {},
   "outputs": [],
   "source": [
    "sfr_return = pd.merge(divs_link, sfr_link.loc[:,['reachID', 'iseg', 'ireach']], left_on = 'outreach', right_on = 'reachID')\n",
    "sfr_return.head()"
   ]
  },
  {
   "cell_type": "code",
   "execution_count": null,
   "metadata": {},
   "outputs": [],
   "source": [
    "sfr_return_out = sfr_return.loc[:,['WBS','iseg', 'ireach']].reset_index()\n",
    "sfr_return_out.loc[:,'index'] = np.arange(1,sfr_return_out.shape[0]+1)\n",
    "sfr_return_out.to_csv(r\"C:\\GSP\\sv\\model\\SV_mod_V2_owhm2\\master\\FMP_update\\sv_sfr_diversion_return_points.in\", index=False, header = False)"
   ]
  },
  {
   "cell_type": "code",
   "execution_count": null,
   "metadata": {},
   "outputs": [],
   "source": []
  },
  {
   "cell_type": "code",
   "execution_count": null,
   "metadata": {},
   "outputs": [],
   "source": [
    "divs.WBS[~divs.WBS.isin(sfr_return.WBS)]"
   ]
  },
  {
   "cell_type": "code",
   "execution_count": null,
   "metadata": {},
   "outputs": [],
   "source": [
    "rout"
   ]
  },
  {
   "cell_type": "code",
   "execution_count": null,
   "metadata": {},
   "outputs": [],
   "source": [
    "rout = np.genfromtxt(r\"C:\\GSP\\sv\\model\\SV_mod_V2_owhm2\\master\\model_arrays\\uzf_route2segment.dat\")\n",
    "farms = np.genfromtxt(r\"C:\\GSP\\sv\\model\\SV_mod_V2_owhm2\\master\\fmp_input\\farms\\2012_farms.dat\", delimiter = ',')\n",
    "c = farms <1\n",
    "rout[c] = np.nan\n",
    "plt.figure()\n",
    "plt.imshow(rout)"
   ]
  },
  {
   "cell_type": "code",
   "execution_count": null,
   "metadata": {},
   "outputs": [],
   "source": [
    "farms = np.genfromtxt(r\"C:\\GSP\\sv\\model\\SV_mod_V2_owhm2\\master\\fmp_input\\farms\\2012_farms.dat\", delimiter = ',')\n",
    "farms.shape\n",
    "rout = np.genfromtxt(r\"C:\\GSP\\sv\\model\\SV_mod_V2_owhm2\\master\\model_arrays\\uzf_route2segment.dat\")\n",
    "\n",
    "xx,yy = np.indices(farms.shape)\n",
    "\n",
    "# farms = np.hstack((np.reshape(xx,(-1,1)),np.reshape(yy,(-1,1)),np.reshape(farms,(-1,1))))\n",
    "\n",
    "rout = np.genfromtxt(r\"C:\\GSP\\sv\\budget\\SV_mod_V2_owhm2\\master\\model_arrays\\uzf_route2segment.dat\")\n",
    "rout = np.hstack((np.reshape(xx,(-1,1)),np.reshape(yy,(-1,1)),np.reshape(rout,(-1,1)), np.reshape(farms,(-1,1))))\n",
    "rout = pd.DataFrame(rout, columns = ['i', 'j', 'rout', 'farm'])\n",
    "\n",
    "\n",
    "rout = rout[rout.farm>0]\n",
    "rout = rout.loc[:,['rout','farm']].groupby('farm').median()\n",
    "\n",
    "rout = rout.reindex(np.arange(1,81)).fillna(0).rename(columns = {'rout':'seg'})\n",
    "rout.loc[:,'isrr'] = rout.index\n",
    "rout.loc[:,'rch2'] = 0\n",
    "# rout.reset_index()\n",
    "rout = rout.reset_index().loc[:,['isrr','farm', 'seg', 'rch2']]\n",
    "rout.to_csv(r\"C:\\GSP\\sv\\budget\\SV_mod_V2_owhm2\\master\\FMP_update\\sv_sfr_diversion_return_points.in\", index=False, header = False)\n",
    "rout"
   ]
  },
  {
   "cell_type": "code",
   "execution_count": null,
   "metadata": {},
   "outputs": [],
   "source": [
    "farms = np.genfromtxt(r\"C:\\GSP\\sv\\model\\SV_mod_V2_owhm2\\master\\fmp_input\\farms\\2012_farms.dat\", delimiter = ',')\n",
    "farms.shape\n",
    "rout = np.genfromtxt(r\"C:\\GSP\\sv\\model\\SV_mod_V2_owhm2\\master\\model_arrays\\uzf_route2segment.dat\")\n",
    "rout.shape"
   ]
  },
  {
   "cell_type": "code",
   "execution_count": null,
   "metadata": {},
   "outputs": [],
   "source": [
    "beg.close()"
   ]
  },
  {
   "cell_type": "code",
   "execution_count": null,
   "metadata": {},
   "outputs": [],
   "source": [
    "v1 = r\"C:\\GSP\\sv\\model\\SV_mod_V2_owhm2\\master\\FMP.fmp4\"\n",
    "reading = list()\n",
    "line = True\n",
    "with open(v1, 'r') as beg:\n",
    "    while line:\n",
    "        line = beg.readline()\n",
    "        try:\n",
    "            if not(line.strip()[0]=='#'):\n",
    "    #             print(line)\n",
    "                reading.append(line)\n",
    "\n",
    "        except:\n",
    "            pass\n",
    "\n"
   ]
  },
  {
   "cell_type": "code",
   "execution_count": null,
   "metadata": {},
   "outputs": [],
   "source": [
    "v1 = r\"C:\\GSP\\sv\\model\\SV_mod_V2_owhm2\\master\\SV_FMP_V2.fmp\"\n",
    "reading_upd = list()\n",
    "line = True\n",
    "with open(v1, 'r') as beg:\n",
    "    while line:\n",
    "        line = beg.readline()\n",
    "        try:\n",
    "            if not(line.strip()[0]=='#'):\n",
    "    #             print(line)\n",
    "                reading_upd.append(line)\n",
    "\n",
    "        except:\n",
    "            pass"
   ]
  },
  {
   "cell_type": "code",
   "execution_count": null,
   "metadata": {},
   "outputs": [],
   "source": []
  },
  {
   "cell_type": "code",
   "execution_count": null,
   "metadata": {},
   "outputs": [],
   "source": [
    "og = r\"C:\\GSP\\sv\\budget\\SV_mod_V2\\master\\fmp_input\\mnw_folder\\sv_fmp_deepend_1_only_GSP.mnw2\"\n",
    "\n",
    "outa = r\"C:\\GSP\\sv\\model\\virtual wells update\\sv_fmp_deepend_1_only_GSP_longer.mnw2\"\n",
    "itmp = False\n",
    "with open(og, 'r') as mnw:\n",
    "    \n",
    "        with open(outa,'w') as new:\n",
    "            lin = mnw.readline()\n",
    "            new.write(lin)\n",
    "            while itmp ==False:\n",
    "                \n",
    "                line_nspit = mnw.readline()\n",
    "                \n",
    "                lin = line_nspit.split(' ')\n",
    "                \n",
    "                if 'fmp' in lin[0].lower():\n",
    "                    pass\n",
    "                else:\n",
    "                    new.write(line_nspit+'    #added layer (above)\\n')\n",
    "                    break\n",
    "                \n",
    "                new.write(f'{lin[0]}  2\\n')\n",
    "                lin = mnw.readline()\n",
    "                new.write(lin)\n",
    "                lin = mnw.readline()\n",
    "                new.write(lin)\n",
    "                lin = mnw.readline()\n",
    "                new.write(lin)\n",
    "                f = lin.split()\n",
    "                if f[0]=='1':\n",
    "                    a = list(['       2'])\n",
    "                    a.extend(lin.split()[1:])\n",
    "                    rep = ' '.join(a)\n",
    "                    new.write(rep+'     #added layer (below)\\n')\n",
    "                else:\n",
    "                    a = list([f'        {int(f[0])-1}'])\n",
    "                    a.extend(lin.split()[1:])\n",
    "                    rep = ' '.join(a)\n",
    "                    new.write(rep+'    #added layer (above)\\n')\n",
    "                    \n",
    "            while lin:\n",
    "                lin = mnw.readline()\n",
    "                new.write(lin)\n"
   ]
  },
  {
   "cell_type": "code",
   "execution_count": null,
   "metadata": {},
   "outputs": [],
   "source": []
  },
  {
   "cell_type": "code",
   "execution_count": null,
   "metadata": {},
   "outputs": [],
   "source": [
    "[x for x in reading if not( x[:x.rfind('#')].strip() in [st[:st.rfind('#')].strip() for st in reading_upd]) and (not('output' in x.lower()))]"
   ]
  },
  {
   "cell_type": "code",
   "execution_count": null,
   "metadata": {},
   "outputs": [],
   "source": []
  },
  {
   "cell_type": "code",
   "execution_count": null,
   "metadata": {},
   "outputs": [],
   "source": [
    "[x for x in reading_upd if not( x[:x.rfind('#')].strip() in [st[:st.rfind('#')].strip() for st in reading]) and (not('output' in x))]"
   ]
  },
  {
   "cell_type": "code",
   "execution_count": null,
   "metadata": {},
   "outputs": [],
   "source": [
    "sfr_ret__ = r\"C:\\GSP\\sv\\model\\SV_mod_V2_owhm2\\master\\output\\SFR_RETURN.out\"\n",
    "sfr_return = pd.read_csv(sfr_ret__, sep =  '\\s+')\n",
    "sfr_return.groupby(['PER','SEG']).sum().loc[:,\"RUNOFF\"].plot(subplots=True)"
   ]
  },
  {
   "cell_type": "code",
   "execution_count": null,
   "metadata": {},
   "outputs": [],
   "source": [
    "sfr_return.groupby(['PER','SEG']).sum().loc[:,\"RUNOFF\"].plot(subplots=True)"
   ]
  },
  {
   "cell_type": "code",
   "execution_count": null,
   "metadata": {},
   "outputs": [],
   "source": [
    "sfr_return = sfr_return[sfr_return.SEG==19]\n",
    "sfr_return = sfr_return[sfr_return.RCH==29]\n",
    "sfr_return.head()"
   ]
  },
  {
   "cell_type": "code",
   "execution_count": null,
   "metadata": {},
   "outputs": [],
   "source": [
    "farmCrop.dtypes"
   ]
  },
  {
   "cell_type": "code",
   "execution_count": null,
   "metadata": {},
   "outputs": [],
   "source": [
    "farmCrop = pd.read_csv(r\"C:\\GSP\\sv\\model\\SV_mod_V2_owhm2\\master\\output\\ByFarm_ByCrop.txt\",sep = '\\s+')\n",
    "farmCrop = pd.merge(farmCrop, dts, left_on = 'PER', right_on = 'kstp')\n",
    "farmCrop.loc[:,'gw'] = farmCrop.filter(like = '_IRR').sum(axis=1)\n",
    "farmCrop = farmCrop.loc[farmCrop.loc[:,'IRRIGATED_AREA'] >0,:]\n",
    "farmCrop.loc[:,'gw']  = farmCrop.loc[:,'gw']*farmCrop.loc[:,'DELT'] /43560.\n",
    "\n",
    "tf = farmCrop.drop(columns = 'date').groupby(['Water Year','CROP_NAME']).sum().loc[:,['gw']]\n",
    "ax = ((tf.loc[:,'gw'])).unstack().mean().plot.bar()\n",
    "ax.set_title('average gw pumping acre feet')\n",
    "ax.grid(True)\n",
    "(tf.loc[:,'gw']).unstack().tail()"
   ]
  },
  {
   "cell_type": "code",
   "execution_count": null,
   "metadata": {},
   "outputs": [],
   "source": [
    "farmCrop = pd.read_csv(r\"C:\\GSP\\sv\\model\\SV_mod_V2_owhm2\\master\\output\\ByFarm_ByCrop.txt\",sep = '\\s+')\n",
    "farmCrop = pd.merge(farmCrop, dts, left_on = 'PER', right_on = 'kstp')\n",
    "farmCrop.loc[:,'gw'] = farmCrop.filter(like = '_IRR').sum(axis=1)\n",
    "farmCrop = farmCrop.loc[farmCrop.loc[:,'IRRIGATED_AREA'] >0,:]\n",
    "farmCrop.loc[:,'gw']  = farmCrop.loc[:,'gw']*farmCrop.loc[:,'DELT'] /farmCrop.loc[:,'AREA'] \n",
    "\n",
    "tf = farmCrop.drop(columns = 'date').groupby(['Water Year','CROP_NAME']).sum().loc[:,['gw']]\n",
    "# tf = farmCrop.groupby(['Water Year','CROP_NAME']).sum().loc[:,['gw']]\n",
    "ax = ((tf.loc[:,'gw'])).unstack().mean().plot.bar()\n",
    "ax.set_title('average gw depth')\n",
    "ax.grid(True)\n",
    "(tf.loc[:,'gw']).unstack().head()"
   ]
  },
  {
   "cell_type": "code",
   "execution_count": null,
   "metadata": {},
   "outputs": [],
   "source": [
    "farmCrop = pd.read_csv(r\"C:\\GSP\\sv\\model\\SV_mod_V2_owhm2\\master\\output\\ByFarm_ByCrop.txt\",sep = '\\s+')\n",
    "farmCrop = pd.merge(farmCrop, dts, left_on = 'PER', right_on = 'kstp')\n",
    "farmCrop.loc[:,'gw'] = farmCrop.filter(like = '_IRR').sum(axis=1)\n",
    "farmCrop = farmCrop.loc[farmCrop.loc[:,'IRRIGATED_AREA'] >0,:]\n",
    "farmCrop.loc[:,'gw']  = farmCrop.loc[:,'gw']*farmCrop.loc[:,'DELT']/43560\n",
    "\n",
    "tf = farmCrop.drop(columns = 'date').groupby(['Water Year','CROP_NAME']).sum().loc[:,['gw']].unstack().sum(axis=1)\n",
    "\n",
    "farmCrop = pd.read_csv(r\"C:\\GSP\\sv\\model\\SV_mod_V2_owhm2\\master_cirnoq_off\\output\\ByFarm_ByCrop.txt\",sep = '\\s+')\n",
    "farmCrop = pd.merge(farmCrop, dts, left_on = 'PER', right_on = 'kstp')\n",
    "farmCrop.loc[:,'gw'] = farmCrop.filter(like = '_IRR').sum(axis=1)\n",
    "farmCrop = farmCrop.loc[farmCrop.loc[:,'IRRIGATED_AREA'] >0,:]\n",
    "farmCrop.loc[:,'gw']  = farmCrop.loc[:,'gw']*farmCrop.loc[:,'DELT'] /43560\n",
    "\n",
    "tfv3 = farmCrop.drop(columns = 'date').groupby(['Water Year','CROP_NAME']).sum().loc[:,['gw']].unstack().sum(axis=1)\n",
    "\n",
    "ax = tf.plot(c = 'b', label = 'v2 CIRNOQ on')\n",
    "tfv3.plot(c = 'r', label = 'v2 CIRNOQ off',ax = ax)\n",
    "ax.legend()\n",
    "ax.set_title('irrigated area')"
   ]
  },
  {
   "cell_type": "code",
   "execution_count": null,
   "metadata": {},
   "outputs": [],
   "source": [
    "import conda_scripts.plot_help as ph"
   ]
  },
  {
   "cell_type": "code",
   "execution_count": null,
   "metadata": {},
   "outputs": [],
   "source": [
    "farmCrop = pd.read_csv(r\"C:\\GSP\\sv\\model\\SV_mod_V2_owhm2\\master_cirnoq_off\\output\\ByFarm_ByCrop.txt\",sep = '\\s+')\n",
    "farmCrop = pd.merge(farmCrop, dts, left_on = 'PER', right_on = 'kstp')\n",
    "farmCrop.loc[:,'gw'] = farmCrop.filter(like = '_IRR').sum(axis=1)\n",
    "farmCrop = farmCrop.loc[farmCrop.loc[:,'IRRIGATED_AREA'] >0,:]\n",
    "farmCrop.loc[:,'gw']  = farmCrop.loc[:,'gw']*farmCrop.loc[:,'DELT'] /43560\n",
    "\n",
    "tf = farmCrop.drop(columns = 'date').groupby(['Water Year','CROP_NAME']).sum().loc[:,['gw']]\n",
    "# ax = .plot.bar(stacked = True)\n",
    "fig,ax = ph.stackedbar_wdates(((tf.loc[:,'gw'])).unstack())\n",
    "ax.set_title('Total gw pumping, v2 cirnoq off')\n",
    "ax.grid(True)\n",
    "(tf.loc[:,'gw']).unstack().head()\n",
    "\n",
    "farmCrop = pd.read_csv(r\"C:\\GSP\\sv\\model\\SV_mod_V2_owhm2\\master\\output\\ByFarm_ByCrop.txt\",sep = '\\s+')\n",
    "farmCrop = pd.merge(farmCrop, dts, left_on = 'PER', right_on = 'kstp')\n",
    "farmCrop.loc[:,'gw'] = farmCrop.filter(like = '_IRR').sum(axis=1)\n",
    "farmCrop = farmCrop.loc[farmCrop.loc[:,'IRRIGATED_AREA'] >0,:]\n",
    "farmCrop.loc[:,'gw']  = farmCrop.loc[:,'gw']*farmCrop.loc[:,'DELT'] /43560\n",
    "\n",
    "tf = farmCrop.drop(columns = 'date').groupby(['Water Year','CROP_NAME']).sum().loc[:,['gw']]\n",
    "# ax = .plot.bar(stacked = True)\n",
    "fig,ax = ph.stackedbar_wdates(((tf.loc[:,'gw'])).unstack())\n",
    "ax.set_title('Total gw pumping, v2 cirnoq on')\n",
    "ax.grid(True)\n",
    "(tf.loc[:,'gw']).unstack().head()"
   ]
  },
  {
   "cell_type": "code",
   "execution_count": null,
   "metadata": {},
   "outputs": [],
   "source": [
    "fig, (ax,ax1, ax2) = plt.subplots(1,3, sharey=True,figsize = (10,6))\n",
    "fds = pd.read_csv(r\"C:\\GSP\\sv\\budget\\SV_mod_V2_owhm2\\master_cirnoq_off\\output\\fds.out\",sep = '\\s+')\n",
    "fds = pd.merge(fds, dts, left_on = 'PER', right_on = 'kstp')\n",
    "fds = fds.groupby('Water Year').sum()*30/43560.\n",
    "ax = fds.loc[:,'QREQ-FIN'].plot(marker = 'o', c = 'b', label = 'QREQ-FIN CIRNOQ = OFF',ax = ax)\n",
    "fds.loc[:, 'Q-FIN'].plot(ax = ax, c= 'orange', label = 'Q-FIN CIRNOQ = OFF')\n",
    "fds.loc[:, 'TFDR-FIN'].plot(ax = ax, c= 'k',ls = '-.', label = 'TFDR-FIN CIRNOQ = OFF')\n",
    "\n",
    "fds = pd.read_csv(r\"C:\\GSP\\sv\\budget\\SV_mod_V2_owhm2\\master\\output\\fds.out\",sep = '\\s+')\n",
    "fds = pd.merge(fds, dts, left_on = 'PER', right_on = 'kstp')\n",
    "fds = fds.groupby('Water Year').sum()*30/43560.\n",
    "fds.loc[:,'QREQ-FIN'].plot(marker = 'o',c = 'g', label = 'QREQ-FIN CIRNOQ = ON',ax = ax1)\n",
    "fds.loc[:, 'Q-FIN'].plot(ax = ax1, c = 'r', label = 'Q-FIN CIRNOQ = ON')\n",
    "fds.loc[:, 'TFDR-FIN'].plot(ax = ax1, c= 'green',ls = '-.', label = 'TFDR-FIN CIRNOQ = ON')\n",
    "\n",
    "\n",
    "ax.set_title('demanded groundwater pumping\\nporton of demand satsfied with groundwater pumping')\n",
    "\n",
    "\n",
    "fds = pd.read_csv(r\"C:\\GSP\\sv\\budget\\SV_mod_V2_owhm2\\master_all_irrigate_on\\output\\fds.out\",sep = '\\s+')\n",
    "fds = pd.merge(fds, dts, left_on = 'PER', right_on = 'kstp')\n",
    "fds = fds.groupby('Water Year').sum()*30/43560.\n",
    "fds.loc[:,'QREQ-FIN'].plot(marker = 'o',c = 'orange', label = 'QREQ-FIN CIRNOQ = ON  ALL IRR',ax = ax2)\n",
    "fds.loc[:, 'Q-FIN'].plot(ax = ax2, c = 'brown', label = 'Q-FIN CIRNOQ = ON  ALL IRR')\n",
    "fds.loc[:, 'TFDR-FIN'].plot(ax = ax2, c= 'c',ls = '-.', label = 'TFDR-FIN CIRNOQ = ON ALL IRR')\n",
    "# ax\n",
    "ax.legend();ax.grid(True)\n",
    "ax1.legend();ax1.grid(True)\n",
    "ax2.legend();ax2.grid(True)"
   ]
  },
  {
   "cell_type": "code",
   "execution_count": null,
   "metadata": {},
   "outputs": [],
   "source": [
    "fig, (ax,ax1, ax3, ax2) = plt.subplots(1,4, sharey=True,sharex=True,figsize = (10,6))\n",
    "fds = pd.read_csv(r\"C:\\GSP\\sv\\budget\\SV_mod_V2_owhm2\\master_cirnoq_off_mnw_off\\output\\fds.out\",sep = '\\s+')\n",
    "fds = pd.merge(fds, dts, left_on = 'PER', right_on = 'kstp')\n",
    "fds = fds.groupby('Water Year').sum()*30/43560.\n",
    "ax = fds.loc[:,'QREQ-FIN'].plot(marker = 'o', c = 'b', label = 'QREQ-FIN',ax = ax)\n",
    "fds.loc[:, 'Q-FIN'].plot(ax = ax, c= 'orange', label = 'Q-FIN')\n",
    "fds.loc[:, 'TFDR-FIN'].plot(ax = ax, c= 'k',ls = '-.', label = 'TFDR-FIN')\n",
    "\n",
    "fds = pd.read_csv(r\"C:\\GSP\\sv\\budget\\SV_mod_V2_owhm2\\master_cirnoq_off_MNW_auto_NONE\\output\\fds.out\",sep = '\\s+')\n",
    "fds = pd.merge(fds, dts, left_on = 'PER', right_on = 'kstp')\n",
    "fds = fds.groupby('Water Year').sum()*30/43560.\n",
    "fds.loc[:,'QREQ-FIN'].plot(marker = 'o',c = 'g', label = 'QREQ-FIN',ax = ax1)\n",
    "fds.loc[:, 'Q-FIN'].plot(ax = ax1, c = 'r', label = 'Q-FIN')\n",
    "fds.loc[:, 'TFDR-FIN'].plot(ax = ax1, c= 'green',ls = '-.', label = 'TFDR-FIN')\n",
    "\n",
    "fds = pd.read_csv(r\"C:\\GSP\\sv\\budget\\SV_mod_V2_owhm2\\master_cirnoq_off_mnw_off_auto_all\\output\\fds.out\",sep = '\\s+')\n",
    "fds = pd.merge(fds, dts, left_on = 'PER', right_on = 'kstp')\n",
    "fds = fds.groupby('Water Year').sum()*30/43560.\n",
    "fds.loc[:,'QREQ-FIN'].plot(marker = 'o',c = 'g', label = 'QREQ-FIN',ax = ax3)\n",
    "fds.loc[:, 'Q-FIN'].plot(ax = ax3, c = 'r', label = 'Q-FIN')\n",
    "fds.loc[:, 'TFDR-FIN'].plot(ax = ax3, c= 'green',ls = '-.', label = 'TFDR-FIN')\n",
    "\n",
    "\n",
    "\n",
    "fds = pd.read_csv(r\"C:\\GSP\\sv\\budget\\SV_mod_V2_owhm2\\master\\output\\fds.out\",sep = '\\s+')\n",
    "fds = pd.merge(fds, dts, left_on = 'PER', right_on = 'kstp')\n",
    "fds = fds.groupby('Water Year').sum()*30/43560.\n",
    "fds.loc[:,'QREQ-FIN'].plot(marker = 'o',c = 'orange', label = 'QREQ-FIN',ax = ax2)\n",
    "fds.loc[:, 'Q-FIN'].plot(ax = ax2, c = 'brown', label = 'Q-FIN')\n",
    "fds.loc[:, 'TFDR-FIN'].plot(ax = ax2, c= 'c',ls = '-.', label = 'TFDR-FIN')\n",
    "# ax\n",
    "ax.legend();ax.grid(True)\n",
    "ax1.legend();ax1.grid(True)\n",
    "ax2.legend();ax2.grid(True)\n",
    "ax3.legend();ax3.grid(True)\n",
    "\n",
    "\n",
    "\n"
   ]
  },
  {
   "cell_type": "code",
   "execution_count": null,
   "metadata": {},
   "outputs": [],
   "source": []
  },
  {
   "cell_type": "code",
   "execution_count": null,
   "metadata": {},
   "outputs": [],
   "source": [
    "rename = {\"CU_INI\":'CU-INI-initial-potential consumptve use of crop [ET*KC]',\n",
    "          'CU':'CU-is the actual crop consumptive use based on water supply',\n",
    "          \"DEMAND_INI\":'DEMAND_INI-is the irrigation demand to meet CIR_INI considering irrigation losses',\n",
    "          'DEMAND':\"DEMAND-irrigation demand/actual water supplied, to satisfy CIR\",\n",
    "          'CIR':\"CIR-no irrigation losses, to meet CU_INI after anoxia/soil-stresses\",\n",
    "         'TRAN':\"TRAN= TRAN_IRR + TRAN_PRECIP + TRAN_GW\"}\n",
    "fig, (ax,ax1) = plt.subplots(1,2,sharey=True,figsize = (10,4))\n",
    "crops = ['VINEYARD', 'PASTURE', \"FIELD_CROP\"]\n",
    "fluxes = [\"CU_INI\",\"CIR_INI\",\"DEMAND_INI\",'DEMAND','CIR','CU']\n",
    "fluxes = [\"CU_INI\",'CIR','DEMAND','TRAN','EVAP_IRR', 'EVAP_PRECIP', 'EVAP_GW']\n",
    "# fluxes = ['DEMAND','TRAN_IRR','EVAP_IRR']\n",
    "nrows = 500000\n",
    "\n",
    "allfarm = r\"C:\\GSP\\sv\\budget\\SV_mod_V2_owhm2\\master\\output\\ALL_farm_details.txt\"\n",
    "\n",
    "cirnon = pd.read_csv(allfarm,sep = '\\s+',nrows = nrows)\n",
    "print(cirnon.columns)\n",
    "cirnon = cirnon[cirnon.WBS<60]\n",
    "cmax = cirnon.PER.max()\n",
    "cirnon = cirnon[cirnon.PER==7]\n",
    "cir = cirnon.groupby(['CROP_NAME']).sum().loc[:,fluxes]\n",
    "cir.loc[crops,:].rename(columns=rename).plot.bar(ax = ax)\n",
    "ax.legend(bbox_to_anchor= (0,-.5), loc = 'upper left')\n",
    "\n",
    "plt.figure()\n",
    "allfarm = r\"C:\\GSP\\sv\\budget\\SV_mod_V2_owhm2\\master_cirnoq_off\\output\\ALL_farm_details.txt\"\n",
    "\n",
    "cirnon = pd.read_csv(allfarm,sep = '\\s+',nrows = nrows)\n",
    "cirnon = cirnon[cirnon.WBS<60]\n",
    "cirnon = cirnon[cirnon.PER==7]\n",
    "cir = cirnon.groupby(['CROP_NAME']).sum().loc[:,fluxes]\n",
    "cir.loc[crops,:].plot.bar(ax = ax1,legend = False)\n",
    "\n",
    "ax.grid(True);ax.set_title(f'NOCIRNOQ = ON\\n(STRESS PERIOD < {cmax})')\n",
    "ax1.grid(True);ax1.set_title(f'NOCIRNOQ = OFF\\n(STRESS PERIOD < {cmax}))')"
   ]
  },
  {
   "cell_type": "code",
   "execution_count": null,
   "metadata": {},
   "outputs": [],
   "source": []
  },
  {
   "cell_type": "code",
   "execution_count": null,
   "metadata": {},
   "outputs": [],
   "source": []
  },
  {
   "cell_type": "code",
   "execution_count": null,
   "metadata": {},
   "outputs": [],
   "source": []
  },
  {
   "cell_type": "code",
   "execution_count": null,
   "metadata": {},
   "outputs": [],
   "source": [
    "\n",
    "\n",
    "rename = {\"CU_INI\":'CU-INI-initial-potential consumptve use of crop [ET*KC]',\n",
    "          'CU':'CU-is the actual crop consumptive use based on water supply',\n",
    "          \"DEMAND_INI\":'DEMAND_INI-is the irrigation demand to meet CIR_INI considering irrigation losses',\n",
    "          'DEMAND':\"DEMAND-irrigation demand/actual water supplied, to satisfy CIR\",\n",
    "          'CIR':\"CIR-no irrigation losses, to meet CU_INI after anoxia/soil-stresses\",\n",
    "         'TRAN':\"TRAN= TRAN_IRR + TRAN_PRECIP + TRAN_GW\"}\n",
    "fig, (ax,ax1) = plt.subplots(1,2,sharey=True,figsize = (10,4))\n",
    "crops = ['VINEYARD', 'PASTURE', \"FIELD_CROP\"]\n",
    "fluxes = [\"CU_INI\",\"CIR_INI\",\"DEMAND_INI\",'DEMAND','CIR','CU']\n",
    "fluxes = [\"CU_INI\",'CIR','DEMAND','TRAN']\n",
    "# fluxes = ['DEMAND','TRAN_IRR','EVAP_IRR']\n",
    "nrows = 1000000000\n",
    "\n",
    "allfarm = r\"C:\\GSP\\sv\\budget\\SV_mod_V2_owhm2\\master\\output\\ALL_farm_details.txt\"\n",
    "\n",
    "cirnon = pd.read_csv(allfarm,sep = '\\s+',nrows = nrows)\n",
    "\n",
    "dts_tmp = dts.copy()\n",
    "dts_tmp.loc[:, 'kstp'] = dts_tmp.loc[:, 'kstp']+1\n",
    "\n",
    "cirnon = pd.merge(cirnon, dts, left_on = 'PER',right_on = 'kstp')\n",
    "cirnon.groupby(['Water Year', 'CROP_NAME', \"WBS\"]).sum().to_excel(os.path.join('plots_temp','CU_by_WY_farm_NOCIRNOQ_ON'+'.xlsx'))\n",
    "cirnon.groupby(['Water Year', 'CROP_NAME']).sum().to_excel(os.path.join('plots_temp','CU_by_WY_NOCIRNOQ_ON'+'.xlsx'))\n",
    "print(cirnon.columns)\n",
    "cirnon = cirnon[cirnon.WBS<69]\n",
    "cirnon = cirnon[cirnon.PER==7]\n",
    "cir = cirnon.groupby(['CROP_NAME']).sum().loc[:,fluxes]\n",
    "\n",
    "cir.loc[crops,:].rename(columns=rename).plot.bar(ax = ax)\n",
    "ax.legend(bbox_to_anchor= (0,-.5), loc = 'upper left')\n",
    "\n",
    "plt.figure()\n",
    "allfarm = r\"C:\\GSP\\sv\\budget\\SV_mod_V2_owhm2\\master_cirnoq_off\\output\\ALL_farm_details.txt\"\n",
    "\n",
    "cirnon = pd.read_csv(allfarm,sep = '\\s+',nrows = nrows)\n",
    "dts_tmp = dts.copy()\n",
    "dts_tmp.loc[:, 'kstp'] = dts_tmp.loc[:, 'kstp']+1\n",
    "\n",
    "cirnon = pd.merge(cirnon, dts, left_on = 'PER',right_on = 'kstp')\n",
    "cirnon.groupby(['Water Year', 'CROP_NAME', \"WBS\"]).sum().to_excel(os.path.join('plots_temp','CU_by_WY_farm_NOCIRNOQ_OFF'+'.xlsx'))\n",
    "cirnon.groupby(['Water Year', 'CROP_NAME']).sum().to_excel(os.path.join('plots_temp','CU_by_WY_NOCIRNOQ_OFF'+'.xlsx'))\n",
    "cirnon = cirnon[cirnon.WBS<69]\n",
    "cirnon = cirnon[cirnon.PER==7]\n",
    "cir = cirnon.groupby(['CROP_NAME']).sum().loc[:,fluxes]\n",
    "cir.loc[crops,:].plot.bar(ax = ax1,legend = False)\n",
    "\n",
    "ax.grid(True);ax.set_title('NOCIRNOQ = ON\\n(STRESS PERIOD 7)')\n",
    "ax1.grid(True);ax1.set_title('NOCIRNOQ = OFF\\n(STRESS PERIOD 7)')\n",
    "\n",
    "\n",
    "fig.savefig(os.path.join('plots_temp','consumptive use comparison'+'.png'), figszie = (5,5),bbox_inches = 'tight')"
   ]
  },
  {
   "cell_type": "code",
   "execution_count": null,
   "metadata": {},
   "outputs": [],
   "source": [
    "fds = pd.read_csv(r\"C:\\GSP\\sv\\budget\\SV_mod_V2_owhm2\\master\\output\\fds.out\",sep = '\\s+')\n",
    "fds = pd.merge(fds, dts, left_on = 'PER', right_on = 'kstp')\n",
    "farmCrop.loc[:,'gw'] = farmCrop.filter(like = '_IRR').sum(axis=1)\n",
    "farmCrop = farmCrop.loc[farmCrop.loc[:,'IRRIGATED_AREA'] >0,:]\n",
    "farmCrop.loc[:,'gw']  = farmCrop.loc[:,'gw']*farmCrop.loc[:,'DELT'] /43560\n",
    "\n",
    "tf = farmCrop.groupby(['Water Year','CROP_NAME']).sum().loc[:,['gw']]\n",
    "# ax = .plot.bar(stacked = True)\n",
    "fig,ax = ph.stackedbar_wdates(((tf.loc[:,'gw'])).unstack())\n",
    "ax.set_title('Total gw pumping, v2 CIRNOW on')\n",
    "ax.grid(True)\n",
    "(tf.loc[:,'gw']).unstack().head()"
   ]
  },
  {
   "cell_type": "code",
   "execution_count": null,
   "metadata": {},
   "outputs": [],
   "source": [
    "farmCrop = pd.read_csv(r\"C:\\GSP\\sv\\budget\\SV_mod_V2_owhm2\\master\\output\\ByFarm_ByCrop.txt\",sep = '\\s+')\n",
    "farmCrop = pd.merge(farmCrop, dts, left_on = 'PER', right_on = 'kstp')\n",
    "farmCrop.loc[:,'gw'] = farmCrop.filter(like = '_IRR').sum(axis=1)\n",
    "farmCrop = farmCrop[farmCrop.loc[:,'IRRIGATED_AREA'] >0]\n",
    "farmCrop.loc[:,'gw']  = farmCrop.loc[:,'gw'] /farmCrop.loc[:,'IRRIGATED_AREA'] \n",
    "\n",
    "tf = farmCrop.groupby(['Water Year','CROP_NAME']).sum().loc[:,['gw']]\n",
    "ax = ((tf.loc[:,'gw'])).unstack().mean().plot.bar()\n",
    "ax.grid(True)\n",
    "(tf.loc[:,'gw']).unstack()\n"
   ]
  },
  {
   "cell_type": "code",
   "execution_count": null,
   "metadata": {},
   "outputs": [],
   "source": [
    "tab = pd.read_clipboard()"
   ]
  },
  {
   "cell_type": "code",
   "execution_count": null,
   "metadata": {},
   "outputs": [],
   "source": [
    "tab"
   ]
  },
  {
   "cell_type": "code",
   "execution_count": null,
   "metadata": {},
   "outputs": [],
   "source": [
    "name = r'C:\\GSP\\sv\\budget\\SV_mod_V2_owhm2\\master_all_irrigate_on\\FMP_update\\irr_all_on.txt'\n",
    "\n",
    "for r in range(586):\n",
    "    with open(name, 'a') as redo:\n",
    "        redo.write('SFAC 1.0 #redo\\n')\n",
    "    tab.to_csv(name,sep = '\\t', header = None, index = False, line_terminator = '\\n',  mode='a')"
   ]
  },
  {
   "cell_type": "code",
   "execution_count": null,
   "metadata": {},
   "outputs": [],
   "source": [
    "farmCrop = pd.read_csv(r\"C:\\GSP\\sv\\budget\\SV_mod_V2_owhm2\\master\\output\\ByFarm_ByCrop.txt\",sep = '\\s+')\n",
    "farmCrop = pd.merge(farmCrop, dts, left_on = 'PER', right_on = 'kstp')\n",
    "farmCrop.loc[:,'gw'] = farmCrop.filter(like = '_IRR').sum(axis=1)\n",
    "# farmCrop.loc[:,'gw'] =( farmCrop.loc[:,'gw']/farmCrop.loc[:,'IRRIGATED_AREA'])\n",
    "# farmCrop= farmCrop.set_index(farmCrop.columns[0:3].tolist())\n",
    "ax = farmCrop.groupby(['Water Year','CROP_NAME']).sum().loc[:,'gw'].unstack().mean().divide(43560/30).plot.bar()\n",
    "ax.legend(loc ='upper left',bbox_to_anchor = (1,1))"
   ]
  },
  {
   "cell_type": "code",
   "execution_count": null,
   "metadata": {},
   "outputs": [],
   "source": [
    "farmCrop.groupby(['Water Year','WBS', 'CROP_NAME']).max()['IRRIGATED_AREA'].unstack().groupby('Water Year').sum().divide(43560).plot.area()"
   ]
  },
  {
   "cell_type": "code",
   "execution_count": null,
   "metadata": {},
   "outputs": [],
   "source": [
    "ax = farmCrop.groupby(['Water Year','CROP_NAME']).mean().loc[:,'IRRIGATED_AREA'].unstack().divide(43560).plot.area()\n",
    "ax.legend(bbox_to_anchor = (1,1))"
   ]
  },
  {
   "cell_type": "code",
   "execution_count": null,
   "metadata": {},
   "outputs": [],
   "source": [
    "farmCrop = farmCrop.divide(farmCrop.loc[:,['IRRIGATED_AREA']],axis='index')"
   ]
  },
  {
   "cell_type": "code",
   "execution_count": null,
   "metadata": {},
   "outputs": [],
   "source": [
    "farmCrop"
   ]
  },
  {
   "cell_type": "code",
   "execution_count": null,
   "metadata": {},
   "outputs": [],
   "source": []
  }
 ],
 "metadata": {
  "kernelspec": {
   "display_name": "Python 3 (ipykernel)",
   "language": "python",
   "name": "python3"
  },
  "language_info": {
   "codemirror_mode": {
    "name": "ipython",
    "version": 3
   },
   "file_extension": ".py",
   "mimetype": "text/x-python",
   "name": "python",
   "nbconvert_exporter": "python",
   "pygments_lexer": "ipython3",
   "version": "3.9.19"
  }
 },
 "nbformat": 4,
 "nbformat_minor": 4
}
