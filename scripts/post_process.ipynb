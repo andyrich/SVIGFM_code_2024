{
 "cells": [
  {
   "cell_type": "code",
   "execution_count": null,
   "id": "5171b255-b8bb-4474-a8d7-2d0dd6971643",
   "metadata": {},
   "outputs": [],
   "source": [
    "import pyemu\n",
    "import conda_scripts.load_datasets as lsd\n",
    "import os\n",
    "import pandas as pd\n",
    "import numpy as np\n",
    "import conda_scripts\n",
    "import forward_run\n",
    "import matplotlib.pyplot as plt\n",
    "import conda_scripts.plot_help as ph\n",
    "from conda_scripts import sv_budget\n",
    "import matplotlib as mpl\n",
    "import numpy as np\n",
    "\n",
    "import geopandas as gpd"
   ]
  },
  {
   "cell_type": "code",
   "execution_count": null,
   "id": "a8eb6ed4-ac40-454a-89d8-93206005eef0",
   "metadata": {},
   "outputs": [],
   "source": [
    "workspace = lsd.model_info.get_mod('son', True)\n",
    "workspace"
   ]
  },
  {
   "cell_type": "code",
   "execution_count": null,
   "id": "e8eccc0a-86e5-411d-a9b4-3def2a9e362e",
   "metadata": {},
   "outputs": [],
   "source": []
  },
  {
   "cell_type": "code",
   "execution_count": null,
   "id": "db18f553-1d56-46da-954d-73840d38feb4",
   "metadata": {},
   "outputs": [],
   "source": [
    "main = 'postprocess'\n",
    "fold =  'pestaws_v1'\n",
    "\n",
    "out_folder = os.path.join(main, fold)\n",
    "if not os.path.exists(out_folder):\n",
    "    os.makedirs(out_folder, exist_ok =True)"
   ]
  },
  {
   "cell_type": "code",
   "execution_count": null,
   "id": "2afc559c-4440-4fff-93df-2cb4e4c16d29",
   "metadata": {},
   "outputs": [],
   "source": []
  },
  {
   "cell_type": "code",
   "execution_count": null,
   "id": "7c0d6186-a053-48a2-83ed-2499bb7edb4a",
   "metadata": {},
   "outputs": [],
   "source": [
    "ml = conda_scripts.sv_budget.load_sv_model.get_model(workspace)"
   ]
  },
  {
   "cell_type": "code",
   "execution_count": null,
   "id": "45e6b756-fc0c-4883-b26e-16cbc81ea230",
   "metadata": {},
   "outputs": [],
   "source": [
    "m_d = f_d = \"C:\\GSP\\sv\\model\\pest_inputs\\PEST_PP\\pestaws\""
   ]
  },
  {
   "cell_type": "code",
   "execution_count": null,
   "id": "6e9d56c3-29f9-4432-b377-ef94c4c6ee25",
   "metadata": {},
   "outputs": [],
   "source": [
    "pst = pyemu.Pst(os.path.join(f_d,\"pest_ies.pst\"))"
   ]
  },
  {
   "cell_type": "code",
   "execution_count": null,
   "id": "cc03428e-102c-49fa-bc90-febaa3576fc7",
   "metadata": {},
   "outputs": [],
   "source": [
    "os.listdir(m_d)"
   ]
  },
  {
   "cell_type": "code",
   "execution_count": null,
   "id": "6f2bfd95-16e0-4ae8-b196-1a5f1f8fddd5",
   "metadata": {},
   "outputs": [],
   "source": [
    "pst.parrep(os.path.join(m_d, 'pest_ies.3.par.csv'), noptmax = 3)"
   ]
  },
  {
   "cell_type": "code",
   "execution_count": null,
   "id": "66431e0b-5fb7-4e9a-9948-ecd4b0d11524",
   "metadata": {},
   "outputs": [],
   "source": [
    "pst.write(os.path.join(r\"C:\\GSP\\sv\\model\\SV_mod_V2_owhm2\\master\", 'pest_ies.pst'), version = 2)"
   ]
  },
  {
   "cell_type": "code",
   "execution_count": null,
   "id": "d83b1d0d-f4ff-4433-bcf7-c7fb41e3f1ec",
   "metadata": {},
   "outputs": [],
   "source": [
    "pst.res.head()"
   ]
  },
  {
   "cell_type": "code",
   "execution_count": null,
   "id": "edb5201d-dd80-459b-a16c-3ba5e76f7e45",
   "metadata": {},
   "outputs": [],
   "source": [
    "pst.res.query(\"weight>0\")"
   ]
  },
  {
   "cell_type": "code",
   "execution_count": null,
   "id": "d3c6dfb7-f0e8-4992-a9b8-222a36b4e0b7",
   "metadata": {},
   "outputs": [],
   "source": [
    "pst.res.query(\"weight>0\").groupby('group').plot.scatter('measured', 'modelled',grid = True,legend =True)"
   ]
  },
  {
   "cell_type": "code",
   "execution_count": null,
   "id": "e7a09c2c-1265-41c9-861b-74dd56c641d1",
   "metadata": {},
   "outputs": [],
   "source": [
    "# the value of the objective function\n",
    "pst.phi"
   ]
  },
  {
   "cell_type": "code",
   "execution_count": null,
   "id": "105d45eb-7d1d-4341-8080-a6f1acc4ac11",
   "metadata": {},
   "outputs": [],
   "source": [
    "pst.plot(kind=\"1to1\",verbose = True) # requires Pst.res\n",
    "plt.savefig(os.path.join(out_folder, '1to1.png'))\n",
    "pst.plot(kind=\"prior\")\n",
    "plt.savefig(os.path.join(out_folder, 'prior.png'))\n",
    "pst.plot(kind=\"phi_pie\")\n",
    "plt.savefig(os.path.join(out_folder, 'pie.png'))"
   ]
  },
  {
   "cell_type": "code",
   "execution_count": null,
   "id": "494045cc-1526-4e6d-aee4-4f5d93f71000",
   "metadata": {},
   "outputs": [],
   "source": [
    "pst.parameter_data"
   ]
  },
  {
   "cell_type": "code",
   "execution_count": null,
   "id": "b08f87b5-5323-45d2-b8a0-57aeb8b5f0aa",
   "metadata": {},
   "outputs": [],
   "source": [
    "pst.bounds_report()"
   ]
  },
  {
   "cell_type": "code",
   "execution_count": null,
   "id": "817feb4d-119a-4ecd-bd36-51929b289035",
   "metadata": {},
   "outputs": [],
   "source": []
  },
  {
   "cell_type": "code",
   "execution_count": null,
   "id": "30b8073d-e8d0-4812-b389-7622630c58eb",
   "metadata": {},
   "outputs": [],
   "source": [
    "pst.observation_data"
   ]
  },
  {
   "cell_type": "code",
   "execution_count": null,
   "id": "ee5ed483-6e2a-4c9f-8516-340d17d5cd4b",
   "metadata": {},
   "outputs": [],
   "source": [
    "pst.res.group.unique()"
   ]
  },
  {
   "cell_type": "code",
   "execution_count": null,
   "id": "bf226647-9793-4032-828e-a8377ba8df6a",
   "metadata": {},
   "outputs": [],
   "source": [
    "pst.res.query(\"name.str.contains('agua_cal') and  name.str.contains('raw') and not measured<0 \").plot.scatter('measured','modelled')"
   ]
  },
  {
   "cell_type": "code",
   "execution_count": null,
   "id": "a0e2cfd1-2d97-4e1c-9c08-829595a30d2b",
   "metadata": {},
   "outputs": [],
   "source": [
    "pst.get_res_stats()"
   ]
  },
  {
   "cell_type": "code",
   "execution_count": null,
   "id": "cde3cb45-e98e-44c8-b0ff-1a9dd285a13b",
   "metadata": {},
   "outputs": [],
   "source": []
  },
  {
   "cell_type": "code",
   "execution_count": null,
   "id": "d20c3990-0b6b-4c4d-8009-20ff62ff7f98",
   "metadata": {},
   "outputs": [],
   "source": []
  },
  {
   "cell_type": "code",
   "execution_count": null,
   "id": "a08c5983-c186-40f5-8fc9-810b51d9df6c",
   "metadata": {},
   "outputs": [],
   "source": []
  },
  {
   "cell_type": "code",
   "execution_count": null,
   "id": "3ccbadb1-396f-4021-821d-47c8dba171ed",
   "metadata": {},
   "outputs": [],
   "source": [
    "fig, axes = plt.subplots(4, 2, sharey=True,sharex = True, figsize=(10,3.5))\n",
    "\n",
    "\n",
    "phi = pd.read_csv(os.path.join(f_d,\"pest_ies.phi.actual.csv\"),index_col=0)\n",
    "noi = pd.read_csv(os.path.join(f_d,\"pest_ies.phi.meas.csv\"),index_col=0)\n",
    "# phi.index = phi.total_runs\n",
    "# phi.index = phi.total_runs\n",
    "for it, row in phi.iterrows():\n",
    "    ax = axes[it,0]\n",
    "    phi.iloc[it,6:].apply(np.log10).plot.hist(legend=False,lw=0.5,color='k', ax=ax, bins = np.arange(9,11,.1), label = 'asdf')\n",
    "\n",
    "        # Add axvline for each mean value with different colors\n",
    "    colors = ['purple', 'orange', 'cyan']\n",
    "    \n",
    "\n",
    "    ax.axvline(x=np.log10(phi.loc[it,'mean']), color=colors[0], linestyle='-')\n",
    "    ax.axvline(x=np.log10(phi.loc[it,'min']), color=colors[1], linestyle='--')\n",
    "    ax.axvline(x=np.log10(phi.loc[it,'max']), color=colors[1], linestyle='--')\n",
    "    ax.fill_betweenx([0,150], np.log10(phi.loc[it,'min']),\n",
    "                     np.log10(phi.loc[it,'max']), color='grey', alpha=0.3)\n",
    "    ax.set_ylabel(r'count')\n",
    "    if it==0:\n",
    "        ax.set_title(r'Actual $\\Phi$')\n",
    "\n",
    "\n",
    "    \n",
    "    # right\n",
    "    ax = axes[it,1]\n",
    "    noi.iloc[it,6:].apply(np.log10).plot.hist(legend=False,lw=0.2,color='r', ax=ax, bins = np.arange(9,11,.1))\n",
    "    ax.axvline(x=np.log10(noi.loc[it,'mean']), color=colors[0], linestyle='-', label = \"Mean\")\n",
    "    ax.axvline(x=np.log10(noi.loc[it,'min']), color=colors[1], linestyle='--', label = 'min/max')\n",
    "    ax.axvline(x=np.log10(noi.loc[it,'max']), color=colors[1], linestyle='--')\n",
    "    ax.fill_betweenx([0,150], np.log10(noi.loc[it,'min']),\n",
    "                 np.log10(noi.loc[it,'max']), color='grey', alpha=0.3)\n",
    "    \n",
    "    if it==0:\n",
    "        ax.set_title(r'Measured+Noise $\\Phi$')\n",
    "        fig.tight_layout()\n",
    "        # ax.set_ylim([None, 11])\n",
    "        ax.legend()\n",
    "\n",
    "plt.savefig(os.path.join(out_folder, 'phi_reduction.png'))"
   ]
  },
  {
   "cell_type": "code",
   "execution_count": null,
   "id": "d3acf506-8cf5-4a1d-b173-4a7972d07574",
   "metadata": {},
   "outputs": [],
   "source": [
    "plt.figure()\n",
    "phi.iloc[-1,6:].hist()\n",
    "plt.title(r'Final $\\Phi$ Distribution');"
   ]
  },
  {
   "cell_type": "markdown",
   "id": "8dc988fd-1161-4512-8c3d-e3202a55b07f",
   "metadata": {},
   "source": [
    "PESTPP-IES has conveniently kept track of all our observation data, measurement noise and the model outputs from each realization at each iteration. This now allows us to go back and look at all this information in detail should we wish to do so. We are interested in looking at (1) how model outputs compare to measured data+noise and (2) the distribution of model outputs for forecast observations.\n",
    "\n",
    "Since PESTPP-IES evaluates a prior parameter ensemble, we can use the model outputs from that iteration (iteration zero) as a sample of the prior. We treat the model outputs from the ensemble for the final (best?) iteration as a sample of the posterior. Let's read in the files which PESTPP-IES recorded:"
   ]
  },
  {
   "cell_type": "code",
   "execution_count": null,
   "id": "800361e3-7353-49ee-b3ca-383131e99a2c",
   "metadata": {},
   "outputs": [],
   "source": [
    "pr_oe = pyemu.ObservationEnsemble.from_csv(pst=pst,filename=os.path.join(m_d,\"pest_ies.0.obs.csv\"))\n",
    "pt_oe = pyemu.ObservationEnsemble.from_csv(pst=pst,filename=os.path.join(m_d,\"pest_ies.{0}.obs.csv\".format(pst.control_data.noptmax)))\n",
    "noise = pyemu.ObservationEnsemble.from_csv(pst=pst,filename=os.path.join(m_d,\"pest_ies.obs+noise.csv\"))"
   ]
  },
  {
   "cell_type": "code",
   "execution_count": null,
   "id": "206cd428-dc11-4716-b3e3-e74e2741d3d5",
   "metadata": {},
   "outputs": [],
   "source": [
    "pt_oe"
   ]
  },
  {
   "cell_type": "code",
   "execution_count": null,
   "id": "46a2b303-4d0b-43d7-a4ac-cdcb1c6a11ee",
   "metadata": {},
   "outputs": [],
   "source": [
    "phi_per = pd.read_csv(os.path.join(m_d,\"pest_ies.phi.meas.csv\"), index_col = 0)\n",
    "phi_per"
   ]
  },
  {
   "cell_type": "code",
   "execution_count": null,
   "id": "9d5c23e4-2c0b-4d5c-8143-4df51ac89a44",
   "metadata": {},
   "outputs": [],
   "source": [
    "good = (phi_per.loc[[3],'0':]< (phi_per.at[3,'mean'] + phi_per.at[3,'standard_deviation'] ))\n",
    "good = good.T\n",
    "good  = good.loc[good.values]\n",
    "good"
   ]
  },
  {
   "cell_type": "markdown",
   "id": "4e9c61ca-43c8-45ae-a8cb-48c5b5c98247",
   "metadata": {},
   "source": [
    "Make a quick comparison of Phi between the prior and posterior. Nice improvement overall!"
   ]
  },
  {
   "cell_type": "code",
   "execution_count": null,
   "id": "5fb18e2a-eafe-4a89-bde7-208eff33c2fd",
   "metadata": {},
   "outputs": [],
   "source": [
    "fig,ax = plt.subplots(1,1)\n",
    "pr_oe.phi_vector.apply(np.log10).hist(ax=ax,fc=\"0.5\",ec=\"green\",alpha=1.,density=False, bins = np.arange(9,11,.05), label = 'Prior')\n",
    "pt_oe.phi_vector.apply(np.log10).hist(ax=ax,fc=\"None\",ec=\"b\",hatch = '/////',alpha=.51,density=False, bins = np.arange(9,11,.05), label = \"Posterior\")\n",
    "_ = ax.set_xlabel(\"$log_{10}\\\\phi$\")\n",
    "ax.legend()\n",
    "plt.savefig(os.path.join(out_folder, 'phisimple.png'))"
   ]
  },
  {
   "cell_type": "markdown",
   "id": "3f236a62-21c9-44c8-a6ce-ece566e841aa",
   "metadata": {},
   "source": [
    "Finally, what we really want to see. Let's plot timeseries of simulated versus measured observation values. We are going to do this many times in this notebook, so let's make a function:"
   ]
  },
  {
   "cell_type": "code",
   "execution_count": null,
   "id": "febf05cc-7948-4e97-b8fb-f2ef6fdb568d",
   "metadata": {},
   "outputs": [],
   "source": []
  },
  {
   "cell_type": "code",
   "execution_count": null,
   "id": "1a68b36e-660b-42bf-9fde-caac2d85f4ba",
   "metadata": {},
   "outputs": [],
   "source": [
    "pst.observation_data.head()"
   ]
  },
  {
   "cell_type": "code",
   "execution_count": null,
   "id": "5afffe61-6b54-4ec5-911d-d949f8743d6d",
   "metadata": {},
   "outputs": [],
   "source": [
    "def plot_tseries_ensembles(pr_oe, pt_oe, noise, onames=['sfr']):\n",
    "    pst.try_parse_name_metadata()\n",
    "    # get the observation data from the control file and select \n",
    "    obs = pst.observation_data.copy()\n",
    "    # onames provided in oname argument\n",
    "    obs = obs.loc[obs.oname.apply(lambda x: x in onames)]\n",
    "    # only non-zero observations\n",
    "    obs = obs.loc[obs.obgnme.apply(lambda x: x in pst.nnz_obs_groups),:]\n",
    "    # make a plot\n",
    "    ogs = obs.obgnme.unique()\n",
    "    fig,axes = plt.subplots(len(ogs),1,figsize=(10,2*len(ogs)))\n",
    "    print(ogs)\n",
    "\n",
    "    ogs.sort()\n",
    "    # for each observation group (i.e. timeseries)\n",
    "    for ax,og in zip(axes,ogs):\n",
    "        # get values for x axis\n",
    "        oobs = obs.loc[obs.obgnme==og,:].copy()\n",
    "        oobs.loc[:,\"time\"] = oobs.time.astype(float)\n",
    "        oobs.sort_values(by=\"time\",inplace=True)\n",
    "        tvals = oobs.time.values\n",
    "        onames = oobs.obsnme.values\n",
    "\n",
    "\n",
    "        # plot measured+noise \n",
    "        oobs = oobs.loc[oobs.weight>0,:]\n",
    "        tvals = oobs.time.values\n",
    "        onames = oobs.obsnme.values\n",
    "        [ax.plot(tvals,noise.loc[i,onames].values,\"grey\",lw=0.1,alpha=0.5) for i in noise.index]\n",
    "        \n",
    "        \n",
    "        # plot prior\n",
    "        [ax.plot(tvals,pr_oe.loc[i,onames].values,\"r\",lw=0.1,alpha=0.5) for i in pr_oe.index]\n",
    "\n",
    "        # plot posterior\n",
    "        [ax.plot(tvals,pt_oe.loc[i,onames].values,\"b\",lw=0.1,alpha=0.5) for i in pt_oe.index]\n",
    "\n",
    "        #plot observed\n",
    "        ax.plot(oobs.time,oobs.obsval,\"k-\",lw=2, alpha = 1.)\n",
    "        \n",
    "        ax.set_title(og,loc=\"left\")\n",
    "        ax.set_ylim([0,9])\n",
    "        ax.grid(True)\n",
    "\n",
    "        # Define the labels and corresponding colors\n",
    "        labels = ['Posterior', 'Meas. + Noise', 'Prior', 'Observed']\n",
    "        colors = ['blue', 'grey', 'red', 'black']\n",
    "        \n",
    "        \n",
    "        # Plot dummy lines to create legend entries\n",
    "        for color, label in zip(colors, labels):\n",
    "            ax.plot([], [], color=color, label=label)\n",
    "        \n",
    "        # Add the legend to the plot\n",
    "        ax.legend(bbox_to_anchor = (1,1), loc='upper left')\n",
    "        \n",
    "    fig.tight_layout()\n",
    "    return fig"
   ]
  },
  {
   "cell_type": "markdown",
   "id": "3103858c-7afc-4ee5-84e0-2116736851b5",
   "metadata": {},
   "source": [
    "posterior = blue  \n",
    "noise = grey  \n",
    "prior = red  \n",
    "observed = black  "
   ]
  },
  {
   "cell_type": "markdown",
   "id": "89bd64dd-5334-4973-8523-4fef9feb7b0c",
   "metadata": {},
   "source": [
    "OK, now plot the time series of non-zero observation groups. Let's just plot the timeseries of absolute values of heads and stream gage flow.\n",
    "\n",
    "In the plots below, red lines are timeseries simulated with the prior parameter ensemble. BLUE lines are model outputs simulated using the posterior parameter ensemble. GREY lines are the ensemble of measurement + noise. OBSERVED in black.\n",
    "\n",
    "Looks like we are getting an excellent fit. All the blue lines are within the same areas as the red lines. This implies we have achieved a level of fit commensurate with measurement noise. Sounds very positive. What do you think? Success? "
   ]
  },
  {
   "cell_type": "code",
   "execution_count": null,
   "id": "df34d41a-1df0-4910-91c4-302f9b843ec9",
   "metadata": {},
   "outputs": [],
   "source": [
    "fig = plot_tseries_ensembles(pr_oe, pt_oe, noise,)\n",
    "\n",
    "plt.savefig(os.path.join(out_folder, 'sfr_flows.png'))"
   ]
  },
  {
   "cell_type": "code",
   "execution_count": null,
   "id": "94b96cd6-49fc-4e03-8327-721527e3be40",
   "metadata": {},
   "outputs": [],
   "source": []
  },
  {
   "cell_type": "code",
   "execution_count": null,
   "id": "4e8a68ea-4f57-4834-8bad-d02dc033658c",
   "metadata": {},
   "outputs": [],
   "source": []
  },
  {
   "cell_type": "code",
   "execution_count": null,
   "id": "f4320eed-ee28-481b-9dbb-ba0b7a646950",
   "metadata": {},
   "outputs": [],
   "source": []
  },
  {
   "cell_type": "code",
   "execution_count": null,
   "id": "edef7efe-bc3b-44b9-a62f-96b5b00737ea",
   "metadata": {},
   "outputs": [],
   "source": []
  },
  {
   "cell_type": "code",
   "execution_count": null,
   "id": "dc3b6896-0b47-4e83-9924-3fcfbf8d15c2",
   "metadata": {},
   "outputs": [],
   "source": []
  },
  {
   "cell_type": "code",
   "execution_count": null,
   "id": "f4a3a06c-5203-4e64-9215-24f132171891",
   "metadata": {},
   "outputs": [],
   "source": [
    "pp = pt_oe.copy()\n",
    "\n",
    "cols = pd.DataFrame.from_records(pp.columns.str.split(':'))\n",
    "cols = pd.MultiIndex.from_frame(cols, names= ['oname', 'name', 'lst', 'group', 'time'])\n",
    "cols\n",
    "\n",
    "pp = pd.DataFrame(index = pp.index, data = pp.values, columns = cols )\n",
    "pp = pp.T\n",
    "pp"
   ]
  },
  {
   "cell_type": "markdown",
   "id": "7346e59b-95ca-40c8-9a73-b5a72b67cc9e",
   "metadata": {},
   "source": []
  },
  {
   "cell_type": "code",
   "execution_count": null,
   "id": "8cadb99e-949a-4f86-bdb1-11de65d7d9dc",
   "metadata": {},
   "outputs": [],
   "source": []
  },
  {
   "cell_type": "code",
   "execution_count": null,
   "id": "b2e35e1b-924c-47c5-8a98-29dde93a5983",
   "metadata": {},
   "outputs": [],
   "source": []
  },
  {
   "cell_type": "code",
   "execution_count": null,
   "id": "4b017163-aa74-42eb-855a-dbaccaef35a1",
   "metadata": {},
   "outputs": [],
   "source": [
    "flux.index.get_level_values(3).unique()"
   ]
  },
  {
   "cell_type": "code",
   "execution_count": null,
   "id": "7d07ff32-e1d8-4fc9-8159-8a94fe428f10",
   "metadata": {},
   "outputs": [],
   "source": [
    "flux = pp.query(\"name=='flux_otype'\")\n",
    "\n",
    "def plot_flux(flux, flux_n = 'sfr_in_date_start', box = False, plot = True):\n",
    "    sfr = flux.query(f\"group=='{flux_n}'\").droplevel([0,1,2,3])\n",
    "    \n",
    "    \n",
    "    sfr = sfr.loc[:,good.index]\n",
    "    sfr = sfr.loc['1970':,:]\n",
    "\n",
    "    if plot:\n",
    "        if box == True:\n",
    "            sfr.T.boxplot(rot = 90)\n",
    "        else:\n",
    "            sfr.plot(cmap = 'jet',title = flux_n, legend = False)\n",
    "        \n",
    "    return sfr\n",
    "\n",
    "sfr = plot_flux(flux, box = True )\n",
    "\n",
    "sfr = sfr.loc[:, (sfr.sum()> np.percentile(sfr.sum(), 25)) &  (sfr.sum()< np.percentile(sfr.sum(), 75)) ]\n",
    "\n",
    "\n",
    "sfr = plot_flux(flux, 'percent_error_date_start' )\n",
    "sfr = plot_flux(flux, 'fmp_wells_out_date_start' )\n",
    "\n",
    "\n",
    "stor_in = plot_flux(flux, 'storage_in_date_start',plot = False )\n",
    "stor_out = plot_flux(flux, 'storage_out_date_start' ,plot = False)\n",
    "(stor_out-stor_in).cumsum().div(43560).plot(cmap = 'jet',title = \"Cumumlative Storage Change\", legend = False, alpha = .25)\n",
    "\n",
    "\n",
    "stor_in = plot_flux(flux, 'fmp_fnr_out_date_start',plot = False )\n",
    "stor_out = plot_flux(flux, 'fmp_fnr_in_date_start' ,plot = False)\n",
    "(stor_in - stor_out-0).div(43560).plot(cmap = 'jet',title = \"SFR Exchange\", legend = False, alpha = .25)\n",
    "\n",
    "sfr = plot_flux(flux, 'drt_out_date_start' )\n",
    "# sfr.plot(cmap = 'jet')"
   ]
  },
  {
   "cell_type": "code",
   "execution_count": null,
   "id": "6f55d763-4e69-4532-be3b-7b2cbddb41d9",
   "metadata": {},
   "outputs": [],
   "source": []
  },
  {
   "cell_type": "code",
   "execution_count": null,
   "id": "b0b51391-4de3-4a4a-b32e-04212e9467b7",
   "metadata": {},
   "outputs": [],
   "source": []
  },
  {
   "cell_type": "code",
   "execution_count": null,
   "id": "486662d9-189b-4cb9-bc77-3d38c8cffe7d",
   "metadata": {},
   "outputs": [],
   "source": [
    "pp.index.get_level_values(1).unique()"
   ]
  },
  {
   "cell_type": "code",
   "execution_count": null,
   "id": "09d087a4-8a3b-42a7-bea0-876c859b6389",
   "metadata": {},
   "outputs": [],
   "source": [
    "obs = pst.observation_data.copy()\n",
    "obs.query(\"obsnme.str.contains('simulatedequivalent_observationname')\")"
   ]
  },
  {
   "cell_type": "code",
   "execution_count": null,
   "id": "88d96547-fea7-4313-b303-aee7a2559f59",
   "metadata": {},
   "outputs": [],
   "source": [
    "hds = pp.query(\"name=='hds_otype'\")\n",
    "# hds = hds.set_index(hds.index.get_level_values(4), append = True)"
   ]
  },
  {
   "cell_type": "code",
   "execution_count": null,
   "id": "37e11665-c664-402c-bb31-c02709494dc9",
   "metadata": {},
   "outputs": [],
   "source": [
    "hds = hds.set_index(hds.index.get_level_values(4).str.upper())\n",
    "\n",
    "hds = hds.loc[:, hds.columns.isin(good.index)]\n"
   ]
  },
  {
   "cell_type": "code",
   "execution_count": null,
   "id": "33add45a-74d3-486a-99b1-4ef9588d7f89",
   "metadata": {},
   "outputs": [],
   "source": [
    "import flopy "
   ]
  },
  {
   "cell_type": "code",
   "execution_count": null,
   "id": "4584ad2c-b03b-4ca7-bda0-1174b93db15a",
   "metadata": {},
   "outputs": [],
   "source": [
    "h = flopy.modflow.ModflowHob.load(os.path.join(ml.model_ws, 'SV_HOBS_11_18_2015.HOB'), ml)"
   ]
  },
  {
   "cell_type": "code",
   "execution_count": null,
   "id": "fef2c2c8-5e78-482a-810d-00d38e149ef6",
   "metadata": {},
   "outputs": [],
   "source": [
    "allmea = list()\n",
    "\n",
    "for r in  ml.HOB.obs_data:\n",
    "    cur = list()\n",
    "    if r.multilayer:\n",
    "        multi = list(r.mlay.keys())\n",
    "    else:\n",
    "        multi = [r.layer]\n",
    "    for k in r.time_series_data:\n",
    "        # print(r)\n",
    "        cur.extend(( r.row, r.column, k.totim, k.hobs, k.obsname, r.layer, r.nobs, r.multilayer, multi))\n",
    "\n",
    "    allmea.extend(cur)\n"
   ]
  },
  {
   "cell_type": "code",
   "execution_count": null,
   "id": "6c12c5d2-49c6-4ca3-9b3e-495432b244b4",
   "metadata": {},
   "outputs": [],
   "source": []
  },
  {
   "cell_type": "code",
   "execution_count": null,
   "id": "75689975-64ed-4c2f-957a-f70fd072113a",
   "metadata": {},
   "outputs": [],
   "source": []
  },
  {
   "cell_type": "code",
   "execution_count": null,
   "id": "065ce848-7e79-4898-a46e-1210ec19cb95",
   "metadata": {},
   "outputs": [],
   "source": []
  },
  {
   "cell_type": "code",
   "execution_count": null,
   "id": "7dc15694-2bd7-4b58-8cd6-b7161625af26",
   "metadata": {},
   "outputs": [],
   "source": []
  },
  {
   "cell_type": "code",
   "execution_count": null,
   "id": "9e5dcf72-44a6-4bd5-8c82-ecce9e6a2ce9",
   "metadata": {},
   "outputs": [],
   "source": []
  },
  {
   "cell_type": "code",
   "execution_count": null,
   "id": "ceed8cf8-8789-4b1a-80c0-41cbbdde0823",
   "metadata": {},
   "outputs": [],
   "source": [
    "hobs = pd.DataFrame(np.array(allmea).reshape((-1,9)), columns = ['row' ,'column', 'totim', 'hobs', 'obsname', 'layer', 'nobs','multilayer', 'mlays'])"
   ]
  },
  {
   "cell_type": "code",
   "execution_count": null,
   "id": "455823ef-3cef-4d72-a78f-bf8a9e6991b0",
   "metadata": {},
   "outputs": [],
   "source": []
  },
  {
   "cell_type": "code",
   "execution_count": null,
   "id": "9c2976b7-6219-48f2-852f-78c040f46aa2",
   "metadata": {},
   "outputs": [],
   "source": [
    "dumb = pd.get_dummies(hobs['mlays'].explode()).groupby(level=0).max()\n",
    "dumb = dumb.rename(columns = lambda x: f\"lay{x}\")\n",
    "hobs = hobs.join(dumb)"
   ]
  },
  {
   "cell_type": "code",
   "execution_count": null,
   "id": "392be14f-fbb1-4cc8-b82c-aee5c40feacd",
   "metadata": {},
   "outputs": [],
   "source": [
    "hobs.head()"
   ]
  },
  {
   "cell_type": "code",
   "execution_count": null,
   "id": "446a6045-9682-484d-b60b-fc6c461e8ce6",
   "metadata": {},
   "outputs": [],
   "source": []
  },
  {
   "cell_type": "code",
   "execution_count": null,
   "id": "00da0d7e-b618-4cd6-8034-ead07a89b109",
   "metadata": {},
   "outputs": [],
   "source": []
  },
  {
   "cell_type": "code",
   "execution_count": null,
   "id": "b09581fb-82cc-4478-805b-89f2d6bbdb30",
   "metadata": {},
   "outputs": [],
   "source": [
    "h = hobs.astype({'column':int, 'row':int, 'totim':float, 'hobs':float, 'layer':int, 'obsname':str, 'nobs':int})\n",
    "\n",
    "unq = h.drop_duplicates(['row', 'column', 'layer']).loc[:,['row', 'column', 'layer']]\n",
    "unq.loc[:,'wellnum'] = np.arange(unq.shape[0])\n",
    "\n",
    "h = pd.merge(h, unq, on = ['row', 'column', 'layer'])\n",
    "\n",
    "h.loc[:,'date'] = pd.to_datetime('12/1/1969') + pd.to_timedelta([int(x) for x in h.totim], unit = \"D\")"
   ]
  },
  {
   "cell_type": "code",
   "execution_count": null,
   "id": "84088c78-1f24-4f3a-9337-7a7f288a09c8",
   "metadata": {},
   "outputs": [],
   "source": [
    "h"
   ]
  },
  {
   "cell_type": "code",
   "execution_count": null,
   "id": "c3049cce-603d-47d2-93fb-f4dad1c0813e",
   "metadata": {},
   "outputs": [],
   "source": [
    "hall = pd.merge(h, hds, left_on = 'obsname', right_index = True)"
   ]
  },
  {
   "cell_type": "code",
   "execution_count": null,
   "id": "fc3efd5a-ec7a-4335-a6ee-41b5af573edc",
   "metadata": {},
   "outputs": [],
   "source": [
    "hall.head(3)"
   ]
  },
  {
   "cell_type": "code",
   "execution_count": null,
   "id": "e86e14b4-73f3-4008-8b06-6289f8557edd",
   "metadata": {},
   "outputs": [],
   "source": []
  },
  {
   "cell_type": "code",
   "execution_count": null,
   "id": "dd319001-d3fd-4367-95dc-59d6a7243ffb",
   "metadata": {},
   "outputs": [],
   "source": []
  },
  {
   "cell_type": "code",
   "execution_count": null,
   "id": "a6107c43-911a-480a-9619-d2674700357f",
   "metadata": {},
   "outputs": [],
   "source": []
  },
  {
   "cell_type": "code",
   "execution_count": null,
   "id": "48d580f9-bf58-4475-bb39-d6de7da7c30e",
   "metadata": {},
   "outputs": [],
   "source": [
    "path = os.path.join(out_folder, 'hydros')\n",
    "if not os.path.exists(os.path.join(out_folder, 'hydros')):\n",
    "    os.mkdir(path)"
   ]
  },
  {
   "cell_type": "code",
   "execution_count": null,
   "id": "69750c84-f209-45e8-b415-f48bf68acf7e",
   "metadata": {},
   "outputs": [],
   "source": []
  },
  {
   "cell_type": "code",
   "execution_count": null,
   "id": "255e1c25-ba53-4364-b658-f51929a4e9e0",
   "metadata": {},
   "outputs": [],
   "source": [
    "geom = conda_scripts.arich_functions.get_active_mod_df(ml.modelgrid, ml)"
   ]
  },
  {
   "cell_type": "code",
   "execution_count": null,
   "id": "131c44fb-a8d5-4837-b37e-8d85b859c295",
   "metadata": {},
   "outputs": [],
   "source": [
    "def make_plot(name,row, col):\n",
    "    from matplotlib.gridspec import GridSpec\n",
    "    fig = plt.figure(figsize = (10,6))\n",
    "\n",
    "    gs1 = GridSpec(1, 2, left=0.05, right=0.48, wspace=0.05,width_ratios=[7, 2],)\n",
    "    ax = fig.add_subplot(gs1[0, :-1])\n",
    "\n",
    "    ax.set_title(f'{name}\\n\\nSVIGFM V2 Simulated Head')  \n",
    "    ph.baseline(ax,hard = True,yearstart = 1970)\n",
    "\n",
    "    \n",
    "    ax.tick_params(labelbottom=True, labelleft=True)\n",
    "    ax.set_ylabel('Hydraulic Head (feet)')\n",
    "    ax.grid(True)\n",
    "\n",
    "    \n",
    "    ax3 = fig.add_subplot(gs1[-1, -1])\n",
    "    ax3.tick_params(labelbottom=False, labelleft=False)\n",
    "    sv_budget.sv_budget.sv_mod_map(simple = True,ax = ax3)\n",
    "    annotations = [child for child in ax3.get_children() if isinstance(child, mpl.text.Text)]\n",
    "    annotations[0].remove()\n",
    "    ax3.legend().remove()\n",
    "    pt = geom.query(f\"row=={row} and col =={col}\").geometry.centroid\n",
    "    print(pt)\n",
    "    \n",
    "    pt.plot(ax = ax3,  markersize = 40,marker = '*', color = 'r') \n",
    "    return fig, ax\n",
    "\n"
   ]
  },
  {
   "cell_type": "code",
   "execution_count": null,
   "id": "5fe1d169-c02f-47d2-9c43-7e99eca38bfa",
   "metadata": {},
   "outputs": [],
   "source": [
    "hall"
   ]
  },
  {
   "cell_type": "code",
   "execution_count": null,
   "id": "c524cb4f-a123-4582-a856-730617af1974",
   "metadata": {},
   "outputs": [],
   "source": []
  },
  {
   "cell_type": "code",
   "execution_count": null,
   "id": "3514872b-f588-4df7-b146-a5f312179a0f",
   "metadata": {},
   "outputs": [],
   "source": []
  },
  {
   "cell_type": "code",
   "execution_count": null,
   "id": "47be9a27-67e1-41c1-ac2c-2c76aa0050e9",
   "metadata": {},
   "outputs": [],
   "source": [
    "c = 0\n",
    "for n, row in hall.sort_values('nobs', ascending=False).groupby('wellnum'):\n",
    "    rowind = row['row'].unique()[0]\n",
    "    column = row['column'].unique()[0]\n",
    "    \n",
    "    fig, ax = make_plot('',rowind,column)\n",
    "    temp = row.set_index('date').loc[:,'0':].sort_index()\n",
    "    sub = temp.iloc[0,:]\n",
    "    temp.iloc[1:] = temp.iloc[1:].add(sub)\n",
    "    # row.set_index('date').loc[:,'0':].sort_index().add(row.set_index('date').loc[:,'0':].sort_index().iloc[0,:])\n",
    "    \n",
    "    \n",
    "    temp.plot(ax = ax, legend = False, alpha = .2)\n",
    "    row.set_index('date').loc[:,['hobs']].sort_index().plot(ax = ax, legend = False, c = 'k', label = \"Observed\")\n",
    "    # print(row.drop_duplicates())\n",
    "    lays = row.iloc[[0],:].reset_index().at[0,'mlays']\n",
    "    lays = ', '.join([str(j+1) for j in lays])\n",
    "    ax.set_title( \"\".join(row.obsname.unique()[0].split(\"_\")[:-1]) + f\", layer {lays}\" )\n",
    "    c = c+1\n",
    "    ph.yrange_(ax)\n",
    "    ax.grid(True)\n",
    "    plt.savefig(os.path.join(path,\"\".join(row.obsname.unique()[0].split(\"_\")[:-1])+'.png' ))\n",
    "\n",
    "    "
   ]
  },
  {
   "cell_type": "markdown",
   "id": "5a9c570d-9ac0-4139-bb25-98d30d86d5ca",
   "metadata": {},
   "source": [
    "# make plot of only first heads measurement to get map of actual head resisduals"
   ]
  },
  {
   "cell_type": "code",
   "execution_count": null,
   "id": "f1f43946-0af8-49ef-9e41-27c7e49fc441",
   "metadata": {},
   "outputs": [],
   "source": [
    "import mapclassify"
   ]
  },
  {
   "cell_type": "code",
   "execution_count": null,
   "id": "433df52d-1af5-4993-90cb-58ba489d7a16",
   "metadata": {},
   "outputs": [],
   "source": [
    "head_diff = []\n",
    "for n, row in hall.sort_values('nobs', ascending=False).groupby('wellnum'):\n",
    "    rowind = row['row'].unique()[0]\n",
    "    column = row['column'].unique()[0]\n",
    "    \n",
    "    temp = row.set_index('date').loc[:,'0':].sort_index().head(1)\n",
    "\n",
    "    #observed - predicted\n",
    "    temp = row.head(1)['hobs'].values[0] - temp\n",
    "\n",
    "    # sub = temp.iloc[0,:]\n",
    "    # temp.iloc[1:] = row['hobs'] - temp.iloc[1:].add(sub)\n",
    "\n",
    "    temp.index = [row['obsname'].unique()[0]]\n",
    "    head_diff.append(temp)\n",
    "    # row.set_index('date').loc[:,'0':].sort_index().add(row.set_index('date').loc[:,'0':].sort_index().iloc[0,:])\n",
    "\n",
    "head_diff = pd.concat(head_diff)\n",
    "\n",
    "head_diff = pd.merge(head_diff.T.describe().T, hall.loc[:,:'date'], left_index = True, right_on = 'obsname')\n",
    "head_diff = pd.merge(head_diff, geom, left_on = ['row', 'column'], right_on = ['row', 'col'])\n",
    "head_diff = gpd.GeoDataFrame(head_diff, crs = 2226)\n",
    "\n",
    "q10 = mapclassify.Quantiles(head_diff.loc[:,'mean'].abs(), k=10)\n",
    "head_diff = head_diff.assign(cl=q10.yb)\n",
    "head_diff = head_diff.set_geometry(head_diff.geometry.centroid)\n",
    "\n",
    "nzobs = pst.observation_data.query('weight>0').copy()\n",
    "nzobs = nzobs.obsnme.apply(lambda x: x.split(\":\")[-1].upper()).values\n",
    "nzobs\n",
    "\n",
    "head_diff =head_diff.loc[head_diff.obsname.isin(nzobs)]"
   ]
  },
  {
   "cell_type": "code",
   "execution_count": null,
   "id": "55c548d6-3939-45d4-9d10-04e935d16b14",
   "metadata": {},
   "outputs": [],
   "source": []
  },
  {
   "cell_type": "code",
   "execution_count": null,
   "id": "30056fc4-11f7-4878-be0f-3b68787d4c97",
   "metadata": {},
   "outputs": [],
   "source": []
  },
  {
   "cell_type": "code",
   "execution_count": null,
   "id": "a7772f7b-1bee-4c6e-ac50-484c3d5505ee",
   "metadata": {},
   "outputs": [],
   "source": [
    "head_diff.set_geometry(head_diff.geometry.centroid).drop(columns = ['date','totim']).explore()"
   ]
  },
  {
   "cell_type": "code",
   "execution_count": null,
   "id": "57d5f5cc-c341-4e48-aa6d-f22a45ce3291",
   "metadata": {},
   "outputs": [],
   "source": []
  },
  {
   "cell_type": "code",
   "execution_count": null,
   "id": "c45ee690-58e0-4427-a3bd-c78dee7dd6c4",
   "metadata": {},
   "outputs": [],
   "source": [
    "head_diff"
   ]
  },
  {
   "cell_type": "code",
   "execution_count": null,
   "id": "fea3f370-127c-4d6f-a099-83136c1f18cc",
   "metadata": {},
   "outputs": [],
   "source": [
    "hall.query(\"layer==-3\").drop_duplicates(['row','column'])"
   ]
  },
  {
   "cell_type": "code",
   "execution_count": null,
   "id": "838a0a7f-18de-4798-bca9-d150305677e0",
   "metadata": {},
   "outputs": [],
   "source": [
    "os.makedirs(os.path.join(out_folder,'residuals'),exist_ok = True)"
   ]
  },
  {
   "cell_type": "code",
   "execution_count": null,
   "id": "7bc76786-ba1e-4555-818e-47174d2d294d",
   "metadata": {},
   "outputs": [],
   "source": [
    "os.listdir(fold)"
   ]
  },
  {
   "cell_type": "code",
   "execution_count": null,
   "id": "a9c235f4-b090-4027-b739-d559143c6b22",
   "metadata": {},
   "outputs": [],
   "source": [
    "pst.parrep(noptmax = 3, parfile = os.path.join)"
   ]
  },
  {
   "cell_type": "code",
   "execution_count": null,
   "id": "d54d39f7-413b-40fd-b845-de37237dbefb",
   "metadata": {},
   "outputs": [],
   "source": []
  },
  {
   "cell_type": "code",
   "execution_count": null,
   "id": "804eb8fd-3a02-4a59-b9d2-cb3e7efb8159",
   "metadata": {},
   "outputs": [],
   "source": [
    "from matplotlib.colors import TwoSlopeNorm\n",
    "# normalize color\n",
    "vmin, vmax, vcenter = head_diff.loc[:,'mean'].min(), head_diff.loc[:,'mean'].max(), 0\n",
    "norm = TwoSlopeNorm(vmin=-100, vcenter=vcenter, vmax=100)\n",
    "# create a normalized colorbar\n",
    "cmap = 'RdBu'\n",
    "cbar = plt.cm.ScalarMappable(norm=norm, cmap=cmap)\n",
    "\n",
    "## plot all obbs from all layers\n",
    "fig = plt.figure()\n",
    "ax = sv_budget.sv_budget.sv_mod_map(simple = True,figsize = (8.5,11))\n",
    "\n",
    "head_diff.loc[:,'ms'] = head_diff.loc[:,'cl']*5+5\n",
    "head_diff.plot(ax=ax, column = 'mean', markersize ='ms', cmap=cmap, norm=norm, ec = 'k' )\n",
    "fig.colorbar(cbar, ax=ax,shrink = .5, extend = 'both')\n",
    "\n",
    "_ = ph.label_points(ax, head_diff, 'mean',already_str=False, fmt = '+.0f')\n",
    "\n",
    "plt.savefig(os.path.join(out_folder,'residuals','mean_map_resid.png'))\n",
    "\n",
    "\n",
    "\n",
    "for layer in range(0,6):\n",
    "    fig = plt.figure()\n",
    "    ax = sv_budget.sv_budget.sv_mod_map(simple = True,figsize = (8.5,11))\n",
    "    sel = head_diff.loc[head_diff.loc[:,f\"lay{layer}\"]]\n",
    "    sel.plot(column ='mean',ax=ax, markersize ='ms',  cmap=cmap, norm=norm, ec = 'k' )\n",
    "    # sel.plot(ax=ax, markersize =sel.loc[:,'ms'], c =sel.loc[:,'mean'], cmap=cmap, norm=norm, ec = 'k' )\n",
    "    fig.colorbar(cbar, ax=ax,shrink = .5, extend = 'both')\n",
    "    \n",
    "    _ = ph.label_points(ax, sel, 'mean',already_str=False, fmt = '+.0f')\n",
    "    ax.set_title(f'Mean residuals for Absolute Heads, Layer {layer+1}')\n",
    "    plt.savefig(os.path.join(out_folder,'residuals',f'mean_map_resid_layer_{layer+1}.png'))"
   ]
  },
  {
   "cell_type": "code",
   "execution_count": null,
   "id": "9b5ea9cb-5232-4916-916f-93645b52d541",
   "metadata": {},
   "outputs": [],
   "source": [
    "phi_comp = pst.res.copy()\n",
    "\n",
    "phi_comp.loc[:, 'phi'] = (phi_comp.loc[:,'residual']*phi_comp.loc[:,'weight'])**2\n",
    "phi_comp.loc[:, 'phi_perc'] = 100*phi_comp.loc[:, 'phi']/pst.phi_components['hds']\n",
    "print(phi_comp.phi_perc.sum())\n",
    "phi_comp.sort_values('phi').query(\"group=='hds'\")"
   ]
  },
  {
   "cell_type": "code",
   "execution_count": null,
   "id": "65be5e23-d32c-4bc9-9d20-d3e7483051d8",
   "metadata": {},
   "outputs": [],
   "source": [
    "pst.observation_data"
   ]
  },
  {
   "cell_type": "code",
   "execution_count": null,
   "id": "5d9a705f-71b5-4455-b962-1579c5369542",
   "metadata": {},
   "outputs": [],
   "source": [
    "pd.DataFrame().iterrows"
   ]
  },
  {
   "cell_type": "code",
   "execution_count": null,
   "id": "8e185df0-97ea-4888-97f6-100ec2f3b767",
   "metadata": {},
   "outputs": [],
   "source": []
  },
  {
   "cell_type": "code",
   "execution_count": null,
   "id": "e5a0ad6f-07dd-4a00-93df-94dbcd923710",
   "metadata": {},
   "outputs": [],
   "source": [
    "fig, ax = plt.subplots(1, sharex = False)\n",
    "\n",
    "for c, row in phi_per.iterrows():\n",
    "    ax.hist(row['0':], bins = 50)\n"
   ]
  },
  {
   "cell_type": "code",
   "execution_count": null,
   "id": "357d134f-f7ff-4270-a7e5-9b9628c9ae44",
   "metadata": {},
   "outputs": [],
   "source": [
    "phi_per.groupby(level = 0)"
   ]
  },
  {
   "cell_type": "code",
   "execution_count": null,
   "id": "e6288cad-c88b-45a7-bf49-04c52549a5ec",
   "metadata": {},
   "outputs": [],
   "source": [
    "phi_per.index\n"
   ]
  },
  {
   "cell_type": "code",
   "execution_count": null,
   "id": "1229ace7-6181-46b6-bc05-e6aaa03a0de3",
   "metadata": {},
   "outputs": [],
   "source": [
    "phi_per.at[3,'mean'] + phi_per.at[3,'standard_deviation'] "
   ]
  },
  {
   "cell_type": "code",
   "execution_count": null,
   "id": "c2c3e655-4ec5-48db-af00-68539b4d701d",
   "metadata": {},
   "outputs": [],
   "source": []
  },
  {
   "cell_type": "code",
   "execution_count": null,
   "id": "17b6957d-8d92-4653-9024-c576283d7c97",
   "metadata": {},
   "outputs": [],
   "source": [
    "df.combine_first()"
   ]
  },
  {
   "cell_type": "code",
   "execution_count": null,
   "id": "882c0044-0d9f-4543-a188-7eb66e1f862a",
   "metadata": {},
   "outputs": [],
   "source": [
    "df = gpd.read_file(r\"C:\\GIS\\shapefiles\\wells\\RMP_wells\\Pet_shp\\PET_RMPs.shp\")"
   ]
  },
  {
   "cell_type": "code",
   "execution_count": null,
   "id": "0d646382-435c-4b23-b1be-92ce8204a639",
   "metadata": {},
   "outputs": [],
   "source": [
    "df.head()"
   ]
  },
  {
   "cell_type": "code",
   "execution_count": null,
   "id": "af9a47ac-f724-4b2c-a34c-63d4e139ecf7",
   "metadata": {},
   "outputs": [],
   "source": [
    "stats = conda_scripts.wiski.wiski.get_gw_stations_in_basin(basins = ['Son*'],basic_only = False, add_prmd=True)"
   ]
  },
  {
   "cell_type": "code",
   "execution_count": null,
   "id": "d56273de-bb51-4067-83fc-35239696fd8e",
   "metadata": {},
   "outputs": [],
   "source": [
    "stats = stats.drop_duplicates('station_no')"
   ]
  },
  {
   "cell_type": "code",
   "execution_count": null,
   "id": "826ca274-e31e-411e-a171-b8286d77c66d",
   "metadata": {},
   "outputs": [],
   "source": [
    "import time\n",
    "start = time.time()\n",
    "gw = conda_scripts.wiski.wiski.get_gw_stations_wellmeta_in_basin(basins = ['Son*'],wiski_census_info = True, add_prmd=True)\n",
    "end = time.time()\n",
    "print(end - start)\n"
   ]
  },
  {
   "cell_type": "code",
   "execution_count": null,
   "id": "4e4e6003-0b6d-40d0-8a2d-80016cce0727",
   "metadata": {},
   "outputs": [],
   "source": [
    "gw = gw.loc[gw.station_no.isin(stats.station_no)]\n",
    "gwgdf = gpd.GeoDataFrame(gw, geometry = gpd.points_from_xy(gw.station_longitude, gw.station_latitude), crs = 4326)"
   ]
  },
  {
   "cell_type": "code",
   "execution_count": null,
   "id": "bc5b94f4-d2c1-4bf9-afa3-4c480c79d38a",
   "metadata": {},
   "outputs": [],
   "source": []
  },
  {
   "cell_type": "code",
   "execution_count": null,
   "id": "ae850312-2737-410c-bcbd-7b01b7d3a183",
   "metadata": {},
   "outputs": [],
   "source": []
  },
  {
   "cell_type": "code",
   "execution_count": null,
   "id": "3fc65a2b-18ea-4251-b4c5-792c12f326ab",
   "metadata": {},
   "outputs": [],
   "source": []
  },
  {
   "cell_type": "code",
   "execution_count": null,
   "id": "b3e5ad1c-9d9a-4bfd-a5eb-a782bb5fc0a7",
   "metadata": {},
   "outputs": [],
   "source": []
  },
  {
   "cell_type": "code",
   "execution_count": null,
   "id": "be6aa571-93c4-4abf-8e95-e419ef751c59",
   "metadata": {},
   "outputs": [],
   "source": []
  },
  {
   "cell_type": "code",
   "execution_count": null,
   "id": "51c2fce3-bb4b-484e-97cf-44e55fbf8a7f",
   "metadata": {},
   "outputs": [],
   "source": []
  },
  {
   "cell_type": "code",
   "execution_count": null,
   "id": "606a13f5-c72e-49ff-92d9-6d906f89f8a8",
   "metadata": {},
   "outputs": [],
   "source": []
  },
  {
   "cell_type": "code",
   "execution_count": null,
   "id": "99e30c1f-50c8-4a2e-b404-c36f6d81ba18",
   "metadata": {},
   "outputs": [],
   "source": []
  }
 ],
 "metadata": {
  "kernelspec": {
   "display_name": "Python 3 (ipykernel)",
   "language": "python",
   "name": "python3"
  },
  "language_info": {
   "codemirror_mode": {
    "name": "ipython",
    "version": 3
   },
   "file_extension": ".py",
   "mimetype": "text/x-python",
   "name": "python",
   "nbconvert_exporter": "python",
   "pygments_lexer": "ipython3",
   "version": "3.9.19"
  }
 },
 "nbformat": 4,
 "nbformat_minor": 5
}
