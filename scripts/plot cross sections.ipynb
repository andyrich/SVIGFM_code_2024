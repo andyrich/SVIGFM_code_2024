{
 "cells": [
  {
   "cell_type": "code",
   "execution_count": null,
   "id": "0",
   "metadata": {},
   "outputs": [],
   "source": []
  },
  {
   "cell_type": "code",
   "execution_count": null,
   "id": "1",
   "metadata": {},
   "outputs": [],
   "source": [
    "import pyemu\n",
    "import conda_scripts.load_datasets as lsd\n",
    "import os\n",
    "import pandas as pd\n",
    "import numpy as np\n",
    "import conda_scripts\n",
    "import forward_run\n",
    "import matplotlib.pyplot as plt\n",
    "import conda_scripts.plot_help as ph\n",
    "from conda_scripts import sv_budget\n",
    "import matplotlib as mpl\n",
    "import numpy as np\n",
    "import flopy\n",
    "import geopandas as gpd"
   ]
  },
  {
   "cell_type": "code",
   "execution_count": null,
   "id": "2",
   "metadata": {},
   "outputs": [],
   "source": []
  },
  {
   "cell_type": "code",
   "execution_count": null,
   "id": "3",
   "metadata": {},
   "outputs": [],
   "source": []
  },
  {
   "cell_type": "code",
   "execution_count": null,
   "id": "4",
   "metadata": {},
   "outputs": [],
   "source": [
    "workspace = 'pestaws_mango'\n",
    "\n",
    "main = 'postprocess'\n",
    "pstname =  'mango'\n",
    "fold =  'mango'\n",
    "\n",
    "out_folder = os.path.join(main, fold)\n",
    "if not os.path.exists(out_folder):\n",
    "    os.makedirs(out_folder, exist_ok =True)"
   ]
  },
  {
   "cell_type": "code",
   "execution_count": null,
   "id": "5",
   "metadata": {},
   "outputs": [],
   "source": []
  },
  {
   "cell_type": "code",
   "execution_count": null,
   "id": "6",
   "metadata": {},
   "outputs": [],
   "source": [
    "ml = conda_scripts.sv_budget.load_sv_model.get_model(workspace)"
   ]
  },
  {
   "cell_type": "code",
   "execution_count": null,
   "id": "7",
   "metadata": {},
   "outputs": [],
   "source": [
    "# sfr_file = os.path.join(workspace, 'drt.drt')\n",
    "# with open(sfr_file, 'r') as sfr_read:\n",
    "#     for i in range(7):\n",
    "#         sfr_read.readline()\n",
    "\n",
    "#     drt = flopy.modflow.ModflowDrt.load(sfr_read, ml)"
   ]
  },
  {
   "cell_type": "code",
   "execution_count": null,
   "id": "8",
   "metadata": {},
   "outputs": [],
   "source": [
    "ml.update_modelgrid()"
   ]
  },
  {
   "cell_type": "code",
   "execution_count": null,
   "id": "9",
   "metadata": {},
   "outputs": [],
   "source": [
    "ml.bas6.ibound"
   ]
  },
  {
   "cell_type": "code",
   "execution_count": null,
   "id": "10",
   "metadata": {},
   "outputs": [],
   "source": []
  },
  {
   "cell_type": "code",
   "execution_count": null,
   "id": "11",
   "metadata": {},
   "outputs": [],
   "source": [
    "c_start =  np.concatenate([np.expand_dims(np.genfromtxt(os.path.join(r\"C:\\GSP\\sv\\model\\SV_mod_V2_owhm2\\master\",'init_heads', f\"init_heads_lay{i+1}.dat\"),\n",
    "                                  dtype=float),axis  = 0)\n",
    "                   for i in range(6)])"
   ]
  },
  {
   "cell_type": "code",
   "execution_count": null,
   "id": "12",
   "metadata": {},
   "outputs": [],
   "source": [
    "start = np.concatenate([np.expand_dims(np.genfromtxt(os.path.join(workspace,'init_heads', f\"init_heads_lay{i+1}.dat\"),\n",
    "                                  dtype=float),axis  = 0)\n",
    "                   for i in range(6)])"
   ]
  },
  {
   "cell_type": "code",
   "execution_count": null,
   "id": "13",
   "metadata": {},
   "outputs": [],
   "source": [
    "\n",
    "for i in range(6):\n",
    "    plt.figure()\n",
    "    ar = np.ma.array(c_start[i] - start[i], mask = ml.bas6.ibound.array[i]==0)\n",
    "    plt.imshow(ar, vmin = -50, vmax = 50)\n",
    "    plt.colorbar()"
   ]
  },
  {
   "cell_type": "code",
   "execution_count": null,
   "id": "14",
   "metadata": {},
   "outputs": [],
   "source": [
    "ml.sfr.plot(mflay = 0)"
   ]
  },
  {
   "cell_type": "code",
   "execution_count": null,
   "id": "15",
   "metadata": {},
   "outputs": [],
   "source": []
  },
  {
   "cell_type": "code",
   "execution_count": null,
   "id": "16",
   "metadata": {},
   "outputs": [],
   "source": [
    "workspace"
   ]
  },
  {
   "cell_type": "code",
   "execution_count": null,
   "id": "17",
   "metadata": {},
   "outputs": [],
   "source": [
    "hdobj = flopy.utils.HeadFile(os.path.join(workspace, 'output',\"sv_model_grid_6layers.hds\"))\n",
    "head = hdobj.get_data()\n",
    "\n",
    "# head = np.ma.array(head, mask = head==-999.)"
   ]
  },
  {
   "cell_type": "code",
   "execution_count": null,
   "id": "18",
   "metadata": {},
   "outputs": [],
   "source": [
    "\n",
    "from matplotlib.lines import Line2D"
   ]
  },
  {
   "cell_type": "code",
   "execution_count": null,
   "id": "19",
   "metadata": {},
   "outputs": [],
   "source": [
    "import matplotlib.pyplot as plt\n",
    "import matplotlib.gridspec as gridspec\n",
    "\n",
    "# Create a figure\n",
    "fig = plt.figure(figsize=(20, 30))\n",
    "\n",
    "# Create gridspec layout with 1 row and 2 columns (one for left and one for right)\n",
    "gs = gridspec.GridSpec(1, 2, width_ratios=[1, 2])\n",
    "\n",
    "# Create the left axes, which spans the entire height of the figure\n",
    "ax3 = fig.add_subplot(gs[0])\n",
    "\n",
    "sv_budget.sv_budget.sv_mod_map(simple = True,ax = ax3)\n",
    "annotations = [child for child in ax3.get_children() if isinstance(child, mpl.text.Text)]\n",
    "annotations[0].remove()\n",
    "ax3.legend().remove()\n",
    "\n",
    "M = flopy.plot.PlotMapView(modelgrid= ml.modelgrid, ax = ax3)\n",
    "M.plot_grid(lw = .1, color = 'grey')\n",
    "\n",
    "M.plot_ibound(ibound = ml.bas6.ibound.array[0])\n",
    "\n",
    "nplots = 15\n",
    "# Create a gridspec for the 7 axes on the right within the second column\n",
    "gs_right = gridspec.GridSpecFromSubplotSpec(nplots, 1, subplot_spec=gs[1], hspace=0.05)\n",
    "\n",
    "cnt = 0\n",
    "for r in np.linspace(0,ml.nrow-1, nplots, dtype = int):\n",
    "    # Create 7 right axes\n",
    "    ax = fig.add_subplot(gs_right[cnt]) \n",
    "    ax.spines['top'].set_visible(False)\n",
    "    ax.spines['right'].set_visible(True)\n",
    "    ax.spines['bottom'].set_visible(False)\n",
    "    ax.spines['left'].set_visible(True)\n",
    "    \n",
    "    ax.tick_params(left=True, labelleft=False, bottom=False, labelbottom=False)\n",
    "    ax.tick_params(right=True, labelright=True, bottom=False, labelbottom=False)\n",
    "\n",
    "    xsect = flopy.plot.PlotCrossSection(model=ml, line={\"Row\": r})\n",
    "    \n",
    "    \n",
    "    \n",
    "    linecollection = xsect.plot_grid()\n",
    "    # patches = xsect.plot_bc(\"drt\", color=\"pink\")\n",
    "    \n",
    "    pc = xsect.plot_array(head, head=head, masked_values =[-999.], alpha=0.5)\n",
    "    # pc = xsect.plot_array(start, head=start, masked_values =[-999.], alpha=0.5)\n",
    "    patches = xsect.plot_ibound()\n",
    "    ax.set_ylabel(f\"Row {r}\")\n",
    "    # t = ax.set_title(f\"Row {r} Cross-Section with Boundary Conditions\")\n",
    "\n",
    "    #plot points on map\n",
    "    ax3.scatter(ml.modelgrid.get_xcellcenters_for_layer(0)[r],\n",
    "                ml.modelgrid.get_ycellcenters_for_layer(0)[r])\n",
    "\n",
    "    x = ml.modelgrid.get_xcellcenters_for_layer(0)[r][-1]\n",
    "    y = ml.modelgrid.get_ycellcenters_for_layer(0)[r][-1]\n",
    "\n",
    "    \n",
    "    # Annotating from the point in axes1 to the top left of axes2\n",
    "    ax3.annotate(\n",
    "        'Annotation Text',\n",
    "        xy=(x, y),  # The data point in axes1\n",
    "        xycoords='data',  # The coordinates are in data space of axes1\n",
    "        xytext=(0, 1),  # Top left of axes2 (0,1 in axes coordinates)\n",
    "        textcoords=ax.transAxes,  # Relative to axes2's coordinate system\n",
    "        arrowprops=dict(facecolor='black', shrink=0.015),\n",
    "        horizontalalignment='left',\n",
    "        verticalalignment='top'\n",
    "    )\n",
    "    \n",
    "    cnt +=1\n",
    "\n",
    "plt.tight_layout()\n",
    "\n",
    "plt.savefig(os.path.join(out_folder,'model_xsections_thick_new_start.png'), dpi = 250, bbox_inches = 'tight')\n"
   ]
  },
  {
   "cell_type": "code",
   "execution_count": null,
   "id": "20",
   "metadata": {},
   "outputs": [],
   "source": [
    "out_folder"
   ]
  },
  {
   "cell_type": "code",
   "execution_count": null,
   "id": "21",
   "metadata": {},
   "outputs": [],
   "source": []
  },
  {
   "cell_type": "code",
   "execution_count": null,
   "id": "22",
   "metadata": {},
   "outputs": [],
   "source": []
  },
  {
   "cell_type": "code",
   "execution_count": null,
   "id": "23",
   "metadata": {},
   "outputs": [],
   "source": [
    "import matplotlib.pyplot as plt\n",
    "import matplotlib.gridspec as gridspec\n",
    "\n",
    "# Create a figure\n",
    "fig = plt.figure(figsize=(8.5, 11))\n",
    "\n",
    "# Create gridspec layout with 1 row and 2 columns (one for left and one for right)\n",
    "gs = gridspec.GridSpec(1, 1, width_ratios=[1])\n",
    "\n",
    "# Create the left axes, which spans the entire height of the figure\n",
    "ax3 = fig.add_subplot(gs[0])\n",
    "\n",
    "sv_budget.sv_budget.sv_mod_map(simple = True,ax = ax3)\n",
    "\n",
    "Map = flopy.plot.PlotMapView(model = ml, ax = ax3)\n",
    "farms = os.path.join(workspace, 'fmp_input', 'farms','farm2016.dat')\n",
    "farms = np.genfromtxt(farms, dtype = int)\n",
    "\n",
    "subcat_farms = 81\n",
    "farms = np.ma.array(farms, mask = farms<subcat_farms)\n",
    "Map.plot_array(farms)\n",
    "shp = conda_scripts.arich_functions.get_model_shp(ml.modelgrid)\n",
    "shp = pd.merge(shp, conda_scripts.arich_functions.array2rc(farms).drop(columns = ['row', 'column']), on = ['i','j'])\n",
    "Map.plot_bc('sfr')\n",
    "# conda_scripts.plot_help.label_points_outside_map(shp.set_geometry(shp.geometry.centroid).drop_duplicates('value').rename(columns = {'value':'label'}).query(f\"label>{subcat_farms}\"),fig, ax3, 'label' )"
   ]
  },
  {
   "cell_type": "code",
   "execution_count": null,
   "id": "24",
   "metadata": {},
   "outputs": [],
   "source": [
    "import matplotlib.pyplot as plt\n",
    "import matplotlib.gridspec as gridspec\n",
    "\n",
    "# Create a figure\n",
    "# fig = plt.figure()\n",
    "\n",
    "fig, axs = plt.subplots(3,2, figsize=(6, 10))\n",
    "axs = axs.ravel()\n",
    "arrays = np.vstack([np.expand_dims(ml.dis.top.array,0), ml.dis.botm.array])\n",
    "\n",
    "for lay in range(6):\n",
    "    ax3 = axs[lay]\n",
    "    sv_budget.sv_budget.sv_mod_map(simple = True,ax = ax3)\n",
    "    annotations = [child for child in ax3.get_children() if isinstance(child, mpl.text.Text)]\n",
    "    annotations[0].remove()\n",
    "    ax3.legend().remove()\n",
    "    \n",
    "    M = flopy.plot.PlotMapView(modelgrid= ml.modelgrid, ax = ax3)\n",
    "    M.plot_grid(lw = .1, color = 'grey')\n",
    "    M.plot_ibound(ibound = ml.bas6.ibound.array[1])\n",
    "\n",
    "    th = arrays[lay]-arrays[lay+1]\n",
    "\n",
    "    ar = np.ma.array(ml.modelgrid.cell_thickness[lay],mask =ml.bas6.ibound.array[lay]==0)\n",
    "    quadmesh = M.plot_array(ar, vmin = 0, vmax = 200)\n",
    "    ax3.set_title(f\"Layer {lay+1}\")\n",
    "\n",
    "# Add the colorbar to the axes\n",
    "cbar = plt.colorbar(quadmesh, ax=ax3, label = 'layer thickness')\n",
    "plt.savefig(os.path.join(out_folder,'layer thicknees.png'), dpi = 250, bbox_inches = 'tight')\n",
    "# plt.savefig(os.path.join(out_folder,'model_xsections_thick_new_start.png'), dpi = 250, bbox_inches = 'tight')"
   ]
  },
  {
   "cell_type": "markdown",
   "id": "25",
   "metadata": {},
   "source": [
    "# change the layer thicknesses here"
   ]
  },
  {
   "cell_type": "code",
   "execution_count": null,
   "id": "26",
   "metadata": {},
   "outputs": [],
   "source": [
    "arrays = np.vstack([np.expand_dims(ml.dis.top.array,0), ml.dis.botm.array])"
   ]
  },
  {
   "cell_type": "code",
   "execution_count": null,
   "id": "27",
   "metadata": {},
   "outputs": [],
   "source": [
    "c = (ml.bas6.ibound.array[0]==1) &   (ml.bas6.ibound.array[1]==0)\n"
   ]
  },
  {
   "cell_type": "code",
   "execution_count": null,
   "id": "28",
   "metadata": {},
   "outputs": [],
   "source": [
    "plt.imshow(c)"
   ]
  },
  {
   "cell_type": "code",
   "execution_count": null,
   "id": "29",
   "metadata": {},
   "outputs": [],
   "source": [
    "bot1 = np.copy(ml.dis.botm.array[0])"
   ]
  },
  {
   "cell_type": "code",
   "execution_count": null,
   "id": "30",
   "metadata": {},
   "outputs": [],
   "source": [
    "top = np.copy(ml.dis.top.array)\n",
    "top"
   ]
  },
  {
   "cell_type": "code",
   "execution_count": null,
   "id": "31",
   "metadata": {},
   "outputs": [],
   "source": [
    "bot1[c] = top[c]-200"
   ]
  },
  {
   "cell_type": "code",
   "execution_count": null,
   "id": "32",
   "metadata": {},
   "outputs": [],
   "source": [
    "np.savetxt(r\"C:\\GSP\\sv\\model\\SV_mod_V2_owhm2\\master\\model_arrays\\bot1.txt\", bot1, fmt = \"%.0f\",)"
   ]
  },
  {
   "cell_type": "code",
   "execution_count": null,
   "id": "33",
   "metadata": {},
   "outputs": [],
   "source": [
    "\n",
    "np.savetxt(os.path.join(ml.model_ws,\"model_arrays\",\"bot1.txt\"), bot1, fmt = \"%.0f\",)"
   ]
  },
  {
   "cell_type": "code",
   "execution_count": null,
   "id": "34",
   "metadata": {},
   "outputs": [],
   "source": [
    "np.savetxt(r\"C:\\GSP\\sv\\model\\update_2024\\master\\model_arrays\\bot1.txt\", bot1, fmt = \"%.0f\",)"
   ]
  }
 ],
 "metadata": {
  "kernelspec": {
   "display_name": "Python 3 (ipykernel)",
   "language": "python",
   "name": "python3"
  },
  "language_info": {
   "codemirror_mode": {
    "name": "ipython",
    "version": 3
   },
   "file_extension": ".py",
   "mimetype": "text/x-python",
   "name": "python",
   "nbconvert_exporter": "python",
   "pygments_lexer": "ipython3",
   "version": "3.9.19"
  }
 },
 "nbformat": 4,
 "nbformat_minor": 5
}
