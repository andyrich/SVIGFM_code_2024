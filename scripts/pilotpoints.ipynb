{
 "cells": [
  {
   "cell_type": "code",
   "execution_count": null,
   "id": "4bcb5e89-58d5-49eb-882b-9b2c2876fd5c",
   "metadata": {},
   "outputs": [],
   "source": [
    "%matplotlib inline\n",
    "import os\n",
    "import shutil\n",
    "import platform\n",
    "import numpy as np\n",
    "import pandas as pd\n",
    "from matplotlib.patches import Rectangle as rect\n",
    "import matplotlib.pyplot as plt\n",
    "import warnings\n",
    "from mpl_toolkits.axes_grid1 import make_axes_locatable\n",
    "import matplotlib as mpl\n",
    "import forward_run"
   ]
  },
  {
   "cell_type": "code",
   "execution_count": null,
   "id": "173178fe-a74e-467c-be64-e4ab14c5cc15",
   "metadata": {
    "editable": true,
    "slideshow": {
     "slide_type": ""
    },
    "tags": []
   },
   "outputs": [],
   "source": [
    "import os, sys\n",
    "import flopy\n",
    "import numpy as np\n",
    "import matplotlib.pyplot as plt\n",
    "\n",
    "import geopandas as gpd\n",
    "\n",
    "import pandas as pd\n",
    "import cartopy.crs as ccrs \n",
    "import flopy.utils.binaryfile as bf\n",
    "import contextily as ctx\n",
    "import fiona\n",
    "import seaborn as sns\n",
    "import pyemu\n",
    "from pathlib import Path\n",
    "import helpers\n",
    "from shutil import copytree, ignore_patterns"
   ]
  },
  {
   "cell_type": "code",
   "execution_count": null,
   "id": "9bd2a419-d96b-4a0a-8d24-42fbd720a39d",
   "metadata": {
    "editable": true,
    "slideshow": {
     "slide_type": ""
    },
    "tags": []
   },
   "outputs": [],
   "source": [
    "import conda_scripts"
   ]
  },
  {
   "cell_type": "code",
   "execution_count": null,
   "id": "3a84acb8-a9d7-4c72-adf6-61e18e1e255a",
   "metadata": {},
   "outputs": [],
   "source": [
    "owhm2 = r\"C:\\GSP\\sv\\model\\SV_mod_V2_owhm2\\master\""
   ]
  },
  {
   "cell_type": "code",
   "execution_count": null,
   "id": "6d87c710-e209-4277-8e6c-c641d1363b95",
   "metadata": {},
   "outputs": [],
   "source": [
    "template_ws = \"pestaws_zoom\""
   ]
  },
  {
   "cell_type": "code",
   "execution_count": null,
   "id": "2b209ce0-ea96-4bf4-919b-e58dc1b6cf41",
   "metadata": {
    "editable": true,
    "slideshow": {
     "slide_type": ""
    },
    "tags": []
   },
   "outputs": [],
   "source": [
    "dts = conda_scripts.utils.get_dates.get_dates()\n",
    "ml = conda_scripts.sv_budget.load_sv_model.get_model(owhm2)"
   ]
  },
  {
   "cell_type": "code",
   "execution_count": null,
   "id": "aebce86e-ad4d-4267-95c9-13cf414d3e66",
   "metadata": {},
   "outputs": [],
   "source": [
    "_, mg = conda_scripts.arich_functions.get_flopy_model_spatial_reference('son')"
   ]
  },
  {
   "cell_type": "code",
   "execution_count": null,
   "id": "0c796622-c227-4547-9f6f-57758921a77a",
   "metadata": {},
   "outputs": [],
   "source": []
  },
  {
   "cell_type": "code",
   "execution_count": null,
   "id": "d5897381-7d19-4107-8c58-d4b5379147c5",
   "metadata": {},
   "outputs": [],
   "source": [
    "sr = helpers.get_sr()"
   ]
  },
  {
   "cell_type": "code",
   "execution_count": null,
   "id": "e84b5abe-1104-4964-8767-bfaccf527f8d",
   "metadata": {},
   "outputs": [],
   "source": [
    "os.getcwd()"
   ]
  },
  {
   "cell_type": "code",
   "execution_count": null,
   "id": "6490a476-be6f-42d7-8e46-31314b4cbcd5",
   "metadata": {},
   "outputs": [],
   "source": []
  },
  {
   "cell_type": "code",
   "execution_count": null,
   "id": "d0eb7606-7f49-40f2-8d91-c630a13b7172",
   "metadata": {
    "editable": true,
    "slideshow": {
     "slide_type": ""
    },
    "tags": []
   },
   "outputs": [],
   "source": [
    "egpath = Path(\".\").absolute()\n",
    "# while egpath.name != 'examples':\n",
    "#     os.chdir('..')\n",
    "#     egpath = Path(\".\").absolute()\n",
    "\n",
    "model_ws = Path(owhm2).absolute()\n",
    "tmp_path = Path(template_ws).absolute()\n",
    "\n",
    "EXE_DIR = Path(\"..\",\"bin\").absolute()\n",
    "if \"window\" in platform.platform().lower():\n",
    "    EXE_DIR = Path(EXE_DIR,\"win\")\n",
    "elif \"darwin\" in platform.platform().lower() or \"macos\" in platform.platform().lower():\n",
    "    EXE_DIR = Path(EXE_DIR,\"mac\")\n",
    "else:\n",
    "    EXE_DIR = Path(EXE_DIR,\"linux\")\n",
    "    \n",
    "# basename = Path(model_ws).name\n",
    "new_d = Path(tmp_path)\n",
    "# if new_d.exists():\n",
    "#     shutil.rmtree(new_d)\n",
    "# Path(tmp_path).mkdir(exist_ok=True)\n",
    "# creation functionality\n",
    "# shutil.copytree(model_ws, new_d, ignore=ignore_patterns('*.pyc', 'output*','.git*'))\n",
    "\n",
    "os.chdir(tmp_path)\n",
    "print(Path.cwd())"
   ]
  },
  {
   "cell_type": "code",
   "execution_count": null,
   "id": "67a7b448-8e63-4ee9-bcba-77c96685198a",
   "metadata": {},
   "outputs": [],
   "source": [
    "tmp_path"
   ]
  },
  {
   "cell_type": "code",
   "execution_count": null,
   "id": "f4ea5a73-216c-44e6-9a9e-b5237f154999",
   "metadata": {
    "editable": true,
    "slideshow": {
     "slide_type": ""
    },
    "tags": []
   },
   "outputs": [],
   "source": [
    "#load the existing model and save it in a new dir and make sure it runs\n",
    "import flopy\n",
    "# model_ws = new_d.relative_to(tmp_path)\n",
    "# ml = flopy.modflow.Modflow.load(\"freyberg.nam\",model_ws=model_ws,verbose=False)\n",
    "ml = conda_scripts.sv_budget.load_sv_model.get_model(workspace=tmp_path)\n",
    "# ml.model_ws = \"temp\"\n",
    "# ml.exe_name = \"mfnwt\"\n",
    "# [shutil.copy2(os.path.join(EXE_DIR,f),os.path.join(ml.model_ws,f)) for f in os.listdir(EXE_DIR)]\n",
    "# ml.write_input()\n",
    "# pyemu.os_utils.run(\"mf-owhm.exe SVIGFM_GSP.nam\", cwd=ml.model_ws)"
   ]
  },
  {
   "cell_type": "markdown",
   "id": "1c5b23c3-26e2-4a9d-92ff-f5d12a8f78bc",
   "metadata": {
    "editable": true,
    "slideshow": {
     "slide_type": ""
    },
    "tags": []
   },
   "source": [
    "## list file budget components as observations (or forecasts)\n",
    "\n",
    "Here we will use ``flopy`` and ``pyemu`` to load each of the flux and volume budget components from the ``modflow`` list file to use as observations (or forecasts).  These are valuable pieces of information and since observations are free, why not include them?  This helper function writes two instruction files: ``<flx_filename>.ins`` and ``<vol_filename>.ins``"
   ]
  },
  {
   "cell_type": "code",
   "execution_count": null,
   "id": "6be223f4-7b07-4406-9ffd-5a230f5e580f",
   "metadata": {
    "editable": true,
    "slideshow": {
     "slide_type": ""
    },
    "tags": []
   },
   "outputs": [],
   "source": []
  },
  {
   "cell_type": "code",
   "execution_count": null,
   "id": "34842269-32d4-4328-9e8f-4a81f5a28a0d",
   "metadata": {
    "editable": true,
    "slideshow": {
     "slide_type": ""
    },
    "tags": []
   },
   "outputs": [],
   "source": [
    "# the flux budget output filename that will be written during each forward run\n",
    "# flx_filename=os.path.join(owhm2,'output', \"Budget.txt\")\n",
    "\n",
    "# # the volumne budget output filename that will be written during each forward run\n",
    "# vol_filename = os.path.join(ml.model_ws,\"vol.out\")\n",
    "# df_wb = pyemu.gw_utils.setup_mflist_budget_obs(os.path.join(ml.model_ws,ml.name+\".list\"))\n",
    "# df_wb = pyemu.gw_utils.setup_mflist_budget_obs(flx_filename)"
   ]
  },
  {
   "cell_type": "markdown",
   "id": "346aa6d1-a03f-4ed2-a834-7d6de8a082b3",
   "metadata": {
    "editable": true,
    "slideshow": {
     "slide_type": ""
    },
    "tags": []
   },
   "source": [
    "# Parameters\n",
    "\n",
    "## pilot points\n",
    "\n",
    "Here we will setup pilot points for several array-based ``modflow`` inputs using ``pyemu``"
   ]
  },
  {
   "cell_type": "markdown",
   "id": "cbd8ab3b-10dd-4c34-8aa1-a8040eb0b118",
   "metadata": {},
   "source": [
    "### setup pilot point locations\n",
    "\n",
    "first specify what pilot point names we want to use for each model layer (counting from 0).  Here we will setup pilot points for ``hk``, ``sy`` and ``rech``.  The ``rech`` pilot points will be used as a single multiplier array for all stress periods to account for potential spatial bias in recharge.   "
   ]
  },
  {
   "cell_type": "code",
   "execution_count": null,
   "id": "67a7cbea-c446-45cd-a69c-b6df6415d298",
   "metadata": {
    "editable": true,
    "slideshow": {
     "slide_type": ""
    },
    "tags": []
   },
   "outputs": [],
   "source": [
    "\n",
    "\n",
    "prefix_dict = forward_run.get_prefix_dict_for_pilot_points()"
   ]
  },
  {
   "cell_type": "markdown",
   "id": "19a4c6dd-0de5-4c9a-a39c-1ca2bb0af125",
   "metadata": {},
   "source": [
    "This helper function is doing a lot of things: writing templates, pilot point files, and creating a shapefile of pilot points.  The ``every_n_cell`` arg is key: it decides how many cells to skip between pilot point locations - since we passed the ``model``, only active model cells get pilot points (using ``bas6.ibound``).  Like many things with ``flopy``, the ``SpatialReference`` is used to define pilot point ``x`` and ``y `` coordinates"
   ]
  },
  {
   "cell_type": "code",
   "execution_count": null,
   "id": "f3a7f363-59a4-411c-82b7-c48faeeff0ae",
   "metadata": {},
   "outputs": [],
   "source": [
    "if os.path.exists(os.path.join(ml.model_ws,'pp2024')):\n",
    "    print(f\"{os.path.join(ml.model_ws,'pp2024')} already exists\")\n",
    "else:\n",
    "    os.mkdir(os.path.join(ml.model_ws,'pp2024'))"
   ]
  },
  {
   "cell_type": "code",
   "execution_count": null,
   "id": "c04e7dc4-499b-4997-8b48-b248937c0029",
   "metadata": {},
   "outputs": [],
   "source": [
    "z = np.genfromtxt(os.path.join(ml.model_ws, 'model_arrays', 'zonation_3.csv'), delimiter = ' ')\n",
    "\n",
    "zotther = z.copy()\n",
    "zotther[zotther>8] = 0\n",
    "\n",
    "zones = {i:zotther  for i in range(7) }\n",
    "zones[1] = z\n",
    "plt.imshow(zones[0])\n",
    "plt.figure()\n",
    "plt.imshow(zones[1])"
   ]
  },
  {
   "cell_type": "code",
   "execution_count": null,
   "id": "297a0da8-0196-4d1f-9b46-d4fc434edb4c",
   "metadata": {},
   "outputs": [],
   "source": [
    "pp_cells = 7\n",
    "pp_df = pyemu.pp_utils.setup_pilotpoints_grid(ml,\n",
    "                                prefix_dict=prefix_dict,\n",
    "                                              ibound = zones,\n",
    "                                              use_ibound_zones = False,\n",
    "                                every_n_cell=pp_cells,\n",
    "                                pp_dir=os.path.join(ml.model_ws,'pp2024'),\n",
    "                                tpl_dir=os.path.join(ml.model_ws,'pp2024'),\n",
    "                                shapename=os.path.join(ml.model_ws,'pp2024',\"pp.shp\"))"
   ]
  },
  {
   "cell_type": "markdown",
   "id": "25244518-7ac3-439d-8f67-93c1c797483b",
   "metadata": {},
   "source": [
    "The ``dataframe`` return has the same info as the shapefile that was written - useful info, right?"
   ]
  },
  {
   "cell_type": "code",
   "execution_count": null,
   "id": "4f4c3e72-e7b2-49cd-9719-dea476744060",
   "metadata": {},
   "outputs": [],
   "source": [
    "pp_df.index = pp_df.parnme\n",
    "pp_df\n",
    "\n",
    "print(pp_df.pargp.unique())\n",
    "pp_df"
   ]
  },
  {
   "cell_type": "markdown",
   "id": "cbe0ba1d-aeca-47a9-95a1-1a68d4615e27",
   "metadata": {},
   "source": [
    "# assign values from previous model"
   ]
  },
  {
   "cell_type": "code",
   "execution_count": null,
   "id": "b5a29e9c-47b0-4e16-8583-8095887f7d42",
   "metadata": {
    "editable": true,
    "slideshow": {
     "slide_type": ""
    },
    "tags": []
   },
   "outputs": [],
   "source": [
    "def load(folder, var, lay,name):\n",
    "    arr = np.genfromtxt(os.path.join(folder, f\"PARAM_{var}_G1_L{lay}.txt\"), skip_header=1)\n",
    "\n",
    "    x,y = np.indices(arr.shape, dtype = int)\n",
    "    x = x.reshape((-1,1))\n",
    "    y = y.reshape((-1,1))\n",
    "    arr = arr.reshape((-1,1))\n",
    "    arr = pd.DataFrame(data = np.hstack([x,y,arr]), columns = ['i','j', f\"{name}{lay}\"])\n",
    "    arr = arr.set_index(['i','j'])\n",
    "    return arr\n",
    "\n",
    "\n",
    "ar = [load(os.path.join(owhm2, 'output'), 'HKR', layer, 'hk') for layer in np.arange(1,7)]\n",
    "hk = pd.concat(ar, axis = 1,)\n",
    "ar = [load(os.path.join(owhm2, 'output'), 'VKA', layer, 'vk') for layer in np.arange(1,7)]\n",
    "vk = pd.concat(ar, axis = 1,)\n",
    "ar = [load(os.path.join(owhm2, 'output'), 'SS', layer, 'ss') for layer in np.arange(1,7)]\n",
    "ss = pd.concat(ar, axis = 1,)\n",
    "sy = [load(os.path.join(owhm2, 'output'), 'Sy', layer, 'sy') for layer in np.arange(1,2)][0]\n",
    "\n",
    "aq = pd.concat([hk, vk, ss, sy], axis = 1)\n",
    "aq"
   ]
  },
  {
   "cell_type": "code",
   "execution_count": null,
   "id": "3cbe01be-cf8a-4fa7-ae8e-4ff27fc3e16d",
   "metadata": {},
   "outputs": [],
   "source": [
    "cols = pp_df.columns\n",
    "\n",
    "pp_ren = pd.merge(pp_df, aq, on = ['i', 'j'], how = 'left')\n",
    "\n",
    "for prop in pp_df.pargp.unique():\n",
    "    if prop in aq.columns:\n",
    "        c = pp_ren.pargp== prop\n",
    "        pp_ren.loc[c, 'parval1'] = pp_ren.loc[c, prop]\n",
    "    else:\n",
    "        print(f\"skipping {prop} bc it's not in loaded arrays\")\n",
    "\n",
    "# set vk to 0.1 for layer 1 and 0.001 for others\n",
    "pp_ren.loc[pp_ren.pargp.str.startswith('vk'), 'parval1'] = 0.1\n",
    "pp_ren.loc[pp_ren.pargp=='vk1', 'parval1'] = 0.1\n",
    "\n",
    "\n",
    "pp_ren = pp_ren.loc[:,cols]\n",
    "\n"
   ]
  },
  {
   "cell_type": "code",
   "execution_count": null,
   "id": "aae0c3ac-f048-43ba-b140-b22b3678383e",
   "metadata": {},
   "outputs": [],
   "source": []
  },
  {
   "cell_type": "markdown",
   "id": "d5a09c78-8889-4efd-a02a-46b0d543fc19",
   "metadata": {},
   "source": [
    "# set bounds to values"
   ]
  },
  {
   "cell_type": "code",
   "execution_count": null,
   "id": "4b63d404-de7b-4264-9ecd-477258ff34a1",
   "metadata": {},
   "outputs": [],
   "source": [
    "import re\n",
    "\n",
    "def remove_numbers(input_string):\n",
    "    return re.sub(r'\\d+', '', input_string)\n",
    "\n",
    "pp_ren.pargp.apply(remove_numbers).unique()"
   ]
  },
  {
   "cell_type": "code",
   "execution_count": null,
   "id": "cb61dd02-1723-4a72-95fa-a8d2e48f97cb",
   "metadata": {},
   "outputs": [],
   "source": [
    "bounds = dict(hk = [0.0001, 500],\n",
    "sy = [0.01, 0.3],\n",
    "vk = [0.001, .1],\n",
    "ss = [1E-7, 1E-4],\n",
    "fmp_vk = [0.0001, 10],\n",
    "drn_k= [0.0001, 10])\n",
    "bounds"
   ]
  },
  {
   "cell_type": "code",
   "execution_count": null,
   "id": "7eeac601-1c8c-4321-beb3-e4182bb37311",
   "metadata": {},
   "outputs": [],
   "source": [
    "for n, group in pp_ren.groupby(pp_ren.pargp.apply(remove_numbers)):\n",
    "    pp_ren.loc[group.index,['parlbnd','parubnd']] = bounds[n]"
   ]
  },
  {
   "cell_type": "code",
   "execution_count": null,
   "id": "641e6aa4-f78f-40cc-8def-9459d9290082",
   "metadata": {},
   "outputs": [],
   "source": [
    "pp_ren.to_csv('pilot_point_info.csv')"
   ]
  },
  {
   "cell_type": "code",
   "execution_count": null,
   "id": "244b32ba-30d1-4c48-a191-b37bfaf6ebe1",
   "metadata": {},
   "outputs": [],
   "source": []
  },
  {
   "cell_type": "markdown",
   "id": "3cbc7924-5f10-4257-be7a-5aba8fa6590d",
   "metadata": {},
   "source": [
    "### geostats and kriging\n",
    "now that we have pilot points setup, we need to solve the kriging equations for each model cell using pilot point locations.  Since we only have a single set of pilot points that we are reusing for several array-based ``modflow`` inputs, we only need to get the kriging factors once"
   ]
  },
  {
   "cell_type": "code",
   "execution_count": null,
   "id": "557718fb-dbed-4ea1-8595-9011e0df62cd",
   "metadata": {},
   "outputs": [],
   "source": [
    "hk_pp = pyemu.pp_utils.pp_file_to_dataframe(os.path.join(ml.model_ws,'pp2024',\"hk1pp.dat\"))\n",
    "hk_pp2 = pyemu.pp_utils.pp_file_to_dataframe(os.path.join(ml.model_ws,'pp2024',\"hk2pp.dat\"))"
   ]
  },
  {
   "cell_type": "code",
   "execution_count": null,
   "id": "e0a3631f-1bcf-482b-8028-aa0af97a2a58",
   "metadata": {},
   "outputs": [],
   "source": [
    "hk_pp.head()"
   ]
  },
  {
   "cell_type": "code",
   "execution_count": null,
   "id": "e2ab27ea-cb9b-4c4b-97de-23fcd8c8dece",
   "metadata": {},
   "outputs": [],
   "source": [
    "hk_pp2.head()"
   ]
  },
  {
   "cell_type": "markdown",
   "id": "f500b53b-68c5-4f7f-a1be-a2b12e4dbaf8",
   "metadata": {},
   "source": [
    "Let's setup a geostatistical structure.  The contribution doesn't matter for pilot point interpolation, but it does matter when we want to form a prior parameter covariance matrix - we will get to that later.  A good rule of thumb is to use an ``a`` value that is three times the pilot point spacing.  Also, since the all of these pilot points will be log transformed, we need to use a log-based geostatistical structure\n"
   ]
  },
  {
   "cell_type": "code",
   "execution_count": null,
   "id": "4c9eae02-8e5c-449f-8f66-6904fa5c169f",
   "metadata": {},
   "outputs": [],
   "source": [
    "a = pp_cells * ml.dis.delr.array[0] * 3.0\n",
    "v = pyemu.geostats.ExpVario(contribution=1.0,a=a)\n",
    "gs = pyemu.geostats.GeoStruct(variograms=v,transform=\"log\")\n",
    "gs.plot()"
   ]
  },
  {
   "cell_type": "markdown",
   "id": "c9cb6492-8b51-4844-a4e8-fcdf7c5c719d",
   "metadata": {},
   "source": [
    "This is where things get fun.  First we create an ``OrdinaryKrige`` object\n"
   ]
  },
  {
   "cell_type": "code",
   "execution_count": null,
   "id": "2eb56df7-8927-4942-a7d5-b95ae443be3a",
   "metadata": {},
   "outputs": [],
   "source": [
    "ok = pyemu.geostats.OrdinaryKrige(geostruct=gs,point_data=hk_pp)\n",
    "ok2 = pyemu.geostats.OrdinaryKrige(geostruct=gs,point_data=hk_pp2)"
   ]
  },
  {
   "cell_type": "markdown",
   "id": "5eaf5e61-996b-46d0-bfc1-5b0b3a70cb52",
   "metadata": {},
   "source": [
    "Now we use a helper function to solve the kriging factors for each active model cell: ``OrdinaryKrige.calc_factors_grid()`` includes all the standard kriging arguments, such as search radius, min and max interpolation points,zone_array, as well as the option to save the kriging variance array \n",
    "\n",
    "Note: we need to pass out model's spatial reference information. For flopy this used to be contained in model.sr\n",
    "      However this has been superseded by model.modelgrid. To avoid reliance on a changing (and not always backward\n",
    "      compatible) code base the sr method has been abstracted into pyemu."
   ]
  },
  {
   "cell_type": "code",
   "execution_count": null,
   "id": "8d403dfc-5357-493e-852d-0f8895badf92",
   "metadata": {},
   "outputs": [],
   "source": []
  },
  {
   "cell_type": "code",
   "execution_count": null,
   "id": "eed3136f-dbea-4b36-bfa4-31e404f967dd",
   "metadata": {},
   "outputs": [],
   "source": [
    "plt.imshow(zones[1])"
   ]
  },
  {
   "cell_type": "code",
   "execution_count": null,
   "id": "5a43f68a-eba6-4fd1-90f6-be1525e855df",
   "metadata": {},
   "outputs": [],
   "source": [
    "# sr = pyemu.helpers.SpatialReference.from_namfile(os.path.join(ml.model_ws, ml.namefile),\n",
    "#                                                  delr=ml.dis.delr, delc=ml.dis.delc)\n",
    "ok.calc_factors_grid(sr, \n",
    "                     # zone_array=zones[0],\n",
    "                     var_filename=os.path.join(ml.model_ws,'pp2024',\"layer1_var.dat\"))\n",
    "print('\\nstarting layer 2\\n')\n",
    "ok2.calc_factors_grid(sr, \n",
    "                     # zone_array=zones[1],\n",
    "                     var_filename=os.path.join(ml.model_ws,'pp2024',\"layer2_var.dat\"))\n",
    "print('done')"
   ]
  },
  {
   "cell_type": "markdown",
   "id": "81c854dc-8120-4144-815b-2fcede267a4f",
   "metadata": {},
   "source": [
    "Ok, we know that this function is slow for bigly models, but it is super convienent and allows a lot of flexibility.  So, once we have calculated the kriging factors for each active model cell, we need to write this to a factors file"
   ]
  },
  {
   "cell_type": "code",
   "execution_count": null,
   "id": "c3e7f736-d3cb-49f5-b2b9-6f76ece3ece5",
   "metadata": {},
   "outputs": [],
   "source": [
    "ok.to_grid_factors_file(os.path.join(ml.model_ws,'pp2024', \"pp.fac\"))\n",
    "ok2.to_grid_factors_file(os.path.join(ml.model_ws,'pp2024', \"pp2.fac\"))"
   ]
  },
  {
   "cell_type": "markdown",
   "id": "78f558ae-bae7-46d6-9175-25812f90df27",
   "metadata": {},
   "source": [
    "# this has been added to helpers for model runs"
   ]
  },
  {
   "cell_type": "code",
   "execution_count": null,
   "id": "256e2e01-0f8d-4316-802d-1fc63a4ab7e9",
   "metadata": {},
   "outputs": [],
   "source": [
    "import importlib\n",
    "importlib.reload(forward_run)"
   ]
  },
  {
   "cell_type": "code",
   "execution_count": null,
   "id": "bb0e4574-ec5f-4dda-83ac-588cd3cfac24",
   "metadata": {
    "editable": true,
    "slideshow": {
     "slide_type": ""
    },
    "tags": []
   },
   "outputs": [],
   "source": [
    "# def write_pilot_point(layer, prop, model_ws):\n",
    "#     if layer !=1:\n",
    "#         factors_file = os.path.join(model_ws,'pp2024', \"pp.fac\")\n",
    "#     else:\n",
    "#         factors_file = os.path.join(model_ws,'pp2024', \"pp2.fac\")\n",
    "\n",
    "#     out_file = os.path.join(model_ws, 'pp2024_out',f\"{prop}.txt\")\n",
    "    \n",
    "#     pp_file =  os.path.join(model_ws, 'pp2024',f\"{prop}pp.dat\")\n",
    "#     assert os.path.exists(pp_file), f\"pp_file does not exist {pp_file}\"\n",
    "#     print(f\"pp_file = {pp_file}, factors_file={factors_file}, out_file={out_file}\")\n",
    "    \n",
    "#     hk_arr = pyemu.geostats.fac2real(pp_file, factors_file=factors_file, out_file=out_file)\n",
    "\n",
    "# def write_all_pp(model_ws):\n",
    "#     prefix_dict= {0:[\"hk1\",\"sy1\",\"vk1\"],\n",
    "#                  1:[\"hk2\",\"ss2\",\"vk2\",'fmp_vk', 'drn_k'],\n",
    "#                  2:[\"hk3\",\"ss3\",\"vk3\"],\n",
    "#                  3:[\"hk4\",\"ss4\",\"vk4\"],\n",
    "#                  4:[\"hk5\",\"ss5\",\"vk5\"],\n",
    "#                  5:[\"hk6\",\"ss6\",\"vk6\"]}\n",
    "#     for lay in prefix_dict.keys():\n",
    "#         for par in prefix_dict[lay]:\n",
    "#             write_pilot_point(lay, par, model_ws)\n",
    "\n",
    "forward_run.write_all_pp(ml.model_ws)\n",
    "\n",
    "\n",
    "# pp_file = 'hkpp1.dat'\n",
    "\n",
    "# out_folder = ''\n",
    "# out_file='freyberg6.npf_k_layer1.txt'\n",
    "\n",
    "# pp_file = 'rchpp.dat'\n",
    "# hk_arr = pyemu.geostats.fac2real(pp_file, factors_file=pp_file+'.fac',out_file='rch0_fac.txt')"
   ]
  },
  {
   "cell_type": "markdown",
   "id": "576dc6ff-0fc4-4b4c-ae42-2ceee36f276f",
   "metadata": {},
   "source": [
    "Let's check out that kriging variance array....\n"
   ]
  },
  {
   "cell_type": "code",
   "execution_count": null,
   "id": "54b997b5-ed74-488d-8e8e-efebbb0b6a3e",
   "metadata": {},
   "outputs": [],
   "source": [
    "var_arr = np.ma.masked_invalid(np.loadtxt(os.path.join(ml.model_ws,'pp2024',\"layer1_var.dat\")))\n",
    "fig = plt.figure(figsize=(8.5,11))\n",
    "mm = conda_scripts.make_map.make_map('layer1')\n",
    "ax = mm.plotloc(fig, locname = 'SON_MOD')\n",
    "ax.pcolormesh(sr.xcentergrid,sr.ycentergrid,var_arr,alpha=0.5)\n",
    "ax.scatter(hk_pp.x, hk_pp.y,marker='o', c = hk_pp.zone,s=25, cmap = 'tab10', ec = 'k')\n",
    "plt.savefig('pilot_points_lay1.png')"
   ]
  },
  {
   "cell_type": "code",
   "execution_count": null,
   "id": "b18894a2-0f00-435a-97df-1dafbf3c8621",
   "metadata": {},
   "outputs": [],
   "source": [
    "hk_pp2"
   ]
  },
  {
   "cell_type": "code",
   "execution_count": null,
   "id": "84660f94-9f29-46e6-9f5c-58fcb8efc096",
   "metadata": {},
   "outputs": [],
   "source": [
    "var_arr = np.ma.masked_invalid(np.loadtxt(os.path.join(ml.model_ws,'pp2024',\"layer2_var.dat\")))\n",
    "fig = plt.figure(figsize=(8.5,11))\n",
    "mm = conda_scripts.make_map.make_map('layer2')\n",
    "ax = mm.plotloc(fig, locname = 'SON_MOD')\n",
    "ax.pcolormesh(sr.xcentergrid,sr.ycentergrid,var_arr,alpha=0.5)\n",
    "ax.scatter(hk_pp2.x, hk_pp2.y,marker='o', c = hk_pp2.zone,s=25, cmap = 'tab10', ec = 'k')\n",
    "plt.savefig('pilot_points_lay2.png')"
   ]
  },
  {
   "cell_type": "code",
   "execution_count": null,
   "id": "e25ef9e3-4a78-425f-b0ee-ce030f1ba6ba",
   "metadata": {},
   "outputs": [],
   "source": [
    "os.getcwd()"
   ]
  },
  {
   "cell_type": "markdown",
   "id": "38d5399f-79ef-4ebc-bff9-98603c08f6aa",
   "metadata": {},
   "source": [
    "# add zone multipliers"
   ]
  },
  {
   "cell_type": "code",
   "execution_count": null,
   "id": "4aec75bd-b5cd-4344-98ae-bf311a4e748a",
   "metadata": {},
   "outputs": [],
   "source": [
    "mult_path = os.path.join('zone_pest_mult')"
   ]
  },
  {
   "cell_type": "code",
   "execution_count": null,
   "id": "cb70b5cf-fe53-450f-8685-57713caf037b",
   "metadata": {},
   "outputs": [],
   "source": [
    "if not os.path.exists(mult_path):\n",
    "    os.makedirs(mult_path, exist_ok=True)"
   ]
  },
  {
   "cell_type": "code",
   "execution_count": null,
   "id": "4909a1d8-01e6-420c-90c1-4ac81fb3a71a",
   "metadata": {},
   "outputs": [],
   "source": []
  },
  {
   "cell_type": "code",
   "execution_count": null,
   "id": "7583a0ec-20aa-496f-8de6-6d5e70922d4e",
   "metadata": {},
   "outputs": [],
   "source": [
    "zdict = forward_run.get_prefix_dict_for_pilot_points()"
   ]
  },
  {
   "cell_type": "code",
   "execution_count": null,
   "id": "eff8812a-fa30-419e-af2c-2e5f8b78f0fb",
   "metadata": {},
   "outputs": [],
   "source": [
    "z = np.genfromtxt(os.path.join(ml.model_ws, 'model_arrays', 'zonation_3.csv'), delimiter = ' ')\n",
    "\n",
    "zotther = z.copy()\n",
    "zotther[zotther>8] = 0\n",
    "\n",
    "zones = {i:zotther  for i in range(7) }\n",
    "zones[1] = z\n",
    "plt.imshow(zones[1])\n",
    "\n",
    "z = conda_scripts.arich_functions.array2rc(zones[1],'zone').astype({'zone':int})\n",
    "\n",
    "aliases = {1: 'Bay', 2: 'EastSide', 3: 'SouthCent', 4: 'Kenwood', 5: 'VOM', 6: 'AguaCal',7:'WestSide',8:'CitySon',9:'Highlands'}\n",
    "z.loc[:,'zone'] =z.loc[:,'zone'].replace(aliases)\n",
    "z = z.query(\"zone!=0\")\n",
    "\n",
    "geoms = conda_scripts.arich_functions.get_model_shp(ml.modelgrid, 2226).drop(columns = ['row','col'])\n",
    "\n",
    "z = gpd.GeoDataFrame(pd.merge(z, geoms, on = ['i','j']))\n",
    "zplot = z.dissolve('zone').reset_index()"
   ]
  },
  {
   "cell_type": "code",
   "execution_count": null,
   "id": "301d628f-168f-4d2f-b4d7-70dcd4fcffc6",
   "metadata": {},
   "outputs": [],
   "source": []
  },
  {
   "cell_type": "code",
   "execution_count": null,
   "id": "4c900378-589c-4dde-b4a3-6ff8fd6a8828",
   "metadata": {},
   "outputs": [],
   "source": []
  },
  {
   "cell_type": "code",
   "execution_count": null,
   "id": "e04de16c-be74-4952-b3d1-70cb0a29d4cd",
   "metadata": {},
   "outputs": [],
   "source": [
    "zz = [z for _,z in zones.items()]\n",
    "zz = np.stack(zz)\n",
    "zz = zz[:6,:,:]\n",
    "zz[ml.bas6.ibound.array==0] = np.nan\n",
    "zz = np.array(zz, dtype = int)\n",
    "zz.shape"
   ]
  },
  {
   "cell_type": "code",
   "execution_count": null,
   "id": "1fbb64d2-b73a-42c9-8273-099478b14096",
   "metadata": {},
   "outputs": [],
   "source": [
    "fig, ax = plt.subplots(2,3)\n",
    "ax = ax.ravel()\n",
    "\n",
    "for i in range(6):\n",
    "\n",
    "    ax[i].imshow(zz[i])\n",
    "    ax[i].set_title(i+1)"
   ]
  },
  {
   "cell_type": "code",
   "execution_count": null,
   "id": "998c76be-2cff-4e29-8328-b050923b52de",
   "metadata": {},
   "outputs": [],
   "source": [
    "prefix = forward_run.get_prefix_dict_for_pilot_points()\n",
    "prefix"
   ]
  },
  {
   "cell_type": "code",
   "execution_count": null,
   "id": "91a359d3-9bb4-471b-9cb7-b72e7f367683",
   "metadata": {},
   "outputs": [],
   "source": []
  },
  {
   "cell_type": "markdown",
   "id": "8a0e6ea4-5c1b-4fc0-8e34-8e64254a29d3",
   "metadata": {},
   "source": [
    "# write array files while adding parameter locations for paremeter values\n"
   ]
  },
  {
   "cell_type": "code",
   "execution_count": null,
   "id": "211fdbca-00c1-4190-9b86-bff9a2f0d22b",
   "metadata": {},
   "outputs": [],
   "source": [
    "\n",
    "for lay, vals in prefix.items():\n",
    "    for val in vals:\n",
    "        # string_array = np.zeros(z.shape, dtype ='U20')\n",
    "        string_array = np.zeros(zz[i].shape, dtype ='U30')\n",
    "        string_array[:,:] = '1e30'\n",
    "        for zonenum, zonename in aliases.items():\n",
    "            \n",
    "            c_ = zz[i]==zonenum\n",
    "            fff = \"zonemult_{:}_{:}\".format(val, zonename)\n",
    "            string_array[c_] = f\"~{fff:20s}~\"\n",
    "            print(zonenum, val, zonename)\n",
    "            # print(np.unique(base.ravel()))\n",
    "            # # Use np.vectorize to apply the dictionary mapping\n",
    "            # string_array = np.vectorize(lambda x: '' if x is None else aliases.get(x))(base)\n",
    "        file = os.path.join(mult_path, f'zonemult_{val}.csv.tpl')\n",
    "        \n",
    "        with open(file,'w') as wrt:\n",
    "            wrt.write('ptf ~\\n')\n",
    "        with open(file,'a') as wrt:\n",
    "            np.savetxt(wrt, string_array, fmt = '%s', delimiter=',')\n"
   ]
  },
  {
   "cell_type": "code",
   "execution_count": null,
   "id": "df179e8c-a341-4a97-af1d-75c58f65a0ab",
   "metadata": {},
   "outputs": [],
   "source": []
  },
  {
   "cell_type": "markdown",
   "id": "bcb0e51f-1f85-40b6-8c95-b30d98e176a0",
   "metadata": {},
   "source": [
    "# create layer multiplier"
   ]
  },
  {
   "cell_type": "code",
   "execution_count": null,
   "id": "0c23faf5-cab4-44fe-9d2d-aa705862f0f0",
   "metadata": {},
   "outputs": [],
   "source": [
    "\n",
    "for lay, vals in prefix.items():\n",
    "    for val in vals:       \n",
    "        \n",
    "        string_array = np.zeros(zz[i].shape, dtype ='U30')\n",
    "        string_array[:,:] = '1e30'\n",
    "\n",
    "        c_ = zz[i]>0\n",
    "        \n",
    "        fff = \"laymult_{:}\".format(val)\n",
    "        string_array[c_] = f\"~{fff:20s}~\"\n",
    "\n",
    "        file = os.path.join(mult_path, f'laymult_{val}.csv.tpl')\n",
    "        \n",
    "        with open(file,'w') as wrt:\n",
    "            wrt.write('ptf ~\\n')\n",
    "        with open(file,'a') as wrt:\n",
    "            np.savetxt(wrt, string_array, fmt = '%s', delimiter=',')"
   ]
  },
  {
   "cell_type": "code",
   "execution_count": null,
   "id": "fb92843d-f417-4028-9feb-237172d36c3c",
   "metadata": {},
   "outputs": [],
   "source": []
  }
 ],
 "metadata": {
  "kernelspec": {
   "display_name": "Python 3 (ipykernel)",
   "language": "python",
   "name": "python3"
  },
  "language_info": {
   "codemirror_mode": {
    "name": "ipython",
    "version": 3
   },
   "file_extension": ".py",
   "mimetype": "text/x-python",
   "name": "python",
   "nbconvert_exporter": "python",
   "pygments_lexer": "ipython3",
   "version": "3.9.19"
  }
 },
 "nbformat": 4,
 "nbformat_minor": 5
}
