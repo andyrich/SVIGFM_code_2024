{
 "cells": [
  {
   "cell_type": "code",
   "execution_count": 1,
   "id": "23aa5ff4-79c4-43d0-8962-b9f302e5dd6b",
   "metadata": {
    "tags": []
   },
   "outputs": [],
   "source": [
    "import geopandas as gpd\n",
    "import os\n",
    "import pandas as pd\n",
    "import glob\n",
    "import datetime"
   ]
  },
  {
   "cell_type": "code",
   "execution_count": 2,
   "id": "4a52fe93-ff2b-4074-8818-f76171032ddc",
   "metadata": {
    "tags": []
   },
   "outputs": [],
   "source": [
    "from datetime import datetime\n",
    "import matplotlib.pyplot as plt"
   ]
  },
  {
   "cell_type": "code",
   "execution_count": null,
   "id": "62d38e96-738c-4b7a-92a4-6af1632c82b3",
   "metadata": {
    "tags": []
   },
   "outputs": [],
   "source": []
  },
  {
   "cell_type": "code",
   "execution_count": 3,
   "id": "96b837dc-1e57-4241-95a8-4ad05644dcb1",
   "metadata": {
    "tags": []
   },
   "outputs": [
    {
     "name": "stdout",
     "output_type": "stream",
     "text": [
      "201607_SR_Sites_with_Analysis.shp\n",
      "201609_SR_Sites_with_Analysis.shp\n",
      "201611_SR_Sites_with_Analysis.shp\n",
      "201701_SR_Sites_with_analysis.shp\n",
      "201703_SR_Sites_with_analysis_2.shp\n",
      "201705_SR_Sites_with_analysis.shp\n",
      "201707_SR_Sites_with_Analysis.shp\n",
      "201709_SR_Sites_with_analysis.shp\n",
      "201711_SR_Sites_with_analysis.shp\n",
      "201711_SR_Sites_with_analysis.shp\n",
      "201801_SR_Sites_with_analysis.shp\n",
      "201803_SR_Sites_with_analysis.shp\n",
      "201805_SR_Sites_with_analysis.shp\n",
      "201807_SR_Sites_with_Analysis.shp\n",
      "201810_SR_Sites_with_Analysis.shp\n",
      "201901_SR_Sites_with_Analysis.shp\n",
      "Seepage_Run_Sites_July2021.shp\n",
      "Seepage_Run_Sites_March2021.shp\n",
      "Seepage_Run_Sites_May2021.shp\n",
      "Seepage_Run_Sites_November2021.shp\n",
      "Seepage_Run_Sites_September2021.shp\n",
      "Seepage_Run_Sites_January2022.shp\n",
      "Seepage_Run_Sites_July2022.shp\n",
      "Seepage_Run_Sites_May2022.shp\n",
      "Seepage_Run_Sites_November2022.shp\n",
      "Seepage_Run_Sites_September2022.shp\n",
      "Seepage_Run_Sites_November2023.shp\n",
      "Seepage_Run_Sites_January2024.shp\n"
     ]
    }
   ],
   "source": [
    "fold = r\"C:\\Users\\arich\\Desktop\\Shape Files GIS-20240311T200548Z-001\\Shape Files GIS\"\n",
    "main =  os.walk(fold)\n",
    "\n",
    "sites = {}\n",
    "for path, dirnames, filenames in main:\n",
    "    \n",
    "    for file in filenames:\n",
    "        if  file.endswith('.shp') and (\"sites\" in file.lower()):\n",
    "            print(file)\n",
    "            # print('{} {} {}'.format(repr(path), repr(dirnames), repr(file)))\n",
    "            cur = gpd.read_file(os.path.join(path, file))\n",
    "            sites[file] = cur\n",
    "            # df.extend([cur])"
   ]
  },
  {
   "cell_type": "code",
   "execution_count": 7,
   "id": "3a3f84f5-4585-44fa-9ae1-fa039d53aaea",
   "metadata": {
    "tags": []
   },
   "outputs": [],
   "source": [
    "import conda_scripts\n",
    "import numpy as np"
   ]
  },
  {
   "cell_type": "code",
   "execution_count": 85,
   "id": "1b09a9aa-6a43-40d7-9044-63418be8f82f",
   "metadata": {},
   "outputs": [
    {
     "name": "stderr",
     "output_type": "stream",
     "text": [
      "<>:2: DeprecationWarning: invalid escape sequence \\m\n",
      "<>:2: DeprecationWarning: invalid escape sequence \\m\n",
      "C:\\Users\\arich\\AppData\\Local\\Temp\\1\\ipykernel_23440\\3155978207.py:2: DeprecationWarning: invalid escape sequence \\m\n",
      "  output_file = 'discharge\\meas.xlsx'\n",
      "C:\\Users\\arich\\AppData\\Local\\mambaforge\\envs\\gis_py_10\\lib\\site-packages\\openpyxl\\workbook\\child.py:99: UserWarning: Title is more than 31 characters. Some applications may not be able to read the file\n",
      "  warnings.warn(\"Title is more than 31 characters. Some applications may not be able to read the file\")\n",
      "C:\\Users\\arich\\AppData\\Local\\mambaforge\\envs\\gis_py_10\\lib\\site-packages\\openpyxl\\workbook\\child.py:99: UserWarning: Title is more than 31 characters. Some applications may not be able to read the file\n",
      "  warnings.warn(\"Title is more than 31 characters. Some applications may not be able to read the file\")\n",
      "C:\\Users\\arich\\AppData\\Local\\mambaforge\\envs\\gis_py_10\\lib\\site-packages\\openpyxl\\workbook\\child.py:99: UserWarning: Title is more than 31 characters. Some applications may not be able to read the file\n",
      "  warnings.warn(\"Title is more than 31 characters. Some applications may not be able to read the file\")\n",
      "C:\\Users\\arich\\AppData\\Local\\mambaforge\\envs\\gis_py_10\\lib\\site-packages\\openpyxl\\workbook\\child.py:99: UserWarning: Title is more than 31 characters. Some applications may not be able to read the file\n",
      "  warnings.warn(\"Title is more than 31 characters. Some applications may not be able to read the file\")\n",
      "C:\\Users\\arich\\AppData\\Local\\mambaforge\\envs\\gis_py_10\\lib\\site-packages\\openpyxl\\workbook\\child.py:99: UserWarning: Title is more than 31 characters. Some applications may not be able to read the file\n",
      "  warnings.warn(\"Title is more than 31 characters. Some applications may not be able to read the file\")\n",
      "C:\\Users\\arich\\AppData\\Local\\mambaforge\\envs\\gis_py_10\\lib\\site-packages\\openpyxl\\workbook\\child.py:99: UserWarning: Title is more than 31 characters. Some applications may not be able to read the file\n",
      "  warnings.warn(\"Title is more than 31 characters. Some applications may not be able to read the file\")\n",
      "C:\\Users\\arich\\AppData\\Local\\mambaforge\\envs\\gis_py_10\\lib\\site-packages\\openpyxl\\workbook\\child.py:99: UserWarning: Title is more than 31 characters. Some applications may not be able to read the file\n",
      "  warnings.warn(\"Title is more than 31 characters. Some applications may not be able to read the file\")\n",
      "C:\\Users\\arich\\AppData\\Local\\mambaforge\\envs\\gis_py_10\\lib\\site-packages\\openpyxl\\workbook\\child.py:99: UserWarning: Title is more than 31 characters. Some applications may not be able to read the file\n",
      "  warnings.warn(\"Title is more than 31 characters. Some applications may not be able to read the file\")\n",
      "C:\\Users\\arich\\AppData\\Local\\mambaforge\\envs\\gis_py_10\\lib\\site-packages\\openpyxl\\workbook\\child.py:99: UserWarning: Title is more than 31 characters. Some applications may not be able to read the file\n",
      "  warnings.warn(\"Title is more than 31 characters. Some applications may not be able to read the file\")\n",
      "C:\\Users\\arich\\AppData\\Local\\mambaforge\\envs\\gis_py_10\\lib\\site-packages\\openpyxl\\workbook\\child.py:99: UserWarning: Title is more than 31 characters. Some applications may not be able to read the file\n",
      "  warnings.warn(\"Title is more than 31 characters. Some applications may not be able to read the file\")\n",
      "C:\\Users\\arich\\AppData\\Local\\mambaforge\\envs\\gis_py_10\\lib\\site-packages\\openpyxl\\workbook\\child.py:99: UserWarning: Title is more than 31 characters. Some applications may not be able to read the file\n",
      "  warnings.warn(\"Title is more than 31 characters. Some applications may not be able to read the file\")\n",
      "C:\\Users\\arich\\AppData\\Local\\mambaforge\\envs\\gis_py_10\\lib\\site-packages\\openpyxl\\workbook\\child.py:99: UserWarning: Title is more than 31 characters. Some applications may not be able to read the file\n",
      "  warnings.warn(\"Title is more than 31 characters. Some applications may not be able to read the file\")\n",
      "C:\\Users\\arich\\AppData\\Local\\mambaforge\\envs\\gis_py_10\\lib\\site-packages\\openpyxl\\workbook\\child.py:99: UserWarning: Title is more than 31 characters. Some applications may not be able to read the file\n",
      "  warnings.warn(\"Title is more than 31 characters. Some applications may not be able to read the file\")\n",
      "C:\\Users\\arich\\AppData\\Local\\mambaforge\\envs\\gis_py_10\\lib\\site-packages\\openpyxl\\workbook\\child.py:99: UserWarning: Title is more than 31 characters. Some applications may not be able to read the file\n",
      "  warnings.warn(\"Title is more than 31 characters. Some applications may not be able to read the file\")\n",
      "C:\\Users\\arich\\AppData\\Local\\mambaforge\\envs\\gis_py_10\\lib\\site-packages\\openpyxl\\workbook\\child.py:99: UserWarning: Title is more than 31 characters. Some applications may not be able to read the file\n",
      "  warnings.warn(\"Title is more than 31 characters. Some applications may not be able to read the file\")\n",
      "C:\\Users\\arich\\AppData\\Local\\mambaforge\\envs\\gis_py_10\\lib\\site-packages\\openpyxl\\workbook\\child.py:99: UserWarning: Title is more than 31 characters. Some applications may not be able to read the file\n",
      "  warnings.warn(\"Title is more than 31 characters. Some applications may not be able to read the file\")\n",
      "C:\\Users\\arich\\AppData\\Local\\mambaforge\\envs\\gis_py_10\\lib\\site-packages\\openpyxl\\workbook\\child.py:99: UserWarning: Title is more than 31 characters. Some applications may not be able to read the file\n",
      "  warnings.warn(\"Title is more than 31 characters. Some applications may not be able to read the file\")\n",
      "C:\\Users\\arich\\AppData\\Local\\mambaforge\\envs\\gis_py_10\\lib\\site-packages\\openpyxl\\workbook\\child.py:99: UserWarning: Title is more than 31 characters. Some applications may not be able to read the file\n",
      "  warnings.warn(\"Title is more than 31 characters. Some applications may not be able to read the file\")\n",
      "C:\\Users\\arich\\AppData\\Local\\mambaforge\\envs\\gis_py_10\\lib\\site-packages\\openpyxl\\workbook\\child.py:99: UserWarning: Title is more than 31 characters. Some applications may not be able to read the file\n",
      "  warnings.warn(\"Title is more than 31 characters. Some applications may not be able to read the file\")\n",
      "C:\\Users\\arich\\AppData\\Local\\mambaforge\\envs\\gis_py_10\\lib\\site-packages\\openpyxl\\workbook\\child.py:99: UserWarning: Title is more than 31 characters. Some applications may not be able to read the file\n",
      "  warnings.warn(\"Title is more than 31 characters. Some applications may not be able to read the file\")\n",
      "C:\\Users\\arich\\AppData\\Local\\mambaforge\\envs\\gis_py_10\\lib\\site-packages\\openpyxl\\workbook\\child.py:99: UserWarning: Title is more than 31 characters. Some applications may not be able to read the file\n",
      "  warnings.warn(\"Title is more than 31 characters. Some applications may not be able to read the file\")\n",
      "C:\\Users\\arich\\AppData\\Local\\mambaforge\\envs\\gis_py_10\\lib\\site-packages\\openpyxl\\workbook\\child.py:99: UserWarning: Title is more than 31 characters. Some applications may not be able to read the file\n",
      "  warnings.warn(\"Title is more than 31 characters. Some applications may not be able to read the file\")\n"
     ]
    }
   ],
   "source": [
    "# Path to the output Excel file\n",
    "output_file = 'discharge\\meas.xlsx'\n",
    "\n",
    "# Create an Excel writer object\n",
    "with pd.ExcelWriter(output_file, engine='openpyxl') as writer:\n",
    "    for sheet_name, gdf in sites.items():\n",
    "        # Convert GeoDataFrame to DataFrame\n",
    "        df = pd.DataFrame(gdf.drop(columns='geometry'))\n",
    "        # Write DataFrame to Excel sheet\n",
    "        df.to_excel(writer, sheet_name=sheet_name, index=False)"
   ]
  },
  {
   "cell_type": "code",
   "execution_count": 121,
   "id": "25f7e4f1-e3bb-48e7-a9f8-4c57ea4137c1",
   "metadata": {
    "scrolled": true
   },
   "outputs": [],
   "source": [
    "alls = []\n",
    "for k in sites.keys():\n",
    "    cols = 'WPName \t \tDate \t \tLAT \tLON  Discharge\tSiteName CreekCode geometry  source'.split()\n",
    "    dfo = sites[k]\n",
    "    # dfo.loc[:,'source'] = k\n",
    "    if 'Discharge' in dfo.columns:\n",
    "        dfo = dfo.astype({'Discharge':float})\n",
    "        # print(dfo.head(),'\\n\\n', '-'*20,'\\n')\n",
    "        cols = [x for x in cols if x in dfo.columns]\n",
    "        alls.extend([dfo.loc[:,cols]])\n",
    "    else:\n",
    "        col = dfo.drop(columns = ['geometry','source']).columns[-1]\n",
    "        # cols = 'WPName \tSiteName \tDate \t \tLAT \tLON \tCreekCode geometry'.split()\n",
    "        cols = [x for x in cols if x in dfo.columns]\n",
    "        cols.extend([col])\n",
    "        \n",
    "        alls.extend([dfo.loc[:,cols].rename(columns = {col:'Discharge'})])\n",
    "\n",
    "\n",
    "    \n",
    "alls = pd.concat([a.to_crs(2226) for a in alls])\n",
    "alls = alls.loc[alls.geometry.x<np.inf]"
   ]
  },
  {
   "cell_type": "code",
   "execution_count": 122,
   "id": "fbe890a8-f814-4c82-ae6f-1e65ceb29f15",
   "metadata": {},
   "outputs": [
    {
     "name": "stderr",
     "output_type": "stream",
     "text": [
      "<>:1: DeprecationWarning: invalid escape sequence \\s\n",
      "<>:1: DeprecationWarning: invalid escape sequence \\s\n",
      "C:\\Users\\arich\\AppData\\Local\\Temp\\1\\ipykernel_23440\\3008717688.py:1: DeprecationWarning: invalid escape sequence \\s\n",
      "  alls.to_file('discharge\\streamQ.shp')\n"
     ]
    }
   ],
   "source": [
    "alls.to_file('discharge\\streamQ.shp')"
   ]
  }
 ],
 "metadata": {
  "kernelspec": {
   "display_name": "Python 3 (ipykernel)",
   "language": "python",
   "name": "python3"
  },
  "language_info": {
   "codemirror_mode": {
    "name": "ipython",
    "version": 3
   },
   "file_extension": ".py",
   "mimetype": "text/x-python",
   "name": "python",
   "nbconvert_exporter": "python",
   "pygments_lexer": "ipython3",
   "version": "3.9.19"
  }
 },
 "nbformat": 4,
 "nbformat_minor": 5
}
