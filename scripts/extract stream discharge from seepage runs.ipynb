{
 "cells": [
  {
   "cell_type": "code",
   "execution_count": null,
   "id": "23aa5ff4-79c4-43d0-8962-b9f302e5dd6b",
   "metadata": {
    "editable": true,
    "slideshow": {
     "slide_type": ""
    },
    "tags": []
   },
   "outputs": [],
   "source": [
    "import geopandas as gpd\n",
    "import os\n",
    "import pandas as pd\n",
    "import glob\n",
    "import datetime"
   ]
  },
  {
   "cell_type": "code",
   "execution_count": null,
   "id": "4a52fe93-ff2b-4074-8818-f76171032ddc",
   "metadata": {
    "tags": []
   },
   "outputs": [],
   "source": [
    "from datetime import datetime\n",
    "import matplotlib.pyplot as plt"
   ]
  },
  {
   "cell_type": "code",
   "execution_count": null,
   "id": "62d38e96-738c-4b7a-92a4-6af1632c82b3",
   "metadata": {
    "tags": []
   },
   "outputs": [],
   "source": []
  },
  {
   "cell_type": "code",
   "execution_count": null,
   "id": "96b837dc-1e57-4241-95a8-4ad05644dcb1",
   "metadata": {
    "tags": []
   },
   "outputs": [],
   "source": [
    "fold = r\"C:\\Users\\arich\\Desktop\\Shape Files GIS-20240311T200548Z-001\\Shape Files GIS\"\n",
    "main =  os.walk(fold)\n",
    "\n",
    "sites = {}\n",
    "for path, dirnames, filenames in main:\n",
    "    \n",
    "    for file in filenames:\n",
    "        if  file.endswith('.shp') and (\"sites\" in file.lower()):\n",
    "            print(file)\n",
    "            # print('{} {} {}'.format(repr(path), repr(dirnames), repr(file)))\n",
    "            cur = gpd.read_file(os.path.join(path, file))\n",
    "            sites[file] = cur\n",
    "            # df.extend([cur])"
   ]
  },
  {
   "cell_type": "code",
   "execution_count": null,
   "id": "3a3f84f5-4585-44fa-9ae1-fa039d53aaea",
   "metadata": {
    "tags": []
   },
   "outputs": [],
   "source": [
    "import conda_scripts\n",
    "import numpy as np"
   ]
  },
  {
   "cell_type": "code",
   "execution_count": null,
   "id": "767d9d8c-f93a-4e2d-a909-19d7006fcd5f",
   "metadata": {},
   "outputs": [],
   "source": [
    "os.listdir()"
   ]
  },
  {
   "cell_type": "code",
   "execution_count": null,
   "id": "1b09a9aa-6a43-40d7-9044-63418be8f82f",
   "metadata": {},
   "outputs": [],
   "source": [
    "# Path to the output Excel file\n",
    "output_file = '..\\discharge\\meas.xlsx'\n",
    "\n",
    "# Create an Excel writer object\n",
    "with pd.ExcelWriter(output_file, engine='openpyxl') as writer:\n",
    "    for sheet_name, gdf in sites.items():\n",
    "        # Convert GeoDataFrame to DataFrame\n",
    "        df = pd.DataFrame(gdf.drop(columns='geometry'))\n",
    "        # Write DataFrame to Excel sheet\n",
    "        df.to_excel(writer, sheet_name=sheet_name, index=False)"
   ]
  },
  {
   "cell_type": "code",
   "execution_count": null,
   "id": "25f7e4f1-e3bb-48e7-a9f8-4c57ea4137c1",
   "metadata": {},
   "outputs": [],
   "source": [
    "alls = []\n",
    "for k in sites.keys():\n",
    "    cols = 'WPName \t \tDate \t \tLAT \tLON  Discharge\tSiteName CreekCode geometry  source'.split()\n",
    "    dfo = sites[k]\n",
    "    # dfo.loc[:,'source'] = k\n",
    "    if 'Discharge' in dfo.columns:\n",
    "        dfo = dfo.astype({'Discharge':float})\n",
    "        # print(dfo.head(),'\\n\\n', '-'*20,'\\n')\n",
    "        cols = [x for x in cols if x in dfo.columns]\n",
    "        alls.extend([dfo.loc[:,cols]])\n",
    "    else:\n",
    "        col = dfo.drop(columns = ['geometry','source']).columns[-1]\n",
    "        # cols = 'WPName \tSiteName \tDate \t \tLAT \tLON \tCreekCode geometry'.split()\n",
    "        cols = [x for x in cols if x in dfo.columns]\n",
    "        cols.extend([col])\n",
    "        \n",
    "        alls.extend([dfo.loc[:,cols].rename(columns = {col:'Discharge'})])\n",
    "\n",
    "\n",
    "    \n",
    "alls = pd.concat([a.to_crs(2226) for a in alls])\n",
    "alls = alls.loc[alls.geometry.x<np.inf]"
   ]
  },
  {
   "cell_type": "code",
   "execution_count": null,
   "id": "fbe890a8-f814-4c82-ae6f-1e65ceb29f15",
   "metadata": {},
   "outputs": [],
   "source": [
    "alls.to_file('..\\discharge\\streamQ.shp')"
   ]
  },
  {
   "cell_type": "code",
   "execution_count": null,
   "id": "0734a082-9626-4ece-97f6-4536b93570d3",
   "metadata": {},
   "outputs": [],
   "source": [
    "ou = gpd.read_file('..\\discharge\\streamQ.shp')"
   ]
  },
  {
   "cell_type": "code",
   "execution_count": null,
   "id": "a50b2191-32cf-48d3-9525-ae4b7031a1b2",
   "metadata": {},
   "outputs": [],
   "source": [
    "gdf = ou.copy()"
   ]
  },
  {
   "cell_type": "code",
   "execution_count": null,
   "id": "8170ab84-c03e-40c2-ab8f-0dd8e8129206",
   "metadata": {},
   "outputs": [],
   "source": [
    "from shapely.geometry import Point"
   ]
  },
  {
   "cell_type": "code",
   "execution_count": null,
   "id": "3390f3db-08b7-470a-8016-8aac34499fa4",
   "metadata": {},
   "outputs": [],
   "source": [
    "# Function to round down coordinates to 3 decimals\n",
    "def round_down(value, decimals):\n",
    "    factor = 10 ** decimals\n",
    "    return (value * factor // 1) / factor\n",
    "\n",
    "# Apply the function to the coordinates\n",
    "gdf['geometry'] = gdf['geometry'].apply(lambda geom: Point(round_down(geom.x, 2), round_down(geom.y, 3)))\n"
   ]
  },
  {
   "cell_type": "code",
   "execution_count": null,
   "id": "3f93c817-f79e-4852-9ddc-eeba5482feac",
   "metadata": {},
   "outputs": [],
   "source": [
    "gdf = gpd.GeoDataFrame(gdf.groupby('geometry').count().reset_index(),geometry = 'geometry')\n",
    "gdf.shape"
   ]
  },
  {
   "cell_type": "code",
   "execution_count": null,
   "id": "da78287c-1f81-4300-a48e-a4e098160682",
   "metadata": {},
   "outputs": [],
   "source": [
    "ou = gpd.GeoDataFrame(ou.groupby('geometry').count().reset_index(),geometry = 'geometry')\n",
    "ou.shape"
   ]
  },
  {
   "cell_type": "code",
   "execution_count": null,
   "id": "2b8fc4ed-d634-4c90-acc1-36bec9fb3aa5",
   "metadata": {
    "editable": true,
    "slideshow": {
     "slide_type": ""
    },
    "tags": []
   },
   "outputs": [],
   "source": [
    "gdf.plot()"
   ]
  },
  {
   "cell_type": "code",
   "execution_count": null,
   "id": "2d21315c-27c8-428d-a92a-6ac4e5a51b85",
   "metadata": {},
   "outputs": [],
   "source": [
    "import cartopy.crs as ccrs"
   ]
  },
  {
   "cell_type": "code",
   "execution_count": null,
   "id": "126ba274-e134-464a-8933-69d98c73eb29",
   "metadata": {
    "editable": true,
    "slideshow": {
     "slide_type": ""
    },
    "tags": []
   },
   "outputs": [],
   "source": [
    "fig = plt.figure(figsize = (8.5,11), dpi = 250)\n",
    "ax = plt.subplot( projection=ccrs.epsg(2226))\n",
    "\n",
    "ax = conda_scripts.sv_budget.sv_budget.sv_mod_map(ax = ax)\n",
    "ou.plot(ax = ax, markersize = 5,zorder = 100, fc  = 'w', ec = 'r')\n",
    "\n",
    "# conda_scripts.plot_help.label_points(ax, ou, 'source', already_str=False,text_color='b')\n",
    "plt.savefig('..\\discharge\\seepage_points.png')"
   ]
  },
  {
   "cell_type": "code",
   "execution_count": null,
   "id": "b463be47-64e0-48f4-91df-e399d47a4cd8",
   "metadata": {
    "editable": true,
    "slideshow": {
     "slide_type": ""
    },
    "tags": []
   },
   "outputs": [],
   "source": []
  }
 ],
 "metadata": {
  "kernelspec": {
   "display_name": "Python 3 (ipykernel)",
   "language": "python",
   "name": "python3"
  },
  "language_info": {
   "codemirror_mode": {
    "name": "ipython",
    "version": 3
   },
   "file_extension": ".py",
   "mimetype": "text/x-python",
   "name": "python",
   "nbconvert_exporter": "python",
   "pygments_lexer": "ipython3",
   "version": "3.9.19"
  }
 },
 "nbformat": 4,
 "nbformat_minor": 5
}
