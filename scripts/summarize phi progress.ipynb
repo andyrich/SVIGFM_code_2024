{
 "cells": [
  {
   "cell_type": "code",
   "execution_count": null,
   "id": "0",
   "metadata": {},
   "outputs": [],
   "source": [
    "import pandas as pd"
   ]
  },
  {
   "cell_type": "code",
   "execution_count": null,
   "id": "1",
   "metadata": {},
   "outputs": [],
   "source": [
    "folder = r\"C:\\GSP\\sv\\model\\pest_inputs\\PEST_PP\""
   ]
  },
  {
   "cell_type": "code",
   "execution_count": null,
   "id": "2",
   "metadata": {},
   "outputs": [],
   "source": [
    "import os\n",
    "\n",
    "filesls = []\n",
    "for root, dirs, files in os.walk(folder):\n",
    "    for file in files:\n",
    "        if \".phi.group.csv\" in file:\n",
    "            filesls.append(os.path.join(root, file))"
   ]
  },
  {
   "cell_type": "code",
   "execution_count": null,
   "id": "3",
   "metadata": {},
   "outputs": [],
   "source": []
  },
  {
   "cell_type": "code",
   "execution_count": null,
   "id": "4",
   "metadata": {},
   "outputs": [],
   "source": [
    "dfall = []\n",
    "cnt = 0\n",
    "for f in filesls:\n",
    "\n",
    "    df = pd.read_csv(os.path.join(f),index_col=[0,1,2,3])\n",
    "    df = df.sum(axis =1).to_frame('phi')\n",
    "    df.loc[:,'run'] = os.path.basename(f)+str(cnt)\n",
    "    df = df.set_index('run', append = True)\n",
    "    dfall.append(df)\n",
    "    cnt+=1\n",
    "    \n",
    "dfall = pd.concat(dfall)\n",
    "dfall = dfall.groupby(level = [4,0]).min().unstack()\n",
    "dfall = dfall.div(dfall.min(axis = 1),axis = 'rows')\n",
    "\n",
    "dfall = dfall.loc[dfall.count(axis = 1)>1]"
   ]
  },
  {
   "cell_type": "code",
   "execution_count": null,
   "id": "5",
   "metadata": {},
   "outputs": [],
   "source": []
  },
  {
   "cell_type": "code",
   "execution_count": null,
   "id": "6",
   "metadata": {},
   "outputs": [],
   "source": [
    "dfall.droplevel(0,1).query(\"run.str.contains('san') or run.str.contains('leo')\").rename({\"leo.phi.group.csv1\":'experiment #2',\n",
    "                                                                                             \"sancho.phi.group.csv19\":'experiment #1'}\n",
    "                                                                                            ).dropna(how = 'all',axis = 1)"
   ]
  },
  {
   "cell_type": "code",
   "execution_count": null,
   "id": "7",
   "metadata": {},
   "outputs": [],
   "source": [
    "ax = dfall.droplevel(0,1).query(\"run.str.contains('san') or run.str.contains('leo')\").rename({\"leo.phi.group.csv1\":'experiment #2',\n",
    "                                                                                             \"sancho.phi.group.csv19\":'experiment #1'}\n",
    "                                                                                            ).dropna(how = 'all',axis = 1).plot.barh()\n",
    "ax.grid(True)\n",
    "ax.set_title('min phi reduction summary')\n",
    "ax.set_xlabel('min phi, normalized')"
   ]
  },
  {
   "cell_type": "code",
   "execution_count": null,
   "id": "8",
   "metadata": {},
   "outputs": [],
   "source": []
  },
  {
   "cell_type": "code",
   "execution_count": null,
   "id": "9",
   "metadata": {},
   "outputs": [],
   "source": []
  },
  {
   "cell_type": "code",
   "execution_count": null,
   "id": "10",
   "metadata": {},
   "outputs": [],
   "source": [
    "from dash import Dash, html, dcc, Input, Output, State\n",
    "import plotly.graph_objs as go\n",
    "import numpy as np\n",
    "\n",
    "# Initialize the app\n",
    "app = Dash(__name__)\n",
    "\n",
    "# Sample data\n",
    "x = np.linspace(0, 10, 50)\n",
    "y = np.sin(x)\n",
    "\n",
    "# Layout of the app\n",
    "app.layout = html.Div([\n",
    "    # Button to toggle menu visibility\n",
    "    html.Button(\"Toggle Menu\", id=\"toggle-button\", n_clicks=0),\n",
    "    # Hidden menu (initially hidden)\n",
    "    html.Div(\n",
    "        id=\"menu-bar\",\n",
    "        children=[\n",
    "            html.Label(\"X-axis Range:\"),\n",
    "            dcc.Input(id=\"x-min\", type=\"number\", placeholder=\"Min\", value=0),\n",
    "            dcc.Input(id=\"x-max\", type=\"number\", placeholder=\"Max\", value=10),\n",
    "            html.Label(\"Y-axis Range:\"),\n",
    "            dcc.Input(id=\"y-min\", type=\"number\", placeholder=\"Min\", value=-1),\n",
    "            dcc.Input(id=\"y-max\", type=\"number\", placeholder=\"Max\", value=1),\n",
    "            html.Button(\"Apply\", id=\"apply-button\", n_clicks=0)\n",
    "        ],\n",
    "        style={\"display\": \"none\", \"border\": \"1px solid black\", \"padding\": \"10px\", \"margin-bottom\": \"10px\"}\n",
    "    ),\n",
    "    # Graph\n",
    "    dcc.Graph(id=\"graph\")\n",
    "])\n",
    "\n",
    "# Callback to toggle menu visibility\n",
    "@app.callback(\n",
    "    Output(\"menu-bar\", \"style\"),\n",
    "    [Input(\"toggle-button\", \"n_clicks\")],\n",
    "    [State(\"menu-bar\", \"style\")]\n",
    ")\n",
    "def toggle_menu(n_clicks, style):\n",
    "    if n_clicks % 2 == 1:\n",
    "        return {\"display\": \"block\", \"border\": \"1px solid black\", \"padding\": \"10px\", \"margin-bottom\": \"10px\"}\n",
    "    return {\"display\": \"none\"}\n",
    "\n",
    "# Callback to update the graph based on inputs\n",
    "@app.callback(\n",
    "    Output(\"graph\", \"figure\"),\n",
    "    [Input(\"apply-button\", \"n_clicks\")],\n",
    "    [State(\"x-min\", \"value\"),\n",
    "     State(\"x-max\", \"value\"),\n",
    "     State(\"y-min\", \"value\"),\n",
    "     State(\"y-max\", \"value\")]\n",
    ")\n",
    "def update_graph(n_clicks, x_min, x_max, y_min, y_max):\n",
    "    # Create the figure with updated ranges\n",
    "    fig = go.Figure(\n",
    "        go.Scatter(x=x, y=y, mode='lines+markers', name=\"Sine Wave\")\n",
    "    )\n",
    "    fig.update_layout(\n",
    "        xaxis=dict(range=[x_min, x_max]),\n",
    "        yaxis=dict(range=[y_min, y_max]),\n",
    "        title=\"Interactive Plot with Collapsible Menu\"\n",
    "    )\n",
    "    return fig\n",
    "\n",
    "# Run the app\n",
    "if __name__ == \"__main__\":\n",
    "    app.run_server(debug=True)\n"
   ]
  },
  {
   "cell_type": "code",
   "execution_count": null,
   "id": "11",
   "metadata": {},
   "outputs": [],
   "source": []
  }
 ],
 "metadata": {
  "kernelspec": {
   "display_name": "Python 3 (ipykernel)",
   "language": "python",
   "name": "python3"
  },
  "language_info": {
   "codemirror_mode": {
    "name": "ipython",
    "version": 3
   },
   "file_extension": ".py",
   "mimetype": "text/x-python",
   "name": "python",
   "nbconvert_exporter": "python",
   "pygments_lexer": "ipython3",
   "version": "3.9.19"
  }
 },
 "nbformat": 4,
 "nbformat_minor": 5
}
