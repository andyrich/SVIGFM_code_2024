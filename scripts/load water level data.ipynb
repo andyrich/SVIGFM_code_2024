{
 "cells": [
  {
   "cell_type": "code",
   "execution_count": null,
   "id": "bb3b21a9-f7ae-4cc3-99fb-7fb1f8165371",
   "metadata": {
    "editable": true,
    "slideshow": {
     "slide_type": ""
    },
    "tags": []
   },
   "outputs": [],
   "source": [
    "import conda_scripts\n",
    "import pandas as pd\n",
    "import geopandas as gpd\n",
    "import datetime\n",
    "import os"
   ]
  },
  {
   "cell_type": "code",
   "execution_count": null,
   "id": "a3ee34c1-d080-49bd-96b3-cb82671790f0",
   "metadata": {},
   "outputs": [],
   "source": [
    "bas = \"SRP\""
   ]
  },
  {
   "cell_type": "code",
   "execution_count": null,
   "id": "e87eb061-a695-4c84-b441-b0f1bec515a7",
   "metadata": {},
   "outputs": [],
   "source": [
    "wl = conda_scripts.wiski.wiski.get_gw_stations_wellmeta_in_basin(basins = [f'{bas}*'])"
   ]
  },
  {
   "cell_type": "code",
   "execution_count": null,
   "id": "a5f1a7ca-a833-45ae-a2b9-2c1dc7c1c446",
   "metadata": {},
   "outputs": [],
   "source": [
    "wl\n"
   ]
  },
  {
   "cell_type": "code",
   "execution_count": null,
   "id": "11198a1f-d6b2-449b-9fa6-da9c566ec135",
   "metadata": {},
   "outputs": [],
   "source": [
    "stats = wl.dropna(subset='station_no')\n",
    "stats = stats.dropna(subset='station_longitude')\n",
    "stats = stats.loc[stats.station_longitude<0]"
   ]
  },
  {
   "cell_type": "code",
   "execution_count": null,
   "id": "649d5c0f-e454-46fc-a5fb-859a1a159814",
   "metadata": {},
   "outputs": [],
   "source": []
  },
  {
   "cell_type": "code",
   "execution_count": null,
   "id": "f0712661-84fb-454e-8b86-0f40c1842415",
   "metadata": {},
   "outputs": [],
   "source": [
    "stats.loc[:, 'station_latitude'] = pd.to_numeric(stats.station_latitude, errors='coerce')\n",
    "stats.loc[:, 'station_longitude'] = pd.to_numeric(stats.station_longitude, errors='coerce')\n",
    "stats = stats.astype({'station_latitude': float, 'station_longitude': float}, errors='ignore')\n",
    "\n",
    "stats = gpd.GeoDataFrame(stats, geometry=gpd.points_from_xy(stats.station_longitude, stats.station_latitude),\n",
    "                         crs=4326).to_crs(2226)"
   ]
  },
  {
   "cell_type": "code",
   "execution_count": null,
   "id": "c7b6af5e-fc20-4aaa-b59f-eb9e2432f147",
   "metadata": {},
   "outputs": [],
   "source": [
    "stats.explore()"
   ]
  },
  {
   "cell_type": "code",
   "execution_count": null,
   "id": "6fe55f7b-6fd7-48f9-82aa-a02033127b2b",
   "metadata": {},
   "outputs": [],
   "source": [
    "wshed = conda_scripts.load_datasets.load_watersheds.load(f'{bas}')"
   ]
  },
  {
   "cell_type": "code",
   "execution_count": null,
   "id": "9dbab9f3-bfda-40a0-90b4-b0e991149ba1",
   "metadata": {},
   "outputs": [],
   "source": []
  },
  {
   "cell_type": "code",
   "execution_count": null,
   "id": "862dfc79-e9a1-470b-8e52-02db0e1300cd",
   "metadata": {},
   "outputs": [],
   "source": [
    "stats = gpd.clip(stats, wshed)"
   ]
  },
  {
   "cell_type": "code",
   "execution_count": null,
   "id": "1aabc7ea-2877-4117-876a-fdad282fb04e",
   "metadata": {},
   "outputs": [],
   "source": [
    "stats"
   ]
  },
  {
   "cell_type": "code",
   "execution_count": null,
   "id": "d4ce6900-296d-4d4a-80a8-d780b4ab4de3",
   "metadata": {},
   "outputs": [],
   "source": [
    "k = conda_scripts.wiski.wiski.get_kiwis()"
   ]
  },
  {
   "cell_type": "code",
   "execution_count": null,
   "id": "e1aeb9a8-51ee-40c7-9fd1-719f5f25895e",
   "metadata": {},
   "outputs": [],
   "source": []
  },
  {
   "cell_type": "code",
   "execution_count": null,
   "id": "779e942c-d209-438d-8135-9c521f15f302",
   "metadata": {},
   "outputs": [],
   "source": [
    "# load parameters for basin\n",
    "\n",
    "locs = [f'{bas}*','ADR*', 'PLP*', 'PRM*',  'UPC*' ,'UPE*' ,'WRM*']\n",
    "\n",
    "son = [k.get_timeseries_list(station_name=bas, ts_name='01.Fin*,DayMeanEdit*,02.Final*',\n",
    "                             parametertype_name='Groundwater_elevation',\n",
    "                             return_fields=['station_name', 'station_no', 'station_id', 'ts_id', 'ts_name',\n",
    "                                            'parametertype_id', 'parametertype_name', 'coverage']\n",
    "\n",
    "                             )\n",
    "\n",
    "       for bas in locs]"
   ]
  },
  {
   "cell_type": "code",
   "execution_count": null,
   "id": "f72a1531-82a0-4d26-a4b3-1e2f9bbaa4e6",
   "metadata": {},
   "outputs": [],
   "source": [
    "pd.concat(son).query(\"station_name=='PET0173'\")"
   ]
  },
  {
   "cell_type": "code",
   "execution_count": null,
   "id": "40048a3c-f99b-48f2-ac8c-b1156811d977",
   "metadata": {},
   "outputs": [],
   "source": [
    "assert pd.concat(son).ts_name.nunique()>1"
   ]
  },
  {
   "cell_type": "code",
   "execution_count": null,
   "id": "02c6c879-e940-445f-96f2-1a53f947561c",
   "metadata": {},
   "outputs": [],
   "source": [
    "pars = pd.concat(son)\n",
    "print(f\"there are {pars.ts_name.nunique()} parameter types\\n\\nThey are {pars.ts_name.unique()}\")\n",
    "pars = pars.loc[pd.to_datetime(pars.loc[:,'from']).notnull()]\n",
    "assert pars.ts_name.nunique()>1, f\"there are only {pars.ts_name.nunique()} parameter types\\n\\nThey are {pars.ts_name.unique()}\""
   ]
  },
  {
   "cell_type": "code",
   "execution_count": null,
   "id": "3c77d9ce-a0b8-4b41-b852-bbbdfd5d3932",
   "metadata": {},
   "outputs": [],
   "source": [
    "parsmissing = pars.loc[~pars.station_no.isin(stats.station_no)]\n",
    "pars = pars.loc[pars.station_no.isin(stats.station_no)]\n",
    "assert pars.ts_name.nunique()>1, f\"there are only {pars.ts_name.nunique()} parameter types\\n\\nThey are {pars.ts_name.unique()}\""
   ]
  },
  {
   "cell_type": "code",
   "execution_count": null,
   "id": "b40d3c49-75c6-4dbd-969f-1c315de82b39",
   "metadata": {},
   "outputs": [],
   "source": [
    "print(f\"from parmissing:\\n\\nthere are {parsmissing.ts_name.nunique()} parameter types\\n\\nThey are {parsmissing.ts_name.unique()}\\n\\n{parsmissing.ts_name.value_counts()}\")\n",
    "\n",
    "print(f\"{parsmissing.station_name.apply(lambda x: x[:3]).value_counts()}\")\n",
    "parsmissing.head()"
   ]
  },
  {
   "cell_type": "code",
   "execution_count": null,
   "id": "d374a8ef-ef22-4a4a-8438-32dfdc9a58b1",
   "metadata": {},
   "outputs": [],
   "source": [
    "df = []\n",
    "for name, group in pars.groupby('ts_id'):\n",
    "    ts = k.get_timeseries_values(ts_id=name,\n",
    "                                 **{'from': datetime.datetime(1969, 12, 1)},\n",
    "                                 return_fields=['Value', 'Timestamp', 'Quality Code'])\n",
    "    if ts.shape[0] > 0:\n",
    "        ts.loc[:, 'ts_id'] = name\n",
    "\n",
    "        df.extend([ts])\n",
    "\n",
    "tsall = pd.concat(df)"
   ]
  },
  {
   "cell_type": "code",
   "execution_count": null,
   "id": "832ad42e-f48e-43cd-ad25-2c548011185e",
   "metadata": {},
   "outputs": [],
   "source": []
  },
  {
   "cell_type": "code",
   "execution_count": null,
   "id": "d416e931-0ee6-45e9-bdd3-ce281a8d14f4",
   "metadata": {},
   "outputs": [],
   "source": [
    "tsall.index = conda_scripts.wiski.wiski.tz_fix(tsall)"
   ]
  },
  {
   "cell_type": "code",
   "execution_count": null,
   "id": "dc4171e7-364b-4515-bb88-de181e2b1bea",
   "metadata": {},
   "outputs": [],
   "source": [
    "tsall.shape"
   ]
  },
  {
   "cell_type": "code",
   "execution_count": null,
   "id": "e6491cde-12d2-4223-9357-602f9d67b47c",
   "metadata": {},
   "outputs": [],
   "source": [
    "tsall_res = tsall.groupby(['ts_id', \"Quality Code\",  pd.Grouper(level =0, freq = \"1D\"), ]).mean().reset_index()"
   ]
  },
  {
   "cell_type": "code",
   "execution_count": null,
   "id": "699884a4-7010-4cc6-9cb3-f63bacec23d9",
   "metadata": {},
   "outputs": [],
   "source": [
    "tsall_res.groupby('ts_id').count().sort_values('Value', ascending = False)"
   ]
  },
  {
   "cell_type": "code",
   "execution_count": null,
   "id": "cc8946e1-222b-49b8-a82f-2573bfc95afe",
   "metadata": {},
   "outputs": [],
   "source": [
    "tsall_res.to_csv(os.path.join('..','waterlevel',f'{bas}_wl.csv'))\n",
    "pars.to_csv(os.path.join('..','waterlevel',f'{bas}_pars.csv'))\n",
    "stats.to_csv(os.path.join('..','waterlevel',f'{bas}_stats.csv'))"
   ]
  },
  {
   "cell_type": "code",
   "execution_count": null,
   "id": "c623c756-8add-4719-a6c9-983e1bc683ad",
   "metadata": {},
   "outputs": [],
   "source": [
    "os.getcwd()"
   ]
  },
  {
   "cell_type": "code",
   "execution_count": null,
   "id": "d043f6f8-2e84-4671-91e2-d0e5c1d66637",
   "metadata": {},
   "outputs": [],
   "source": [
    "tsall.groupby('ts_id').count().sort_values('Value', ascending = False)"
   ]
  },
  {
   "cell_type": "code",
   "execution_count": null,
   "id": "8dc03a1b-a5d5-4b23-af3b-1aafdd1af7b6",
   "metadata": {},
   "outputs": [],
   "source": [
    "tsall_res.query(\"ts_id=='59228010'\").plot.scatter(x = 'Timestamp', y = 'Value', c = \"Quality Code\")"
   ]
  },
  {
   "cell_type": "code",
   "execution_count": null,
   "id": "293f7c85-fac0-4fe8-89ea-9ffb1a8835bd",
   "metadata": {},
   "outputs": [],
   "source": [
    "tsall.query(\"ts_id=='59228010'\")"
   ]
  },
  {
   "cell_type": "code",
   "execution_count": null,
   "id": "5a2622e9-ef69-42ef-b940-c332168ab0e5",
   "metadata": {},
   "outputs": [],
   "source": [
    "pars.query(\"ts_id=='59228010'\")"
   ]
  },
  {
   "cell_type": "code",
   "execution_count": null,
   "id": "c1e7c8a9-7f9a-450b-9fa7-6d1f94f77e33",
   "metadata": {},
   "outputs": [],
   "source": []
  }
 ],
 "metadata": {
  "kernelspec": {
   "display_name": "Python 3 (ipykernel)",
   "language": "python",
   "name": "python3"
  },
  "language_info": {
   "codemirror_mode": {
    "name": "ipython",
    "version": 3
   },
   "file_extension": ".py",
   "mimetype": "text/x-python",
   "name": "python",
   "nbconvert_exporter": "python",
   "pygments_lexer": "ipython3",
   "version": "3.9.19"
  }
 },
 "nbformat": 4,
 "nbformat_minor": 5
}
