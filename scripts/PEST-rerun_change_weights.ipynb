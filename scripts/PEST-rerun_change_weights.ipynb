{
 "cells": [
  {
   "cell_type": "code",
   "execution_count": null,
   "id": "0",
   "metadata": {},
   "outputs": [],
   "source": [
    "import pyemu\n",
    "import conda_scripts.load_datasets as lsd\n",
    "import os\n",
    "import pandas as pd\n",
    "import numpy as np\n",
    "import conda_scripts\n",
    "import forward_run\n",
    "import matplotlib.pyplot as plt\n",
    "import conda_scripts.plot_help as ph\n",
    "from conda_scripts import sv_budget\n",
    "import matplotlib as mpl\n",
    "import numpy as np\n",
    "import shutil\n",
    "import geopandas as gpd\n",
    "from shutil import ignore_patterns"
   ]
  },
  {
   "cell_type": "code",
   "execution_count": null,
   "id": "1",
   "metadata": {},
   "outputs": [],
   "source": []
  },
  {
   "cell_type": "code",
   "execution_count": null,
   "id": "2",
   "metadata": {},
   "outputs": [],
   "source": [
    "workspace = lsd.model_info.get_mod('son', True)\n",
    "template_ws = \"pestaws_IPA\""
   ]
  },
  {
   "cell_type": "code",
   "execution_count": null,
   "id": "3",
   "metadata": {},
   "outputs": [],
   "source": [
    "import matplotlib.pyplot as plt\n",
    "\n",
    "%matplotlib inline\n"
   ]
  },
  {
   "cell_type": "markdown",
   "id": "4",
   "metadata": {},
   "source": [
    "# postprocess"
   ]
  },
  {
   "cell_type": "code",
   "execution_count": null,
   "id": "5",
   "metadata": {},
   "outputs": [],
   "source": [
    "main = 'postprocess'\n",
    "fold =  'pestaws_IPA'\n",
    "run_name = 'IPA'\n",
    "out_folder = os.path.join(main, fold)\n",
    "if not os.path.exists(out_folder):\n",
    "    os.makedirs(out_folder, exist_ok =True)"
   ]
  },
  {
   "cell_type": "markdown",
   "id": "6",
   "metadata": {},
   "source": [
    "# new folder"
   ]
  },
  {
   "cell_type": "code",
   "execution_count": null,
   "id": "7",
   "metadata": {},
   "outputs": [],
   "source": [
    "new_run = 'cheese'"
   ]
  },
  {
   "cell_type": "markdown",
   "id": "8",
   "metadata": {},
   "source": [
    "### description\n",
    "`starting with existing run (IPA in this case), simply change weights to re-run prior already ran`"
   ]
  },
  {
   "cell_type": "markdown",
   "id": "9",
   "metadata": {},
   "source": [
    "1) copy files from base (lager)\n",
    "2) remove all pest files\n",
    "3) load pst from base\n",
    "4) updates weights\n",
    "5) set control parameters to \n",
    "6) write pst files to new folder\n",
    "\n"
   ]
  },
  {
   "cell_type": "code",
   "execution_count": null,
   "id": "10",
   "metadata": {},
   "outputs": [],
   "source": [
    "# Copy the directory tree from src to dest, ignoring the .git directory\n",
    "shutil.copytree(template_ws = \"pestaws_IPA\", new_run, ignore=ignore_patterns('.git', '.git/*', 'idea','mult','org','.cbc','.hds'))"
   ]
  },
  {
   "cell_type": "code",
   "execution_count": null,
   "id": "11",
   "metadata": {},
   "outputs": [],
   "source": [
    "pst_out = pyemu.Pst(os.path.join(template_ws, f'{run_name}.pst'), resfile = os.path.join(template_ws,f'{run_name}.mean.rei'))\n",
    "pst_out.phi"
   ]
  },
  {
   "cell_type": "code",
   "execution_count": null,
   "id": "12",
   "metadata": {},
   "outputs": [],
   "source": [
    "def run_major_pst(obj):\n",
    "    obj.enforce_bounds()\n",
    "    obj.pestpp_options[\"ies_num_reals\"] = ies_num_reals  # starting with a real small ensemble!\n",
    "    obj.pestpp_options['ies_parameter_ensemble'] = 'par_ens.csv'\n",
    "    obj.pestpp_options[\"svd_pack\"] = \"redsvd\"\n",
    "    obj.pestpp_options[\"panther_agent_restart_on_error\"] = True\n",
    "    obj.pestpp_options['overdue_giveup_fac'] =  6\n",
    "    obj.pestpp_options['overdue_giveup_minutes'] =480\n",
    "    obj.pestpp_options['ies_subset_size'] =-10\n",
    "    obj.pestpp_options['ies_multimodal_alpha'] = 0.2\n",
    "    obj.pestpp_options['ies_drop_conflicts'] = True\n",
    "    obj.control_data.noptmax = 30\n",
    "    obj.control_data.phiredstp = 1e-20  # just to make sure this doesn't stop the run which has happened\n",
    "    obj.model_command =[ 'python forward_run.py']\n",
    "\n",
    "    obj.pestpp_options[\"ies_bad_phi_sigma\"] = 1.5 #middle ground value"
   ]
  }
 ],
 "metadata": {
  "kernelspec": {
   "display_name": "Python 3 (ipykernel)",
   "language": "python",
   "name": "python3"
  },
  "language_info": {
   "codemirror_mode": {
    "name": "ipython",
    "version": 3
   },
   "file_extension": ".py",
   "mimetype": "text/x-python",
   "name": "python",
   "nbconvert_exporter": "python",
   "pygments_lexer": "ipython3",
   "version": "3.9.19"
  }
 },
 "nbformat": 4,
 "nbformat_minor": 5
}
