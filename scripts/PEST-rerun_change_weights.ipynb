{
 "cells": [
  {
   "cell_type": "code",
   "execution_count": null,
   "id": "0",
   "metadata": {},
   "outputs": [],
   "source": [
    "import pyemu\n",
    "import conda_scripts.load_datasets as lsd\n",
    "import os\n",
    "import pandas as pd\n",
    "import numpy as np\n",
    "import conda_scripts\n",
    "import forward_run\n",
    "import matplotlib.pyplot as plt\n",
    "import conda_scripts.plot_help as ph\n",
    "from conda_scripts import sv_budget\n",
    "import matplotlib as mpl\n",
    "import numpy as np\n",
    "import shutil\n",
    "import geopandas as gpd\n",
    "from shutil import ignore_patterns\n",
    "import helpers"
   ]
  },
  {
   "cell_type": "code",
   "execution_count": null,
   "id": "1",
   "metadata": {},
   "outputs": [],
   "source": []
  },
  {
   "cell_type": "code",
   "execution_count": null,
   "id": "2",
   "metadata": {},
   "outputs": [],
   "source": [
    "workspace = lsd.model_info.get_mod('son', True)\n",
    "template_ws = \"pestaws_IPA\""
   ]
  },
  {
   "cell_type": "code",
   "execution_count": null,
   "id": "3",
   "metadata": {},
   "outputs": [],
   "source": [
    "import matplotlib.pyplot as plt\n",
    "\n",
    "%matplotlib inline\n"
   ]
  },
  {
   "cell_type": "markdown",
   "id": "4",
   "metadata": {},
   "source": [
    "# postprocess"
   ]
  },
  {
   "cell_type": "code",
   "execution_count": null,
   "id": "5",
   "metadata": {},
   "outputs": [],
   "source": [
    "main = 'postprocess'\n",
    "fold =  'pestaws_IPA'\n",
    "run_name = 'IPA'\n",
    "out_folder = os.path.join(main, fold)\n",
    "if not os.path.exists(out_folder):\n",
    "    os.makedirs(out_folder, exist_ok =True)"
   ]
  },
  {
   "cell_type": "markdown",
   "id": "6",
   "metadata": {},
   "source": [
    "# new folder"
   ]
  },
  {
   "cell_type": "code",
   "execution_count": null,
   "id": "7",
   "metadata": {},
   "outputs": [],
   "source": [
    "new_run = 'cheese'"
   ]
  },
  {
   "cell_type": "markdown",
   "id": "8",
   "metadata": {},
   "source": [
    "### description\n",
    "`starting with existing run (IPA in this case), simply change weights to re-run prior already ran`"
   ]
  },
  {
   "cell_type": "markdown",
   "id": "9",
   "metadata": {},
   "source": [
    "1) copy files from base (lager)\n",
    "2) remove all pest files\n",
    "3) load pst from base\n",
    "4) updates weights\n",
    "5) set control parameters to \n",
    "6) write pst files to new folder\n",
    "\n"
   ]
  },
  {
   "cell_type": "markdown",
   "id": "10",
   "metadata": {},
   "source": []
  },
  {
   "cell_type": "markdown",
   "id": "11",
   "metadata": {},
   "source": [
    "# setup new dir if it doesn't exist"
   ]
  },
  {
   "cell_type": "code",
   "execution_count": null,
   "id": "12",
   "metadata": {},
   "outputs": [],
   "source": [
    "if not os.path.exists(new_run):\n",
    "    print(f'creating {new_run}')\n",
    "    # Copy the directory tree from src to dest, ignoring the .git directory\n",
    "    shutil.copytree(template_ws, new_run, ignore=ignore_patterns('.git', '.git/*', '.idea/*','mult/*','org/*','*.cbc','*.hds','__pycache__/*','SFR_DELIVERY_BY_WBS.out','sv_model_grid_6layers.lst'))\n",
    "else:\n",
    "    print(f\"not creating {new_run} because it already exists\")"
   ]
  },
  {
   "cell_type": "code",
   "execution_count": null,
   "id": "13",
   "metadata": {},
   "outputs": [],
   "source": [
    "# load pest from base\n",
    "base = r\"C:\\GSP\\sv\\model\\pest_inputs\\PEST_PP\\pestaws_IPA\"\n",
    "pst = pyemu.Pst(os.path.join(base, f'{run_name}.pst'), resfile = os.path.join(base,f'{run_name}.0.base.rei'))\n",
    "pst.phi"
   ]
  },
  {
   "cell_type": "markdown",
   "id": "14",
   "metadata": {},
   "source": [
    "# get phi contributions from existing prior. then change weights (setting to zero some obs for now). then re-balance weights to this weighting scheme"
   ]
  },
  {
   "cell_type": "code",
   "execution_count": null,
   "id": "15",
   "metadata": {},
   "outputs": [],
   "source": [
    "og_weights = pst.phi_components"
   ]
  },
  {
   "cell_type": "code",
   "execution_count": null,
   "id": "16",
   "metadata": {},
   "outputs": [],
   "source": [
    "og_weights['yearly_min_flow_aguacal'] = og_weights['yearly_min_flow_aguacal']*2\n",
    "og_weights['aguacal_log'] = og_weights['aguacal_log']*2"
   ]
  },
  {
   "cell_type": "code",
   "execution_count": null,
   "id": "17",
   "metadata": {},
   "outputs": [],
   "source": [
    "vcount = pd.Series(og_weights).to_frame('phi').reset_index().rename(columns = {'index':'obgnme'})\n",
    "\n",
    "\n",
    "vcount.loc[:,'obgnme'] = vcount.loc[:,'obgnme'].str.replace('_non_','_non_na_').str.replace('_rmp_','_rmp_na_')\n",
    "vcount = vcount.obgnme.str.split('_',expand = True).join(vcount)\n",
    "vcount.columns = ['group', 'deriv', 'depth','zone', 'obgnme','n']\n",
    "vcount.groupby(['zone',  'deriv']).sum().loc[:,['n']].unstack().droplevel(0,1).plot.barh(title = 'Contribution to Phi Per Group',legend='reverse')"
   ]
  },
  {
   "cell_type": "code",
   "execution_count": null,
   "id": "18",
   "metadata": {},
   "outputs": [],
   "source": [
    "vcount.groupby(['group','deriv']).sum().loc[:,['n']].unstack().droplevel(0,1).plot.barh()"
   ]
  },
  {
   "cell_type": "code",
   "execution_count": null,
   "id": "19",
   "metadata": {},
   "outputs": [],
   "source": [
    "pst.observation_data = helpers.set_obs_to_zero_for_manually_selected_obs(pst)"
   ]
  },
  {
   "cell_type": "markdown",
   "id": "20",
   "metadata": {},
   "source": [
    "`So to restart, you need to supply the <case>.0.par file to ies_par_en but then you need to pass the obs+noise ensemble from the previous run to ies_obs_en and pass the simulated observation ensemble (the <case>.0.obs. file) to the ies_restart_obs_en argument.  If you do this, ies should be able to work out the alignment and automatically adjust for failed runs.  I know those argument names are confusing - i want to change them but I don't want to break backward compatibility...`\n",
    "\n",
    "# change these:\n",
    "\n",
    "<span style=\"color:blue\"> {case}.0.par <-> ies_par_ensemble  \n",
    " obs+noise ensemble from the previous run to ies_obs_en  \n",
    "  (the {case}.0.obs. file) to the ies_restart_obs_en  </span>.\n",
    "\n",
    "\n",
    " "
   ]
  },
  {
   "cell_type": "code",
   "execution_count": null,
   "id": "21",
   "metadata": {},
   "outputs": [],
   "source": [
    "def run_major_pst(obj):\n",
    "    obj.enforce_bounds()\n",
    "    del obj.pestpp_options['ies_num_reals']\n",
    "    del obj.pestpp_options['ies_subset_size'] \n",
    "    del obj.pestpp_options['ies_multimodal_alpha']   \n",
    "    del obj.pestpp_options[\"ies_bad_phi_sigma\"]\n",
    "\n",
    "    # obj.pestpp_options['ies_num_reals'] = 209 # number of surviving reals\n",
    "    # obj.pestpp_options[\"ies_num_reals\"] = ies_num_reals  # starting with a real small ensemble!\n",
    "    obj.pestpp_options['ies_parameter_ensemble'] = f\"{run_name.lower()}.0.par.csv\"\n",
    "    obj.pestpp_options['ies_observation_ensemble'] = f\"{run_name.lower()}.obs+noise.csv\"\n",
    "    obj.pestpp_options['ies_restart_obs_en'] = f\"{run_name.lower()}.0.obs.csv\"\n",
    "\n",
    "    obj.pestpp_options[\"svd_pack\"] = \"redsvd\"\n",
    "    obj.pestpp_options[\"panther_agent_restart_on_error\"] = True\n",
    "    obj.pestpp_options['overdue_giveup_fac'] =  6\n",
    "    obj.pestpp_options['overdue_giveup_minutes'] =480\n",
    "\n",
    "    obj.pestpp_options['ies_drop_conflicts'] = True\n",
    "    obj.control_data.noptmax = 3\n",
    "    obj.control_data.phiredstp = 1e-20  # just to make sure this doesn't stop the run which has happened\n",
    "    obj.model_command =[ 'python forward_run.py']\n",
    "\n",
    "    obj.pestpp_options[\"ies_bad_phi_sigma\"] = 1.5 #middle ground value\n",
    "\n",
    "run_major_pst(pst)"
   ]
  },
  {
   "cell_type": "markdown",
   "id": "22",
   "metadata": {},
   "source": [
    "# remove all old pest files from new folder"
   ]
  },
  {
   "cell_type": "code",
   "execution_count": null,
   "id": "23",
   "metadata": {},
   "outputs": [],
   "source": [
    "import os\n",
    "import fnmatch\n",
    "\n",
    "def remove_files_with_prefix(directory, prefix):\n",
    "    # Convert prefix to lowercase for case-insensitive comparison\n",
    "    prefix = prefix.lower()\n",
    "    \n",
    "    for filename in os.listdir(directory):\n",
    "        # Check if the file starts with the prefix (case-insensitive)\n",
    "        if filename.lower().startswith(prefix):\n",
    "            file_path = os.path.join(directory, filename)\n",
    "            if os.path.isfile(file_path):  # Ensure it's a file\n",
    "                os.remove(file_path)\n",
    "                print(f\"Removed: {file_path}\")\n",
    "\n",
    "# Example usage\n",
    "prefix_to_remove = 'ipa'          # Replace with your prefix\n",
    "remove_files_with_prefix(new_run, prefix_to_remove)\n",
    "        "
   ]
  },
  {
   "cell_type": "code",
   "execution_count": null,
   "id": "24",
   "metadata": {},
   "outputs": [],
   "source": [
    "# make all non-zero weighted groups have a contribution of 100.0\n",
    "pst.adjust_weights(obsgrp_dict=og_weights)"
   ]
  },
  {
   "cell_type": "markdown",
   "id": "25",
   "metadata": {},
   "source": [
    "# write the pest files"
   ]
  },
  {
   "cell_type": "code",
   "execution_count": null,
   "id": "26",
   "metadata": {},
   "outputs": [],
   "source": [
    "pst.write(os.path.join(new_run, f'{new_run}.pst'),version=2)"
   ]
  },
  {
   "cell_type": "markdown",
   "id": "27",
   "metadata": {},
   "source": [
    "# copy the par and obs files"
   ]
  },
  {
   "cell_type": "code",
   "execution_count": null,
   "id": "28",
   "metadata": {},
   "outputs": [],
   "source": [
    "obs_file = r\"C:\\GSP\\sv\\model\\pest_inputs\\PEST_PP\\pestaws_IPA\\ipa.0.obs.csv\"\n",
    "par_file = r\"C:\\GSP\\sv\\model\\pest_inputs\\PEST_PP\\pestaws_IPA\\ipa.0.par.csv\"\n",
    "noise = r\"C:\\GSP\\sv\\model\\pest_inputs\\PEST_PP\\pestaws_IPA\\ipa.obs+noise.csv\"\n",
    "\n",
    "shutil.copyfile(par_file, os.path.join(new_run, os.path.basename(par_file)))\n",
    "shutil.copyfile(obs_file, os.path.join(new_run, os.path.basename(obs_file)))\n",
    "shutil.copyfile(noise, os.path.join(new_run, os.path.basename(noise)))"
   ]
  },
  {
   "cell_type": "code",
   "execution_count": null,
   "id": "29",
   "metadata": {},
   "outputs": [],
   "source": [
    "os.listdir(new_run)"
   ]
  },
  {
   "cell_type": "code",
   "execution_count": null,
   "id": "30",
   "metadata": {},
   "outputs": [],
   "source": [
    "asdf"
   ]
  },
  {
   "cell_type": "code",
   "execution_count": null,
   "id": "31",
   "metadata": {},
   "outputs": [],
   "source": []
  },
  {
   "cell_type": "code",
   "execution_count": null,
   "id": "32",
   "metadata": {},
   "outputs": [],
   "source": [
    "obs_file = r\"C:\\GSP\\sv\\model\\pest_inputs\\PEST_PP\\pestaws_IPA\\ipa.0.obs.csv\"\n",
    "par_file = r\"C:\\GSP\\sv\\model\\pest_inputs\\PEST_PP\\pestaws_IPA\\ipa.0.par.csv\"\n",
    "\n",
    "o = pd.read_csv(obs_file,nrows = 10)"
   ]
  },
  {
   "cell_type": "code",
   "execution_count": null,
   "id": "33",
   "metadata": {},
   "outputs": [],
   "source": [
    "p = pd.read_csv(par_file,nrows = 10)"
   ]
  },
  {
   "cell_type": "code",
   "execution_count": null,
   "id": "34",
   "metadata": {},
   "outputs": [],
   "source": [
    "p"
   ]
  },
  {
   "cell_type": "code",
   "execution_count": null,
   "id": "35",
   "metadata": {},
   "outputs": [],
   "source": [
    "o"
   ]
  },
  {
   "cell_type": "code",
   "execution_count": null,
   "id": "36",
   "metadata": {},
   "outputs": [],
   "source": [
    "obs = pst.observation_data.copy()"
   ]
  },
  {
   "cell_type": "code",
   "execution_count": null,
   "id": "37",
   "metadata": {},
   "outputs": [],
   "source": [
    "obs = pst.observation_data.copy()\n",
    "\n",
    "gwle = obs.obsnme.str.contains('gwle') | obs.obsnme.str.contains('maj') | obs.obsnme.str.contains('ddown')\n",
    "hobs = obs.obsnme.str.contains('hds_')\n",
    "ren = lambda x: x.split(\"_date:\")[0].split(\":\")[-1] if 'hds' in x or 'gwle' in x else ''\n",
    "station = obs.obsnme.apply(ren)\n",
    "\n",
    "date = pd.to_datetime(obs.date)\n",
    "\n",
    "obs.loc[gwle & date.dt.year<2010]"
   ]
  },
  {
   "cell_type": "code",
   "execution_count": null,
   "id": "38",
   "metadata": {},
   "outputs": [],
   "source": [
    "date.dt.year.notnull().sum()"
   ]
  },
  {
   "cell_type": "code",
   "execution_count": null,
   "id": "39",
   "metadata": {},
   "outputs": [],
   "source": [
    "(date.dt.year>1990).sum()"
   ]
  },
  {
   "cell_type": "code",
   "execution_count": null,
   "id": "40",
   "metadata": {},
   "outputs": [],
   "source": [
    "(date.dt.year>2000).sum()"
   ]
  },
  {
   "cell_type": "code",
   "execution_count": null,
   "id": "41",
   "metadata": {},
   "outputs": [],
   "source": [
    "(date.dt.year>=2010).sum()"
   ]
  },
  {
   "cell_type": "code",
   "execution_count": null,
   "id": "42",
   "metadata": {},
   "outputs": [],
   "source": [
    "obs.loc[(date.dt.year>=2010 & date.isnull())]"
   ]
  },
  {
   "cell_type": "code",
   "execution_count": null,
   "id": "43",
   "metadata": {},
   "outputs": [],
   "source": [
    "obs.loc[gwle & date.dt.year<2010]"
   ]
  },
  {
   "cell_type": "code",
   "execution_count": null,
   "id": "44",
   "metadata": {},
   "outputs": [],
   "source": []
  }
 ],
 "metadata": {
  "kernelspec": {
   "display_name": "Python 3 (ipykernel)",
   "language": "python",
   "name": "python3"
  },
  "language_info": {
   "codemirror_mode": {
    "name": "ipython",
    "version": 3
   },
   "file_extension": ".py",
   "mimetype": "text/x-python",
   "name": "python",
   "nbconvert_exporter": "python",
   "pygments_lexer": "ipython3",
   "version": "3.9.19"
  }
 },
 "nbformat": 4,
 "nbformat_minor": 5
}
