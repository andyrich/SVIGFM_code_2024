{
 "cells": [
  {
   "cell_type": "code",
   "execution_count": null,
   "id": "0",
   "metadata": {},
   "outputs": [],
   "source": [
    "import pandas as pd\n",
    "import conda_scripts\n",
    "import os\n",
    "import conda_scripts.load_datasets as lsd\n",
    "import numpy as np"
   ]
  },
  {
   "cell_type": "markdown",
   "id": "1",
   "metadata": {},
   "source": [
    "# add k values"
   ]
  },
  {
   "cell_type": "code",
   "execution_count": null,
   "id": "2",
   "metadata": {},
   "outputs": [],
   "source": [
    "tk = pd.read_excel(r\"T:\\arich\\Sonoma_Valley\\hydro_stat\\other_K_estimates\\T and K estimates.xlsx\", )\n",
    "tk = tk.drop([0,7,9,11,12,13,14,16]).loc[:15]\n",
    "\n",
    "\n",
    "\n",
    "sat = conda_scripts.wiski.wiski.get_stations(site = 'Son',station_name='Son*')\n",
    "sat.loc[:,'x'] = sat.to_crs(2226).geometry.x\n",
    "sat.loc[:,'y'] = sat.to_crs(2226).geometry.y\n",
    "\n",
    "sat = sat.loc[:,['station_name','x','y']]\n",
    "\n",
    "assert tk.station_name.duplicated().any()\n",
    "\n",
    "tk = pd.merge(tk, sat, left_on = 'station_name', right_on = 'station_name',how = 'left')"
   ]
  },
  {
   "cell_type": "code",
   "execution_count": null,
   "id": "3",
   "metadata": {},
   "outputs": [],
   "source": [
    "template_ws = \"pestaws_jam\""
   ]
  },
  {
   "cell_type": "code",
   "execution_count": null,
   "id": "4",
   "metadata": {},
   "outputs": [],
   "source": [
    "ml = conda_scripts.sv_budget.load_sv_model.get_model(template_ws)"
   ]
  },
  {
   "cell_type": "code",
   "execution_count": null,
   "id": "5",
   "metadata": {},
   "outputs": [],
   "source": [
    "[1,2,3,4][slice(2,2+1,1)]"
   ]
  },
  {
   "cell_type": "code",
   "execution_count": null,
   "id": "6",
   "metadata": {},
   "outputs": [],
   "source": [
    "c = tk.x.isnull()\n",
    "\n",
    "tk.loc[c,'x'] = tk.loc[c,'STP_X']\n",
    "tk.loc[c,'y'] = tk.loc[c,'STP_Y']\n",
    "\n",
    "\n",
    "\n",
    "tk.loc[:,'i'] = tk.apply(lambda x: ml.modelgrid.intersect(x['x'],x['y'])[0],axis = 1)\n",
    "tk.loc[:,'j'] = tk.apply(lambda x: ml.modelgrid.intersect(x['x'],x['y'])[1],axis = 1)\n",
    "\n",
    "hk = [np.genfromtxt(os.path.join(template_ws,'pp2024_out',f'hk{i}.txt')) for i in range(1,7)]\n",
    "hk = np.stack(hk)\n",
    "\n",
    "for ind,row in tk.iterrows():\n",
    "\n",
    "    bot = ml.dis.botm.array[:,row['i'],row['j']]\n",
    "    top = ml.dis.top.array[row['i'],row['j']]\n",
    "    print(row['station_name'])\n",
    "    print('top',top,'bot', bot)\n",
    "    print(row['screen'])\n",
    "    t = float(row['screen'].split('-')[0]) if '-' in row['screen'] else 290\n",
    "    b = float(row['screen'].split('-')[1]) if '-' in row['screen'] else 300\n",
    "    t = top-t\n",
    "    b = top-b\n",
    "    laytop = np.argmax(t>bot)\n",
    "    laybot = np.argmax(b>bot)\n",
    "    if min(bot)>t:\n",
    "        laytop =5\n",
    "        laybot = 5\n",
    "    print(t,b, laytop,laybot)\n",
    "\n",
    "    tk.loc[ind,'laytop'] = laytop\n",
    "    tk.loc[ind,'laybot'] = laybot\n",
    "    tk.loc[ind,'screen_top'] = t\n",
    "    tk.loc[ind,'screen_bot'] = b\n",
    "    tk.loc[ind,[f'laybot_{i+1}' for i in range(6)]] = bot\n",
    "    print(f\"hk observed = {row['k_PEST']}\")\n",
    "    avg = hk[slice(laytop,laybot+1,1),row['i'],row['j']]\n",
    "    print(f\"average--{avg}\")\n",
    "\n",
    "    print('\\n'*2)\n",
    "    tk.loc[ind,'hk_cur_model'] = np.mean(avg)\n",
    "    tk.loc[ind,'weight'] = 1/(1+laybot-laytop)\n"
   ]
  },
  {
   "cell_type": "code",
   "execution_count": null,
   "id": "7",
   "metadata": {},
   "outputs": [],
   "source": [
    "tk.columns"
   ]
  },
  {
   "cell_type": "code",
   "execution_count": null,
   "id": "8",
   "metadata": {},
   "outputs": [],
   "source": [
    "ax = tk.plot.scatter(x = 'k_PEST', y = 'hk_cur_model') \n",
    "ax.set_xlabel('Observed K')\n",
    "ax.set_ylabel('Simulated K')\n",
    "# Set the aspect ratio to be equal\n",
    "ax.set_aspect('equal', adjustable='datalim')\n",
    "ax.grid(True)"
   ]
  },
  {
   "cell_type": "code",
   "execution_count": null,
   "id": "9",
   "metadata": {},
   "outputs": [],
   "source": [
    "tk.to_excel('hk_estimates/hk_estimates.xlsx')"
   ]
  },
  {
   "cell_type": "code",
   "execution_count": null,
   "id": "10",
   "metadata": {},
   "outputs": [],
   "source": [
    "tab = pd.read_clipboard()"
   ]
  },
  {
   "cell_type": "code",
   "execution_count": null,
   "id": "11",
   "metadata": {},
   "outputs": [],
   "source": [
    "workspace = lsd.model_info.get_mod('son', True)\n",
    "workspace"
   ]
  },
  {
   "cell_type": "code",
   "execution_count": null,
   "id": "12",
   "metadata": {},
   "outputs": [],
   "source": [
    "def HK_extract(workspace):\n",
    "    '''extract K values from observed hk values from model'''\n",
    "\n",
    "    infile = os.path.join(workspace, 'hk_estimates', \"hk_estimates_for_pest.xlsx\")\n",
    "    outfile = os.path.join(workspace, 'hk_estimates', \"hk_estimates_for_pest_simulated_K.csv\")\n",
    "    obs_vals = pd.read_excel(os.path.join(workspace, 'hk_estimates', \"hk_estimates_for_pest.xlsx\"),index_col = 0)\n",
    "    \n",
    "    hk = [np.genfromtxt(os.path.join(workspace,'pp2024_out',f'hk{i}.txt')) for i in range(1,7)]\n",
    "    hk = np.stack(hk)\n",
    "    print('extracting HK values from model\\n')\n",
    "    for ind,row in obs_vals.iterrows():\n",
    "    \n",
    "        laytop = int(row['laytop'])\n",
    "        laybot = int(row['laybot'])\n",
    "        \n",
    "        \n",
    "        avg = hk[slice(laytop,laybot+1,1),row['i'],row['j']]\n",
    "        obs_vals.loc[ind,'hk_pest'] = np.mean(avg)\n",
    "        \n",
    "        print(f\"wellname:{row['well']}\\n\\tlaytop - {laybot}, laybot-{laybot}\\n\\tlayer values:--\\n\\t\\t{avg}\\n\\tactual value\\n\\t\\t{np.mean(avg):.3g}\\n\")\n",
    "\n",
    "    obs_vals.to_csv(outfile)\n",
    "\n",
    "\n",
    "    return obs_vals\n",
    "    \n",
    "obs = HK_extract(workspace)"
   ]
  },
  {
   "cell_type": "code",
   "execution_count": null,
   "id": "13",
   "metadata": {},
   "outputs": [],
   "source": [
    "obs"
   ]
  },
  {
   "cell_type": "code",
   "execution_count": null,
   "id": "14",
   "metadata": {},
   "outputs": [],
   "source": []
  }
 ],
 "metadata": {
  "kernelspec": {
   "display_name": "Python 3 (ipykernel)",
   "language": "python",
   "name": "python3"
  },
  "language_info": {
   "codemirror_mode": {
    "name": "ipython",
    "version": 3
   },
   "file_extension": ".py",
   "mimetype": "text/x-python",
   "name": "python",
   "nbconvert_exporter": "python",
   "pygments_lexer": "ipython3",
   "version": "3.9.19"
  }
 },
 "nbformat": 4,
 "nbformat_minor": 5
}
