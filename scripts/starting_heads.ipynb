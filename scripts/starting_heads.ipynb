{
 "cells": [
  {
   "cell_type": "code",
   "execution_count": null,
   "id": "0",
   "metadata": {},
   "outputs": [],
   "source": [
    "import pyemu\n",
    "import conda_scripts.load_datasets as lsd\n",
    "import os\n",
    "import pandas as pd\n",
    "import numpy as np\n",
    "import conda_scripts\n",
    "import forward_run\n",
    "import matplotlib.pyplot as plt\n",
    "import conda_scripts.plot_help as ph\n",
    "from conda_scripts import sv_budget\n",
    "import matplotlib as mpl\n",
    "import numpy as np\n",
    "import flopy\n",
    "import geopandas as gpd\n",
    "import xarray as xr\n",
    "import rioxarray as rx"
   ]
  },
  {
   "cell_type": "code",
   "execution_count": null,
   "id": "1",
   "metadata": {},
   "outputs": [],
   "source": [
    "import matplotlib.pyplot  as plt"
   ]
  },
  {
   "cell_type": "code",
   "execution_count": null,
   "id": "2",
   "metadata": {},
   "outputs": [],
   "source": [
    "import matplotlib as mpl"
   ]
  },
  {
   "cell_type": "code",
   "execution_count": null,
   "id": "3",
   "metadata": {},
   "outputs": [],
   "source": [
    "mpl.rcParams[\"backend\"] "
   ]
  },
  {
   "cell_type": "code",
   "execution_count": null,
   "id": "4",
   "metadata": {},
   "outputs": [],
   "source": [
    "# mpl.rcParams[\"backend\"] = \"QtAgg\""
   ]
  },
  {
   "cell_type": "code",
   "execution_count": null,
   "id": "5",
   "metadata": {},
   "outputs": [],
   "source": []
  },
  {
   "cell_type": "code",
   "execution_count": null,
   "id": "6",
   "metadata": {},
   "outputs": [],
   "source": []
  },
  {
   "cell_type": "code",
   "execution_count": null,
   "id": "7",
   "metadata": {},
   "outputs": [],
   "source": []
  },
  {
   "cell_type": "code",
   "execution_count": null,
   "id": "8",
   "metadata": {},
   "outputs": [],
   "source": [
    "workspace = lsd.model_info.get_mod('son', True)\n",
    "workspace"
   ]
  },
  {
   "cell_type": "code",
   "execution_count": null,
   "id": "9",
   "metadata": {},
   "outputs": [],
   "source": [
    "main = 'postprocess'\n",
    "fold =  'pestaws_v1'\n",
    "\n",
    "out_folder = os.path.join(main, fold)\n",
    "if not os.path.exists(out_folder):\n",
    "    os.makedirs(out_folder, exist_ok =True)"
   ]
  },
  {
   "cell_type": "code",
   "execution_count": null,
   "id": "10",
   "metadata": {},
   "outputs": [],
   "source": [
    "ml = conda_scripts.sv_budget.load_sv_model.get_model(workspace)"
   ]
  },
  {
   "cell_type": "code",
   "execution_count": null,
   "id": "11",
   "metadata": {},
   "outputs": [],
   "source": [
    "import xarray as xr\n",
    "import numpy as np\n",
    "from pyproj import Transformer\n",
    "\n"
   ]
  },
  {
   "cell_type": "code",
   "execution_count": null,
   "id": "12",
   "metadata": {},
   "outputs": [],
   "source": [
    "ml.update_modelgrid()"
   ]
  },
  {
   "cell_type": "code",
   "execution_count": null,
   "id": "13",
   "metadata": {},
   "outputs": [],
   "source": [
    "xl = ml.modelgrid.get_xcellcenters_for_layer(0)\n",
    "yl = ml.modelgrid.get_ycellcenters_for_layer(0)\n",
    "\n",
    "yl"
   ]
  },
  {
   "cell_type": "code",
   "execution_count": null,
   "id": "14",
   "metadata": {},
   "outputs": [],
   "source": []
  },
  {
   "cell_type": "code",
   "execution_count": null,
   "id": "15",
   "metadata": {},
   "outputs": [],
   "source": [
    "shallow = rx.open_rasterio(r\"C:\\GSP\\waterlevel\\GIS\\hydro_experiment\\maps__v3_SON_allmodmonths_to_20240808\\SON_1970_Fall_Shallow.tif\")\n",
    "\n",
    "\n",
    "deep = rx.open_rasterio(r\"C:\\GSP\\waterlevel\\GIS\\hydro_experiment\\maps__v3_SON_allmodmonths_to_20240808\\SON_1970_Fall_Deep.tif\")\n",
    "\n",
    "\n"
   ]
  },
  {
   "cell_type": "code",
   "execution_count": null,
   "id": "16",
   "metadata": {},
   "outputs": [],
   "source": [
    "zone = ml.bas6.ibound.array[0]\n",
    "zone\n",
    "plt.imshow(zone)"
   ]
  },
  {
   "cell_type": "code",
   "execution_count": null,
   "id": "17",
   "metadata": {},
   "outputs": [],
   "source": [
    "import cartopy.crs as ccrs\n",
    "import contextily as ctx"
   ]
  },
  {
   "cell_type": "code",
   "execution_count": null,
   "id": "18",
   "metadata": {},
   "outputs": [],
   "source": [
    "da = xr.DataArray(\n",
    "    data=xl,\n",
    "    dims=[ \"y\",'x'],\n",
    "    coords=dict(\n",
    "        x=([ \"y\",'x'], xl),\n",
    "        y=([ \"y\",'x'], yl),\n",
    "        # time=time,\n",
    "        # reference_time=reference_time,\n",
    "    ),\n",
    "    attrs=dict(\n",
    "        description=\"Ambient temperature.\",\n",
    "        units=\"degC\",\n",
    "    ),\n",
    ")\n",
    "\n",
    "\n",
    "ar_shal= shallow.isel(band = 0).interp(da.coords)\n",
    "ar_deep = deep.isel(band = 0).interp(da.coords)\n",
    "\n",
    "elev = conda_scripts.utils.elevation.load_elev_array()\n",
    "elev = elev.isel(band = 0).interp(da.coords)\n",
    "\n",
    "# plt.figure(dpi = 250, figsize = (6,8))\n",
    "# ax = plt.subplot(1, 1, 1, projection=ccrs.epsg(2226))\n",
    "# ar_shal.plot.contourf(ax =ax,  levels = np.arange(0, 1000, 50), alpha = .5)\n",
    "# ar_shal.plot.contour(ax =ax,  levels = np.arange(0, 1000, 50))\n",
    "# ax.set_title(\"Shallow\")\n",
    "# # ctx.add_basemap(ax, crs = 2226)\n",
    "\n",
    "# plt.figure(dpi = 250, figsize = (6,8))\n",
    "# ax = plt.subplot(1, 1, 1, projection=ccrs.epsg(2226))\n",
    "# ar_deep.plot.contourf(ax =ax,levels = np.arange(0, 1000, 50), alpha = .5)\n",
    "# ar_deep.plot.contour(ax =ax,levels = np.arange(0, 1000, 50))\n",
    "# ax.set_title(\"Deep\")\n",
    "# ctx.add_basemap(ax, crs = 2226)\n",
    "\n",
    "# plt.figure(dpi = 250, figsize = (6,8))\n",
    "# ax = plt.subplot(1, 1, 1, projection=ccrs.epsg(2226))\n",
    "# (ar_shal - ar_deep).plot.contour(ax =ax,levels = np.arange(-50, 51, 10))\n",
    "# ax.set_title(\"Shallow - Deep\")\n",
    "# ctx.add_basemap(ax, crs = 2226)\n",
    "\n",
    "\n",
    "# plt.figure(dpi = 250, figsize = (6,8))\n",
    "# ax = plt.subplot(1, 1, 1, projection=ccrs.epsg(2226))\n",
    "# elev.plot.contourf(ax =ax,levels = np.arange(0, 1000, 50), alpha = .5)\n",
    "# elev.plot.contour(ax =ax,levels = np.arange(-50, 51, 10))\n",
    "# ax.set_title(\"Elevation\")\n",
    "# ctx.add_basemap(ax, crs = 2226)"
   ]
  },
  {
   "cell_type": "code",
   "execution_count": null,
   "id": "19",
   "metadata": {},
   "outputs": [],
   "source": [
    "import cartopy.crs as ccrs\n"
   ]
  },
  {
   "cell_type": "code",
   "execution_count": null,
   "id": "20",
   "metadata": {},
   "outputs": [],
   "source": [
    "f, ((ax1, ax2), (ax3, ax4)) = plt.subplots(2, 2, figsize=(12, 12), dpi = 250, subplot_kw=dict(projection=ccrs.epsg(2226)))\n",
    "\n",
    "\n",
    "levels = np.arange(-150,211, 30)\n",
    "\n",
    "ax = ax1\n",
    "# plt.figure(dpi = 250, figsize = (6,8))\n",
    "# ax = plt.subplot(1, 1, 1, projection=ccrs.epsg(2226))\n",
    "(elev- ar_shal).plot.contourf(ax =ax,  levels = levels, alpha = .5)\n",
    "(elev- ar_shal).plot.contour(ax =ax,  levels = levels, colors = 'k', linewidths =.5)\n",
    "ax.set_title('Elevation Minus Shallow GW Elevation')\n",
    "# ctx.add_basemap(ax, crs = 2226)\n",
    "\n",
    "ax = ax2\n",
    "# plt.figure(dpi = 250, figsize = (6,8))\n",
    "# ax = plt.subplot(1, 1, 1, projection=ccrs.epsg(2226))\n",
    "(elev- ar_deep).plot.contourf(ax =ax,levels =levels, alpha = .5)\n",
    "(elev- ar_deep).plot.contour(ax =ax,levels = levels, colors = 'k', linewidths =.5)\n",
    "ax.set_title('Elevation Minus Deep GW Elevation')\n",
    "# ctx.add_basemap(ax, crs = 2226)\n",
    "\n",
    "ax = ax3\n",
    "# plt.figure(dpi = 250, figsize = (6,8))\n",
    "# ax = plt.subplot(1, 1, 1, projection=ccrs.epsg(2226))\n",
    "(ar_shal- ar_deep).plot.contourf(ax =ax,levels =levels, alpha = .5)\n",
    "(ar_shal- ar_deep).plot.contour(ax =ax,levels = levels, colors = 'k', linewidths =.5)\n",
    "ax.set_title('Shallow Minus Deep GW Elevation')\n",
    "# ctx.add_basemap(ax, crs = 2226)\n",
    "\n",
    "\n",
    "ax = ax4\n",
    "# plt.figure(dpi = 250, figsize = (6,8))\n",
    "# ax = plt.subplot(1, 1, 1, projection=ccrs.epsg(2226))\n",
    "elev.plot.contourf(ax =ax,levels = np.arange(0,1001,100),alpha = .5, cmap = 'terrain')\n",
    "elev.plot.contour(ax =ax,levels = np.arange(0,1001,100), colors = 'k', linewidths =.5)\n",
    "ax.set_title('Elevation')\n",
    "# ctx.add_basemap(ax, crs = 2226)"
   ]
  },
  {
   "cell_type": "code",
   "execution_count": null,
   "id": "21",
   "metadata": {},
   "outputs": [],
   "source": []
  },
  {
   "cell_type": "code",
   "execution_count": null,
   "id": "22",
   "metadata": {},
   "outputs": [],
   "source": [
    "print(ar_shal.data.sum())\n",
    "print(ar_deep.data.sum())"
   ]
  },
  {
   "cell_type": "code",
   "execution_count": null,
   "id": "23",
   "metadata": {},
   "outputs": [],
   "source": [
    "ar_deep.data[zone==0] =-9999\n",
    "ar_shal.data[zone==0] = -9999"
   ]
  },
  {
   "cell_type": "code",
   "execution_count": null,
   "id": "24",
   "metadata": {},
   "outputs": [],
   "source": [
    "d = ar_deep.data.copy()\n",
    "s = ar_shal.data.copy()"
   ]
  },
  {
   "cell_type": "code",
   "execution_count": null,
   "id": "25",
   "metadata": {},
   "outputs": [],
   "source": [
    "(elev.data-s)<0"
   ]
  },
  {
   "cell_type": "code",
   "execution_count": null,
   "id": "26",
   "metadata": {},
   "outputs": [],
   "source": [
    "filt = (elev.data-s)<0\n",
    "assert filt.any()\n",
    "s[filt] = elev.data[filt]\n",
    "\n",
    "filt = (elev.data-d)<0\n",
    "assert filt.any()\n",
    "d[filt] = elev.data[filt]\n"
   ]
  },
  {
   "cell_type": "code",
   "execution_count": null,
   "id": "27",
   "metadata": {},
   "outputs": [],
   "source": [
    "filt = (elev.data-s)>25\n",
    "assert filt.any()\n",
    "s[filt] = elev.data[filt]-25\n",
    "\n",
    "filt = (elev.data-d)>25\n",
    "assert filt.any()\n",
    "d[filt] = elev.data[filt]-25"
   ]
  },
  {
   "cell_type": "code",
   "execution_count": null,
   "id": "28",
   "metadata": {},
   "outputs": [],
   "source": [
    "print(s.sum())\n",
    "print(d.sum())"
   ]
  },
  {
   "cell_type": "code",
   "execution_count": null,
   "id": "29",
   "metadata": {},
   "outputs": [],
   "source": [
    "assert d.sum() == ar_.data.sum(), f\"{d.sum()}   {ar_shal.data.sum()}\""
   ]
  },
  {
   "cell_type": "code",
   "execution_count": null,
   "id": "30",
   "metadata": {},
   "outputs": [],
   "source": [
    "assert s.sum() == ar_shal.data.sum(), f\"{s.sum()}   {ar_shal.data.sum()}\""
   ]
  },
  {
   "cell_type": "code",
   "execution_count": null,
   "id": "31",
   "metadata": {},
   "outputs": [],
   "source": [
    "d_out = xr.DataArray(\n",
    "    data=d,\n",
    "    dims=[ \"y\",'x'],\n",
    "    coords=dict(\n",
    "        x=([ \"y\",'x'], xl),\n",
    "        y=([ \"y\",'x'], yl),\n",
    "        # time=time,\n",
    "        # reference_time=reference_time,\n",
    "    ),\n",
    "    attrs=dict(\n",
    "        description=\"Ambient temperature.\",\n",
    "        units=\"degC\",\n",
    "    ),\n",
    ")\n",
    "\n",
    "s_out = xr.DataArray(\n",
    "    data=s,\n",
    "    dims=[ \"y\",'x'],\n",
    "    coords=dict(\n",
    "        x=([ \"y\",'x'], xl),\n",
    "        y=([ \"y\",'x'], yl),\n",
    "        # time=time,\n",
    "        # reference_time=reference_time,\n",
    "    ),\n",
    "    attrs=dict(\n",
    "        description=\"Ambient temperature.\",\n",
    "        units=\"degC\",\n",
    "    ),\n",
    ")"
   ]
  },
  {
   "cell_type": "code",
   "execution_count": null,
   "id": "32",
   "metadata": {},
   "outputs": [],
   "source": []
  },
  {
   "cell_type": "code",
   "execution_count": null,
   "id": "33",
   "metadata": {},
   "outputs": [],
   "source": [
    "f, ((ax1, ax2), (ax3, ax4)) = plt.subplots(2, 2, figsize=(12, 12), dpi = 250, subplot_kw=dict(projection=ccrs.epsg(2226)))\n",
    "\n",
    "\n",
    "levels = np.arange(-150,151, 10)\n",
    "\n",
    "ax = ax1\n",
    "# plt.figure(dpi = 250, figsize = (6,8))\n",
    "# ax = plt.subplot(1, 1, 1, projection=ccrs.epsg(2226))\n",
    "(elev- s_out).plot.contourf(ax =ax,  levels = levels, alpha = .5)\n",
    "(elev- s_out).plot.contour(ax =ax,  levels = levels, colors = 'k', linewidths =.5)\n",
    "ax.set_title('Elevation Minus Shallow GW Elevation')\n",
    "# ctx.add_basemap(ax, crs = 2226)\n",
    "\n",
    "ax = ax2\n",
    "# plt.figure(dpi = 250, figsize = (6,8))\n",
    "# ax = plt.subplot(1, 1, 1, projection=ccrs.epsg(2226))\n",
    "(elev- d_out).plot.contourf(ax =ax,levels =levels, alpha = .5)\n",
    "(elev- d_out).plot.contour(ax =ax,levels = levels, colors = 'k', linewidths =.5)\n",
    "ax.set_title('Elevation Minus Deep GW Elevation')\n",
    "# ctx.add_basemap(ax, crs = 2226)\n",
    "\n",
    "ax = ax3\n",
    "# plt.figure(dpi = 250, figsize = (6,8))\n",
    "# ax = plt.subplot(1, 1, 1, projection=ccrs.epsg(2226))\n",
    "(s_out- d_out).plot.contourf(ax =ax,levels =levels, alpha = .5)\n",
    "(s_out- d_out).plot.contour(ax =ax,levels = levels, colors = 'k', linewidths =.5)\n",
    "ax.set_title('Shallow Minus Deep GW Elevation')\n",
    "# ctx.add_basemap(ax, crs = 2226)\n",
    "\n",
    "\n",
    "ax = ax4\n",
    "# plt.figure(dpi = 250, figsize = (6,8))\n",
    "# ax = plt.subplot(1, 1, 1, projection=ccrs.epsg(2226))\n",
    "elev.plot.contourf(ax =ax,levels = np.arange(0,3000,100),alpha = .5, cmap = 'terrain')\n",
    "elev.plot.contour(ax =ax,levels = np.arange(0,3000,500), colors = 'k', linewidths =.5)\n",
    "ax.set_title('Elevation')\n",
    "# ctx.add_basemap(ax, crs = 2226)"
   ]
  },
  {
   "cell_type": "code",
   "execution_count": null,
   "id": "34",
   "metadata": {},
   "outputs": [],
   "source": [
    "workspace"
   ]
  },
  {
   "cell_type": "code",
   "execution_count": null,
   "id": "35",
   "metadata": {},
   "outputs": [],
   "source": [
    "# workspace = 'pestaws_flash'"
   ]
  },
  {
   "cell_type": "code",
   "execution_count": null,
   "id": "36",
   "metadata": {},
   "outputs": [],
   "source": [
    "for lay in range(1,7):\n",
    "    if lay<3:\n",
    "        print('shallow', os.path.join(workspace,'init_heads', f\"init_heads_lay{lay}.dat\"))\n",
    "        np.savetxt(os.path.join(workspace,'init_heads', f\"init_heads_lay{lay}.dat\"), s_out.data, fmt = \"%.0f\")\n",
    "    else:\n",
    "        print('deep', os.path.join(workspace,'init_heads', f\"init_heads_lay{lay}.dat\"))\n",
    "        np.savetxt(os.path.join(workspace,'init_heads', f\"init_heads_lay{lay}.dat\"), d_out.data, fmt = \"%.0f\")"
   ]
  },
  {
   "cell_type": "code",
   "execution_count": null,
   "id": "37",
   "metadata": {},
   "outputs": [],
   "source": [
    "# for lay in range(1,7):\n",
    "#     if lay<3:\n",
    "#         print('shallow', os.path.join(workspace,'init_heads', f\"init_heads_lay{lay}.dat\"))\n",
    "#         np.savetxt(os.path.join(workspace,'init_heads', f\"init_heads_lay{lay}.dat\"), ar_shal.data, fmt = \"%.0f\")\n",
    "#     else:\n",
    "#         print('deep', os.path.join(workspace,'init_heads', f\"init_heads_lay{lay}.dat\"))\n",
    "#         np.savetxt(os.path.join(workspace,'init_heads', f\"init_heads_lay{lay}.dat\"), ar_deep.data, fmt = \"%.0f\")"
   ]
  },
  {
   "cell_type": "code",
   "execution_count": null,
   "id": "38",
   "metadata": {},
   "outputs": [],
   "source": []
  },
  {
   "cell_type": "code",
   "execution_count": null,
   "id": "39",
   "metadata": {},
   "outputs": [],
   "source": [
    "for lay in range(1,7):\n",
    "    plt.figure()\n",
    "    if lay<3:\n",
    "        print('shallow', os.path.join(workspace,'init_heads', f\"init_heads_lay{lay}.dat\"))\n",
    "        plt.imshow(ar_shal.data,vmin = 300, vmax = 800)\n",
    "    else:\n",
    "        print('deep', os.path.join(workspace,'init_heads', f\"init_heads_lay{lay}.dat\"))\n",
    "        plt.imshow(ar_deep.data,vmin =300, vmax = 800)\n",
    "        # print('deep', os.path.join(workspace,'init_heads', f\"init_heads_lay{lay}.dat\"))\n",
    "        # np.savetxt(os.path.join(workspace,'init_heads', f\"init_heads_lay{lay}.dat\"), ar_deep.data, fmt = \"%.0f\")"
   ]
  },
  {
   "cell_type": "code",
   "execution_count": null,
   "id": "40",
   "metadata": {},
   "outputs": [],
   "source": []
  },
  {
   "cell_type": "code",
   "execution_count": null,
   "id": "41",
   "metadata": {},
   "outputs": [],
   "source": []
  },
  {
   "cell_type": "code",
   "execution_count": null,
   "id": "42",
   "metadata": {},
   "outputs": [],
   "source": []
  },
  {
   "cell_type": "code",
   "execution_count": null,
   "id": "43",
   "metadata": {},
   "outputs": [],
   "source": []
  },
  {
   "cell_type": "code",
   "execution_count": null,
   "id": "44",
   "metadata": {},
   "outputs": [],
   "source": []
  }
 ],
 "metadata": {
  "kernelspec": {
   "display_name": "Python 3 (ipykernel)",
   "language": "python",
   "name": "python3"
  },
  "language_info": {
   "codemirror_mode": {
    "name": "ipython",
    "version": 3
   },
   "file_extension": ".py",
   "mimetype": "text/x-python",
   "name": "python",
   "nbconvert_exporter": "python",
   "pygments_lexer": "ipython3",
   "version": "3.9.19"
  }
 },
 "nbformat": 4,
 "nbformat_minor": 5
}
