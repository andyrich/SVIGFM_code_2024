{
 "cells": [
  {
   "cell_type": "code",
   "execution_count": null,
   "id": "0dc67ad2-175f-490e-b591-24b34d54b908",
   "metadata": {},
   "outputs": [],
   "source": [
    "import pyemu\n",
    "import conda_scripts.load_datasets as lsd\n",
    "import os\n",
    "import pandas as pd\n",
    "import numpy as np\n",
    "import conda_scripts\n",
    "import forward_run\n",
    "import matplotlib.pyplot as plt\n",
    "import conda_scripts.plot_help as ph\n",
    "from conda_scripts import sv_budget\n",
    "import matplotlib as mpl\n",
    "import numpy as np\n",
    "import flopy\n",
    "import geopandas as gpd\n",
    "import xarray as xr\n",
    "import rioxarray as rx"
   ]
  },
  {
   "cell_type": "code",
   "execution_count": null,
   "id": "ed43c32e-625e-40b8-8853-d8cbb54908b1",
   "metadata": {},
   "outputs": [],
   "source": [
    "workspace = lsd.model_info.get_mod('son', True)\n",
    "workspace"
   ]
  },
  {
   "cell_type": "code",
   "execution_count": null,
   "id": "99abc2e7-9a14-4dd0-9b06-b3737f7f6629",
   "metadata": {},
   "outputs": [],
   "source": [
    "main = 'postprocess'\n",
    "fold =  'pestaws_v1'\n",
    "\n",
    "out_folder = os.path.join(main, fold)\n",
    "if not os.path.exists(out_folder):\n",
    "    os.makedirs(out_folder, exist_ok =True)"
   ]
  },
  {
   "cell_type": "code",
   "execution_count": null,
   "id": "f70e335f-00c7-4efb-8a36-9e1631a3a0bb",
   "metadata": {},
   "outputs": [],
   "source": [
    "ml = conda_scripts.sv_budget.load_sv_model.get_model(workspace)"
   ]
  },
  {
   "cell_type": "code",
   "execution_count": null,
   "id": "cda58d45-446d-41af-98ff-60181127a907",
   "metadata": {},
   "outputs": [],
   "source": [
    "import xarray as xr\n",
    "import numpy as np\n",
    "from pyproj import Transformer\n",
    "\n"
   ]
  },
  {
   "cell_type": "code",
   "execution_count": null,
   "id": "9bd0347f-e2a9-4efe-bf83-bb6dc2e97d88",
   "metadata": {},
   "outputs": [],
   "source": [
    "ml.update_modelgrid()"
   ]
  },
  {
   "cell_type": "code",
   "execution_count": null,
   "id": "f4f13bcc-fff7-406e-8895-ac95146827d9",
   "metadata": {},
   "outputs": [],
   "source": [
    "xl = ml.modelgrid.get_xcellcenters_for_layer(0)\n",
    "yl = ml.modelgrid.get_ycellcenters_for_layer(0)\n",
    "\n",
    "yl"
   ]
  },
  {
   "cell_type": "code",
   "execution_count": null,
   "id": "47003e5a-5402-480b-98a7-b34b15224af4",
   "metadata": {},
   "outputs": [],
   "source": []
  },
  {
   "cell_type": "code",
   "execution_count": null,
   "id": "be230801-f7e2-43ce-8bb8-1eec7d8df2ac",
   "metadata": {},
   "outputs": [],
   "source": [
    "shallow = rx.open_rasterio(r\"C:\\GSP\\waterlevel\\GIS\\hydro_experiment\\maps__v3_SON_allmodmonths_to_20240808\\SON_1970_Fall_Shallow.tif\")\n",
    "\n",
    "\n",
    "deep = rx.open_rasterio(r\"C:\\GSP\\waterlevel\\GIS\\hydro_experiment\\maps__v3_SON_allmodmonths_to_20240808\\SON_1970_Fall_Deep.tif\")\n"
   ]
  },
  {
   "cell_type": "code",
   "execution_count": null,
   "id": "e5668bb4-98fc-4fa4-bc8f-4643109bbee8",
   "metadata": {},
   "outputs": [],
   "source": [
    "zone = ml.bas6.ibound.array[1]\n",
    "zone\n",
    "plt.imshow(zone)"
   ]
  },
  {
   "cell_type": "code",
   "execution_count": null,
   "id": "1e9eb4a9-ed13-4424-9131-81b845314fb9",
   "metadata": {},
   "outputs": [],
   "source": [
    "import cartopy.crs as ccrs\n",
    "import contextily as ctx"
   ]
  },
  {
   "cell_type": "code",
   "execution_count": null,
   "id": "58ee4b14-346a-4680-8670-3348dac78d12",
   "metadata": {},
   "outputs": [],
   "source": [
    "da = xr.DataArray(\n",
    "    data=xl,\n",
    "    dims=[ \"y\",'x'],\n",
    "    coords=dict(\n",
    "        x=([ \"y\",'x'], xl),\n",
    "        y=([ \"y\",'x'], yl),\n",
    "        # time=time,\n",
    "        # reference_time=reference_time,\n",
    "    ),\n",
    "    attrs=dict(\n",
    "        description=\"Ambient temperature.\",\n",
    "        units=\"degC\",\n",
    "    ),\n",
    ")\n",
    "da\n",
    "\n",
    "ar_shal= shallow.isel(band = 0).interp(da.coords)\n",
    "\n",
    "\n",
    "ar_deep = deep.isel(band = 0).interp(da.coords)\n",
    "\n",
    "plt.figure(dpi = 250, figsize = (6,8))\n",
    "ax = plt.subplot(1, 1, 1, projection=ccrs.epsg(2226))\n",
    "\n",
    "ar_shal.plot.contourf(ax =ax,  levels = np.arange(0, 1000, 50), alpha = .5)\n",
    "ar_shal.plot.contour(ax =ax,  levels = np.arange(0, 1000, 50))\n",
    "ctx.add_basemap(ax, crs = 2226)\n",
    "\n",
    "plt.figure(dpi = 250, figsize = (6,8))\n",
    "ax = plt.subplot(1, 1, 1, projection=ccrs.epsg(2226))\n",
    "\n",
    "ar_deep.plot.contourf(ax =ax,levels = np.arange(0, 1000, 50), alpha = .5)\n",
    "ar_deep.plot.contour(ax =ax,levels = np.arange(0, 1000, 50))\n",
    "ctx.add_basemap(ax, crs = 2226)\n",
    "\n",
    "plt.figure(dpi = 250, figsize = (6,8))\n",
    "ax = plt.subplot(1, 1, 1, projection=ccrs.epsg(2226))\n",
    "(ar_shal - ar_deep).plot.contour(ax =ax,levels = np.arange(-50, 51, 10))\n",
    "ctx.add_basemap(ax, crs = 2226)"
   ]
  },
  {
   "cell_type": "code",
   "execution_count": null,
   "id": "85dee154-e611-40b8-9c54-811b0ccd333a",
   "metadata": {},
   "outputs": [],
   "source": [
    "ar_shal.data[zone==0] = -999\n",
    "ar_deep.data[zone==0] = -999"
   ]
  },
  {
   "cell_type": "code",
   "execution_count": null,
   "id": "8dc379b2-a0f5-4bf0-90e8-c326ee78b1ca",
   "metadata": {},
   "outputs": [],
   "source": [
    "for lay in range(1,7):\n",
    "    if lay<3:\n",
    "        np.savetxt(os.path.join(workspace,'init_heads', f\"init_heads_lay{lay}.dat\"), ar_shal.data, fmt = \"%.0f\")\n",
    "    else:\n",
    "        np.savetxt(os.path.join(workspace,'init_heads', f\"init_heads_lay{lay}.dat\"), ar_deep.data, fmt = \"%.0f\")"
   ]
  },
  {
   "cell_type": "code",
   "execution_count": null,
   "id": "2df19186-1282-4d87-909e-f9a3552e684f",
   "metadata": {},
   "outputs": [],
   "source": []
  },
  {
   "cell_type": "code",
   "execution_count": null,
   "id": "f1ca3f19-a9f5-4d76-a5f8-4732bd5b6d81",
   "metadata": {},
   "outputs": [],
   "source": []
  },
  {
   "cell_type": "code",
   "execution_count": null,
   "id": "af670b83-d222-4b2a-a091-7939d1ff6079",
   "metadata": {},
   "outputs": [],
   "source": []
  },
  {
   "cell_type": "code",
   "execution_count": null,
   "id": "a2ffb549-d498-43e2-96dd-68ff0aa1d5f2",
   "metadata": {},
   "outputs": [],
   "source": []
  },
  {
   "cell_type": "code",
   "execution_count": null,
   "id": "2de16ce5-4d3d-433f-b101-322871680c4f",
   "metadata": {},
   "outputs": [],
   "source": []
  },
  {
   "cell_type": "code",
   "execution_count": null,
   "id": "2d38ef7e-843b-4c2d-9f82-acf693407880",
   "metadata": {},
   "outputs": [],
   "source": []
  },
  {
   "cell_type": "code",
   "execution_count": null,
   "id": "f01a14d1-7fae-422c-83ee-3829bff39c2e",
   "metadata": {},
   "outputs": [],
   "source": []
  }
 ],
 "metadata": {
  "kernelspec": {
   "display_name": "Python 3 (ipykernel)",
   "language": "python",
   "name": "python3"
  },
  "language_info": {
   "codemirror_mode": {
    "name": "ipython",
    "version": 3
   },
   "file_extension": ".py",
   "mimetype": "text/x-python",
   "name": "python",
   "nbconvert_exporter": "python",
   "pygments_lexer": "ipython3",
   "version": "3.9.19"
  }
 },
 "nbformat": 4,
 "nbformat_minor": 5
}
