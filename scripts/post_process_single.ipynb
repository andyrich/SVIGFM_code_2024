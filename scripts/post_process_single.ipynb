{
 "cells": [
  {
   "cell_type": "code",
   "execution_count": null,
   "id": "0",
   "metadata": {},
   "outputs": [],
   "source": [
    "import pyemu\n",
    "import conda_scripts.load_datasets as lsd\n",
    "import os\n",
    "import pandas as pd\n",
    "import numpy as np\n",
    "import conda_scripts\n",
    "import forward_run\n",
    "import matplotlib.pyplot as plt\n",
    "import conda_scripts.plot_help as ph\n",
    "from conda_scripts import sv_budget\n",
    "import matplotlib as mpl\n",
    "import numpy as np\n",
    "import helpers\n",
    "\n",
    "import geopandas as gpd"
   ]
  },
  {
   "cell_type": "code",
   "execution_count": null,
   "id": "1",
   "metadata": {},
   "outputs": [],
   "source": [
    "import matplotlib.pyplot as plt\n",
    "\n",
    "%matplotlib inline"
   ]
  },
  {
   "cell_type": "code",
   "execution_count": null,
   "id": "2",
   "metadata": {},
   "outputs": [],
   "source": [
    "workspace = lsd.model_info.get_mod('son', True)\n",
    "workspace"
   ]
  },
  {
   "cell_type": "code",
   "execution_count": null,
   "id": "3",
   "metadata": {},
   "outputs": [],
   "source": [
    "main = 'postprocess'\n",
    "pstname =  'mango'\n",
    "fold =  'mango_v3'\n",
    "\n",
    "out_folder = os.path.join(main, fold)\n",
    "if not os.path.exists(out_folder):\n",
    "    os.makedirs(out_folder, exist_ok =True)"
   ]
  },
  {
   "cell_type": "code",
   "execution_count": null,
   "id": "4",
   "metadata": {},
   "outputs": [],
   "source": [
    "# m_d = f_d = \"C:\\GSP\\sv\\model\\pest_inputs\\PEST_PP\\pestaws_flash\"\n",
    "m_d = f_d = r\"C:\\GSP\\sv\\model\\update_2024\\scripts\\pestaws_mango\"\n",
    "pst = pyemu.Pst(os.path.join(f_d,f\"{pstname}.pst\"))\n",
    "\n",
    "# pst = pyemu.Pst(os.path.join(f_d,f\"flash.pst\"))"
   ]
  },
  {
   "cell_type": "code",
   "execution_count": null,
   "id": "5",
   "metadata": {},
   "outputs": [],
   "source": [
    "os.listdir(m_d)"
   ]
  },
  {
   "cell_type": "code",
   "execution_count": null,
   "id": "6",
   "metadata": {},
   "outputs": [],
   "source": [
    "rei = pd.read_csv(os.path.join(m_d, f\"{pstname}.mean.rei\"), sep = '\\s+', skiprows=[0,1,2,])"
   ]
  },
  {
   "cell_type": "code",
   "execution_count": null,
   "id": "7",
   "metadata": {},
   "outputs": [],
   "source": [
    "sfr = rei.query(\"Group.str.contains('kenwood_log')\")\n",
    "sfr"
   ]
  },
  {
   "cell_type": "code",
   "execution_count": null,
   "id": "8",
   "metadata": {},
   "outputs": [],
   "source": [
    "\n",
    "if rei.query(\"Group.str.contains('aguacal_log')\").shape==rei.query(\"Group.str.contains('aguacal_log') and not Name.str.contains('fdc')\").shape:\n",
    "    print('agual_log does not contain fdc or other mislabeld variables')\n",
    "else:\n",
    "    print('bad\\n'*3+'agual_log DOES contain fdc or other mislabeld variables')\n",
    "\n",
    "if rei.query(\"Group.str.contains('kenwood_log')\").shape==rei.query(\"Group.str.contains('kenwood_log') and not Name.str.contains('fdc')\").shape:\n",
    "    print('kenwood_log does not contain fdc or other mislabeld variables')\n",
    "else:\n",
    "    print('\\n'+'bad\\n'*3+'kenwood_log DOES contain fdc or other mislabeld variables')\n",
    "    \n",
    "sfr = rei.query(\"Group.str.contains('aguacal_log')\")\n",
    "sfr.loc[:,'date'] = pd.to_datetime(sfr.Name.apply(lambda x:x.split(\"_date:\")[-1]))\n",
    "ax = sfr.query(\"Weight>0\").plot(x = 'date', y = 'Modelled')\n",
    "sfr.query(\"Weight>0\").plot(x = 'date', y = 'Measured',ax = ax)\n",
    "ax.set_title('Agua Caliente Minimum Flow per Water Year')\n",
    "ax.set_ylabel(\"log(CFS)\")\n",
    "plt.savefig(os.path.join(out_folder, 'sfr_min_flow_agua_cal.png'), dpi =250, bbox_inches = 'tight')\n",
    "\n",
    "sfr = rei.query(\"Group.str.contains('kenwood_log') and not Name.str.contains('fdc')\")\n",
    "sfr.loc[:,'date'] = pd.to_datetime(sfr.Name.apply(lambda x:x.split(\"_date:\")[-1]))\n",
    "ax = sfr.query(\"Weight>0\").plot(x = 'date', y = 'Modelled')\n",
    "sfr.query(\"Weight>0\").plot(x = 'date', y = 'Measured',ax = ax)\n",
    "ax.set_title('Kenwood Minimum Flow per Water Year')\n",
    "ax.set_ylabel(\"log(CFS)\")\n",
    "plt.savefig(os.path.join(out_folder, 'sfr_min_flow_kenwood.png'), dpi =250, bbox_inches = 'tight')"
   ]
  },
  {
   "cell_type": "code",
   "execution_count": null,
   "id": "9",
   "metadata": {},
   "outputs": [],
   "source": [
    "rei.Group.unique()"
   ]
  },
  {
   "cell_type": "code",
   "execution_count": null,
   "id": "10",
   "metadata": {},
   "outputs": [],
   "source": []
  },
  {
   "cell_type": "code",
   "execution_count": null,
   "id": "11",
   "metadata": {},
   "outputs": [],
   "source": [
    "flux = rei.query(\"Group=='flux' & not Name.str.contains('summ')\")\n",
    "\n",
    "flux.loc[:,'oname'] = flux.Name.apply(lambda x: x.split('oname:flux_otype:lst_usecol:')[1].split(':')[0])\n",
    "\n",
    "flux.loc[:,'date'] = pd.to_datetime(flux.Name.apply(lambda x:x.split(\"_date:\")[-1]))"
   ]
  },
  {
   "cell_type": "code",
   "execution_count": null,
   "id": "12",
   "metadata": {},
   "outputs": [],
   "source": [
    "flux.set_index(['date','oname']).loc[:,['Modelled']].unstack().head()"
   ]
  },
  {
   "cell_type": "code",
   "execution_count": null,
   "id": "13",
   "metadata": {},
   "outputs": [],
   "source": [
    "fl = flux.set_index(['date','oname']).loc[:,['Modelled']].unstack().filter(regex = \"^(?!.*percent).*\").filter(regex = \"^(?!.*in_out_date).*\")\n",
    "\n",
    "\n",
    "\n",
    "fl = fl.droplevel(0,1)\n",
    "columns_to_multiply = fl.filter(regex='_out_').columns\n",
    "\n",
    "fl[columns_to_multiply] *= -1\n",
    "\n",
    "stor =  fl.filter(regex = \"storage\")\n",
    "stor = stor.mul(-1).sum(axis=1).cumsum()\n",
    "fl = fl.filter(regex = \"^(?!.*storage).*\")"
   ]
  },
  {
   "cell_type": "code",
   "execution_count": null,
   "id": "14",
   "metadata": {},
   "outputs": [],
   "source": []
  },
  {
   "cell_type": "code",
   "execution_count": null,
   "id": "15",
   "metadata": {},
   "outputs": [],
   "source": []
  },
  {
   "cell_type": "code",
   "execution_count": null,
   "id": "16",
   "metadata": {},
   "outputs": [],
   "source": [
    "fig, ax = conda_scripts.plot_help.stackedbar_wdates(fl.div(43560)*28, colormap='tab20')\n",
    "\n",
    "ax2 = ax.twinx()\n",
    "\n"
   ]
  },
  {
   "cell_type": "code",
   "execution_count": null,
   "id": "17",
   "metadata": {},
   "outputs": [],
   "source": [
    "rei.Group.unique()"
   ]
  },
  {
   "cell_type": "code",
   "execution_count": null,
   "id": "18",
   "metadata": {},
   "outputs": [],
   "source": []
  },
  {
   "cell_type": "code",
   "execution_count": null,
   "id": "19",
   "metadata": {},
   "outputs": [],
   "source": [
    "ml = conda_scripts.sv_budget.load_sv_model.get_model(workspace)"
   ]
  },
  {
   "cell_type": "code",
   "execution_count": null,
   "id": "20",
   "metadata": {},
   "outputs": [],
   "source": [
    "q = rei.query(\"Group=='irr_total_volume'\").copy()\n",
    "q.loc[:,'date'] = q.Name.apply(lambda x: pd.to_datetime(x.split('_date:')[1][0:10]))\n",
    "q.loc[:,'crop'] = q.Name.apply(lambda x: x.split('_crop:')[1])\n",
    "q = q.set_index(['date','crop']).loc[:,[\"Modelled\"]].unstack(1).droplevel(0,1)\n",
    "fig, ax = conda_scripts.plot_help.stackedbar_wdates(q, colormap='tab20')\n",
    "ax.set_title(\"Irrigation Volume Demand By Crop\")\n",
    "ax.set_ylabel('ft.')\n",
    "plt.savefig(os.path.join(out_folder, 'irr_volumeby_crop.png'),bbox_inches = 'tight')"
   ]
  },
  {
   "cell_type": "code",
   "execution_count": null,
   "id": "21",
   "metadata": {},
   "outputs": [],
   "source": [
    "from matplotlib import ticker\n",
    "\n",
    "q = rei.query(\"Group=='irr_depth'\").copy()\n",
    "q.loc[:,'date'] = q.Name.apply(lambda x: pd.to_datetime(x.split('_date:')[1][0:10]))\n",
    "q.loc[:,'crop'] = q.Name.apply(lambda x: x.split('_crop:')[1])\n",
    "q = q.query( \"crop =='vineyard'\")\n",
    "q = q.set_index(['date','crop']).loc[:,[\"Modelled\"]].unstack(1).droplevel(0,1)\n",
    "fig, ax = conda_scripts.plot_help.stackedbar_wdates(q, colormap='tab20')\n",
    "ax.set_title('Irrigation Demand Depth');ax.set_ylabel('ft.')\n",
    "ax.yaxis.set_major_formatter(ticker.StrMethodFormatter(\"{x:.1f}\"))\n",
    "plt.savefig(os.path.join(out_folder, 'irr_depthby_crop_vineyard.png'),bbox_inches = 'tight')"
   ]
  },
  {
   "cell_type": "code",
   "execution_count": null,
   "id": "22",
   "metadata": {},
   "outputs": [],
   "source": []
  },
  {
   "cell_type": "code",
   "execution_count": null,
   "id": "23",
   "metadata": {},
   "outputs": [],
   "source": [
    "os.makedirs(os.path.join(out_folder,'crop_info'), exist_ok=True)"
   ]
  },
  {
   "cell_type": "code",
   "execution_count": null,
   "id": "24",
   "metadata": {},
   "outputs": [],
   "source": [
    "from matplotlib import ticker\n",
    "\n",
    "q = rei.query(\"Group=='irr_depth' & Weight>0\").copy()\n",
    "q.loc[:,'date'] = q.Name.apply(lambda x: pd.to_datetime(x.split('_date:')[1][0:10]))\n",
    "q.loc[:,'crop'] = q.Name.apply(lambda x: x.split('_crop:')[1])\n",
    "\n",
    "q = q.set_index(['date','crop']).loc[:,[\"Modelled\", 'Measured', 'Weight']].unstack(1)\n",
    "\n",
    "os.makedirs(os.path.join(out_folder,'crop_info'), exist_ok=True)\n",
    "for i, c in enumerate(q.loc[:,'Measured'].columns):\n",
    "    plt.figure()\n",
    "    ax = q.loc[:,'Modelled'].loc[:,c].plot(label = 'Modelled')\n",
    "    ax.set_title(c)\n",
    "    q.loc[:,'Measured'].loc[:,c].plot(ax = ax, c = 'blue', label = 'Measured')\n",
    "    ax.set_title(f'Irrigation Demand Depth for {c}');\n",
    "    ax.set_ylabel('ft.', c = 'blue'); ax.grid(True)\n",
    "    ax.yaxis.set_major_formatter(ticker.StrMethodFormatter(\"{x:.1f}\"))\n",
    "    ax.legend()\n",
    "    ax2 = ax.twinx()\n",
    "    ax2.set_ylabel('weight', color = 'g')\n",
    "    q.loc[:,'Weight'].loc[:,c].plot(ax = ax2, c = 'g', ls = '--', label = 'Weight')\n",
    "    ax2.legend(loc = 'lower right')\n",
    "    plt.savefig(os.path.join(out_folder, 'crop_info', f'irr_depthby_{c}.png'),bbox_inches = 'tight')\n",
    "\n"
   ]
  },
  {
   "cell_type": "markdown",
   "id": "25",
   "metadata": {},
   "source": [
    "# read actual outputs from bycroby farm"
   ]
  },
  {
   "cell_type": "code",
   "execution_count": null,
   "id": "26",
   "metadata": {},
   "outputs": [],
   "source": []
  },
  {
   "cell_type": "code",
   "execution_count": null,
   "id": "27",
   "metadata": {},
   "outputs": [],
   "source": [
    "# byfbyc = pd.read_csv(os.path.join(m_d, 'output', 'pump_by_farms.out' ),  sep = '\\s+')\n",
    "# byfbyc.loc[:,'DATE_START'] = pd.to_datetime(byfbyc.DATE_START).dt.year\n",
    "# byfbyc = byfbyc.groupby([\"DATE_START\", 'WBS']).sum().loc[:,[\"Q-FIN\"]].unstack().droplevel(0,1)\n",
    "\n",
    "\n",
    "byfbyc = pd.read_csv(os.path.join(m_d, 'output', 'ByFarm_ByCrop.txt' ),  sep = '\\s+')\n",
    "byfbyc.loc[:,'DATE_START'] = pd.to_datetime(byfbyc.DATE_START).dt.year\n",
    "byfbyc.head()"
   ]
  },
  {
   "cell_type": "code",
   "execution_count": null,
   "id": "28",
   "metadata": {},
   "outputs": [],
   "source": [
    "byfbyc"
   ]
  },
  {
   "cell_type": "code",
   "execution_count": null,
   "id": "29",
   "metadata": {},
   "outputs": [],
   "source": [
    "byfbyc\n"
   ]
  },
  {
   "cell_type": "code",
   "execution_count": null,
   "id": "30",
   "metadata": {},
   "outputs": [],
   "source": [
    "byfbyc.query(\"CROP_NAME=='VINEYARD'\").groupby('DATE_START').sum().loc[:,[ 'TOT_DEEP_PERC', 'TOT_SURF_RUNOFF',\n",
    "       'ADDED_DMD_DPERC', 'ADDED_DMD_RUNOFF', 'TRAN_POT', 'ANOXIA_LOSS',\n",
    "       'SOIL_STRESS_LOSS', 'TRAN', 'TRAN_SURF_INI', 'TRAN_SURF', 'TRAN_IRR',\n",
    "       'TRAN_PRECIP', 'TRAN_GW', 'EVAP_IRR', 'EVAP_PRECIP', 'EVAP_GW',\n",
    "       'PRECIPITATION',]].drop(columns = ['PRECIPITATION','TOT_SURF_RUNOFF',]).filter(regex = 'TRAN').loc['1970':,].plot(figsize = (15,15),subplots =True)\n",
    "\n",
    "plt.savefig(os.path.join(out_folder, 'crop_info', f'transpiration_sum.png'),bbox_inches = 'tight')"
   ]
  },
  {
   "cell_type": "code",
   "execution_count": null,
   "id": "31",
   "metadata": {},
   "outputs": [],
   "source": [
    "byfbyc.query(\"CROP_NAME=='VINEYARD'\").groupby('DATE_START').sum().loc[:,[ 'TOT_DEEP_PERC', 'TOT_SURF_RUNOFF',\n",
    "       'ADDED_DMD_DPERC', 'ADDED_DMD_RUNOFF', 'TRAN_POT', 'ANOXIA_LOSS',\n",
    "       'SOIL_STRESS_LOSS', 'TRAN', 'TRAN_SURF_INI', 'TRAN_SURF', 'TRAN_IRR',\n",
    "       'TRAN_PRECIP', 'TRAN_GW', 'EVAP_IRR', 'EVAP_PRECIP', 'EVAP_GW',\n",
    "       'PRECIPITATION',]].drop(columns = ['PRECIPITATION','TOT_SURF_RUNOFF',]).filter(regex = 'TRAN').loc['1970':,].plot(figsize = (15,15),subplots =True)\n"
   ]
  },
  {
   "cell_type": "code",
   "execution_count": null,
   "id": "32",
   "metadata": {},
   "outputs": [],
   "source": [
    "import flopy\n"
   ]
  },
  {
   "cell_type": "code",
   "execution_count": null,
   "id": "33",
   "metadata": {},
   "outputs": [],
   "source": [
    "import matplotlib.pyplot as plt\n",
    "import matplotlib.gridspec as gridspec\n",
    "\n",
    "# Create a figure\n",
    "fig = plt.figure(figsize=(8.5, 11))\n",
    "\n",
    "# Create gridspec layout with 1 row and 2 columns (one for left and one for right)\n",
    "gs = gridspec.GridSpec(1, 1, width_ratios=[1])\n",
    "\n",
    "# Create the left axes, which spans the entire height of the figure\n",
    "ax3 = fig.add_subplot(gs[0])\n",
    "\n",
    "sv_budget.sv_budget.sv_mod_map(simple = True,ax = ax3)\n",
    "\n",
    "Map = flopy.plot.PlotMapView(model = ml, ax = ax3)\n",
    "farms = os.path.join(workspace, 'fmp_input', 'farms','farm2016.dat')\n",
    "farms = np.genfromtxt(farms, dtype = int)\n",
    "\n",
    "subcat_farms = 81\n",
    "farms = np.ma.array(farms, mask = farms<subcat_farms)\n",
    "Map.plot_array(farms)\n",
    "shp = conda_scripts.arich_functions.get_model_shp(ml.modelgrid)\n",
    "shp = pd.merge(shp, conda_scripts.arich_functions.array2rc(farms).drop(columns = ['row', 'column']), on = ['i','j'])\n",
    "\n",
    "conda_scripts.plot_help.label_points_outside_map(shp.set_geometry(shp.geometry.centroid).drop_duplicates('value').rename(columns = {'value':'label'}).query(f\"label>{subcat_farms}\"),fig, ax3, 'label' )"
   ]
  },
  {
   "cell_type": "code",
   "execution_count": null,
   "id": "34",
   "metadata": {},
   "outputs": [],
   "source": []
  },
  {
   "cell_type": "code",
   "execution_count": null,
   "id": "35",
   "metadata": {},
   "outputs": [],
   "source": []
  },
  {
   "cell_type": "code",
   "execution_count": null,
   "id": "36",
   "metadata": {},
   "outputs": [],
   "source": [
    "import pandas as pd\n",
    "import plotly.graph_objects as go\n",
    "\n",
    "def get_data(subcats = True):\n",
    "\n",
    "    if subcats:\n",
    "        data = byfbyc.query(f\"WBS>={subcat_farms}\")\n",
    "    else:\n",
    "        data = byfbyc.query(f\"WBS<{subcat_farms}\")\n",
    "    # Example data (replace this with your pd.Series)\n",
    "    \n",
    "    data = data.groupby('DATE_START').sum().loc[:,[ 'TOT_DEEP_PERC', 'TOT_SURF_RUNOFF',\n",
    "           'ADDED_DMD_DPERC', 'ADDED_DMD_RUNOFF', 'TRAN_POT', 'ANOXIA_LOSS',\n",
    "           'SOIL_STRESS_LOSS', 'TRAN', 'TRAN_SURF_INI', 'TRAN_SURF', 'TRAN_IRR',\n",
    "           'TRAN_PRECIP', 'TRAN_GW', 'EVAP_IRR', 'EVAP_PRECIP', 'EVAP_GW',\n",
    "           'PRECIPITATION',]].loc['1970':,].mul(28/43560).mean()\n",
    "    \n",
    "    data.loc['IRR'] = data.loc['EVAP_IRR'] + data.loc['TRAN_IRR']\n",
    "    data.loc['GW'] = data.loc['EVAP_GW'] + data.loc['TRAN_GW']\n",
    "    return data\n",
    "\n",
    "def plot_sarn(data, label, subcat):\n",
    "    # Define the flows\n",
    "    flows = [\n",
    "        (\"PRECIPITATION\", \"TOT_SURF_RUNOFF\"),\n",
    "        (\"PRECIPITATION\", \"TOT_DEEP_PERC\"),\n",
    "        (\"PRECIPITATION\", \"TRAN_PRECIP\"),\n",
    "        (\"PRECIPITATION\", \"EVAP_PRECIP\"),\n",
    "        (\"TRAN_PRECIP\", \"TRAN_SURF\"),\n",
    "        # (\"TRAN_SURF\", \"TRAN\"),\n",
    "        (\"TRAN_SURF\", \"SOIL_STRESS_LOSS\"),\n",
    "    \n",
    "        (\"GW\", \"EVAP_GW\"),\n",
    "        (\"GW\", \"TRAN_GW\"),\n",
    "        (\"IRR\", \"EVAP_IRR\"),\n",
    "        (\"IRR\", \"TRAN_IRR\")\n",
    "    ]\n",
    "    \n",
    "    # Create unique lists of labels\n",
    "    labels = sorted(data.index.tolist())\n",
    "    \n",
    "    # Create mappings from label to index\n",
    "    label_indices = {label: i for i, label in enumerate(labels)}\n",
    "    \n",
    "    # Define the source and target indices and values\n",
    "    sources = [label_indices[source] for source, target in flows]\n",
    "    targets = [label_indices[target] for source, target in flows]\n",
    "    values = [data[target] for source, target in flows]\n",
    "    \n",
    "    # Create the Sankey plot\n",
    "    fig = go.Figure(go.Sankey(\n",
    "        node=dict(\n",
    "            pad=50,\n",
    "            thickness=30,\n",
    "            line=dict(color=\"black\", width=0.5),\n",
    "            label=labels\n",
    "        ),\n",
    "        link=dict(\n",
    "            source=sources,\n",
    "            target=targets,\n",
    "            value=values\n",
    "        )\n",
    "    ))\n",
    "    \n",
    "    fig.update_layout(title_text=label, font_size=10)\n",
    "\n",
    "    if subcat:\n",
    "        sublabel = 'subcatchment'\n",
    "    else:\n",
    "        sublabel = 'non_subcatchment'\n",
    "    \n",
    "    fig.write_html(os.path.join(out_folder,f'SANKEY_bud_{sublabel}.html'))\n",
    "    fig.show()\n",
    "\n",
    "data = get_data(True)\n",
    "data.to_csv(os.path.join(out_folder,f'SANKEY_bud_subcat.csv'))\n",
    "plot_sarn(data, label = 'Hydrologic Flow Sankey Diagram for Subcatchments', subcat = True)\n",
    "data = get_data(False)\n",
    "data.to_csv(os.path.join(out_folder,f'SANKEY_bud_non_subcat.csv'))\n",
    "plot_sarn(data, label = 'Hydrologic Flow Sankey Diagram for Non Subcatchments', subcat = False)"
   ]
  },
  {
   "cell_type": "code",
   "execution_count": null,
   "id": "37",
   "metadata": {},
   "outputs": [],
   "source": []
  },
  {
   "cell_type": "code",
   "execution_count": null,
   "id": "38",
   "metadata": {},
   "outputs": [],
   "source": []
  },
  {
   "cell_type": "code",
   "execution_count": null,
   "id": "39",
   "metadata": {},
   "outputs": [],
   "source": []
  },
  {
   "cell_type": "code",
   "execution_count": null,
   "id": "40",
   "metadata": {},
   "outputs": [],
   "source": []
  },
  {
   "cell_type": "code",
   "execution_count": null,
   "id": "41",
   "metadata": {},
   "outputs": [],
   "source": [
    "byfbyc.query(f\"WBS>={subcat_farms}\").groupby('DATE_START').sum().loc[:,[ 'TOT_DEEP_PERC', 'TOT_SURF_RUNOFF',\n",
    "       'ADDED_DMD_DPERC', 'ADDED_DMD_RUNOFF', 'TRAN_POT', 'ANOXIA_LOSS',\n",
    "       'SOIL_STRESS_LOSS', 'TRAN', 'TRAN_SURF_INI', 'TRAN_SURF', 'TRAN_IRR',\n",
    "       'TRAN_PRECIP', 'TRAN_GW', 'EVAP_IRR', 'EVAP_PRECIP', 'EVAP_GW',\n",
    "       'PRECIPITATION',]].loc['1970':,].mul(28/43560).mean()"
   ]
  },
  {
   "cell_type": "code",
   "execution_count": null,
   "id": "42",
   "metadata": {},
   "outputs": [],
   "source": [
    "byfbyc.query(f\"WBS>={subcat_farms}\").groupby('DATE_START').sum().loc[:,[ 'TOT_DEEP_PERC', 'TOT_SURF_RUNOFF',\n",
    "       'ADDED_DMD_DPERC', 'ADDED_DMD_RUNOFF', 'TRAN_POT', 'ANOXIA_LOSS',\n",
    "       'SOIL_STRESS_LOSS', 'TRAN', 'TRAN_SURF_INI', 'TRAN_SURF', 'TRAN_IRR',\n",
    "       'TRAN_PRECIP', 'TRAN_GW', 'EVAP_IRR', 'EVAP_PRECIP', 'EVAP_GW',\n",
    "       'PRECIPITATION',]].loc['1970':,].mul(28/43560).plot(figsize = (15,15),subplots =True)\n",
    "\n",
    "plt.figure()\n",
    "byfbyc.query(f\"WBS>={subcat_farms}\").groupby('DATE_START').sum().loc[:,[ 'TOT_DEEP_PERC', 'TOT_SURF_RUNOFF',\n",
    "       'ADDED_DMD_DPERC', 'ADDED_DMD_RUNOFF', 'TRAN_POT', 'ANOXIA_LOSS',\n",
    "       'SOIL_STRESS_LOSS', 'TRAN', 'TRAN_SURF_INI', 'TRAN_SURF', 'TRAN_IRR',\n",
    "       'TRAN_PRECIP', 'TRAN_GW', 'EVAP_IRR', 'EVAP_PRECIP', 'EVAP_GW',\n",
    "       'PRECIPITATION',]].loc['1970':,].mul(28/43560).mean().plot.barh(figsize = (15,15),subplots =False)"
   ]
  },
  {
   "cell_type": "code",
   "execution_count": null,
   "id": "43",
   "metadata": {},
   "outputs": [],
   "source": []
  },
  {
   "cell_type": "code",
   "execution_count": null,
   "id": "44",
   "metadata": {},
   "outputs": [],
   "source": []
  },
  {
   "cell_type": "code",
   "execution_count": null,
   "id": "45",
   "metadata": {},
   "outputs": [],
   "source": [
    "info = pd.read_csv(os.path.join('..','waterlevel', 'GWLE','gwle_station_info.csv'),index_col=0)\n",
    "info.loc[:,'station'] = info.loc[:,'Station Name'].str.lower()\n",
    "info = gpd.GeoDataFrame(info, geometry = gpd.points_from_xy(info.Easting, info.Northing, crs = 2226),).to_crs(2226)\n",
    "\n",
    "\n",
    "other_info = pd.read_csv(os.path.join('..','waterlevel', 'stats.csv'),index_col=0)\n",
    "other_info.loc[:,'station'] = other_info.loc[:,'station_name'].str.lower()\n",
    "other_info = other_info.loc[:,['station', 'station_latitude','station_longitude']]\n",
    "other_info = gpd.GeoDataFrame(other_info, geometry = gpd.points_from_xy(other_info.station_longitude, other_info.station_latitude, crs = 4326),).to_crs(2226)\n",
    "other_info.loc[:,'Easting'] = other_info.geometry.x\n",
    "other_info.loc[:,'Northing'] = other_info.geometry.y\n",
    "other_info = other_info.loc[~other_info.loc[:,'station'].isin(info.loc[:,'station'])]\n",
    "info = pd.concat([info, other_info])\n",
    "\n",
    "info.plot()"
   ]
  },
  {
   "cell_type": "code",
   "execution_count": null,
   "id": "46",
   "metadata": {},
   "outputs": [],
   "source": []
  },
  {
   "cell_type": "code",
   "execution_count": null,
   "id": "47",
   "metadata": {},
   "outputs": [],
   "source": [
    "\n"
   ]
  },
  {
   "cell_type": "code",
   "execution_count": null,
   "id": "48",
   "metadata": {},
   "outputs": [],
   "source": [
    "zones = helpers.get_zones(ml)"
   ]
  },
  {
   "cell_type": "code",
   "execution_count": null,
   "id": "49",
   "metadata": {},
   "outputs": [],
   "source": [
    "from shapely import Point\n",
    "from matplotlib.gridspec import GridSpec\n",
    "def create_figure(station):\n",
    "    \n",
    "    fig = plt.figure(figsize = (10,6))\n",
    "    \n",
    "    gs1 = GridSpec(2, 2,  left=0.05, right=0.48, wspace=0.05,width_ratios=[7, 2],)\n",
    "    ax = fig.add_subplot(gs1[:, 0])\n",
    "    ax.tick_params(labelbottom=False, labelleft=True)\n",
    "\n",
    "    \n",
    "    ax3 = fig.add_subplot(gs1[1:, -1])\n",
    "    ax3.tick_params(labelbottom=False, labelleft=False)\n",
    "    sv_budget.sv_budget.sv_mod_map(simple = True,ax = ax3)\n",
    "    annotations = [child for child in ax3.get_children() if isinstance(child, mpl.text.Text)]\n",
    "    annotations[0].remove()\n",
    "    ax3.legend().remove()\n",
    "\n",
    "    \n",
    "    xy = info.query(f\"station=='{station}'\")\n",
    "\n",
    "    if xy.shape[0]==0:\n",
    "        pass\n",
    "    else:\n",
    "        pt = gpd.GeoSeries(Point(xy.Easting, xy.Northing),crs = 2226)\n",
    "        pt.plot(ax = ax3,  markersize = 40,marker = '*', color = 'r') \n",
    "        \n",
    "\n",
    "\n",
    "    return fig, ax, ax3\n",
    "\n",
    "def fmt_axis(ax,station, zone):\n",
    "    '''plot model layers'''\n",
    "    ax.set_title(station+f' ' + zone,loc=\"left\")\n",
    "    ax.grid(True)\n",
    "\n",
    "    arr = np.vstack([np.expand_dims(ml.dis.top.array, 0), ml.dis.botm.array])\n",
    "    ylim = ax.get_ylim()\n",
    "    if info.query(f\"station=='{station}'\").shape[0]>0:\n",
    "        i = info.query(f\"station=='{station}'\").i.unique()[0]\n",
    "        j = info.query(f\"station=='{station}'\").j.unique()[0]\n",
    "\n",
    "        #print model layers\n",
    "        if isinstance(i, np.int64):\n",
    "            verts = arr[:,i,j]\n",
    "            verts = list(filter(lambda x: x> ylim[0], verts))\n",
    "            for l in verts:\n",
    "                ax.axhline(l, ls = '--', c = 'grey', alpha = .6, zorder = 0)\n",
    "                \n",
    "            conda_scripts.plot_help.label_outside_multiple(ax, y = verts, labels = [f'lay{lay}' for lay in np.arange(len(verts))])\n",
    "\n",
    "    ph.yrange_(ax)\n",
    "\n",
    "station = 'son0001'\n",
    "fig, ax, axmap = create_figure(station)\n",
    "fmt_axis(ax, station, 'asdf')"
   ]
  },
  {
   "cell_type": "code",
   "execution_count": null,
   "id": "50",
   "metadata": {},
   "outputs": [],
   "source": []
  },
  {
   "cell_type": "code",
   "execution_count": null,
   "id": "51",
   "metadata": {},
   "outputs": [],
   "source": [
    "def get_phi(g,  ax ):\n",
    "    # g = g.query(f\"Group.str.contains('{name}') & Weight>0\")\n",
    "\n",
    "    phisum = g.Weight* g.Residual.apply(lambda x: x**2)\n",
    "    phisum = phisum.sum()\n",
    "    ax.text(0.95, 0.05, f'{phisum:,.1f}', \n",
    "        transform=ax.transAxes, \n",
    "        fontsize=12, \n",
    "        verticalalignment='bottom', \n",
    "        horizontalalignment='right',\n",
    "        bbox=dict(facecolor='white', alpha=0.5))\n",
    "    \n",
    "    return "
   ]
  },
  {
   "cell_type": "code",
   "execution_count": null,
   "id": "52",
   "metadata": {},
   "outputs": [],
   "source": [
    "hds =  rei.query(\"Group.str.contains('hds') or Group.str.contains('gwle')\").copy()\n",
    "hds.loc[:,'date'] = pd.to_datetime(hds.Name.apply(lambda x:x.split(\"_date:\")[-1]))\n",
    "\n",
    "hds.loc[:,'station'] = hds.Name.apply(lambda x: x.split(':')[4].split(':')[0].replace('_date',''))\n",
    "\n",
    "for station, group in hds.groupby('station'):\n",
    "\n",
    "    fig, ax, axmap = create_figure(station)\n",
    "\n",
    "    if group.query(\"Group.str.contains('gwle_abs') & Weight>0 \").shape[0]>0:\n",
    "        ax = group.query(\"Group.str.contains('gwle_abs') & Weight>0 \").plot(x = 'date', y = 'Modelled', label = 'gwle_abs - modeled', ax = ax)\n",
    "        group.query(\"Group.str.contains('gwle_abs') & Weight>0 \").plot(x = 'date', y = 'Measured', ax = ax, label = \"gwle_abs - 'Observed'\")\n",
    "\n",
    "        \n",
    "    if group.query(\"Group.str.contains('hds') & Weight>0 \").shape[0]>0:\n",
    "        if ax is None:\n",
    "            fig, ax = plt.subplots()\n",
    "        group.query(\"Group.str.contains('hds') & Weight>0 \").plot(x = 'date', y = 'Modelled', ax = ax,  marker = 'o', label = 'hds - modeled')\n",
    "        group.query(\"Group.str.contains('hds') & Weight>0 \").plot(x = 'date', y = 'Measured',  ax = ax, marker = 'o',label = 'hds - Observed')\n",
    "\n",
    "\n",
    "    if group.query(\"Group.str.contains('gwle_roll18month') & Weight>0 \").shape[0]>0:\n",
    "        if ax is None:\n",
    "            fig, ax = plt.subplots()\n",
    "        group.query(\"Group.str.contains('gwle_roll18month') & Weight>0 \").plot(x = 'date', y = 'Modelled', ax = ax,  mfc = 'w', lw = .2,\n",
    "                                                            marker = 'o', label = 'gwle_roll18month - modeled')\n",
    "        group.query(\"Group.str.contains('gwle_roll18month') & Weight>0 \").plot(x = 'date', y = 'Measured',  ax = ax,mfc = 'w', lw = .2,\n",
    "                                                            marker = 'o',label = 'gwle_roll18month - Observed')\n",
    "\n",
    "        \n",
    "    if group.query(\"Group.str.contains('gwle_roll_') & Weight>0 \").shape[0]>0:\n",
    "        if ax is None:\n",
    "            fig, ax = plt.subplots()\n",
    "        group.query(\"Group.str.contains('gwle_roll_') & Weight>0 \").plot(x = 'date', y = 'Modelled', ax = ax,  mfc = 'orange',\n",
    "                                                            marker = 'o', label = 'gwle roll - modeled')\n",
    "        group.query(\"Group.str.contains('gwle_roll_') & Weight>0 \").plot(x = 'date', y = 'Measured',  ax = ax,mfc = 'orange',\n",
    "                                                            marker = 'o',label = 'gwle roll - Observed')\n",
    "\n",
    "\n",
    "\n",
    "\n",
    "    if group.query(\"Group.str.contains('gwle_majordrawdown & Weight>0 ') & Weight>0\").shape[0]>0:\n",
    "        if ax is None:\n",
    "            fig, ax = plt.subplots()\n",
    "        group.query(\"Group.str.contains('gwle_majordrawdown') & Weight>0\").plot(x = 'date', y = 'Modelled', ax = ax,  mfc = 'k',\n",
    "                                                            marker = 'o', label = 'gwle_majordrawdown - modeled')\n",
    "        group.query(\"Group.str.contains('gwle_majordrawdown') & Weight>0\").plot(x = 'date', y = 'Measured',  ax = ax,mfc = 'k',\n",
    "                                                            marker = 'o',label = 'gwle_majordrawdown - Observed')\n",
    "        \n",
    "    get_phi(group,  ax )\n",
    "    \n",
    "    zone = group.Group.unique()[0].split(\"_\")[-1]\n",
    "    print(station+' '+ zone)\n",
    "    ax.set_title(station+' '+ group.Group.unique()[0].split(\"_\")[-1])\n",
    "\n",
    "    fmt_axis(ax, station, 'Heads')\n",
    "\n",
    "    print(os.path.join(out_folder, 'hydros','main', zone, station+'.png'))\n",
    "    os.makedirs(os.path.join(out_folder, 'hydros','main', zone), exist_ok = True)\n",
    "    plt.savefig(os.path.join(out_folder, 'hydros','main', zone, station+'.png'))\n",
    "    os.makedirs(os.path.join(out_folder, 'hydros','main', 'all'), exist_ok = True)\n",
    "    plt.savefig(os.path.join(out_folder, 'hydros','main', 'all', station+'.png'))\n",
    "    plt.close()\n",
    "    "
   ]
  },
  {
   "attachments": {},
   "cell_type": "markdown",
   "id": "53",
   "metadata": {},
   "source": []
  },
  {
   "cell_type": "markdown",
   "id": "54",
   "metadata": {},
   "source": [
    "# make map of starting head residuals"
   ]
  },
  {
   "cell_type": "code",
   "execution_count": null,
   "id": "55",
   "metadata": {},
   "outputs": [],
   "source": [
    "import mapclassify"
   ]
  },
  {
   "cell_type": "code",
   "execution_count": null,
   "id": "56",
   "metadata": {},
   "outputs": [],
   "source": [
    "hds =  rei.query(\"Group.str.contains('gwle_abs')\").copy()\n",
    "hds.loc[:,'date'] = pd.to_datetime(hds.Name.apply(lambda x:x.split(\"_date:\")[-1]))\n",
    "\n",
    "hds.loc[:,'station'] = hds.Name.apply(lambda x: x.split(':')[4].split(':')[0].replace('_date',''))\n",
    "\n",
    "\n",
    "hds = pd.merge(hds, info, on = 'station', how = 'left')\n",
    "\n",
    "hds = hds.loc[(hds.date.dt.year==1975) &( hds.date.dt.month==2) ]\n",
    "\n",
    "head_diff = gpd.GeoDataFrame(hds, geometry = gpd.points_from_xy(hds.Easting, hds.Northing), crs = 2226)\n",
    "\n",
    "q10 = mapclassify.Quantiles(head_diff.loc[:,'Residual'].abs(), k=10)\n",
    "head_diff = head_diff.assign(cl=q10.yb)"
   ]
  },
  {
   "cell_type": "code",
   "execution_count": null,
   "id": "57",
   "metadata": {},
   "outputs": [],
   "source": [
    "head_diff"
   ]
  },
  {
   "cell_type": "code",
   "execution_count": null,
   "id": "58",
   "metadata": {},
   "outputs": [],
   "source": [
    "import cartopy.crs as ccrs"
   ]
  },
  {
   "cell_type": "code",
   "execution_count": null,
   "id": "59",
   "metadata": {},
   "outputs": [],
   "source": [
    "fig = plt.figure(figsize = (8.5,11))\n",
    "\n",
    "gs1 = GridSpec(1, 1,  left=0.05, right=0.48, wspace=0.05)\n",
    "\n",
    "\n",
    "\n",
    "ax3 = fig.add_subplot(gs1[:, :], projection = ccrs.epsg(2226))\n",
    "ax3.tick_params(labelbottom=False, labelleft=False)\n",
    "sv_budget.sv_budget.sv_mod_map(simple = True,ax = ax3)\n",
    "\n",
    "helpers.plot_zones(ml,fig = fig, ax = ax3, zones = zones, label = True)"
   ]
  },
  {
   "cell_type": "code",
   "execution_count": null,
   "id": "60",
   "metadata": {},
   "outputs": [],
   "source": []
  },
  {
   "cell_type": "code",
   "execution_count": null,
   "id": "61",
   "metadata": {},
   "outputs": [],
   "source": [
    "from matplotlib.colors import TwoSlopeNorm\n",
    "# normalize color\n",
    "vmin, vmax, vcenter = head_diff.loc[:,'Residual'].min(), head_diff.loc[:,'Residual'].max(), 0\n",
    "norm = TwoSlopeNorm(vmin=-100, vcenter=vcenter, vmax=100)\n",
    "# create a normalized colorbar\n",
    "cmap = 'RdBu'\n",
    "cbar = plt.cm.ScalarMappable(norm=norm, cmap=cmap)\n",
    "\n",
    "## plot all obbs from all layers\n",
    "fig = plt.figure(dpi = 250)\n",
    "ax = sv_budget.sv_budget.sv_mod_map(simple = True,figsize = (8.5,11))\n",
    "ax.set_title('Deep Wells')\n",
    "helpers.plot_zones(ml,fig = fig, ax = ax, zones = zones, label = False)\n",
    "head_diff.loc[:,'ms'] = head_diff.loc[:,'cl']*5+5\n",
    "head_diff.query(\"Depth=='Deep'\").plot(ax=ax, column = 'Residual', markersize ='ms', cmap=cmap, norm=norm, ec = 'k' )\n",
    "fig.colorbar(cbar, ax=ax,shrink = .5, extend = 'both')\n",
    "\n",
    "_ = ph.label_points(ax, head_diff.query(\"Depth=='Deep'\"), 'Residual',already_str=False, fmt = '+.0f', iter_limit= 1000,\n",
    "                                        kwds_dict={'x':head_diff.query(\"Depth=='Deep'\").geometry.x.values,'y':head_diff.query(\"Depth=='Deep'\").geometry.y.values,\n",
    "                                'avoid_self':True,\n",
    "                                'expand':(1.5,1.5)})\n",
    "\n",
    "plt.savefig(os.path.join(out_folder,'mean_map_resid_deep.png'))"
   ]
  },
  {
   "cell_type": "code",
   "execution_count": null,
   "id": "62",
   "metadata": {},
   "outputs": [],
   "source": [
    "\n",
    "\n",
    "\n",
    "## plot all obbs from all layers\n",
    "fig = plt.figure(dpi = 250)\n",
    "ax = sv_budget.sv_budget.sv_mod_map(simple = True,figsize = (8.5,11))\n",
    "ax.set_title('Shallow Wells')\n",
    "helpers.plot_zones(ml,fig = fig, ax = ax, zones = zones, label = False)\n",
    "head_diff.loc[:,'ms'] = head_diff.loc[:,'cl']*5+5\n",
    "head_diff.query(\"Depth=='Shallow'\").plot(ax=ax, column = 'Residual', markersize ='ms', cmap=cmap, norm=norm, ec = 'k' )\n",
    "_ = ph.label_points(ax, head_diff.query(\"Depth=='Shallow'\"), 'Residual',already_str=False, fmt = '+.0f', iter_limit= 10000,\n",
    "                                        kwds_dict={'x':head_diff.query(\"Depth=='Shallow'\").geometry.x.values,\n",
    "                                                   'y':head_diff.query(\"Depth=='Shallow'\").geometry.y.values,\n",
    "                                'avoid_self':False,\n",
    "                                'expand':(2.9,1.9)})\n",
    "\n",
    "fig.colorbar(cbar, ax=ax,shrink = .5, extend = 'both')\n",
    "\n",
    "# _ = ph.label_points(ax, head_diff.query(\"Depth=='Shallow'\"), 'Residual',already_str=False, fmt = '+.0f', iter_limit= 1000)\n",
    "\n",
    "\n",
    "plt.savefig(os.path.join(out_folder,'mean_map_resid_shallow.png'))\n"
   ]
  },
  {
   "cell_type": "code",
   "execution_count": null,
   "id": "63",
   "metadata": {},
   "outputs": [],
   "source": [
    "rei.query(\"Group=='irr_depth'\")"
   ]
  },
  {
   "cell_type": "code",
   "execution_count": null,
   "id": "64",
   "metadata": {},
   "outputs": [],
   "source": [
    "import sys\n",
    "from pathlib import Path\n",
    "from tempfile import TemporaryDirectory\n",
    "\n",
    "import matplotlib as mpl\n",
    "import matplotlib.pyplot as plt\n",
    "import numpy as np\n",
    "import pandas as pd\n",
    "\n",
    "proj_root = Path.cwd().parent.parent\n",
    "\n",
    "import flopy\n",
    "\n",
    "print(sys.version)\n",
    "print(f\"numpy version: {np.__version__}\")\n",
    "print(f\"matplotlib version: {mpl.__version__}\")\n",
    "print(f\"pandas version: {pd.__version__}\")\n",
    "print(f\"flopy version: {flopy.__version__}\")\n",
    "\n"
   ]
  },
  {
   "cell_type": "code",
   "execution_count": null,
   "id": "65",
   "metadata": {},
   "outputs": [],
   "source": [
    "# Create a ZoneBudget object and get the budget record array\n",
    "zb = flopy.utils.ZoneBudget(cbc_f, zon, kstpkper=(0, 1096))\n",
    "zb.get_budget()"
   ]
  },
  {
   "cell_type": "code",
   "execution_count": null,
   "id": "66",
   "metadata": {},
   "outputs": [],
   "source": [
    "zones = np.genfromtxt(zone_file, dtype=int)\n",
    "\n",
    "plt.imshow(zones)"
   ]
  },
  {
   "cell_type": "code",
   "execution_count": null,
   "id": "67",
   "metadata": {},
   "outputs": [],
   "source": [
    "bas.geometry."
   ]
  },
  {
   "cell_type": "code",
   "execution_count": null,
   "id": "68",
   "metadata": {},
   "outputs": [],
   "source": []
  },
  {
   "cell_type": "code",
   "execution_count": null,
   "id": "69",
   "metadata": {},
   "outputs": [],
   "source": [
    "fb_depth.mean().to_dict()"
   ]
  },
  {
   "cell_type": "code",
   "execution_count": null,
   "id": "70",
   "metadata": {},
   "outputs": [],
   "source": [
    "\n",
    "\n",
    "fb_depth = forward_run.crop_irr_depth(workspace)\n",
    "fb_total = forward_run.total_irr_demand(workspace)\n",
    "\n",
    "conda_scripts.plot_help.stackedbar_wdates(fb_depth)\n",
    "conda_scripts.plot_help.stackedbar_wdates(fb_total)\n"
   ]
  },
  {
   "cell_type": "code",
   "execution_count": null,
   "id": "71",
   "metadata": {},
   "outputs": [],
   "source": [
    "\n",
    "len('NATIVE_VEGETATION_RI')"
   ]
  },
  {
   "cell_type": "code",
   "execution_count": null,
   "id": "72",
   "metadata": {},
   "outputs": [],
   "source": []
  },
  {
   "cell_type": "code",
   "execution_count": null,
   "id": "73",
   "metadata": {},
   "outputs": [],
   "source": []
  },
  {
   "cell_type": "code",
   "execution_count": null,
   "id": "74",
   "metadata": {},
   "outputs": [],
   "source": []
  },
  {
   "cell_type": "code",
   "execution_count": null,
   "id": "75",
   "metadata": {},
   "outputs": [],
   "source": [
    "plt.imshow(zone[1])"
   ]
  },
  {
   "cell_type": "code",
   "execution_count": null,
   "id": "76",
   "metadata": {},
   "outputs": [],
   "source": [
    "\n",
    "import time"
   ]
  },
  {
   "cell_type": "code",
   "execution_count": null,
   "id": "77",
   "metadata": {},
   "outputs": [],
   "source": []
  },
  {
   "cell_type": "code",
   "execution_count": null,
   "id": "78",
   "metadata": {},
   "outputs": [],
   "source": [
    "\n"
   ]
  },
  {
   "cell_type": "code",
   "execution_count": null,
   "id": "79",
   "metadata": {},
   "outputs": [],
   "source": []
  },
  {
   "cell_type": "code",
   "execution_count": null,
   "id": "80",
   "metadata": {},
   "outputs": [],
   "source": [
    "zb.loc[:,zb.filter(regex = 'TO_').columns]= zb.loc[:,zb.filter(regex = 'TO_').columns]*-1"
   ]
  },
  {
   "cell_type": "code",
   "execution_count": null,
   "id": "81",
   "metadata": {},
   "outputs": [],
   "source": [
    "zb = zb.drop(columns = {'FROM_STORAGE','TO_STORAGE','TOTAL_IN','TOTAL_OUT'}, errors = 'ignore' )"
   ]
  },
  {
   "cell_type": "code",
   "execution_count": null,
   "id": "82",
   "metadata": {},
   "outputs": [],
   "source": [
    "\n",
    "conda_scripts.plot_help.stackedbar_wdates(zb.filter(regex = \"FARM\"), colormap = 'tab20')"
   ]
  },
  {
   "cell_type": "code",
   "execution_count": null,
   "id": "83",
   "metadata": {},
   "outputs": [],
   "source": [
    "conda_scripts.plot_help.stackedbar_wdates(zb, colormap = 'tab20')"
   ]
  },
  {
   "cell_type": "code",
   "execution_count": null,
   "id": "84",
   "metadata": {},
   "outputs": [],
   "source": [
    "from flopy.utils import ZoneBudget\n",
    "\n",
    "z = np.genfromtxt(os.path.join(ml.model_ws, 'model_arrays', 'zonation_3.csv'), delimiter = ' ')\n",
    "\n",
    "\n",
    "nlay, nrow, ncol = zon.shape\n",
    "\n",
    "fig = plt.figure(figsize=(10, 4))\n",
    "\n",
    "for lay in range(nlay):\n",
    "    ax = fig.add_subplot(1, nlay, lay + 1)\n",
    "    im = ax.pcolormesh(zon[lay, ::-1, :])\n",
    "    cbar = plt.colorbar(im)\n",
    "    plt.gca().set_aspect(\"equal\")\n",
    "\n",
    "plt.show()\n",
    "\n"
   ]
  },
  {
   "cell_type": "code",
   "execution_count": null,
   "id": "85",
   "metadata": {},
   "outputs": [],
   "source": [
    "def zone_bud(ml):\n",
    "\n",
    "    \n",
    "\n",
    "    \n",
    "    "
   ]
  },
  {
   "cell_type": "code",
   "execution_count": null,
   "id": "86",
   "metadata": {},
   "outputs": [],
   "source": [
    "pst.parameter_data.query(\"parnme.str.contains('drn')\").tail(20)"
   ]
  },
  {
   "cell_type": "code",
   "execution_count": null,
   "id": "87",
   "metadata": {},
   "outputs": [],
   "source": []
  }
 ],
 "metadata": {
  "kernelspec": {
   "display_name": "Python 3 (ipykernel)",
   "language": "python",
   "name": "python3"
  },
  "language_info": {
   "codemirror_mode": {
    "name": "ipython",
    "version": 3
   },
   "file_extension": ".py",
   "mimetype": "text/x-python",
   "name": "python",
   "nbconvert_exporter": "python",
   "pygments_lexer": "ipython3",
   "version": "3.9.19"
  }
 },
 "nbformat": 4,
 "nbformat_minor": 5
}
