{
 "cells": [
  {
   "cell_type": "code",
   "execution_count": null,
   "id": "dbe0be4a-4096-425e-b0b8-409b70bd3a6d",
   "metadata": {
    "editable": true,
    "slideshow": {
     "slide_type": ""
    },
    "tags": []
   },
   "outputs": [],
   "source": [
    "import pyemu\n",
    "import conda_scripts.load_datasets as lsd\n",
    "import os\n",
    "import pandas as pd"
   ]
  },
  {
   "cell_type": "code",
   "execution_count": null,
   "id": "ea3d5202-04ba-4031-95ba-6a504ab9dcd3",
   "metadata": {},
   "outputs": [],
   "source": [
    "workspace = lsd.model_info.get_mod('son', True)\n",
    "workspace"
   ]
  },
  {
   "cell_type": "code",
   "execution_count": null,
   "id": "12aaae3b-ab5d-4e4b-925d-041586367177",
   "metadata": {
    "editable": true,
    "slideshow": {
     "slide_type": ""
    },
    "tags": []
   },
   "outputs": [],
   "source": [
    "template_ws = os.path.join(\"temp\")"
   ]
  },
  {
   "cell_type": "code",
   "execution_count": null,
   "id": "7224285d-cf51-4345-9023-e606fb227ce5",
   "metadata": {
    "editable": true,
    "slideshow": {
     "slide_type": ""
    },
    "tags": []
   },
   "outputs": [],
   "source": [
    "\n",
    "def read_sfr(folder):\n",
    "    # Step 1: Open the text file and read lines\n",
    "    f = os.path.join(folder,'sv_GSP.sfr')\n",
    "    with open(f, 'r') as file:\n",
    "        lines = file.readlines()\n",
    "\n",
    "    # Step 2: Extract the number n from the 4th line after splitting by spaces\n",
    "    n = int(lines[1].split()[0])\n",
    "    n = abs(n)\n",
    "    print(n)\n",
    "    # Step 3: Read the next n rows from a CSV file using pandas\n",
    "    # Assuming the CSV file is named 'data.csv' and is in the same directory\n",
    "    csv_data = pd.read_csv(f, skiprows=2, nrows=n, sep ='\\s+', names = [f'{i}' for i in range(10)],comment  = '#')\n",
    "\n",
    "    c = csv_data.loc[:,'3']<=23\n",
    "    csv_data.loc[c,'9'] = ' @       sfrseg' +  csv_data.loc[c,'3'].astype(str)+'    @'\n",
    "    \n",
    "    print(csv_data.head())\n",
    "\n",
    "\n",
    "    with open(os.path.join(folder, 'templates', 'sv_GSP.sfr.tpl'), 'w') as w:\n",
    "        w.write(\"ptf @\\n\")\n",
    "        w.write(lines[0])\n",
    "        w.write(lines[1])\n",
    "        csv_data.to_csv(w, lineterminator='\\n', index=False, header=False, sep='\\t')\n",
    "\n",
    "        for line in lines[n+2:]:\n",
    "\n",
    "            w.write(line)\n",
    "\n",
    "read_sfr(template_ws)\n",
    "read_sfr('temp')"
   ]
  },
  {
   "cell_type": "code",
   "execution_count": null,
   "id": "225b591b-5b1b-4120-b3b5-09945cdc47ab",
   "metadata": {
    "editable": true,
    "slideshow": {
     "slide_type": ""
    },
    "tags": []
   },
   "outputs": [],
   "source": [
    "l = [f'{i}' for i in range(10)]"
   ]
  },
  {
   "cell_type": "code",
   "execution_count": null,
   "id": "e7d47e1e-6dbc-44d2-bd8d-15c9d51f6d34",
   "metadata": {},
   "outputs": [],
   "source": [
    "l[3-1:4]"
   ]
  },
  {
   "cell_type": "code",
   "execution_count": null,
   "id": "4a457ba0-79fe-42d4-bf44-9c36a1f194eb",
   "metadata": {},
   "outputs": [],
   "source": []
  }
 ],
 "metadata": {
  "kernelspec": {
   "display_name": "Python 3 (ipykernel)",
   "language": "python",
   "name": "python3"
  },
  "language_info": {
   "codemirror_mode": {
    "name": "ipython",
    "version": 3
   },
   "file_extension": ".py",
   "mimetype": "text/x-python",
   "name": "python",
   "nbconvert_exporter": "python",
   "pygments_lexer": "ipython3",
   "version": "3.9.19"
  }
 },
 "nbformat": 4,
 "nbformat_minor": 5
}
