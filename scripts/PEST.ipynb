{
 "cells": [
  {
   "cell_type": "code",
   "execution_count": null,
   "id": "0",
   "metadata": {
    "editable": true,
    "slideshow": {
     "slide_type": ""
    },
    "tags": []
   },
   "outputs": [],
   "source": [
    "import pyemu\n",
    "import conda_scripts.load_datasets as lsd\n",
    "import os\n",
    "import pandas as pd\n",
    "import numpy as np\n",
    "import conda_scripts\n",
    "import forward_run\n",
    "import shutil\n",
    "import matplotlib.pyplot as plt\n",
    "from shutil import ignore_patterns"
   ]
  },
  {
   "cell_type": "markdown",
   "id": "1",
   "metadata": {},
   "source": [
    "# Conversation with Jeremy white December 12 2024\n",
    "\n",
    "We spoke about my recent experiments. These experiments include just using machine learning observation IE the GWLE. Changing the IES control variables such as parameter ensemble, bad Phi Sigma, subset size, and multimodal alpha. I also described how the increasing of the bounds for the model input arrays did not seem to have a huge effect on model outcomes. Also discussed decreasing nonlinearity in mountain front areas by increasing layer thicknesses.\n",
    "\n",
    "# path forward\n",
    "\n",
    "## __first approach__\n",
    "1) perform a run with only head observations\n",
    "2) use only 1 well per zone per depth\n",
    "3) everything else set to zero\n",
    "4) add extra weight to drawdowns with big values\n",
    "5) use 18-month GWLE\n",
    "\n",
    "## __second option__\n",
    "1) explore how a derivative based option like SVD performs\n",
    "2) use the base of a well calibrated model posterior as inputs\n",
    "3) need to simplify model params\n",
    "4) \n",
    " \n",
    "\n"
   ]
  },
  {
   "cell_type": "markdown",
   "id": "2",
   "metadata": {},
   "source": [
    "# convo with marcus 9/12/2024\n",
    "\n",
    "- sustainable yield\n",
    "- set initial conditions based on like 1980\n",
    "- \n",
    "intera coming up with current cost/benefits calculations\n"
   ]
  },
  {
   "cell_type": "markdown",
   "id": "3",
   "metadata": {},
   "source": [
    "# convo with jeremy white\n",
    "\n",
    "# general tasks\n",
    "- seawater intrusion proxy (GHB flows?) ✔️\n",
    "- add zone values to HOBS files values ✔️\n",
    "- increase upper bounds for hk/vk ✔️\n",
    "- auto-correlated noise -- need to create noise itself\n",
    "\n",
    "# owhm inputs\n",
    "- crop coefficients ✔️\n",
    "- OFE ✔️\n",
    "\n",
    "\n",
    "# other params?\n",
    "- ghbk ✔️\n",
    "\n",
    "# sfr\n",
    "- flow accumulation ✔️\n",
    "- increase weights for low flows (1/flow) ✔️\n",
    "- other flow derivatives ✔️\n",
    "- summer lows ✔️\n",
    "\n",
    "# waterlevel \n",
    "- create derivative of wl trends. maybe use endpoints or 5-year moving average ✔️\n",
    "- emphasize drawdowns\n",
    "\n",
    "# added HK estimates as observations ✔️\n",
    "\n",
    "# added zone budget as observations ✔️\n",
    "\n",
    "# added irrigation depth as observations ✔️\n"
   ]
  },
  {
   "cell_type": "code",
   "execution_count": null,
   "id": "4",
   "metadata": {
    "editable": true,
    "slideshow": {
     "slide_type": ""
    },
    "tags": []
   },
   "outputs": [],
   "source": [
    "workspace = lsd.model_info.get_mod('son', True)\n",
    "workspace"
   ]
  },
  {
   "cell_type": "code",
   "execution_count": null,
   "id": "5",
   "metadata": {},
   "outputs": [],
   "source": [
    "template_ws = \"pestaws_lager\""
   ]
  },
  {
   "cell_type": "code",
   "execution_count": null,
   "id": "6",
   "metadata": {},
   "outputs": [],
   "source": [
    "import time"
   ]
  },
  {
   "cell_type": "code",
   "execution_count": null,
   "id": "7",
   "metadata": {},
   "outputs": [],
   "source": []
  },
  {
   "cell_type": "code",
   "execution_count": null,
   "id": "8",
   "metadata": {},
   "outputs": [],
   "source": [
    "import flopy"
   ]
  },
  {
   "cell_type": "code",
   "execution_count": null,
   "id": "9",
   "metadata": {},
   "outputs": [],
   "source": [
    "# hds = flopy.utils.binaryfile.HeadFile(os.path.join(template_ws, 'output','sv_model_grid_6layers.hds'))\n",
    "# for i in range(6):\n",
    "#     out = os.path.join(template_ws,'init_heads', f\"init_heads_lay{i+1}.dat\" )\n",
    "#     print(out)\n",
    "#     x = hds.get_data(totim = 3652.0)[i]\n",
    "\n",
    "#     np.savetxt(out, x, fmt =\"%.0f\" )"
   ]
  },
  {
   "cell_type": "code",
   "execution_count": null,
   "id": "10",
   "metadata": {},
   "outputs": [],
   "source": []
  },
  {
   "cell_type": "code",
   "execution_count": null,
   "id": "11",
   "metadata": {},
   "outputs": [],
   "source": []
  },
  {
   "cell_type": "code",
   "execution_count": null,
   "id": "12",
   "metadata": {},
   "outputs": [],
   "source": []
  },
  {
   "cell_type": "markdown",
   "id": "13",
   "metadata": {},
   "source": [
    "# create a local copy without git folders"
   ]
  },
  {
   "cell_type": "code",
   "execution_count": null,
   "id": "14",
   "metadata": {},
   "outputs": [],
   "source": []
  },
  {
   "cell_type": "markdown",
   "id": "15",
   "metadata": {},
   "source": [
    "setup a `local_copy` that can then be copied from for pf"
   ]
  },
  {
   "cell_type": "code",
   "execution_count": null,
   "id": "16",
   "metadata": {},
   "outputs": [],
   "source": [
    "recopy_to_local_copy = False\n",
    "re_process_outputs= True"
   ]
  },
  {
   "cell_type": "code",
   "execution_count": null,
   "id": "17",
   "metadata": {},
   "outputs": [],
   "source": []
  },
  {
   "cell_type": "code",
   "execution_count": null,
   "id": "18",
   "metadata": {},
   "outputs": [],
   "source": [
    "# Define the source and destination folders\n",
    "src_folder = workspace\n",
    "dest_folder = 'local_copy'\n",
    "\n",
    "if recopy_to_local_copy:  \n",
    "    if not os.path.exists(dest_folder):\n",
    "        # Create parent directory if it doesn't exist\n",
    "\n",
    "        # if not os.path.exists(dest_folder):\n",
    "        #     os.makedirs(dest_folder)\n",
    "        print(f'creating new {dest_folder}/dest_folder')\n",
    "        pass\n",
    "    else:\n",
    "        print('erasing dest_folder')\n",
    "        try:\n",
    "            pyemu.os.remove(dest_folder,)\n",
    "        except:\n",
    "            print(f'coudnt remove dest folder...{dest_folder}')\n",
    "    \n",
    "    # Copy the directory tree from src to dest, ignoring the .git directory\n",
    "    shutil.copytree(src_folder, dest_folder, ignore=ignore_patterns('.git', '.git/*'))\n",
    "\n",
    "\n",
    "workspace= dest_folder"
   ]
  },
  {
   "cell_type": "markdown",
   "id": "19",
   "metadata": {},
   "source": [
    "# load pest and copy to _dest_folder_"
   ]
  },
  {
   "cell_type": "code",
   "execution_count": null,
   "id": "20",
   "metadata": {},
   "outputs": [],
   "source": [
    "print(f'the current directory is: {template_ws}')"
   ]
  },
  {
   "cell_type": "code",
   "execution_count": null,
   "id": "21",
   "metadata": {},
   "outputs": [],
   "source": [
    "import importlib\n",
    "importlib.reload(forward_run)"
   ]
  },
  {
   "cell_type": "markdown",
   "id": "22",
   "metadata": {},
   "source": [
    "# make sure post-processing is re-done"
   ]
  },
  {
   "cell_type": "code",
   "execution_count": null,
   "id": "23",
   "metadata": {},
   "outputs": [],
   "source": [
    "if re_process_outputs:\n",
    "    for foldr in [workspace, 'local_copy']:\n",
    "        forward_run.post_process(foldr)\n",
    "\n",
    "\n",
    "\n",
    "\n",
    "# Define the folder names to check and delete\n",
    "folders_to_check = ['mult', 'org']\n",
    "\n",
    "for folder in folders_to_check:\n",
    "    folder_path = os.path.join(workspace, folder)\n",
    "    \n",
    "    # Check if the folder exists\n",
    "    if os.path.exists(folder_path) and os.path.isdir(folder_path):\n",
    "        # Delete the folder and its contents\n",
    "        shutil.rmtree(folder_path)\n",
    "        print(f\"Deleted folder: {folder_path}\")\n",
    "    else:\n",
    "        print(f\"Folder {folder} not found in {workspace}.\")"
   ]
  },
  {
   "cell_type": "code",
   "execution_count": null,
   "id": "24",
   "metadata": {},
   "outputs": [],
   "source": []
  },
  {
   "cell_type": "code",
   "execution_count": null,
   "id": "25",
   "metadata": {
    "editable": true,
    "slideshow": {
     "slide_type": ""
    },
    "tags": []
   },
   "outputs": [],
   "source": [
    "\n",
    "start_datetime=\"12-1-1969\"\n",
    "# instantiate PstFrom\n",
    "pf = pyemu.utils.PstFrom(original_d='local_copy', # where the model is stored\n",
    "                            new_d=template_ws, # the PEST template folder\n",
    "                            remove_existing=True, # ensures a clean start\n",
    "                            longnames=False, # set False if using PEST/PEST_HP\n",
    "                            # spatial_reference=sr, #the spatial reference we generated earlier\n",
    "                            zero_based=False, # does the MODEL use zero based indices? For example, MODFLOW does NOT\n",
    "                            start_datetime=start_datetime, # required when specifying temporal correlation between parameters\n",
    "                            echo=True) # to stop PstFrom from writting lots of infromation to the notebook; experiment by setting it as True to see the difference; usefull for troubleshooting\n",
    "\n"
   ]
  },
  {
   "cell_type": "code",
   "execution_count": null,
   "id": "26",
   "metadata": {},
   "outputs": [],
   "source": [
    "importlib.reload(conda_scripts)"
   ]
  },
  {
   "cell_type": "code",
   "execution_count": null,
   "id": "27",
   "metadata": {
    "editable": true,
    "slideshow": {
     "slide_type": ""
    },
    "tags": []
   },
   "outputs": [],
   "source": [
    "ml = conda_scripts.sv_budget.load_sv_model.get_model(template_ws)"
   ]
  },
  {
   "cell_type": "code",
   "execution_count": null,
   "id": "28",
   "metadata": {
    "editable": true,
    "slideshow": {
     "slide_type": ""
    },
    "tags": []
   },
   "outputs": [],
   "source": [
    "if os.path.exists(os.path.join(template_ws, 'pp2024')):\n",
    "    pass\n",
    "else:\n",
    "    os.mkdir(os.path.join(template_ws, 'pp2024'))\n",
    "\n",
    "if os.path.exists(os.path.join(template_ws, 'pp2024_out')):\n",
    "    pass\n",
    "else:\n",
    "    os.mkdir(os.path.join(template_ws, 'pp2024_out'))\n",
    "\n",
    "if not os.path.exists(os.path.join(template_ws, '.git')):\n",
    "    pass\n",
    "else:\n",
    "    print('erasing git')\n",
    "    pyemu.os.remove(os.path.join(template_ws, '.git'))\n"
   ]
  },
  {
   "cell_type": "code",
   "execution_count": null,
   "id": "29",
   "metadata": {
    "editable": true,
    "slideshow": {
     "slide_type": ""
    },
    "tags": []
   },
   "outputs": [],
   "source": []
  },
  {
   "cell_type": "code",
   "execution_count": null,
   "id": "30",
   "metadata": {
    "editable": true,
    "slideshow": {
     "slide_type": ""
    },
    "tags": []
   },
   "outputs": [],
   "source": []
  },
  {
   "cell_type": "code",
   "execution_count": null,
   "id": "31",
   "metadata": {
    "editable": true,
    "slideshow": {
     "slide_type": ""
    },
    "tags": []
   },
   "outputs": [],
   "source": []
  },
  {
   "cell_type": "code",
   "execution_count": null,
   "id": "32",
   "metadata": {},
   "outputs": [],
   "source": [
    "import importlib"
   ]
  },
  {
   "cell_type": "code",
   "execution_count": null,
   "id": "33",
   "metadata": {},
   "outputs": [],
   "source": [
    "importlib.reload(forward_run)"
   ]
  },
  {
   "cell_type": "code",
   "execution_count": null,
   "id": "34",
   "metadata": {
    "editable": true,
    "slideshow": {
     "slide_type": ""
    },
    "tags": []
   },
   "outputs": [],
   "source": [
    "# def summarize_budget(folder):\n",
    "#     b = os.path.join(folder,'output',\"Budget.txt\")\n",
    "#     bud = pd.read_csv(b, sep = '\\s+') \n",
    "\n",
    "#     bud = bud.groupby(pd.to_datetime(bud.DATE_START).dt.year).sum()\n",
    "\n",
    "#     bud = bud.loc[:, ['STORAGE_IN', 'STORAGE_OUT',\n",
    "#        'WEL_V1_OUT', 'GHB_IN', 'RCH_IN', 'DRT_OUT', 'SFR_IN', 'SFR_OUT',\n",
    "#        'MNW2_IN', 'MNW2_OUT', 'FMP_WELLS_OUT', 'FMP_FNR_IN', 'FMP_FNR_OUT',\n",
    "#        'IN_OUT', 'PERCENT_ERROR'], ]\n",
    "\n",
    "#     bud.to_csv(b.replace('Budget','Budget_pest'))\n",
    "#     bud = bud.sum().to_frame('sum')\n",
    "#     bud.index.name = 'name'\n",
    "#     bud.insert(0,'ref',1)\n",
    "#     bud.to_csv(b.replace('Budget','Budget_pest_summary'))\n",
    "#     return bud\n",
    "\n",
    "bud = forward_run.summarize_budget(template_ws)"
   ]
  },
  {
   "cell_type": "code",
   "execution_count": null,
   "id": "35",
   "metadata": {},
   "outputs": [],
   "source": [
    "# template_ws = os.path.join(\"freyberg6_template\")\n",
    "\n",
    "flx_sum = pf.add_observations(os.path.join('output',\"Budget_pest_summary.txt\"), # the model output file to read\n",
    "                             # new_d=template_ws, # the PEST template folder,\n",
    "                            insfile=os.path.join('output',\"Budget_pest_summary.txt.ins\"), #optional, the instruction file name\n",
    "                            index_cols=\"flux_term\", #column header to use as index; can also use column number (zero-based) instead of the header name\n",
    "                            use_cols=['summary'], #names of columns that include observation values; can also use column number (zero-based) instead of the header name\n",
    "                             ofile_sep = ',',\n",
    "                             obsgp = 'flux_sum',\n",
    "                            prefix=\"flux_sum\") #prefix to all observation names; choose something logical and easy to find. We use it later on to select obsevrations"
   ]
  },
  {
   "cell_type": "code",
   "execution_count": null,
   "id": "36",
   "metadata": {},
   "outputs": [],
   "source": [
    "flx_sum.loc[:,'weight'] = 0\n",
    "flx_sum"
   ]
  },
  {
   "cell_type": "markdown",
   "id": "37",
   "metadata": {},
   "source": [
    "# add irrigation volume"
   ]
  },
  {
   "cell_type": "code",
   "execution_count": null,
   "id": "38",
   "metadata": {},
   "outputs": [],
   "source": []
  },
  {
   "cell_type": "code",
   "execution_count": null,
   "id": "39",
   "metadata": {},
   "outputs": [],
   "source": []
  },
  {
   "cell_type": "code",
   "execution_count": null,
   "id": "40",
   "metadata": {},
   "outputs": [],
   "source": []
  },
  {
   "cell_type": "code",
   "execution_count": null,
   "id": "41",
   "metadata": {},
   "outputs": [],
   "source": [
    "# template_ws = os.path.join(\"freyberg6_template\")\n",
    "\n",
    "irr_depth = pf.add_observations(os.path.join('output',\"ByCrop_IRR_DEPTH_PEST.txt\"), # the model output file to read\n",
    "                             # new_d=template_ws, # the PEST template folder,\n",
    "                            insfile=os.path.join('output',\"ByCrop_IRR_DEPTH_PEST.txt.ins\"), #optional, the instruction file name\n",
    "                            index_cols=[\"date\",'CROP'], #column header to use as index; can also use column number (zero-based) instead of the header name\n",
    "                            use_cols=['term'], #names of columns that include observation values; can also use column number (zero-based) instead of the header name\n",
    "                             ofile_sep = ',',\n",
    "                             obsgp = 'irr_depth',\n",
    "                            prefix=\"irrdepth\") #prefix to all observation names; choose something logical and easy to find. We use it later on to select obsevrations\n",
    "\n",
    "# set weight to zero where there is no demand for a crop. the crop is likely not active in this PER\n",
    "irr_depth.loc[irr_depth.obsval==0,'weight'] = 0\n",
    "irr_depth.loc[irr_depth.obsval>0,'weight'] = 1\n",
    "irr_depth"
   ]
  },
  {
   "cell_type": "code",
   "execution_count": null,
   "id": "42",
   "metadata": {},
   "outputs": [],
   "source": [
    "# template_ws = os.path.join(\"freyberg6_template\")\n",
    "\n",
    "irr_sum = pf.add_observations(os.path.join('output',\"ByCrop_TOTAL_DEMAND_PEST.txt\"), # the model output file to read\n",
    "                             # new_d=template_ws, # the PEST template folder,\n",
    "                            insfile=os.path.join('output',\"ByCrop_TOTAL_DEMAND_PEST.txt.ins\"), #optional, the instruction file name\n",
    "                            index_cols=[\"date\",'CROP'], #column header to use as index; can also use column number (zero-based) instead of the header name\n",
    "                            use_cols=['term'], #names of columns that include observation values; can also use column number (zero-based) instead of the header name\n",
    "                             ofile_sep = ',',\n",
    "                             obsgp = 'irr_total_volume',\n",
    "                            prefix=\"irrtot\") #prefix to all observation names; choose something logical and easy to find. We use it later on to select obsevrations\n",
    "\n",
    "irr_sum.loc[:,'weight'] = 0\n",
    "irr_sum"
   ]
  },
  {
   "cell_type": "code",
   "execution_count": null,
   "id": "43",
   "metadata": {},
   "outputs": [],
   "source": [
    "forward_run.summarize_budget(template_ws)"
   ]
  },
  {
   "cell_type": "markdown",
   "id": "44",
   "metadata": {},
   "source": [
    "# add hk values"
   ]
  },
  {
   "cell_type": "code",
   "execution_count": null,
   "id": "45",
   "metadata": {},
   "outputs": [],
   "source": [
    "pf"
   ]
  },
  {
   "cell_type": "code",
   "execution_count": null,
   "id": "46",
   "metadata": {},
   "outputs": [],
   "source": [
    "# template_ws = os.path.join(\"freyberg6_template\")\n",
    "\n",
    "hydk_obs = pf.add_observations(os.path.join('hk_estimates',\"hk_estimates_for_pest_simulated_K.csv\"), # the model output file to read\n",
    "                             # new_d=template_ws, # the PEST template folder,\n",
    "                            insfile=os.path.join('hk_estimates',\"hk_estimates_for_pest_simulated_K.csv.ins\"), #optional, the instruction file name\n",
    "                            index_cols=[\"well\"], #column header to use as index; can also use column number (zero-based) instead of the header name\n",
    "                            use_cols=['hk_pest'], #names of columns that include observation values; can also use column number (zero-based) instead of the header name\n",
    "                             ofile_sep = ',',\n",
    "                             obsgp = 'hk_pest',\n",
    "                            prefix=\"hk_pest\") #prefix to all observation names; choose something logical and easy to find. We use it later on to select obsevrations\n",
    "\n",
    "hydk_obs.loc[:,'weight'] = 1.0\n",
    "hydk_obs"
   ]
  },
  {
   "cell_type": "markdown",
   "id": "47",
   "metadata": {},
   "source": [
    "# get aquifer arrays"
   ]
  },
  {
   "cell_type": "code",
   "execution_count": null,
   "id": "48",
   "metadata": {},
   "outputs": [],
   "source": [
    "d = forward_run.get_prefix_dict_for_pilot_points()\n",
    "arr_list = {}\n",
    "for lay, val in d.items():\n",
    "    for ar in val:\n",
    "        arr_list[ar] = pf.add_observations(os.path.join('pp2024_out',f\"{ar}.txt\"),\n",
    "                         zone_array=ml.bas6.ibound.array[lay], obsgp = f'arrays_{ar}')\n"
   ]
  },
  {
   "cell_type": "code",
   "execution_count": null,
   "id": "49",
   "metadata": {},
   "outputs": [],
   "source": [
    "pd.concat(arr_list).loc[:,['obgnme','obsval']].groupby('obgnme').plot.hist(subplots = True)\n",
    "arr_list_for_obs = pd.concat(arr_list)\n",
    "arr_list_for_obs = arr_list_for_obs.droplevel(0,0)\n",
    "arr_list_for_obs.loc[:,['obsval','weight']] = [0,0]\n",
    "arr_list_for_obs.groupby('obgnme').count()"
   ]
  },
  {
   "cell_type": "code",
   "execution_count": null,
   "id": "50",
   "metadata": {},
   "outputs": [],
   "source": []
  },
  {
   "cell_type": "code",
   "execution_count": null,
   "id": "51",
   "metadata": {},
   "outputs": [],
   "source": []
  },
  {
   "cell_type": "code",
   "execution_count": null,
   "id": "52",
   "metadata": {},
   "outputs": [],
   "source": []
  },
  {
   "cell_type": "code",
   "execution_count": null,
   "id": "53",
   "metadata": {},
   "outputs": [],
   "source": []
  },
  {
   "cell_type": "code",
   "execution_count": null,
   "id": "54",
   "metadata": {},
   "outputs": [],
   "source": []
  },
  {
   "cell_type": "code",
   "execution_count": null,
   "id": "55",
   "metadata": {},
   "outputs": [],
   "source": [
    "# template_ws = os.path.join(\"freyberg6_template\")\n",
    "\n",
    "farm_bud_subcat = pf.add_observations(os.path.join('output',\"ByFarm_ByCrop_subcat.csv\"), # the model output file to read\n",
    "                             # new_d=template_ws, # the PEST template folder,\n",
    "                            insfile=os.path.join('output',\"ByFarm_ByCrop_subcat.csv.ins\"), #optional, the instruction file name\n",
    "                            index_cols=['farm_flux'], #column header to use as index; can also use column number (zero-based) instead of the header name\n",
    "                            use_cols=['farm_bud'], #names of columns that include observation values; can also use column number (zero-based) instead of the header name\n",
    "                             ofile_sep = ',',\n",
    "                             obsgp = 'farm_bud_subcat',\n",
    "                            prefix=\"farm_bud_subcat\") #prefix to all observation names; choose something logical and easy to find. We use it later on to select obsevrations\n",
    "\n"
   ]
  },
  {
   "cell_type": "code",
   "execution_count": null,
   "id": "56",
   "metadata": {},
   "outputs": [],
   "source": [
    "# template_ws = os.path.join(\"freyberg6_template\")\n",
    "\n",
    "farm_bud_nonsubcat = pf.add_observations(os.path.join('output',\"ByFarm_ByCrop_not_subcat.csv\"), # the model output file to read\n",
    "                             # new_d=template_ws, # the PEST template folder,\n",
    "                            insfile=os.path.join('output',\"ByFarm_ByCrop_not_subcat.csv.ins\"), #optional, the instruction file name\n",
    "                            index_cols=['farm_flux'], #column header to use as index; can also use column number (zero-based) instead of the header name\n",
    "                            use_cols=['farm_bud'], #names of columns that include observation values; can also use column number (zero-based) instead of the header name\n",
    "                             ofile_sep = ',',\n",
    "                             obsgp = 'farm_bud_nonsubcat',\n",
    "                            prefix=\"farm_bud_nonsubcat\") #prefix to all observation names; choose something logical and easy to find. We use it later on to select obsevrations\n",
    "\n",
    "farm_bud_nonsubcat.loc[:,'weight'] = 0\n",
    "farm_bud_nonsubcat"
   ]
  },
  {
   "cell_type": "code",
   "execution_count": null,
   "id": "57",
   "metadata": {},
   "outputs": [],
   "source": []
  },
  {
   "cell_type": "code",
   "execution_count": null,
   "id": "58",
   "metadata": {},
   "outputs": [],
   "source": [
    "importlib.reload(forward_run)\n"
   ]
  },
  {
   "cell_type": "code",
   "execution_count": null,
   "id": "59",
   "metadata": {},
   "outputs": [],
   "source": [
    "with open(os.path.join(template_ws,'output',\"Budget_pest.txt\"),'r') as temp:\n",
    "    print('these are the columns in budget:\\n','\\t'.join(temp.readline().split(',')))\n",
    "    for i in range(3):\n",
    "        print(temp.readline().strip())"
   ]
  },
  {
   "cell_type": "code",
   "execution_count": null,
   "id": "60",
   "metadata": {
    "editable": true,
    "slideshow": {
     "slide_type": ""
    },
    "tags": []
   },
   "outputs": [],
   "source": [
    "# template_ws = os.path.join(\"freyberg6_template\")\n",
    "\n",
    "flx_df = pf.add_observations(os.path.join('output',\"Budget_pest.txt\"), # the model output file to read\n",
    "                             # new_d=template_ws, # the PEST template folder,\n",
    "                            insfile=os.path.join('output',\"Budget_pest.txt.ins\"), #optional, the instruction file name\n",
    "                            index_cols=\"Date\", #column header to use as index; can also use column number (zero-based) instead of the header name\n",
    "                            use_cols=['STORAGE_IN', 'STORAGE_OUT', \n",
    "                      'RURWELLS_OUT', \"MNIWELLS_OUT\", 'GHB_IN', 'RCH_IN', 'DRT_OUT', 'SFR_IN', 'SFR_OUT',\n",
    "                      'MNW2_IN', 'MNW2_OUT', 'FMP_WELLS_OUT', 'FMP_FNR_IN', 'FMP_FNR_OUT',\n",
    "                      'IN_OUT', 'PERCENT_ERROR'], #names of columns that include observation values; can also use column number (zero-based) instead of the header name\n",
    "                             ofile_sep = ',',\n",
    "                             obsgp = 'flux',\n",
    "                            prefix=\"flux\") #prefix to all observation names; choose something logical and easy to find. We use it later on to select obsevrations"
   ]
  },
  {
   "cell_type": "code",
   "execution_count": null,
   "id": "61",
   "metadata": {},
   "outputs": [],
   "source": [
    "flx_df.loc[:,'weight'] = 0"
   ]
  },
  {
   "cell_type": "code",
   "execution_count": null,
   "id": "62",
   "metadata": {},
   "outputs": [],
   "source": [
    "import re\n",
    "\n",
    "def remove_spaces_in_quotes_first_line(file_path):\n",
    "    # Read the content of the file\n",
    "    with open(file_path, 'r') as file:\n",
    "        lines = file.readlines()\n",
    "\n",
    "    # Process the first line only\n",
    "    first_line = lines[0]\n",
    "\n",
    "    # Define a function to remove spaces within quotes\n",
    "    def remove_spaces(match):\n",
    "        return match.group(0).replace(\" \", \"\")\n",
    "\n",
    "    # Use regular expression to find phrases in quotes and remove spaces within them\n",
    "    modified_first_line = re.sub(r'\\\".*?\\\"', remove_spaces, first_line)\n",
    "\n",
    "    # Replace the first line in the list with the modified first line\n",
    "    lines[0] = modified_first_line\n",
    "\n",
    "    # Write the modified content back to the file\n",
    "    with open(file_path, 'w') as file:\n",
    "        file.writelines(lines)\n",
    "\n",
    "# Example usage\n",
    "file_path = os.path.join(template_ws,'output',\"SV_HOBS_all._os\")\n",
    "remove_spaces_in_quotes_first_line(file_path)"
   ]
  },
  {
   "cell_type": "code",
   "execution_count": null,
   "id": "63",
   "metadata": {
    "editable": true,
    "slideshow": {
     "slide_type": ""
    },
    "tags": []
   },
   "outputs": [],
   "source": [
    "# template_ws = os.path.join(\"freyberg6_template\")\n",
    "\n",
    "hds_df = pf.add_observations(os.path.join('output',\"SV_HOBS_all._os\"), # the model output file to read\n",
    "                             # new_d=template_ws, # the PEST template folder,\n",
    "                            insfile=os.path.join('output',\"SV_HOBS_all._os.ins\"), #optional, the instruction file name\n",
    "                            index_cols=[r\"OBSERVATIONNAME\", 'DATE'], #column header to use as index; can also use column number (zero-based) instead of the header name\n",
    "                            use_cols=r\"SIMULATEDEQUIVALENT\", #names of columns that include observation values; can also use column number (zero-based) instead of the header name\n",
    "                             ofile_sep = '\\s+',\n",
    "                             obsgp = 'hdsgp',\n",
    "                            prefix=\"hds\") #prefix to all observation names; choose something logical and easy to find. We use it later on to select obsevrations"
   ]
  },
  {
   "cell_type": "code",
   "execution_count": null,
   "id": "64",
   "metadata": {},
   "outputs": [],
   "source": []
  },
  {
   "cell_type": "code",
   "execution_count": null,
   "id": "65",
   "metadata": {},
   "outputs": [],
   "source": [
    "hds_df"
   ]
  },
  {
   "cell_type": "code",
   "execution_count": null,
   "id": "66",
   "metadata": {},
   "outputs": [],
   "source": [
    "with open(os.path.join(template_ws,'output',\"kenwood_sfr.dat\"), 'r') as show:\n",
    "    for i in range(5):\n",
    "        print(show.readline().strip())"
   ]
  },
  {
   "cell_type": "code",
   "execution_count": null,
   "id": "67",
   "metadata": {},
   "outputs": [],
   "source": []
  },
  {
   "cell_type": "code",
   "execution_count": null,
   "id": "68",
   "metadata": {},
   "outputs": [],
   "source": [
    "forward_run.sfr_flows_log_transform(os.path.join(template_ws, 'output', \"kenwood_sfr.dat\"),\n",
    "                        os.path.join(template_ws, 'output', \"kenwood_sfr_reformat.csv\"), station = 'kenwood')\n",
    "\n",
    "_ = forward_run.sfr_flows_log_transform(os.path.join(template_ws, 'output', \"agua_caliente_sfr.dat\"),\n",
    "                        os.path.join(template_ws, 'output', \"aguacal_sfr_reformat.csv\"), station = 'aguacal')"
   ]
  },
  {
   "cell_type": "code",
   "execution_count": null,
   "id": "69",
   "metadata": {},
   "outputs": [],
   "source": [
    "with open(os.path.join(template_ws,'output',\"kenwood_sfr_reformat.csv\"), 'r') as show:\n",
    "    for i in range(5):\n",
    "        print(show.readline().strip())\n",
    "\n",
    "with open(os.path.join(template_ws,'output',\"kenwood_sfr_reformat_log.csv\"), 'r') as show:\n",
    "    for i in range(5):\n",
    "        print(show.readline().strip())"
   ]
  },
  {
   "cell_type": "code",
   "execution_count": null,
   "id": "70",
   "metadata": {},
   "outputs": [],
   "source": [
    "\n",
    "assert os.path.exists(os.path.join(template_ws,'output',\"kenwood_sfr_reformat_log.csv\")), \"kenwood_sfr_reformat_log does not exist\"\n",
    "assert os.path.exists(os.path.join(template_ws,'output',\"aguacal_sfr_reformat_log.csv\")), \"aguacal_sfr_reformat_log does not exist\""
   ]
  },
  {
   "cell_type": "markdown",
   "id": "71",
   "metadata": {},
   "source": [
    "# add log-transformed data for actual calibration"
   ]
  },
  {
   "cell_type": "code",
   "execution_count": null,
   "id": "72",
   "metadata": {},
   "outputs": [],
   "source": []
  },
  {
   "cell_type": "code",
   "execution_count": null,
   "id": "73",
   "metadata": {},
   "outputs": [],
   "source": [
    "# template_ws = os.path.join(\"freyberg6_template\")\n",
    "\n",
    "ken = pf.add_observations(os.path.join('output',\"kenwood_sfr_reformat_log.csv\"), # the model output file to read\n",
    "                             # new_d=template_ws, # the PEST template folder,\n",
    "                            insfile=os.path.join('output',\"kenwood_sfr_reformat_log.csv.ins\"), #optional, the instruction file name\n",
    "                            index_cols=['Station','Date'], #column header to use as index; can also use column number (zero-based) instead of the header name\n",
    "                            use_cols='Flow', #names of columns that include observation values; can also use column number (zero-based) instead of the header name\n",
    "                             ofile_sep = ',',\n",
    "                             # ofile_skip = [0],\n",
    "                          obsgp = 'kenwood_log',\n",
    "                            prefix=\"sfr_ken\") #prefix to all observation names; choose something logical and easy to find. We use it later on to select obsevrations\n",
    "\n",
    "agua = pf.add_observations(os.path.join('output',\"aguacal_sfr_reformat_log.csv\"), # the model output file to read\n",
    "                             # new_d=template_ws, # the PEST template folder,\n",
    "                            insfile=os.path.join('output',\"aguacal_sfr_reformat_log.csv.ins\"), #optional, the instruction file name\n",
    "                            index_cols=['Station','Date'], #column header to use as index; can also use column number (zero-based) instead of the header name\n",
    "                            use_cols='Flow', #names of columns that include observation values; can also use column number (zero-based) instead of the header name\n",
    "                             ofile_sep = ',',\n",
    "                            # ofile_skip = [0],\n",
    "                           obsgp = 'aguacal_log',\n",
    "                            prefix=\"sfr_agua_cal\") #prefix to all observation names; choose something logical and easy to find. We use it later on to select obsevrations"
   ]
  },
  {
   "cell_type": "code",
   "execution_count": null,
   "id": "74",
   "metadata": {},
   "outputs": [],
   "source": []
  },
  {
   "cell_type": "markdown",
   "id": "75",
   "metadata": {},
   "source": [
    "# add raw data (ie without transform to better observe flows in PEST)"
   ]
  },
  {
   "cell_type": "code",
   "execution_count": null,
   "id": "76",
   "metadata": {},
   "outputs": [],
   "source": [
    "\n",
    "assert os.path.exists(os.path.join(template_ws,'output',\"kenwood_sfr_reformat.csv\")), \"kenwood_sfr_reformat_log does not exist\"\n",
    "assert os.path.exists(os.path.join(template_ws,'output',\"aguacal_sfr_reformat.csv\")), \"aguacal_sfr_reformat_log does not exist\""
   ]
  },
  {
   "cell_type": "code",
   "execution_count": null,
   "id": "77",
   "metadata": {},
   "outputs": [],
   "source": [
    "# template_ws = os.path.join(\"freyberg6_template\")\n",
    "\n",
    "kenraw = pf.add_observations(os.path.join('output',\"kenwood_sfr_reformat.csv\"), # the model output file to read\n",
    "                             # new_d=template_ws, # the PEST template folder,\n",
    "                            insfile=os.path.join('output',\"kenwood_sfr_reformat.csv.ins\"), #optional, the instruction file name\n",
    "                            index_cols=['Station','Date'], #column header to use as index; can also use column number (zero-based) instead of the header name\n",
    "                            use_cols='Flow', #names of columns that include observation values; can also use column number (zero-based) instead of the header name\n",
    "                             ofile_sep = ',',\n",
    "                             # ofile_skip = [0],\n",
    "                          obsgp = 'kenwood_raw',\n",
    "                            prefix=\"sfr_ken_raw\") #prefix to all observation names; choose something logical and easy to find. We use it later on to select obsevrations\n",
    "\n",
    "aguaraw = pf.add_observations(os.path.join('output',\"aguacal_sfr_reformat.csv\"), # the model output file to read\n",
    "                             # new_d=template_ws, # the PEST template folder,\n",
    "                            insfile=os.path.join('output',\"aguacal_sfr_reformat.csv.ins\"), #optional, the instruction file name\n",
    "                            index_cols=['Station','Date'], #column header to use as index; can also use column number (zero-based) instead of the header name\n",
    "                            use_cols='Flow', #names of columns that include observation values; can also use column number (zero-based) instead of the header name\n",
    "                             ofile_sep = ',',\n",
    "                            # ofile_skip = [0],\n",
    "                           obsgp = 'aguacal_raw',\n",
    "                            prefix=\"sfr_agua_cal_raw\") #prefix to all observation names; choose something logical and easy to find. We use it later on to select obsevrations"
   ]
  },
  {
   "cell_type": "code",
   "execution_count": null,
   "id": "78",
   "metadata": {},
   "outputs": [],
   "source": [
    "# # template_ws = os.path.join(\"freyberg6_template\")\n",
    "\n",
    "# ken = pf.add_observations(os.path.join('output',\"kenwood_sfr_reformat_log.csv\"), # the model output file to read\n",
    "#                              # new_d=template_ws, # the PEST template folder,\n",
    "#                             insfile=os.path.join('output',\"kenwood_sfr_reformat_log.csv.ins\"), #optional, the instruction file name\n",
    "#                             index_cols=[1], #column header to use as index; can also use column number (zero-based) instead of the header name\n",
    "#                             use_cols=[3], #names of columns that include observation values; can also use column number (zero-based) instead of the header name\n",
    "#                              ofile_sep = ',',\n",
    "#                              ofile_skip = [0],\n",
    "#                           obsgp = 'kenwood',\n",
    "#                             prefix=\"sfr_ken\") #prefix to all observation names; choose something logical and easy to find. We use it later on to select obsevrations\n",
    "\n",
    "# agua = pf.add_observations(os.path.join('output',\"aguacal_sfr_reformat_log.csv\"), # the model output file to read\n",
    "#                              # new_d=template_ws, # the PEST template folder,\n",
    "#                             insfile=os.path.join('output',\"aguacal_sfr_reformat_log.csv.ins\"), #optional, the instruction file name\n",
    "#                             index_cols=[1], #column header to use as index; can also use column number (zero-based) instead of the header name\n",
    "#                             use_cols=[3], #names of columns that include observation values; can also use column number (zero-based) instead of the header name\n",
    "#                              ofile_sep = ',',\n",
    "#                             ofile_skip = [0],\n",
    "#                            obsgp = 'aguacal',\n",
    "#                             prefix=\"sfr_agua_cal\") #prefix to all observation names; choose something logical and easy to find. We use it later on to select obsevrations"
   ]
  },
  {
   "cell_type": "code",
   "execution_count": null,
   "id": "79",
   "metadata": {},
   "outputs": [],
   "source": [
    "with open(os.path.join(template_ws,'GWLE_OBS',\"gwle_asbolute_mod_heads.csv\"), 'r') as show:\n",
    "    for i in range(5):\n",
    "        print(show.readline().strip())"
   ]
  },
  {
   "cell_type": "code",
   "execution_count": null,
   "id": "80",
   "metadata": {},
   "outputs": [],
   "source": []
  },
  {
   "cell_type": "code",
   "execution_count": null,
   "id": "81",
   "metadata": {},
   "outputs": [],
   "source": [
    "gwle_abs = pf.add_observations(os.path.join('GWLE_OBS',\"gwle_asbolute_mod_heads.csv\"), # the model output file to read\n",
    "                             # new_d=template_ws, # the PEST template folder,\n",
    "                            insfile=os.path.join('GWLE_OBS',\"gwle_asbolute_mod_heads.csv.ins\"), #optional, the instruction file name\n",
    "                            index_cols=['Station','date'], #column header to use as index; can also use column number (zero-based) instead of the header name\n",
    "                            use_cols='meas', #names of columns that include observation values; can also use column number (zero-based) instead of the header name\n",
    "                             ofile_sep = ',',\n",
    "                            # ofile_skip = [0],\n",
    "                           obsgp = 'gwle_abs',\n",
    "                            prefix=\"gwle_abs\") #prefix to all observation names; choose something logical and easy to find. We use it later on to select obsevrations"
   ]
  },
  {
   "cell_type": "code",
   "execution_count": null,
   "id": "82",
   "metadata": {},
   "outputs": [],
   "source": [
    "gwle_majordrawdown = pf.add_observations(os.path.join('GWLE_OBS',\"gwle_asbolute_mod_heads_duplicate.csv\"), # the model output file to read\n",
    "                             # new_d=template_ws, # the PEST template folder,\n",
    "                            insfile=os.path.join('GWLE_OBS',\"gwle_asbolute_mod_heads_duplicate.csv.ins\"), #optional, the instruction file name\n",
    "                            index_cols=['Station','date'], #column header to use as index; can also use column number (zero-based) instead of the header name\n",
    "                            use_cols='meas', #names of columns that include observation values; can also use column number (zero-based) instead of the header name\n",
    "                             ofile_sep = ',',\n",
    "                            # ofile_skip = [0],\n",
    "                           obsgp = 'gwle_majordrawdown',\n",
    "                            prefix=\"gwle_majordrawdown\") #prefix to all observation names; choose something logical and easy to find. We use it later on to select obsevrations"
   ]
  },
  {
   "cell_type": "code",
   "execution_count": null,
   "id": "83",
   "metadata": {},
   "outputs": [],
   "source": [
    "gwle_dd = pf.add_observations(os.path.join('GWLE_OBS',\"gwle_drawdown_mod_heads.csv\"), # the model output file to read\n",
    "                             # new_d=template_ws, # the PEST template folder,\n",
    "                            insfile=os.path.join('GWLE_OBS',\"gwle_drawdown_mod_heads.csv.ins\"), #optional, the instruction file name\n",
    "                            index_cols=['Station','date'], #column header to use as index; can also use column number (zero-based) instead of the header name\n",
    "                            use_cols='meas', #names of columns that include observation values; can also use column number (zero-based) instead of the header name\n",
    "                             ofile_sep = ',',\n",
    "                            # ofile_skip = [0],\n",
    "                           obsgp = 'gwle_ddown',\n",
    "                            prefix=\"gwle_ddown\") #prefix to all observation names; choose something logical and easy to find. We use it later on to select obsevrations"
   ]
  },
  {
   "cell_type": "code",
   "execution_count": null,
   "id": "84",
   "metadata": {},
   "outputs": [],
   "source": []
  },
  {
   "cell_type": "code",
   "execution_count": null,
   "id": "85",
   "metadata": {},
   "outputs": [],
   "source": []
  },
  {
   "cell_type": "code",
   "execution_count": null,
   "id": "86",
   "metadata": {},
   "outputs": [],
   "source": []
  },
  {
   "cell_type": "code",
   "execution_count": null,
   "id": "87",
   "metadata": {},
   "outputs": [],
   "source": [
    "gwle_roll = pf.add_observations(os.path.join('GWLE_OBS',\"gwle_rolling_mod_heads.csv\"), # the model output file to read\n",
    "                             # new_d=template_ws, # the PEST template folder,\n",
    "                            insfile=os.path.join('GWLE_OBS',\"gwle_rolling_mod_heads.csv.ins\"), #optional, the instruction file name\n",
    "                            index_cols=['Station','date'], #column header to use as index; can also use column number (zero-based) instead of the header name\n",
    "                            use_cols='meas', #names of columns that include observation values; can also use column number (zero-based) instead of the header name\n",
    "                             ofile_sep = ',',\n",
    "                            # ofile_skip = [0],\n",
    "                           obsgp = 'gwle_roll',\n",
    "                            prefix=\"gwle_roll\") #prefix to all observation names; choose something logical and easy to find. We use it later on to select obsevrations"
   ]
  },
  {
   "cell_type": "code",
   "execution_count": null,
   "id": "88",
   "metadata": {},
   "outputs": [],
   "source": [
    "gwle_roll18month = pf.add_observations(os.path.join('GWLE_OBS',\"gwle_rolling_18month_mod_heads.csv\"), # the model output file to read\n",
    "                             # new_d=template_ws, # the PEST template folder,\n",
    "                            insfile=os.path.join('GWLE_OBS',\"gwle_rolling_18month_mod_heads.csv.ins\"), #optional, the instruction file name\n",
    "                            index_cols=['Station','date'], #column header to use as index; can also use column number (zero-based) instead of the header name\n",
    "                            use_cols='meas', #names of columns that include observation values; can also use column number (zero-based) instead of the header name\n",
    "                             ofile_sep = ',',\n",
    "                            # ofile_skip = [0],\n",
    "                           obsgp = 'gwle_roll18month',\n",
    "                            prefix=\"gwle_roll18month\") #prefix to all observation names; choose something logical and easy to find. We use it later on to select obsevrations"
   ]
  },
  {
   "cell_type": "code",
   "execution_count": null,
   "id": "89",
   "metadata": {},
   "outputs": [],
   "source": [
    "# # template_ws = os.path.join(\"freyberg6_template\")\n",
    "\n",
    "# ken = pf.add_observations(os.path.join('output',\"kenwood_sfr.dat\"), # the model output file to read\n",
    "#                              # new_d=template_ws, # the PEST template folder,\n",
    "#                             insfile=os.path.join('output',\"kenwood_sfr.dat.ins\"), #optional, the instruction file name\n",
    "#                             index_cols=[0], #column header to use as index; can also use column number (zero-based) instead of the header name\n",
    "#                             use_cols=[2], #names of columns that include observation values; can also use column number (zero-based) instead of the header name\n",
    "#                              ofile_sep = '\\s+',\n",
    "#                              ofile_skip = [1],\n",
    "#                           obsgp = 'kenwood',\n",
    "#                             prefix=\"sfr_ken\") #prefix to all observation names; choose something logical and easy to find. We use it later on to select obsevrations\n",
    "\n",
    "# agua = pf.add_observations(os.path.join('output',\"agua_caliente_sfr.dat\"), # the model output file to read\n",
    "#                              # new_d=template_ws, # the PEST template folder,\n",
    "#                             insfile=os.path.join('output',\"agua_caliente_sfr.dat.ins\"), #optional, the instruction file name\n",
    "#                             index_cols=[0], #column header to use as index; can also use column number (zero-based) instead of the header name\n",
    "#                             use_cols=[2], #names of columns that include observation values; can also use column number (zero-based) instead of the header name\n",
    "#                              ofile_sep = '\\s+',\n",
    "#                              ofile_skip = [1],\n",
    "#                            obsgp = 'aguacal',\n",
    "#                             prefix=\"sfr_agua_cal\") #prefix to all observation names; choose something logical and easy to find. We use it later on to select obsevrations"
   ]
  },
  {
   "cell_type": "code",
   "execution_count": null,
   "id": "90",
   "metadata": {},
   "outputs": [],
   "source": []
  },
  {
   "cell_type": "code",
   "execution_count": null,
   "id": "91",
   "metadata": {},
   "outputs": [],
   "source": []
  },
  {
   "cell_type": "code",
   "execution_count": null,
   "id": "92",
   "metadata": {},
   "outputs": [],
   "source": []
  },
  {
   "cell_type": "code",
   "execution_count": null,
   "id": "93",
   "metadata": {},
   "outputs": [],
   "source": []
  },
  {
   "cell_type": "code",
   "execution_count": null,
   "id": "94",
   "metadata": {},
   "outputs": [],
   "source": []
  },
  {
   "cell_type": "code",
   "execution_count": null,
   "id": "95",
   "metadata": {},
   "outputs": [],
   "source": []
  },
  {
   "cell_type": "code",
   "execution_count": null,
   "id": "96",
   "metadata": {},
   "outputs": [],
   "source": []
  },
  {
   "cell_type": "code",
   "execution_count": null,
   "id": "97",
   "metadata": {},
   "outputs": [],
   "source": []
  },
  {
   "cell_type": "markdown",
   "id": "98",
   "metadata": {},
   "source": [
    "# crop coefficients"
   ]
  },
  {
   "cell_type": "code",
   "execution_count": null,
   "id": "99",
   "metadata": {},
   "outputs": [],
   "source": []
  },
  {
   "cell_type": "code",
   "execution_count": null,
   "id": "100",
   "metadata": {},
   "outputs": [],
   "source": [
    "# forward_run.write_kc(template_ws)"
   ]
  },
  {
   "cell_type": "markdown",
   "id": "101",
   "metadata": {},
   "source": [
    "# add on-farm efficiency as par"
   ]
  },
  {
   "cell_type": "markdown",
   "id": "102",
   "metadata": {},
   "source": [
    "`values = [1 0.7 0.7 0.7 0.7 1 0.7 0.7 0.7 0.7 0.7 0.7 0.9 0.7 1]  `   \n",
    "\n",
    "`C:\\GSP\\sv\\model\\SV_mod_V2_owhm2\\master\\fmp_input\\model_arrays\\sv_OFE_GSP.txt`"
   ]
  },
  {
   "cell_type": "code",
   "execution_count": null,
   "id": "103",
   "metadata": {},
   "outputs": [],
   "source": [
    "# forward_run.write_OFE(template_ws)"
   ]
  },
  {
   "cell_type": "code",
   "execution_count": null,
   "id": "104",
   "metadata": {},
   "outputs": [],
   "source": []
  },
  {
   "cell_type": "markdown",
   "id": "105",
   "metadata": {},
   "source": [
    "# add sfr fdr curves as observations"
   ]
  },
  {
   "cell_type": "markdown",
   "id": "106",
   "metadata": {},
   "source": [
    "## first get observed data to calculate values and to select from simulated values when gauge is active"
   ]
  },
  {
   "cell_type": "code",
   "execution_count": null,
   "id": "107",
   "metadata": {},
   "outputs": [],
   "source": [
    "dates = conda_scripts.sv_budget.sv_modflow.get_dates()\n",
    "dates = dates.astype({'date':'datetime64[ns]'})"
   ]
  },
  {
   "cell_type": "code",
   "execution_count": null,
   "id": "108",
   "metadata": {},
   "outputs": [],
   "source": [
    "dates"
   ]
  },
  {
   "cell_type": "code",
   "execution_count": null,
   "id": "109",
   "metadata": {},
   "outputs": [],
   "source": []
  },
  {
   "cell_type": "code",
   "execution_count": null,
   "id": "110",
   "metadata": {},
   "outputs": [],
   "source": []
  },
  {
   "cell_type": "code",
   "execution_count": null,
   "id": "111",
   "metadata": {},
   "outputs": [],
   "source": [
    "\n",
    "\n",
    "p = os.path.join(template_ws, \"sfr_aguacal_obs.csv\")\n",
    "if not os.path.exists(p):\n",
    "    \n",
    "    flow_agua, _ = conda_scripts.arich_functions.download_daily('11458500',begin_year='1968')\n",
    "    \n",
    "    c = flow_agua.Q==0\n",
    "    flow_agua.loc[c,'Q'] = 0.001\n",
    "    flow_agua = flow_agua.resample(\"ME\").mean()*60*60*24\n",
    "    agua_base = pd.merge(dates, flow_agua, left_on = 'date', right_index =True )\n",
    "    agua_base = agua_base.dropna(subset = 'Q')\n",
    "    assert 'Water Year' in agua_base.columns\n",
    "    agua_base.to_csv(p)\n",
    "else:\n",
    "    agua_base = pd.read_csv(p, index_col = 0)\n",
    "    agua_base.loc[:,'date'] = pd.to_datetime(agua_base.loc[:,'date'])\n",
    "    agua_base.loc[:,'Water Year'] = pd.to_datetime(agua_base.loc[:,'Water Year'])\n",
    "\n",
    "\n",
    "p = os.path.join(template_ws, \"sfr_kenwood_obs.csv\")\n",
    "if not os.path.exists(p):\n",
    "    # download kenwood data\n",
    "    flow_ken, _ = conda_scripts.arich_functions.download_daily('11458433',begin_year='1968')\n",
    "    c = flow_ken.Q==0\n",
    "    flow_ken.loc[c,'Q'] = 0.001\n",
    "    flow_ken = flow_ken.resample(\"ME\").mean()*60*60*24\n",
    "    flow_ken = pd.merge(dates, flow_ken, left_on = 'date', right_index =True )\n",
    "    flow_ken = flow_ken.dropna(subset = 'Q')\n",
    "    assert 'Water Year' in flow_ken.columns\n",
    "    flow_ken.to_csv(p)\n",
    "else:\n",
    "    flow_ken = pd.read_csv(p, index_col = 0)\n",
    "    flow_ken.loc[:,'date'] = pd.to_datetime(flow_ken.loc[:,'date'])\n",
    "    flow_ken.loc[:,'Water Year'] = pd.to_datetime(flow_ken.loc[:,'Water Year'])\n",
    "\n",
    "\n",
    "def get_fdc_observed(Q, station):\n",
    "    fdf = {x:np.percentile(Q.Q.values, x) for x in range(5,101,5)}\n",
    "    fdf = pd.DataFrame.from_dict(fdf, orient = 'index', columns = ['obsval'] )\n",
    "    fdf.loc[:,'obsval'] = fdf.obsval.apply(np.log10)\n",
    "    fdf.loc[:,'weight'] = 1\n",
    "    fdf.loc[5:20,'weight'] = 5\n",
    "    fdf.loc[25:40,'weight'] = 2\n",
    "    fdf.loc[:,'obgnme'] = f'sfr_fdc_{station}'\n",
    "    fdf.loc[:,'standard_deviation'] = 0.02\n",
    "    fdf.loc[:,'percentile'] = fdf.index\n",
    "    fdf.index = fdf.index.map(lambda x: f\"oname:sfr_fdc_otype:lst_usecol:term_station:{station}_fdc_percentile:{x}\")\n",
    "    return fdf\n",
    "\n",
    "def get_uearly_min(Q, station):\n",
    "\n",
    "    fdf = Q.groupby('Water Year').min()\n",
    "    fdf.loc[:,'obsval'] = fdf.Q.apply(np.log10)\n",
    "    fdf.loc[:,'weight'] = 1\n",
    "    fdf.loc[:,'Water Year'] = fdf.index\n",
    "    # fdf.loc[10:40,'weight'] = 5\n",
    "    fdf.loc[:,'standard_deviation'] = 0.045\n",
    "    fdf.loc[:,'obgnme'] = f'yearly_min_flow_{station}'\n",
    "    fdf.index = fdf.loc[:,'Water Year'].apply(lambda x: f\"oname:sfr_wy_min_flow_{station}_otype:lst_usecol:term_station:{station}_date:{x.strftime('%Y-%m-%d')}\")\n",
    "\n",
    "    return fdf\n",
    "\n",
    "fdc_agua = get_fdc_observed(agua_base,'aguacal')\n",
    "fdc_kenwood = get_fdc_observed(flow_ken,'kenwood')\n",
    "\n",
    "fdc_aguacal_yearly_min = get_uearly_min(agua_base,'aguacal')\n",
    "fdc_kenwood_yearly_min = get_uearly_min(flow_ken,'kenwood')\n"
   ]
  },
  {
   "cell_type": "code",
   "execution_count": null,
   "id": "112",
   "metadata": {},
   "outputs": [],
   "source": []
  },
  {
   "cell_type": "code",
   "execution_count": null,
   "id": "113",
   "metadata": {},
   "outputs": [],
   "source": []
  },
  {
   "cell_type": "code",
   "execution_count": null,
   "id": "114",
   "metadata": {},
   "outputs": [],
   "source": []
  },
  {
   "cell_type": "code",
   "execution_count": null,
   "id": "115",
   "metadata": {},
   "outputs": [],
   "source": []
  },
  {
   "cell_type": "code",
   "execution_count": null,
   "id": "116",
   "metadata": {},
   "outputs": [],
   "source": []
  },
  {
   "cell_type": "code",
   "execution_count": null,
   "id": "117",
   "metadata": {},
   "outputs": [],
   "source": [
    "fig, (ax, ax2) = plt.subplots(2,1)\n",
    "ax = fdc_kenwood.plot(x = \"percentile\", y = 'obsval', ax=ax, title = 'Kenwood Flow Duration Curve')\n",
    "axc = ax.twinx()\n",
    "fdc_kenwood.plot(x = \"percentile\", y = 'weight', c = 'g',ax=axc)\n",
    "\n",
    "fdc_agua.plot(x = \"percentile\", y = 'obsval', ax = ax2, title = 'Agua Caliente Flow Duration Curve')\n",
    "axi = ax2.twinx()\n",
    "fdc_agua.plot(x = \"percentile\", y = 'weight', c = 'g',ax=axi)\n",
    "\n",
    "ax2.set_xlabel('flow percentile')\n",
    "ax.set_ylabel('cumulative flow value' , color = 'blue')\n",
    "ax2.set_ylabel('cumulative flow value', color = 'blue')\n",
    "\n",
    "axc.set_ylabel('weight', color = 'green')\n",
    "axi.set_ylabel('weight', color = 'green')\n",
    "\n",
    "plt.savefig('sfr_fdc_observations.png', )"
   ]
  },
  {
   "cell_type": "code",
   "execution_count": null,
   "id": "118",
   "metadata": {},
   "outputs": [],
   "source": [
    "importlib.reload(forward_run)"
   ]
  },
  {
   "cell_type": "code",
   "execution_count": null,
   "id": "119",
   "metadata": {},
   "outputs": [],
   "source": [
    "\n",
    "\n",
    "_=forward_run.sfr_flow_accum(template_ws,'kenwood')\n",
    "_=forward_run.sfr_flow_accum(template_ws,'aguacal')"
   ]
  },
  {
   "cell_type": "code",
   "execution_count": null,
   "id": "120",
   "metadata": {},
   "outputs": [],
   "source": [
    "assert os.path.exists(os.path.join(template_ws,'output',\"sfr_kenwood_modeled_fdc_curve.csv\")), \"sfr_kenwood_modeled_fdc_curve does not exist\"\n",
    "assert os.path.exists(os.path.join(template_ws,'output',\"sfr_kenwood_modeled_water_year_min.csv\")), \"sfr_kenwood_modeled_water_year_min does not exist\""
   ]
  },
  {
   "cell_type": "code",
   "execution_count": null,
   "id": "121",
   "metadata": {},
   "outputs": [],
   "source": [
    "sfr_fdc_kenwood = pf.add_observations(os.path.join('output',\"sfr_kenwood_modeled_fdc_curve.csv\"), # the model output file to read\n",
    "                             # new_d=template_ws, # the PEST template folder,\n",
    "                            insfile=os.path.join('output',\"sfr_kenwood_modeled_fdc_curve.csv.ins\"), #optional, the instruction file name\n",
    "                            index_cols=['Station','fdc_percentile'], #column header to use as index; can also use column number (zero-based) instead of the header name\n",
    "                            use_cols='term', #names of columns that include observation values; can also use column number (zero-based) instead of the header name\n",
    "                             ofile_sep = ',',\n",
    "                            # ofile_skip = [0],\n",
    "                           obsgp = 'sfr_fdc_kenwood',\n",
    "                            prefix=\"sfr_fdc\") #prefix to all observation names; choose something logical and easy to find. We use it later on to select obsevrations\n",
    "\n",
    "sfr_fdc_aguacal = pf.add_observations(os.path.join('output',\"sfr_aguacal_modeled_fdc_curve.csv\"), # the model output file to read\n",
    "                             # new_d=template_ws, # the PEST template folder,\n",
    "                            insfile=os.path.join('output',\"sfr_aguacal_modeled_fdc_curve.csv.ins\"), #optional, the instruction file name\n",
    "                            index_cols=['Station','fdc_percentile'], #column header to use as index; can also use column number (zero-based) instead of the header name\n",
    "                            use_cols='term', #names of columns that include observation values; can also use column number (zero-based) instead of the header name\n",
    "                             ofile_sep = ',',\n",
    "                            # ofile_skip = [0],\n",
    "                           obsgp = 'sfr_fdc_aguacal',\n",
    "                            prefix=\"sfr_fdc\") #prefix to all observation names; choose something logical and easy to find. We use it later on to select obsevrations"
   ]
  },
  {
   "cell_type": "code",
   "execution_count": null,
   "id": "122",
   "metadata": {},
   "outputs": [],
   "source": [
    "sfr_fdc_kenwood.head()"
   ]
  },
  {
   "cell_type": "code",
   "execution_count": null,
   "id": "123",
   "metadata": {},
   "outputs": [],
   "source": [
    "sfr_minflow_kenwood = pf.add_observations(os.path.join('output',\"sfr_kenwood_modeled_water_year_min.csv\"), # the model output file to read\n",
    "                             # new_d=template_ws, # the PEST template folder,\n",
    "                            insfile=os.path.join('output',\"sfr_kenwood_modeled_water_year_min.csv.ins\"), #optional, the instruction file name\n",
    "                            index_cols=['Station','Date'], #column header to use as index; can also use column number (zero-based) instead of the header name\n",
    "                            use_cols='term', #names of columns that include observation values; can also use column number (zero-based) instead of the header name\n",
    "                             ofile_sep = ',',\n",
    "                            # ofile_skip = [0],\n",
    "                           obsgp = 'sfr_wy_min_flow_kenwood',\n",
    "                            prefix=\"sfr_wy_min_flow_kenwood\") #prefix to all observation names; choose something logical and easy to find. We use it later on to select obsevrations\n",
    "\n",
    "\n",
    "sfr_minflow_aguacal = pf.add_observations(os.path.join('output',\"sfr_aguacal_modeled_water_year_min.csv\"), # the model output file to read\n",
    "                             # new_d=template_ws, # the PEST template folder,\n",
    "                            insfile=os.path.join('output',\"sfr_aguacal_modeled_water_year_min.csv.ins\"), #optional, the instruction file name\n",
    "                            index_cols=['Station','Date'], #column header to use as index; can also use column number (zero-based) instead of the header name\n",
    "                            use_cols='term', #names of columns that include observation values; can also use column number (zero-based) instead of the header name\n",
    "                             ofile_sep = ',',\n",
    "                            # ofile_skip = [0],\n",
    "                           obsgp = 'sfr_wy_min_flow_aguacal',\n",
    "                            prefix=\"sfr_wy_min_flow_aguacal\") #prefix to all observation names; choose something logical and easy to find. We use it later on to select obsevrations"
   ]
  },
  {
   "cell_type": "code",
   "execution_count": null,
   "id": "124",
   "metadata": {},
   "outputs": [],
   "source": [
    "sfr_minflow_aguacal.head()"
   ]
  },
  {
   "cell_type": "markdown",
   "id": "125",
   "metadata": {
    "editable": true,
    "slideshow": {
     "slide_type": ""
    },
    "tags": []
   },
   "source": [
    "# templates"
   ]
  },
  {
   "cell_type": "code",
   "execution_count": null,
   "id": "126",
   "metadata": {},
   "outputs": [],
   "source": []
  },
  {
   "cell_type": "code",
   "execution_count": null,
   "id": "127",
   "metadata": {},
   "outputs": [],
   "source": []
  },
  {
   "cell_type": "code",
   "execution_count": null,
   "id": "128",
   "metadata": {},
   "outputs": [],
   "source": []
  },
  {
   "cell_type": "markdown",
   "id": "129",
   "metadata": {},
   "source": [
    "# Building the pest control file...Finally!\n",
    "\n",
    "Here we will use the template and instruction files to construct a control file.  Then we will use some ``pandas`` magic to set the appropriate parameter and observation info"
   ]
  },
  {
   "cell_type": "code",
   "execution_count": null,
   "id": "130",
   "metadata": {
    "editable": true,
    "slideshow": {
     "slide_type": ""
    },
    "tags": []
   },
   "outputs": [],
   "source": [
    "tpl = r'''templates\\sv_GSP.sfr.tpl,sv_GSP.sfr\n",
    "templates\\hfb_glen_lower_city.tpl,sv_faults.hfb\n",
    "templates\\fieswp.tpl,fmp_update\\fieswp.in\n",
    "templates\\kc_scale_factors.tpl,kc_scale_factors.csv\n",
    "templates\\ofe_scale_factors.tpl,ofe_scale_factors.csv\n",
    "templates\\pval.pval.tpl,pval.pval'''\n",
    "\n",
    "from io import StringIO\n",
    "TESTDATA = StringIO(tpl)\n",
    "\n",
    "tpl_df = pd.read_csv(TESTDATA, sep=\",\", names = ['tpl', 'file'])\n",
    "tpl_df"
   ]
  },
  {
   "cell_type": "code",
   "execution_count": null,
   "id": "131",
   "metadata": {},
   "outputs": [],
   "source": []
  },
  {
   "cell_type": "code",
   "execution_count": null,
   "id": "132",
   "metadata": {},
   "outputs": [],
   "source": [
    "tpl_pp_files = [os.path.join('pp2024',f) for f in os.listdir(os.path.join(template_ws, 'pp2024')) if f.endswith(\".tpl\")]\n",
    "mult_tpl = [os.path.join('zone_pest_mult',f) for f in os.listdir(os.path.join(template_ws, 'zone_pest_mult')) if f.endswith(\".tpl\")]\n",
    "\n",
    "tpl_pp_files.extend(mult_tpl)\n",
    "\n",
    "input_pp_files = [f.replace(\".tpl\",'') for f in tpl_pp_files]\n",
    "assert len(tpl_pp_files)>10, 'run pilot_points.ipynb should be a bunch of files'"
   ]
  },
  {
   "cell_type": "code",
   "execution_count": null,
   "id": "133",
   "metadata": {},
   "outputs": [],
   "source": [
    "tpl_pp_files"
   ]
  },
  {
   "cell_type": "markdown",
   "id": "134",
   "metadata": {},
   "source": [
    "See why it is important to use a consistent naming structure for the templates-input file pairs?  Its the same for the instruction files"
   ]
  },
  {
   "cell_type": "code",
   "execution_count": null,
   "id": "135",
   "metadata": {},
   "outputs": [],
   "source": [
    "array_ins = [os.path.join('pp2024_out',x) for x in os.listdir(os.path.join(template_ws, 'pp2024_out')) if '.ins' in x]\n",
    "array_v = [f'{x}'.replace('.ins','') for x in array_ins]\n",
    "array_ins_files_df = pd.DataFrame(np.array([array_ins, array_v]).T, columns =  ['tpl', 'file'])\n",
    "array_ins_files_df"
   ]
  },
  {
   "cell_type": "code",
   "execution_count": null,
   "id": "136",
   "metadata": {},
   "outputs": [],
   "source": [
    "tpl = r'''output\\Budget_pest.txt.ins,output\\Budget_pest.txt\n",
    "output\\Budget_pest_summary.txt.ins,output\\Budget_pest_summary.txt\n",
    "output\\SV_HOBS_all._os.ins,output\\SV_HOBS_all._os\n",
    "output\\aguacal_sfr_reformat.csv.ins,output\\aguacal_sfr_reformat.csv\n",
    "output\\kenwood_sfr_reformat.csv.ins,output\\kenwood_sfr_reformat.csv\n",
    "output\\aguacal_sfr_reformat_log.csv.ins,output\\aguacal_sfr_reformat_log.csv\n",
    "output\\kenwood_sfr_reformat_log.csv.ins,output\\kenwood_sfr_reformat_log.csv\n",
    "GWLE_OBS\\gwle_asbolute_mod_heads.csv.ins,GWLE_OBS\\gwle_asbolute_mod_heads.csv\n",
    "GWLE_OBS\\gwle_drawdown_mod_heads.csv.ins,GWLE_OBS\\gwle_drawdown_mod_heads.csv\n",
    "GWLE_OBS\\gwle_rolling_mod_heads.csv.ins,GWLE_OBS\\gwle_rolling_mod_heads.csv\n",
    "GWLE_OBS\\gwle_rolling_18month_mod_heads.csv.ins,GWLE_OBS\\gwle_rolling_18month_mod_heads.csv\n",
    "GWLE_OBS\\gwle_asbolute_mod_heads_duplicate.csv.ins,GWLE_OBS\\gwle_asbolute_mod_heads_duplicate.csv\n",
    "output\\sfr_aguacal_modeled_fdc_curve.csv.ins,output\\sfr_aguacal_modeled_fdc_curve.csv\n",
    "output\\sfr_aguacal_modeled_water_year_min.csv.ins,output\\sfr_aguacal_modeled_water_year_min.csv\n",
    "output\\sfr_kenwood_modeled_fdc_curve.csv.ins,output\\sfr_kenwood_modeled_fdc_curve.csv\n",
    "output\\sfr_kenwood_modeled_water_year_min.csv.ins,output\\sfr_kenwood_modeled_water_year_min.csv\n",
    "output\\ByCrop_TOTAL_DEMAND_PEST.txt.ins,output\\ByCrop_TOTAL_DEMAND_PEST.txt\n",
    "output\\ByCrop_IRR_DEPTH_PEST.txt.ins,output\\ByCrop_IRR_DEPTH_PEST.txt\n",
    "hk_estimates\\hk_estimates_for_pest_simulated_K.csv.ins,hk_estimates\\hk_estimates_for_pest_simulated_K.csv\n",
    "output\\ByFarm_ByCrop_not_subcat.csv.ins,output\\ByFarm_ByCrop_not_subcat.csv\n",
    "output\\ByFarm_ByCrop_subcat.csv.ins,output\\ByFarm_ByCrop_subcat.csv'''\n",
    "\n",
    "\n",
    "from io import StringIO\n",
    "\n",
    "\n",
    "\n",
    "TESTDATA = StringIO(tpl)\n",
    "\n",
    "ins_df = pd.read_csv(TESTDATA, sep=\",\", names = ['tpl', 'file'])\n",
    "\n",
    "ins_df =pd.concat([ins_df,array_ins_files_df ])\n",
    "ins_df"
   ]
  },
  {
   "cell_type": "code",
   "execution_count": null,
   "id": "137",
   "metadata": {},
   "outputs": [],
   "source": [
    "# ins_files = [os.path.join(ml.model_ws,f) for f in os.listdir(ml.model_ws) if f.endswith(\".ins\")]\n",
    "# output_files = [f.replace(\".ins\",'') for f in ins_files]\n",
    "# ins_files"
   ]
  },
  {
   "cell_type": "markdown",
   "id": "138",
   "metadata": {},
   "source": [
    "Now use these files to get a ``pyemu.Pst`` instance.  This object has lots of cool functionality..."
   ]
  },
  {
   "cell_type": "code",
   "execution_count": null,
   "id": "139",
   "metadata": {},
   "outputs": [],
   "source": [
    "tpl_df.tpl.values"
   ]
  },
  {
   "cell_type": "code",
   "execution_count": null,
   "id": "140",
   "metadata": {},
   "outputs": [],
   "source": [
    "tpl = [os.path.join( x) for x in list(tpl_df.tpl.values)]\n",
    "tpl.extend(tpl_pp_files)\n",
    "tpl"
   ]
  },
  {
   "cell_type": "code",
   "execution_count": null,
   "id": "141",
   "metadata": {},
   "outputs": [],
   "source": [
    "\n",
    "\n",
    "inputs = [os.path.join( x) for x in list(tpl_df.file.values)]\n",
    "inputs.extend(input_pp_files)\n",
    "inputs"
   ]
  },
  {
   "cell_type": "code",
   "execution_count": null,
   "id": "142",
   "metadata": {},
   "outputs": [],
   "source": [
    "tpl"
   ]
  },
  {
   "cell_type": "code",
   "execution_count": null,
   "id": "143",
   "metadata": {},
   "outputs": [],
   "source": [
    "assert len(inputs)==len(tpl)"
   ]
  },
  {
   "cell_type": "code",
   "execution_count": null,
   "id": "144",
   "metadata": {},
   "outputs": [],
   "source": [
    "os.path.join(template_ws,tpl_df.tpl.values[0])"
   ]
  },
  {
   "cell_type": "code",
   "execution_count": null,
   "id": "145",
   "metadata": {},
   "outputs": [],
   "source": [
    "[os.path.join(template_ws, x) for x in tpl_df.tpl.values]"
   ]
  },
  {
   "cell_type": "code",
   "execution_count": null,
   "id": "146",
   "metadata": {},
   "outputs": [],
   "source": [
    "# tpl = [os.path.join(template_ws, x) for x in tpl_df.tpl.values]\n",
    "# # tpl = list(tpl_df.tpl.values)\n",
    "# tpl.extend(tpl_files)\n",
    "# tpl\n",
    "# tpl_files = [os.path.join(template_ws, x) for x in  tpl_df.file.values]\n"
   ]
  },
  {
   "cell_type": "code",
   "execution_count": null,
   "id": "147",
   "metadata": {},
   "outputs": [],
   "source": [
    "mainpath = r\"C:\\GSP\\sv\\model\\update_2024\\scripts\"\n",
    "os.path.exists(mainpath)"
   ]
  },
  {
   "cell_type": "code",
   "execution_count": null,
   "id": "148",
   "metadata": {},
   "outputs": [],
   "source": [
    "ins_df.tpl.values"
   ]
  },
  {
   "cell_type": "code",
   "execution_count": null,
   "id": "149",
   "metadata": {},
   "outputs": [],
   "source": []
  },
  {
   "cell_type": "code",
   "execution_count": null,
   "id": "150",
   "metadata": {},
   "outputs": [],
   "source": [
    "os.chdir(mainpath)\n",
    "os.chdir(template_ws)\n",
    "# pst = pyemu.Pst.from_io_files(tpl,\n",
    "#                              inputs,\n",
    "#                              [os.path.join( x) for x in  ins_df.tpl.values]  ,\n",
    "#                              [os.path.join(  x) for x in  ins_df.file.values],\n",
    "#                               pst_path= None,\n",
    "#                              )\n",
    "\n",
    "pst = pyemu.Pst.from_io_files(tpl,\n",
    "                             inputs,\n",
    "                              list(ins_df.tpl.values) ,\n",
    "                              list(ins_df.file.values),\n",
    "                              pst_path= None,\n",
    "                             )\n",
    "os.chdir(mainpath)"
   ]
  },
  {
   "cell_type": "code",
   "execution_count": null,
   "id": "151",
   "metadata": {},
   "outputs": [],
   "source": []
  },
  {
   "cell_type": "code",
   "execution_count": null,
   "id": "152",
   "metadata": {},
   "outputs": [],
   "source": []
  },
  {
   "cell_type": "code",
   "execution_count": null,
   "id": "153",
   "metadata": {},
   "outputs": [],
   "source": [
    "pst.input_files"
   ]
  },
  {
   "cell_type": "code",
   "execution_count": null,
   "id": "154",
   "metadata": {},
   "outputs": [],
   "source": [
    "pst.observation_data.loc[pst.observation_data.station.isnull()].query(\" not obsnme.str.contains('simulatedequivalent')\").to_csv('erase.123.csv')"
   ]
  },
  {
   "cell_type": "markdown",
   "id": "155",
   "metadata": {
    "editable": true,
    "slideshow": {
     "slide_type": ""
    },
    "tags": []
   },
   "source": [
    "Let's look at some of the important parts of the ``Pst`` class.  First, all attributes coorespond to the names in list in the pest manual.  For instance, the ``* parameter data`` section of the control file is a ``pandas.DataFrame`` attribute named ``parameter_data``:"
   ]
  },
  {
   "cell_type": "markdown",
   "id": "156",
   "metadata": {},
   "source": [
    "We see that the columns of the ``DataFrame`` follow the pest naming conventions.  Its the same for ``* observation data``:"
   ]
  },
  {
   "cell_type": "code",
   "execution_count": null,
   "id": "157",
   "metadata": {},
   "outputs": [],
   "source": []
  },
  {
   "cell_type": "code",
   "execution_count": null,
   "id": "158",
   "metadata": {},
   "outputs": [],
   "source": [
    "\n"
   ]
  },
  {
   "cell_type": "markdown",
   "id": "159",
   "metadata": {},
   "source": [
    "# update observation data"
   ]
  },
  {
   "cell_type": "markdown",
   "id": "160",
   "metadata": {},
   "source": [
    "# Update SFR flows\n",
    "\n",
    "sfr\n",
    "\n",
    "    flow accumulation\n",
    "    increase weights for low flows (1/flow)\n",
    "    other flow derivatives\n",
    "    summer lows\n"
   ]
  },
  {
   "cell_type": "markdown",
   "id": "161",
   "metadata": {},
   "source": [
    "# add agual caliente observed flow"
   ]
  },
  {
   "cell_type": "code",
   "execution_count": null,
   "id": "162",
   "metadata": {},
   "outputs": [],
   "source": [
    "param='00060'\n",
    "station = '11458500'\n",
    "begin_year = 1950\n",
    "begin_month = 10"
   ]
  },
  {
   "cell_type": "code",
   "execution_count": null,
   "id": "163",
   "metadata": {},
   "outputs": [],
   "source": [
    "url = 'https://waterdata.usgs.gov/nwis/dv?cb_{:}=on&format=rdb&site_no={:}&referred_module=sw&period=&begin_date={:}-{:}-01'.\\\n",
    "format(param, station, begin_year, begin_month)\n",
    "url"
   ]
  },
  {
   "cell_type": "code",
   "execution_count": null,
   "id": "164",
   "metadata": {},
   "outputs": [],
   "source": [
    "from importlib import reload\n",
    "reload(conda_scripts)"
   ]
  },
  {
   "cell_type": "code",
   "execution_count": null,
   "id": "165",
   "metadata": {},
   "outputs": [],
   "source": [
    "\n",
    "flow_agua, info = conda_scripts.arich_functions.download_daily('11458500')\n",
    "\n",
    "c = flow_agua.Q==0\n",
    "flow_agua.loc[c,'Q'] = 0.001\n",
    "flow_agua = flow_agua.resample(\"ME\").mean()*60*60*24"
   ]
  },
  {
   "cell_type": "code",
   "execution_count": null,
   "id": "166",
   "metadata": {},
   "outputs": [],
   "source": []
  },
  {
   "cell_type": "code",
   "execution_count": null,
   "id": "167",
   "metadata": {},
   "outputs": [],
   "source": []
  },
  {
   "cell_type": "code",
   "execution_count": null,
   "id": "168",
   "metadata": {},
   "outputs": [],
   "source": [
    "print((666710.1678579473- 10**(np.log10(666710.1678579473)+0.045))/666710.1678579473)\n",
    "print((666710.1678579473- 10**(np.log10(666710.1678579473)-0.045))/666710.1678579473)"
   ]
  },
  {
   "cell_type": "markdown",
   "id": "169",
   "metadata": {},
   "source": [
    "# set observed values for log-transformed\n",
    "\n",
    "_standard deviaton values cannot be set using true std value. because they're way too big when using:_  \n",
    "Q = mean flow in ft*3/day  \n",
    "log10(Q*0.1) = log10(666710*0.1) = 4.82  \n",
    "\n",
    "((ken_df.Q.mean()- 10**(np.log10(ken_df.Q.mean())+0.045))/ken_df.Q.mean())  \n",
    "((ken_df.Q.mean()- 10**(np.log10(ken_df.Q.mean())-0.045))/ken_df.Q.mean())  \n",
    "\n",
    "__therefore using a static value of 0.045 which makes the raw value to be about +/-10%__"
   ]
  },
  {
   "cell_type": "code",
   "execution_count": null,
   "id": "170",
   "metadata": {},
   "outputs": [],
   "source": [
    "print(f\"{100*(666710.1678579473- 10**(np.log10(666710.1678579473)+0.045))/666710.1678579473:.1f}% to {100*(666710.1678579473- 10**(np.log10(666710.1678579473)-0.045))/666710.1678579473:.1f}%\")"
   ]
  },
  {
   "cell_type": "code",
   "execution_count": null,
   "id": "171",
   "metadata": {},
   "outputs": [],
   "source": []
  },
  {
   "cell_type": "code",
   "execution_count": null,
   "id": "172",
   "metadata": {
    "tags": []
   },
   "outputs": [],
   "source": [
    "# import numpy as np\n",
    "# import pandas as pd\n",
    "\n",
    "# def generate_autocorrelated_errors(original_series, ensemble_size = 150, std_dev_error = 0.5, autocorr_coefficient = 0.8   ):\n",
    "#     # Example timeseries data\n",
    "#     np.random.seed(42)  # For reproducibility\n",
    "\n",
    "#     # Parameters for the ensemble\n",
    "#     # std_dev_error = 0.5  # Standard deviation of the errors\n",
    "#     # autocorr_coefficient = 0.8  # Autocorrelation coefficient for AR(1)\n",
    "\n",
    "#     # Function to generate autocorrelated errors using an AR(1) process\n",
    "#     def auto_corr(length, std_dev, autocorr):\n",
    "#         errors = np.zeros(length)\n",
    "#         errors[0] = np.random.normal(0, std_dev)  # Initial error\n",
    "#         for i in range(1, length):\n",
    "#             errors[i] = autocorr * errors[i - 1] + np.random.normal(0, std_dev * np.sqrt(1 - autocorr**2))\n",
    "#         return errors\n",
    "\n",
    "#     # Creating the ensemble\n",
    "\n",
    "#     seall = []\n",
    "#     for i in range(ensemble_size):\n",
    "#         # Generate autocorrelated errors\n",
    "#         errors = auto_corr(len(original_series), std_dev_error, autocorr_coefficient)\n",
    "\n",
    "#         # Create ensemble member by adding errors to the original series\n",
    "#         ser = pd.DataFrame(original_series + errors,columns = [f'Ensemble_{i+1}'], index = original_series.index)\n",
    "#         seall.append(ser)\n",
    "                        \n",
    "#     # print(seall)\n",
    "#     ensemble = pd.concat(seall,axis = 1)\n",
    "#     # ensemble.loc['Original'] = original_series\n",
    "    \n",
    "#     return ensemble\n",
    "        \n",
    "# dates = pd.date_range(start='2023-01-01', periods=100, freq='D')\n",
    "# original_series = pd.Series(np.random.normal(0, 1, size=len(dates))*1, index=dates)\n",
    "\n",
    "# ensemble = generate_autocorrelated_errors(original_series, ensemble_size = 150, std_dev_error = 0.5, autocorr_coefficient = 0.8   )\n",
    "# ensemble.plot()"
   ]
  },
  {
   "cell_type": "code",
   "execution_count": null,
   "id": "173",
   "metadata": {},
   "outputs": [],
   "source": []
  },
  {
   "cell_type": "code",
   "execution_count": null,
   "id": "174",
   "metadata": {},
   "outputs": [],
   "source": [
    "agua_obs = pst.observation_data.query(\"obsnme.str.contains('agua') & not obsnme.str.contains('raw')\").copy()\n",
    "# agua_obs.loc[:,'date'] = (pd.to_timedelta(agua_obs.time.astype(float), unit = \"D\")+pd.to_datetime('11/30/1969'))\n",
    "agua_obs = agua_obs.astype({'date':'datetime64[ns]'})\n",
    "\n",
    "flow_agua_log = flow_agua.resample(\"ME\").mean().copy()\n",
    "\n",
    "flow_agua_log.loc[:,'Q'] = flow_agua_log.loc[:,'Q'].apply(np.log10)\n",
    "\n",
    "\n",
    "agua_obs = pd.merge(agua_obs, flow_agua_log, left_on = 'date', right_index = True, how = 'left')\n",
    "\n",
    "#transform the observed to log\n",
    "# ax = agua_obs.plot.scatter(x = 'date', y = 'obsval')\n",
    "# agua_obs.plot.scatter(x = 'date', y = 'Q', ax = ax, c = 'r')\n",
    "# # display(agua_obs.sort_values('date'))\n",
    "\n",
    "#set obsval to Q where not null\n",
    "\n",
    "agua_obs.loc[agua_obs.Q.notnull(),'standard_deviation'] = .045\n",
    "agua_obs.loc[agua_obs.Q.notnull(),'obsval'] = agua_obs.loc[agua_obs.Q.notnull(),'Q']\n",
    "agua_obs.loc[agua_obs.Q.isnull(),'obsval'] = -999\n",
    "agua_obs.loc[agua_obs.Q.notnull(),'weight'] = 1/agua_obs.loc[agua_obs.Q.notnull(),'obsval'] \n",
    "agua_obs.loc[agua_obs.Q.isnull(),'weight'] = 0\n",
    "agua_obs.loc[:,'obgnme'] = 'aguacal_log'\n",
    "\n",
    "#set weights at 75th percentil in order to not over emphasize small values\n",
    "\n",
    "c = agua_obs.loc[:,'weight'] > np.percentile(agua_obs.loc[agua_obs.Q.notnull(),'weight'],75)\n",
    "agua_obs.loc[c,'weight'] = np.percentile(agua_obs.loc[agua_obs.Q.notnull(),'weight'],75)\n",
    "\n",
    "pst.observation_data.loc[agua_obs.index,['obsval','weight','obgnme', 'standard_deviation']] = agua_obs.loc[:,['obsval','weight','obgnme', 'standard_deviation']]\n",
    "\n",
    "display(agua_obs.sort_values('date').head())\n",
    "display(pst.observation_data.query(\"obgnme=='aguacal_log'\").head())\n",
    "\n",
    "r = agua_obs.copy()\n",
    "r.loc[:,'weight'] = 400\n",
    "r.loc[:,'phi'] = ((r.loc[:,'Q'] - r.loc[:,'obsval'])**2)*r.weight\n",
    "\n",
    "ax = agua_obs.query(\"obsval>-10\").plot.scatter(x = 'date', y = 'Q', title = 'agua caliente', label = 'Measured')\n",
    "ax2 = ax.twinx()\n",
    "agua_obs.query(\"obsval>-10\").plot.scatter(x = 'date', y = 'weight',  label = 'weight', ax = ax2, marker = 'o', c = 'r')\n",
    "\n",
    "plt.figure()\n",
    "agua_obs.query(\"obsval>-10\").weight.plot.hist()\n",
    "plt.figure()\n",
    "ax = agua_obs.query(\"obsval>-10\").plot.scatter(x = 'weight', y = 'Q', title = 'agua caliente', label = 'Measured')\n",
    "\n"
   ]
  },
  {
   "cell_type": "code",
   "execution_count": null,
   "id": "175",
   "metadata": {},
   "outputs": [],
   "source": [
    "\n",
    "\n",
    "\n"
   ]
  },
  {
   "cell_type": "code",
   "execution_count": null,
   "id": "176",
   "metadata": {},
   "outputs": [],
   "source": [
    "agua_obs = pst.observation_data.query(\"obsnme.str.contains('agua') & obsnme.str.contains('raw')\").copy()\n",
    "# agua_obs.loc[:,'date'] = (pd.to_timedelta(agua_obs.time.astype(float), unit = \"D\")+pd.to_datetime('11/30/1969'))\n",
    "agua_obs = agua_obs.astype({'date':'datetime64[ns]'})\n",
    "\n",
    "flow_agua_res = flow_agua.resample(\"ME\").mean().copy()\n",
    "\n",
    "\n",
    "agua_obs = pd.merge(agua_obs, flow_agua_res, left_on = 'date', right_index = True, how = 'left')\n",
    "\n",
    "#transform the observed to log\n",
    "\n",
    "# ax = agua_obs.plot.scatter(x = 'date', y = 'obsval')\n",
    "# agua_obs.plot.scatter(x = 'date', y = 'Q', ax = ax, c = 'r')\n",
    "# display(agua_obs.sort_values('date'))\n",
    "\n",
    "#set obsval to Q where not null\n",
    "\n",
    "agua_obs.loc[agua_obs.Q.notnull(),'obsval'] = agua_obs.loc[agua_obs.Q.notnull(),'Q']\n",
    "agua_obs.loc[agua_obs.Q.isnull(),'obsval'] = -999\n",
    "agua_obs.loc[:,'weight'] = 0\n",
    "agua_obs.loc[:,'obgnme'] = 'aguacal_raw'\n",
    "\n",
    "\n",
    "# agua_obs.to_csv(os.path.join(template_ws,'sfr_aguacal_obs.csv'))\n",
    "\n",
    "pst.observation_data.loc[agua_obs.index,['obsval','weight','obgnme']] = agua_obs.loc[:,['obsval','weight','obgnme']]\n",
    "\n",
    "display(agua_obs.sort_values('date').head())\n",
    "display(pst.observation_data.query(\"obgnme=='aguacal_raw'\").head())"
   ]
  },
  {
   "cell_type": "code",
   "execution_count": null,
   "id": "177",
   "metadata": {},
   "outputs": [],
   "source": []
  },
  {
   "cell_type": "code",
   "execution_count": null,
   "id": "178",
   "metadata": {},
   "outputs": [],
   "source": []
  },
  {
   "cell_type": "code",
   "execution_count": null,
   "id": "179",
   "metadata": {},
   "outputs": [],
   "source": [
    "\n",
    "flow_ken, _ = conda_scripts.arich_functions.download_daily('11458433')\n",
    "\n",
    "c = flow_ken.Q==0\n",
    "flow_ken.loc[c,'Q'] = 0.001\n",
    "\n",
    "flow_ken = flow_ken.resample(\"ME\").mean()*60*60*24"
   ]
  },
  {
   "cell_type": "code",
   "execution_count": null,
   "id": "180",
   "metadata": {},
   "outputs": [],
   "source": []
  },
  {
   "cell_type": "code",
   "execution_count": null,
   "id": "181",
   "metadata": {},
   "outputs": [],
   "source": [
    "ken_df = pst.observation_data.query(\"obsnme.str.contains('ken') & not obsnme.str.contains('raw')\").copy()\n",
    "# ken_df.loc[:,'date'] = (pd.to_timedelta(ken_df.time.astype(float), unit = \"D\")+pd.to_datetime('11/30/1969'))\n",
    "ken_df = ken_df.astype({'date':'datetime64[ns]'})\n",
    "\n",
    "flow_ken_log = flow_ken.resample(\"ME\").mean().copy()\n",
    "\n",
    "flow_ken_log.loc[:,'Q'] = flow_ken_log.loc[:,'Q'].apply(np.log10)\n",
    "\n",
    "ken_df = pd.merge(ken_df, flow_ken_log, left_on = 'date', right_index = True,how = 'left')\n",
    "# ax = ken_df.plot.scatter(x = 'date', y = 'obsval', label = 'modeled')\n",
    "# ken_df.plot.scatter(x = 'date', y = 'Q', ax = ax, c = 'r', label = 'obs')\n",
    "# display(ken_df.sort_values('date'))\n",
    "\n",
    "#set obsval to Q where not null\n",
    "ken_df.loc[ken_df.Q.notnull(),'standard_deviation'] = 0.045\n",
    "ken_df.loc[ken_df.Q.notnull(),'obsval'] = ken_df.loc[ken_df.Q.notnull(),'Q']\n",
    "ken_df.loc[ken_df.Q.isnull(),'obsval'] = -999\n",
    "ken_df.loc[ken_df.Q.notnull(),'weight'] = 1/ken_df.loc[ken_df.Q.notnull(),'obsval'] \n",
    "ken_df.loc[ken_df.Q.isnull(),'weight'] = 0\n",
    "ken_df.loc[:,'obgnme'] = 'kenwood_log'\n",
    "\n",
    "#set weights at 75th percentil in order to not over emphasize small values\n",
    "c = ken_df.loc[:,'weight'] > np.percentile(ken_df.loc[ken_df.Q.notnull(),'weight'],75)\n",
    "ken_df.loc[c,'weight'] = np.percentile(ken_df.loc[ken_df.Q.notnull(),'weight'],75)\n",
    "\n",
    "pst.observation_data.loc[ken_df.index,['obsval','weight','obgnme', 'standard_deviation']] = ken_df.loc[:,['obsval','weight','obgnme','standard_deviation']]\n",
    "\n",
    "display(ken_df.sort_values('date').head())\n",
    "display(pst.observation_data.query(\"obgnme=='kenwood_log'\").head())\n",
    "\n",
    "ax = ken_df.query(\"obsval>-10\").plot.scatter(x = 'date', y = 'Q', title = 'agua caliente', label = 'Measured')\n",
    "ax2 = ax.twinx()\n",
    "ken_df.query(\"obsval>-10\").plot.scatter(x = 'date', y = 'weight',  label = 'weight', ax = ax2, marker = 'o', c = 'r')\n",
    "plt.figure()\n",
    "ken_df.query(\"obsval>-10\").weight.plot.hist()\n",
    "plt.figure()\n",
    "ax = ken_df.query(\"obsval>-10\").plot.scatter(x = 'weight', y = 'Q', title = 'agua caliente', label = 'Measured')"
   ]
  },
  {
   "cell_type": "code",
   "execution_count": null,
   "id": "182",
   "metadata": {},
   "outputs": [],
   "source": [
    "ken_df = pst.observation_data.query(\"obsnme.str.contains('ken') & obsnme.str.contains('raw')\")\n",
    "# ken_df.loc[:,'date'] = (pd.to_timedelta(ken_df.time.astype(float), unit = \"D\")+pd.to_datetime('11/30/1969'))\n",
    "ken_df = ken_df.astype({'date':'datetime64[ns]'})\n",
    "flow_ken_res = flow_ken.resample(\"ME\").mean().copy()\n",
    "\n",
    "\n",
    "ken_df = pd.merge(ken_df, flow_ken_res, left_on = 'date', right_index = True,how = 'left')\n",
    "ax = ken_df.plot.scatter(x = 'date', y = 'obsval', label = 'modeled')\n",
    "ken_df.plot.scatter(x = 'date', y = 'Q', ax = ax, c = 'r', label = 'obs')\n",
    "# display(ken_df.sort_values('date'))\n",
    "\n",
    "#set obsval to Q where not null\n",
    "\n",
    "ken_df.loc[ken_df.Q.notnull(),'obsval'] = ken_df.loc[ken_df.Q.notnull(),'Q']\n",
    "ken_df.loc[ken_df.Q.isnull(),'obsval'] = -999\n",
    "ken_df.loc[:,'weight'] = 0\n",
    "ken_df.loc[:,'obgnme'] = 'ken_raw'\n",
    "\n",
    "\n",
    "\n",
    "pst.observation_data.loc[ken_df.index,['obsval','weight','obgnme']] = ken_df.loc[:,['obsval','weight','obgnme']]\n",
    "\n",
    "display(ken_df.sort_values('date').head())\n",
    "display(pst.observation_data.query(\"obgnme=='ken_raw'\").head())"
   ]
  },
  {
   "cell_type": "markdown",
   "id": "183",
   "metadata": {},
   "source": [
    "# set SFR derivative observation values and weights"
   ]
  },
  {
   "cell_type": "code",
   "execution_count": null,
   "id": "184",
   "metadata": {},
   "outputs": [],
   "source": []
  },
  {
   "cell_type": "code",
   "execution_count": null,
   "id": "185",
   "metadata": {},
   "outputs": [],
   "source": [
    "sfr_fdc_aguacal.loc[:,'obsval \tweight \tobgnme'.split()].head()"
   ]
  },
  {
   "cell_type": "code",
   "execution_count": null,
   "id": "186",
   "metadata": {},
   "outputs": [],
   "source": []
  },
  {
   "cell_type": "code",
   "execution_count": null,
   "id": "187",
   "metadata": {},
   "outputs": [],
   "source": [
    "fdc_agua \n",
    "fdc_kenwood \n",
    "\n",
    "fdc_aguacal_yearly_min \n",
    "fdc_kenwood_yearly_min "
   ]
  },
  {
   "cell_type": "code",
   "execution_count": null,
   "id": "188",
   "metadata": {},
   "outputs": [],
   "source": [
    "pst.observation_data.loc[fdc_agua.index,['obsval','weight','obgnme']] = fdc_agua.loc[:,['obsval','weight','obgnme']]\n",
    "pst.observation_data.loc[fdc_kenwood.index,['obsval','weight','obgnme']] = fdc_kenwood.loc[:,['obsval','weight','obgnme']]\n",
    "\n",
    "pst.observation_data.loc[fdc_agua.index,['standard_deviation']] = 0.02\n",
    "pst.observation_data.loc[fdc_kenwood.index,['standard_deviation']] = 0.02\n"
   ]
  },
  {
   "cell_type": "code",
   "execution_count": null,
   "id": "189",
   "metadata": {},
   "outputs": [],
   "source": [
    "fdc_aguacal_yearly_min.index"
   ]
  },
  {
   "cell_type": "code",
   "execution_count": null,
   "id": "190",
   "metadata": {},
   "outputs": [],
   "source": [
    "pst.observation_data.query(\"obsnme.str.contains('wy_min')\")"
   ]
  },
  {
   "cell_type": "code",
   "execution_count": null,
   "id": "191",
   "metadata": {},
   "outputs": [],
   "source": []
  },
  {
   "cell_type": "code",
   "execution_count": null,
   "id": "192",
   "metadata": {},
   "outputs": [],
   "source": []
  },
  {
   "cell_type": "code",
   "execution_count": null,
   "id": "193",
   "metadata": {},
   "outputs": [],
   "source": [
    "assert fdc_aguacal_yearly_min.index[~fdc_aguacal_yearly_min.index.isin(pst.observation_data.index)].shape[0]==0, 'theres missing observations from the fdc_aguacal_yearly_min'"
   ]
  },
  {
   "cell_type": "code",
   "execution_count": null,
   "id": "194",
   "metadata": {},
   "outputs": [],
   "source": [
    "assert fdc_kenwood_yearly_min.index[~fdc_kenwood_yearly_min.index.isin(pst.observation_data.index)].shape[0]==0, 'theres missing observations from the fdc_kenwood_yearly_min'"
   ]
  },
  {
   "cell_type": "code",
   "execution_count": null,
   "id": "195",
   "metadata": {},
   "outputs": [],
   "source": []
  },
  {
   "cell_type": "code",
   "execution_count": null,
   "id": "196",
   "metadata": {},
   "outputs": [],
   "source": [
    "pst.observation_data.loc[fdc_aguacal_yearly_min.index,['obsval','weight','obgnme']] = fdc_aguacal_yearly_min.loc[:,['obsval','weight','obgnme']]\n",
    "pst.observation_data.loc[fdc_kenwood_yearly_min.index,['obsval','weight','obgnme']] = fdc_kenwood_yearly_min.loc[:,['obsval','weight','obgnme']]\n",
    "\n",
    "pst.observation_data.loc[fdc_aguacal_yearly_min.index,['standard_deviation']] = 0.045\n",
    "pst.observation_data.loc[fdc_kenwood_yearly_min.index,['standard_deviation']] = 0.045\n",
    "\n",
    "\n",
    "display(pst.observation_data.loc[fdc_aguacal_yearly_min.index,:])\n",
    "display(pst.observation_data.loc[fdc_kenwood_yearly_min.index,:])"
   ]
  },
  {
   "cell_type": "markdown",
   "id": "197",
   "metadata": {},
   "source": [
    "# set group names and weights to hds and flux observations"
   ]
  },
  {
   "cell_type": "code",
   "execution_count": null,
   "id": "198",
   "metadata": {},
   "outputs": [],
   "source": [
    "pst.observation_data.query(\"oname.str.contains('hds')\")"
   ]
  },
  {
   "cell_type": "code",
   "execution_count": null,
   "id": "199",
   "metadata": {},
   "outputs": [],
   "source": [
    "pst.observation_data.loc[pst.observation_data.query(\"oname.str.contains('hds')\").index,['obgnme','weight']] = ['hds',1.]\n",
    "pst.observation_data.loc[pst.observation_data.query(\"oname.str.contains('flux')\").index,['obgnme','weight']] = ['flux',0.]"
   ]
  },
  {
   "cell_type": "code",
   "execution_count": null,
   "id": "200",
   "metadata": {},
   "outputs": [],
   "source": []
  },
  {
   "cell_type": "code",
   "execution_count": null,
   "id": "201",
   "metadata": {},
   "outputs": [],
   "source": [
    "# set weight to zero for simulated values of -9999\n",
    "pst.observation_data.loc[pst.observation_data.query(\"oname.str.contains('hds') & obsval==-9999\").index,['obgnme','weight']] = ['hds',0]"
   ]
  },
  {
   "cell_type": "code",
   "execution_count": null,
   "id": "202",
   "metadata": {},
   "outputs": [],
   "source": [
    "info = pd.read_csv(os.path.join('..','waterlevel', 'GWLE','gwle_station_info.csv'),index_col=0)\n",
    "info.head()"
   ]
  },
  {
   "cell_type": "code",
   "execution_count": null,
   "id": "203",
   "metadata": {},
   "outputs": [],
   "source": []
  },
  {
   "cell_type": "code",
   "execution_count": null,
   "id": "204",
   "metadata": {},
   "outputs": [],
   "source": [
    "diff_obs = pd.read_csv(os.path.join('..','waterlevel', 'GWLE', 'gwle_drawdown_observed_heads.csv'),index_col=0)\n",
    "abs_obs = pd.read_csv(os.path.join('..','waterlevel', 'GWLE', 'gwle_asbolute_observed_heads.csv'),index_col=0)\n",
    "roll_obs = pd.read_csv(os.path.join('..','waterlevel', 'GWLE', 'gwle_rolling_observed_heads.csv'),index_col=0)\n",
    "roll_18month_obs = pd.read_csv(os.path.join('..','waterlevel', 'GWLE', 'gwle_rolling_18month_observed_heads.csv'),index_col=0)\n",
    "\n",
    "diff_obs.head(1)"
   ]
  },
  {
   "cell_type": "code",
   "execution_count": null,
   "id": "205",
   "metadata": {},
   "outputs": [],
   "source": [
    "diff_obs = pd.merge(diff_obs, info, right_on = 'Station Name',  left_on= 'Station' )\n",
    "abs_obs = pd.merge(abs_obs, info, right_on = 'Station Name',  left_on= 'Station' )"
   ]
  },
  {
   "cell_type": "code",
   "execution_count": null,
   "id": "206",
   "metadata": {},
   "outputs": [],
   "source": [
    "roll_obs = pd.merge(roll_obs, info, right_on = 'Station Name',  left_on= 'Station' )"
   ]
  },
  {
   "cell_type": "code",
   "execution_count": null,
   "id": "207",
   "metadata": {},
   "outputs": [],
   "source": [
    "roll_18month_obs = pd.merge(roll_18month_obs, info, right_on = 'Station Name',  left_on= 'Station' )"
   ]
  },
  {
   "cell_type": "code",
   "execution_count": null,
   "id": "208",
   "metadata": {},
   "outputs": [],
   "source": [
    "roll_18month_obs.head()"
   ]
  },
  {
   "cell_type": "markdown",
   "id": "209",
   "metadata": {},
   "source": [
    "# assign groupnames"
   ]
  },
  {
   "cell_type": "code",
   "execution_count": null,
   "id": "210",
   "metadata": {},
   "outputs": [],
   "source": [
    "diff_obs = diff_obs.rename(columns = {'meas':'obsval'})\n",
    "abs_obs = abs_obs.rename(columns = {'meas':'obsval'})\n",
    "diff_obs.loc[:,'obgnme'] = diff_obs.apply(lambda x: \"gwle_ddown_{:}_{:}\".format(x['Depth'].lower(),x['zone']), axis = 1)\n",
    "abs_obs.loc[:,'obgnme'] = abs_obs.apply(lambda x: \"gwle_abs_{:}_{:}\".format(x['Depth'].lower(),x['zone']), axis = 1)\n"
   ]
  },
  {
   "cell_type": "code",
   "execution_count": null,
   "id": "211",
   "metadata": {},
   "outputs": [],
   "source": [
    "roll_obs = roll_obs.rename(columns = {'meas':'obsval'})\n",
    "roll_obs.loc[:,'obgnme'] = roll_obs.apply(lambda x: \"gwle_roll_{:}_{:}\".format(x['Depth'].lower(),x['zone']), axis = 1)"
   ]
  },
  {
   "cell_type": "code",
   "execution_count": null,
   "id": "212",
   "metadata": {},
   "outputs": [],
   "source": [
    "roll_18month_obs = roll_18month_obs.rename(columns = {'meas':'obsval'})\n",
    "roll_18month_obs.loc[:,'obgnme'] = roll_18month_obs.apply(lambda x: \"gwle_roll18month_{:}_{:}\".format(x['Depth'].lower(),x['zone']), axis = 1)"
   ]
  },
  {
   "cell_type": "markdown",
   "id": "213",
   "metadata": {},
   "source": [
    "# assign weights\n",
    "\n",
    "__this used to assign weights to groups, but is now done later__"
   ]
  },
  {
   "cell_type": "code",
   "execution_count": null,
   "id": "214",
   "metadata": {},
   "outputs": [],
   "source": []
  },
  {
   "cell_type": "code",
   "execution_count": null,
   "id": "215",
   "metadata": {},
   "outputs": [],
   "source": [
    "# v = 1/diff_obs.loc[:,'obgnme'].value_counts().to_frame('weight')\n",
    "\n",
    "# v.loc[v.index.str.contains('EastSide')] = v.loc[v.index.str.contains('EastSide')]*5\n",
    "\n",
    "# dd = 1/abs_obs.loc[:,'obgnme'].value_counts().to_frame('weight')\n",
    "\n",
    "# dd.loc[dd.index.str.contains('EastSide')] = dd.loc[dd.index.str.contains('EastSide')]*5"
   ]
  },
  {
   "cell_type": "code",
   "execution_count": null,
   "id": "216",
   "metadata": {},
   "outputs": [],
   "source": [
    "# cc = 1/roll_obs.loc[:,'obgnme'].value_counts().to_frame('weight')\n",
    "\n",
    "# cc.loc[cc.index.str.contains('EastSide')] = cc.loc[cc.index.str.contains('EastSide')]*5"
   ]
  },
  {
   "cell_type": "code",
   "execution_count": null,
   "id": "217",
   "metadata": {},
   "outputs": [],
   "source": [
    "# diff_obs = pd.merge(diff_obs, v, left_on = 'obgnme', right_index = True)\n",
    "# abs_obs = pd.merge(abs_obs, dd, left_on = 'obgnme', right_index = True)"
   ]
  },
  {
   "cell_type": "code",
   "execution_count": null,
   "id": "218",
   "metadata": {},
   "outputs": [],
   "source": [
    "# roll_obs = pd.merge(roll_obs, cc, left_on = 'obgnme', right_index = True)"
   ]
  },
  {
   "cell_type": "code",
   "execution_count": null,
   "id": "219",
   "metadata": {},
   "outputs": [],
   "source": []
  },
  {
   "cell_type": "code",
   "execution_count": null,
   "id": "220",
   "metadata": {},
   "outputs": [],
   "source": [
    "num_obs = pd.concat(\n",
    "[diff_obs.loc[:,'obgnme'].value_counts().to_frame('Drawdown Differences').rename(lambda x:' '.join(x.split(\"_\")[2:][::-1])),\n",
    " abs_obs.loc[:,'obgnme'].value_counts().to_frame('Absolute Values').rename(lambda x:' '.join(x.split(\"_\")[2:][::-1])),\n",
    " roll_obs.loc[:,'obgnme'].value_counts().to_frame('8-year Means').rename(lambda x:' '.join(x.split(\"_\")[2:][::-1])),\n",
    "roll_18month_obs.loc[:,'obgnme'].value_counts().to_frame('18-month Means').rename(lambda x:' '.join(x.split(\"_\")[2:][::-1])) ], axis = 1)\n",
    "num_obs = num_obs.sort_index()\n",
    "num_obs.to_excel('Number of observations from GWLE.xlsx')\n",
    "ax = num_obs.plot.bar()\n",
    "ax.set_title('Number of observations from GWLE')\n",
    "ax.grid(True)\n",
    "plt.savefig('GWLE number obs.png', dpi = 250, bbox_inches = 'tight')\n",
    "display(num_obs)"
   ]
  },
  {
   "cell_type": "code",
   "execution_count": null,
   "id": "221",
   "metadata": {},
   "outputs": [],
   "source": [
    "\n"
   ]
  },
  {
   "cell_type": "markdown",
   "id": "222",
   "metadata": {},
   "source": [
    "# set index names for setting values"
   ]
  },
  {
   "cell_type": "code",
   "execution_count": null,
   "id": "223",
   "metadata": {},
   "outputs": [],
   "source": [
    "diff_obs.index = diff_obs.apply(lambda x: \"oname:gwle_ddown_otype:lst_usecol:meas_station:{:}_date:{:}\".format(x['Station'].lower(),x['date']), axis = 1)\n",
    "abs_obs.index = abs_obs.apply(lambda x: \"oname:gwle_abs_otype:lst_usecol:meas_station:{:}_date:{:}\".format(x['Station'].lower(),x['date']), axis = 1)"
   ]
  },
  {
   "cell_type": "code",
   "execution_count": null,
   "id": "224",
   "metadata": {},
   "outputs": [],
   "source": []
  },
  {
   "cell_type": "code",
   "execution_count": null,
   "id": "225",
   "metadata": {},
   "outputs": [],
   "source": [
    "roll_obs.index = roll_obs.apply(lambda x: \"oname:gwle_roll_otype:lst_usecol:meas_station:{:}_date:{:}\".format(x['Station'].lower(),x['date']), axis = 1)"
   ]
  },
  {
   "cell_type": "code",
   "execution_count": null,
   "id": "226",
   "metadata": {},
   "outputs": [],
   "source": [
    "roll_18month_obs.index = roll_18month_obs.apply(lambda x: \"oname:gwle_roll18month_otype:lst_usecol:meas_station:{:}_date:{:}\".format(x['Station'].lower(),x['date']), axis = 1)\n"
   ]
  },
  {
   "cell_type": "markdown",
   "id": "227",
   "metadata": {},
   "source": []
  },
  {
   "cell_type": "code",
   "execution_count": null,
   "id": "228",
   "metadata": {},
   "outputs": [],
   "source": []
  },
  {
   "cell_type": "markdown",
   "id": "229",
   "metadata": {},
   "source": [
    "# set weights\n",
    "\n",
    "__setting weights based on the number of observations for given location__\n",
    "\n",
    "_assumes that the predictions for a station is predominantly a funcion of the # of observations for the location_"
   ]
  },
  {
   "cell_type": "code",
   "execution_count": null,
   "id": "230",
   "metadata": {},
   "outputs": [],
   "source": [
    "import mapclassify\n",
    "import matplotlib.pyplot as plt\n",
    "import textwrap"
   ]
  },
  {
   "cell_type": "code",
   "execution_count": null,
   "id": "231",
   "metadata": {},
   "outputs": [],
   "source": [
    "def std_set(x):\n",
    "    '''\n",
    "    x = number of observations\n",
    "    '''\n",
    "    std = mapclassify.JenksCaspall(x, 10)\n",
    "    y = std.find_bin(x)+1\n",
    "    # print(y)\n",
    "    # y = 25*np.exp(-y)+5\n",
    "    # y = 1.75*(y)\n",
    "\n",
    "    #just setting to 5 \n",
    "    # y = np.ones(x.shape)*5\n",
    "    \n",
    "    return y"
   ]
  },
  {
   "cell_type": "code",
   "execution_count": null,
   "id": "232",
   "metadata": {},
   "outputs": [],
   "source": []
  },
  {
   "cell_type": "code",
   "execution_count": null,
   "id": "233",
   "metadata": {},
   "outputs": [],
   "source": [
    "ax = diff_obs.drop_duplicates('Station').num_meas.hist(bins = 100)\n",
    "\n",
    "x = np.arange(0,400,20)\n",
    "\n",
    "y = std_set(x)\n",
    "\n",
    "ax.set_ylabel(\"frequency\")\n",
    "ax.set_xlabel(\"# of observations\")\n",
    "# Add the text to the top right corner\n",
    "ax.text(1.0, 1.0, '\\n'.join(textwrap.wrap('Standard Deviation is a function of the number of measurements used in GWLE',15)), \n",
    "        transform=ax.transAxes, fontsize=12, verticalalignment='top', horizontalalignment='right', bbox=dict(facecolor='grey', alpha=0.9))\n",
    "ax.set_title('Calculating Weights for GWLE values in PEST')\n",
    "\n",
    "ax2 = ax.twinx()\n",
    "ax2.scatter(x,y, c = 'r')\n",
    "ax2.set_ylabel('Weights')\n",
    "\n",
    "plt.savefig('Calculating Weights for GWLE values in PEST'.replace(' ','')+'.png', dpi = 250)"
   ]
  },
  {
   "cell_type": "code",
   "execution_count": null,
   "id": "234",
   "metadata": {},
   "outputs": [],
   "source": [
    "diff_obs.loc[:,'weight'] = std_set(diff_obs.loc[:,'num_meas'])\n",
    "abs_obs.loc[:,'weight'] = std_set(abs_obs.loc[:,'num_meas'])\n",
    "roll_obs.loc[:,'weight'] = std_set(roll_obs.loc[:,'num_meas'])\n",
    "roll_18month_obs.loc[:,'weight'] = std_set(roll_18month_obs.loc[:,'num_meas'])"
   ]
  },
  {
   "cell_type": "code",
   "execution_count": null,
   "id": "235",
   "metadata": {},
   "outputs": [],
   "source": [
    "diff_obs.loc[:,'standard_deviation'] = 3.0\n",
    "abs_obs.loc[:,'standard_deviation'] = 3.0\n",
    "roll_obs.loc[:,'standard_deviation'] = 3.0\n",
    "roll_18month_obs.loc[:,'standard_deviation'] = 3.0"
   ]
  },
  {
   "cell_type": "code",
   "execution_count": null,
   "id": "236",
   "metadata": {},
   "outputs": [],
   "source": []
  },
  {
   "cell_type": "code",
   "execution_count": null,
   "id": "237",
   "metadata": {},
   "outputs": [],
   "source": [
    "print(diff_obs.drop_duplicates('Station').weight.describe())\n",
    "print(diff_obs.drop_duplicates('Station').weight.value_counts().sort_index())\n",
    "\n",
    "ax = diff_obs.drop_duplicates('Station').weight.hist(bins = 100)\n",
    "ax.set_ylabel(\"# of observations\")\n",
    "ax.set_xlabel(\"weight for observation data\")\n",
    "ax.set_title(\"\")"
   ]
  },
  {
   "cell_type": "code",
   "execution_count": null,
   "id": "238",
   "metadata": {},
   "outputs": [],
   "source": [
    "crep = [\"obsval\",\"weight\",\"obgnme\",  'standard_deviation']\n",
    "\n",
    "pst.observation_data.loc[abs_obs.index,crep] = abs_obs.loc[:,crep]\n",
    "pst.observation_data.loc[diff_obs.index,crep] = diff_obs.loc[:,crep]"
   ]
  },
  {
   "cell_type": "code",
   "execution_count": null,
   "id": "239",
   "metadata": {},
   "outputs": [],
   "source": [
    "pst.observation_data.loc[roll_obs.index,crep] = roll_obs.loc[:,crep]"
   ]
  },
  {
   "cell_type": "code",
   "execution_count": null,
   "id": "240",
   "metadata": {},
   "outputs": [],
   "source": [
    "pst.observation_data.loc[roll_18month_obs.index,crep] = roll_18month_obs.loc[:,crep]"
   ]
  },
  {
   "cell_type": "code",
   "execution_count": null,
   "id": "241",
   "metadata": {},
   "outputs": [],
   "source": [
    "abs_obs"
   ]
  },
  {
   "cell_type": "code",
   "execution_count": null,
   "id": "242",
   "metadata": {},
   "outputs": [],
   "source": [
    "assert (pst.observation_data.loc[abs_obs.index,crep].loc[:,'weight']==0).sum()==0, f\"there are {(pst.observation_data.loc[abs_obs.index,crep].loc[:,'weight']==0).sum()} zero weighted values in the GWLE data\"\n",
    "assert (pst.observation_data.loc[diff_obs.index,crep].loc[:,'weight']==0).sum()==0, f\"there are {(pst.observation_data.loc[diff_obs.index,crep].loc[:,'weight']==0).sum()} zero weighted values in the GWLE data\""
   ]
  },
  {
   "cell_type": "code",
   "execution_count": null,
   "id": "243",
   "metadata": {},
   "outputs": [],
   "source": [
    "# assert (pst.observation_data.loc[roll_obs.index,[\"obsval\",\"weight\",\"obgnme\", 'standard_deviation']].loc[:,'weight']==0).sum()==0, 'there are zero weighted values in the GWLE data'"
   ]
  },
  {
   "cell_type": "code",
   "execution_count": null,
   "id": "244",
   "metadata": {},
   "outputs": [],
   "source": []
  },
  {
   "cell_type": "markdown",
   "id": "245",
   "metadata": {},
   "source": [
    "# create df to set major drawdown observations"
   ]
  },
  {
   "cell_type": "code",
   "execution_count": null,
   "id": "246",
   "metadata": {},
   "outputs": [],
   "source": [
    "majr = abs_obs.copy()\n",
    "\n",
    "majr.index = majr.apply(lambda x: \"oname:gwle_majordrawdown_otype:lst_usecol:meas_station:{:}_date:{:}\".format(x['Station'].lower(),x['date']), axis = 1)\n",
    "\n",
    "majr.loc[:,'obgnme'] = majr.loc[:,'obgnme'].apply(lambda x: x.replace('gwle_abs','gwle_majordrawdown'))\n",
    "\n",
    "\n",
    "majr.loc[:,'weight'] = 0\n",
    "\n",
    "# set observation below zero to be weight 1\n",
    "majr.loc[majr.loc[:,'obsval']<0,'weight'] = 1\n",
    "\n",
    "# set observation below -50 to be weight 2\n",
    "majr.loc[majr.loc[:,'obsval']<-50,'weight'] = 2\n",
    "# set observation below -100 to be weight 2\n",
    "majr.loc[majr.loc[:,'obsval']<-100,'weight'] = 5"
   ]
  },
  {
   "cell_type": "code",
   "execution_count": null,
   "id": "247",
   "metadata": {},
   "outputs": [],
   "source": [
    "pst.observation_data.loc[majr.index,crep] = majr.loc[:,crep]"
   ]
  },
  {
   "cell_type": "code",
   "execution_count": null,
   "id": "248",
   "metadata": {},
   "outputs": [],
   "source": [
    "majr.query('weight>0').groupby(['zone','weight']).count().loc[:,['date']].unstack(1).fillna(0).droplevel(0,1).plot.bar()"
   ]
  },
  {
   "cell_type": "code",
   "execution_count": null,
   "id": "249",
   "metadata": {},
   "outputs": [],
   "source": []
  },
  {
   "cell_type": "code",
   "execution_count": null,
   "id": "250",
   "metadata": {},
   "outputs": [],
   "source": []
  },
  {
   "cell_type": "markdown",
   "id": "251",
   "metadata": {},
   "source": [
    "# set hk obs values\n"
   ]
  },
  {
   "cell_type": "code",
   "execution_count": null,
   "id": "252",
   "metadata": {},
   "outputs": [],
   "source": [
    "hk_obs_df = pd.read_csv(os.path.join(template_ws,'hk_estimates',\"hk_estimates_for_pest_simulated_K.csv\"))\n",
    "hk_obs_df.loc[:,'obsval'] = np.log10(hk_obs_df.loc[:,'k_PEST'])\n",
    "\n",
    "hk_obs_df.loc[:,'weight'] = 1/(1+hk_obs_df.loc[:,'laybot'] - hk_obs_df.loc[:,'laytop'])\n",
    "\n",
    "hk_obs_df.loc[:,'obgnme'] = 'hk_pest'\n",
    "\n",
    "hk_obs_df.loc[:,'standard_deviation'] = .5\n",
    "hk_obs_df.index = hk_obs_df.loc[:,'well'].apply(lambda x: f\"oname:hk_pest_otype:lst_usecol:hk_pest_well:{x.replace(' ','').lower()}\")\n",
    "hk_obs_df.loc[:,'obsnme'] = hk_obs_df.loc[:,'well'].apply(lambda x: f\"oname:hk_pest_otype:lst_usecol:hk_pest_well:{x.replace(' ','').lower()}\")\n",
    "\n",
    "assert (hk_obs_df.loc[:,'obsnme'].isin(hydk_obs.loc[:,'obsnme'])).all(), 'someting is wrong with the naming conventions'\n"
   ]
  },
  {
   "cell_type": "code",
   "execution_count": null,
   "id": "253",
   "metadata": {},
   "outputs": [],
   "source": [
    "pst.observation_data.loc[hk_obs_df.index,crep] = hk_obs_df.loc[:,crep]"
   ]
  },
  {
   "cell_type": "code",
   "execution_count": null,
   "id": "254",
   "metadata": {},
   "outputs": [],
   "source": [
    "hk_obs_df"
   ]
  },
  {
   "cell_type": "code",
   "execution_count": null,
   "id": "255",
   "metadata": {},
   "outputs": [],
   "source": [
    "hk_obs_df.loc[:,crep]"
   ]
  },
  {
   "cell_type": "markdown",
   "id": "256",
   "metadata": {},
   "source": [
    "# set irrigation depth values"
   ]
  },
  {
   "cell_type": "code",
   "execution_count": null,
   "id": "257",
   "metadata": {},
   "outputs": [],
   "source": [
    "irr_depth"
   ]
  },
  {
   "cell_type": "code",
   "execution_count": null,
   "id": "258",
   "metadata": {},
   "outputs": [],
   "source": [
    "importlib.reload(forward_run)"
   ]
  },
  {
   "cell_type": "code",
   "execution_count": null,
   "id": "259",
   "metadata": {},
   "outputs": [],
   "source": [
    "irr_depth.loc[irr_depth.loc[:,'weight'] >0,'weight'] = 1.0 \n",
    "irr_depth = forward_run.set_crop_depth_irr_obs(irr_depth)\n",
    "irr_depth"
   ]
  },
  {
   "cell_type": "code",
   "execution_count": null,
   "id": "260",
   "metadata": {},
   "outputs": [],
   "source": [
    "irr_depth.query(\"weight>0\").weight.plot.hist(bins = 40)"
   ]
  },
  {
   "cell_type": "code",
   "execution_count": null,
   "id": "261",
   "metadata": {},
   "outputs": [],
   "source": [
    "pst.observation_data.loc[irr_depth.index,crep] = irr_depth.loc[:,crep]\n",
    "\n",
    "assert ~pst.observation_data.loc[irr_depth.index,crep].isnull().any().any(), 'there are nulls in the irr_depth'"
   ]
  },
  {
   "cell_type": "markdown",
   "id": "262",
   "metadata": {},
   "source": [
    "# set irr sum"
   ]
  },
  {
   "cell_type": "code",
   "execution_count": null,
   "id": "263",
   "metadata": {},
   "outputs": [],
   "source": [
    "irr_sum.loc[:,'standard_deviation'] = 1"
   ]
  },
  {
   "cell_type": "code",
   "execution_count": null,
   "id": "264",
   "metadata": {},
   "outputs": [],
   "source": [
    "irr_sum"
   ]
  },
  {
   "cell_type": "code",
   "execution_count": null,
   "id": "265",
   "metadata": {},
   "outputs": [],
   "source": []
  },
  {
   "cell_type": "code",
   "execution_count": null,
   "id": "266",
   "metadata": {},
   "outputs": [],
   "source": []
  },
  {
   "cell_type": "code",
   "execution_count": null,
   "id": "267",
   "metadata": {},
   "outputs": [],
   "source": [
    "pst.observation_data.loc[irr_sum.index,crep] = irr_sum.loc[:,crep]"
   ]
  },
  {
   "cell_type": "code",
   "execution_count": null,
   "id": "268",
   "metadata": {},
   "outputs": [],
   "source": []
  },
  {
   "cell_type": "markdown",
   "id": "269",
   "metadata": {},
   "source": [
    "# set observation info for arrays"
   ]
  },
  {
   "cell_type": "code",
   "execution_count": null,
   "id": "270",
   "metadata": {},
   "outputs": [],
   "source": [
    "pst.observation_data.loc[arr_list_for_obs.index,['obsval','weight','obgnme']] = arr_list_for_obs.loc[:,['obsval','weight','obgnme']]"
   ]
  },
  {
   "cell_type": "code",
   "execution_count": null,
   "id": "271",
   "metadata": {},
   "outputs": [],
   "source": [
    "pst.observation_data.loc[arr_list_for_obs.index,['obsval','weight','obgnme']]"
   ]
  },
  {
   "cell_type": "markdown",
   "id": "272",
   "metadata": {},
   "source": [
    "# set obsweights/groups for farm_bud_subcat"
   ]
  },
  {
   "cell_type": "code",
   "execution_count": null,
   "id": "273",
   "metadata": {},
   "outputs": [],
   "source": []
  },
  {
   "cell_type": "code",
   "execution_count": null,
   "id": "274",
   "metadata": {},
   "outputs": [],
   "source": [
    "farm_bud_subcat.loc[:,'weight'] = 0\n",
    "farm_bud_nonsubcat.loc[:,'weight'] = 0\n",
    "\n",
    "\n",
    "pst.observation_data.loc[farm_bud_nonsubcat.index,['obsval','weight','obgnme']] = farm_bud_nonsubcat.loc[:,['obsval','weight','obgnme']]\n",
    "pst.observation_data.loc[farm_bud_subcat.index,['obsval','weight','obgnme']] = farm_bud_subcat.loc[:,['obsval','weight','obgnme']]"
   ]
  },
  {
   "cell_type": "code",
   "execution_count": null,
   "id": "275",
   "metadata": {},
   "outputs": [],
   "source": [
    "pst.observation_data.loc[pst.observation_data.obgnme=='obgnme',]"
   ]
  },
  {
   "cell_type": "code",
   "execution_count": null,
   "id": "276",
   "metadata": {},
   "outputs": [],
   "source": [
    "assert pst.observation_data.loc[pst.observation_data.obgnme=='obgnme',].shape[0]==0, 'there are still some ovservations with obgnme as group name:\\n' +pst.observation_data.query(\"obgnme=='obgnme'\").shape"
   ]
  },
  {
   "cell_type": "code",
   "execution_count": null,
   "id": "277",
   "metadata": {},
   "outputs": [],
   "source": [
    "pst.sanity_checks()"
   ]
  },
  {
   "cell_type": "code",
   "execution_count": null,
   "id": "278",
   "metadata": {},
   "outputs": [],
   "source": [
    "pst.observation_data.obgnme.unique()"
   ]
  },
  {
   "cell_type": "code",
   "execution_count": null,
   "id": "279",
   "metadata": {},
   "outputs": [],
   "source": []
  },
  {
   "cell_type": "markdown",
   "id": "280",
   "metadata": {},
   "source": [
    "What ``pyemu`` has set as the ``obsval`` is the simulated equivalent, if it is available - in the ``pst_from_io_files()`` helper, ``pyemu`` tries to call ``inschek``, and, if successful, loads the output files from ``inschek``.  This can be very handy for error checking in the forward-run process. However, we still need to get the actual observed data into ``obsval``...remember that dataframe from hob processing?"
   ]
  },
  {
   "cell_type": "markdown",
   "id": "281",
   "metadata": {},
   "source": [
    "## set observation weights to zero for forecasts"
   ]
  },
  {
   "cell_type": "code",
   "execution_count": null,
   "id": "282",
   "metadata": {},
   "outputs": [],
   "source": []
  },
  {
   "cell_type": "code",
   "execution_count": null,
   "id": "283",
   "metadata": {},
   "outputs": [],
   "source": [
    "pst.observation_data.loc[flx_df.index, ['weight', 'obgnme']] = [0,'flux']\n",
    "pst.observation_data.loc[flx_sum.index, ['weight', 'obgnme']] = [0,'flux']"
   ]
  },
  {
   "cell_type": "code",
   "execution_count": null,
   "id": "284",
   "metadata": {},
   "outputs": [],
   "source": [
    "pst.observation_data.loc[flx_df.index, :]"
   ]
  },
  {
   "cell_type": "markdown",
   "id": "285",
   "metadata": {},
   "source": [
    "# set heads group names"
   ]
  },
  {
   "cell_type": "code",
   "execution_count": null,
   "id": "286",
   "metadata": {},
   "outputs": [],
   "source": []
  },
  {
   "cell_type": "code",
   "execution_count": null,
   "id": "287",
   "metadata": {},
   "outputs": [],
   "source": [
    "# pst.observation_data.loc[hds_df.index, ['weight', 'obgnme']] = [1,'hds']\n",
    "\n"
   ]
  },
  {
   "cell_type": "markdown",
   "id": "288",
   "metadata": {},
   "source": [
    "# check parameter group names"
   ]
  },
  {
   "cell_type": "code",
   "execution_count": null,
   "id": "289",
   "metadata": {},
   "outputs": [],
   "source": [
    "pst.observation_data.obgnme.unique()"
   ]
  },
  {
   "cell_type": "code",
   "execution_count": null,
   "id": "290",
   "metadata": {},
   "outputs": [],
   "source": [
    "pst.observation_data.loc[pst.observation_data.obgnme=='obgnme']"
   ]
  },
  {
   "cell_type": "markdown",
   "id": "291",
   "metadata": {},
   "source": [
    "# can probably skip this section"
   ]
  },
  {
   "cell_type": "code",
   "execution_count": null,
   "id": "292",
   "metadata": {},
   "outputs": [],
   "source": [
    "# hds_df = hds_df.set_index(hds_df.obsnme.apply(lambda x: x.split(':')[-1]))\n",
    "hds_df = hds_df.set_index(hds_df.obsnme)"
   ]
  },
  {
   "cell_type": "code",
   "execution_count": null,
   "id": "293",
   "metadata": {},
   "outputs": [],
   "source": [
    "hds_df"
   ]
  },
  {
   "cell_type": "markdown",
   "id": "294",
   "metadata": {},
   "source": [
    "Notice the ``obsval`` column?  Let's just set the index of this dataframe to ``obsnme``, then pandas does the hard work for us:\n",
    "\n"
   ]
  },
  {
   "cell_type": "code",
   "execution_count": null,
   "id": "295",
   "metadata": {},
   "outputs": [],
   "source": [
    "# # hob_df.index = hob_df.obsnme\n",
    "# hob_df = hds_df.set_index(hds_df.obsnme.apply(lambda x: x.split(':')[-1]))\n",
    "# hob_df.query(\"obsnme.str.contains('06e001m_10')\")"
   ]
  },
  {
   "cell_type": "code",
   "execution_count": null,
   "id": "296",
   "metadata": {},
   "outputs": [],
   "source": [
    "pst.observation_data.query(\"oname.str.contains('hds')\")"
   ]
  },
  {
   "cell_type": "code",
   "execution_count": null,
   "id": "297",
   "metadata": {},
   "outputs": [],
   "source": []
  },
  {
   "cell_type": "code",
   "execution_count": null,
   "id": "298",
   "metadata": {},
   "outputs": [],
   "source": []
  },
  {
   "cell_type": "code",
   "execution_count": null,
   "id": "299",
   "metadata": {},
   "outputs": [],
   "source": []
  },
  {
   "cell_type": "markdown",
   "id": "300",
   "metadata": {},
   "source": [
    "BOOM!  that was easy...trying doing that without pandas....not fun!\n",
    "\n",
    "We still have a few more items to set to specific values. The biggest one is initial values for parameters - they are given default values of 1.0:"
   ]
  },
  {
   "cell_type": "markdown",
   "id": "301",
   "metadata": {},
   "source": [
    "# forecast names"
   ]
  },
  {
   "cell_type": "code",
   "execution_count": null,
   "id": "302",
   "metadata": {},
   "outputs": [],
   "source": [
    "flx_df"
   ]
  },
  {
   "cell_type": "code",
   "execution_count": null,
   "id": "303",
   "metadata": {},
   "outputs": [],
   "source": [
    "pst.pestpp_options['forecasts'] = ','.join(flx_sum.index)"
   ]
  },
  {
   "cell_type": "code",
   "execution_count": null,
   "id": "304",
   "metadata": {},
   "outputs": [],
   "source": [
    "','.join(flx_sum.index)"
   ]
  },
  {
   "cell_type": "code",
   "execution_count": null,
   "id": "305",
   "metadata": {},
   "outputs": [],
   "source": [
    "pst.forecast_names"
   ]
  },
  {
   "cell_type": "code",
   "execution_count": null,
   "id": "306",
   "metadata": {},
   "outputs": [],
   "source": [
    "flx_sum"
   ]
  },
  {
   "cell_type": "markdown",
   "id": "307",
   "metadata": {
    "editable": true,
    "slideshow": {
     "slide_type": ""
    },
    "tags": []
   },
   "source": [
    "Luckily, ``pandas`` makes this very easy.  For example, let's set the ``DRN`` conductance parameters to have initial values of mean of the values in the model currently:\n"
   ]
  },
  {
   "cell_type": "code",
   "execution_count": null,
   "id": "308",
   "metadata": {},
   "outputs": [],
   "source": [
    "# avg = ml.drn.stress_period_data[0][\"cond\"].mean()\n",
    "# par = pst.parameter_data #just a pointer to the full, long-named attribute\n",
    "# drn_pars = par.loc[par.parnme.apply(lambda x: x.startswith(\"drn\")),\"parnme\"].values\n",
    "# par.loc[drn_pars,\"parval1\"] = avg\n",
    "# #set the par group to mean something\n",
    "# par.loc[drn_pars,\"pargp\"] = \"drn_cond\"\n",
    "# par.loc[drn_pars,\"parubnd\"] = avg * 10.0\n",
    "# par.loc[drn_pars,\"parlbnd\"] = avg * 0.1"
   ]
  },
  {
   "cell_type": "code",
   "execution_count": null,
   "id": "309",
   "metadata": {},
   "outputs": [],
   "source": [
    "# Let's set the ``pargp`` for the remaining parameters using that cool pilot point dataframe from eariler..."
   ]
  },
  {
   "cell_type": "code",
   "execution_count": null,
   "id": "310",
   "metadata": {},
   "outputs": [],
   "source": [
    "# par.loc[pp_df.parnme,\"pargp\"] = pp_df.pargp"
   ]
  },
  {
   "cell_type": "markdown",
   "id": "311",
   "metadata": {},
   "source": [
    "We need to reset the model run command:"
   ]
  },
  {
   "cell_type": "markdown",
   "id": "312",
   "metadata": {},
   "source": [
    "But this means we need to write ``forward_run.py`` and it needs to perform several actions:\n",
    "- apply kriging factors (using ``pyemu.gw_utils.fac2real()``)\n",
    "- apply the drain multipliers\n",
    "- call ``MODFLOW``\n",
    "- process the ``MODFLOW`` list file\n",
    "\n",
    "Lucky for you, I already made this file...."
   ]
  },
  {
   "cell_type": "code",
   "execution_count": null,
   "id": "313",
   "metadata": {},
   "outputs": [],
   "source": []
  },
  {
   "cell_type": "code",
   "execution_count": null,
   "id": "314",
   "metadata": {},
   "outputs": [],
   "source": []
  },
  {
   "cell_type": "code",
   "execution_count": null,
   "id": "315",
   "metadata": {},
   "outputs": [],
   "source": []
  },
  {
   "cell_type": "code",
   "execution_count": null,
   "id": "316",
   "metadata": {},
   "outputs": [],
   "source": [
    "import shutil"
   ]
  },
  {
   "cell_type": "code",
   "execution_count": null,
   "id": "317",
   "metadata": {},
   "outputs": [],
   "source": [
    "shutil.copy2(os.path.join(\"forward_run.py\"),os.path.join(template_ws,\"forward_run.py\"))\n",
    "shutil.copy2(os.path.join(\"forward_run.py\"),os.path.join('local_copy',\"forward_run.py\"))"
   ]
  },
  {
   "cell_type": "code",
   "execution_count": null,
   "id": "318",
   "metadata": {},
   "outputs": [],
   "source": [
    "# shutil.copy2(os.path.join(\"run.sh\"),os.path.join(template_ws,\"run.sh\"))"
   ]
  },
  {
   "cell_type": "code",
   "execution_count": null,
   "id": "319",
   "metadata": {},
   "outputs": [],
   "source": [
    "with open('run.bat', 'w') as r:\n",
    "    r.write(\"call C:\\\\Users\\\\arich\\\\AppData\\\\Local\\\\mambaforge\\\\condabin\\\\conda_hook.bat\\n\")\n",
    "    r.write(\"call conda activate gis_py_10\\n\")\n",
    "    r.write(\"python forward_run.py\\n\")\n",
    "\n",
    "shutil.copy2(os.path.join(\"run.bat\"),os.path.join(template_ws,\"run.bat\"))"
   ]
  },
  {
   "cell_type": "markdown",
   "id": "320",
   "metadata": {},
   "source": [
    "### adding prior information\n",
    "\n",
    "``pyemu`` supports both zero-order (preferred value) and first-order (preferred difference) Tikhonov regularization.  Let's set preferred value for the conductance parameters:"
   ]
  },
  {
   "cell_type": "code",
   "execution_count": null,
   "id": "321",
   "metadata": {},
   "outputs": [],
   "source": [
    "# pyemu.utils.helpers.zero_order_tikhonov(pst,par_groups=[\"fieswp\"])\n",
    "# pyemu.utils.helpers.zero_order_tikhonov(pst,par_groups=[\"hfb\"],reset = False)\n",
    "\n",
    "# pst.prior_information.head()"
   ]
  },
  {
   "cell_type": "markdown",
   "id": "322",
   "metadata": {},
   "source": [
    "Now, let's set preferred difference equations for pilot point groups.  We will use the Pearson coef as the weight..."
   ]
  },
  {
   "cell_type": "markdown",
   "id": "323",
   "metadata": {},
   "source": [
    "# load pilot point info"
   ]
  },
  {
   "cell_type": "code",
   "execution_count": null,
   "id": "324",
   "metadata": {},
   "outputs": [],
   "source": [
    "pp_cells = 7"
   ]
  },
  {
   "cell_type": "code",
   "execution_count": null,
   "id": "325",
   "metadata": {},
   "outputs": [],
   "source": [
    "pp_df = pd.read_csv(os.path.join(template_ws, 'pilot_point_info.csv'),index_col = [0])\n",
    "pp_df = pp_df.set_index('parnme')\n",
    "pp_df.head()"
   ]
  },
  {
   "cell_type": "code",
   "execution_count": null,
   "id": "326",
   "metadata": {},
   "outputs": [],
   "source": [
    "a = pp_cells * ml.dis.delr.array[0] * 3.0\n",
    "v = pyemu.geostats.ExpVario(contribution=1.0,a=a)\n",
    "gs = pyemu.geostats.GeoStruct(variograms=v,transform=\"log\")\n",
    "gs.plot()\n",
    "cov = gs.covariance_matrix(pp_df.x,pp_df.y,pp_df.index)"
   ]
  },
  {
   "cell_type": "code",
   "execution_count": null,
   "id": "327",
   "metadata": {},
   "outputs": [],
   "source": [
    "pp_df"
   ]
  },
  {
   "cell_type": "code",
   "execution_count": null,
   "id": "328",
   "metadata": {},
   "outputs": [],
   "source": [
    "cov = gs.covariance_matrix(pp_df.x,pp_df.y,pp_df.index)\n",
    "# cov.to_binary(os.path.join(template_ws,\"cov.jcb\"))"
   ]
  },
  {
   "cell_type": "code",
   "execution_count": null,
   "id": "329",
   "metadata": {},
   "outputs": [],
   "source": []
  },
  {
   "cell_type": "code",
   "execution_count": null,
   "id": "330",
   "metadata": {},
   "outputs": [],
   "source": []
  },
  {
   "cell_type": "markdown",
   "id": "331",
   "metadata": {},
   "source": [
    "## assign group names from pp_df"
   ]
  },
  {
   "cell_type": "code",
   "execution_count": null,
   "id": "332",
   "metadata": {},
   "outputs": [],
   "source": []
  },
  {
   "cell_type": "code",
   "execution_count": null,
   "id": "333",
   "metadata": {},
   "outputs": [],
   "source": [
    "par = pst.parameter_data\n",
    "\n",
    "par.loc[pp_df.index,[ 'pargp' ]] = pp_df.loc[:,[ 'pargp' ]]"
   ]
  },
  {
   "cell_type": "markdown",
   "id": "334",
   "metadata": {},
   "source": [
    "# assign parnames/groups to layer multipliers"
   ]
  },
  {
   "cell_type": "code",
   "execution_count": null,
   "id": "335",
   "metadata": {},
   "outputs": [],
   "source": [
    "import re\n",
    "\n",
    "lambda_function = lambda s: re.sub(r'\\d+', '', s.split('_')[1]) \n",
    "\n",
    "\n",
    "\n",
    "c = pst.parameter_data.loc[:,'parnme'].str.contains('laymult')\n",
    "\n",
    "pst.parameter_data.loc[c,'pargp'] = 'laymult_'+pst.parameter_data.loc[c,'parnme'].apply(lambda_function)\n",
    "\n",
    "c = pst.parameter_data.loc[:,'parnme'].str.contains('zonemult')\n",
    "\n",
    "pst.parameter_data.loc[c,'pargp'] = 'zonemult_'+pst.parameter_data.loc[c,'parnme'].apply(lambda_function)\n",
    "\n",
    "pst.parameter_data.loc[:,'pargp'] = pst.parameter_data.loc[:,'pargp'].replace({\"zonemult_drn\":\"zonemult_drn_k\",\n",
    "                                                                               \"zonemult_fmp\":\"zonemult_fmp_vk\",\n",
    "                                                                               \"laymult_drn\":\"laymult_drn_k\",\n",
    "                                                                               \"laymult_fmp\":\"laymult_fmp_vk\",\n",
    "                                                                              })"
   ]
  },
  {
   "cell_type": "code",
   "execution_count": null,
   "id": "336",
   "metadata": {},
   "outputs": [],
   "source": [
    "pst.parameter_data.query(\"pargp.str.contains('laymult_fmp') or pargp.str.contains('laymult_drn') or \\\n",
    "pargp.str.contains('zonemult_fmp') or pargp.str.contains('zonemult_drn')\")\n"
   ]
  },
  {
   "cell_type": "markdown",
   "id": "337",
   "metadata": {},
   "source": [
    "# parameter values"
   ]
  },
  {
   "cell_type": "code",
   "execution_count": null,
   "id": "338",
   "metadata": {},
   "outputs": [],
   "source": []
  },
  {
   "cell_type": "code",
   "execution_count": null,
   "id": "339",
   "metadata": {},
   "outputs": [],
   "source": [
    " (500*500)*.00001"
   ]
  },
  {
   "cell_type": "code",
   "execution_count": null,
   "id": "340",
   "metadata": {},
   "outputs": [],
   "source": [
    "(500*500)*.001*1*30*1000/43560"
   ]
  },
  {
   "cell_type": "code",
   "execution_count": null,
   "id": "341",
   "metadata": {},
   "outputs": [],
   "source": [
    "pst.parameter_data.loc[pst.parameter_data.loc[:,'parnme'].str.contains('swp'),'pargp'] = 'fieswp'\n",
    "pst.parameter_data.loc[pst.parameter_data.loc[:,'parnme'].str.contains('sfr'),'pargp'] = 'sfr'\n",
    "\n",
    "faults = [\n",
    "    'calbcr_falt', 'city_flt', 'e_side_cen', 'e_side_nor', 'e_side_so',\n",
    "    'feldck_flt', 'glen_n_lo', 'glen_n_up', 'glen_s_lo', 'glen_s_up',\n",
    "    'glenext_lo', 'glenext_up', 'ken_fault', 'scl_kcswfl', 'scl_kcswsp',\n",
    "    'scl_kcswsu', 'scl_kcswwn', 'sobrevis_flt', 'vom_fa1', 'vom_fa2',\n",
    "    'vom_n_fa', 'vom_s_fa'\n",
    "]\n",
    "\n",
    "pst.parameter_data.loc[pst.parameter_data.loc[:,'parnme'].isin(faults),'pargp'] = 'hfb'\n"
   ]
  },
  {
   "attachments": {
    "b3b30296-46ca-456e-aa83-64614e569906.png": {
     "image/png": "[encoded data removed]"
    }
   },
   "cell_type": "markdown",
   "id": "342",
   "metadata": {},
   "source": [
    "![image.png](attachment:b3b30296-46ca-456e-aa83-64614e569906.png)"
   ]
  },
  {
   "cell_type": "markdown",
   "id": "343",
   "metadata": {},
   "source": [
    "# set group names for kc and ofe"
   ]
  },
  {
   "cell_type": "code",
   "execution_count": null,
   "id": "344",
   "metadata": {},
   "outputs": [],
   "source": [
    "c = pst.parameter_data.loc[:,'parnme'].str.startswith('kc_')\n",
    "pst.parameter_data.loc[c,'pargp'] = 'fmp_kc'\n",
    "\n",
    "c = pst.parameter_data.loc[:,'parnme'].str.startswith('ofe_')\n",
    "pst.parameter_data.loc[c,'pargp'] = 'fmp_ofe'\n",
    "\n",
    "c = pst.parameter_data.loc[:,'parnme'].str.startswith('kc_sfac')\n",
    "pst.parameter_data.loc[c,'pargp'] = 'fmp_sfac'\n",
    "\n",
    "c = pst.parameter_data.loc[:,'parnme'].str.startswith('ghbk')\n",
    "pst.parameter_data.loc[c,'pargp'] = 'ghbk'\n",
    "\n",
    "c = pst.parameter_data.loc[:,'parnme'].str.startswith('rurfac')\n",
    "pst.parameter_data.loc[c,'pargp'] = 'rurfac'"
   ]
  },
  {
   "cell_type": "code",
   "execution_count": null,
   "id": "345",
   "metadata": {},
   "outputs": [],
   "source": []
  },
  {
   "cell_type": "code",
   "execution_count": null,
   "id": "346",
   "metadata": {},
   "outputs": [],
   "source": [
    "pst.parameter_data.query(\"pargp=='pargp'\")"
   ]
  },
  {
   "cell_type": "code",
   "execution_count": null,
   "id": "347",
   "metadata": {},
   "outputs": [],
   "source": []
  },
  {
   "cell_type": "markdown",
   "id": "348",
   "metadata": {},
   "source": [
    "# set parvalues and bounds for sfr, kc, ofe, sfac"
   ]
  },
  {
   "cell_type": "code",
   "execution_count": null,
   "id": "349",
   "metadata": {},
   "outputs": [],
   "source": []
  },
  {
   "cell_type": "code",
   "execution_count": null,
   "id": "350",
   "metadata": {},
   "outputs": [],
   "source": [
    "par = pst.parameter_data\n",
    "\n",
    "par = forward_run.set_laymult_start_values(par)"
   ]
  },
  {
   "cell_type": "code",
   "execution_count": null,
   "id": "351",
   "metadata": {},
   "outputs": [],
   "source": [
    "importlib.reload(forward_run)"
   ]
  },
  {
   "cell_type": "code",
   "execution_count": null,
   "id": "352",
   "metadata": {},
   "outputs": [],
   "source": [
    "parbounds = forward_run.get_parbounds()\n",
    "parbounds"
   ]
  },
  {
   "cell_type": "code",
   "execution_count": null,
   "id": "353",
   "metadata": {},
   "outputs": [],
   "source": []
  },
  {
   "cell_type": "code",
   "execution_count": null,
   "id": "354",
   "metadata": {},
   "outputs": [],
   "source": [
    "for k in parbounds.keys():\n",
    "    c = pst.parameter_data.loc[:,'pargp'] == k\n",
    "    print(c.sum(), k)\n",
    "    pst.parameter_data.loc[c,['parlbnd','parubnd', 'parval1']] = parbounds[k]\n",
    "\n",
    "#set OFE_VINEYARD to 0.95\n",
    "c = pst.parameter_data.loc[:,'parnme'] == 'ofe_vineyard'\n",
    "print(c.sum(),'ofe_vineyard')\n",
    "pst.parameter_data.loc[c,['parval1']] = 0.95\n"
   ]
  },
  {
   "cell_type": "code",
   "execution_count": null,
   "id": "355",
   "metadata": {},
   "outputs": [],
   "source": [
    "pst.parameter_data.pargp.value_counts()"
   ]
  },
  {
   "cell_type": "markdown",
   "id": "356",
   "metadata": {},
   "source": [
    "# use old parameter values to set initial values for this run"
   ]
  },
  {
   "cell_type": "code",
   "execution_count": null,
   "id": "357",
   "metadata": {},
   "outputs": [],
   "source": [
    "# old_pars = pd.read_csv(os.path.join(\"C:\\GSP\\sv\\model\\pest_inputs\\PEST_PP\\pestaws_hyper\", 'blaze.2.par.csv'), index_col = [0])\n",
    "# old_pars = old_pars.loc[['base']].T\n",
    "# print(old_pars.index.isin(par.parnme).sum())\n",
    "\n",
    "# old_pars = old_pars.rename(lambda x: x.split(\"_zone:\")[0]+\"_zone:1\" if '_zone:' in x else x )\n",
    "# print(old_pars.index.isin(par.parnme).sum())\n",
    "# print('parameters in old run that are not in this one')\n",
    "# print(display(old_pars.loc[~old_pars.index.isin(par.parnme)]))\n",
    "\n",
    "# #drop missing parameters\n",
    "# old_pars = old_pars.loc[old_pars.index.isin(par.parnme)]"
   ]
  },
  {
   "cell_type": "code",
   "execution_count": null,
   "id": "358",
   "metadata": {},
   "outputs": [],
   "source": [
    "# old_pars.query(\"index.str.contains('laymult')\").rename(lambda x:''.join(x.split('_')[1:]))"
   ]
  },
  {
   "cell_type": "code",
   "execution_count": null,
   "id": "359",
   "metadata": {},
   "outputs": [],
   "source": [
    "# old_pars"
   ]
  },
  {
   "cell_type": "code",
   "execution_count": null,
   "id": "360",
   "metadata": {},
   "outputs": [],
   "source": [
    "# pst.parameter_data.loc[old_pars.index,'parval1'] = old_pars.rename(columns = {'base':'parval1'})"
   ]
  },
  {
   "cell_type": "code",
   "execution_count": null,
   "id": "361",
   "metadata": {},
   "outputs": [],
   "source": [
    "# pst.parameter_data.loc[old_pars.index,'parval1']"
   ]
  },
  {
   "cell_type": "code",
   "execution_count": null,
   "id": "362",
   "metadata": {},
   "outputs": [],
   "source": []
  },
  {
   "cell_type": "markdown",
   "id": "363",
   "metadata": {},
   "source": []
  },
  {
   "cell_type": "code",
   "execution_count": null,
   "id": "364",
   "metadata": {},
   "outputs": [],
   "source": [
    "skip_reset_from_all_pp_to_zonepplaymult = False\n",
    "if skip_reset_from_all_pp_to_zonepplaymult:\n",
    "    print('asdfasdf')\n",
    "    # set layer mult to average of group value, then set pilot point value as multiplier to that to get local differences\n",
    "    par.loc[old_pars.index,'parval1'] = old_pars.loc[:,'base']\n",
    "    \n",
    "    pval_list = list()\n",
    "    for val in ['ss', 'sy', 'hk', 'vk', 'drn_k','fmp_vk']:\n",
    "        for i in range(1,7):\n",
    "            p = f\"{val}{i}\"\n",
    "            c = par.loc[:,'pargp']==p\n",
    "    \n",
    "            if c.sum()==0:\n",
    "                pass\n",
    "            else:\n",
    "                mean = par.loc[c,'parval1'].mean()\n",
    "                print(p,c.sum(),mean)\n",
    "                par.loc[par.loc[:,'parnme']==f\"laymult_{val}\",'parval1'] = mean\n",
    "        \n",
    "                par.loc[c,'parval1'] = par.loc[c,'parval1']/mean\n",
    "                pval_list.append(par.loc[c,'parval1'].describe().to_frame(p).T)\n",
    "    \n",
    "        # do drn_vk, fmp_vk\n",
    "        p = f\"{val}\"\n",
    "        c = par.loc[:,'pargp']==p\n",
    "    \n",
    "        if c.sum()==0:\n",
    "            pass\n",
    "        else:\n",
    "            mean = par.loc[c,'parval1'].mean()\n",
    "            print(p,c.sum(),mean)\n",
    "            par.loc[par.loc[:,'parnme']==f\"laymult_{val}\",'parval1'] = mean\n",
    "    \n",
    "            par.loc[c,'parval1'] = par.loc[c,'parval1']/mean\n",
    "            pval_list.append(par.loc[c,'parval1'].describe().to_frame(p).T)\n",
    "    \n",
    "    \n",
    "    pd.concat(pval_list)\n",
    "    \n",
    "    def is_numeric(s):\n",
    "        try:\n",
    "            float(s)  # Try to convert the string to a float\n",
    "            return True\n",
    "        except ValueError:\n",
    "            return False\n",
    "    \n",
    "    assert pst.parameter_data.loc[pst.parameter_data.pargp.apply(is_numeric)].shape[0]==0, 'some pargp values have been turned numeric'"
   ]
  },
  {
   "cell_type": "code",
   "execution_count": null,
   "id": "365",
   "metadata": {},
   "outputs": [],
   "source": [
    "pst.parameter_data.parlbnd.min()"
   ]
  },
  {
   "cell_type": "code",
   "execution_count": null,
   "id": "366",
   "metadata": {},
   "outputs": [],
   "source": []
  },
  {
   "cell_type": "code",
   "execution_count": null,
   "id": "367",
   "metadata": {},
   "outputs": [],
   "source": []
  },
  {
   "cell_type": "code",
   "execution_count": null,
   "id": "368",
   "metadata": {},
   "outputs": [],
   "source": []
  },
  {
   "cell_type": "code",
   "execution_count": null,
   "id": "369",
   "metadata": {},
   "outputs": [],
   "source": [
    "\n",
    "\n",
    "# a = pp_cells * ml.dis.delr.array[0] * 3.0\n",
    "# v = pyemu.geostats.ExpVario(contribution=1.0,a=a)\n",
    "# gs = pyemu.geostats.GeoStruct(variograms=v,transform=\"log\")\n",
    "# gs.plot()\n",
    "\n",
    "# pp_groups = pp_df.groupby(\"pargp\").groups\n",
    "# for pargp,par_names in pp_groups.items():\n",
    "#     this_pp_df = pp_df.loc[par_names,:]\n",
    "#     cov = gs.covariance_matrix(this_pp_df.x,this_pp_df.y,this_pp_df.index)\n",
    "#     pyemu.helpers.first_order_pearson_tikhonov(pst,cov,reset=False,abs_drop_tol=0.2)"
   ]
  },
  {
   "cell_type": "markdown",
   "id": "370",
   "metadata": {},
   "source": [
    "## set param bounds to those already set from pilot points (changing bounds only)"
   ]
  },
  {
   "cell_type": "code",
   "execution_count": null,
   "id": "371",
   "metadata": {},
   "outputs": [],
   "source": [
    "print(f\"these are the unique pargroups { pst.parameter_data.pargp.unique()}\")"
   ]
  },
  {
   "cell_type": "code",
   "execution_count": null,
   "id": "372",
   "metadata": {},
   "outputs": [],
   "source": [
    "importlib.reload(forward_run)"
   ]
  },
  {
   "cell_type": "code",
   "execution_count": null,
   "id": "373",
   "metadata": {},
   "outputs": [],
   "source": [
    "bounds = forward_run.get_bounds()\n",
    "bounds"
   ]
  },
  {
   "cell_type": "code",
   "execution_count": null,
   "id": "374",
   "metadata": {},
   "outputs": [],
   "source": []
  },
  {
   "cell_type": "code",
   "execution_count": null,
   "id": "375",
   "metadata": {},
   "outputs": [],
   "source": [
    "importlib.reload(forward_run)"
   ]
  },
  {
   "cell_type": "markdown",
   "id": "376",
   "metadata": {},
   "source": [
    "# set zone and pilot point mult limits\n"
   ]
  },
  {
   "cell_type": "code",
   "execution_count": null,
   "id": "377",
   "metadata": {},
   "outputs": [],
   "source": [
    "zone_bounds = forward_run.get_zone_bounds()\n",
    "\n",
    "#set pilot point values\n",
    "for k in zone_bounds.keys():\n",
    "    c = pst.parameter_data.loc[:,'pargp'] == k\n",
    "    print(c.sum(), k)\n",
    "    pst.parameter_data.loc[c,['parlbnd','parubnd','parval1']] = zone_bounds[k]\n",
    "    \n",
    "rep = lambda s: re.sub(r'\\d+', '', s)\n",
    "\n",
    "#set zone_mult values\n",
    "for k in zone_bounds.keys():\n",
    "    filt = f'zonemult_{rep(k)}'\n",
    "    c = pst.parameter_data.loc[:,'pargp'] == filt\n",
    "    print(c.sum(), filt)\n",
    "    pst.parameter_data.loc[c,['parlbnd','parubnd','parval1']] = zone_bounds[k]\n",
    "    "
   ]
  },
  {
   "cell_type": "code",
   "execution_count": null,
   "id": "378",
   "metadata": {},
   "outputs": [],
   "source": [
    "pst.parameter_data.loc[:,'pargp'].unique()"
   ]
  },
  {
   "cell_type": "code",
   "execution_count": null,
   "id": "379",
   "metadata": {},
   "outputs": [],
   "source": [
    "pst.parameter_data.query(\"pargp.str.contains('zonemult_hk')\")"
   ]
  },
  {
   "cell_type": "markdown",
   "id": "380",
   "metadata": {},
   "source": [
    "# fix the sy values if they haven't been removed\n"
   ]
  },
  {
   "cell_type": "code",
   "execution_count": null,
   "id": "381",
   "metadata": {},
   "outputs": [],
   "source": []
  },
  {
   "cell_type": "code",
   "execution_count": null,
   "id": "382",
   "metadata": {},
   "outputs": [],
   "source": [
    "pst.parameter_data.loc[pst.parameter_data.loc[:,'pargp'].str.contains('sy'),'partrans'] = 'fixed'"
   ]
  },
  {
   "cell_type": "code",
   "execution_count": null,
   "id": "383",
   "metadata": {},
   "outputs": [],
   "source": [
    "pst.parameter_data.loc[pst.parameter_data.loc[:,'pargp'].str.contains('sy'),:]"
   ]
  },
  {
   "cell_type": "code",
   "execution_count": null,
   "id": "384",
   "metadata": {},
   "outputs": [],
   "source": []
  },
  {
   "cell_type": "code",
   "execution_count": null,
   "id": "385",
   "metadata": {},
   "outputs": [],
   "source": [
    "pst.parameter_data.loc[pst.parameter_data.pargp=='fmp_kc', 'parval1'] = 1.\n",
    "pst.parameter_data.loc[pst.parameter_data.pargp=='fmp_sfac', 'parval1'] = 1."
   ]
  },
  {
   "cell_type": "code",
   "execution_count": null,
   "id": "386",
   "metadata": {},
   "outputs": [],
   "source": [
    "pst.parameter_data.query(\"pargp=='fmp_kc'\")"
   ]
  },
  {
   "cell_type": "code",
   "execution_count": null,
   "id": "387",
   "metadata": {},
   "outputs": [],
   "source": [
    "pst.parameter_data.query(\"pargp=='fmp_sfac'\")"
   ]
  },
  {
   "cell_type": "code",
   "execution_count": null,
   "id": "388",
   "metadata": {},
   "outputs": [],
   "source": [
    "pst.parameter_data.loc[pst.parameter_data.query(\"parnme.str.contains('zonemult_drn_k_highlands')\").index, 'parval1'] = 50"
   ]
  },
  {
   "cell_type": "code",
   "execution_count": null,
   "id": "389",
   "metadata": {},
   "outputs": [],
   "source": [
    "pst.parameter_data.query(\"pargp.str.contains('mult_drn_k')\")"
   ]
  },
  {
   "cell_type": "code",
   "execution_count": null,
   "id": "390",
   "metadata": {},
   "outputs": [],
   "source": [
    "summary = pst.write_par_summary_table(filename=\"par.xlsx\", report_in_linear_space = True)"
   ]
  },
  {
   "cell_type": "code",
   "execution_count": null,
   "id": "391",
   "metadata": {},
   "outputs": [],
   "source": [
    "summary.sort_values('upper bound')"
   ]
  },
  {
   "cell_type": "markdown",
   "id": "392",
   "metadata": {},
   "source": [
    "# set parval for some of the zonemults"
   ]
  },
  {
   "cell_type": "code",
   "execution_count": null,
   "id": "393",
   "metadata": {},
   "outputs": [],
   "source": [
    "importlib.reload(forward_run)"
   ]
  },
  {
   "cell_type": "code",
   "execution_count": null,
   "id": "394",
   "metadata": {},
   "outputs": [],
   "source": [
    "pst.parameter_data = forward_run.set_zonemult_start_values(pst.parameter_data)"
   ]
  },
  {
   "cell_type": "code",
   "execution_count": null,
   "id": "395",
   "metadata": {},
   "outputs": [],
   "source": [
    "pst.parameter_data = forward_run.set_zoneentire_start_values(pst.parameter_data)"
   ]
  },
  {
   "cell_type": "code",
   "execution_count": null,
   "id": "396",
   "metadata": {},
   "outputs": [],
   "source": [
    "pst.parameter_data.loc[pst.parameter_data.parval1.isnull()].pargp.unique()"
   ]
  },
  {
   "cell_type": "code",
   "execution_count": null,
   "id": "397",
   "metadata": {},
   "outputs": [],
   "source": [
    "assert pst.parameter_data.parval1.isnull().sum()==0, f\"there are {pst.parameter_data.parval1.isnull().sum()} parvalues with nans from {pst.parameter_data.loc[pst.parameter_data.parval1.isnull()].pargp.unique()}\""
   ]
  },
  {
   "cell_type": "code",
   "execution_count": null,
   "id": "398",
   "metadata": {},
   "outputs": [],
   "source": [
    "pst.parameter_data.loc[pst.parameter_data.parlbnd==1.1e-10]"
   ]
  },
  {
   "cell_type": "code",
   "execution_count": null,
   "id": "399",
   "metadata": {},
   "outputs": [],
   "source": [
    "assert (pst.parameter_data.parlbnd.min()>1.1e-10) & (pst.parameter_data.parlbnd.max()<1.1e+10), pst.parameter_data.query(\"parlbnd==1e-10\")"
   ]
  },
  {
   "cell_type": "code",
   "execution_count": null,
   "id": "400",
   "metadata": {},
   "outputs": [],
   "source": []
  },
  {
   "cell_type": "markdown",
   "id": "401",
   "metadata": {},
   "source": [
    "# set observations with -999 as zero weights"
   ]
  },
  {
   "cell_type": "code",
   "execution_count": null,
   "id": "402",
   "metadata": {},
   "outputs": [],
   "source": [
    "pst.observation_data"
   ]
  },
  {
   "cell_type": "code",
   "execution_count": null,
   "id": "403",
   "metadata": {},
   "outputs": [],
   "source": [
    "print(f\"number of non-zero observations before filtering for obs <=-999:\\n {len(pst.nnz_obs_names)}\")\n",
    "\n",
    "pst.observation_data.loc[pst.observation_data.loc[:,'obsval']<=-999, 'weight'] = 0.0\n",
    "print(f\"after:\\n {len(pst.nnz_obs_names)}\")"
   ]
  },
  {
   "cell_type": "code",
   "execution_count": null,
   "id": "404",
   "metadata": {},
   "outputs": [],
   "source": [
    "pst.observation_data.loc[pst.observation_data.loc[:,'obsval']<=-999].obgnme.value_counts()"
   ]
  },
  {
   "cell_type": "code",
   "execution_count": null,
   "id": "405",
   "metadata": {},
   "outputs": [],
   "source": [
    "pst.observation_data.query(\"obsnme.str.contains('son0170') and weight==0\").obgnme.unique()"
   ]
  },
  {
   "cell_type": "code",
   "execution_count": null,
   "id": "406",
   "metadata": {},
   "outputs": [],
   "source": [
    "pst.observation_data.loc[pst.observation_data.loc[:,'obsval']<=-999]"
   ]
  },
  {
   "cell_type": "code",
   "execution_count": null,
   "id": "407",
   "metadata": {},
   "outputs": [],
   "source": [
    "obs = pst.observation_data\n",
    "# obs.loc[:,\"standard_deviation\"] = np.nan\n",
    "hds_obs = [o for o in pst.nnz_obs_names if \"oname:hds_\" in o]\n",
    "assert len(hds_obs) > 0\n",
    "obs.loc[hds_obs,\"standard_deviation\"] = 0.5\n",
    "# hdstd_obs = [o for o in pst.nnz_obs_names if \"oname:hdstd_\" in o]\n",
    "# assert len(hdstd_obs) > 0\n",
    "# obs.loc[hdstd_obs,\"standard_deviation\"] = 0.01\n",
    "\n",
    "# sfr_obs = [o for o in pst.nnz_obs_names if \"oname:sfr_\" in o]\n",
    "# assert len(sfr_obs) > 0\n",
    "# # here we will used noise that is a function of the observed flow value so that \n",
    "# # when flow is high, noise is high.\n",
    "# obs.loc[sfr_obs,\"standard_deviation\"] = 1.0 / (obs.loc[sfr_obs,\"obsval\"] * 0.2)\n",
    "# # sfrtd_obs = [o for o in pst.nnz_obs_names if \"oname:sfrtd_\" in o]\n",
    "# # assert len(sfrtd_obs) > 0\n",
    "# # obs.loc[sfrtd_obs,\"standard_deviation\"] = 1.0 / (obs.loc[sfrtd_obs,\"obsval\"] * 0.2)\n",
    "# obs.loc[obs.loc[:,\"standard_deviation\"]>50, \"standard_deviation\"] = 50"
   ]
  },
  {
   "cell_type": "code",
   "execution_count": null,
   "id": "408",
   "metadata": {},
   "outputs": [],
   "source": [
    "obs.loc[obs.loc[:,'obsnme'].isnull()]"
   ]
  },
  {
   "cell_type": "code",
   "execution_count": null,
   "id": "409",
   "metadata": {},
   "outputs": [],
   "source": []
  },
  {
   "cell_type": "markdown",
   "id": "410",
   "metadata": {},
   "source": [
    "# adding zone names to head `hds` measurements"
   ]
  },
  {
   "cell_type": "markdown",
   "id": "411",
   "metadata": {},
   "source": [
    "In the next few cells we are going to make use of `flopy` and some of the metadata that `pyemu.PstFrom` recorded when constructing our PEST(++) setup to calculate distances between parmaters and observations. We will do this only for groundwater level observations."
   ]
  },
  {
   "cell_type": "code",
   "execution_count": null,
   "id": "412",
   "metadata": {},
   "outputs": [],
   "source": []
  },
  {
   "cell_type": "code",
   "execution_count": null,
   "id": "413",
   "metadata": {},
   "outputs": [],
   "source": []
  },
  {
   "cell_type": "code",
   "execution_count": null,
   "id": "414",
   "metadata": {},
   "outputs": [],
   "source": [
    "hds_df.head()"
   ]
  },
  {
   "cell_type": "code",
   "execution_count": null,
   "id": "415",
   "metadata": {},
   "outputs": [],
   "source": [
    "hds_df.loc[:,'station'] = hds_df.obsnme.apply(lambda x: x.replace(\"oname:hds_otype:lst_usecol:simulatedequivalent_observationname:\",'').split('_date')[0])\n",
    "\n",
    "hds_df.loc[:,'date'] = hds_df.loc[:,'obsnme'].apply(lambda x: x.split('_date:')[-1])"
   ]
  },
  {
   "cell_type": "code",
   "execution_count": null,
   "id": "416",
   "metadata": {},
   "outputs": [],
   "source": []
  },
  {
   "cell_type": "code",
   "execution_count": null,
   "id": "417",
   "metadata": {},
   "outputs": [],
   "source": [
    "hds_ob = pd.read_csv(os.path.join(template_ws,'output', 'SV_HOBS_all._os'), sep = '\\s+')\n",
    "hds_ob.loc[:,'station'] = hds_ob.loc[:,'OBSERVATIONNAME'].str.lower()\n",
    "hds_ob = hds_ob.rename(columns = {\"DATE\":'date'}).loc[:,['date','station', 'OBSERVEDVALUE']]\n",
    "hds_ob"
   ]
  },
  {
   "cell_type": "code",
   "execution_count": null,
   "id": "418",
   "metadata": {},
   "outputs": [],
   "source": [
    "hds_df = pd.merge(hds_df, hds_ob, left_on = ['station', 'date'], right_on = ['station', 'date'])"
   ]
  },
  {
   "cell_type": "code",
   "execution_count": null,
   "id": "419",
   "metadata": {},
   "outputs": [],
   "source": [
    "\n",
    "gwstats =  pd.read_excel(r\"C:\\GSP\\sv\\model\\update_2024\\scripts\\HOB_Creation\\WellDetails_20240911.xlsx\")\n",
    "gwstats.loc[:,'nlayers'] = (gwstats.filter(regex = 'Layer_')>0).sum(axis = 1)-1\n",
    "gwstats.loc[:,'station_name'] = gwstats.station_name.str.lower()\n"
   ]
  },
  {
   "cell_type": "markdown",
   "id": "420",
   "metadata": {},
   "source": [
    "## load zone info"
   ]
  },
  {
   "cell_type": "code",
   "execution_count": null,
   "id": "421",
   "metadata": {},
   "outputs": [],
   "source": [
    "\n",
    "\n",
    "z = np.genfromtxt(os.path.join(ml.model_ws, 'model_arrays', 'zonation_3.csv'), delimiter = ' ')\n",
    "\n",
    "z = conda_scripts.arich_functions.array2rc(z,'zone').astype({'zone':int,'row':int,'column':int})\n",
    "\n",
    "aliases = {1: 'Bay', 2: 'EastSide', 3: 'SouthCent', 4: 'Kenwood', 5: 'VOM', 6: 'AguaCal',7:'WestSide',8:'CitySon',9:'Highlands'}\n",
    "z.loc[:,'zone'] =z.loc[:,'zone'].replace(aliases)\n",
    "z = z.query(\"zone!=0\").loc[:,['row','column','zone']]\n",
    "\n",
    "z\n"
   ]
  },
  {
   "cell_type": "code",
   "execution_count": null,
   "id": "422",
   "metadata": {},
   "outputs": [],
   "source": []
  },
  {
   "cell_type": "code",
   "execution_count": null,
   "id": "423",
   "metadata": {},
   "outputs": [],
   "source": [
    "assert hds_df.station.isin(gwstats.station_name).all(), f\"the following station are not in gsstats\\n{hds_df.station.isin(gwstats.station_name).unique()}\""
   ]
  },
  {
   "cell_type": "code",
   "execution_count": null,
   "id": "424",
   "metadata": {},
   "outputs": [],
   "source": [
    "hds_df  = hds_df.drop(columns = [x for x in ['station_name', 'Row','Col', 'nlayers', 'RMP', 'row', 'column', 'zone'] if x in hds_df.columns] )\n",
    "hds_df = pd.merge(hds_df, gwstats.loc[:,['station_name', 'Row','Col', 'nlayers', 'RMP']], left_on = 'station', right_on = 'station_name',how = 'left')\n",
    "\n",
    "hds_df = pd.merge(hds_df, z, left_on = ['Row', 'Col'], right_on = ['row', 'column']).drop(columns = ['row', 'column'])"
   ]
  },
  {
   "cell_type": "markdown",
   "id": "425",
   "metadata": {},
   "source": [
    "# make group for RMP sites"
   ]
  },
  {
   "cell_type": "code",
   "execution_count": null,
   "id": "426",
   "metadata": {},
   "outputs": [],
   "source": [
    "c = hds_df.query(\"RMP=='Y'\").index\n",
    "hds_df.loc[c,'obgnme'] = 'hds_RMP_'+hds_df.loc[c,'zone'].str.lower()\n",
    "\n",
    "\n",
    "c = hds_df.query(\"RMP!='Y'\").index\n",
    "hds_df.loc[c,'obgnme'] = 'hds_NON_'+hds_df.loc[c,'zone'].str.lower()"
   ]
  },
  {
   "cell_type": "markdown",
   "id": "427",
   "metadata": {},
   "source": [
    "### adjust weights depending on nlayers"
   ]
  },
  {
   "cell_type": "code",
   "execution_count": null,
   "id": "428",
   "metadata": {},
   "outputs": [],
   "source": [
    "hds_df.loc[:,'weight'] = hds_df.nlayers.apply(lambda x: 1. if x<=2 else 0.5 )"
   ]
  },
  {
   "cell_type": "code",
   "execution_count": null,
   "id": "429",
   "metadata": {},
   "outputs": [],
   "source": [
    "hds_df.loc[:,'standard_deviation'] = 1.0"
   ]
  },
  {
   "cell_type": "code",
   "execution_count": null,
   "id": "430",
   "metadata": {},
   "outputs": [],
   "source": [
    "hds_df.loc[:,['RMP','zone','weight']].groupby(['zone','RMP',]).sum().unstack().fillna(0).droplevel(0,1).plot.bar(title = \"Number of Measuremets per Zone\")\n",
    "\n",
    "plt.savefig('hds_measurements_per_zone.png', dpi = 250)"
   ]
  },
  {
   "cell_type": "code",
   "execution_count": null,
   "id": "431",
   "metadata": {},
   "outputs": [],
   "source": [
    "hds_df.index = hds_df.obsnme"
   ]
  },
  {
   "cell_type": "code",
   "execution_count": null,
   "id": "432",
   "metadata": {},
   "outputs": [],
   "source": [
    "hds_df"
   ]
  },
  {
   "cell_type": "code",
   "execution_count": null,
   "id": "433",
   "metadata": {},
   "outputs": [],
   "source": []
  },
  {
   "cell_type": "code",
   "execution_count": null,
   "id": "434",
   "metadata": {},
   "outputs": [],
   "source": []
  },
  {
   "cell_type": "code",
   "execution_count": null,
   "id": "435",
   "metadata": {},
   "outputs": [],
   "source": [
    "pst.observation_data.loc[hds_df.index,[\"obsval\",\"weight\",\"obgnme\", 'standard_deviation']] = hds_df.loc[:,[\"OBSERVEDVALUE\",\"weight\",\"obgnme\", 'standard_deviation']].rename(columns = {'OBSERVEDVALUE':'obsval'})"
   ]
  },
  {
   "cell_type": "code",
   "execution_count": null,
   "id": "436",
   "metadata": {},
   "outputs": [],
   "source": [
    "pst.observation_data.loc[hds_df.index,:]"
   ]
  },
  {
   "cell_type": "code",
   "execution_count": null,
   "id": "437",
   "metadata": {},
   "outputs": [],
   "source": [
    "pst.observation_data.loc[pst.observation_data.obsval.isnull(),'obgnme']"
   ]
  },
  {
   "cell_type": "code",
   "execution_count": null,
   "id": "438",
   "metadata": {},
   "outputs": [],
   "source": [
    "assert pst.observation_data.loc[pst.observation_data.obsval.isnull()].shape[0]==0, pst.observation_data.loc[pst.observation_data.obsval.isnull(),'obgnme'].value_counts()"
   ]
  },
  {
   "cell_type": "code",
   "execution_count": null,
   "id": "439",
   "metadata": {},
   "outputs": [],
   "source": [
    "assert pst.observation_data.loc[pst.observation_data.weight.isnull()].shape[0]==0, pst.observation_data.weight.isnull().sum()"
   ]
  },
  {
   "cell_type": "code",
   "execution_count": null,
   "id": "440",
   "metadata": {},
   "outputs": [],
   "source": [
    "assert pst.observation_data.query(\"standard_deviation.isnull() and weight>0\").shape[0]==0, pst.observation_data.query(\"standard_deviation.isnull() and weight==0\")"
   ]
  },
  {
   "cell_type": "code",
   "execution_count": null,
   "id": "441",
   "metadata": {},
   "outputs": [],
   "source": [
    "assert pst.observation_data.query(\"obgnme=='hds'\").observationname.nunique()==0, f'there are still observation data with group name==hds'"
   ]
  },
  {
   "cell_type": "code",
   "execution_count": null,
   "id": "442",
   "metadata": {},
   "outputs": [],
   "source": []
  },
  {
   "cell_type": "code",
   "execution_count": null,
   "id": "443",
   "metadata": {},
   "outputs": [],
   "source": [
    "# set these two stations observed avlues to zero"
   ]
  },
  {
   "cell_type": "code",
   "execution_count": null,
   "id": "444",
   "metadata": {},
   "outputs": [],
   "source": [
    "badin = pst.observation_data.query(\"obsnme.str.contains('son0170') & obgnme.str.contains('hds') \").index\n",
    "pst.observation_data.loc[badin,'weight'] = 0\n",
    "badin = pst.observation_data.query(\"obsnme.str.contains('son0334') & obgnme.str.contains('hds') \").index\n",
    "pst.observation_data.loc[badin,'weight'] = 0\n",
    "\n",
    "badin = pst.observation_data.query(\"obsnme.str.contains('son0085') & obgnme.str.contains('hds') \").index\n",
    "pst.observation_data.loc[badin,'weight'] = 0"
   ]
  },
  {
   "cell_type": "code",
   "execution_count": null,
   "id": "445",
   "metadata": {},
   "outputs": [],
   "source": []
  },
  {
   "cell_type": "code",
   "execution_count": null,
   "id": "446",
   "metadata": {},
   "outputs": [],
   "source": []
  },
  {
   "cell_type": "markdown",
   "id": "447",
   "metadata": {},
   "source": [
    "# set SMC stations to groups"
   ]
  },
  {
   "cell_type": "code",
   "execution_count": null,
   "id": "448",
   "metadata": {},
   "outputs": [],
   "source": []
  },
  {
   "cell_type": "code",
   "execution_count": null,
   "id": "449",
   "metadata": {},
   "outputs": [],
   "source": [
    "pst.observation_data.columns"
   ]
  },
  {
   "cell_type": "code",
   "execution_count": null,
   "id": "450",
   "metadata": {},
   "outputs": [],
   "source": [
    "pst.observation_data.query(\"obgnme=='hds'\").observationname.nunique()"
   ]
  },
  {
   "cell_type": "markdown",
   "id": "451",
   "metadata": {},
   "source": [
    "# summarize observations\n"
   ]
  },
  {
   "cell_type": "code",
   "execution_count": null,
   "id": "452",
   "metadata": {},
   "outputs": [],
   "source": [
    "summary_obs = pst.write_obs_summary_table(filename=\"obs.xlsx\")\n",
    "summary_obs.loc[summary_obs.weight=='    1']"
   ]
  },
  {
   "cell_type": "code",
   "execution_count": null,
   "id": "453",
   "metadata": {},
   "outputs": [],
   "source": [
    "display(summary_obs)"
   ]
  },
  {
   "cell_type": "code",
   "execution_count": null,
   "id": "454",
   "metadata": {},
   "outputs": [],
   "source": [
    "pst.observation_data"
   ]
  },
  {
   "cell_type": "code",
   "execution_count": null,
   "id": "455",
   "metadata": {},
   "outputs": [],
   "source": [
    "pst.observation_data.obgnme.unique()"
   ]
  },
  {
   "cell_type": "code",
   "execution_count": null,
   "id": "456",
   "metadata": {},
   "outputs": [],
   "source": [
    "out_folder = os.path.join('pre_process', template_ws,'hydros')\n",
    "\n",
    "os.makedirs(out_folder,exist_ok=True)\n",
    "\n",
    "\n"
   ]
  },
  {
   "cell_type": "code",
   "execution_count": null,
   "id": "457",
   "metadata": {},
   "outputs": [],
   "source": [
    "assert pst.observation_data.query(\"obgnme.str.contains('_log') and obgnme.str.contains('aguacal')\").shape[0]>=586      , \"missing values from aguacal in sfr log\"\n",
    "assert pst.observation_data.query(\"obgnme.str.contains('_log') and obgnme.str.contains('kenwood')\").shape[0]>=586  , \"missing values from kenwood in sfr log\"\n",
    "\n",
    "\n",
    "obs = pst.observation_data.copy()\n",
    "\n",
    "if obs.query(\"obgnme.str.contains('aguacal_log')\").shape==obs.query(\"obgnme.str.contains('aguacal_log') and not obsnme.str.contains('fdc')\").shape:\n",
    "    print('agual_log does not contain fdc or other mislabeld variables')\n",
    "else:\n",
    "    print('bad\\n'*3+'agual_log DOES contain fdc or other mislabeld variables')\n",
    "\n",
    "if obs.query(\"obgnme.str.contains('kenwood_log')\").shape==obs.query(\"obgnme.str.contains('kenwood_log') and not obsnme.str.contains('fdc')\").shape:\n",
    "    print('kenwood_log does not contain fdc or other mislabeld variables')\n",
    "else:\n",
    "    print('bad'*3+'------->> kenwood_log DOES contain fdc or other mislabeld variables')\n",
    "    \n",
    "sfr = obs.query(\"obgnme.str.contains('aguacal_log')\")\n",
    "sfr.loc[:,'date'] = pd.to_datetime(sfr.obsnme.apply(lambda x:x.split(\"_date:\")[-1]))\n",
    "ax = sfr.query(\"weight>0\").set_index('date').loc[:,['obsval']].resample(\"1M\").mean().reset_index().plot(x = 'date', y = 'obsval',marker = 'o')\n",
    "ax2 = ax.twinx()\n",
    "sfr.query(\"weight>0\").set_index('date').loc[:,['weight']].resample(\"1M\").mean().reset_index().plot(x = 'date', y = 'weight',marker = 'o',ax = ax2, c = 'g')\n",
    "ax2.set_ylim([None, .4])\n",
    "ax.set_title('Agua Caliente Discharge Observations')\n",
    "ax.set_ylabel(\"log(CFS)\")\n",
    "plt.savefig(os.path.join(out_folder, 'sfr_flow_agua_cal.png'), dpi =250, bbox_inches = 'tight')\n",
    "\n",
    "sfr = obs.query(\"obgnme.str.contains('kenwood_log') and not obgnme.str.contains('fdc') and not obsnme.str.contains('fdc')\")\n",
    "sfr.loc[:,'date'] = pd.to_datetime(sfr.obsnme.apply(lambda x:x.split(\"_date:\")[-1]))\n",
    "ax = sfr.query(\"weight>0\").set_index('date').loc[:,['obsval']].resample(\"1M\").mean().reset_index().plot(x = 'date', y = 'obsval',marker = 'o')\n",
    "ax2 = ax.twinx()\n",
    "sfr.query(\"weight>0\").set_index('date').loc[:,['weight']].resample(\"1M\").mean().reset_index().plot(x = 'date', y = 'weight',marker = 'o',ax = ax2, c = 'g')\n",
    "ax2.set_ylim([None, .4])\n",
    "ax.set_title('Kenwood Discharge Observations')\n",
    "ax.set_ylabel(\"log(CFS)\")\n",
    "plt.savefig(os.path.join(out_folder, 'sfr_flow_kenwood.png'), dpi =250, bbox_inches = 'tight')\n",
    "\n"
   ]
  },
  {
   "cell_type": "code",
   "execution_count": null,
   "id": "458",
   "metadata": {},
   "outputs": [],
   "source": [
    "pst.observation_data.query(\"obgnme.str.contains('sfr_wy_min_flow_')\")"
   ]
  },
  {
   "cell_type": "code",
   "execution_count": null,
   "id": "459",
   "metadata": {},
   "outputs": [],
   "source": [
    "pst.observation_data.query(\"obgnme.str.contains('sfr_wy_min_flow_') and obgnme.str.contains('kenwood')\").shape"
   ]
  },
  {
   "cell_type": "code",
   "execution_count": null,
   "id": "460",
   "metadata": {},
   "outputs": [],
   "source": [
    "assert pst.observation_data.query(\"obgnme.str.contains('yearly_min_flow') and obgnme.str.contains('agua')\").shape[0]>=19      , \"missing values from aguacal in sfr_wy_min_flow_\"\n",
    "assert pst.observation_data.query(\"obgnme.str.contains('yearly_min_flow') and obgnme.str.contains('kenwood')\").shape[0]>=10  , \"missing values from kenwood in sfr_wy_min_flow_\"\n",
    "\n",
    "\n",
    "obs = pst.observation_data.query(\"obgnme.str.contains('yearly_min_flow') and obgnme.str.contains('agua')\")\n",
    "\n",
    "    \n",
    "sfr = obs.query(\"obgnme.str.contains('agu')\")\n",
    "sfr.loc[:,'date'] = pd.to_datetime(sfr.obsnme.apply(lambda x:x.split(\"_date:\")[-1]))\n",
    "ax = sfr.query(\"weight>0\").plot(x = 'date', y = 'obsval', marker = 'o', ls = '')\n",
    "\n",
    "ax.set_title('Agua Caliente Minimum Flow per Water Year')\n",
    "ax.set_ylabel(\"log(CFS)\")\n",
    "plt.savefig(os.path.join(out_folder, 'sfr_min_flow_agua_cal.png'), dpi =250, bbox_inches = 'tight')\n",
    "\n",
    "\n",
    "obs = pst.observation_data.query(\"obgnme.str.contains('yearly_min_flow') and obgnme.str.contains('ken')\")\n",
    "\n",
    "sfr = obs.query(\"obgnme.str.contains('ken')\")\n",
    "sfr.loc[:,'date'] = pd.to_datetime(sfr.obsnme.apply(lambda x:x.split(\"_date:\")[-1]))\n",
    "ax = sfr.query(\"weight>0\").plot(x = 'date', y = 'obsval', marker = 'o', ls = '')\n",
    "\n",
    "ax.set_title('Kenwood Minimum Flow per Water Year')\n",
    "ax.set_ylabel(\"log(CFS)\")\n",
    "plt.savefig(os.path.join(out_folder, 'sfr_min_flow_kenwood.png'), dpi =250, bbox_inches = 'tight')"
   ]
  },
  {
   "cell_type": "code",
   "execution_count": null,
   "id": "461",
   "metadata": {},
   "outputs": [],
   "source": []
  },
  {
   "cell_type": "code",
   "execution_count": null,
   "id": "462",
   "metadata": {},
   "outputs": [],
   "source": [
    "assert pst.observation_data.query(\"obgnme.str.contains('fdc') and obgnme.str.contains('agua')\").shape[0]>=19      , \"missing values from aguacal in fdc\"\n",
    "# assert pst.observation_data.query(\"obgnme.str.contains('fdc') and obgnme.str.contains('kenwood')\").shape[0]>=19  , \"missing values from kenwood in fdc\"\n",
    "\n",
    "\n",
    "obs = pst.observation_data.query(\"obgnme.str.contains('fdc') and obgnme.str.contains('agu')\").copy()\n",
    "sfr = obs.query(\"obgnme.str.contains('agu')\")\n",
    "\n",
    "sfr = sfr.astype({'percentile':float}).sort_values('percentile')\n",
    "ax = sfr.query(\"weight>0\").plot(x = 'percentile', y = 'obsval', marker ='.')\n",
    "ax.set_title('Agua Caliente Flow Duration Curve')\n",
    "ax.set_ylabel(\"log(CFS)\"); ax.grid(True)\n",
    "# plt.savefig(os.path.join(out_folder, 'sfr_min_flow_agua_cal.png'), dpi =250, bbox_inches = 'tight')\n",
    "\n",
    "\n",
    "obs = pst.observation_data.query(\"obgnme.str.contains('fdc') and obgnme.str.contains('ken')\")\n",
    "sfr = obs.query(\"obgnme.str.contains('ken')\")\n",
    "sfr = sfr.astype({'percentile':float}).sort_values('percentile')\n",
    "ax = sfr.query(\"weight>0\").plot(x = 'percentile', y = 'obsval', marker ='.')\n",
    "ax.set_title('Kenwood Flow Duration Curve')\n",
    "ax.set_ylabel(\"log(CFS)\"); ax.grid(True)\n",
    "# plt.savefig(os.path.join(out_folder, 'sfr_min_flow_kenwood.png'), dpi =250, bbox_inches = 'tight')\n",
    "\n",
    "\n"
   ]
  },
  {
   "cell_type": "code",
   "execution_count": null,
   "id": "463",
   "metadata": {},
   "outputs": [],
   "source": []
  },
  {
   "cell_type": "code",
   "execution_count": null,
   "id": "464",
   "metadata": {},
   "outputs": [],
   "source": []
  },
  {
   "cell_type": "code",
   "execution_count": null,
   "id": "465",
   "metadata": {},
   "outputs": [],
   "source": []
  },
  {
   "cell_type": "code",
   "execution_count": null,
   "id": "466",
   "metadata": {},
   "outputs": [],
   "source": []
  },
  {
   "cell_type": "code",
   "execution_count": null,
   "id": "467",
   "metadata": {},
   "outputs": [],
   "source": [
    "out_folder"
   ]
  },
  {
   "cell_type": "code",
   "execution_count": null,
   "id": "468",
   "metadata": {},
   "outputs": [],
   "source": [
    "# hds =  pst.observation_data.query(\"obgnme.str.contains('hds') or obgnme.str.contains('gwle') or obgnme.str.contains('roll')\").copy()\n",
    "# hds.loc[:,'date'] = pd.to_datetime(hds.obsnme.apply(lambda x:x.split(\"_date:\")[-1]))\n",
    "\n",
    "# hds.loc[:,'station'] = hds.obsnme.apply(lambda x: x.split(':')[4].split(':')[0].replace('_date',''))\n",
    "\n",
    "# for station, group in hds.groupby('station'):\n",
    "\n",
    "#     if group.query(\"obgnme.str.contains('gwle_abs')\").shape[0]>0:\n",
    "#         ax = group.query(\"obgnme.str.contains('gwle_abs')\").plot(x = 'date', y = 'obsval', label = 'gwle_abs - modeled')\n",
    "#         # group.query(\"Group.str.contains('gwle_abs')\").plot(x = 'date', y = 'Measured', ax = ax, label = \"gwle_abs - 'Observed'\")\n",
    "#     if group.query(\"obgnme.str.contains('hds')\").shape[0]>0:\n",
    "#         if ax is None:\n",
    "#             fig, ax = plt.subplots()\n",
    "#         group.query(\"obgnme.str.contains('hds')\").plot(x = 'date', y = 'obsval', ax = ax,  marker = 'o', label = 'hds - modeled')\n",
    "#         # group.query(\"obgnme.str.contains('hds')\").plot(x = 'date', y = 'Measured',  ax = ax, marker = 'o',label = 'hds - Observed')\n",
    "\n",
    "#     if group.query(\"obgnme.str.contains('roll_')\").shape[0]>0:\n",
    "#         if ax is None:\n",
    "#             fig, ax = plt.subplots()\n",
    "#         group.query(\"obgnme.str.contains('roll_') and weight>0\").plot(x = 'date', y = 'obsval', ax = ax,  mfc = 'w',\n",
    "#                                                             marker = 'o', label = 'gwle roll - modeled')\n",
    "#         # group.query(\"Group.str.contains('gwle_roll')\").plot(x = 'date', y = 'Measured',  ax = ax,mfc = 'w',\n",
    "#         #                                                     marker = 'o',label = 'gwle roll - Observed')\n",
    "        \n",
    "#     print(station+' '+ group.obgnme.unique()[0].split(\"_\")[-1])\n",
    "#     ax.set_title(station+' '+ group.obgnme.unique()[0].split(\"_\")[-1])\n",
    "\n",
    "#     plt.savefig(os.path.join(out_folder, station+'.png'))\n",
    "#     ax = None"
   ]
  },
  {
   "cell_type": "code",
   "execution_count": null,
   "id": "469",
   "metadata": {},
   "outputs": [],
   "source": [
    "pst.observation_data.query(\"obgnme=='flux'\")"
   ]
  },
  {
   "cell_type": "code",
   "execution_count": null,
   "id": "470",
   "metadata": {},
   "outputs": [],
   "source": []
  },
  {
   "cell_type": "markdown",
   "id": "471",
   "metadata": {},
   "source": [
    "# obsgrps with zero-weights"
   ]
  },
  {
   "cell_type": "code",
   "execution_count": null,
   "id": "472",
   "metadata": {},
   "outputs": [],
   "source": [
    "summary_obs.query(\"`zero weight`>0\")"
   ]
  },
  {
   "cell_type": "markdown",
   "id": "473",
   "metadata": {},
   "source": [
    "# auto-correlated (t)errors\n",
    "\n",
    "if not 'pst' in locals():\n",
    "\n",
    "    pst = pyemu.Pst(os.path.join(\"C:\\GSP\\sv\\model\\pest_inputs\\PEST_PP\\pestaws_V2_output\",\"blast.pst\"))"
   ]
  },
  {
   "cell_type": "markdown",
   "id": "474",
   "metadata": {},
   "source": [
    "# extend bounds of parameters at bounds"
   ]
  },
  {
   "cell_type": "code",
   "execution_count": null,
   "id": "475",
   "metadata": {},
   "outputs": [],
   "source": [
    "ind = pst.parameter_data.query(\"parval1==parubnd\").index\n",
    "pst.parameter_data.loc[ind,'parubnd'] = pst.parameter_data.loc[ind,'parubnd']*100\n",
    "print(f\"num at parubnd {ind.shape[0]}\")\n",
    "ind = pst.parameter_data.query(\"parval1==parlbnd\").index\n",
    "pst.parameter_data.loc[ind,'parlbnd'] = pst.parameter_data.loc[ind,'parlbnd']*0.01\n",
    "print(f\"num at parlbnd {ind.shape[0]}\")\n"
   ]
  },
  {
   "cell_type": "markdown",
   "id": "476",
   "metadata": {},
   "source": [
    "# add parameter correlations and create input ensembles"
   ]
  },
  {
   "cell_type": "code",
   "execution_count": null,
   "id": "477",
   "metadata": {},
   "outputs": [],
   "source": [
    "pp_tpl = [os.path.join(template_ws, 'pp2024',x) for x in os.listdir(os.path.join(template_ws, 'pp2024',)) if '.tpl' in x]\n",
    "pp_tpl"
   ]
  },
  {
   "cell_type": "code",
   "execution_count": null,
   "id": "478",
   "metadata": {},
   "outputs": [],
   "source": [
    "\n",
    "cov = pyemu.helpers.geostatistical_prior_builder(pst=pst, struct_dict={gs:pp_tpl})"
   ]
  },
  {
   "cell_type": "code",
   "execution_count": null,
   "id": "479",
   "metadata": {},
   "outputs": [],
   "source": [
    "# # display\n",
    "# plt.imshow(cov.to_pearson().x,interpolation=\"nearest\")\n",
    "# plt.colorbar()\n",
    "# cov.to_dataframe().head()"
   ]
  },
  {
   "cell_type": "code",
   "execution_count": null,
   "id": "480",
   "metadata": {},
   "outputs": [],
   "source": [
    "ies_num_reals = 150"
   ]
  },
  {
   "cell_type": "code",
   "execution_count": null,
   "id": "481",
   "metadata": {},
   "outputs": [],
   "source": [
    "parensemble = pyemu.ParameterEnsemble.from_gaussian_draw(pst=pst, cov=cov, num_reals=ies_num_reals,)\n",
    "# ensure that the samples respect parameter bounds in the pst control file\n",
    "parensemble.enforce()"
   ]
  },
  {
   "cell_type": "code",
   "execution_count": null,
   "id": "482",
   "metadata": {},
   "outputs": [],
   "source": [
    "parensemble.head()"
   ]
  },
  {
   "cell_type": "code",
   "execution_count": null,
   "id": "483",
   "metadata": {},
   "outputs": [],
   "source": [
    "ies_num_reals"
   ]
  },
  {
   "cell_type": "code",
   "execution_count": null,
   "id": "484",
   "metadata": {},
   "outputs": [],
   "source": [
    "parensemble.to_csv(os.path.join(template_ws,\"par_ens.csv\"))\n",
    "\n"
   ]
  },
  {
   "cell_type": "code",
   "execution_count": null,
   "id": "485",
   "metadata": {},
   "outputs": [],
   "source": [
    "def set_pst(obj):\n",
    "    obj.enforce_bounds()\n",
    "    obj.pestpp_options[\"ies_num_reals\"] = ies_num_reals  # starting with a real small ensemble!\n",
    "    obj.pestpp_options['ies_parameter_ensemble'] = 'par_ens.csv'\n",
    "    obj.pestpp_options[\"svd_pack\"] = \"redsvd\"\n",
    "    obj.pestpp_options[\"panther_agent_restart_on_error\"] = True\n",
    "    obj.pestpp_options['overdue_giveup_fac'] =  6\n",
    "    obj.pestpp_options['overdue_giveup_minutes'] =480\n",
    "    obj.control_data.noptmax = -2\n",
    "    obj.control_data.phiredstp = 1e-10  # just to make sure this doesn't stop the run which has happened\n",
    "    obj.model_command =[ 'python forward_run.py']\n",
    "    obj.model_command = ['run.bat']\n",
    "    obj.pestpp_options['ies_drop_conflicts'] = True\n",
    "    obj.pestpp_options[\"ies_bad_phi_sigma\"] = 1.5 #middle ground value\n",
    "\n",
    "set_pst(pst)"
   ]
  },
  {
   "cell_type": "code",
   "execution_count": null,
   "id": "486",
   "metadata": {},
   "outputs": [],
   "source": [
    "def run_major_pst(obj):\n",
    "    obj.enforce_bounds()\n",
    "    obj.pestpp_options[\"ies_num_reals\"] = ies_num_reals  # starting with a real small ensemble!\n",
    "    obj.pestpp_options['ies_parameter_ensemble'] = 'par_ens.csv'\n",
    "    obj.pestpp_options[\"svd_pack\"] = \"redsvd\"\n",
    "    obj.pestpp_options[\"panther_agent_restart_on_error\"] = True\n",
    "    obj.pestpp_options['overdue_giveup_fac'] =  6\n",
    "    obj.pestpp_options['overdue_giveup_minutes'] =480\n",
    "    obj.pestpp_options['ies_subset_size'] =-10\n",
    "    obj.pestpp_options['ies_multimodal_alpha'] = 0.2\n",
    "    obj.pestpp_options['ies_drop_conflicts'] = True\n",
    "    obj.control_data.noptmax = 30\n",
    "    obj.control_data.phiredstp = 1e-20  # just to make sure this doesn't stop the run which has happened\n",
    "    obj.model_command =[ 'python forward_run.py']\n",
    "\n",
    "    obj.pestpp_options[\"ies_bad_phi_sigma\"] = 1.5 #middle ground value"
   ]
  },
  {
   "cell_type": "markdown",
   "id": "487",
   "metadata": {},
   "source": [
    "\n",
    "- Some of the iterations were “rejected” meaning the full ensemble phi was much higher than the subset phi. So I’d change ies_subset_size to -10, which means use 10% of the active realizations for subset testing.  This usually means the inverse problem is more nonlinear than usual.   \n",
    "- Several of the parameter’s initial values are at the bound.  This can make the gradient approximation a lil goofy.  I wonder if you could either move the initial value off of the bound or widen the bounds?   \n",
    "- For the next run, would you be ok setting the ML groundwater level obs to zero weight?  Sometimes when you have heaps of non-zero weight observations, it can inflate the dimensions of the solution space, making it harder for ensemble methods to fit all the data.   \n",
    "- Also for the next run, can you set ies_multimodal_alpha = 0.2.  This will trigger ies to use a more aggressive solution that is better in highly nonlinear settings.   \n",
    "- Let’s also set ies_bad_phi_sigma = 1.5 (which will more aggressively remove poor performing realizations)\n",
    "\n"
   ]
  },
  {
   "cell_type": "code",
   "execution_count": null,
   "id": "488",
   "metadata": {},
   "outputs": [],
   "source": []
  },
  {
   "cell_type": "code",
   "execution_count": null,
   "id": "489",
   "metadata": {},
   "outputs": [],
   "source": [
    "pre_run = pst.parameter_data.copy()"
   ]
  },
  {
   "cell_type": "code",
   "execution_count": null,
   "id": "490",
   "metadata": {},
   "outputs": [],
   "source": []
  },
  {
   "cell_type": "code",
   "execution_count": null,
   "id": "491",
   "metadata": {},
   "outputs": [],
   "source": [
    "pst.write(os.path.join(template_ws, 'lager.pst'),version=2)"
   ]
  },
  {
   "cell_type": "code",
   "execution_count": null,
   "id": "492",
   "metadata": {},
   "outputs": [],
   "source": [
    "template_ws"
   ]
  },
  {
   "cell_type": "code",
   "execution_count": null,
   "id": "493",
   "metadata": {},
   "outputs": [],
   "source": [
    "asdf"
   ]
  },
  {
   "cell_type": "code",
   "execution_count": null,
   "id": "494",
   "metadata": {},
   "outputs": [],
   "source": []
  },
  {
   "cell_type": "code",
   "execution_count": null,
   "id": "495",
   "metadata": {},
   "outputs": [],
   "source": [
    "pst.adjust_weights(obsgrp_dict =balanced_groups)"
   ]
  },
  {
   "cell_type": "markdown",
   "id": "496",
   "metadata": {},
   "source": [
    "## Observation Weights\n",
    "\n",
    "Of all the issues that we have seen over the years, none is greater than (in)appropriate weighting strategies.  It is a critical and fundamental component of any inverse problem, but is especially important in settings where the model is imperfect simulator and the observation data are noisy and there are diverse types of data.  Goundwater modeling anyone? \n",
    "\n",
    "In essence the weights will change the shape of the objective function surface in parameter space, moving the minimum around and altering the path to the minimum (this can be seen visually in the response surface notebooks).  Given the important role weights play in the outcome of a history-matching/data assimilation analysis, rarely is a weighting strategy \"one and done\", instead it is continuously revisited during a modeling analysis, based on what happened during the previous history-matching attempt.  \n",
    "\n",
    "We are going to start off by taking a look at our current objective function value and the relative contributions from the various observation groups - these relative contributions are a function of the residuals and weights in each group. Recall that this is the objective function value with **initial parameter values** and the default observations weights.\n",
    "\n",
    "First off, we need to get PEST to run the model once so that the objective function can be calculated. Let's do that now. Start by reading the control file and checking that NOPTMAX is set to zero:\n",
    "\n"
   ]
  },
  {
   "cell_type": "code",
   "execution_count": null,
   "id": "497",
   "metadata": {},
   "outputs": [],
   "source": [
    "# template_ws = 'pestaws_mango'"
   ]
  },
  {
   "cell_type": "markdown",
   "id": "498",
   "metadata": {},
   "source": [
    "# set weights"
   ]
  },
  {
   "cell_type": "code",
   "execution_count": null,
   "id": "499",
   "metadata": {},
   "outputs": [],
   "source": [
    "pst_out = pyemu.Pst(os.path.join(template_ws, 'leo.pst'), resfile = os.path.join('pestaws_lager','lager.mean.rei'))\n",
    "pst_out.phi"
   ]
  },
  {
   "cell_type": "code",
   "execution_count": null,
   "id": "500",
   "metadata": {},
   "outputs": [],
   "source": [
    "pst_out = pyemu.Pst(os.path.join(template_ws, 'lager.pst'), resfile = os.path.join(template_ws,'lager.mean.rei'))\n",
    "pst_out.phi"
   ]
  },
  {
   "cell_type": "code",
   "execution_count": null,
   "id": "501",
   "metadata": {},
   "outputs": [],
   "source": [
    "\"{:.5g}\".format(pst_out.phi)"
   ]
  },
  {
   "cell_type": "code",
   "execution_count": null,
   "id": "502",
   "metadata": {},
   "outputs": [],
   "source": []
  },
  {
   "cell_type": "code",
   "execution_count": null,
   "id": "503",
   "metadata": {},
   "outputs": [],
   "source": [
    "frac_sfr_obs = pst_out.observation_data.query(\"obgnme=='kenwood_log' & weight>0\").shape[0]/pst_out.observation_data.query(\"obgnme=='aguacal_log' & weight>0\").shape[0]"
   ]
  },
  {
   "cell_type": "code",
   "execution_count": null,
   "id": "504",
   "metadata": {},
   "outputs": [],
   "source": [
    "frac_sfr_obs"
   ]
  },
  {
   "cell_type": "markdown",
   "id": "505",
   "metadata": {},
   "source": [
    "# setting only wells within important wells list to non-zero weights"
   ]
  },
  {
   "cell_type": "code",
   "execution_count": null,
   "id": "506",
   "metadata": {},
   "outputs": [],
   "source": [
    "obs = pst_out.observation_data.copy()\n",
    "\n",
    "#if you want to include `hds` obsertvations (and not just GWLE) then uncomment these lines\n",
    "# c = obs.observationname.notnull() & obs.obgnme.str.contains('hds')\n",
    "# print(c.sum())\n",
    "# obs.loc[c,'station'] = obs.loc[c,'observationname'].str.lower()"
   ]
  },
  {
   "cell_type": "code",
   "execution_count": null,
   "id": "507",
   "metadata": {},
   "outputs": [],
   "source": []
  },
  {
   "cell_type": "code",
   "execution_count": null,
   "id": "508",
   "metadata": {},
   "outputs": [],
   "source": []
  },
  {
   "cell_type": "code",
   "execution_count": null,
   "id": "509",
   "metadata": {},
   "outputs": [],
   "source": []
  },
  {
   "cell_type": "code",
   "execution_count": null,
   "id": "510",
   "metadata": {},
   "outputs": [],
   "source": []
  },
  {
   "cell_type": "code",
   "execution_count": null,
   "id": "511",
   "metadata": {},
   "outputs": [],
   "source": [
    "import geopandas as gpd\n",
    "imp_wells = gpd.read_file(os.path.join('..\\\\waterlevel\\\\important_hydros', 'very_important_wells.shp'))\n",
    "\n",
    "imp_wells.loc[:,'station'] = imp_wells.loc[:,'Station Na'].str.lower()\n",
    "print(','.join(imp_wells.station.values))\n",
    "\n",
    "important_obs = obs.loc[obs.station.str.lower().isin(imp_wells.station)]\n",
    "\n",
    "vcount = important_obs.obgnme.value_counts().to_frame('n').reset_index()\n",
    "vcount.loc[:,'obgnme'] = vcount.loc[:,'obgnme'].str.replace('_non_','_non_na_').str.replace('_rmp_','_rmp_na_')\n",
    "vcount = vcount.obgnme.str.split('_',expand = True).join(vcount)\n",
    "vcount.columns = ['group', 'deriv', 'depth','zone', 'obgnme','n']\n",
    "vcount.groupby(['zone',  'deriv']).sum().loc[:,['n']].unstack().droplevel(0,1).plot.bar(title = 'Number of measurements per group for simple run with only GWLE obs')\n"
   ]
  },
  {
   "cell_type": "code",
   "execution_count": null,
   "id": "512",
   "metadata": {},
   "outputs": [],
   "source": []
  },
  {
   "cell_type": "code",
   "execution_count": null,
   "id": "513",
   "metadata": {},
   "outputs": [],
   "source": [
    "pst_out.observation_data.loc[:,'weight'] = 0\n",
    "\n",
    "pst_out.observation_data.loc[important_obs.index,'weight'] = 1\n",
    "\n",
    "pst_out.observation_data.loc[important_obs.query(\"obgnme.str.contains('gwle_major') & obsval>0\").index,'weight'] = 0\n",
    "pst_out.observation_data.loc[important_obs.query(\"obgnme.str.contains('gwle_major') & obsval<-0\").index,'weight'] = 1.\n",
    "pst_out.observation_data.loc[important_obs.query(\"obgnme.str.contains('gwle_major') & obsval<-50\").index,'weight'] = 2.\n",
    "pst_out.observation_data.loc[important_obs.query(\"obgnme.str.contains('gwle_major') & obsval<-100\").index,'weight'] = 3.\n",
    "## this is for the test of looking at only the 20 or so wells\n",
    "\n",
    "# create a dictionary of group names and weights\n",
    "contrib_per_group = 1e10/ float(len(pst_out.nnz_obs_groups))\n",
    "balanced_groups = {grp:contrib_per_group for grp in pst_out.nnz_obs_groups}\n",
    "\n",
    "for locs in ['gwle_abs_']:\n",
    "    balanced_groups = { key:(value*.5 if locs in key\n",
    "              else value) for key, value in balanced_groups.items() }\n",
    "\n",
    "for locs in ['ddown']:\n",
    "    balanced_groups = { key:(value*1 if locs in key\n",
    "              else value) for key, value in balanced_groups.items() }\n",
    "    \n",
    "for locs in ['roll']:\n",
    "    balanced_groups = { key:(value*1 if locs == key\n",
    "              else value) for key, value in balanced_groups.items() }\n",
    "\n",
    "for locs in ['roll18']:\n",
    "    balanced_groups = { key:(value*2 if locs in key\n",
    "              else value) for key, value in balanced_groups.items() }\n",
    "\n",
    "# make all non-zero weighted groups have a contribution of 100.0\n",
    "pst_out.adjust_weights(obsgrp_dict=balanced_groups,)\n",
    "\n",
    "run_major_pst(pst_out)\n",
    "\n",
    "\n",
    "pst_out.write(os.path.join('pestaws_lager', 'lager.pst'),version=2)"
   ]
  },
  {
   "cell_type": "code",
   "execution_count": null,
   "id": "514",
   "metadata": {},
   "outputs": [],
   "source": [
    "df = conda_scripts.utils.get_russian_riv_flows.get_usgs()"
   ]
  },
  {
   "cell_type": "code",
   "execution_count": null,
   "id": "515",
   "metadata": {},
   "outputs": [],
   "source": [
    "from plotly.subplots import make_subplots\n",
    "import plotly.graph_objects as go\n",
    "# Create subplot grid\n",
    "# fig = make_subplots(rows=2, cols=2)\n",
    "# fig.add_trace(row=1,col=1)\n",
    "fig = px.line(x= [1,1], y = [2,2], color = ['r']*2)\n",
    "fig.show()\n",
    "fig = [fig]\n",
    "\n",
    "fin = go.Figure()\n",
    "\n",
    "for f in fig:\n",
    "    for g in f.data:\n",
    "        fin.add_trace(g)\n",
    "\n",
    "fin.show()"
   ]
  },
  {
   "cell_type": "code",
   "execution_count": null,
   "id": "516",
   "metadata": {},
   "outputs": [],
   "source": [
    "vcount = pd.Series(balanced_groups).to_frame('phi').reset_index().rename(columns = {'index':'obgnme'})\n",
    "\n",
    "\n",
    "vcount.loc[:,'obgnme'] = vcount.loc[:,'obgnme'].str.replace('_non_','_non_na_').str.replace('_rmp_','_rmp_na_')\n",
    "vcount = vcount.obgnme.str.split('_',expand = True).join(vcount)\n",
    "vcount.columns = ['group', 'deriv', 'depth','zone', 'obgnme','n']\n",
    "vcount.groupby(['zone',  'deriv']).sum().loc[:,['n']].unstack().droplevel(0,1).plot.barh(title = 'Contribution to Phi Per Group')"
   ]
  },
  {
   "cell_type": "code",
   "execution_count": null,
   "id": "517",
   "metadata": {},
   "outputs": [],
   "source": []
  },
  {
   "cell_type": "code",
   "execution_count": null,
   "id": "518",
   "metadata": {},
   "outputs": [],
   "source": []
  },
  {
   "cell_type": "code",
   "execution_count": null,
   "id": "519",
   "metadata": {},
   "outputs": [],
   "source": [
    "[x  for x in pst.observation_data.obgnme.unique() if not x.lower() in pst_out.nnz_obs_groups]"
   ]
  },
  {
   "cell_type": "code",
   "execution_count": null,
   "id": "520",
   "metadata": {},
   "outputs": [],
   "source": []
  },
  {
   "cell_type": "code",
   "execution_count": null,
   "id": "521",
   "metadata": {},
   "outputs": [],
   "source": [
    "# create a dictionary of group names and weights\n",
    "contrib_per_group = pst_out.phi / float(len(pst_out.nnz_obs_groups))\n",
    "balanced_groups = {grp:contrib_per_group for grp in pst_out.nnz_obs_groups}\n",
    "\n",
    "\n",
    "# balanced_groups['kenwood_log'] = balanced_groups['kenwood_log']\n",
    "balanced_groups['aguacal_log'] = balanced_groups['aguacal_log']*3\n",
    "\n",
    "balanced_groups['kenwood_log'] = balanced_groups['aguacal_log']*frac_sfr_obs\n",
    "# {x:v*3 if 'eside' in x else x:v for x,v in balanced_groups.items()}\n",
    "\n",
    "for locs in ['hk', 'irr_dept']:\n",
    "    balanced_groups = { key:(value*2 if locs in key\n",
    "              else value) for key, value in balanced_groups.items() }\n",
    "\n",
    "\n",
    "for locs in ['eastside','_aguacal']:\n",
    "    balanced_groups = { key:(value*5 if (locs in key) \n",
    "                             and (not 'sfr' in key) \n",
    "                             and (not 'log' in key) \n",
    "                             and (not 'min_flow' in key)\n",
    "                             \n",
    "              else value) for key, value in balanced_groups.items() }\n",
    "\n",
    "for locs in ['major']:\n",
    "    balanced_groups = { key:(value*5 if locs in key\n",
    "              else value) for key, value in balanced_groups.items() }\n",
    "    \n",
    "for locs in ['rmp']:\n",
    "    balanced_groups = { key:(value*10 if locs in key\n",
    "              else value) for key, value in balanced_groups.items() }\n",
    "\n",
    "for locs in ['hds_non']:\n",
    "    balanced_groups = { key:(value*1 if locs in key\n",
    "              else value) for key, value in balanced_groups.items() }\n",
    "\n",
    "for locs in ['gwle_ddown']:\n",
    "    balanced_groups = { key:(value*0.25 if locs in key\n",
    "              else value) for key, value in balanced_groups.items() }\n",
    "\n",
    "for locs in ['roll']:\n",
    "    balanced_groups = { key:(value*.5 if locs in key\n",
    "              else value) for key, value in balanced_groups.items() }\n",
    "\n",
    "for locs in ['sfr']:\n",
    "    balanced_groups = { key:(value*.25 if locs in key\n",
    "              else value) for key, value in balanced_groups.items() }\n",
    "\n",
    "for locs in ['deep']:\n",
    "    balanced_groups = { key:(value*1.25 if locs in key\n",
    "              else value) for key, value in balanced_groups.items() }\n",
    "\n",
    "for locs in [ 'kenwood']:\n",
    "    balanced_groups = { key:(value*(0.33) if locs in key\n",
    "              else value) for key, value in balanced_groups.items() }\n",
    "\n",
    "for locs in ['highlands']:\n",
    "    balanced_groups = { key:(value*(0.1) if locs in key\n",
    "              else value) for key, value in balanced_groups.items() }\n",
    "\n",
    "\n",
    "# make sure aguacal sfr flows are highest\n",
    "\n",
    "sf_agua = list(filter(lambda x: 'aguacal' in x and not(( 'gwle' in x) or ( 'hds' in x)), pst_out.observation_data.obgnme.unique()))\n",
    "\n",
    "mv = max(balanced_groups.values())*.5\n",
    "\n",
    "for locs in sf_agua:\n",
    "    balanced_groups = { key:(mv if locs in key\n",
    "              else value) for key, value in balanced_groups.items() }\n",
    "\n",
    "\n",
    "\n",
    "\n",
    "# make sure aguacal sfr flows are highest\n",
    "\n",
    "sf_agua = list(filter(lambda x: 'kenwood' in x and not(( 'gwle' in x) or ( 'hds' in x)), pst_out.observation_data.obgnme.unique()))\n",
    "mv = max(balanced_groups.values())*frac_sfr_obs*.3\n",
    "\n",
    "for locs in sf_agua:\n",
    "    balanced_groups = { key:(mv if locs in key\n",
    "              else value) for key, value in balanced_groups.items() }\n",
    "\n",
    "for locs in ['sfr_fdc', 'yearly_min_']:\n",
    "    balanced_groups = { key:(value*(0.7) if locs in key\n",
    "              else value) for key, value in balanced_groups.items() }\n",
    "\n",
    "    \n",
    "# # set all gwle to zero\n",
    "# for locs in ['gwle']:\n",
    "#     balanced_groups = { key:(value*(0.0) if locs in key\n",
    "#               else value) for key, value in balanced_groups.items() }"
   ]
  },
  {
   "cell_type": "code",
   "execution_count": null,
   "id": "522",
   "metadata": {},
   "outputs": [],
   "source": [
    "sf_agua"
   ]
  },
  {
   "cell_type": "code",
   "execution_count": null,
   "id": "523",
   "metadata": {},
   "outputs": [],
   "source": [
    "\n",
    "phicomp_pre = pd.Series({k:pst_out.phi_components[k] for k in pst_out.nnz_obs_groups})\n"
   ]
  },
  {
   "cell_type": "code",
   "execution_count": null,
   "id": "524",
   "metadata": {},
   "outputs": [],
   "source": [
    "print((phicomp_pre/phicomp_pre.sum()).sort_values(ascending = False).head(50))"
   ]
  },
  {
   "cell_type": "code",
   "execution_count": null,
   "id": "525",
   "metadata": {},
   "outputs": [],
   "source": [
    "print((phicomp_pre/phicomp_pre.sum()).sort_values(ascending = False).tail(20))"
   ]
  },
  {
   "cell_type": "code",
   "execution_count": null,
   "id": "526",
   "metadata": {},
   "outputs": [],
   "source": []
  },
  {
   "cell_type": "code",
   "execution_count": null,
   "id": "527",
   "metadata": {},
   "outputs": [],
   "source": []
  },
  {
   "cell_type": "code",
   "execution_count": null,
   "id": "528",
   "metadata": {},
   "outputs": [],
   "source": [
    "import matplotlib.patches as mpatches"
   ]
  },
  {
   "cell_type": "code",
   "execution_count": null,
   "id": "529",
   "metadata": {},
   "outputs": [],
   "source": [
    "bb = pd.Series(balanced_groups).sort_values()\n",
    "\n",
    "\n",
    "c = bb.copy()\n",
    "c = 100*c/c.sum()\n",
    "c = c.to_frame('label').sort_values(by = 'label', ascending = True)\n",
    "c.loc[:,'label'] = c.label.apply(lambda x: f\"{x:.1f}%\")\n",
    "c.loc[:,'ind'] = np.arange(c.shape[0])\n",
    "c = c.drop_duplicates('label')\n",
    "c\n",
    "\n",
    "def get_color(s):\n",
    "    if 'hds_rmp' in s:\n",
    "        return 'green'\n",
    "    if 'hds_non' in s:\n",
    "        return 'orange'\n",
    "    elif 'roll' in s:\n",
    "        return 'blue'\n",
    "    elif 'ddown' in s:\n",
    "        return 'grey'\n",
    "    elif 'abs' in s:\n",
    "        return 'c'\n",
    "    elif \"_major\" in s.lower():\n",
    "        return 'purple'\n",
    "    elif 'sfr' in s or 'min_flow' in s or \"_log\":\n",
    "        return 'red'\n",
    "    else:\n",
    "        return 'brown'\n",
    "\n",
    "# Example usage\n",
    "legend_entries = [\n",
    "    (\"hds_rmp\", \"green\"),\n",
    "    (\"hds_non\", \"orange\"),\n",
    "    (\"roll\", \"blue\"),\n",
    "    (\"ddown\", \"grey\"),\n",
    "    (\"major drawdown\", \"purple\"),\n",
    "    (\"abs\", \"black\"),\n",
    "    (\"streamflow/sfr\", \"red\"),\n",
    "    (\"other\", \"brown\")  # For all other cases\n",
    "]\n",
    "\n",
    "colors = bb.index.map(get_color)\n",
    "ax = bb.plot.barh(figsize = (4,15), color = colors, ec = 'k')\n",
    "ax.grid(True)\n",
    "\n",
    "# Create a legend with Patch instead of Polygon\n",
    "legend_patches = [mpatches.Patch(facecolor =color, label=name, edgecolor = 'k') for name, color in legend_entries]\n",
    "# Add the legend to the plot\n",
    "plt.legend(handles=legend_patches, loc='lower right', bbox_to_anchor=(1, 0))\n",
    "\n",
    "conda_scripts.plot_help.label_outside_multiple(ax, y = c.ind.values, labels = c.label.values, str_format='.1f', already_str=True,zise = \"20%\" )\n",
    "\n",
    "# plt.savefig('observation_weights.png', dpi = 250, bbox_inches = 'tight')"
   ]
  },
  {
   "cell_type": "code",
   "execution_count": null,
   "id": "530",
   "metadata": {},
   "outputs": [],
   "source": [
    "pst.observation_data"
   ]
  },
  {
   "cell_type": "code",
   "execution_count": null,
   "id": "531",
   "metadata": {},
   "outputs": [],
   "source": [
    "# make all non-zero weighted groups have a contribution of 100.0\n",
    "pst_out.adjust_weights(obsgrp_dict=balanced_groups,)"
   ]
  },
  {
   "cell_type": "code",
   "execution_count": null,
   "id": "532",
   "metadata": {},
   "outputs": [],
   "source": [
    "# pst_out.pestpp_options[\"ies_restart_observation_ensemble\"] = 'whiz.0.obs.csv'"
   ]
  },
  {
   "cell_type": "code",
   "execution_count": null,
   "id": "533",
   "metadata": {},
   "outputs": [],
   "source": [
    "# pst_out.pestpp_options[\"ies_restart_parameter_ensemble\"] = 'whiz.0.par.csv'"
   ]
  },
  {
   "cell_type": "code",
   "execution_count": null,
   "id": "534",
   "metadata": {},
   "outputs": [],
   "source": [
    "template_ws"
   ]
  },
  {
   "cell_type": "code",
   "execution_count": null,
   "id": "535",
   "metadata": {},
   "outputs": [],
   "source": [
    "run_major_pst(pst_out)\n",
    "pst_out.write(os.path.join(template_ws, 'mango.pst'),version=2)"
   ]
  },
  {
   "cell_type": "code",
   "execution_count": null,
   "id": "536",
   "metadata": {},
   "outputs": [],
   "source": [
    "pst_out.parameter_data"
   ]
  },
  {
   "cell_type": "code",
   "execution_count": null,
   "id": "537",
   "metadata": {},
   "outputs": [],
   "source": []
  },
  {
   "cell_type": "code",
   "execution_count": null,
   "id": "538",
   "metadata": {},
   "outputs": [],
   "source": [
    "pst_out.parameter_data.query(\"parval1==parlbnd or parval1==parubnd\")"
   ]
  },
  {
   "cell_type": "code",
   "execution_count": null,
   "id": "539",
   "metadata": {},
   "outputs": [],
   "source": [
    "phicomp = pd.Series({k:pst_out.phi_components[k] for k in pst_out.nnz_obs_groups})"
   ]
  },
  {
   "cell_type": "code",
   "execution_count": null,
   "id": "540",
   "metadata": {},
   "outputs": [],
   "source": [
    "\n",
    "\n",
    "phoebe = phicomp.to_frame('post').join(phicomp_pre.to_frame('pre (even weighting)'))\n",
    "\n",
    "# .plot.bar()"
   ]
  },
  {
   "cell_type": "code",
   "execution_count": null,
   "id": "541",
   "metadata": {},
   "outputs": [],
   "source": [
    "phoebe"
   ]
  },
  {
   "cell_type": "markdown",
   "id": "542",
   "metadata": {},
   "source": [
    "Let's take a look at how that has affected the contributions to Phi:"
   ]
  },
  {
   "cell_type": "code",
   "execution_count": null,
   "id": "543",
   "metadata": {},
   "outputs": [],
   "source": [
    "template_ws"
   ]
  },
  {
   "cell_type": "code",
   "execution_count": null,
   "id": "544",
   "metadata": {},
   "outputs": [],
   "source": [
    "pst_out.pestpp_options['overdue_giveup_fac'] =  5\n",
    "pst_out.pestpp_options['overdue_giveup_minutes'] =6*60"
   ]
  },
  {
   "cell_type": "code",
   "execution_count": null,
   "id": "545",
   "metadata": {},
   "outputs": [],
   "source": [
    "pst_out.model_command = 'python forward_run.py'\n",
    "pst_out.control_data.noptmax = 3\n",
    "pst_out.write(os.path.join(template_ws, 'zoom.pst'),version=2)"
   ]
  },
  {
   "cell_type": "markdown",
   "id": "546",
   "metadata": {},
   "source": [
    "The next cell adds in a column to the `pst.observation_data` for checking purposes in subsequent tutorials. In practice, when you have lots of model outputs treated as \"obserations\" in the pest control file, setting a flag to indicate exactly which observation quantities correspond to actual real-world information can be important for tracking things through your workflow..."
   ]
  },
  {
   "cell_type": "markdown",
   "id": "547",
   "metadata": {},
   "source": [
    "### Understanding Observation Weights and Measurement Noise\n",
    "\n",
    "Let's have a look at what weight values were assigned to our observation groups:"
   ]
  },
  {
   "cell_type": "code",
   "execution_count": null,
   "id": "548",
   "metadata": {},
   "outputs": [],
   "source": [
    "obs = pst_out.observation_data\n",
    "for group in pst_out.nnz_obs_groups:\n",
    "    print(group,f\"{obs.loc[obs.obgnme==group,'weight'].max():,.1f}\")"
   ]
  },
  {
   "cell_type": "markdown",
   "id": "549",
   "metadata": {},
   "source": [
    "# here are the weights that should be set\n",
    "\n",
    "| Name          | Value |\n",
    "|:--------------|:------|\n",
    "| hds           | 28    |\n",
    "| aguacal_log   | 2783  |\n",
    "| kenwood_log   | 1556  |"
   ]
  },
  {
   "cell_type": "markdown",
   "id": "550",
   "metadata": {},
   "source": [
    "Ok, some variability there, and, as expected, the sfr flowout observations have been given a very low weight and the groundwater level obs have been given a very high weight - this is simply to overcome the difference in magnitudes between these two different data types.  All good...or is it?\n",
    "\n",
    "In standard deterministic parameter estimation, only the relative difference between the weights matters, so we are fine there...but in uncertainty analysis, we often want to account for the contribution from measurement noise and we havent told any of the pest++ tools not to use the inverse of the weights to approximate measurement noise, and this is a problem because those weights we assigned have no relation to measurement noise!  This can cause massive problems later, especially is you are using explicit noise realizations in uncertainty analysis - Imagine how much SFR flow noise is implied by that tiny weight?  It's easy to see how negative SFR flow noise values might be drawn with that small of a weight (high of a standard deviation) #badtimes.   \n",
    "\n",
    "So what can we do?  Well there are options.  An easy way is to simply supply a \"standard_deviation\" column in the `pst.observation_data` dataframe that will cause these values to be used to represent measurement noise.  "
   ]
  },
  {
   "cell_type": "code",
   "execution_count": null,
   "id": "551",
   "metadata": {},
   "outputs": [],
   "source": [
    "pst_out.control_data.noptmax = 3"
   ]
  },
  {
   "cell_type": "code",
   "execution_count": null,
   "id": "552",
   "metadata": {},
   "outputs": [],
   "source": [
    "pst_out.write(os.path.join(template_ws, \"blaze.pst\"),version=2)"
   ]
  },
  {
   "cell_type": "code",
   "execution_count": null,
   "id": "553",
   "metadata": {},
   "outputs": [],
   "source": [
    "\n",
    "\n",
    "\n",
    "mast = pd.read_csv(r\"C:\\GSP\\sv\\model\\update_2024\\scripts\\master\\pest_ies.0.par.csv\").set_index('real_name')\n",
    "temp = pd.read_csv(r\"C:\\GSP\\sv\\model\\update_2024\\scripts\\pestrunv4\\pest_ies.0.par.csv\").set_index('real_name')\n",
    "\n",
    "mast = mast.loc[['base']].T\n",
    "temp = temp.loc[['base']].T"
   ]
  },
  {
   "cell_type": "code",
   "execution_count": null,
   "id": "554",
   "metadata": {},
   "outputs": [],
   "source": [
    "j = mast.join(temp,rsuffix =  'temp' )\n",
    "j.loc[:,'ratio'] = j.loc[:,'base']/j.loc[:,'basetemp']\n",
    "bad = j.loc[j.ratio!=1]\n",
    "pd.Series(bad.index.map(lambda x:x[0:3])).unique()"
   ]
  },
  {
   "cell_type": "code",
   "execution_count": null,
   "id": "555",
   "metadata": {},
   "outputs": [],
   "source": [
    "### saving the new control file"
   ]
  },
  {
   "cell_type": "code",
   "execution_count": null,
   "id": "556",
   "metadata": {},
   "outputs": [],
   "source": [
    "mast = pd.read_csv(r\"C:\\GSP\\sv\\model\\update_2024\\scripts\\master\\pest_ies.par_data.csv\")\n",
    "temp = pd.read_csv(r\"C:\\GSP\\sv\\model\\update_2024\\scripts\\pestrunv2\\pest_ies.par_data.csv\")"
   ]
  },
  {
   "cell_type": "code",
   "execution_count": null,
   "id": "557",
   "metadata": {},
   "outputs": [],
   "source": [
    "mast = mast.set_index('parnme').loc[:,['parval1', 'pargp']]\n",
    "temp = temp.set_index('parnme').loc[:,['parval1']]"
   ]
  },
  {
   "cell_type": "code",
   "execution_count": null,
   "id": "558",
   "metadata": {},
   "outputs": [],
   "source": [
    "j = mast.join(temp,rsuffix =  'temp' )"
   ]
  },
  {
   "cell_type": "code",
   "execution_count": null,
   "id": "559",
   "metadata": {},
   "outputs": [],
   "source": [
    "j.loc[:,'ratio'] = j.loc[:,'parval1']/j.loc[:,'parval1temp']"
   ]
  },
  {
   "cell_type": "code",
   "execution_count": null,
   "id": "560",
   "metadata": {},
   "outputs": [],
   "source": [
    "bad = j.loc[j.ratio!=1]"
   ]
  },
  {
   "cell_type": "code",
   "execution_count": null,
   "id": "561",
   "metadata": {},
   "outputs": [],
   "source": [
    "bad.sort_values('ratio').groupby('pargp').mean()"
   ]
  },
  {
   "cell_type": "code",
   "execution_count": null,
   "id": "562",
   "metadata": {},
   "outputs": [],
   "source": [
    "ml.dis.itmuni"
   ]
  },
  {
   "cell_type": "code",
   "execution_count": null,
   "id": "563",
   "metadata": {},
   "outputs": [],
   "source": [
    "n = np.ones(vktemp.shape)*0.0033"
   ]
  },
  {
   "cell_type": "code",
   "execution_count": null,
   "id": "564",
   "metadata": {},
   "outputs": [],
   "source": [
    "np.savetxt(r\"C:\\GSP\\sv\\model\\update_2024\\scripts\\pestrunv2\\pp2024_out\\fmp_vk.txt\", n)"
   ]
  },
  {
   "cell_type": "code",
   "execution_count": null,
   "id": "565",
   "metadata": {},
   "outputs": [],
   "source": [
    "vkmast = np.genfromtxt(r\"C:\\GSP\\sv\\model\\update_2024\\scripts\\master\\pp2024_out\\fmp_vk.txt\")\n",
    "vktemp = np.genfromtxt(r\"C:\\GSP\\sv\\model\\update_2024\\scripts\\pestrunv3\\pp2024_out\\fmp_vk.txt\")\n",
    "vkmast[vkmast>1e10] = np.nan\n",
    "vktemp[vktemp>1e10] = np.nan"
   ]
  },
  {
   "cell_type": "code",
   "execution_count": null,
   "id": "566",
   "metadata": {},
   "outputs": [],
   "source": [
    "np.unique(vkmast.ravel())"
   ]
  },
  {
   "cell_type": "code",
   "execution_count": null,
   "id": "567",
   "metadata": {},
   "outputs": [],
   "source": [
    "v = (vkmast/vktemp).ravel()\n",
    "v = v[~np.isnan(v)]"
   ]
  },
  {
   "cell_type": "code",
   "execution_count": null,
   "id": "568",
   "metadata": {},
   "outputs": [],
   "source": [
    "dd = vktemp[~np.isnan(vktemp)].ravel()"
   ]
  },
  {
   "cell_type": "code",
   "execution_count": null,
   "id": "569",
   "metadata": {},
   "outputs": [],
   "source": [
    "import matplotlib.pyplot as plt"
   ]
  },
  {
   "cell_type": "code",
   "execution_count": null,
   "id": "570",
   "metadata": {},
   "outputs": [],
   "source": [
    "plt.scatter(np.arange(0,100,10), np.percentile(dd, np.arange(0,100,10)))"
   ]
  },
  {
   "cell_type": "code",
   "execution_count": null,
   "id": "571",
   "metadata": {},
   "outputs": [],
   "source": [
    "summary = pst.write_par_summary_table(filename=\"par.tex\", report_in_linear_space = True)"
   ]
  },
  {
   "cell_type": "code",
   "execution_count": null,
   "id": "572",
   "metadata": {},
   "outputs": [],
   "source": [
    "summary"
   ]
  },
  {
   "cell_type": "code",
   "execution_count": null,
   "id": "573",
   "metadata": {},
   "outputs": [],
   "source": [
    "mast = pyemu.Pst(r\"C:\\GSP\\sv\\model\\update_2024\\scripts\\master\\pest_ies.pst\")"
   ]
  },
  {
   "cell_type": "code",
   "execution_count": null,
   "id": "574",
   "metadata": {},
   "outputs": [],
   "source": [
    "dates = pd.date_range('12/1/1969', freq = 'M', periods  =586)\n",
    "dates[-48:]"
   ]
  },
  {
   "cell_type": "code",
   "execution_count": null,
   "id": "575",
   "metadata": {},
   "outputs": [],
   "source": [
    "\n"
   ]
  },
  {
   "cell_type": "code",
   "execution_count": null,
   "id": "576",
   "metadata": {},
   "outputs": [],
   "source": []
  },
  {
   "cell_type": "code",
   "execution_count": null,
   "id": "577",
   "metadata": {},
   "outputs": [],
   "source": [
    "importlib.reload(forward_run)"
   ]
  },
  {
   "cell_type": "code",
   "execution_count": null,
   "id": "578",
   "metadata": {},
   "outputs": [],
   "source": [
    "forward_run.write_OFE(template_ws)"
   ]
  },
  {
   "cell_type": "code",
   "execution_count": null,
   "id": "579",
   "metadata": {},
   "outputs": [],
   "source": [
    "par_plum = pd.read_csv(os.path.join(template_ws, \"plum.par_data.csv\"))"
   ]
  },
  {
   "cell_type": "code",
   "execution_count": null,
   "id": "580",
   "metadata": {},
   "outputs": [],
   "source": [
    "par_peach = pd.read_csv(os.path.join(template_ws.replace('plum','peach'), \"peach.par_data.csv\"))"
   ]
  },
  {
   "cell_type": "code",
   "execution_count": null,
   "id": "581",
   "metadata": {},
   "outputs": [],
   "source": [
    "b = par_plum.set_index('parnme').join(par_peach.set_index('parnme'),rsuffix = '_peach')"
   ]
  },
  {
   "cell_type": "code",
   "execution_count": null,
   "id": "582",
   "metadata": {},
   "outputs": [],
   "source": [
    "b.loc[b.parval1 !=b.parval1_peach]"
   ]
  },
  {
   "cell_type": "code",
   "execution_count": null,
   "id": "583",
   "metadata": {},
   "outputs": [],
   "source": [
    "b.loc[b.parlbnd !=b.parlbnd_peach]"
   ]
  },
  {
   "cell_type": "code",
   "execution_count": null,
   "id": "584",
   "metadata": {},
   "outputs": [],
   "source": [
    "b.loc[b.parubnd_peach !=b.parubnd_peach]"
   ]
  },
  {
   "cell_type": "code",
   "execution_count": null,
   "id": "585",
   "metadata": {},
   "outputs": [],
   "source": []
  }
 ],
 "metadata": {
  "kernelspec": {
   "display_name": "Python 3 (ipykernel)",
   "language": "python",
   "name": "python3"
  },
  "language_info": {
   "codemirror_mode": {
    "name": "ipython",
    "version": 3
   },
   "file_extension": ".py",
   "mimetype": "text/x-python",
   "name": "python",
   "nbconvert_exporter": "python",
   "pygments_lexer": "ipython3",
   "version": "3.9.19"
  }
 },
 "nbformat": 4,
 "nbformat_minor": 5
}
