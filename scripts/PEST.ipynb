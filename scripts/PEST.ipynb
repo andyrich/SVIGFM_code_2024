{
 "cells": [
  {
   "cell_type": "code",
   "execution_count": null,
   "id": "14de608b-3551-4a7c-b350-77f2ddfc7a9c",
   "metadata": {
    "editable": true,
    "slideshow": {
     "slide_type": ""
    },
    "tags": []
   },
   "outputs": [],
   "source": [
    "import pyemu\n",
    "import conda_scripts.load_datasets as lsd\n",
    "import os\n",
    "import pandas as pd\n",
    "import numpy as np\n",
    "import conda_scripts\n",
    "import forward_run"
   ]
  },
  {
   "cell_type": "code",
   "execution_count": null,
   "id": "39c74509-63c6-4028-9fb0-72b9ccb15abe",
   "metadata": {
    "editable": true,
    "slideshow": {
     "slide_type": ""
    },
    "tags": []
   },
   "outputs": [],
   "source": [
    "workspace = lsd.model_info.get_mod('son', True)\n",
    "workspace"
   ]
  },
  {
   "cell_type": "markdown",
   "id": "29d1df38-e878-40d4-8256-ce5feeaab5bb",
   "metadata": {},
   "source": [
    "# create a local copy without git folders"
   ]
  },
  {
   "cell_type": "code",
   "execution_count": null,
   "id": "eb7221c1-0b8b-402f-8207-b122f46c96f7",
   "metadata": {},
   "outputs": [],
   "source": [
    "import shutil\n",
    "from shutil import ignore_patterns\n",
    "\n",
    "\n",
    "\n",
    "# Define the source and destination folders\n",
    "src_folder = workspace\n",
    "dest_folder = 'local_copy'\n",
    "\n",
    "if not os.path.exists(dest_folder):\n",
    "    pass\n",
    "else:\n",
    "    print('erasing dest_folder')\n",
    "    pyemu.os.remove(dest_folder)\n",
    "\n",
    "# Copy the directory tree from src to dest, ignoring the .git directory\n",
    "shutil.copytree(src_folder, dest_folder, ignore=ignore_patterns('.git', '.git/*'))\n",
    "workspace = dest_folder"
   ]
  },
  {
   "cell_type": "code",
   "execution_count": null,
   "id": "1dc55fec-65b3-4d4a-9be0-777fed1e81e7",
   "metadata": {},
   "outputs": [],
   "source": [
    "# specify a template directory (i.e. the PstFrom working folder)\n",
    "template_ws = os.path.join(\"pestaws_V2\")"
   ]
  },
  {
   "cell_type": "code",
   "execution_count": null,
   "id": "32c32415-5e32-4b69-97c8-457b69166468",
   "metadata": {
    "editable": true,
    "slideshow": {
     "slide_type": ""
    },
    "tags": []
   },
   "outputs": [],
   "source": [
    "\n",
    "start_datetime=\"12-1-1969\"\n",
    "# instantiate PstFrom\n",
    "pf = pyemu.utils.PstFrom(original_d=workspace, # where the model is stored\n",
    "                            new_d=template_ws, # the PEST template folder\n",
    "                            remove_existing=True, # ensures a clean start\n",
    "                            longnames=False, # set False if using PEST/PEST_HP\n",
    "                            # spatial_reference=sr, #the spatial reference we generated earlier\n",
    "                            zero_based=False, # does the MODEL use zero based indices? For example, MODFLOW does NOT\n",
    "                            start_datetime=start_datetime, # required when specifying temporal correlation between parameters\n",
    "                            echo=False) # to stop PstFrom from writting lots of infromation to the notebook; experiment by setting it as True to see the difference; usefull for troubleshooting\n",
    "\n"
   ]
  },
  {
   "cell_type": "code",
   "execution_count": null,
   "id": "d37a024b-4e68-47a1-b31f-f47981334189",
   "metadata": {
    "editable": true,
    "slideshow": {
     "slide_type": ""
    },
    "tags": []
   },
   "outputs": [],
   "source": [
    "ml = conda_scripts.sv_budget.load_sv_model.get_model(template_ws)"
   ]
  },
  {
   "cell_type": "code",
   "execution_count": null,
   "id": "02cdf511-5ea3-4162-bbc5-2600849676a7",
   "metadata": {
    "editable": true,
    "slideshow": {
     "slide_type": ""
    },
    "tags": []
   },
   "outputs": [],
   "source": [
    "if os.path.exists(os.path.join(template_ws, 'pp2024')):\n",
    "    pass\n",
    "else:\n",
    "    os.mkdir(os.path.join(template_ws, 'pp2024'))\n",
    "\n",
    "if os.path.exists(os.path.join(template_ws, 'pp2024_out')):\n",
    "    pass\n",
    "else:\n",
    "    os.mkdir(os.path.join(template_ws, 'pp2024_out'))\n",
    "\n",
    "if not os.path.exists(os.path.join(template_ws, '.git')):\n",
    "    pass\n",
    "else:\n",
    "    print('erasing git')\n",
    "    pyemu.os.remove(os.path.join(template_ws, '.git'))\n"
   ]
  },
  {
   "cell_type": "code",
   "execution_count": null,
   "id": "8af9ffdb-8542-455e-8007-190f88233365",
   "metadata": {
    "editable": true,
    "slideshow": {
     "slide_type": ""
    },
    "tags": []
   },
   "outputs": [],
   "source": []
  },
  {
   "cell_type": "code",
   "execution_count": null,
   "id": "bddce3be-aa54-4ffd-bcdb-28649206aeab",
   "metadata": {
    "editable": true,
    "slideshow": {
     "slide_type": ""
    },
    "tags": []
   },
   "outputs": [],
   "source": []
  },
  {
   "cell_type": "code",
   "execution_count": null,
   "id": "7eb876dc-c749-4151-9988-b93a1dc0c386",
   "metadata": {
    "editable": true,
    "slideshow": {
     "slide_type": ""
    },
    "tags": []
   },
   "outputs": [],
   "source": []
  },
  {
   "cell_type": "code",
   "execution_count": null,
   "id": "6bf6ca63-2e68-4394-812d-a61732b2e328",
   "metadata": {},
   "outputs": [],
   "source": []
  },
  {
   "cell_type": "code",
   "execution_count": null,
   "id": "02037d0a-700e-4a56-a25e-b9a8ee276a6e",
   "metadata": {
    "editable": true,
    "slideshow": {
     "slide_type": ""
    },
    "tags": []
   },
   "outputs": [],
   "source": [
    "# def summarize_budget(folder):\n",
    "#     b = os.path.join(folder,'output',\"Budget.txt\")\n",
    "#     bud = pd.read_csv(b, sep = '\\s+') \n",
    "\n",
    "#     bud = bud.groupby(pd.to_datetime(bud.DATE_START).dt.year).sum()\n",
    "\n",
    "#     bud = bud.loc[:, ['STORAGE_IN', 'STORAGE_OUT',\n",
    "#        'WEL_V1_OUT', 'GHB_IN', 'RCH_IN', 'DRT_OUT', 'SFR_IN', 'SFR_OUT',\n",
    "#        'MNW2_IN', 'MNW2_OUT', 'FMP_WELLS_OUT', 'FMP_FNR_IN', 'FMP_FNR_OUT',\n",
    "#        'IN_OUT', 'PERCENT_ERROR'], ]\n",
    "\n",
    "#     bud.to_csv(b.replace('Budget','Budget_pest'))\n",
    "#     bud = bud.sum().to_frame('sum')\n",
    "#     bud.index.name = 'name'\n",
    "#     bud.insert(0,'ref',1)\n",
    "#     bud.to_csv(b.replace('Budget','Budget_pest_summary'))\n",
    "#     return bud\n",
    "\n",
    "bud = forward_run.summarize_budget(template_ws)"
   ]
  },
  {
   "cell_type": "code",
   "execution_count": null,
   "id": "638a2e76-e948-462b-8b0b-fb98920f96c4",
   "metadata": {},
   "outputs": [],
   "source": [
    "# template_ws = os.path.join(\"freyberg6_template\")\n",
    "\n",
    "flx_sum = pf.add_observations(os.path.join('output',\"Budget_pest_summary.txt\"), # the model output file to read\n",
    "                             # new_d=template_ws, # the PEST template folder,\n",
    "                            insfile=os.path.join('output',\"Budget_pest_summary.txt.ins\"), #optional, the instruction file name\n",
    "                            index_cols=\"flux_term\", #column header to use as index; can also use column number (zero-based) instead of the header name\n",
    "                            use_cols=['sum'], #names of columns that include observation values; can also use column number (zero-based) instead of the header name\n",
    "                             ofile_sep = ',',\n",
    "                             obsgp = 'flux_sum',\n",
    "                            prefix=\"flux_sum\") #prefix to all observation names; choose something logical and easy to find. We use it later on to select obsevrations"
   ]
  },
  {
   "cell_type": "code",
   "execution_count": null,
   "id": "b3787335-7c6d-49c6-90fb-1395b3b52e48",
   "metadata": {},
   "outputs": [],
   "source": [
    "flx_sum.loc[:,'weight'] = 0\n",
    "flx_sum"
   ]
  },
  {
   "cell_type": "code",
   "execution_count": null,
   "id": "f8dc7798-086e-48b8-b0f0-e4da918602ad",
   "metadata": {},
   "outputs": [],
   "source": []
  },
  {
   "cell_type": "code",
   "execution_count": null,
   "id": "a2342edf-6270-4e23-9621-6e7a96b208c9",
   "metadata": {
    "editable": true,
    "slideshow": {
     "slide_type": ""
    },
    "tags": []
   },
   "outputs": [],
   "source": [
    "# template_ws = os.path.join(\"freyberg6_template\")\n",
    "\n",
    "flx_df = pf.add_observations(os.path.join('output',\"Budget_pest.txt\"), # the model output file to read\n",
    "                             # new_d=template_ws, # the PEST template folder,\n",
    "                            insfile=os.path.join('output',\"Budget_pest.txt.ins\"), #optional, the instruction file name\n",
    "                            index_cols=\"DATE_START\", #column header to use as index; can also use column number (zero-based) instead of the header name\n",
    "                            use_cols=['STORAGE_IN', 'STORAGE_OUT',\n",
    "                                       'WEL_V1_OUT', 'GHB_IN', 'RCH_IN', 'DRT_OUT', 'SFR_IN', 'SFR_OUT',\n",
    "                                       'MNW2_IN', 'MNW2_OUT', 'FMP_WELLS_OUT', 'FMP_FNR_IN', 'FMP_FNR_OUT',\n",
    "                                       'IN_OUT', 'PERCENT_ERROR'], #names of columns that include observation values; can also use column number (zero-based) instead of the header name\n",
    "                             ofile_sep = ',',\n",
    "                             obsgp = 'flux',\n",
    "                            prefix=\"flux\") #prefix to all observation names; choose something logical and easy to find. We use it later on to select obsevrations"
   ]
  },
  {
   "cell_type": "code",
   "execution_count": null,
   "id": "0261b70b-20ef-4739-81ed-af826ca27063",
   "metadata": {},
   "outputs": [],
   "source": [
    "flx_df.loc[:,'weight'] = 0"
   ]
  },
  {
   "cell_type": "code",
   "execution_count": null,
   "id": "e30986df-4697-4d1b-b622-c5009b3697dd",
   "metadata": {},
   "outputs": [],
   "source": [
    "import re\n",
    "\n",
    "def remove_spaces_in_quotes_first_line(file_path):\n",
    "    # Read the content of the file\n",
    "    with open(file_path, 'r') as file:\n",
    "        lines = file.readlines()\n",
    "\n",
    "    # Process the first line only\n",
    "    first_line = lines[0]\n",
    "\n",
    "    # Define a function to remove spaces within quotes\n",
    "    def remove_spaces(match):\n",
    "        return match.group(0).replace(\" \", \"\")\n",
    "\n",
    "    # Use regular expression to find phrases in quotes and remove spaces within them\n",
    "    modified_first_line = re.sub(r'\\\".*?\\\"', remove_spaces, first_line)\n",
    "\n",
    "    # Replace the first line in the list with the modified first line\n",
    "    lines[0] = modified_first_line\n",
    "\n",
    "    # Write the modified content back to the file\n",
    "    with open(file_path, 'w') as file:\n",
    "        file.writelines(lines)\n",
    "\n",
    "# Example usage\n",
    "file_path = os.path.join(template_ws,'output',\"SV_HOBS_all._os\")\n",
    "remove_spaces_in_quotes_first_line(file_path)"
   ]
  },
  {
   "cell_type": "code",
   "execution_count": null,
   "id": "666cf08b-1dde-4ac9-9a93-09503cf98294",
   "metadata": {
    "editable": true,
    "slideshow": {
     "slide_type": ""
    },
    "tags": []
   },
   "outputs": [],
   "source": [
    "# template_ws = os.path.join(\"freyberg6_template\")\n",
    "\n",
    "hds_df = pf.add_observations(os.path.join('output',\"SV_HOBS_all._os\"), # the model output file to read\n",
    "                             # new_d=template_ws, # the PEST template folder,\n",
    "                            insfile=os.path.join('output',\"SV_HOBS_all._os.ins\"), #optional, the instruction file name\n",
    "                            index_cols=r\"OBSERVATIONNAME\", #column header to use as index; can also use column number (zero-based) instead of the header name\n",
    "                            use_cols=r\"SIMULATEDEQUIVALENT\", #names of columns that include observation values; can also use column number (zero-based) instead of the header name\n",
    "                             ofile_sep = '\\s+',\n",
    "                             obsgp = 'hdsgp',\n",
    "                            prefix=\"hds\") #prefix to all observation names; choose something logical and easy to find. We use it later on to select obsevrations"
   ]
  },
  {
   "cell_type": "code",
   "execution_count": null,
   "id": "1b210a28-e6a2-4ceb-837c-3bd2707be02a",
   "metadata": {},
   "outputs": [],
   "source": [
    "with open(os.path.join(template_ws,'output',\"kenwood_sfr.dat\"), 'r') as show:\n",
    "    for i in range(10):\n",
    "        print(show.readline())"
   ]
  },
  {
   "cell_type": "markdown",
   "id": "e4f78dcb-7325-445f-9214-4cfc70d5543b",
   "metadata": {},
   "source": [
    "# add SFR  data"
   ]
  },
  {
   "cell_type": "code",
   "execution_count": null,
   "id": "a524b52e-bbb8-4c69-b24b-3e17b3e6c595",
   "metadata": {},
   "outputs": [],
   "source": [
    "forward_run.sfr_flows_log_transform(os.path.join(template_ws, 'output', \"kenwood_sfr.dat\"),\n",
    "                        os.path.join(template_ws, 'output', \"kenwood_sfr_reformat.csv\"))\n",
    "\n",
    "_ = forward_run.sfr_flows_log_transform(os.path.join(template_ws, 'output', \"agua_caliente_sfr.dat\"),\n",
    "                        os.path.join(template_ws, 'output', \"agua_caliente_sfr_reformat.csv\"))"
   ]
  },
  {
   "cell_type": "code",
   "execution_count": null,
   "id": "22045c77-2aae-4015-a9bf-a3bd32d4b61c",
   "metadata": {},
   "outputs": [],
   "source": []
  },
  {
   "cell_type": "code",
   "execution_count": null,
   "id": "5d357e48-9ae2-477b-b96b-58a37b4c736d",
   "metadata": {},
   "outputs": [],
   "source": [
    "\n",
    "assert os.path.exists(os.path.join(template_ws,'output',\"kenwood_sfr_reformat_log.csv\")), \"kenwood_sfr_reformat_log does not exist\"\n",
    "assert os.path.exists(os.path.join(template_ws,'output',\"agua_caliente_sfr_reformat_log.csv\")), \"agua_caliente_sfr_reformat_log does not exist\""
   ]
  },
  {
   "cell_type": "markdown",
   "id": "4ec02066-2a90-4a28-99ae-d244ca17232d",
   "metadata": {},
   "source": [
    "# add log-transformed data for actual calibration"
   ]
  },
  {
   "cell_type": "code",
   "execution_count": null,
   "id": "2424ceb5-63a7-4def-aad9-2a38e8128e18",
   "metadata": {},
   "outputs": [],
   "source": [
    "# template_ws = os.path.join(\"freyberg6_template\")\n",
    "\n",
    "ken = pf.add_observations(os.path.join('output',\"kenwood_sfr_reformat_log.csv\"), # the model output file to read\n",
    "                             # new_d=template_ws, # the PEST template folder,\n",
    "                            insfile=os.path.join('output',\"kenwood_sfr_reformat_log.csv.ins\"), #optional, the instruction file name\n",
    "                            index_cols='Time', #column header to use as index; can also use column number (zero-based) instead of the header name\n",
    "                            use_cols='Flow', #names of columns that include observation values; can also use column number (zero-based) instead of the header name\n",
    "                             ofile_sep = ',',\n",
    "                             # ofile_skip = [0],\n",
    "                          obsgp = 'kenwood_log',\n",
    "                            prefix=\"sfr_ken\") #prefix to all observation names; choose something logical and easy to find. We use it later on to select obsevrations\n",
    "\n",
    "agua = pf.add_observations(os.path.join('output',\"agua_caliente_sfr_reformat_log.csv\"), # the model output file to read\n",
    "                             # new_d=template_ws, # the PEST template folder,\n",
    "                            insfile=os.path.join('output',\"agua_caliente_sfr_reformat_log.csv.ins\"), #optional, the instruction file name\n",
    "                            index_cols='Time', #column header to use as index; can also use column number (zero-based) instead of the header name\n",
    "                            use_cols='Flow', #names of columns that include observation values; can also use column number (zero-based) instead of the header name\n",
    "                             ofile_sep = ',',\n",
    "                            # ofile_skip = [0],\n",
    "                           obsgp = 'aguacal_log',\n",
    "                            prefix=\"sfr_agua_cal\") #prefix to all observation names; choose something logical and easy to find. We use it later on to select obsevrations"
   ]
  },
  {
   "cell_type": "markdown",
   "id": "685f76be-90f4-4d8b-9ae7-0f1c1de752cd",
   "metadata": {},
   "source": [
    "# add raw data (ie without transform to better observe flows in PEST)"
   ]
  },
  {
   "cell_type": "code",
   "execution_count": null,
   "id": "23677445-f3da-432f-bd47-49b163a99053",
   "metadata": {},
   "outputs": [],
   "source": [
    "\n",
    "assert os.path.exists(os.path.join(template_ws,'output',\"kenwood_sfr_reformat.csv\")), \"kenwood_sfr_reformat_log does not exist\"\n",
    "assert os.path.exists(os.path.join(template_ws,'output',\"agua_caliente_sfr_reformat.csv\")), \"agua_caliente_sfr_reformat_log does not exist\""
   ]
  },
  {
   "cell_type": "code",
   "execution_count": null,
   "id": "dec00747-6bc3-49f7-8292-5f7a460f5cfe",
   "metadata": {},
   "outputs": [],
   "source": [
    "# template_ws = os.path.join(\"freyberg6_template\")\n",
    "\n",
    "kenraw = pf.add_observations(os.path.join('output',\"kenwood_sfr_reformat.csv\"), # the model output file to read\n",
    "                             # new_d=template_ws, # the PEST template folder,\n",
    "                            insfile=os.path.join('output',\"kenwood_sfr_reformat.csv.ins\"), #optional, the instruction file name\n",
    "                            index_cols='Time', #column header to use as index; can also use column number (zero-based) instead of the header name\n",
    "                            use_cols='Flow', #names of columns that include observation values; can also use column number (zero-based) instead of the header name\n",
    "                             ofile_sep = ',',\n",
    "                             # ofile_skip = [0],\n",
    "                          obsgp = 'kenwood_raw',\n",
    "                            prefix=\"sfr_ken_raw\") #prefix to all observation names; choose something logical and easy to find. We use it later on to select obsevrations\n",
    "\n",
    "aguaraw = pf.add_observations(os.path.join('output',\"agua_caliente_sfr_reformat.csv\"), # the model output file to read\n",
    "                             # new_d=template_ws, # the PEST template folder,\n",
    "                            insfile=os.path.join('output',\"agua_caliente_sfr_reformat.csv.ins\"), #optional, the instruction file name\n",
    "                            index_cols='Time', #column header to use as index; can also use column number (zero-based) instead of the header name\n",
    "                            use_cols='Flow', #names of columns that include observation values; can also use column number (zero-based) instead of the header name\n",
    "                             ofile_sep = ',',\n",
    "                            # ofile_skip = [0],\n",
    "                           obsgp = 'aguacal_raw',\n",
    "                            prefix=\"sfr_agua_cal_raw\") #prefix to all observation names; choose something logical and easy to find. We use it later on to select obsevrations"
   ]
  },
  {
   "cell_type": "code",
   "execution_count": null,
   "id": "d31608d3-d517-4e1a-af39-ca36df2f0018",
   "metadata": {},
   "outputs": [],
   "source": [
    "# # template_ws = os.path.join(\"freyberg6_template\")\n",
    "\n",
    "# ken = pf.add_observations(os.path.join('output',\"kenwood_sfr_reformat_log.csv\"), # the model output file to read\n",
    "#                              # new_d=template_ws, # the PEST template folder,\n",
    "#                             insfile=os.path.join('output',\"kenwood_sfr_reformat_log.csv.ins\"), #optional, the instruction file name\n",
    "#                             index_cols=[1], #column header to use as index; can also use column number (zero-based) instead of the header name\n",
    "#                             use_cols=[3], #names of columns that include observation values; can also use column number (zero-based) instead of the header name\n",
    "#                              ofile_sep = ',',\n",
    "#                              ofile_skip = [0],\n",
    "#                           obsgp = 'kenwood',\n",
    "#                             prefix=\"sfr_ken\") #prefix to all observation names; choose something logical and easy to find. We use it later on to select obsevrations\n",
    "\n",
    "# agua = pf.add_observations(os.path.join('output',\"agua_caliente_sfr_reformat_log.csv\"), # the model output file to read\n",
    "#                              # new_d=template_ws, # the PEST template folder,\n",
    "#                             insfile=os.path.join('output',\"agua_caliente_sfr_reformat_log.csv.ins\"), #optional, the instruction file name\n",
    "#                             index_cols=[1], #column header to use as index; can also use column number (zero-based) instead of the header name\n",
    "#                             use_cols=[3], #names of columns that include observation values; can also use column number (zero-based) instead of the header name\n",
    "#                              ofile_sep = ',',\n",
    "#                             ofile_skip = [0],\n",
    "#                            obsgp = 'aguacal',\n",
    "#                             prefix=\"sfr_agua_cal\") #prefix to all observation names; choose something logical and easy to find. We use it later on to select obsevrations"
   ]
  },
  {
   "cell_type": "code",
   "execution_count": null,
   "id": "2de55b13-2aef-4cee-90ba-0169367816d7",
   "metadata": {},
   "outputs": [],
   "source": [
    "with open(os.path.join(template_ws,'GWLE_OBS',\"gwle_asbolute_mod_heads.csv\"), 'r') as show:\n",
    "    for i in range(10):\n",
    "        print(show.readline())"
   ]
  },
  {
   "cell_type": "code",
   "execution_count": null,
   "id": "4f6828fb-82a4-4048-b5b2-f6bbf7749db4",
   "metadata": {},
   "outputs": [],
   "source": []
  },
  {
   "cell_type": "code",
   "execution_count": null,
   "id": "e1e68126-fae5-4591-bb3a-5bd02ce1a4cf",
   "metadata": {},
   "outputs": [],
   "source": [
    "gwle_abs = pf.add_observations(os.path.join('GWLE_OBS',\"gwle_asbolute_mod_heads.csv\"), # the model output file to read\n",
    "                             # new_d=template_ws, # the PEST template folder,\n",
    "                            insfile=os.path.join('GWLE_OBS',\"gwle_asbolute_mod_heads.csv.ins\"), #optional, the instruction file name\n",
    "                            index_cols=['Station','date'], #column header to use as index; can also use column number (zero-based) instead of the header name\n",
    "                            use_cols='meas', #names of columns that include observation values; can also use column number (zero-based) instead of the header name\n",
    "                             ofile_sep = ',',\n",
    "                            # ofile_skip = [0],\n",
    "                           obsgp = 'gwle_abs',\n",
    "                            prefix=\"gwle_abs\") #prefix to all observation names; choose something logical and easy to find. We use it later on to select obsevrations"
   ]
  },
  {
   "cell_type": "code",
   "execution_count": null,
   "id": "c9fee352-0eba-4341-8648-e08953cd9091",
   "metadata": {},
   "outputs": [],
   "source": [
    "gwle_dd = pf.add_observations(os.path.join('GWLE_OBS',\"gwle_drawdown_mod_heads.csv\"), # the model output file to read\n",
    "                             # new_d=template_ws, # the PEST template folder,\n",
    "                            insfile=os.path.join('GWLE_OBS',\"gwle_drawdown_mod_heads.csv.ins\"), #optional, the instruction file name\n",
    "                            index_cols=['Station','date'], #column header to use as index; can also use column number (zero-based) instead of the header name\n",
    "                            use_cols='meas', #names of columns that include observation values; can also use column number (zero-based) instead of the header name\n",
    "                             ofile_sep = ',',\n",
    "                            # ofile_skip = [0],\n",
    "                           obsgp = 'gwle_ddown',\n",
    "                            prefix=\"gwle_ddown\") #prefix to all observation names; choose something logical and easy to find. We use it later on to select obsevrations"
   ]
  },
  {
   "cell_type": "code",
   "execution_count": null,
   "id": "f45a1cbe-00e2-4d1f-81b3-a471dc4cb003",
   "metadata": {},
   "outputs": [],
   "source": [
    "# # template_ws = os.path.join(\"freyberg6_template\")\n",
    "\n",
    "# ken = pf.add_observations(os.path.join('output',\"kenwood_sfr.dat\"), # the model output file to read\n",
    "#                              # new_d=template_ws, # the PEST template folder,\n",
    "#                             insfile=os.path.join('output',\"kenwood_sfr.dat.ins\"), #optional, the instruction file name\n",
    "#                             index_cols=[0], #column header to use as index; can also use column number (zero-based) instead of the header name\n",
    "#                             use_cols=[2], #names of columns that include observation values; can also use column number (zero-based) instead of the header name\n",
    "#                              ofile_sep = '\\s+',\n",
    "#                              ofile_skip = [1],\n",
    "#                           obsgp = 'kenwood',\n",
    "#                             prefix=\"sfr_ken\") #prefix to all observation names; choose something logical and easy to find. We use it later on to select obsevrations\n",
    "\n",
    "# agua = pf.add_observations(os.path.join('output',\"agua_caliente_sfr.dat\"), # the model output file to read\n",
    "#                              # new_d=template_ws, # the PEST template folder,\n",
    "#                             insfile=os.path.join('output',\"agua_caliente_sfr.dat.ins\"), #optional, the instruction file name\n",
    "#                             index_cols=[0], #column header to use as index; can also use column number (zero-based) instead of the header name\n",
    "#                             use_cols=[2], #names of columns that include observation values; can also use column number (zero-based) instead of the header name\n",
    "#                              ofile_sep = '\\s+',\n",
    "#                              ofile_skip = [1],\n",
    "#                            obsgp = 'aguacal',\n",
    "#                             prefix=\"sfr_agua_cal\") #prefix to all observation names; choose something logical and easy to find. We use it later on to select obsevrations"
   ]
  },
  {
   "cell_type": "code",
   "execution_count": null,
   "id": "6100b9d0-6b46-49a2-9ccb-4c64467e2ebd",
   "metadata": {},
   "outputs": [],
   "source": []
  },
  {
   "cell_type": "markdown",
   "id": "06214fd0-e76c-4275-9c9a-73384f1745f8",
   "metadata": {
    "editable": true,
    "slideshow": {
     "slide_type": ""
    },
    "tags": []
   },
   "source": [
    "# templates"
   ]
  },
  {
   "cell_type": "code",
   "execution_count": null,
   "id": "f29570cb-f3fd-4be7-a3f3-a75c09cb30ae",
   "metadata": {},
   "outputs": [],
   "source": []
  },
  {
   "cell_type": "markdown",
   "id": "a96ce6c8-ae59-4e3c-9a06-9e5caee18851",
   "metadata": {},
   "source": [
    "# Building the pest control file...Finally!\n",
    "\n",
    "Here we will use the template and instruction files to construct a control file.  Then we will use some ``pandas`` magic to set the appropriate parameter and observation info"
   ]
  },
  {
   "cell_type": "code",
   "execution_count": null,
   "id": "4af3ead0-f767-4458-a183-da3cc94d25ac",
   "metadata": {
    "editable": true,
    "slideshow": {
     "slide_type": ""
    },
    "tags": []
   },
   "outputs": [],
   "source": [
    "tpl = r'''templates\\sv_GSP.sfr.tpl,sv_GSP.sfr\n",
    "templates\\hfb_glen_lower_city.tpl,sv_faults.hfb\n",
    "templates\\kc_sonoma_rich_constant.tpl,\\fmp_input\\model_arrays\\kc.txt\n",
    "templates\\fieswp.tpl,fmp_update\\fieswp.in'''\n",
    "\n",
    "from io import StringIO\n",
    "TESTDATA = StringIO(tpl)\n",
    "\n",
    "tpl_df = pd.read_csv(TESTDATA, sep=\",\", names = ['tpl', 'file'])\n",
    "tpl_df"
   ]
  },
  {
   "cell_type": "code",
   "execution_count": null,
   "id": "995c0839-1ed4-45ba-ac70-46abc8d09489",
   "metadata": {},
   "outputs": [],
   "source": [
    "tpl_pp_files = [os.path.join('pp2024',f) for f in os.listdir(os.path.join(template_ws, 'pp2024')) if f.endswith(\".tpl\")]\n",
    "input_pp_files = [f.replace(\".tpl\",'') for f in tpl_pp_files]\n",
    "assert len(tpl_pp_files)>10, 'run pilot_points.ipynb should be a bunch of files'"
   ]
  },
  {
   "cell_type": "markdown",
   "id": "ba07cfde-b441-4ee4-b2fb-a4d9dc214324",
   "metadata": {},
   "source": [
    "See why it is important to use a consistent naming structure for the templates-input file pairs?  Its the same for the instruction files"
   ]
  },
  {
   "cell_type": "code",
   "execution_count": null,
   "id": "2433e88e-7f90-4484-9ab4-dbb726b9406d",
   "metadata": {},
   "outputs": [],
   "source": []
  },
  {
   "cell_type": "code",
   "execution_count": null,
   "id": "2735b3c6-311b-471a-afc4-7f46d854b1f2",
   "metadata": {},
   "outputs": [],
   "source": [
    "tpl = r'''output\\Budget_pest.txt.ins,output\\Budget_pest.txt\n",
    "output\\Budget_pest_summary.txt.ins,output\\Budget_pest_summary.txt\n",
    "output\\SV_HOBS_all._os.ins,output\\SV_HOBS_all._os\n",
    "output\\agua_caliente_sfr_reformat.csv.ins,output\\agua_caliente_sfr_reformat.csv\n",
    "output\\kenwood_sfr_reformat.csv.ins,output\\kenwood_sfr_reformat.csv\n",
    "output\\agua_caliente_sfr_reformat_log.csv.ins,output\\agua_caliente_sfr_reformat_log.csv\n",
    "output\\kenwood_sfr_reformat_log.csv.ins,output\\kenwood_sfr_reformat_log.csv\n",
    "GWLE_OBS\\gwle_asbolute_mod_heads.csv.ins,GWLE_OBS\\gwle_asbolute_mod_heads.csv\n",
    "GWLE_OBS\\gwle_drawdown_mod_heads.csv.ins,GWLE_OBS\\gwle_drawdown_mod_heads.csv'''\n",
    "\n",
    "from io import StringIO\n",
    "\n",
    "\n",
    "\n",
    "TESTDATA = StringIO(tpl)\n",
    "\n",
    "ins_df = pd.read_csv(TESTDATA, sep=\",\", names = ['tpl', 'file'])\n",
    "ins_df"
   ]
  },
  {
   "cell_type": "code",
   "execution_count": null,
   "id": "daabbc1b-f237-4254-a713-dd89e1d2336c",
   "metadata": {},
   "outputs": [],
   "source": [
    "# ins_files = [os.path.join(ml.model_ws,f) for f in os.listdir(ml.model_ws) if f.endswith(\".ins\")]\n",
    "# output_files = [f.replace(\".ins\",'') for f in ins_files]\n",
    "# ins_files"
   ]
  },
  {
   "cell_type": "markdown",
   "id": "c0354767-e38d-45c5-867b-7ce97bdace1e",
   "metadata": {},
   "source": [
    "Now use these files to get a ``pyemu.Pst`` instance.  This object has lots of cool functionality..."
   ]
  },
  {
   "cell_type": "code",
   "execution_count": null,
   "id": "22a264f4-cabf-48b9-95fc-dc66f5b72442",
   "metadata": {},
   "outputs": [],
   "source": [
    "tpl_df.tpl.values"
   ]
  },
  {
   "cell_type": "code",
   "execution_count": null,
   "id": "32952a4f-a6d9-40bd-9380-bd6e7dceb4b5",
   "metadata": {},
   "outputs": [],
   "source": [
    "tpl = [os.path.join( x) for x in list(tpl_df.tpl.values)]\n",
    "tpl.extend(tpl_pp_files)\n",
    "tpl"
   ]
  },
  {
   "cell_type": "code",
   "execution_count": null,
   "id": "4177353a-ca51-4669-a333-4b3132024af3",
   "metadata": {},
   "outputs": [],
   "source": [
    "\n",
    "\n",
    "inputs = [os.path.join( x) for x in list(tpl_df.file.values)]\n",
    "inputs.extend(input_pp_files)\n",
    "inputs"
   ]
  },
  {
   "cell_type": "code",
   "execution_count": null,
   "id": "3f1e7170-56c1-4202-bf79-606a677dcf85",
   "metadata": {},
   "outputs": [],
   "source": [
    "tpl"
   ]
  },
  {
   "cell_type": "code",
   "execution_count": null,
   "id": "3594908b-c188-4324-9b94-1c2f50d78a0a",
   "metadata": {},
   "outputs": [],
   "source": [
    "assert len(inputs)==len(tpl)"
   ]
  },
  {
   "cell_type": "code",
   "execution_count": null,
   "id": "c5c09fce-7570-46bf-aa9f-218b53ffa7a8",
   "metadata": {},
   "outputs": [],
   "source": [
    "os.path.join(template_ws,tpl_df.tpl.values[0])"
   ]
  },
  {
   "cell_type": "code",
   "execution_count": null,
   "id": "acd17b60-914d-4c14-812a-26c9e27a7ac7",
   "metadata": {},
   "outputs": [],
   "source": [
    "[os.path.join(template_ws, x) for x in tpl_df.tpl.values]"
   ]
  },
  {
   "cell_type": "code",
   "execution_count": null,
   "id": "aabd2a42-b175-4380-840a-201c057d48ed",
   "metadata": {},
   "outputs": [],
   "source": [
    "# tpl = [os.path.join(template_ws, x) for x in tpl_df.tpl.values]\n",
    "# # tpl = list(tpl_df.tpl.values)\n",
    "# tpl.extend(tpl_files)\n",
    "# tpl\n",
    "# tpl_files = [os.path.join(template_ws, x) for x in  tpl_df.file.values]\n"
   ]
  },
  {
   "cell_type": "code",
   "execution_count": null,
   "id": "706016ca-5ff8-4183-a6d6-db42bf77984b",
   "metadata": {},
   "outputs": [],
   "source": [
    "mainpath = r\"C:\\GSP\\sv\\model\\update_2024\\scripts\"\n",
    "os.path.exists(mainpath)"
   ]
  },
  {
   "cell_type": "code",
   "execution_count": null,
   "id": "82e75a4e-dab7-4484-a9c2-31e9f830def1",
   "metadata": {},
   "outputs": [],
   "source": [
    "os.chdir(mainpath)\n",
    "os.chdir(template_ws)\n",
    "pst = pyemu.Pst.from_io_files(tpl,\n",
    "                             inputs,\n",
    "                             [os.path.join( x) for x in  ins_df.tpl.values]  ,\n",
    "                             [os.path.join(  x) for x in  ins_df.file.values],\n",
    "                              pst_path= None,\n",
    "                             )\n",
    "os.chdir(mainpath)"
   ]
  },
  {
   "cell_type": "code",
   "execution_count": null,
   "id": "5ae122aa-d588-46e7-802e-8dc8020caa22",
   "metadata": {},
   "outputs": [],
   "source": []
  },
  {
   "cell_type": "code",
   "execution_count": null,
   "id": "8103ff5c-514a-4fc8-b0ec-57214de06bf0",
   "metadata": {},
   "outputs": [],
   "source": [
    "pst.input_files"
   ]
  },
  {
   "cell_type": "code",
   "execution_count": null,
   "id": "565fd812-8895-49d9-8d00-1405d966df5b",
   "metadata": {},
   "outputs": [],
   "source": [
    "pst.observation_data"
   ]
  },
  {
   "cell_type": "markdown",
   "id": "a1ea5808-daaa-4af4-8631-3774ad9a5f33",
   "metadata": {
    "editable": true,
    "slideshow": {
     "slide_type": ""
    },
    "tags": []
   },
   "source": [
    "Let's look at some of the important parts of the ``Pst`` class.  First, all attributes coorespond to the names in list in the pest manual.  For instance, the ``* parameter data`` section of the control file is a ``pandas.DataFrame`` attribute named ``parameter_data``:"
   ]
  },
  {
   "cell_type": "markdown",
   "id": "6309e13b-6326-43ff-8eda-f75e0400ef04",
   "metadata": {},
   "source": [
    "We see that the columns of the ``DataFrame`` follow the pest naming conventions.  Its the same for ``* observation data``:"
   ]
  },
  {
   "cell_type": "code",
   "execution_count": null,
   "id": "68d39967-0497-4d9c-9db8-b15ad1a7333b",
   "metadata": {},
   "outputs": [],
   "source": []
  },
  {
   "cell_type": "code",
   "execution_count": null,
   "id": "8fe02677-3470-4ce6-b6db-3c58dcfd82f0",
   "metadata": {},
   "outputs": [],
   "source": [
    "\n"
   ]
  },
  {
   "cell_type": "markdown",
   "id": "d39ec0fd-7e0f-49bf-81f1-22b5192bc07e",
   "metadata": {},
   "source": [
    "# update observation data"
   ]
  },
  {
   "cell_type": "markdown",
   "id": "e4bfa13b-cf17-4642-9732-c9068e25649e",
   "metadata": {},
   "source": [
    "# add agual caliente observed flow"
   ]
  },
  {
   "cell_type": "code",
   "execution_count": null,
   "id": "6354dcdb-8804-436d-8dc7-a98e57073ecd",
   "metadata": {},
   "outputs": [],
   "source": [
    "param='00060'\n",
    "station = '11458500'\n",
    "begin_year = 1950\n",
    "begin_month = 10"
   ]
  },
  {
   "cell_type": "code",
   "execution_count": null,
   "id": "f1b1f438-f57e-4b92-b6e3-baf9c26ab4a8",
   "metadata": {},
   "outputs": [],
   "source": [
    "url = 'https://waterdata.usgs.gov/nwis/dv?cb_{:}=on&format=rdb&site_no={:}&referred_module=sw&period=&begin_date={:}-{:}-01'.\\\n",
    "format(param, station, begin_year, begin_month)\n",
    "url"
   ]
  },
  {
   "cell_type": "code",
   "execution_count": null,
   "id": "339cd114-1b73-4305-a84e-90883e9049f4",
   "metadata": {},
   "outputs": [],
   "source": [
    "def download_daily(station,begin_year=1900, begin_month = 10, param = \"00060\"):\n",
    "    '''\n",
    "    download daily streamflow data from usgs\n",
    "    for info see: https://waterservices.usgs.gov/rest/DV-Test-Tool.html\n",
    "    Args:\n",
    "        station: str (eg '11458500')\n",
    "        begin_year:\n",
    "        param: discharge: \"00060_00003\"  stage: 00065_00003\"\n",
    "\n",
    "    Returns: flow, info\n",
    "\n",
    "    '''\n",
    "\n",
    "    # set_proxy()\n",
    "    # url = 'https://waterdata.usgs.gov/nwis/dv?cb_00060=on&format=rdb&site_no={:}&referred_module=sw&period=&begin_date={:}-{:}-01'.\\\n",
    "    # format(station, begin_year, begin_month)\n",
    "    url = 'https://waterdata.usgs.gov/nwis/dv?cb_{:}=on&format=rdb&site_no={:}&referred_module=sw&period=&begin_date={:}-{:}-01'.\\\n",
    "    format(param, station, begin_year, begin_month)\n",
    "    top = pd.read_csv(url,\n",
    "           comment = '#',sep = '\\t+',parse_dates =['datetime'],infer_datetime_format=True, )\n",
    "    col = [x for x in top.columns if x.endswith(param+\"_00003\") ]\n",
    "    print(col)\n",
    "    top = top.rename(columns = {col[0] : 'Q'})\n",
    "    \n",
    "    top.index = pd.to_datetime(top.datetime,errors= 'coerce')\n",
    "    top['Q'] = pd.to_numeric(top['Q'],errors = 'coerce')\n",
    "    top = top.loc[:,['Q']]\n",
    "    top = top.dropna()\n",
    "    \n",
    "    info = pd.read_html(f\"https://waterdata.usgs.gov/nwis/inventory?search_site_no={station}&search_site_no_match_type=exact&format=station_list&group_key=NONE&list_of_search_criteria=search_site_no\")\n",
    "    \n",
    "    return top, info[1]\n",
    "\n"
   ]
  },
  {
   "cell_type": "code",
   "execution_count": null,
   "id": "867e4d0b-1348-4a7f-868e-5d5c649c018d",
   "metadata": {},
   "outputs": [],
   "source": [
    "from importlib import reload\n",
    "reload(conda_scripts)"
   ]
  },
  {
   "cell_type": "code",
   "execution_count": null,
   "id": "06b59b2b-93a8-4b27-9b7c-35381f3b2ad4",
   "metadata": {},
   "outputs": [],
   "source": [
    "\n",
    "flow_agua, info = conda_scripts.arich_functions.download_daily('11458500')\n",
    "\n",
    "c = flow_agua.Q==0\n",
    "flow_agua.loc[c,'Q'] = 0.001\n",
    "flow_agua = flow_agua.resample(\"ME\").mean()*60*60*24"
   ]
  },
  {
   "cell_type": "code",
   "execution_count": null,
   "id": "70685ca8-2bd4-4dfd-8fa1-d9c0839a96f0",
   "metadata": {},
   "outputs": [],
   "source": [
    "10**agua_obs.Q.mean()"
   ]
  },
  {
   "cell_type": "code",
   "execution_count": null,
   "id": "fc3fdfb7-5bfa-4be0-ac83-86df5ed96329",
   "metadata": {},
   "outputs": [],
   "source": [
    "ken_df.Q.mean()"
   ]
  },
  {
   "cell_type": "code",
   "execution_count": null,
   "id": "fa8fb535-7321-43a7-9d30-447946c5deb3",
   "metadata": {},
   "outputs": [],
   "source": [
    "print((666710.1678579473- 10**(np.log10(666710.1678579473)+0.045))/666710.1678579473)\n",
    "print((666710.1678579473- 10**(np.log10(666710.1678579473)-0.045))/666710.1678579473)"
   ]
  },
  {
   "cell_type": "markdown",
   "id": "3b3f9d69-ef9d-40d8-9e7e-70ba3bcb4ff2",
   "metadata": {},
   "source": [
    "# set observed values for log-transformed\n",
    "\n",
    "_standard deviaton values cannot be set using true std value. because they're way too big when using:_  \n",
    "Q = mean flow in ft*3/day  \n",
    "log10(Q*0.1) = log10(666710*0.1) = 4.82  \n",
    "\n",
    "print((ken_df.Q.mean()- 10**(np.log10(ken_df.Q.mean())+0.045))/ken_df.Q.mean())  \n",
    "print((ken_df.Q.mean()- 10**(np.log10(ken_df.Q.mean())-0.045))/ken_df.Q.mean())  \n",
    "\n",
    "__therefore using a static value of 0.045 which makes the raw value to be about +/-10%__"
   ]
  },
  {
   "cell_type": "code",
   "execution_count": null,
   "id": "2e37839a-ea9e-4f73-aa2d-6173e8404870",
   "metadata": {},
   "outputs": [],
   "source": [
    "print(f\"{100*(666710.1678579473- 10**(np.log10(666710.1678579473)+0.045))/666710.1678579473:.1f}% to {100*(666710.1678579473- 10**(np.log10(666710.1678579473)-0.045))/666710.1678579473:.1f}%\")"
   ]
  },
  {
   "cell_type": "code",
   "execution_count": null,
   "id": "a6da04dc-85ea-45be-9a42-efa334fcdacd",
   "metadata": {},
   "outputs": [],
   "source": [
    "np.log10(10)"
   ]
  },
  {
   "cell_type": "code",
   "execution_count": null,
   "id": "b2358e95-e579-4d3b-879b-d86b0ec9fe64",
   "metadata": {},
   "outputs": [],
   "source": [
    "agua_obs = pst.observation_data.query(\"obsnme.str.contains('agua') & not obsnme.str.contains('raw')\").copy()\n",
    "agua_obs.loc[:,'date'] = (pd.to_timedelta(agua_obs.time.astype(float), unit = \"D\")+pd.to_datetime('11/30/1969'))\n",
    "agua_obs = agua_obs.astype({'date':'datetime64[ns]'})\n",
    "\n",
    "flow_agua_log = flow_agua.resample(\"ME\").mean().copy()\n",
    "\n",
    "flow_agua_log.loc[:,'Q'] = flow_agua_log.loc[:,'Q'].apply(np.log10)\n",
    "\n",
    "\n",
    "agua_obs = pd.merge(agua_obs, flow_agua_log, left_on = 'date', right_index = True, how = 'left')\n",
    "\n",
    "#transform the observed to log\n",
    "# ax = agua_obs.plot.scatter(x = 'date', y = 'obsval')\n",
    "# agua_obs.plot.scatter(x = 'date', y = 'Q', ax = ax, c = 'r')\n",
    "# # display(agua_obs.sort_values('date'))\n",
    "\n",
    "#set obsval to Q where not null\n",
    "\n",
    "agua_obs.loc[agua_obs.Q.notnull(),'standard_deviation'] = .045\n",
    "agua_obs.loc[agua_obs.Q.notnull(),'obsval'] = agua_obs.loc[agua_obs.Q.notnull(),'Q']\n",
    "agua_obs.loc[agua_obs.Q.isnull(),'obsval'] = -999\n",
    "agua_obs.loc[agua_obs.Q.notnull(),'weight'] = 4000\n",
    "agua_obs.loc[agua_obs.Q.isnull(),'weight'] = 0\n",
    "agua_obs.loc[:,'obgnme'] = 'aguacal_log'\n",
    "\n",
    "pst.observation_data.loc[agua_obs.index,['obsval','weight','obgnme', 'standard_deviation']] = agua_obs.loc[:,['obsval','weight','obgnme', 'standard_deviation']]\n",
    "\n",
    "display(agua_obs.sort_values('date').head())\n",
    "display(pst.observation_data.query(\"obgnme=='aguacal_log'\").head())\n",
    "\n",
    "r = agua_obs.copy()\n",
    "r.loc[:,'weight'] = 400\n",
    "r.loc[:,'phi'] = ((r.loc[:,'Q'] - r.loc[:,'obsval'])**2)*r.weight\n",
    "\n",
    "ax = agua_obs.query(\"obsval>-10\").plot.scatter(x = 'date', y = 'Q', title = 'agua caliente', label = 'Measured')"
   ]
  },
  {
   "cell_type": "code",
   "execution_count": null,
   "id": "38d795e0-2d60-4fe9-aa40-0dd807d34be2",
   "metadata": {},
   "outputs": [],
   "source": [
    "\n",
    "\n",
    "\n"
   ]
  },
  {
   "cell_type": "code",
   "execution_count": null,
   "id": "e576b71c-4548-4374-801a-fdb8896c6adb",
   "metadata": {},
   "outputs": [],
   "source": [
    "agua_obs = pst.observation_data.query(\"obsnme.str.contains('agua') & obsnme.str.contains('raw')\").copy()\n",
    "agua_obs.loc[:,'date'] = (pd.to_timedelta(agua_obs.time.astype(float), unit = \"D\")+pd.to_datetime('11/30/1969'))\n",
    "agua_obs = agua_obs.astype({'date':'datetime64[ns]'})\n",
    "\n",
    "flow_agua_res = flow_agua.resample(\"ME\").mean().copy()\n",
    "\n",
    "\n",
    "agua_obs = pd.merge(agua_obs, flow_agua_res, left_on = 'date', right_index = True, how = 'left')\n",
    "\n",
    "#transform the observed to log\n",
    "\n",
    "# ax = agua_obs.plot.scatter(x = 'date', y = 'obsval')\n",
    "# agua_obs.plot.scatter(x = 'date', y = 'Q', ax = ax, c = 'r')\n",
    "# display(agua_obs.sort_values('date'))\n",
    "\n",
    "#set obsval to Q where not null\n",
    "\n",
    "agua_obs.loc[agua_obs.Q.notnull(),'obsval'] = agua_obs.loc[agua_obs.Q.notnull(),'Q']\n",
    "agua_obs.loc[agua_obs.Q.isnull(),'obsval'] = -999\n",
    "agua_obs.loc[:,'weight'] = 0\n",
    "agua_obs.loc[:,'obgnme'] = 'aguacal_raw'\n",
    "\n",
    "pst.observation_data.loc[agua_obs.index,['obsval','weight','obgnme']] = agua_obs.loc[:,['obsval','weight','obgnme']]\n",
    "\n",
    "display(agua_obs.sort_values('date').head())\n",
    "display(pst.observation_data.query(\"obgnme=='aguacal_raw'\").head())"
   ]
  },
  {
   "cell_type": "code",
   "execution_count": null,
   "id": "7e06fa95-d526-446e-b1b9-7936317d2ee1",
   "metadata": {},
   "outputs": [],
   "source": []
  },
  {
   "cell_type": "code",
   "execution_count": null,
   "id": "334d493e-bc5d-457f-ab2f-01d5e7d07a1e",
   "metadata": {},
   "outputs": [],
   "source": []
  },
  {
   "cell_type": "code",
   "execution_count": null,
   "id": "8b82b5a0-bee5-43ce-8a08-3975b4eaee94",
   "metadata": {},
   "outputs": [],
   "source": [
    "\n",
    "flow_ken, info = conda_scripts.arich_functions.download_daily('11458433')\n",
    "\n",
    "c = flow_ken.Q==0\n",
    "flow_ken.loc[c,'Q'] = 0.001\n",
    "\n",
    "flow_ken = flow_ken.resample(\"ME\").mean()*60*60*24"
   ]
  },
  {
   "cell_type": "code",
   "execution_count": null,
   "id": "542776f1-58f7-4789-84fe-2f636da2b537",
   "metadata": {},
   "outputs": [],
   "source": []
  },
  {
   "cell_type": "code",
   "execution_count": null,
   "id": "58a7fda6-a07d-4e7e-99bb-dfbc731abe64",
   "metadata": {},
   "outputs": [],
   "source": [
    "ken_df = pst.observation_data.query(\"obsnme.str.contains('ken') & not obsnme.str.contains('raw')\").copy()\n",
    "ken_df.loc[:,'date'] = (pd.to_timedelta(ken_df.time.astype(float), unit = \"D\")+pd.to_datetime('11/30/1969'))\n",
    "ken_df = ken_df.astype({'date':'datetime64[ns]'})\n",
    "\n",
    "flow_ken_log = flow_ken.resample(\"ME\").mean().copy()\n",
    "\n",
    "flow_ken_log.loc[:,'Q'] = flow_ken_log.loc[:,'Q'].apply(np.log10)\n",
    "\n",
    "ken_df = pd.merge(ken_df, flow_ken_log, left_on = 'date', right_index = True,how = 'left')\n",
    "# ax = ken_df.plot.scatter(x = 'date', y = 'obsval', label = 'modeled')\n",
    "# ken_df.plot.scatter(x = 'date', y = 'Q', ax = ax, c = 'r', label = 'obs')\n",
    "# display(ken_df.sort_values('date'))\n",
    "\n",
    "#set obsval to Q where not null\n",
    "ken_df.loc[ken_df.Q.notnull(),'standard_deviation'] = 0.045\n",
    "ken_df.loc[ken_df.Q.notnull(),'obsval'] = ken_df.loc[ken_df.Q.notnull(),'Q']\n",
    "ken_df.loc[ken_df.Q.isnull(),'obsval'] = -999\n",
    "ken_df.loc[ken_df.Q.notnull(),'weight'] = 4000\n",
    "ken_df.loc[ken_df.Q.isnull(),'weight'] = 0\n",
    "ken_df.loc[:,'obgnme'] = 'kenwood_log'\n",
    "\n",
    "pst.observation_data.loc[ken_df.index,['obsval','weight','obgnme']] = ken_df.loc[:,['obsval','weight','obgnme']]\n",
    "\n",
    "display(ken_df.sort_values('date').head())\n",
    "display(pst.observation_data.query(\"obgnme=='kenwood_log'\").head())\n",
    "\n",
    "ax = ken_df.query(\"obsval>-10\").plot.scatter(x = 'date', y = 'Q', title = 'agua caliente', label = 'Measured')"
   ]
  },
  {
   "cell_type": "code",
   "execution_count": null,
   "id": "331f2a27-a6c3-47b2-84df-823c13c271b7",
   "metadata": {},
   "outputs": [],
   "source": [
    "ken_df = pst.observation_data.query(\"obsnme.str.contains('ken') & obsnme.str.contains('raw')\")\n",
    "ken_df.loc[:,'date'] = (pd.to_timedelta(ken_df.time.astype(float), unit = \"D\")+pd.to_datetime('11/30/1969'))\n",
    "ken_df = ken_df.astype({'date':'datetime64[ns]'})\n",
    "flow_ken_res = flow_ken.resample(\"ME\").mean().copy()\n",
    "\n",
    "\n",
    "ken_df = pd.merge(ken_df, flow_ken_res, left_on = 'date', right_index = True,how = 'left')\n",
    "ax = ken_df.plot.scatter(x = 'date', y = 'obsval', label = 'modeled')\n",
    "ken_df.plot.scatter(x = 'date', y = 'Q', ax = ax, c = 'r', label = 'obs')\n",
    "# display(ken_df.sort_values('date'))\n",
    "\n",
    "#set obsval to Q where not null\n",
    "\n",
    "ken_df.loc[ken_df.Q.notnull(),'obsval'] = ken_df.loc[ken_df.Q.notnull(),'Q']\n",
    "ken_df.loc[ken_df.Q.isnull(),'obsval'] = -999\n",
    "ken_df.loc[:,'weight'] = 0\n",
    "ken_df.loc[:,'obgnme'] = 'ken_raw'\n",
    "\n",
    "pst.observation_data.loc[ken_df.index,['obsval','weight','obgnme']] = ken_df.loc[:,['obsval','weight','obgnme']]\n",
    "\n",
    "display(ken_df.sort_values('date').head())\n",
    "display(pst.observation_data.query(\"obgnme=='ken_raw'\").head())"
   ]
  },
  {
   "cell_type": "markdown",
   "id": "44c15622-dd15-4074-9a2c-5b950803c6b3",
   "metadata": {},
   "source": [
    "# set group names and weights to hds and flux observations"
   ]
  },
  {
   "cell_type": "code",
   "execution_count": null,
   "id": "0cb3efd4-c7b9-4a48-8b1f-1597ab58c78e",
   "metadata": {},
   "outputs": [],
   "source": [
    "pst.observation_data.loc[pst.observation_data.query(\"oname.str.contains('hds')\").index,['obgnme','weight']] = ['hds',1.]\n",
    "pst.observation_data.loc[pst.observation_data.query(\"oname.str.contains('flux')\").index,['obgnme','weight']] = ['flux',0.]"
   ]
  },
  {
   "cell_type": "code",
   "execution_count": null,
   "id": "5001db1a-c8a6-4db4-8583-221d7996e1f4",
   "metadata": {},
   "outputs": [],
   "source": []
  },
  {
   "cell_type": "code",
   "execution_count": null,
   "id": "e1ae334a-6320-4b9e-9eec-a0b58165312c",
   "metadata": {},
   "outputs": [],
   "source": [
    "# set weight to zero for simulated values of -9999\n",
    "pst.observation_data.loc[pst.observation_data.query(\"oname.str.contains('hds') & obsval==-9999\").index,['obgnme','weight']] = ['hds',0]"
   ]
  },
  {
   "cell_type": "code",
   "execution_count": null,
   "id": "c9e7d380-db8a-4e0c-ab59-bf9ee144e63c",
   "metadata": {},
   "outputs": [],
   "source": [
    "info = pd.read_csv(os.path.join('..','waterlevel', 'GWLE','gwle_station_info.csv'),index_col=0)\n",
    "info.head()"
   ]
  },
  {
   "cell_type": "code",
   "execution_count": null,
   "id": "9afc4d04-9f88-426c-a5a9-5f611d8be777",
   "metadata": {},
   "outputs": [],
   "source": []
  },
  {
   "cell_type": "code",
   "execution_count": null,
   "id": "f9f3e4fe-90dc-4d44-a8d2-cfed920abc31",
   "metadata": {},
   "outputs": [],
   "source": [
    "diff_obs = pd.read_csv(os.path.join('..','waterlevel', 'GWLE', 'gwle_drawdown_observed_heads.csv'),index_col=0)\n",
    "abs_obs = pd.read_csv(os.path.join('..','waterlevel', 'GWLE', 'gwle_asbolute_observed_heads.csv'),index_col=0)\n",
    "\n",
    "diff_obs.head(1)"
   ]
  },
  {
   "cell_type": "code",
   "execution_count": null,
   "id": "0656e173-3ca7-4095-92ce-7a32f33d055d",
   "metadata": {},
   "outputs": [],
   "source": [
    "diff_obs = pd.merge(diff_obs, info, right_on = 'Station Name',  left_on= 'Station' )\n",
    "abs_obs = pd.merge(abs_obs, info, right_on = 'Station Name',  left_on= 'Station' )"
   ]
  },
  {
   "cell_type": "code",
   "execution_count": null,
   "id": "40a6c3b4-0984-4e58-afa8-b52f3b4ae306",
   "metadata": {},
   "outputs": [],
   "source": [
    "diff_obs.head()"
   ]
  },
  {
   "cell_type": "markdown",
   "id": "fa71d8da-8479-47bb-ba2a-05a22d83d65f",
   "metadata": {},
   "source": [
    "# assign groupnames"
   ]
  },
  {
   "cell_type": "code",
   "execution_count": null,
   "id": "2485001f-6455-4470-9f41-c1231ea356d6",
   "metadata": {},
   "outputs": [],
   "source": [
    "diff_obs = diff_obs.rename(columns = {'meas':'obsval'})\n",
    "abs_obs = abs_obs.rename(columns = {'meas':'obsval'})\n",
    "diff_obs.loc[:,'obgnme'] = diff_obs.apply(lambda x: \"gwle_ddown_{:}_{:}\".format(x['Depth'].lower(),x['zone']), axis = 1)\n",
    "abs_obs.loc[:,'obgnme'] = abs_obs.apply(lambda x: \"gwle_abs_{:}_{:}\".format(x['Depth'].lower(),x['zone']), axis = 1)\n"
   ]
  },
  {
   "cell_type": "markdown",
   "id": "882031c9-d551-452b-bbad-75e8f26425ae",
   "metadata": {},
   "source": [
    "# assign weights"
   ]
  },
  {
   "cell_type": "code",
   "execution_count": null,
   "id": "e73f9679-2075-4180-8604-0a0a0a809838",
   "metadata": {},
   "outputs": [],
   "source": [
    "v = 1/diff_obs.loc[:,'obgnme'].value_counts().to_frame('weight')\n",
    "\n",
    "v.loc[v.index.str.contains('EastSide')] = v.loc[v.index.str.contains('EastSide')]*5\n",
    "\n",
    "dd = 1/abs_obs.loc[:,'obgnme'].value_counts().to_frame('weight')\n",
    "\n",
    "dd.loc[dd.index.str.contains('EastSide')] = dd.loc[dd.index.str.contains('EastSide')]*5"
   ]
  },
  {
   "cell_type": "code",
   "execution_count": null,
   "id": "afdea943-9010-4445-a2bf-c0b1f02270dc",
   "metadata": {},
   "outputs": [],
   "source": [
    "diff_obs = pd.merge(diff_obs, v, left_on = 'obgnme', right_index = True)\n",
    "abs_obs = pd.merge(abs_obs, dd, left_on = 'obgnme', right_index = True)"
   ]
  },
  {
   "cell_type": "code",
   "execution_count": null,
   "id": "4278f0b2-5ede-4586-ade5-773d3437011a",
   "metadata": {},
   "outputs": [],
   "source": [
    "print(diff_obs.loc[:,'obgnme'].value_counts())\n",
    "print(abs_obs.loc[:,'obgnme'].value_counts())"
   ]
  },
  {
   "cell_type": "markdown",
   "id": "9ac31cd0-534f-45f5-a9e3-32261da1ab30",
   "metadata": {},
   "source": [
    "# set index names for setting values"
   ]
  },
  {
   "cell_type": "code",
   "execution_count": null,
   "id": "3c4f2e48-c1fa-41ae-bd54-fadfdfffbc75",
   "metadata": {},
   "outputs": [],
   "source": [
    "diff_obs.index = diff_obs.apply(lambda x: \"oname:gwle_ddown_otype:lst_usecol:meas_station:{:}_date:{:}\".format(x['Station'].lower(),x['date']), axis = 1)\n",
    "abs_obs.index = abs_obs.apply(lambda x: \"oname:gwle_abs_otype:lst_usecol:meas_station:{:}_date:{:}\".format(x['Station'].lower(),x['date']), axis = 1)"
   ]
  },
  {
   "cell_type": "markdown",
   "id": "eaa4e6b5-eeb4-4bdf-b172-2c87141cfd39",
   "metadata": {},
   "source": [
    "# set standard deviations"
   ]
  },
  {
   "cell_type": "markdown",
   "id": "0ed94031-f2dc-4b47-b2e7-01a276bdd0b8",
   "metadata": {},
   "source": [
    "__setting standard deviation based on the number of observations for given location__\n",
    "\n",
    "_assumes that the predictions for a station is predominantly a funcion of the # of observations for the location_"
   ]
  },
  {
   "cell_type": "code",
   "execution_count": null,
   "id": "781d8958-4291-4185-abc8-35a8cf3f8065",
   "metadata": {},
   "outputs": [],
   "source": [
    "import mapclassify\n",
    "import matplotlib.pyplot as plt\n",
    "import textwrap"
   ]
  },
  {
   "cell_type": "code",
   "execution_count": null,
   "id": "f2324436-e2ef-4167-b272-d033291692c3",
   "metadata": {},
   "outputs": [],
   "source": [
    "def std_set(x):\n",
    "    '''\n",
    "    x = number of observations\n",
    "    '''\n",
    "    std = mapclassify.JenksCaspall(x, 10)\n",
    "    y = std.find_bin(x)\n",
    "    # print(y)\n",
    "    # y = 25*np.exp(-y)+5\n",
    "    y = 1.75*(13-y)\n",
    "\n",
    "    return y"
   ]
  },
  {
   "cell_type": "code",
   "execution_count": null,
   "id": "02fccb5b-b6ed-4cad-9c4d-dc74fa4eb25d",
   "metadata": {},
   "outputs": [],
   "source": []
  },
  {
   "cell_type": "code",
   "execution_count": null,
   "id": "18103cb4-b360-424d-9e94-b5b7861c6b53",
   "metadata": {},
   "outputs": [],
   "source": [
    "ax = diff_obs.drop_duplicates('Station').num_meas.hist(bins = 100)\n",
    "\n",
    "x = np.arange(0,400,20)\n",
    "\n",
    "y = std_set(x)\n",
    "\n",
    "ax.set_ylabel(\"frequency\")\n",
    "ax.set_xlabel(\"# of observations\")\n",
    "# Add the text to the top right corner\n",
    "ax.text(1.0, 1.0, '\\n'.join(textwrap.wrap('Standard Deviation is a function of the number of measurements used in GWLE',15)), \n",
    "        transform=ax.transAxes, fontsize=12, verticalalignment='top', horizontalalignment='right', bbox=dict(facecolor='grey', alpha=0.9))\n",
    "ax.set_title('Calculating Standar Deviation Values for GWLE values in PEST')\n",
    "\n",
    "ax2 = ax.twinx()\n",
    "ax2.scatter(x,y, c = 'r')\n",
    "ax2.set_ylabel('Standard Deviation')\n",
    "\n",
    "plt.savefig('Calculating Standar Deviation Values for GWLE values in PEST'.replace(' ','')+'.png', dpi = 250)"
   ]
  },
  {
   "cell_type": "code",
   "execution_count": null,
   "id": "80221896-cfc8-445a-b29a-a2a018935f6d",
   "metadata": {},
   "outputs": [],
   "source": [
    "diff_obs.loc[:,'standard_deviation'] = std_set(diff_obs.loc[:,'num_meas'])\n",
    "abs_obs.loc[:,'standard_deviation'] = std_set(abs_obs.loc[:,'num_meas'])"
   ]
  },
  {
   "cell_type": "code",
   "execution_count": null,
   "id": "461f89ac-356a-46df-b97b-16ae419d431d",
   "metadata": {},
   "outputs": [],
   "source": [
    "print(diff_obs.drop_duplicates('Station').standard_deviation.describe())\n",
    "print(diff_obs.drop_duplicates('Station').standard_deviation.value_counts().sort_index())\n",
    "\n",
    "ax = diff_obs.drop_duplicates('Station').standard_deviation.hist(bins = 100)\n",
    "ax.set_ylabel(\"# of observations\")\n",
    "ax.set_xlabel(\"standard deviation for observation data\")\n",
    "ax.set_title(\"\")"
   ]
  },
  {
   "cell_type": "code",
   "execution_count": null,
   "id": "52176f71-d3a5-43e2-9c3f-4860134a89a1",
   "metadata": {},
   "outputs": [],
   "source": [
    "pst.observation_data.loc[abs_obs.index,[\"obsval\",\"weight\",\"obgnme\", 'standard_deviation']] = abs_obs.loc[:,[\"obsval\",\"weight\",\"obgnme\", 'standard_deviation']]\n",
    "pst.observation_data.loc[diff_obs.index,[\"obsval\",\"weight\",\"obgnme\", 'standard_deviation']] = diff_obs.loc[:,[\"obsval\",\"weight\",\"obgnme\", 'standard_deviation']]"
   ]
  },
  {
   "cell_type": "code",
   "execution_count": null,
   "id": "40049d06-6e75-42b5-9231-c09cc8c7a49d",
   "metadata": {},
   "outputs": [],
   "source": [
    "assert (pst.observation_data.loc[abs_obs.index,[\"obsval\",\"weight\",\"obgnme\", 'standard_deviation']].loc[:,'weight']==0).sum()==0, 'there are zero weighted values in the GWLE data'\n",
    "assert (pst.observation_data.loc[diff_obs.index,[\"obsval\",\"weight\",\"obgnme\", 'standard_deviation']].loc[:,'weight']==0).sum()==0, 'there are zero weighted values in the GWLE data'"
   ]
  },
  {
   "cell_type": "code",
   "execution_count": null,
   "id": "3ccd2db4-dd2f-4823-92e8-bc42c5e00c15",
   "metadata": {},
   "outputs": [],
   "source": []
  },
  {
   "cell_type": "code",
   "execution_count": null,
   "id": "ca0e36b1-0677-4fc3-a8ad-abb6a2b9de6a",
   "metadata": {},
   "outputs": [],
   "source": [
    "pst.observation_data.loc[abs_obs.index,[\"obsval\",\"weight\", 'standard_deviation']].describe()"
   ]
  },
  {
   "cell_type": "code",
   "execution_count": null,
   "id": "b00f4afa-a5c5-4a5b-a0ca-b90028cb9faa",
   "metadata": {},
   "outputs": [],
   "source": [
    "pst.observation_data.loc[diff_obs.index,[\"obsval\",\"weight\",\"obgnme\", 'standard_deviation']].groupby('obgnme').boxplot(subplots =True, figsize = (10,10),sharex = True)"
   ]
  },
  {
   "cell_type": "code",
   "execution_count": null,
   "id": "c6919b74-ade0-4c94-afb0-8c6c5e769d31",
   "metadata": {},
   "outputs": [],
   "source": [
    "pst.observation_data.loc[pst.observation_data.query(\"obgnme.str.contains('obgnme')\").index,]"
   ]
  },
  {
   "cell_type": "code",
   "execution_count": null,
   "id": "f806aff4-536c-4e22-afcf-eb078a8ae421",
   "metadata": {},
   "outputs": [],
   "source": [
    "pst.sanity_checks()"
   ]
  },
  {
   "cell_type": "code",
   "execution_count": null,
   "id": "d6a25e75-0ec3-4f05-af3e-5965c9235df5",
   "metadata": {},
   "outputs": [],
   "source": [
    "pst.observation_data.obgnme.unique()"
   ]
  },
  {
   "cell_type": "markdown",
   "id": "60ac6451-2e8c-474f-9848-5000599fbf71",
   "metadata": {},
   "source": [
    "What ``pyemu`` has set as the ``obsval`` is the simulated equivalent, if it is available - in the ``pst_from_io_files()`` helper, ``pyemu`` tries to call ``inschek``, and, if successful, loads the output files from ``inschek``.  This can be very handy for error checking in the forward-run process. However, we still need to get the actual observed data into ``obsval``...remember that dataframe from hob processing?"
   ]
  },
  {
   "cell_type": "markdown",
   "id": "072b0cbd-6698-4a51-b5c8-46d834cbfab8",
   "metadata": {},
   "source": [
    "## set observation weights to zero for forecasts"
   ]
  },
  {
   "cell_type": "code",
   "execution_count": null,
   "id": "5bd0b284-401f-4bfc-8ce2-f0a472bfe599",
   "metadata": {},
   "outputs": [],
   "source": []
  },
  {
   "cell_type": "code",
   "execution_count": null,
   "id": "89da4ce1-03e3-470f-9334-ef4acc6ee558",
   "metadata": {},
   "outputs": [],
   "source": [
    "pst.observation_data.loc[flx_df.index, ['weight', 'obgnme']] = [0,'flux']\n",
    "pst.observation_data.loc[flx_sum.index, ['weight', 'obgnme']] = [0,'flux']"
   ]
  },
  {
   "cell_type": "code",
   "execution_count": null,
   "id": "6ba198e3-6d1e-49b1-bb73-1ed0381fae1d",
   "metadata": {},
   "outputs": [],
   "source": [
    "pst.observation_data.loc[flx_df.index, :]"
   ]
  },
  {
   "cell_type": "markdown",
   "id": "bd51d7c4-f0e9-4bb8-8794-a83d559d4a6d",
   "metadata": {},
   "source": [
    "# set heads group names"
   ]
  },
  {
   "cell_type": "code",
   "execution_count": null,
   "id": "9c606e33-524d-421b-9234-eb2308b958dd",
   "metadata": {},
   "outputs": [],
   "source": [
    "# pst.observation_data.loc[hds_df.index, ['weight', 'obgnme']] = [1,'hds']"
   ]
  },
  {
   "cell_type": "markdown",
   "id": "e7c49dbf-18a9-4e88-8ff0-6d72b057b86f",
   "metadata": {},
   "source": [
    "# check parameter group names"
   ]
  },
  {
   "cell_type": "code",
   "execution_count": null,
   "id": "ed755a1c-dd88-488b-8d9d-4018bac8c055",
   "metadata": {},
   "outputs": [],
   "source": [
    "pst.observation_data.obgnme.unique()"
   ]
  },
  {
   "cell_type": "code",
   "execution_count": null,
   "id": "6f2f67b5-d3fa-4750-a16e-117d88440903",
   "metadata": {},
   "outputs": [],
   "source": [
    "pst.observation_data.loc[pst.observation_data.obgnme=='obgnme']"
   ]
  },
  {
   "cell_type": "markdown",
   "id": "442f4703-038e-41d9-bb72-5798852e4a8e",
   "metadata": {},
   "source": [
    "# can probably skip this section"
   ]
  },
  {
   "cell_type": "code",
   "execution_count": null,
   "id": "c5c74046-0402-4f78-9af2-14af35286ae7",
   "metadata": {},
   "outputs": [],
   "source": [
    "# hds_df = hds_df.set_index(hds_df.obsnme.apply(lambda x: x.split(':')[-1]))\n",
    "hds_df = hds_df.set_index(hds_df.obsnme)"
   ]
  },
  {
   "cell_type": "markdown",
   "id": "18b448aa-a641-45cb-bce3-0153124c4859",
   "metadata": {},
   "source": [
    "Notice the ``obsval`` column?  Let's just set the index of this dataframe to ``obsnme``, then pandas does the hard work for us:\n",
    "\n"
   ]
  },
  {
   "cell_type": "code",
   "execution_count": null,
   "id": "a4484f5d-9013-4ef5-9281-99a700b1f3cc",
   "metadata": {},
   "outputs": [],
   "source": [
    "# # hob_df.index = hob_df.obsnme\n",
    "# hob_df = hds_df.set_index(hds_df.obsnme.apply(lambda x: x.split(':')[-1]))\n",
    "# hob_df.query(\"obsnme.str.contains('06e001m_10')\")"
   ]
  },
  {
   "cell_type": "code",
   "execution_count": null,
   "id": "67c94962-8906-484e-a218-4f0f059d9d75",
   "metadata": {},
   "outputs": [],
   "source": [
    "pst.observation_data.query(\"oname.str.contains('hds')\")"
   ]
  },
  {
   "cell_type": "code",
   "execution_count": null,
   "id": "7ccf35bf-cd71-444a-ad96-95fa02ae5f8c",
   "metadata": {},
   "outputs": [],
   "source": [
    "pst.observation_data.query(\"obsnme.str.contains('06e001m_10')\")"
   ]
  },
  {
   "cell_type": "code",
   "execution_count": null,
   "id": "32630a2d-6cbe-481e-b163-a0422c96e4e7",
   "metadata": {},
   "outputs": [],
   "source": []
  },
  {
   "cell_type": "code",
   "execution_count": null,
   "id": "91239213-ccde-4cdc-82c0-ab844bf91d1f",
   "metadata": {},
   "outputs": [],
   "source": [
    "pst.observation_data.loc[hds_df.index,\"obsval\"] =hds_df.obsval\n",
    "pst.observation_data.loc[hds_df.index,:].head()"
   ]
  },
  {
   "cell_type": "markdown",
   "id": "07b192eb-56f6-4d45-840b-2fa6207a0af1",
   "metadata": {},
   "source": [
    "BOOM!  that was easy...trying doing that without pandas....not fun!\n",
    "\n",
    "We still have a few more items to set to specific values. The biggest one is initial values for parameters - they are given default values of 1.0:"
   ]
  },
  {
   "cell_type": "markdown",
   "id": "bc5f5384-5a0d-4905-86b9-ae848f3fb966",
   "metadata": {},
   "source": [
    "# forecast names"
   ]
  },
  {
   "cell_type": "code",
   "execution_count": null,
   "id": "eefba1ab-83da-4123-b4e3-04a173a31746",
   "metadata": {},
   "outputs": [],
   "source": [
    "pst.pestpp_options['forecasts'] = ','.join(flx_sum.index)"
   ]
  },
  {
   "cell_type": "code",
   "execution_count": null,
   "id": "021d173c-cf15-4c67-9e9d-076d4038a8e7",
   "metadata": {},
   "outputs": [],
   "source": [
    "','.join(flx_sum.index)"
   ]
  },
  {
   "cell_type": "code",
   "execution_count": null,
   "id": "88db8a80-2816-4e81-b1fd-86ee7ca310d6",
   "metadata": {},
   "outputs": [],
   "source": [
    "pst.forecast_names"
   ]
  },
  {
   "cell_type": "code",
   "execution_count": null,
   "id": "fa669549-8021-48e8-a641-782a951698b4",
   "metadata": {},
   "outputs": [],
   "source": [
    "flx_sum"
   ]
  },
  {
   "cell_type": "markdown",
   "id": "52659ab0-4bfd-4793-8756-518c6bd8d597",
   "metadata": {
    "editable": true,
    "slideshow": {
     "slide_type": ""
    },
    "tags": []
   },
   "source": [
    "Luckily, ``pandas`` makes this very easy.  For example, let's set the ``DRN`` conductance parameters to have initial values of mean of the values in the model currently:\n"
   ]
  },
  {
   "cell_type": "code",
   "execution_count": null,
   "id": "c55ad68a-319a-4dd8-962f-b250d587391e",
   "metadata": {},
   "outputs": [],
   "source": [
    "# avg = ml.drn.stress_period_data[0][\"cond\"].mean()\n",
    "# par = pst.parameter_data #just a pointer to the full, long-named attribute\n",
    "# drn_pars = par.loc[par.parnme.apply(lambda x: x.startswith(\"drn\")),\"parnme\"].values\n",
    "# par.loc[drn_pars,\"parval1\"] = avg\n",
    "# #set the par group to mean something\n",
    "# par.loc[drn_pars,\"pargp\"] = \"drn_cond\"\n",
    "# par.loc[drn_pars,\"parubnd\"] = avg * 10.0\n",
    "# par.loc[drn_pars,\"parlbnd\"] = avg * 0.1"
   ]
  },
  {
   "cell_type": "code",
   "execution_count": null,
   "id": "87e65390-868d-4b56-b163-4378ac60ed3c",
   "metadata": {},
   "outputs": [],
   "source": [
    "# Let's set the ``pargp`` for the remaining parameters using that cool pilot point dataframe from eariler..."
   ]
  },
  {
   "cell_type": "code",
   "execution_count": null,
   "id": "c1e7772b-cc8d-463b-b7bd-44388308fa2d",
   "metadata": {},
   "outputs": [],
   "source": [
    "# par.loc[pp_df.parnme,\"pargp\"] = pp_df.pargp"
   ]
  },
  {
   "cell_type": "markdown",
   "id": "431699b1-51b8-46d2-821a-7027ce6be50b",
   "metadata": {},
   "source": [
    "We need to reset the model run command:"
   ]
  },
  {
   "cell_type": "markdown",
   "id": "faf7e10c-2107-448a-ae03-621ad2f3e30d",
   "metadata": {},
   "source": [
    "But this means we need to write ``forward_run.py`` and it needs to perform several actions:\n",
    "- apply kriging factors (using ``pyemu.gw_utils.fac2real()``)\n",
    "- apply the drain multipliers\n",
    "- call ``MODFLOW``\n",
    "- process the ``MODFLOW`` list file\n",
    "\n",
    "Lucky for you, I already made this file...."
   ]
  },
  {
   "cell_type": "code",
   "execution_count": null,
   "id": "506f52f9-f838-43f0-8599-c38110558db3",
   "metadata": {},
   "outputs": [],
   "source": [
    "import shutil"
   ]
  },
  {
   "cell_type": "code",
   "execution_count": null,
   "id": "c11425d7-e02e-42c4-98cc-1fab64c65f67",
   "metadata": {},
   "outputs": [],
   "source": [
    "shutil.copy2(os.path.join(\"forward_run.py\"),os.path.join(template_ws,\"forward_run.py\"))"
   ]
  },
  {
   "cell_type": "code",
   "execution_count": null,
   "id": "bd42933e-e1c6-4b69-b4f7-497fd39133b0",
   "metadata": {},
   "outputs": [],
   "source": [
    "shutil.copy2(os.path.join(\"run.sh\"),os.path.join(template_ws,\"run.sh\"))"
   ]
  },
  {
   "cell_type": "code",
   "execution_count": null,
   "id": "6efe9d28-5ddb-4393-a46a-6089ca6b2b0c",
   "metadata": {},
   "outputs": [],
   "source": [
    "with open('run.bat', 'w') as r:\n",
    "    r.write(\"call C:\\\\Users\\\\arich\\\\AppData\\\\Local\\\\mambaforge\\\\condabin\\\\conda_hook.bat\\n\")\n",
    "    r.write(\"call conda activate gis_py_10\\n\")\n",
    "    r.write(\"python forward_run.py\\n\")\n",
    "\n",
    "shutil.copy2(os.path.join(\"run.bat\"),os.path.join(template_ws,\"run.bat\"))"
   ]
  },
  {
   "cell_type": "markdown",
   "id": "726ffd9e-3bd2-43b0-86fe-936cfa824cc0",
   "metadata": {},
   "source": [
    "### adding prior information\n",
    "\n",
    "``pyemu`` supports both zero-order (preferred value) and first-order (preferred difference) Tikhonov regularization.  Let's set preferred value for the conductance parameters:"
   ]
  },
  {
   "cell_type": "code",
   "execution_count": null,
   "id": "2ce1fd1f-8712-4389-a629-fd316cc045fd",
   "metadata": {},
   "outputs": [],
   "source": [
    "# pyemu.utils.helpers.zero_order_tikhonov(pst,par_groups=[\"fieswp\"])\n",
    "# pyemu.utils.helpers.zero_order_tikhonov(pst,par_groups=[\"hfb\"],reset = False)\n",
    "\n",
    "# pst.prior_information.head()"
   ]
  },
  {
   "cell_type": "markdown",
   "id": "60c01af5-b362-4fbc-a717-1b74a4866dac",
   "metadata": {},
   "source": [
    "Now, let's set preferred difference equations for pilot point groups.  We will use the Pearson coef as the weight..."
   ]
  },
  {
   "cell_type": "markdown",
   "id": "f53b0b31-8d6b-4e67-afb9-fd9e0a15992f",
   "metadata": {},
   "source": [
    "# load pilot point info"
   ]
  },
  {
   "cell_type": "code",
   "execution_count": null,
   "id": "19573898-d75e-4f99-9cf4-d34e787b6df8",
   "metadata": {},
   "outputs": [],
   "source": [
    "pp_cells = 7"
   ]
  },
  {
   "cell_type": "code",
   "execution_count": null,
   "id": "f5c114db-b300-4ba0-8c69-3d1002eaa27f",
   "metadata": {},
   "outputs": [],
   "source": [
    "pp_df = pd.read_csv(os.path.join(template_ws, 'pilot_point_info.csv'),index_col = [0])\n",
    "pp_df = pp_df.set_index('parnme')\n",
    "pp_df.head()"
   ]
  },
  {
   "cell_type": "code",
   "execution_count": null,
   "id": "ba5dd33b-53e9-4526-8984-3ae0c4e1ca16",
   "metadata": {},
   "outputs": [],
   "source": [
    "a = pp_cells * ml.dis.delr.array[0] * 3.0\n",
    "v = pyemu.geostats.ExpVario(contribution=1.0,a=a)\n",
    "gs = pyemu.geostats.GeoStruct(variograms=v,transform=\"log\")\n",
    "gs.plot()\n",
    "cov = gs.covariance_matrix(pp_df.x,pp_df.y,pp_df.index)"
   ]
  },
  {
   "cell_type": "code",
   "execution_count": null,
   "id": "e552da5d-1d09-463f-92d1-eb2c0e5633ac",
   "metadata": {},
   "outputs": [],
   "source": [
    "pp_df"
   ]
  },
  {
   "cell_type": "code",
   "execution_count": null,
   "id": "2198d973-4f07-443e-8b88-f692076ee829",
   "metadata": {},
   "outputs": [],
   "source": [
    "cov = gs.covariance_matrix(pp_df.x,pp_df.y,pp_df.index)\n",
    "# cov.to_binary(os.path.join(template_ws,\"cov.jcb\"))"
   ]
  },
  {
   "cell_type": "code",
   "execution_count": null,
   "id": "8c8e0a95-7668-4c13-bbe2-6374b81b5470",
   "metadata": {},
   "outputs": [],
   "source": []
  },
  {
   "cell_type": "code",
   "execution_count": null,
   "id": "1580e29f-6eab-417e-8f9a-0f0018a66a11",
   "metadata": {},
   "outputs": [],
   "source": []
  },
  {
   "cell_type": "markdown",
   "id": "3271a8fd-46da-49f0-b342-f53dcc9702cd",
   "metadata": {},
   "source": [
    "## assign initial valus and bounds to pst paramter data"
   ]
  },
  {
   "cell_type": "code",
   "execution_count": null,
   "id": "17fb99b3-8315-48e9-9141-dd2d5fb4df16",
   "metadata": {},
   "outputs": [],
   "source": []
  },
  {
   "cell_type": "code",
   "execution_count": null,
   "id": "7c8f21c7-ff75-496f-b9cf-4e0fbe9e7875",
   "metadata": {},
   "outputs": [],
   "source": [
    "par = pst.parameter_data\n",
    "\n",
    "par.loc[pp_df.index,['parval1',  'pargp' ]] = pp_df.loc[:,['parval1', 'pargp' ]]"
   ]
  },
  {
   "cell_type": "code",
   "execution_count": null,
   "id": "4ea59164-950d-44f6-a8aa-9497e7aa8637",
   "metadata": {},
   "outputs": [],
   "source": []
  },
  {
   "cell_type": "markdown",
   "id": "7e0d3de1-4713-4789-9fb7-8baa230c10b0",
   "metadata": {},
   "source": [
    "# parameter values"
   ]
  },
  {
   "cell_type": "code",
   "execution_count": null,
   "id": "a3be7b5e-f065-4a6c-9248-b69870573ae0",
   "metadata": {},
   "outputs": [],
   "source": [
    "pst.parameter_data.head()"
   ]
  },
  {
   "cell_type": "code",
   "execution_count": null,
   "id": "473d82a2-3e10-4f2a-9056-5d4d3ddcacf6",
   "metadata": {},
   "outputs": [],
   "source": [
    "pst.parameter_data.loc[pst.parameter_data.loc[:,'parnme'].str.contains('swp'),'pargp'] = 'fieswp'\n",
    "pst.parameter_data.loc[pst.parameter_data.loc[:,'parnme'].str.contains('sfr'),'pargp'] = 'sfr'\n",
    "\n",
    "faults = [\n",
    "    'calbcr_falt', 'city_flt', 'e_side_cen', 'e_side_nor', 'e_side_so',\n",
    "    'feldck_flt', 'glen_n_lo', 'glen_n_up', 'glen_s_lo', 'glen_s_up',\n",
    "    'glenext_lo', 'glenext_up', 'ken_fault', 'scl_kcswfl', 'scl_kcswsp',\n",
    "    'scl_kcswsu', 'scl_kcswwn', 'sobrevis_flt', 'vom_fa1', 'vom_fa2',\n",
    "    'vom_n_fa', 'vom_s_fa'\n",
    "]\n",
    "\n",
    "pst.parameter_data.loc[pst.parameter_data.loc[:,'parnme'].isin(faults),'pargp'] = 'hfb'"
   ]
  },
  {
   "attachments": {
    "b3b30296-46ca-456e-aa83-64614e569906.png": {
     "image/png": "[encoded data removed]"
    }
   },
   "cell_type": "markdown",
   "id": "767a0049-d32b-4be0-9de2-405d7d9183c0",
   "metadata": {},
   "source": [
    "![image.png](attachment:b3b30296-46ca-456e-aa83-64614e569906.png)"
   ]
  },
  {
   "cell_type": "code",
   "execution_count": null,
   "id": "d046d43f-fc18-4aa5-bef4-5ffd10ecc248",
   "metadata": {},
   "outputs": [],
   "source": []
  },
  {
   "cell_type": "code",
   "execution_count": null,
   "id": "b7f8e08c-a602-4f15-aecf-90631cd7eb23",
   "metadata": {},
   "outputs": [],
   "source": [
    "bounds = dict(sfr = [0.0001, 1000, 1e-2], #lo, hi, initial values\n",
    "fieswp = [0.5, 0.999, 0.7],\n",
    "drn_k = [10, 10000, 1200],\n",
    "fmp_vk = [0.0001, .01, 0.001],\n",
    "hfb= [0.000001, 1000, 1000])\n",
    "bounds"
   ]
  },
  {
   "cell_type": "code",
   "execution_count": null,
   "id": "b56f04a6-3e0e-4585-ad9e-9009dbd168c0",
   "metadata": {},
   "outputs": [],
   "source": []
  },
  {
   "cell_type": "code",
   "execution_count": null,
   "id": "24e6377b-c5c8-4522-aa45-d98e3146ba6d",
   "metadata": {},
   "outputs": [],
   "source": [
    "for k in bounds.keys():\n",
    "    c = pst.parameter_data.loc[:,'pargp'] == k\n",
    "    print(c.sum(), k)\n",
    "    pst.parameter_data.loc[c,['parlbnd','parubnd', 'parval1']] = bounds[k]\n",
    "\n",
    "# for n, group in pst.parameter_data.groupby('pargp'):\n",
    "#     if n in bounds.keys():\n",
    "#         print(f\"changing {n}\")\n",
    "#         pst.parameter_data.loc[group.index,['parlbnd','parubnd', 'parval1']] = bounds[n]\n",
    "#     else:\n",
    "#         print(f\"not changing {n}\")"
   ]
  },
  {
   "cell_type": "code",
   "execution_count": null,
   "id": "dcf86f76-2cac-4ec0-9f32-f5e793d55bb6",
   "metadata": {},
   "outputs": [],
   "source": [
    "pst.parameter_data.pargp.unique()"
   ]
  },
  {
   "cell_type": "code",
   "execution_count": null,
   "id": "7e3431d3-cc12-46f7-9b94-2a40054fed77",
   "metadata": {},
   "outputs": [],
   "source": []
  },
  {
   "cell_type": "code",
   "execution_count": null,
   "id": "aa9c164a-cd54-4f9a-97ea-d027d6517044",
   "metadata": {},
   "outputs": [],
   "source": [
    "pst.parameter_data.parlbnd.min()"
   ]
  },
  {
   "cell_type": "code",
   "execution_count": null,
   "id": "e7ebf26f-16b5-444c-817f-6a5f816570c8",
   "metadata": {},
   "outputs": [],
   "source": [
    "pst.parameter_data.pargp.unique()"
   ]
  },
  {
   "cell_type": "code",
   "execution_count": null,
   "id": "338f0908-3c08-4bcf-ba85-2f6b21443363",
   "metadata": {},
   "outputs": [],
   "source": [
    "\n",
    "\n",
    "# a = pp_cells * ml.dis.delr.array[0] * 3.0\n",
    "# v = pyemu.geostats.ExpVario(contribution=1.0,a=a)\n",
    "# gs = pyemu.geostats.GeoStruct(variograms=v,transform=\"log\")\n",
    "# gs.plot()\n",
    "\n",
    "# pp_groups = pp_df.groupby(\"pargp\").groups\n",
    "# for pargp,par_names in pp_groups.items():\n",
    "#     this_pp_df = pp_df.loc[par_names,:]\n",
    "#     cov = gs.covariance_matrix(this_pp_df.x,this_pp_df.y,this_pp_df.index)\n",
    "#     pyemu.helpers.first_order_pearson_tikhonov(pst,cov,reset=False,abs_drop_tol=0.2)"
   ]
  },
  {
   "cell_type": "markdown",
   "id": "a7b38762-1617-44bf-82e5-ab5e0fff986c",
   "metadata": {},
   "source": [
    "## set param bounds to those already set from pilot points (changing bounds only)"
   ]
  },
  {
   "cell_type": "code",
   "execution_count": null,
   "id": "68130980-a7f7-42aa-b8da-c291193956f0",
   "metadata": {},
   "outputs": [],
   "source": [
    "print(f\"these are the unique pargroups { pst.parameter_data.pargp.unique()}\")"
   ]
  },
  {
   "cell_type": "code",
   "execution_count": null,
   "id": "2dd19d32-92e4-434d-b3bb-7aef8abd03cc",
   "metadata": {},
   "outputs": [],
   "source": [
    "bounds = dict(sy1 = [0.0001, 0.3], #lo, hi\n",
    "ss1 = [1e-6, 1e-3],\n",
    "ss2 = [1e-6, 1e-3],\n",
    "ss3 = [1e-6, 1e-3],\n",
    "ss4 = [1e-6, 1e-3],\n",
    "ss5 = [1e-6, 1e-3],\n",
    "ss6 = [1e-6, 1e-3],\n",
    "vk1 = [1e-3, 1e-1],\n",
    "vk2 = [1e-3, 1e-1],\n",
    "vk3 = [1e-3, 1e-1],\n",
    "vk4 = [1e-3, 1e-1],\n",
    "vk5 = [1e-3, 1e-1],\n",
    "vk6 = [1e-3, 1e-1],\n",
    "hk1 = [1e-5, 10],\n",
    "hk2 = [1e-5, 10],\n",
    "hk3 = [1e-5, 10],\n",
    "hk4 = [1e-5, 10],\n",
    "hk5 = [1e-5, 10],\n",
    "hk6 = [1e-5, 10],\n",
    "\n",
    "             )\n",
    "bounds"
   ]
  },
  {
   "cell_type": "code",
   "execution_count": null,
   "id": "1aee3c3c-93b1-4afc-afad-38eaabca445e",
   "metadata": {},
   "outputs": [],
   "source": [
    "for k in bounds.keys():\n",
    "    c = pst.parameter_data.loc[:,'pargp'] == k\n",
    "    print(c.sum(), k)\n",
    "    pst.parameter_data.loc[c,['parlbnd','parubnd']] = bounds[k]\n",
    "    # pst.parameter_data.loc[group.index,['parlbnd','parubnd']] = bounds[n]"
   ]
  },
  {
   "cell_type": "markdown",
   "id": "aa4638ac-80bc-42ee-bf0b-97a4294e49cb",
   "metadata": {},
   "source": [
    "# set iniitial values from last pest-run"
   ]
  },
  {
   "cell_type": "code",
   "execution_count": null,
   "id": "8741b9c9-df54-4756-908b-cd2c6254e862",
   "metadata": {},
   "outputs": [],
   "source": []
  },
  {
   "cell_type": "code",
   "execution_count": null,
   "id": "cd382eb4-8409-4398-b48d-b329014eb4b6",
   "metadata": {},
   "outputs": [],
   "source": [
    "pst.parrep(os.path.join(\"C:\\GSP\\sv\\model\\pest_inputs\\PEST_PP\\pestaws\", 'pest_ies.3.par.csv'), noptmax = 3)"
   ]
  },
  {
   "cell_type": "code",
   "execution_count": null,
   "id": "937188d2-4533-4442-afc0-097a413caa01",
   "metadata": {},
   "outputs": [],
   "source": [
    "summary = pst.write_par_summary_table(filename=\"par.xlsx\", report_in_linear_space = True)"
   ]
  },
  {
   "cell_type": "code",
   "execution_count": null,
   "id": "54c466f6-843d-4a0f-97ee-1e2012bfb2a7",
   "metadata": {},
   "outputs": [],
   "source": [
    "summary"
   ]
  },
  {
   "cell_type": "code",
   "execution_count": null,
   "id": "715140d4-a1eb-42a5-bcf2-2b1927293859",
   "metadata": {},
   "outputs": [],
   "source": [
    "pst.parameter_data.groupby('pargp').max().sort_values('parubnd').head(50)"
   ]
  },
  {
   "cell_type": "code",
   "execution_count": null,
   "id": "ecf18b08-2e8b-47ca-80b1-114a0e310dbb",
   "metadata": {},
   "outputs": [],
   "source": [
    "pst.parameter_data"
   ]
  },
  {
   "cell_type": "code",
   "execution_count": null,
   "id": "b6492c4e-f258-4d7d-ae6e-4770c3d18af4",
   "metadata": {},
   "outputs": [],
   "source": [
    "pst.parameter_data.loc[pst.parameter_data.parlbnd==1.1e-10]"
   ]
  },
  {
   "cell_type": "code",
   "execution_count": null,
   "id": "4d49a287-5cf8-4dd7-8b61-3989b5cb40d8",
   "metadata": {},
   "outputs": [],
   "source": [
    "assert (pst.parameter_data.parlbnd.min()>1.1e-10) & (pst.parameter_data.parlbnd.max()<1.1e+10), 'check parameter bounds. some have not yet been changed'"
   ]
  },
  {
   "cell_type": "code",
   "execution_count": null,
   "id": "2ee5b451-a32e-4edd-b4bf-9a2f8c131a54",
   "metadata": {},
   "outputs": [],
   "source": [
    "pst.prior_information"
   ]
  },
  {
   "cell_type": "markdown",
   "id": "080f8263-6c28-4bf5-9fbe-93f3552495b0",
   "metadata": {},
   "source": [
    "# set observations with -999 as zero weights"
   ]
  },
  {
   "cell_type": "code",
   "execution_count": null,
   "id": "8a24e9d9-787c-4ef8-8f47-1ed8cd15646b",
   "metadata": {},
   "outputs": [],
   "source": [
    "pst.observation_data"
   ]
  },
  {
   "cell_type": "code",
   "execution_count": null,
   "id": "79c93546-cff9-46b2-845e-5f39f2a8e00a",
   "metadata": {},
   "outputs": [],
   "source": [
    "print(f\"number of non-zero observations before filtering for obs <=-999:\\n {len(pst.nnz_obs_names)}\")\n",
    "\n",
    "pst.observation_data.loc[pst.observation_data.loc[:,'obsval']<=-999, 'weight'] = 0.0\n",
    "print(f\"after:\\n {len(pst.nnz_obs_names)}\")"
   ]
  },
  {
   "cell_type": "code",
   "execution_count": null,
   "id": "40975981-cb29-4f88-bc2f-e1d2d4c5e5ca",
   "metadata": {},
   "outputs": [],
   "source": [
    "pst.observation_data.loc[pst.observation_data.loc[:,'obsval']<=-999].obgnme.value_counts()"
   ]
  },
  {
   "cell_type": "code",
   "execution_count": null,
   "id": "6b6b1bab-a245-40df-bab0-9db2f16fe977",
   "metadata": {},
   "outputs": [],
   "source": []
  },
  {
   "cell_type": "code",
   "execution_count": null,
   "id": "93027fdd-221d-495c-b326-d26d42bdfcab",
   "metadata": {},
   "outputs": [],
   "source": [
    "obs = pst.observation_data\n",
    "# obs.loc[:,\"standard_deviation\"] = np.nan\n",
    "hds_obs = [o for o in pst.nnz_obs_names if \"oname:hds_\" in o]\n",
    "assert len(hds_obs) > 0\n",
    "obs.loc[hds_obs,\"standard_deviation\"] = 0.5\n",
    "# hdstd_obs = [o for o in pst.nnz_obs_names if \"oname:hdstd_\" in o]\n",
    "# assert len(hdstd_obs) > 0\n",
    "# obs.loc[hdstd_obs,\"standard_deviation\"] = 0.01\n",
    "\n",
    "# sfr_obs = [o for o in pst.nnz_obs_names if \"oname:sfr_\" in o]\n",
    "# assert len(sfr_obs) > 0\n",
    "# # here we will used noise that is a function of the observed flow value so that \n",
    "# # when flow is high, noise is high.\n",
    "# obs.loc[sfr_obs,\"standard_deviation\"] = 1.0 / (obs.loc[sfr_obs,\"obsval\"] * 0.2)\n",
    "# # sfrtd_obs = [o for o in pst.nnz_obs_names if \"oname:sfrtd_\" in o]\n",
    "# # assert len(sfrtd_obs) > 0\n",
    "# # obs.loc[sfrtd_obs,\"standard_deviation\"] = 1.0 / (obs.loc[sfrtd_obs,\"obsval\"] * 0.2)\n",
    "# obs.loc[obs.loc[:,\"standard_deviation\"]>50, \"standard_deviation\"] = 50"
   ]
  },
  {
   "cell_type": "code",
   "execution_count": null,
   "id": "15e6d236-80cc-4de1-824f-e685acb2b0c3",
   "metadata": {},
   "outputs": [],
   "source": [
    "summary_obs = pst.write_obs_summary_table(filename=\"obs.xlsx\")"
   ]
  },
  {
   "cell_type": "code",
   "execution_count": null,
   "id": "b227c09b-e085-4fd2-bc33-b966628663f4",
   "metadata": {},
   "outputs": [],
   "source": [
    "summary_obs"
   ]
  },
  {
   "cell_type": "markdown",
   "id": "6e116e75-0498-40f0-b1d0-5ff5d662ed2f",
   "metadata": {},
   "source": [
    "Some **caution** is required here. Observation weights and how these pertain to history-matching *versus* how they pertain to generating an observation ensemble for use with `pestpp-ies` or FOSM is a frequent source of confusion.\n",
    "\n",
    " - when **history-matching**, observation weights listed in the control file determine their contribution to the objective function, and therefore to the parameter estiamtion process. Here, observation weights may be assigned to reflect observation uncertainty, the balance required for equal \"visibility\", or other modeller-defined (and perhaps subjective...) measures of observation worth.  \n",
    " - when undertaking **uncertainty analysis**, weights should reflect idealy the inverse of obseravtion error (or the standard deviation of measurement noise). Keep this in mind when using `pestpp-glm` or `pestpp-ies`. If the observations in the control file do not have error-based weighting then (1) care is required if using `pestpp-glm` for FOSM and (2) make sure to provide an adequately prepared observation ensemble to `pestpp-ies`.\n",
    "\n"
   ]
  },
  {
   "cell_type": "markdown",
   "id": "3d4be629-5118-428a-a6ac-a47490daad4b",
   "metadata": {},
   "source": [
    "## Distance Based Localization\n",
    "\n",
    "This is industrial strength localization that combines the temporal localization from before with a distance-based cutoff between each spatially-distributed parameter type and each spatially-discrete observation.  In this way, we are defining a \"window\" around each observation and only parameters that are within this window are allowed to be conditioned from said observation.  It's painful to setup and subjective (since a circular window around each observation is a coarse approximation) but in practice, it seems to yield robust forecast estimates.\n",
    "\n",
    "For the first time now, we will be using a fully-localized solve, meaning each parameter is upgraded independently.  This means PEST++IES has to run through the upgrade calculations once for each parameter - this can be very slow.  Currently, PESTPP-IES can multithread these calculations but the optimal number of threads is very problem specific.  Through testing, 3 threads seems to be a good choice for this problem (the PEST++IES log file records the time it takes to solve groups of 1000 pars for each lambda so you can test for your problem too)."
   ]
  },
  {
   "cell_type": "markdown",
   "id": "199acae5-2a03-41fb-bd42-57af15f65705",
   "metadata": {},
   "source": [
    "In the next few cells we are going to make use of `flopy` and some of the metadata that `pyemu.PstFrom` recorded when constructing our PEST(++) setup to calculate distances between parmaters and observations. We will do this only for groundwater level observations."
   ]
  },
  {
   "cell_type": "code",
   "execution_count": null,
   "id": "2a28e6ca-545d-40f6-8f44-8b0dcbc136ab",
   "metadata": {},
   "outputs": [],
   "source": [
    "\n",
    "\n",
    "import flopy\n"
   ]
  },
  {
   "cell_type": "code",
   "execution_count": null,
   "id": "e23f548f-c2d5-43b8-9ab8-2ea9a0706550",
   "metadata": {},
   "outputs": [],
   "source": [
    "h = flopy.modflow.ModflowHob.load(os.path.join(ml.model_ws, 'SV_HOBS_11_18_2015.HOB'), ml)"
   ]
  },
  {
   "cell_type": "code",
   "execution_count": null,
   "id": "137921a1-392c-4150-a64e-d229ad4dcedf",
   "metadata": {},
   "outputs": [],
   "source": []
  },
  {
   "cell_type": "code",
   "execution_count": null,
   "id": "b8c0fbdf-91d5-46d4-b594-c4632c526a47",
   "metadata": {},
   "outputs": [],
   "source": []
  },
  {
   "cell_type": "code",
   "execution_count": null,
   "id": "a46abe8b-dbaa-4fa9-837d-b59e67ac680b",
   "metadata": {},
   "outputs": [],
   "source": [
    "allmea = list()\n",
    "\n",
    "for r in  ml.HOB.obs_data:\n",
    "    cur = list()\n",
    "    for k in r.time_series_data.obsname:\n",
    "        cur.extend((k, r.column,  r.row))\n",
    "\n",
    "    allmea.extend(cur)\n"
   ]
  },
  {
   "cell_type": "code",
   "execution_count": null,
   "id": "f8b09b50-1ca6-4193-8d17-85597272e7d6",
   "metadata": {},
   "outputs": [],
   "source": []
  },
  {
   "cell_type": "code",
   "execution_count": null,
   "id": "6393704c-6a9c-442d-8e7d-31809da6894c",
   "metadata": {},
   "outputs": [],
   "source": [
    "hds_df"
   ]
  },
  {
   "cell_type": "code",
   "execution_count": null,
   "id": "477b14a1-6a3a-45a6-bdca-faeb40222cc6",
   "metadata": {},
   "outputs": [],
   "source": [
    "hobs = pd.DataFrame(np.array(allmea).reshape((-1,3)), columns = ['name', 'col', 'row'])\n",
    "\n"
   ]
  },
  {
   "cell_type": "code",
   "execution_count": null,
   "id": "acd583a8-57a4-4fe7-be44-7a9eead22b04",
   "metadata": {},
   "outputs": [],
   "source": []
  },
  {
   "cell_type": "code",
   "execution_count": null,
   "id": "d8a95000-8922-4236-b981-8229c8798cb4",
   "metadata": {},
   "outputs": [],
   "source": [
    "heads_info =  hds_df.set_index(hds_df.obsnme.apply(lambda x: x.split(':')[-1]))\n",
    "heads_info = heads_info.set_index(heads_info.index.str.upper())\n",
    "heads_info\n"
   ]
  },
  {
   "cell_type": "code",
   "execution_count": null,
   "id": "5f2b7ae0-04cf-47b1-8b9e-8ebfcdf88044",
   "metadata": {},
   "outputs": [],
   "source": [
    "hobs.row = hobs.row.astype(int)\n",
    "hobs.col = hobs.col.astype(int)\n",
    "hobs.name = hobs.name.astype(str)\n",
    "\n",
    "# get x,y for cell of each obs\n",
    "hobs.loc[:,'x'] = hobs.apply(lambda x: ml.modelgrid.xcellcenters[x.row,x.col], axis=1)\n",
    "hobs.loc[:,'y'] = hobs.apply(lambda x: ml.modelgrid.ycellcenters[x.row,x.col], axis=1)\n",
    "\n",
    "# group them for use later in identifying unique locations\n",
    "hobs.loc[:,\"xy\"] = hobs.apply(lambda x: \"{0}_{1}\".format(x.row,x.col),axis=1)\n",
    "\n",
    "hobs = pd.merge(hobs, heads_info,  left_on = 'name', right_index =True,)\n",
    "\n",
    "hobs = hobs.set_index('obsnme')\n",
    "hobs.head()"
   ]
  },
  {
   "cell_type": "code",
   "execution_count": null,
   "id": "73e6f99b-1047-441c-9bd2-9fd1c74dc595",
   "metadata": {},
   "outputs": [],
   "source": []
  },
  {
   "cell_type": "code",
   "execution_count": null,
   "id": "f4aea323-3cdc-4a42-9d9d-e09ac66a9c3c",
   "metadata": {},
   "outputs": [],
   "source": []
  },
  {
   "cell_type": "code",
   "execution_count": null,
   "id": "ff436ec0-c950-4ca0-be35-93ab734ab1e8",
   "metadata": {},
   "outputs": [],
   "source": []
  },
  {
   "cell_type": "code",
   "execution_count": null,
   "id": "60f12928-a98b-47c3-ad8d-02ab96b3e00a",
   "metadata": {},
   "outputs": [],
   "source": []
  },
  {
   "cell_type": "code",
   "execution_count": null,
   "id": "ddfcbcc0-c876-485f-9ce6-ddd046135d50",
   "metadata": {},
   "outputs": [],
   "source": []
  },
  {
   "cell_type": "code",
   "execution_count": null,
   "id": "72cf0c75-af1f-4851-b54c-a59aba6df3f3",
   "metadata": {},
   "outputs": [],
   "source": []
  },
  {
   "cell_type": "code",
   "execution_count": null,
   "id": "ca282524-1d00-4c5f-aba1-af1018898480",
   "metadata": {},
   "outputs": [],
   "source": [
    "# # start by getting the locations of observation sites\n",
    "# # we will only do this for head obsevrations; other obs types in our PEST dataset arent applicable\n",
    "# hobs = nz_obs.loc[nz_obs.oname.isin(['hds','hdsvd','hdstd'])].copy()\n",
    "# hobs.loc[:,'i'] = hobs.obgnme.apply(lambda x: int(x.split('-')[-2]))\n",
    "# hobs.loc[:,'j'] = hobs.obgnme.apply(lambda x: int(x.split('-')[-1]))\n",
    "# # get x,y for cell of each obs\n",
    "# hobs.loc[:,'x'] = hobs.apply(lambda x: gwf.modelgrid.xcellcenters[x.i,x.j], axis=1)\n",
    "# hobs.loc[:,'y'] = hobs.apply(lambda x: gwf.modelgrid.ycellcenters[x.i,x.j], axis=1)\n",
    "# # group them for use later in identifying unique locations\n",
    "# hobs.loc[:,\"xy\"] = hobs.apply(lambda x: \"{0}_{1}\".format(x.x,x.y),axis=1)\n",
    "# hobs.head()"
   ]
  },
  {
   "cell_type": "markdown",
   "id": "855c7dce-d929-4f11-bbdc-af5357ccb78c",
   "metadata": {},
   "source": [
    "We have the `x` and `y` coordinate of all grid and pilot point based parameters recorded in the `Pst` `parameter_data` section. Convenient."
   ]
  },
  {
   "cell_type": "code",
   "execution_count": null,
   "id": "6cdd198b-fbef-4df9-bdb5-6603f1c6633c",
   "metadata": {},
   "outputs": [],
   "source": []
  },
  {
   "cell_type": "code",
   "execution_count": null,
   "id": "6afa5e1d-02aa-460e-a852-1aa834c762d2",
   "metadata": {},
   "outputs": [],
   "source": []
  },
  {
   "cell_type": "code",
   "execution_count": null,
   "id": "25ff3ee4-63d4-44dd-820f-6572c5c1ab88",
   "metadata": {},
   "outputs": [],
   "source": []
  },
  {
   "cell_type": "code",
   "execution_count": null,
   "id": "679f463b-024b-4e98-b421-e5302467e538",
   "metadata": {},
   "outputs": [],
   "source": []
  },
  {
   "cell_type": "code",
   "execution_count": null,
   "id": "2f2a13a0-cdb2-40e9-a9b4-f7a84b962178",
   "metadata": {},
   "outputs": [],
   "source": []
  },
  {
   "cell_type": "code",
   "execution_count": null,
   "id": "5cfc8c90-c472-49fd-8f66-2eed6135c0d4",
   "metadata": {},
   "outputs": [],
   "source": []
  },
  {
   "cell_type": "code",
   "execution_count": null,
   "id": "97562714-0132-4864-aff0-ed44b84df803",
   "metadata": {},
   "outputs": [],
   "source": []
  },
  {
   "cell_type": "code",
   "execution_count": null,
   "id": "5c4dd7d3-2b08-4638-aff8-2f03ac87ed26",
   "metadata": {},
   "outputs": [],
   "source": []
  },
  {
   "cell_type": "code",
   "execution_count": null,
   "id": "2a8e2c4e-c0ca-4622-a730-0e1f76de00e0",
   "metadata": {},
   "outputs": [],
   "source": []
  },
  {
   "cell_type": "code",
   "execution_count": null,
   "id": "1cee81e8-cef9-409f-a99e-1d2cad80eca6",
   "metadata": {},
   "outputs": [],
   "source": []
  },
  {
   "cell_type": "code",
   "execution_count": null,
   "id": "23d4e981-e949-44e5-9a18-663d0baa5b2f",
   "metadata": {},
   "outputs": [],
   "source": [
    "# get x,y for cell of each obs\n",
    "par.loc[:,'x'] = np.nan\n",
    "par.loc[:,'y'] = np.nan\n",
    "par.loc[par.i.notnull(),'x'] = par.loc[par.i.notnull()].apply(lambda x: ml.modelgrid.xcellcenters[int(x.i),int(x.j)], axis=1)\n",
    "par.loc[par.i.notnull(),'y'] = par.loc[par.i.notnull()].apply(lambda x: ml.modelgrid.ycellcenters[int(x.i),int(x.j)], axis=1)"
   ]
  },
  {
   "cell_type": "code",
   "execution_count": null,
   "id": "b90f8ac7-0342-41c4-8669-7b549b26be23",
   "metadata": {},
   "outputs": [],
   "source": [
    "par.x=par.x.astype(float)\n",
    "par.y=par.y.astype(float)\n",
    "par.head()"
   ]
  },
  {
   "cell_type": "code",
   "execution_count": null,
   "id": "5c398f80-c484-4429-92e7-10018c978c31",
   "metadata": {},
   "outputs": [],
   "source": []
  },
  {
   "cell_type": "code",
   "execution_count": null,
   "id": "98b5e322-405f-45d5-b3bc-79fde0966e5f",
   "metadata": {},
   "outputs": [],
   "source": []
  },
  {
   "cell_type": "code",
   "execution_count": null,
   "id": "30dca66d-fb02-453f-aac2-d0e2dd0fd4e9",
   "metadata": {},
   "outputs": [],
   "source": [
    "assert pst.observation_data.loc[pst.observation_data.obsnme.str.contains('m13-05')].weight.sum() ==0, f\"need to fix these obs {pst.observation_data.loc[pst.observation_data.obsnme.str.contains('m13-05'), ['weight']]}\""
   ]
  },
  {
   "cell_type": "markdown",
   "id": "29029b33-7b37-494c-83ea-19265a5f6e3b",
   "metadata": {},
   "source": [
    "First, create a `Matrix` for _all_ adjustable parameter _names_ and non-zero observations:"
   ]
  },
  {
   "cell_type": "code",
   "execution_count": null,
   "id": "bb1e014e-4f54-4f78-946e-3548bd15ff31",
   "metadata": {},
   "outputs": [],
   "source": [
    "spatial_loc = pyemu.Matrix.from_names(pst.nnz_obs_names,pst.adj_par_names).to_dataframe()\n",
    "# set all elements to 1.0 to make sure all observation-parameter pairs are \"active\"\n",
    "spatial_loc.values[:,:] = 1.0"
   ]
  },
  {
   "cell_type": "code",
   "execution_count": null,
   "id": "49dbc88b-72b2-4f89-9061-0235ecff5c5e",
   "metadata": {},
   "outputs": [],
   "source": [
    "spatial_loc.shape"
   ]
  },
  {
   "cell_type": "code",
   "execution_count": null,
   "id": "7f65fa25-5461-4f1c-9787-10c0269a898a",
   "metadata": {},
   "outputs": [],
   "source": []
  },
  {
   "cell_type": "markdown",
   "id": "5b2bd4d0-09c4-42fc-a6bc-23fab5354a40",
   "metadata": {},
   "source": [
    "We have the `x` and `y` coordinate of all grid and pilot point based parameters recorded in the `Pst` `parameter_data` section. Convenient."
   ]
  },
  {
   "cell_type": "code",
   "execution_count": null,
   "id": "72abb84a-640b-4a07-b7fe-c2acf6dfa918",
   "metadata": {},
   "outputs": [],
   "source": []
  },
  {
   "cell_type": "code",
   "execution_count": null,
   "id": "d643fa51-f22e-4339-baf7-31d36f218637",
   "metadata": {},
   "outputs": [],
   "source": []
  },
  {
   "cell_type": "markdown",
   "id": "136b0e55-a40c-485d-a71f-26547a8f17cd",
   "metadata": {},
   "source": [
    "Now the tricky bit. We are going to go through each observation location and assign 0.0 to rows that correspond to _spatially distributed_ parameters that are further away than a specified cutoff distance (`loc_dist`). "
   ]
  },
  {
   "cell_type": "code",
   "execution_count": null,
   "id": "08b966b2-d737-41b4-a377-3725e58aa401",
   "metadata": {},
   "outputs": [],
   "source": []
  },
  {
   "cell_type": "code",
   "execution_count": null,
   "id": "877c6592-bbb9-4018-b00d-8d63cbf373f7",
   "metadata": {},
   "outputs": [],
   "source": []
  },
  {
   "cell_type": "code",
   "execution_count": null,
   "id": "a4732b5f-222f-44ed-8317-1fe4687d3c1c",
   "metadata": {},
   "outputs": [],
   "source": []
  },
  {
   "cell_type": "code",
   "execution_count": null,
   "id": "6c379c87-f838-490c-b0cd-484ad513a474",
   "metadata": {},
   "outputs": [],
   "source": [
    "from scipy.spatial import distance\n",
    "from scipy.spatial.distance import pdist, squareform\n",
    "import numpy as np\n",
    "\n",
    "par_loc = par.loc[:,['x','y']]\n",
    "par_loc = par_loc.reindex(spatial_loc.columns)\n",
    "display(par_loc.head())\n",
    "obs_loc = hobs.loc[:,['x', 'y']]\n",
    "obs_loc = obs_loc.reindex(index = spatial_loc.index)\n",
    "display(obs_loc.head())\n",
    "dist = distance.cdist( obs_loc.values,par_loc.values, 'euclidean')\n"
   ]
  },
  {
   "cell_type": "code",
   "execution_count": null,
   "id": "f8e3c867-7280-4ee6-893c-cfa7169ddce1",
   "metadata": {},
   "outputs": [],
   "source": [
    "dist.shape == spatial_loc.shape"
   ]
  },
  {
   "cell_type": "code",
   "execution_count": null,
   "id": "b173da00-ffe2-4d77-83b1-ccd9c526fe5f",
   "metadata": {},
   "outputs": [],
   "source": [
    "spatial_loc.values[dist>2000] = 0"
   ]
  },
  {
   "cell_type": "code",
   "execution_count": null,
   "id": "2542522f-1fe7-44ae-9dd5-e9ac6deac458",
   "metadata": {},
   "outputs": [],
   "source": [
    "spatial_loc"
   ]
  },
  {
   "cell_type": "code",
   "execution_count": null,
   "id": "64e69f4e-35f7-4f34-a9ac-613f51ec936d",
   "metadata": {},
   "outputs": [],
   "source": [
    "assert spatial_loc.loc[spatial_loc.index.str.contains('m13-05')].shape[0] == 0, 'the m13-05 values need to be removed'"
   ]
  },
  {
   "cell_type": "code",
   "execution_count": null,
   "id": "a72d6848-973c-4552-a6de-69b860cd5dae",
   "metadata": {},
   "outputs": [],
   "source": [
    "# # the cutoff distance\n",
    "# loc_dist = 2500.0 # arbitrary!\n",
    "# # prepare a set of adjustable parameter names\n",
    "# sadj = set(pst.adj_par_names)\n",
    "# #select only spatial params to avoid applying to layer-wide multiplier parameters\n",
    "# spatial_par = par.loc[par.x.notnull()].copy()\n",
    "# # group obs by location\n",
    "# xy_groups = hobs.groupby('xy').groups\n",
    "# print('Number of observation sites:',len(xy_groups))\n",
    "# # loop through each observation site and \"blank out\" correlation with parameters which are too far away\n",
    "# for xy,onames in xy_groups.items():\n",
    "#     # get the obs site x and y coords\n",
    "#     oname = onames[0]\n",
    "#     xx,yy = hobs.loc[oname,['x','y']]\n",
    "#     # calculate distance from obs to parameters\n",
    "#     spatial_par.loc[:,'dist'] = spatial_par.apply(lambda x: (x.x - xx)**2 + (x.y - yy)**2,axis=1).apply(np.sqrt)\n",
    "#     # select pars that are too far from obs\n",
    "#     too_far = spatial_par.loc[spatial_par.dist > loc_dist,\"parnme\"]\n",
    "#     # keep only adjustable pars\n",
    "#     too_far = too_far.loc[too_far.apply(lambda x: x in sadj)]\n",
    "#     # assign zero to loc matrix for parameters that are too far from obs\n",
    "#     spatial_loc.loc[onames, too_far] = 0.0\n"
   ]
  },
  {
   "cell_type": "code",
   "execution_count": null,
   "id": "b7e18283-8aa4-4ca5-b89f-d1357566a811",
   "metadata": {},
   "outputs": [],
   "source": []
  },
  {
   "cell_type": "code",
   "execution_count": null,
   "id": "2f998fc0-e882-44d8-af95-1e6ae0df95c2",
   "metadata": {},
   "outputs": [],
   "source": [
    "pst.pestpp_options[\"ies_num_reals\"] = 150  # starting with a real small ensemble!"
   ]
  },
  {
   "cell_type": "code",
   "execution_count": null,
   "id": "ab44495c-6fbb-4407-b826-d7a88847e98e",
   "metadata": {},
   "outputs": [],
   "source": [
    "pyemu.Matrix.from_dataframe(spatial_loc).to_coo(os.path.join(template_ws,\"spatial_loc.jcb\"))\n"
   ]
  },
  {
   "cell_type": "code",
   "execution_count": null,
   "id": "6ff9d29a-f245-4e87-aec6-ded18c398f6a",
   "metadata": {},
   "outputs": [],
   "source": [
    "pst.pestpp_options[\"ies_localizer\"] = \"spatial_loc.jcb\""
   ]
  },
  {
   "cell_type": "markdown",
   "id": "01c3cf77-8615-4985-a738-c7f3e9513ea6",
   "metadata": {},
   "source": [
    "A final consideration. \n",
    "\n",
    "Through localization, a complex parameter estimation problem can be turned into a series of independent parameter estimation problems. If large numbers of parameters are being adjusted, the parameter upgrade calculation process for a given lambda will require as many truncated SVD solves as there are adjustable parameters. This can require considerable numerical effort. To overcome this problem, the localized upgrade solution process in PESTPP-IES has been multithreaded; this is possible in circumstances such as these where each local solve is independent of every other local solve. The use of multiple threads is invoked through the `ies_num_threads()` control variable. It should be noted that the optimal number of threads to use is  problem-specific. Furthermore, it should not exceed the number of physical cores of the host machine on which the PESTPP-IES master instance is running.\n",
    "\n",
    "However, the fully localized solve is still sssslllloooooowwwwwww.  So if you have heaps of parameters (>30,000 say) it may actually be faster to use more realizations rather than use localization in terms of wall time - more realizations will over come the issues related to spurious correlation simply by having more samples to calculate the empirical derivatives with...but this depends on the runtime of the forward model as well. As usual, the answer is: \"It depends\" - haha!\n",
    "\n",
    "Just to make this notebook experience more enjoyable, lets limit the number of lambdas being tested (so that we only have to solve the fully localized solution once per iteration...):"
   ]
  },
  {
   "cell_type": "markdown",
   "id": "6c9cb00c-732e-43ba-9d72-9b4e8c915efc",
   "metadata": {},
   "source": [
    "# parameter covariance"
   ]
  },
  {
   "cell_type": "code",
   "execution_count": null,
   "id": "1b786ec0-e059-449f-a8fa-7785ef86b95d",
   "metadata": {},
   "outputs": [],
   "source": [
    "pst.parameter_data"
   ]
  },
  {
   "cell_type": "code",
   "execution_count": null,
   "id": "d698c0ed-d025-42e1-bdff-1c17a75116d9",
   "metadata": {},
   "outputs": [],
   "source": [
    "# # build the prior covariance matrix and store it as a compresed bianry file (otherwise it can get huge!)\n",
    "# # depending on your machine, this may take a while...\n",
    "\n",
    "# cov = pf.build_prior(fmt='coo', filename=os.path.join(template_ws,\"prior_cov.jcb\"))\n",
    "# # and take a peek at a slice of the matrix\n",
    "# try: \n",
    "#     x = cov.x.copy()\n",
    "#     x[x==0] = np.NaN\n",
    "#     plt.imshow(x[:1000,:1000])\n",
    "# except:\n",
    "#     pass"
   ]
  },
  {
   "cell_type": "code",
   "execution_count": null,
   "id": "88b1c6f8-7314-4c89-9ff7-16cc1b649903",
   "metadata": {},
   "outputs": [],
   "source": [
    "# cov = pyemu.Cov.from_parameter_data(pst, sigma_range=4.)"
   ]
  },
  {
   "cell_type": "code",
   "execution_count": null,
   "id": "6ab727c2-fb79-42eb-9b7b-9badedabcff4",
   "metadata": {},
   "outputs": [],
   "source": [
    "# cofdf = cov.to_dataframe()"
   ]
  },
  {
   "cell_type": "code",
   "execution_count": null,
   "id": "f6f802aa-1105-4859-9353-5e2a15d07a25",
   "metadata": {},
   "outputs": [],
   "source": []
  },
  {
   "cell_type": "code",
   "execution_count": null,
   "id": "dfb6b837-9966-44f7-b949-db062b406d4e",
   "metadata": {},
   "outputs": [],
   "source": [
    "pst.model_command"
   ]
  },
  {
   "cell_type": "code",
   "execution_count": null,
   "id": "7cc61b50-dbd2-4719-8f8b-c9b6ae3799d5",
   "metadata": {},
   "outputs": [],
   "source": [
    "# pst.model_command = ['conda', 'conda activate gis_py_10', 'python forward_run.py']\n",
    "\n",
    "pst.model_command = 'python forward_run.py'\n"
   ]
  },
  {
   "cell_type": "code",
   "execution_count": null,
   "id": "dd0d06e2-03e5-493d-b537-39c9df5ce6da",
   "metadata": {},
   "outputs": [],
   "source": [
    "pst.model_command"
   ]
  },
  {
   "cell_type": "code",
   "execution_count": null,
   "id": "683f361f-fe22-42e8-ae94-6b2b68ebb2b6",
   "metadata": {},
   "outputs": [],
   "source": []
  },
  {
   "cell_type": "markdown",
   "id": "8569cba2-6454-4144-be79-d1d7d348bec9",
   "metadata": {},
   "source": [
    "### Other options that are usually a good idea\n",
    "\n",
    "PESTPP-IES has heaps of options that can be brought to bare for any given problem but most of these have good default values.  However, two options that can be very important for highly nonlinear inverse problems are related to how and when to give up on realizations that are just not doing very well with respect to phi.  These lagging realizations can dominate the objective function and therefore influence the choice of lambda values, and, ultimately, the success of the PESTPP-IES analysis. These two options are `ies_bad_phi` and `ies_bad_phi_sigma`.  The first one, `ies_bad_phi` is an absolute tolerance on the maximum phi value that will be allowed for any realization in the ensemble at any point in the algorithm.  If a realization yields a phi greater than `ies_bad_phi`, it will be \"dropped\" from the ensemble.  This can be an important option if cells go dry and yield an enormous phi.  \n",
    "\n",
    "The second option, `ies_bad_phi_sigma` is a relative tolerance on the phi of a realization vs the mean phi of all the realizations in the ensemble.  The \"sigma\" tells us standard deviation is involved in this option:  `ies_bad_phi_sigma` is the standard deviation \"distance\" from the mean phi that realizations are allowed to have before they are dropped.  For example, if the mean phi is 100 and standard deviation around this mean is 20, and `ies_bad_phi_sigma` = 2, then any realization with a phi greater than 100 + (2 * 20) = 140 is dropped.  This \"adaptive\" rejection filter adapts as the ensemble evolves across iterations, and, for highly nonlinear problems, this option can make a huge difference.  Values between 1.5 (more aggressive) and 2.5 (more tolerant) seem to work well..."
   ]
  },
  {
   "cell_type": "code",
   "execution_count": null,
   "id": "6b9a629c-2f45-462c-9f2c-ba194d3ccf3a",
   "metadata": {},
   "outputs": [],
   "source": [
    "pst.pestpp_options[\"ies_bad_phi_sigma\"] = 2.0 #middle ground value"
   ]
  },
  {
   "cell_type": "code",
   "execution_count": null,
   "id": "f575378a-a592-4811-b504-898c485c8e8f",
   "metadata": {},
   "outputs": [],
   "source": [
    "os.getcwd()"
   ]
  },
  {
   "cell_type": "code",
   "execution_count": null,
   "id": "ffca652c-fac5-43ea-a8fd-f229f0ca0f10",
   "metadata": {},
   "outputs": [],
   "source": [
    "# pyemu.os_utils.run('pestpp-ies pest_ies.pst', cwd = template_ws, verbose = True)"
   ]
  },
  {
   "cell_type": "code",
   "execution_count": null,
   "id": "24cb6a50-7fe0-48fc-b961-c54de52e31f8",
   "metadata": {},
   "outputs": [],
   "source": [
    "# pst.control_data.pestmode = \"estimation\""
   ]
  },
  {
   "cell_type": "markdown",
   "id": "ba9115bb-6ec8-44de-bb47-85aec66832b1",
   "metadata": {},
   "source": [
    "# set weights from existing weights"
   ]
  },
  {
   "cell_type": "code",
   "execution_count": null,
   "id": "a146cfa1-4d8b-4392-97bd-b1b613680ab8",
   "metadata": {},
   "outputs": [],
   "source": [
    "pst_old = pyemu.Pst(os.path.join(template_ws, 'ies.pst'))"
   ]
  },
  {
   "cell_type": "code",
   "execution_count": null,
   "id": "f20bd00e-10d1-43db-985e-b55c9dcffebb",
   "metadata": {},
   "outputs": [],
   "source": [
    "assert pst.observation_data.index.isin(pst_old.observation_data.index).all()"
   ]
  },
  {
   "cell_type": "code",
   "execution_count": null,
   "id": "1b1bf72e-a288-4261-9585-b4081f5df4e8",
   "metadata": {},
   "outputs": [],
   "source": []
  },
  {
   "cell_type": "code",
   "execution_count": null,
   "id": "e6294886-5f0d-4072-9c25-0327a514bf83",
   "metadata": {},
   "outputs": [],
   "source": [
    "pst.observation_data.loc[pst_old.observation_data.index, 'weight'] = pst_old.observation_data.weight\n",
    "\n",
    "pst.observation_data.loc[pst.observation_data.loc[:,'obsval']<=-999, 'weight'] = 0.0"
   ]
  },
  {
   "cell_type": "code",
   "execution_count": null,
   "id": "6b1c516b-58a4-4646-abdb-0b477c63df10",
   "metadata": {},
   "outputs": [],
   "source": [
    "pst.control_data.noptmax = 5"
   ]
  },
  {
   "cell_type": "markdown",
   "id": "87090713-5387-43db-9803-d742b6fb88b2",
   "metadata": {},
   "source": [
    "# try with all ones for hk pars"
   ]
  },
  {
   "cell_type": "code",
   "execution_count": null,
   "id": "c7bc4e4b-8909-4903-aabf-98108fc06dd1",
   "metadata": {},
   "outputs": [],
   "source": [
    "pst.parameter_data"
   ]
  },
  {
   "cell_type": "code",
   "execution_count": null,
   "id": "28707c55-87dd-4c93-bf63-e05a3f949764",
   "metadata": {},
   "outputs": [],
   "source": []
  },
  {
   "cell_type": "markdown",
   "id": "a81f9cf2-ecd7-4588-9e33-747de98b80c8",
   "metadata": {},
   "source": [
    "### setting PEST++ options"
   ]
  },
  {
   "cell_type": "markdown",
   "id": "a13e1637-d4c8-40f9-acc3-7b8eab9615b1",
   "metadata": {},
   "source": [
    "Some things I like to add:"
   ]
  },
  {
   "cell_type": "code",
   "execution_count": null,
   "id": "5f7f1760-dca4-4b46-8d00-6f9a65bcf61c",
   "metadata": {},
   "outputs": [],
   "source": [
    "pst.pestpp_options[\"svd_pack\"] = \"redsvd\"\n",
    "#pst.pestpp_options[\"forecasts\"] = \n",
    "pst.pestpp_options[\"panther_agent_restart_on_error\"] = True\n"
   ]
  },
  {
   "cell_type": "code",
   "execution_count": null,
   "id": "19dddf2e-865b-449c-a851-9e1956492c42",
   "metadata": {},
   "outputs": [],
   "source": []
  },
  {
   "cell_type": "code",
   "execution_count": null,
   "id": "a49ed5c2-b4e8-494b-a8e1-d714884a415c",
   "metadata": {},
   "outputs": [],
   "source": [
    "pst.enforce_bounds()"
   ]
  },
  {
   "cell_type": "code",
   "execution_count": null,
   "id": "6614c642-a1d3-43bb-a699-ecd7c9f0ef84",
   "metadata": {},
   "outputs": [],
   "source": [
    "pst.control_data.noptmax = -2"
   ]
  },
  {
   "cell_type": "code",
   "execution_count": null,
   "id": "46d3d418-eb80-43bf-8254-e6e8a8c20318",
   "metadata": {},
   "outputs": [],
   "source": [
    "\n",
    "pst.write(os.path.join(template_ws, 'ies.pst'),version=2)"
   ]
  },
  {
   "cell_type": "code",
   "execution_count": null,
   "id": "2ff4e187-c10e-474e-9f01-e6a00bff66b4",
   "metadata": {},
   "outputs": [],
   "source": [
    "os.getcwd()"
   ]
  },
  {
   "cell_type": "code",
   "execution_count": null,
   "id": "f4987cd2-4973-4eb1-aaed-444a55aa2aeb",
   "metadata": {},
   "outputs": [],
   "source": [
    "pst.write(os.path.join('pest_ies.pst'),version=2)"
   ]
  },
  {
   "cell_type": "markdown",
   "id": "ed07b6d4-aff7-4336-b6ba-38fd887a5d7b",
   "metadata": {},
   "source": [
    "# zip the folder"
   ]
  },
  {
   "cell_type": "code",
   "execution_count": null,
   "id": "a3f08926-ef99-4233-9f7e-1c465a2ab3db",
   "metadata": {},
   "outputs": [],
   "source": []
  },
  {
   "cell_type": "code",
   "execution_count": null,
   "id": "d6183463-c1af-46ee-8f1b-bc61a6e32fc1",
   "metadata": {},
   "outputs": [],
   "source": []
  },
  {
   "cell_type": "code",
   "execution_count": null,
   "id": "0f0e00c3-4d34-4bc7-8cfe-1722601e97a5",
   "metadata": {},
   "outputs": [],
   "source": []
  },
  {
   "cell_type": "code",
   "execution_count": null,
   "id": "a239444f-0592-4565-959f-27cb3dab9d5b",
   "metadata": {},
   "outputs": [],
   "source": [
    "shutil.make_archive(template_ws, 'zip', os.path.join(template_ws,template_ws) )"
   ]
  },
  {
   "cell_type": "markdown",
   "id": "e814472c-a8d9-4f4d-ab33-18bd4b0fffbe",
   "metadata": {},
   "source": [
    "## Observation Weights\n",
    "\n",
    "Of all the issues that we have seen over the years, none is greater than (in)appropriate weighting strategies.  It is a critical and fundamental component of any inverse problem, but is especially important in settings where the model is imperfect simulator and the observation data are noisy and there are diverse types of data.  Goundwater modeling anyone? \n",
    "\n",
    "In essence the weights will change the shape of the objective function surface in parameter space, moving the minimum around and altering the path to the minimum (this can be seen visually in the response surface notebooks).  Given the important role weights play in the outcome of a history-matching/data assimilation analysis, rarely is a weighting strategy \"one and done\", instead it is continuously revisited during a modeling analysis, based on what happened during the previous history-matching attempt.  \n",
    "\n",
    "We are going to start off by taking a look at our current objective function value and the relative contributions from the various observation groups - these relative contributions are a function of the residuals and weights in each group. Recall that this is the objective function value with **initial parameter values** and the default observations weights.\n",
    "\n",
    "First off, we need to get PEST to run the model once so that the objective function can be calculated. Let's do that now. Start by reading the control file and checking that NOPTMAX is set to zero:\n",
    "\n"
   ]
  },
  {
   "cell_type": "code",
   "execution_count": null,
   "id": "1d5ab6ba-2183-458e-98d5-a5e646967c21",
   "metadata": {},
   "outputs": [],
   "source": []
  },
  {
   "cell_type": "code",
   "execution_count": null,
   "id": "13009708-924d-4b13-9213-b7f59c985e07",
   "metadata": {},
   "outputs": [],
   "source": [
    "pst_out = pyemu.Pst(os.path.join(template_ws, 'ies.pst'))\n",
    "pst_out.phi"
   ]
  },
  {
   "cell_type": "code",
   "execution_count": null,
   "id": "9e57b3f3-1d50-4b05-a508-7eb731abc2e6",
   "metadata": {},
   "outputs": [],
   "source": [
    "# check noptmax\n",
    "pst.control_data.noptmax"
   ]
  },
  {
   "cell_type": "markdown",
   "id": "6a5f3d02-9373-4c1c-a548-c10ba4722bdb",
   "metadata": {},
   "source": [
    "Jeepers - that's large! Before we race off and start running PEST to lower it we should compare simualted and measured values and take a look at the components of Phi. \n",
    "\n",
    "Let's start with taking a closer look. The `pst.phi_components` attribute returns a dictionary of the observation group names and their contribution to the overal value of Phi. "
   ]
  },
  {
   "cell_type": "code",
   "execution_count": null,
   "id": "ed4584b1-96ce-4e2b-9676-f1621f4ee896",
   "metadata": {},
   "outputs": [],
   "source": [
    "phi  = pd.read_csv(r\"C:\\GSP\\sv\\model\\update_2024\\scripts\\pestrunv4\\pest_ies.base.rei\", skiprows=[0,1], sep = '\\s+')\n",
    "print(phi.head())\n",
    "phi.loc[:,'phi'] = (phi.loc[:,'Residual']*phi.Weight )**2\n",
    "\n",
    "# phi.loc[:,'Test'] = phi.loc[:,'Weight']\n",
    "# c = phi.Group=='aguacal'\n",
    "\n",
    "# phi.loc[c,'Test'] = phi.loc[c,'Test']*4000\n",
    "# c = phi.Group=='ken'\n",
    "# phi.loc[c,'Test'] = phi.loc[c,'Test']*4000\n",
    "\n",
    "# phi.loc[:,'phitest'] = (phi.loc[:,'Residual']**2)*phi.Test "
   ]
  },
  {
   "cell_type": "code",
   "execution_count": null,
   "id": "816ec698-a401-47ce-aedc-b840b4fab84f",
   "metadata": {},
   "outputs": [],
   "source": [
    "sum([5.325e09 + 1.06e09 + 6.28e06])"
   ]
  },
  {
   "cell_type": "code",
   "execution_count": null,
   "id": "0094970c-2887-405e-97d5-9cb3e3071894",
   "metadata": {},
   "outputs": [],
   "source": [
    "6.28e06/sum([5.325e09 + 1.06e09 + 6.28e06])"
   ]
  },
  {
   "cell_type": "markdown",
   "id": "c1f60418-4f27-4172-958e-8c4910e0a1dc",
   "metadata": {},
   "source": [
    "# looking at contributions to phi from streamflow"
   ]
  },
  {
   "cell_type": "code",
   "execution_count": null,
   "id": "72f37398-f932-4693-abfc-ac4c4c143b0e",
   "metadata": {},
   "outputs": [],
   "source": [
    "r = phi.query(\"Name.str.contains('agua') & not Name.str.contains('raw')\")\n",
    "\n",
    "r.loc[:,'date'] = pd.to_datetime('1/1/1969') + pd.to_timedelta(r.Name.apply(lambda x:float(x.split(':')[-1])), unit = 'D')\n",
    "ax = r.query(\"Measured>-10\").plot.scatter(x = 'date', y = 'Measured', title = 'agua caliente', label = 'Measured')\n",
    "r.query(\"Measured>-10\").plot.scatter(x = 'date', y = 'Modelled', ax = ax, c = 'r',label = 'Modelled')\n",
    "ax2 = ax.twinx()\n",
    "r.query(\"Measured>-10\").plot.scatter(x = 'date', y = 'phi', ax = ax2,  marker = 'o',label = 'Phi', c='None', edgecolors='k')\n",
    "\n",
    "r = phi.query(\"Name.str.contains('ken') & not Name.str.contains('raw')\")\n",
    "r.loc[:,'date'] = pd.to_datetime('1/1/1969') + pd.to_timedelta(r.Name.apply(lambda x:float(x.split(':')[-1])), unit = 'D')\n",
    "ax = r.query(\"Measured>-10\").plot.scatter(x = 'date', y = 'Measured', title = 'kenwood', label = 'Measured')\n",
    "r.query(\"Measured>-10\").plot.scatter(x = 'date', y = 'Modelled', ax = ax, c = 'r',label = 'Modelled')\n",
    "ax2 = ax.twinx()\n",
    "r.query(\"Measured>-10\").plot.scatter(x = 'date', y = 'phi', ax = ax2,  marker = 'o',label = 'Phi', c='None', edgecolors='k')"
   ]
  },
  {
   "cell_type": "code",
   "execution_count": null,
   "id": "35acf58e-e0f0-42c5-aa9c-8a05af5fefd4",
   "metadata": {},
   "outputs": [],
   "source": []
  },
  {
   "cell_type": "code",
   "execution_count": null,
   "id": "b4da0a41-a314-4ff8-a016-2267052bb81f",
   "metadata": {},
   "outputs": [],
   "source": [
    "phi.sum().phi"
   ]
  },
  {
   "cell_type": "code",
   "execution_count": null,
   "id": "35c728f6-795a-4ed7-a6e6-e78d48a8d1f1",
   "metadata": {},
   "outputs": [],
   "source": [
    "phi.sort_values('phi').tail(100).set_index('Name').groupby('Group').plot.bar(y = 'phi', figsize = (15,6))"
   ]
  },
  {
   "cell_type": "code",
   "execution_count": null,
   "id": "98ff9486-7b85-4c54-a7c4-abaa63375a2c",
   "metadata": {},
   "outputs": [],
   "source": [
    "tot = phi.drop(columns = 'Name').groupby('Group').sum()\n",
    "tot"
   ]
  },
  {
   "cell_type": "code",
   "execution_count": null,
   "id": "101104dd-caef-463a-9ce8-4a116cffb868",
   "metadata": {},
   "outputs": [],
   "source": [
    "tot.phi/tot.phi.sum()"
   ]
  },
  {
   "cell_type": "code",
   "execution_count": null,
   "id": "d1609305-771b-4be5-93ac-efaccfed1d23",
   "metadata": {},
   "outputs": [],
   "source": [
    "pst_out"
   ]
  },
  {
   "cell_type": "markdown",
   "id": "f930420c-ceef-4725-b697-8d8bfbaba88f",
   "metadata": {},
   "source": [
    "\n",
    "Unfortunately, in this case we have too many observation groups to easily display (we assigned each individual time series to its own observation group; this is a default setting in `pyemu.PstFrom`). \n",
    "\n",
    "So let's use `Pandas` to help us sumamrize this information (note: `pyemu.plot_utils.res_phi_pie()` does the same thing, but it looks a bit ugly because of the large number of observation groups). To make it easier, we are going to just look at the nonzero observation groups:"
   ]
  },
  {
   "cell_type": "code",
   "execution_count": null,
   "id": "5ff1eced-9f97-4c8b-8601-f844f10e1a16",
   "metadata": {},
   "outputs": [],
   "source": [
    "nnz_phi_components = {k:pst_out.phi_components[k] for k in pst_out.nnz_obs_groups} # that's a dictionary comprehension there y'all\n",
    "nnz_phi_components"
   ]
  },
  {
   "cell_type": "markdown",
   "id": "773ef49e-e81b-4185-80be-e06517c328ee",
   "metadata": {},
   "source": [
    "And while we are at it, plot these in a pie chart. \n",
    "\n",
    "If you wish, try displaying this with `pyemu.plot_utils.res_phi_pie()` instead. Because of the large number of columns it's not going to be pretty, but it gets the job done."
   ]
  },
  {
   "cell_type": "code",
   "execution_count": null,
   "id": "1711f4f2-a649-4b1c-a401-3c0487b23646",
   "metadata": {},
   "outputs": [],
   "source": [
    "import matplotlib.pyplot as plt"
   ]
  },
  {
   "cell_type": "code",
   "execution_count": null,
   "id": "17c9827f-5799-4f6c-8f5d-59ac8e5e3ccf",
   "metadata": {},
   "outputs": [],
   "source": [
    "phicomp = pd.Series(nnz_phi_components)\n",
    "plt.pie(phicomp, labels=phicomp.index.values);\n",
    "#pyemu.plot_utils.res_phi_pie(pst,);"
   ]
  },
  {
   "cell_type": "markdown",
   "id": "c35fbe2e-8848-497a-9640-d4983c5e03b9",
   "metadata": {},
   "source": [
    "Well that is certainly not ideal - phi is dominated by the SFR observation groups. Why? Because the magnitude of these observation values are much larger than groundwater-level based observations, so we can expect the residuals in SFR observations to be yuge compared to groundwater level residuals...and we assigned the same weight to all of them...\n",
    "\n",
    "Now we have some choices to make.  In many settings, there are certain observations (or observation groups) that are of increased importance, whether its for predictive reasons (like some data are more similar to the predictive outputs from the modeling) or political - \"show me obs vs sim for well XXX\"...If this is the case, then it is probably important to give those observations a larger portion of the composite objective function so that the results of the history matching better reproduce those important observations.  \n",
    "\n",
    "In this set of notebooks, we will use another very common approach: give all observations groups an equal portion of the composite objective function.  This basically says \"all of the different observation groups are important, so do your best with all of them\"\n",
    "\n",
    "The `Pst.adjust_weights()` method provides a mechanism to fine tune observation weights according to their contribution to the objective function. (*Side note: the PWTADJ1 utility from the PEST-suite automates this same process of \"weighting for visibility\".*) \n",
    "\n",
    "We start by creating a dictionary of non-zero weighted observation group names and their respective contributions to the objective function. Herein, we will use the existing composite phi value as the target composite phi...\n"
   ]
  },
  {
   "cell_type": "code",
   "execution_count": null,
   "id": "86b93fcb-c562-4ac8-bd0e-855ef0db8f0b",
   "metadata": {},
   "outputs": [],
   "source": [
    "pst_out = pyemu.Pst(os.path.join(template_ws, 'ies.pst'))\n",
    "pst_out.phi"
   ]
  },
  {
   "cell_type": "code",
   "execution_count": null,
   "id": "4eac4107-379f-43e8-a203-0ff07cac6ee9",
   "metadata": {},
   "outputs": [],
   "source": [
    "frac_sfr_obs = pst.observation_data.query(\"obgnme=='kenwood_log' & weight>0\").shape[0]/pst.observation_data.query(\"obgnme=='aguacal_log' & weight>0\").shape[0]"
   ]
  },
  {
   "cell_type": "code",
   "execution_count": null,
   "id": "1cda0afe-37d7-4e09-a3d5-91ac8a12a363",
   "metadata": {},
   "outputs": [],
   "source": []
  },
  {
   "cell_type": "code",
   "execution_count": null,
   "id": "96dba444-8db9-43cd-b38a-af2a7766b584",
   "metadata": {},
   "outputs": [],
   "source": []
  },
  {
   "cell_type": "code",
   "execution_count": null,
   "id": "42682f68-5562-42c1-872c-d1784c28b312",
   "metadata": {},
   "outputs": [],
   "source": [
    "# create a dictionary of group names and weights\n",
    "contrib_per_group = pst_out.phi / float(len(pst_out.nnz_obs_groups))\n",
    "balanced_groups = {grp:contrib_per_group for grp in pst_out.nnz_obs_groups}\n",
    "balanced_groups['hds'] = balanced_groups['hds']*10\n",
    "# balanced_groups['kenwood_log'] = balanced_groups['kenwood_log']\n",
    "balanced_groups['aguacal_log'] = balanced_groups['aguacal_log']*10\n",
    "\n",
    "balanced_groups['kenwood_log'] = balanced_groups['aguacal_log']*frac_sfr_obs\n",
    "# {x:v*3 if 'eside' in x else x:v for x,v in balanced_groups.items()}\n",
    "\n",
    "balanced_groups = { key:(value*3 if 'eastside' in key\n",
    "          else value) for key, value in balanced_groups.items() }\n",
    "\n",
    "balanced_groups = { key:(value*3 if 'bay' in key\n",
    "          else value) for key, value in balanced_groups.items() }"
   ]
  },
  {
   "cell_type": "code",
   "execution_count": null,
   "id": "3fc380e8-8243-4e45-910d-991380041234",
   "metadata": {},
   "outputs": [],
   "source": [
    "\n",
    "phicomp_pre = pd.Series({k:pst_out.phi_components[k] for k in pst_out.nnz_obs_groups})\n"
   ]
  },
  {
   "cell_type": "code",
   "execution_count": null,
   "id": "00898f6d-3275-4295-b44f-7c5be583e259",
   "metadata": {},
   "outputs": [],
   "source": [
    "# make all non-zero weighted groups have a contribution of 100.0\n",
    "pst_out.adjust_weights(obsgrp_dict=balanced_groups,)"
   ]
  },
  {
   "cell_type": "code",
   "execution_count": null,
   "id": "44cbd27c-7572-4dcb-a89d-f6f0923c3532",
   "metadata": {},
   "outputs": [],
   "source": [
    "phicomp = pd.Series({k:pst_out.phi_components[k] for k in pst_out.nnz_obs_groups})"
   ]
  },
  {
   "cell_type": "code",
   "execution_count": null,
   "id": "9a88b042-3d2c-4b74-a38a-8b22e89d8314",
   "metadata": {},
   "outputs": [],
   "source": [
    "\n",
    "\n",
    "phoebe = phicomp.to_frame('post').join(phicomp_pre.to_frame('pre (even weighting)'))\n",
    "\n",
    "# .plot.bar()"
   ]
  },
  {
   "cell_type": "code",
   "execution_count": null,
   "id": "8ab9ce24-a6a4-4817-94ce-ca556a1e5791",
   "metadata": {},
   "outputs": [],
   "source": []
  },
  {
   "cell_type": "markdown",
   "id": "381b07fb-32de-493c-afba-85fd283893e0",
   "metadata": {},
   "source": [
    "Let's take a look at how that has affected the contributions to Phi:"
   ]
  },
  {
   "cell_type": "code",
   "execution_count": null,
   "id": "4426c8f8-70f1-42b3-b3d4-a67cbb45b16a",
   "metadata": {},
   "outputs": [],
   "source": []
  },
  {
   "cell_type": "code",
   "execution_count": null,
   "id": "54650c7e-9c70-4da0-ade8-e2d49c3bc14d",
   "metadata": {},
   "outputs": [],
   "source": []
  },
  {
   "cell_type": "markdown",
   "id": "e7067f88-371a-4861-9011-47407d2b17f2",
   "metadata": {},
   "source": [
    "The next cell adds in a column to the `pst.observation_data` for checking purposes in subsequent tutorials. In practice, when you have lots of model outputs treated as \"obserations\" in the pest control file, setting a flag to indicate exactly which observation quantities correspond to actual real-world information can be important for tracking things through your workflow..."
   ]
  },
  {
   "cell_type": "markdown",
   "id": "d2a5f007-eb5e-4a39-9b5c-325ee062de24",
   "metadata": {},
   "source": [
    "### Understanding Observation Weights and Measurement Noise\n",
    "\n",
    "Let's have a look at what weight values were assigned to our observation groups:"
   ]
  },
  {
   "cell_type": "code",
   "execution_count": null,
   "id": "b6730636-c350-4667-8202-72530e7981d9",
   "metadata": {},
   "outputs": [],
   "source": [
    "obs = pst_out.observation_data\n",
    "for group in pst_out.nnz_obs_groups:\n",
    "    print(group,f\"{obs.loc[obs.obgnme==group,'weight'].max():,.1f}\")"
   ]
  },
  {
   "cell_type": "markdown",
   "id": "3b4fc4fb-9193-4ba9-89c4-5048cdfaef82",
   "metadata": {},
   "source": [
    "# here are the weights that should be set\n",
    "\n",
    "| Name          | Value |\n",
    "|:--------------|:------|\n",
    "| hds           | 28    |\n",
    "| aguacal_log   | 2783  |\n",
    "| kenwood_log   | 1556  |"
   ]
  },
  {
   "cell_type": "markdown",
   "id": "a9570566-23f7-4113-99b8-3ddc3980087b",
   "metadata": {},
   "source": [
    "Ok, some variability there, and, as expected, the sfr flowout observations have been given a very low weight and the groundwater level obs have been given a very high weight - this is simply to overcome the difference in magnitudes between these two different data types.  All good...or is it?\n",
    "\n",
    "In standard deterministic parameter estimation, only the relative difference between the weights matters, so we are fine there...but in uncertainty analysis, we often want to account for the contribution from measurement noise and we havent told any of the pest++ tools not to use the inverse of the weights to approximate measurement noise, and this is a problem because those weights we assigned have no relation to measurement noise!  This can cause massive problems later, especially is you are using explicit noise realizations in uncertainty analysis - Imagine how much SFR flow noise is implied by that tiny weight?  It's easy to see how negative SFR flow noise values might be drawn with that small of a weight (high of a standard deviation) #badtimes.   \n",
    "\n",
    "So what can we do?  Well there are options.  An easy way is to simply supply a \"standard_deviation\" column in the `pst.observation_data` dataframe that will cause these values to be used to represent measurement noise.  "
   ]
  },
  {
   "cell_type": "code",
   "execution_count": null,
   "id": "936a158a-6c8b-411e-87fa-1d83914f81ce",
   "metadata": {},
   "outputs": [],
   "source": [
    "pst_out.control_data.noptmax = 3"
   ]
  },
  {
   "cell_type": "code",
   "execution_count": null,
   "id": "87b667fd-75fc-4ec0-863b-1b69ffc5c99c",
   "metadata": {},
   "outputs": [],
   "source": [
    "pst_out.write(os.path.join(template_ws, \"blast.pst\"),version=2)"
   ]
  },
  {
   "cell_type": "code",
   "execution_count": null,
   "id": "0dcaa282-5bf7-4201-917f-7434f7d5ed3d",
   "metadata": {},
   "outputs": [],
   "source": [
    "\n",
    "\n",
    "\n",
    "mast = pd.read_csv(r\"C:\\GSP\\sv\\model\\update_2024\\scripts\\master\\pest_ies.0.par.csv\").set_index('real_name')\n",
    "temp = pd.read_csv(r\"C:\\GSP\\sv\\model\\update_2024\\scripts\\pestrunv4\\pest_ies.0.par.csv\").set_index('real_name')\n",
    "\n",
    "mast = mast.loc[['base']].T\n",
    "temp = temp.loc[['base']].T"
   ]
  },
  {
   "cell_type": "code",
   "execution_count": null,
   "id": "bccc9757-2ff0-4455-91ec-5479c7a94af4",
   "metadata": {},
   "outputs": [],
   "source": [
    "j = mast.join(temp,rsuffix =  'temp' )\n",
    "j.loc[:,'ratio'] = j.loc[:,'base']/j.loc[:,'basetemp']\n",
    "bad = j.loc[j.ratio!=1]\n",
    "pd.Series(bad.index.map(lambda x:x[0:3])).unique()"
   ]
  },
  {
   "cell_type": "code",
   "execution_count": null,
   "id": "6bbaf3de-55c9-4012-9190-4ed0461b72ad",
   "metadata": {},
   "outputs": [],
   "source": [
    "### saving the new control file"
   ]
  },
  {
   "cell_type": "code",
   "execution_count": null,
   "id": "6633cfb3-bae5-40c5-9fbb-49855b31edfa",
   "metadata": {},
   "outputs": [],
   "source": [
    "mast = pd.read_csv(r\"C:\\GSP\\sv\\model\\update_2024\\scripts\\master\\pest_ies.par_data.csv\")\n",
    "temp = pd.read_csv(r\"C:\\GSP\\sv\\model\\update_2024\\scripts\\pestrunv2\\pest_ies.par_data.csv\")"
   ]
  },
  {
   "cell_type": "code",
   "execution_count": null,
   "id": "d7c99241-3b55-4889-b321-f5483b2b9d8f",
   "metadata": {},
   "outputs": [],
   "source": [
    "mast = mast.set_index('parnme').loc[:,['parval1', 'pargp']]\n",
    "temp = temp.set_index('parnme').loc[:,['parval1']]"
   ]
  },
  {
   "cell_type": "code",
   "execution_count": null,
   "id": "5ab87f64-3ec6-49ff-82d1-53bc550a5177",
   "metadata": {},
   "outputs": [],
   "source": [
    "j = mast.join(temp,rsuffix =  'temp' )"
   ]
  },
  {
   "cell_type": "code",
   "execution_count": null,
   "id": "623f545c-09b2-405a-9a4f-1bb0575df920",
   "metadata": {},
   "outputs": [],
   "source": [
    "j.loc[:,'ratio'] = j.loc[:,'parval1']/j.loc[:,'parval1temp']"
   ]
  },
  {
   "cell_type": "code",
   "execution_count": null,
   "id": "68f11785-d74b-4dc3-a672-51260ae6531d",
   "metadata": {},
   "outputs": [],
   "source": [
    "bad = j.loc[j.ratio!=1]"
   ]
  },
  {
   "cell_type": "code",
   "execution_count": null,
   "id": "75af840b-6bd4-4e28-bb21-3c400dc797cc",
   "metadata": {},
   "outputs": [],
   "source": [
    "bad.sort_values('ratio').groupby('pargp').mean()"
   ]
  },
  {
   "cell_type": "code",
   "execution_count": null,
   "id": "5e91f095-d888-47c0-9694-7d435d5a6868",
   "metadata": {},
   "outputs": [],
   "source": [
    "ml.dis.itmuni"
   ]
  },
  {
   "cell_type": "code",
   "execution_count": null,
   "id": "8319b5c0-36d5-450a-9d37-9af0ac4f754c",
   "metadata": {},
   "outputs": [],
   "source": [
    "n = np.ones(vktemp.shape)*0.0033"
   ]
  },
  {
   "cell_type": "code",
   "execution_count": null,
   "id": "3d6ff642-e84d-4fc1-9aa2-76ee830e89dc",
   "metadata": {},
   "outputs": [],
   "source": [
    "np.savetxt(r\"C:\\GSP\\sv\\model\\update_2024\\scripts\\pestrunv2\\pp2024_out\\fmp_vk.txt\", n)"
   ]
  },
  {
   "cell_type": "code",
   "execution_count": null,
   "id": "3a34fbba-2fe7-45fd-ba00-408bcb9a80ad",
   "metadata": {},
   "outputs": [],
   "source": [
    "vkmast = np.genfromtxt(r\"C:\\GSP\\sv\\model\\update_2024\\scripts\\master\\pp2024_out\\fmp_vk.txt\")\n",
    "vktemp = np.genfromtxt(r\"C:\\GSP\\sv\\model\\update_2024\\scripts\\pestrunv3\\pp2024_out\\fmp_vk.txt\")\n",
    "vkmast[vkmast>1e10] = np.nan\n",
    "vktemp[vktemp>1e10] = np.nan"
   ]
  },
  {
   "cell_type": "code",
   "execution_count": null,
   "id": "5c473242-009e-48c2-8b66-47ba60091a1e",
   "metadata": {},
   "outputs": [],
   "source": [
    "np.unique(vkmast.ravel())"
   ]
  },
  {
   "cell_type": "code",
   "execution_count": null,
   "id": "c4556157-f956-492d-bd4c-e5cc3dff6467",
   "metadata": {},
   "outputs": [],
   "source": [
    "v = (vkmast/vktemp).ravel()\n",
    "v = v[~np.isnan(v)]"
   ]
  },
  {
   "cell_type": "code",
   "execution_count": null,
   "id": "f7b66559-4041-45ce-b3a2-a9c398167322",
   "metadata": {},
   "outputs": [],
   "source": [
    "dd = vktemp[~np.isnan(vktemp)].ravel()"
   ]
  },
  {
   "cell_type": "code",
   "execution_count": null,
   "id": "0a70077c-c363-47b8-bf9e-8211e999c71d",
   "metadata": {},
   "outputs": [],
   "source": [
    "import matplotlib.pyplot as plt"
   ]
  },
  {
   "cell_type": "code",
   "execution_count": null,
   "id": "ad35b75f-215d-4e30-9b0d-5bed46e32064",
   "metadata": {},
   "outputs": [],
   "source": [
    "plt.scatter(np.arange(0,100,10), np.percentile(dd, np.arange(0,100,10)))"
   ]
  },
  {
   "cell_type": "code",
   "execution_count": null,
   "id": "b581d12b-df5b-4fcf-b7bb-f6ef5f335358",
   "metadata": {},
   "outputs": [],
   "source": [
    "summary = pst.write_par_summary_table(filename=\"par.tex\", report_in_linear_space = True)"
   ]
  },
  {
   "cell_type": "code",
   "execution_count": null,
   "id": "520a2e39-0586-4dcd-aff6-f309ac73f8fc",
   "metadata": {},
   "outputs": [],
   "source": [
    "summary"
   ]
  },
  {
   "cell_type": "code",
   "execution_count": null,
   "id": "27cbd248-22db-462d-a4c8-5a8319ee2eae",
   "metadata": {},
   "outputs": [],
   "source": [
    "mast = pyemu.Pst(r\"C:\\GSP\\sv\\model\\update_2024\\scripts\\master\\pest_ies.pst\")"
   ]
  },
  {
   "cell_type": "code",
   "execution_count": null,
   "id": "8c305594-107e-4e32-9dd7-fe87fbbb59c9",
   "metadata": {},
   "outputs": [],
   "source": [
    "dates = pd.date_range('12/1/1969', freq = 'M', periods  =586)\n",
    "dates[-48:]"
   ]
  },
  {
   "cell_type": "code",
   "execution_count": null,
   "id": "b400bf2c-9b8d-402d-be55-7374ae429a9b",
   "metadata": {},
   "outputs": [],
   "source": [
    "586-24\n"
   ]
  },
  {
   "cell_type": "code",
   "execution_count": null,
   "id": "82e09e0f-ed4d-4a94-b074-03386f839e6c",
   "metadata": {},
   "outputs": [],
   "source": []
  }
 ],
 "metadata": {
  "kernelspec": {
   "display_name": "Python 3 (ipykernel)",
   "language": "python",
   "name": "python3"
  },
  "language_info": {
   "codemirror_mode": {
    "name": "ipython",
    "version": 3
   },
   "file_extension": ".py",
   "mimetype": "text/x-python",
   "name": "python",
   "nbconvert_exporter": "python",
   "pygments_lexer": "ipython3",
   "version": "3.9.19"
  }
 },
 "nbformat": 4,
 "nbformat_minor": 5
}
