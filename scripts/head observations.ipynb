{
 "cells": [
  {
   "cell_type": "code",
   "execution_count": null,
   "id": "14de608b-3551-4a7c-b350-77f2ddfc7a9c",
   "metadata": {
    "editable": true,
    "slideshow": {
     "slide_type": ""
    },
    "tags": []
   },
   "outputs": [],
   "source": [
    "import pyemu\n",
    "import conda_scripts.load_datasets as lsd\n",
    "import os\n",
    "import pandas as pd"
   ]
  },
  {
   "cell_type": "code",
   "execution_count": null,
   "id": "39c74509-63c6-4028-9fb0-72b9ccb15abe",
   "metadata": {},
   "outputs": [],
   "source": [
    "workspace = lsd.model_info.get_mod('son', True)\n",
    "workspace"
   ]
  },
  {
   "cell_type": "code",
   "execution_count": null,
   "id": "d37a024b-4e68-47a1-b31f-f47981334189",
   "metadata": {},
   "outputs": [],
   "source": [
    "pst = pyemu.pst"
   ]
  },
  {
   "cell_type": "code",
   "execution_count": null,
   "id": "32c32415-5e32-4b69-97c8-457b69166468",
   "metadata": {},
   "outputs": [],
   "source": [
    "# specify a template directory (i.e. the PstFrom working folder)\n",
    "template_ws = os.path.join(\"temp\")\n",
    "start_datetime=\"1-1-2008\"\n",
    "# instantiate PstFrom\n",
    "pf = pyemu.utils.PstFrom(original_d=workspace, # where the model is stored\n",
    "                            new_d=template_ws, # the PEST template folder\n",
    "                            remove_existing=True, # ensures a clean start\n",
    "                            longnames=False, # set False if using PEST/PEST_HP\n",
    "                            # spatial_reference=sr, #the spatial reference we generated earlier\n",
    "                            zero_based=False, # does the MODEL use zero based indices? For example, MODFLOW does NOT\n",
    "                            start_datetime=start_datetime, # required when specifying temporal correlation between parameters\n",
    "                            echo=False) # to stop PstFrom from writting lots of infromation to the notebook; experiment by setting it as True to see the difference; usefull for troubleshooting"
   ]
  },
  {
   "cell_type": "code",
   "execution_count": null,
   "id": "8af9ffdb-8542-455e-8007-190f88233365",
   "metadata": {},
   "outputs": [],
   "source": [
    "pd.read_csv(os.path.join(workspace,'output',\"SV_HOBS_all._os\"), sep = '\\s+').columns"
   ]
  },
  {
   "cell_type": "code",
   "execution_count": null,
   "id": "bddce3be-aa54-4ffd-bcdb-28649206aeab",
   "metadata": {},
   "outputs": [],
   "source": [
    "from pyemu.pst.pst_utils import (\n",
    "    SFMT,\n",
    "    IFMT,\n",
    "    FFMT,\n",
    "    pst_config,\n",
    "    parse_tpl_file,\n",
    "    try_process_output_file,\n",
    ")"
   ]
  },
  {
   "cell_type": "code",
   "execution_count": null,
   "id": "7eb876dc-c749-4151-9988-b93a1dc0c386",
   "metadata": {},
   "outputs": [],
   "source": [
    "\n",
    "def modflow_hob_to_instruction_file(hob_file, ins_file=None):\n",
    "    \"\"\"write an instruction file for a modflow head observation file\n",
    "\n",
    "    Args:\n",
    "        hob_file (`str`): the path and name of the existing modflow hob file\n",
    "        ins_file (`str`, optional): the name of the instruction file to write.\n",
    "            If `None`, `hob_file` +\".ins\" is used.  Default is `None`.\n",
    "\n",
    "    Returns:\n",
    "        **pandas.DataFrame**: a dataFrame with control file observation information\n",
    "\n",
    "    \"\"\"\n",
    "\n",
    "    hob_df = pd.read_csv(\n",
    "        hob_file,\n",
    "        sep=r\"\\s+\",\n",
    "        skiprows=1,\n",
    "        header=None,\n",
    "        names=[\"simval\", \"obsval\", \"obsnme\", \"date\",'decimal_year'],\n",
    "    )\n",
    "\n",
    "    hob_df.loc[:, \"obsnme\"] = hob_df.obsnme.apply(str.lower)\n",
    "    hob_df.loc[:, \"ins_line\"] = hob_df.obsnme.apply(lambda x: \"l1 !{0:s}!\".format(x))\n",
    "    hob_df.loc[0, \"ins_line\"] = hob_df.loc[0, \"ins_line\"].replace(\"l1\", \"l2\")\n",
    "\n",
    "    if ins_file is None:\n",
    "        ins_file = hob_file + \".ins\"\n",
    "    f_ins = open(ins_file, \"w\")\n",
    "    f_ins.write(\"pif ~\\n\")\n",
    "    f_ins.write(\n",
    "        hob_df.loc[:, [\"ins_line\"]].to_string(\n",
    "            col_space=0,\n",
    "            columns=[\"ins_line\"],\n",
    "            header=False,\n",
    "            index=False,\n",
    "            formatters=[SFMT],\n",
    "        )\n",
    "        + \"\\n\"\n",
    "    )\n",
    "    hob_df.loc[:, \"weight\"] = 1.0\n",
    "    hob_df.loc[:, \"obgnme\"] = \"obgnme\"\n",
    "    f_ins.close()\n",
    "    return hob_df"
   ]
  },
  {
   "cell_type": "code",
   "execution_count": null,
   "id": "6bf6ca63-2e68-4394-812d-a61732b2e328",
   "metadata": {},
   "outputs": [],
   "source": []
  },
  {
   "cell_type": "code",
   "execution_count": null,
   "id": "02037d0a-700e-4a56-a25e-b9a8ee276a6e",
   "metadata": {},
   "outputs": [],
   "source": [
    "hob_df =modflow_hob_to_instruction_file(os.path.join(workspace,'output',\"SV_HOBS_all._os\"))"
   ]
  },
  {
   "cell_type": "code",
   "execution_count": null,
   "id": "666cf08b-1dde-4ac9-9a93-09503cf98294",
   "metadata": {
    "editable": true,
    "slideshow": {
     "slide_type": ""
    },
    "tags": []
   },
   "outputs": [],
   "source": [
    "template_ws = os.path.join(\"freyberg6_template\")\n",
    "\n",
    "hds_df = pf.add_observations(os.path.join('output',\"SV_HOBS_all._os\"), # the model output file to read\n",
    "                             # new_d=template_ws, # the PEST template folder,\n",
    "                            insfile=\"SV_hyd.hyd.ins4j\", #optional, the instruction file name\n",
    "                            index_cols=r\"OBSERVATIONNAME\", #column header to use as index; can also use column number (zero-based) instead of the header name\n",
    "                            use_cols=r\"SIMULATEDEQUIVALENT\", #names of columns that include observation values; can also use column number (zero-based) instead of the header name\n",
    "                             ofile_sep = '\\s+',\n",
    "                            prefix=\"hds\") #prefix to all observation names; choose something logical and easy to find. We use it later on to select obsevrations"
   ]
  },
  {
   "cell_type": "code",
   "execution_count": null,
   "id": "9bd9a0d9-0a3e-471a-b9b3-d6f68ea33921",
   "metadata": {},
   "outputs": [],
   "source": [
    "import conda_scripts"
   ]
  },
  {
   "cell_type": "code",
   "execution_count": null,
   "id": "daabbc1b-f237-4254-a713-dd89e1d2336c",
   "metadata": {},
   "outputs": [],
   "source": [
    "conda_scripts.arich_functions.get_flopy_model_spatial_reference()"
   ]
  },
  {
   "cell_type": "code",
   "execution_count": null,
   "id": "db1e68c8-765f-489a-8c68-e30af26c7a46",
   "metadata": {},
   "outputs": [],
   "source": []
  },
  {
   "cell_type": "code",
   "execution_count": null,
   "id": "82e75a4e-dab7-4484-a9c2-31e9f830def1",
   "metadata": {},
   "outputs": [],
   "source": [
    "ml = conda_scripts.sv_budget.load_sv_model.get_model(workspace)\n",
    "ml.external_path= 'rech_arrays'"
   ]
  },
  {
   "cell_type": "code",
   "execution_count": null,
   "id": "3c166249-53b1-4647-ad29-cab841108e78",
   "metadata": {},
   "outputs": [],
   "source": [
    "import flopy"
   ]
  },
  {
   "cell_type": "code",
   "execution_count": null,
   "id": "8386daca-5faf-4e38-baad-6b84a8566d0a",
   "metadata": {},
   "outputs": [],
   "source": [
    "bas = flopy.modflow.ModflowRch.load(os.path.join(ml.model_ws,\"SVIGFM_GSP.rch\"),ml, )"
   ]
  },
  {
   "cell_type": "code",
   "execution_count": null,
   "id": "d6a25e75-0ec3-4f05-af3e-5965c9235df5",
   "metadata": {},
   "outputs": [],
   "source": []
  },
  {
   "cell_type": "code",
   "execution_count": null,
   "id": "160b3c0a-66e5-4009-b148-b431ca5e9406",
   "metadata": {},
   "outputs": [],
   "source": [
    "for i in range(590):\n",
    "    bas.rech[i].how = 'openclose'"
   ]
  },
  {
   "cell_type": "code",
   "execution_count": null,
   "id": "c5c74046-0402-4f78-9af2-14af35286ae7",
   "metadata": {},
   "outputs": [],
   "source": []
  },
  {
   "cell_type": "code",
   "execution_count": null,
   "id": "78e9db83-b1e1-4e51-b1b9-e3e673c779fc",
   "metadata": {},
   "outputs": [],
   "source": [
    "\n",
    "\n"
   ]
  },
  {
   "cell_type": "code",
   "execution_count": null,
   "id": "a4484f5d-9013-4ef5-9281-99a700b1f3cc",
   "metadata": {},
   "outputs": [],
   "source": [
    "bas.write_file()"
   ]
  },
  {
   "cell_type": "code",
   "execution_count": null,
   "id": "848b47df-2076-4733-8f84-bedccffdbc39",
   "metadata": {},
   "outputs": [],
   "source": []
  }
 ],
 "metadata": {
  "kernelspec": {
   "display_name": "Python 3 (ipykernel)",
   "language": "python",
   "name": "python3"
  },
  "language_info": {
   "codemirror_mode": {
    "name": "ipython",
    "version": 3
   },
   "file_extension": ".py",
   "mimetype": "text/x-python",
   "name": "python",
   "nbconvert_exporter": "python",
   "pygments_lexer": "ipython3",
   "version": "3.9.19"
  }
 },
 "nbformat": 4,
 "nbformat_minor": 5
}
