{
 "cells": [
  {
   "cell_type": "code",
   "execution_count": null,
   "id": "0",
   "metadata": {},
   "outputs": [],
   "source": [
    "import helpers\n",
    "import conda_scripts\n",
    "import conda_scripts.load_datasets as lsd\n",
    "workspace = lsd.model_info.get_mod('son', True)\n",
    "\n",
    "\n",
    "ml = conda_scripts.sv_budget.load_sv_model.get_model(workspace)"
   ]
  },
  {
   "cell_type": "code",
   "execution_count": null,
   "id": "1",
   "metadata": {},
   "outputs": [],
   "source": [
    "z= helpers.get_zones(ml)"
   ]
  },
  {
   "cell_type": "code",
   "execution_count": null,
   "id": "2",
   "metadata": {},
   "outputs": [],
   "source": []
  },
  {
   "cell_type": "code",
   "execution_count": null,
   "id": "3",
   "metadata": {},
   "outputs": [],
   "source": [
    "import matplotlib.pyplot as plt\n",
    "fig = plt.figure(figsize = (6,8), dpi = 250)\n",
    "mm= conda_scripts.make_map.make_map('Zones')\n",
    "ax = mm.plotloc(fig, locname = 'SON_MOD')\n",
    "z.dissolve('name').reset_index().plot('name',  ax = ax, alpha = .5)\n",
    "z.dissolve('name').reset_index().exterior.plot( ax = ax, alpha = .5)\n",
    "conda_scripts.plot_help.label_poly(z.dissolve('name').reset_index(),ax, column = 'name')\n",
    "\n",
    "plt.savefig('zones.png', dpi = 250, bbox_inches = 'tight')"
   ]
  }
 ],
 "metadata": {
  "kernelspec": {
   "display_name": "Python 3 (ipykernel)",
   "language": "python",
   "name": "python3"
  },
  "language_info": {
   "codemirror_mode": {
    "name": "ipython",
    "version": 3
   },
   "file_extension": ".py",
   "mimetype": "text/x-python",
   "name": "python",
   "nbconvert_exporter": "python",
   "pygments_lexer": "ipython3",
   "version": "3.9.19"
  }
 },
 "nbformat": 4,
 "nbformat_minor": 5
}
