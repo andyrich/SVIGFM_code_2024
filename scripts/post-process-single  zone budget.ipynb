{
 "cells": [
  {
   "cell_type": "code",
   "execution_count": null,
   "id": "0",
   "metadata": {},
   "outputs": [],
   "source": [
    "import pyemu\n",
    "import conda_scripts.load_datasets as lsd\n",
    "import os\n",
    "import pandas as pd\n",
    "import numpy as np\n",
    "import conda_scripts\n",
    "import forward_run\n",
    "import matplotlib.pyplot as plt\n",
    "import conda_scripts.plot_help as ph\n",
    "from conda_scripts import sv_budget\n",
    "import matplotlib as mpl\n",
    "import numpy as np\n",
    "import shutil\n",
    "import geopandas as gpd\n",
    "import flopy.utils.binaryfile as bf\n",
    "import flopy\n",
    "import helpers"
   ]
  },
  {
   "cell_type": "code",
   "execution_count": null,
   "id": "1",
   "metadata": {},
   "outputs": [],
   "source": [
    "workspace = lsd.model_info.get_mod('son', True)\n",
    "workspace"
   ]
  },
  {
   "cell_type": "code",
   "execution_count": null,
   "id": "2",
   "metadata": {},
   "outputs": [],
   "source": [
    "import matplotlib.pyplot as plt\n",
    "\n",
    "%matplotlib inline"
   ]
  },
  {
   "cell_type": "code",
   "execution_count": null,
   "id": "3",
   "metadata": {},
   "outputs": [],
   "source": [
    "ml = conda_scripts.sv_budget.load_sv_model.get_model(workspace)"
   ]
  },
  {
   "cell_type": "code",
   "execution_count": null,
   "id": "4",
   "metadata": {},
   "outputs": [],
   "source": [
    "z = helpers.get_zones(ml)\n",
    "\n",
    "zeros = np.zeros((ml.nrow, ml.ncol), dtype = int)\n",
    "\n",
    "zeros[z.loc[:,'row']-1, z.loc[:,'column']-1] = z.zone"
   ]
  },
  {
   "cell_type": "code",
   "execution_count": null,
   "id": "5",
   "metadata": {},
   "outputs": [],
   "source": [
    "    znames = z.set_index('zone').drop_duplicates('name').loc[:,'name'].to_dict()\n",
    "    \n",
    "    aliases = {lay*10+zint:f\"{lay}_{znames[zint]}\"  for zint in znames.keys() for lay in np.arange(0, 6)  }\n",
    "    \n",
    "    aliases"
   ]
  },
  {
   "cell_type": "code",
   "execution_count": null,
   "id": "6",
   "metadata": {},
   "outputs": [],
   "source": [
    "\n",
    "def get_zone_bud_by_lay_zone(workspace):\n",
    "    '''\n",
    "    process zone budget of sv modflow output\n",
    "    '''\n",
    "\n",
    "    start_datetime_df = '12/1/1969'\n",
    "    print(f'the start date time for the zone budget dataframe is {start_datetime_df}')\n",
    "\n",
    "    zones_2020 = np.zeros([6, 275, 85], dtype=int)\n",
    "\n",
    "    z = helpers.get_zones(ml)\n",
    "    zeros = np.zeros((ml.nrow, ml.ncol), dtype = int)\n",
    "    zeros[z.loc[:,'row']-1, z.loc[:,'column']-1] = z.zone\n",
    "    \n",
    "    #todo fix zonation_gwbasin_lay_\n",
    "\n",
    "    for lay in np.arange(0, 6):\n",
    "        zones_2020[lay, :, :] = lay*10\n",
    "        zones_2020[lay, :, :] = zones_2020[lay, :, :] + zeros\n",
    "\n",
    "    znames = z.set_index('zone').drop_duplicates('name').loc[:,'name'].to_dict()\n",
    "    \n",
    "    aliases = {lay*10+zint:f\"{lay}_{znames[zint]}\"  for zint in znames.keys() for lay in np.arange(0, 6)  }\n",
    "    \n",
    "    aliases\n",
    "\n",
    "    cb_f = os.path.join(workspace, 'output', 'sv_model_grid_6layers.cbb')\n",
    "    cbb = bf.CellBudgetFile(cb_f, verbose=False)\n",
    "\n",
    "    # allones = np.ones((ml.dis.nrow,ml.dis.ncol),dtype = int)\n",
    "    zb_whole = flopy.utils.ZoneBudget(cbb, zones_2020, aliases=aliases, totim = cbb.get_times())\n",
    "    zb_df = zb_whole.get_dataframes(start_datetime=start_datetime_df, timeunit='D').multiply(1 / 43560.)\n",
    "\n",
    "    wy = forward_run.water_year(zb_df.index.get_level_values(0))\n",
    "    zb_df.loc[:, 'Water Year'] = pd.to_datetime(wy, format='%Y')\n",
    "    zb_df = zb_df.set_index('Water Year', append=True)\n",
    "    days = zb_df.index.get_level_values(0).daysinmonth\n",
    "    zb_df.loc[:, 'Days'] = days\n",
    "    zb_df = zb_df.multiply(zb_df.Days, axis='index')\n",
    "    zb_df.index = zb_df.index.droplevel(0)\n",
    "    zb_df = zb_df.groupby(['Water Year', 'name']).sum()\n",
    "\n",
    "    # zb_df = zb_df.unstack().to_frame('term')\n",
    "\n",
    "    # out_file = os.path.join(workspace, 'output', 'zbud.csv')\n",
    "    # zb_df.to_csv(out_file)\n",
    "\n",
    "    return zb_df\n",
    "\n",
    "df = get_zone_bud_by_lay_zone(workspace)"
   ]
  },
  {
   "cell_type": "code",
   "execution_count": null,
   "id": "7",
   "metadata": {},
   "outputs": [],
   "source": []
  },
  {
   "cell_type": "code",
   "execution_count": null,
   "id": "8",
   "metadata": {},
   "outputs": [],
   "source": []
  },
  {
   "cell_type": "code",
   "execution_count": null,
   "id": "9",
   "metadata": {},
   "outputs": [],
   "source": []
  },
  {
   "cell_type": "code",
   "execution_count": null,
   "id": "10",
   "metadata": {},
   "outputs": [],
   "source": []
  },
  {
   "cell_type": "code",
   "execution_count": null,
   "id": "11",
   "metadata": {},
   "outputs": [],
   "source": []
  },
  {
   "cell_type": "code",
   "execution_count": null,
   "id": "12",
   "metadata": {},
   "outputs": [],
   "source": []
  },
  {
   "cell_type": "code",
   "execution_count": null,
   "id": "13",
   "metadata": {},
   "outputs": [],
   "source": [
    "wel = cbb.get_data(text = '        MNIWELLS', full3D  =True)"
   ]
  },
  {
   "cell_type": "code",
   "execution_count": null,
   "id": "14",
   "metadata": {},
   "outputs": [],
   "source": [
    "masked_arrays = wel"
   ]
  },
  {
   "cell_type": "code",
   "execution_count": null,
   "id": "15",
   "metadata": {},
   "outputs": [],
   "source": [
    "import numpy as np\n",
    "import xarray as xr\n",
    "import pandas as pd\n",
    "\n",
    "ml.update_modelgrid()\n",
    "xl = ml.modelgrid.get_xcellcenters_for_layer(0)\n",
    "yl = ml.modelgrid.get_ycellcenters_for_layer(0)\n",
    "\n",
    "# Assume `masked_arrays` is your list of masked arrays with shape (6, 275, 85).\n",
    "# Create a single masked array with an additional time dimension.\n",
    "\n",
    "masked_array_combined = np.ma.stack(masked_arrays, axis=0)  # Shape: (time, 6, 275, 85)\n",
    "zeros = np.ma.array(masked_array_combined, mask = np.abs(masked_array_combined.data)==0)\n",
    "\n",
    "# Generate a time index starting from 12/1/1969, with monthly frequency.\n",
    "time_index = pd.date_range(start=\"1969-12-01\", periods=len(masked_arrays), freq=\"MS\")\n",
    "\n",
    "# Create an xarray DataArray.\n",
    "data_array = xr.DataArray(\n",
    "    data=masked_array_combined,  # The combined masked array.\n",
    "    dims=(\"time\", \"layer\", \"y\", \"x\"),\n",
    "\n",
    "        coords=dict(\n",
    "            time= time_index,\n",
    "            layer= np.arange(1, 7),  # Assuming layers are numbered 1 to 6.\n",
    "        x=([ \"y\",'x'], xl),\n",
    "        y=([ \"y\",'x'], yl),\n",
    "        # time=time,\n",
    "        # reference_time=reference_time,\n",
    "        ),\n",
    "    \n",
    "    # coords={\n",
    "    #     \"time\": time_index,\n",
    "    #     \"layer\": np.arange(1, 7),  # Assuming layers are numbered 1 to 6.\n",
    "    #     \"row\": np.arange(275),\n",
    "    #     \"column\": np.arange(85),\n",
    "    # },\n",
    "    name=\"Pumping\",  # Optional name for the data array.\n",
    ")\n",
    "\n",
    "# Optionally convert to Dataset if needed.\n",
    "dataset = data_array.to_dataset()\n",
    "\n"
   ]
  },
  {
   "cell_type": "code",
   "execution_count": null,
   "id": "16",
   "metadata": {},
   "outputs": [],
   "source": []
  },
  {
   "cell_type": "code",
   "execution_count": null,
   "id": "17",
   "metadata": {},
   "outputs": [],
   "source": [
    "summed_layers.sel(time=slice(\"2000-06-01\", \"2018-06-10\")).resample(time='1Y').mean().sel(time = '2018')"
   ]
  },
  {
   "cell_type": "code",
   "execution_count": null,
   "id": "18",
   "metadata": {},
   "outputs": [],
   "source": [
    "s.where(s!=0).to_dataframe().sort_values('masked_data').dropna()*28/(43560)"
   ]
  },
  {
   "cell_type": "code",
   "execution_count": null,
   "id": "19",
   "metadata": {},
   "outputs": [],
   "source": [
    "# Assuming `data_array` is the xarray DataArray created previously.\n",
    "\n",
    "# Filter to include only layers > 1 (layers start from 2 to 6).\n",
    "filtered_layers = data_array.sel(layer=slice(2, 6))\n",
    "\n",
    "# Sum across the layer dimension.\n",
    "summed_layers = filtered_layers.sum(dim=\"layer\")\n",
    "ax = sv_budget.sv_budget.sv_mod_map(simple  = True)\n",
    "s= summed_layers.sel(time=slice(\"2000-06-01\", \"2018-06-10\")).resample(time='1Y').sum().sel(time = '2017')\n",
    "s.where(s!=0).plot(vmax = -1,ax = ax ,   cmap=\"jet\",  # Choose a colormap\n",
    "    cbar_kwargs={\"label\": \"Summed Values\",'shrink':.5},  # Customize colorbar label\n",
    ")"
   ]
  },
  {
   "cell_type": "code",
   "execution_count": null,
   "id": "20",
   "metadata": {},
   "outputs": [],
   "source": [
    "\n"
   ]
  },
  {
   "cell_type": "markdown",
   "id": "21",
   "metadata": {},
   "source": [
    "# plot summary"
   ]
  },
  {
   "cell_type": "code",
   "execution_count": null,
   "id": "22",
   "metadata": {},
   "outputs": [],
   "source": [
    "ax = df.query(\"name=='TO_FARM_WELLS'\").drop(columns = 'Days').groupby(level = 0).sum().sum(axis = 1).plot(drawstyle=\"steps-post\",label = 'Total',legend = True)\n",
    "\n",
    "\n",
    "ax.set_title('Total AG')\n",
    "ax.grid(True)"
   ]
  },
  {
   "cell_type": "code",
   "execution_count": null,
   "id": "23",
   "metadata": {},
   "outputs": [],
   "source": [
    "\n",
    "ax = df.query(\"name=='TO_RURWELLS' or name=='TO_MNIWELLS' \").drop(columns = 'Days').groupby(level = 0).sum().sum(axis = 1).plot(drawstyle=\"steps-post\",label = 'Total',legend = True)\n",
    "\n",
    "df.query(\"name=='TO_RURWELLS' or name=='TO_MNIWELLS' \").drop(columns = 'Days').groupby(level = [0,1]).sum().sum(axis = 1).to_frame('Q').unstack().droplevel(0,1).plot(drawstyle = \"steps-post\", ax = ax)\n",
    "ax.set_title('Total Rural and M&I')\n",
    "ax.grid(True)"
   ]
  },
  {
   "cell_type": "code",
   "execution_count": null,
   "id": "24",
   "metadata": {},
   "outputs": [],
   "source": [
    "from shapely.geometry import Polygon\n",
    "\n",
    "p = Polygon(ml.modelgrid.get_cell_vertices(i = 104, j = 29))\n"
   ]
  },
  {
   "cell_type": "code",
   "execution_count": null,
   "id": "25",
   "metadata": {},
   "outputs": [],
   "source": [
    "ax = sv_budget.sv_budget.sv_mod_map(simple  = True)\n",
    "\n",
    "gpd.GeoSeries(p,crs = 2226).geometry.centroid.plot(ax = ax, )"
   ]
  },
  {
   "cell_type": "code",
   "execution_count": null,
   "id": "26",
   "metadata": {},
   "outputs": [],
   "source": [
    "df.filter(regex = \"1|2\").query(\"name=='TO_RURWELLS' or name=='TO_MNIWELLS' or name=='TO_FARM_WELLS'\")"
   ]
  },
  {
   "cell_type": "code",
   "execution_count": null,
   "id": "27",
   "metadata": {},
   "outputs": [],
   "source": [
    "df.filter(regex = \"1|2\").query(\"name=='TO_RURWELLS' or name=='TO_MNIWELLS' or name=='TO_FARM_WELLS'\").sum(axis = 1).to_frame('AguaCal').unstack().plot(drawstyle = 'steps-post',title = 'Agua Caliente Pumping')"
   ]
  },
  {
   "cell_type": "code",
   "execution_count": null,
   "id": "28",
   "metadata": {},
   "outputs": [],
   "source": []
  },
  {
   "cell_type": "code",
   "execution_count": null,
   "id": "29",
   "metadata": {},
   "outputs": [],
   "source": [
    "df.filter(regex = 'AguaCal').filter(regex = \"4|5\").query(\"name=='TO_RURWELLS' or name=='TO_MNIWELLS' or name=='TO_FARM_WELLS'\").sum(axis = 1).to_frame('AguaCal').unstack().plot()"
   ]
  },
  {
   "cell_type": "code",
   "execution_count": null,
   "id": "30",
   "metadata": {},
   "outputs": [],
   "source": [
    "df.filter(regex = 'AguaCal').filter(regex = \"2|3|4|5\").query(\"name=='TO_RURWELLS' or name=='TO_MNIWELLS' or name=='TO_FARM_WELLS'\").sum(axis = 1).to_frame('AguaCal').unstack().plot()"
   ]
  },
  {
   "cell_type": "code",
   "execution_count": null,
   "id": "31",
   "metadata": {},
   "outputs": [],
   "source": [
    "[x for x in df.index.get_level_values(1).unique() if 'FARM' in x]"
   ]
  },
  {
   "cell_type": "code",
   "execution_count": null,
   "id": "32",
   "metadata": {},
   "outputs": [],
   "source": []
  },
  {
   "cell_type": "code",
   "execution_count": null,
   "id": "33",
   "metadata": {},
   "outputs": [],
   "source": []
  }
 ],
 "metadata": {
  "kernelspec": {
   "display_name": "Python 3 (ipykernel)",
   "language": "python",
   "name": "python3"
  },
  "language_info": {
   "codemirror_mode": {
    "name": "ipython",
    "version": 3
   },
   "file_extension": ".py",
   "mimetype": "text/x-python",
   "name": "python",
   "nbconvert_exporter": "python",
   "pygments_lexer": "ipython3",
   "version": "3.9.19"
  }
 },
 "nbformat": 4,
 "nbformat_minor": 5
}
